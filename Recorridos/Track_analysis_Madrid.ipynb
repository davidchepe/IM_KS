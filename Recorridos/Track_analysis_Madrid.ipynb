{
 "cells": [
  {
   "cell_type": "code",
   "execution_count": 1,
   "metadata": {},
   "outputs": [
    {
     "name": "stdout",
     "output_type": "stream",
     "text": [
      "Puntos cargados: 8421\n"
     ]
    }
   ],
   "source": [
    "#PASO_1\n",
    "#Importamos un xml\n",
    "#Exportamos una lista con [cont, lat, lon, ele ]\n",
    "\n",
    "from xml.dom.minidom import parse\n",
    "import xml.dom.minidom\n",
    "import numpy as np\n",
    "\n",
    "\n",
    "#DOMTree = xml.dom.minidom.parse(\"182k-bike-ironman-lanzarote-2012.xml\")\n",
    "DOMTree = xml.dom.minidom.parse(\"challenge-madrid.xml\")\n",
    "\n",
    "collection = DOMTree.documentElement\n",
    "\n",
    "trkpts = collection.getElementsByTagName(\"trkpt\")\n",
    "list_track = []\n",
    "\n",
    "count=0\n",
    "for trkpt in trkpts:\n",
    "    count +=1\n",
    "    if trkpt.hasAttribute(\"lat\"):\n",
    "      lat = float(trkpt.getAttribute(\"lat\"))\n",
    "    if trkpt.hasAttribute(\"lon\"):\n",
    "      lon = float(trkpt.getAttribute(\"lon\"))\n",
    "    \n",
    "    ele = float(trkpt.getElementsByTagName(\"ele\")[0].firstChild.nodeValue)\n",
    "    \n",
    "    #time = trkpt.getElementsByTagName(\"time\")[0].firstChild.nodeValue\n",
    "    #fecha = str.split(time,\"T\")[0]\n",
    "    #time_seg = int(str.split(str.replace(str.split(time,\"T\")[1],\"Z\",\"\"),\":\")[0])*3600+int(str.split(str.replace(str.split(time,\"T\")[1],\"Z\",\"\"),\":\")[1])*60+int(str.split(str.replace(str.split(time,\"T\")[1],\"Z\",\"\"),\":\")[2])\n",
    "   \n",
    "    list_track.append([0, 0, 0, lat, lon, ele ])\n",
    "\n",
    "print (\"Puntos cargados: %d\" %count)\n",
    "\n",
    "\n",
    "#lista_distancia = calcula_distancia(list_track)\n",
    "\n",
    "#lista_tramos(lista_distancia)\n"
   ]
  },
  {
   "cell_type": "code",
   "execution_count": 2,
   "metadata": {
    "collapsed": true
   },
   "outputs": [],
   "source": [
    "#PASO_2\n",
    "#CREAMOS LA FUNCION QUE DADA UNA LISTA CALCULA LA DISTANCIA ENTRE PUNTOS DADA SU LAT Y LON\n",
    "#Exportamos una lista con [time, fecha, time_seg, lat, lon, ele, dist, time_elapse, desnivel, acum_dis ]\n",
    "\n",
    "def calcula_distancia(lista):\n",
    "    from geopy.distance import distance\n",
    "\n",
    "    from geopy import Point\n",
    "    dist_array = []\n",
    "    dist_array.append([lista[0][0],lista[0][1],lista[0][2],lista[0][3],lista[0][4],lista[0][5],0,0,0,0])\n",
    "    acum_dist = 0\n",
    "        \n",
    "    i=1\n",
    "    while i < len(lista):\n",
    "        #print(\"Punto %d\" %i)\n",
    "        punto1 = Point(lista[i-1][3], lista[i-1][4])\n",
    "        punto2 = Point(lista[i][3], lista[i][4])\n",
    "        #print(punto1, punto2)\n",
    "        dist = distance(punto1, punto2).m\n",
    "        acum_dist = acum_dist + dist\n",
    "        time_elapse = lista[i][2]-lista[i-1][2]\n",
    "        desnivel = lista[i][5]-lista[i-1][5]\n",
    "        #print(\"Distancia en km: %d\" %dist)\n",
    "        dist_array.append([lista[i][0],lista[i][1],lista[i][2],lista[i][3],lista[i][4],lista[i][5],dist,time_elapse,desnivel,acum_dist])\n",
    "        i+=1\n",
    "    return dist_array"
   ]
  },
  {
   "cell_type": "code",
   "execution_count": 3,
   "metadata": {
    "collapsed": true
   },
   "outputs": [],
   "source": [
    "#PASO_3\n",
    "#DADA UNA LISTA CON [time, fecha, time_seg, lat, lon, ele, dist, time_elapse, desnivel, acum_dis ] ITERAMOS...\n",
    "#\n",
    "\n",
    "def lista_tramos(lista):\n",
    "    import math as mt\n",
    "    import pandas as pd\n",
    "    from scipy.signal import savgol_filter\n",
    "\n",
    "    df = pd.DataFrame(lista)\n",
    "\n",
    "    df.columns = [\"tiempo\",\"fecha\",\"time_seg\",\"lat\",\"lon\",\"ele\",\"dist\",\"time_elapse\",\"desnivel\",\"acum_dist\"]\n",
    "\n",
    "    axis_x = df[\"acum_dist\"]\n",
    "    axis_y = df[\"ele\"]\n",
    "    \n",
    "    #Aplicamos la funcion de filtro de señal para suavizar los tramos\n",
    "    axis_yhat = savgol_filter(axis_y, 31, 2)\n",
    "    df[\"new_ele\"] = axis_yhat\n",
    "\n",
    "    #Calculo de tramos continuos de subida-bajada\n",
    "    \n",
    "    tramos = [0]\n",
    "    tramo = 0\n",
    "    pendiente = 0\n",
    "    pendiente_ant = 0\n",
    "\n",
    "    i = 1\n",
    "    print(\"Entramos en el While1 %d\" % len(df.index))\n",
    "    while i < len(df.index):\n",
    "        #print(\"punto = %d y tramo = %d\" % (i, tramo))\n",
    "        pendiente = df.iloc[i][\"new_ele\"]-df.iloc[i-1][\"new_ele\"]\n",
    "        \n",
    "        if pendiente * pendiente_ant >=0:\n",
    "            tramos.append(tramo)\n",
    "        else:\n",
    "            tramo +=1\n",
    "            tramos.append(tramo)\n",
    "        i+=1\n",
    "        pendiente_ant = pendiente\n",
    "      \n",
    "    print(\"tramos : %d\" % len(tramos))\n",
    "    print(\"Salimos del While\")\n",
    "    df[\"tramo\"] = tramos\n",
    "    \n",
    "    #Calculo de tramos de 100m\n",
    "    \n",
    "    tramos_100 = [0]\n",
    "    tramo = 0\n",
    "    acum_dist = 0\n",
    "    i = 1\n",
    "    \n",
    "    print(\"Entramos en el While2 %d\" % len(df.index))\n",
    "    \n",
    "    while i < len(df.index):\n",
    "        acum_dist = df.iloc[i-1][\"acum_dist\"]\n",
    "        tramo = mt.floor(acum_dist/100)\n",
    "        tramos_100.append(tramo)\n",
    "        i +=1\n",
    "    print(\"tramos_100m : %d\" % len(tramos_100))\n",
    "    print(\"Salimos del While2\")\n",
    "    df[\"tramos_100\"] = tramos_100\n",
    "    \n",
    "    print(\"Escribimos fichero\")\n",
    "    writer = pd.ExcelWriter('output.xlsx')\n",
    "    df.to_excel(writer,'Hoja_1')\n",
    "    writer.save()\n",
    "    print(\"Fin\")\n",
    "            \n",
    "    return\n"
   ]
  },
  {
   "cell_type": "code",
   "execution_count": 4,
   "metadata": {
    "collapsed": true
   },
   "outputs": [],
   "source": [
    "lista_distancia = calcula_distancia(list_track)"
   ]
  },
  {
   "cell_type": "code",
   "execution_count": 5,
   "metadata": {},
   "outputs": [
    {
     "name": "stdout",
     "output_type": "stream",
     "text": [
      "Entramos en el While1 8421\n",
      "tramos : 8421\n",
      "Salimos del While\n",
      "Entramos en el While2 8421\n",
      "tramos_100m : 8421\n",
      "Salimos del While2\n",
      "Escribimos fichero\n",
      "Fin\n"
     ]
    }
   ],
   "source": [
    "lista_tramos(lista_distancia)"
   ]
  },
  {
   "cell_type": "code",
   "execution_count": null,
   "metadata": {
    "collapsed": true
   },
   "outputs": [],
   "source": []
  }
 ],
 "metadata": {
  "kernelspec": {
   "display_name": "Python 3",
   "language": "python",
   "name": "python3"
  },
  "language_info": {
   "codemirror_mode": {
    "name": "ipython",
    "version": 3
   },
   "file_extension": ".py",
   "mimetype": "text/x-python",
   "name": "python",
   "nbconvert_exporter": "python",
   "pygments_lexer": "ipython3",
   "version": "3.6.1"
  }
 },
 "nbformat": 4,
 "nbformat_minor": 2
}
