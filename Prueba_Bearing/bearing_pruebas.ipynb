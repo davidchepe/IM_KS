{
 "cells": [
  {
   "cell_type": "code",
   "execution_count": 1,
   "metadata": {
    "collapsed": true
   },
   "outputs": [],
   "source": [
    "#PRUEBAS CON ANGULOS"
   ]
  },
  {
   "cell_type": "code",
   "execution_count": 46,
   "metadata": {},
   "outputs": [],
   "source": [
    "#bc = bearing ciclista\n",
    "#bv = bearing viento\n",
    "bc = 90\n",
    "bv = 90\n",
    "\n",
    "import math as mt\n",
    "import random\n",
    "dif = mt.atan2(mt.sin(bc-bv+180), mt.cos(bc-bv+180))\n"
   ]
  },
  {
   "cell_type": "code",
   "execution_count": 47,
   "metadata": {},
   "outputs": [
    {
     "data": {
      "text/plain": [
       "-106.98604685322267"
      ]
     },
     "execution_count": 47,
     "metadata": {},
     "output_type": "execute_result"
    }
   ],
   "source": [
    "mt.atan2(mt.sin(bc-bv_mod), mt.cos(bc-bv_mod))*180/mt.pi"
   ]
  },
  {
   "cell_type": "code",
   "execution_count": 48,
   "metadata": {
    "scrolled": false
   },
   "outputs": [
    {
     "name": "stdout",
     "output_type": "stream",
     "text": [
      "0 4 184 184 -0.21513470736462095\n",
      "10 104 284 274 -0.7766669941024745\n",
      "20 124 304 284 0.3089940590981371\n",
      "30 124 304 274 -0.7766669941024745\n",
      "40 146 326 286 -0.9933869191569467\n",
      "50 64 244 194 0.711795928940826\n",
      "60 130 310 250 0.24098830528525864\n",
      "70 129 309 239 0.9715850561826999\n",
      "80 315 135 55 0.022126756261955736\n",
      "90 286 106 16 -0.9576594803233847\n",
      "100 360 180 80 -0.11038724383904756\n",
      "110 158 338 228 -0.23238842122852268\n",
      "120 69 249 129 -0.9811055226493881\n",
      "130 218 38 92 -0.626444447910339\n",
      "140 289 109 31 0.9147423578045313\n",
      "150 343 163 13 0.9074467814501962\n",
      "160 353 173 13 0.9074467814501962\n",
      "170 235 55 115 -0.3258098052199642\n",
      "180 269 89 91 -0.9943674609282015\n",
      "190 299 119 71 -0.3090227281660707\n",
      "200 180 360 160 -0.9756293127952373\n",
      "210 236 56 154 -0.9980810948185003\n",
      "220 360 180 40 -0.6669380616522619\n",
      "230 0 180 50 0.9649660284921133\n",
      "240 155 335 95 0.7301735609948197\n",
      "250 192 12 238 0.7241179868699296\n",
      "260 227 47 213 0.8090276252864301\n",
      "270 205 25 245 0.9990221465276736\n",
      "280 37 217 63 0.9858965815825497\n",
      "290 267 87 203 -0.35907242107165305\n",
      "300 29 209 91 -0.9943674609282015\n",
      "310 6 186 124 -0.09277620459766088\n",
      "320 202 22 298 -0.8998799744648526\n",
      "330 279 99 231 0.09280621889587708\n",
      "340 216 36 304 -0.7421744001016999\n",
      "350 47 227 123 -0.8879689066918555\n"
     ]
    }
   ],
   "source": [
    "for bc in range(0,360,10):\n",
    "    bv = randint(0,360)\n",
    "    if bv+180 > 360:\n",
    "        bv_mod = bv-180\n",
    "    else:\n",
    "        bv_mod = bv+180\n",
    "    dif = abs(min(bc-bv_mod,bv_mod-bc))\n",
    "    multiplicador_viento = mt.cos(dif)\n",
    "    print(bc, bv, bv_mod, dif, multiplicador_viento)\n",
    "    "
   ]
  },
  {
   "cell_type": "code",
   "execution_count": 67,
   "metadata": {
    "scrolled": true
   },
   "outputs": [
    {
     "name": "stdout",
     "output_type": "stream",
     "text": [
      "0 139 319 319 0.7547095802227719\n",
      "10 213 33 23 0.9205048534524404\n",
      "20 249 69 49 0.6560590289905073\n",
      "30 131 311 281 0.19080899537654425\n",
      "40 41 221 181 -0.9998476951563913\n",
      "50 155 335 285 0.2588190451025203\n",
      "60 173 353 293 0.3907311284892735\n",
      "70 11 191 121 -0.5150380749100543\n",
      "80 37 217 137 -0.7313537016191705\n",
      "90 247 67 23 0.9205048534524404\n",
      "100 5 185 85 0.08715574274765814\n",
      "110 58 238 128 -0.6156614753256583\n",
      "120 145 325 205 -0.90630778703665\n",
      "130 60 240 110 -0.3420201433256687\n",
      "140 159 339 199 -0.945518575599317\n",
      "150 332 152 2 0.9993908270190958\n",
      "160 18 198 38 0.7880107536067219\n",
      "170 319 139 31 0.8571673007021123\n",
      "180 34 214 34 0.8290375725550417\n",
      "190 69 249 59 0.5150380749100543\n",
      "200 139 319 119 -0.484809620246337\n",
      "210 78 258 48 0.6691306063588582\n",
      "220 108 288 68 0.3746065934159122\n",
      "230 219 39 191 -0.981627183447664\n",
      "240 38 218 22 0.9271838545667874\n",
      "250 313 133 117 -0.45399049973954675\n",
      "260 208 28 232 -0.6156614753256581\n",
      "270 73 253 17 0.9563047559630355\n",
      "280 358 178 102 -0.20791169081775934\n",
      "290 29 209 81 0.15643446504023092\n",
      "300 16 196 104 -0.24192189559966756\n",
      "310 88 268 42 0.7431448254773942\n",
      "320 164 344 24 0.9135454576426009\n",
      "330 128 308 22 0.9271838545667874\n",
      "340 182 2 338 0.9271838545667873\n",
      "350 163 343 7 0.992546151641322\n"
     ]
    }
   ],
   "source": [
    "random.seed(45)\n",
    "for bc in range(0,360,10):\n",
    "    bv = randint(0,360)\n",
    "    if bv+180 > 360:\n",
    "        bv_mod = bv-180\n",
    "    else:\n",
    "        bv_mod = bv+180\n",
    "    if bc > bv_mod:\n",
    "        dif = bc-bv_mod\n",
    "    else:\n",
    "        dif = bv_mod-bc\n",
    "        \n",
    "    multiplicador_viento = mt.cos(dif/(180/mt.pi))\n",
    "    print(bc, bv, bv_mod, dif, multiplicador_viento)\n",
    "    "
   ]
  },
  {
   "cell_type": "code",
   "execution_count": 65,
   "metadata": {},
   "outputs": [
    {
     "data": {
      "text/plain": [
       "0.9205048534524404"
      ]
     },
     "execution_count": 65,
     "metadata": {},
     "output_type": "execute_result"
    }
   ],
   "source": [
    "mt.cos(23/(180/mt.pi))"
   ]
  },
  {
   "cell_type": "code",
   "execution_count": 64,
   "metadata": {},
   "outputs": [
    {
     "data": {
      "text/plain": [
       "0.9205048534524404"
      ]
     },
     "execution_count": 64,
     "metadata": {},
     "output_type": "execute_result"
    }
   ],
   "source": [
    "mt.cos(-23/(180/mt.pi))"
   ]
  },
  {
   "cell_type": "code",
   "execution_count": 63,
   "metadata": {},
   "outputs": [
    {
     "data": {
      "text/plain": [
       "1.0"
      ]
     },
     "execution_count": 63,
     "metadata": {},
     "output_type": "execute_result"
    }
   ],
   "source": [
    "mt.cos(0)"
   ]
  },
  {
   "cell_type": "code",
   "execution_count": null,
   "metadata": {
    "collapsed": true
   },
   "outputs": [],
   "source": []
  }
 ],
 "metadata": {
  "kernelspec": {
   "display_name": "Python 3",
   "language": "python",
   "name": "python3"
  },
  "language_info": {
   "codemirror_mode": {
    "name": "ipython",
    "version": 3
   },
   "file_extension": ".py",
   "mimetype": "text/x-python",
   "name": "python",
   "nbconvert_exporter": "python",
   "pygments_lexer": "ipython3",
   "version": "3.6.1"
  }
 },
 "nbformat": 4,
 "nbformat_minor": 2
}
