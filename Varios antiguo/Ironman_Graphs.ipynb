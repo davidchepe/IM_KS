{
 "cells": [
  {
   "cell_type": "markdown",
   "metadata": {},
   "source": [
    "###  Ejecutamos el programa que calcula la regresion para luego plotear "
   ]
  },
  {
   "cell_type": "code",
   "execution_count": 3,
   "metadata": {
    "scrolled": true
   },
   "outputs": [
    {
     "name": "stderr",
     "output_type": "stream",
     "text": [
      "C:\\Users\\David\\Anaconda3\\lib\\site-packages\\statsmodels\\compat\\pandas.py:56: FutureWarning: The pandas.core.datetools module is deprecated and will be removed in a future version. Please use the pandas.tseries module instead.\n",
      "  from pandas.core import datetools\n"
     ]
    }
   ],
   "source": [
    "### Programita ###\n",
    "import pandas as pd\n",
    "import statsmodels.api as sm # import statsmodels \n",
    "\n",
    "ironmans = [\"Datos_Iroman_emilia-romagna_20170923_detail.xlsx\",\n",
    "           \"Datos_Iroman_copenhagen_20170820_detail.xlsx\",\n",
    "           \"Datos_Iroman_Barcelona_20161002_detail.xlsx\",\n",
    "           \"Datos_Iroman_frankfurt_20130707_detail.xlsx\",\n",
    "           \"Datos_Iroman_austria_20170702_detail.xlsx\",\n",
    "           \"Datos_Iroman_Lanzarote_20150523_detail.xlsx\",\n",
    "           \"Datos_Iroman_Lanzarote_20130518_detail.xlsx\",\n",
    "           \"Datos_Iroman_Lanzarote_20140517_detail.xlsx\",\n",
    "           \"Datos_Iroman_Lanzarote_20160521_detail.xlsx\",\n",
    "           \"Datos_Iroman_Lanzarote_20170520_detail.xlsx\"]\n",
    "final_data_ols = []\n",
    "for race in ironmans:\n",
    "    df = pd.read_excel(race)\n",
    "    df=df[df['overall_rank']!='---']\n",
    "    df=df[df['s_overal_rank']!='---']\n",
    "    df=df[df['b_overal_rank']!='---']\n",
    "    df=df[df['r_overal_rank']!='---']\n",
    "    dfxs = df.s_overal_rank.astype(int)\n",
    "    dfxb = df.b_overal_rank.astype(int)\n",
    "    #dfxr = df.r_overal_rank.astype(int)\n",
    "\n",
    "    data_r = df.run\n",
    "    list_run = [int(i[:2])*3600+int(i[3:5])*60+int(i[-2:]) if i!='---' else 0 for i in data_r]\n",
    "    dfxr = pd.DataFrame(list_run).rank().astype(int)\n",
    "\n",
    "\n",
    "\n",
    "    dfy = df.overall_rank.astype(int)\n",
    "\n",
    "    deflist=[]\n",
    "    for i in range (0, len(dfy)):\n",
    "        deflist.append([dfxs.values[i],dfxb.values[i],dfxr.values[i]])\n",
    "    \n",
    "    X = deflist\n",
    "    Xdf=pd.DataFrame(X)\n",
    "    Xdf[3]=Xdf.apply(lambda row:row[2][0],axis=1)\n",
    "    Xdf.head()\n",
    "    X=Xdf[[0,1,3]].values\n",
    "\n",
    "    \n",
    "    y = dfy\n",
    "    \n",
    "    #OLS\n",
    "    model_OLS = sm.OLS(y, X).fit()\n",
    "    predictions = model_OLS.predict(X)\n",
    "    model_OLS.summary2()\n",
    "\n",
    "    final_data_ols.append([race, model_OLS.params[0],model_OLS.params[1],model_OLS.params[2], model_OLS.rsquared, model_OLS.nobs])"
   ]
  },
  {
   "cell_type": "code",
   "execution_count": 117,
   "metadata": {},
   "outputs": [
    {
     "data": {
      "text/plain": [
       "['Datos_Iroman_Lanzarote_20170520_detail.xlsx',\n",
       " -0.038654364305325553,\n",
       " 0.6005344296812456,\n",
       " 0.44417282574715089,\n",
       " 0.99759482786851794,\n",
       " 1339.0]"
      ]
     },
     "execution_count": 117,
     "metadata": {},
     "output_type": "execute_result"
    }
   ],
   "source": [
    "final_data_ols[-1]"
   ]
  },
  {
   "cell_type": "markdown",
   "metadata": {},
   "source": [
    "## Ploteamos "
   ]
  },
  {
   "cell_type": "code",
   "execution_count": 14,
   "metadata": {},
   "outputs": [],
   "source": [
    "import plotly.graph_objs as go\n",
    "import plotly.plotly as py"
   ]
  },
  {
   "cell_type": "code",
   "execution_count": 124,
   "metadata": {},
   "outputs": [],
   "source": [
    "traza = go.Scatter3d(\n",
    "    x=Xdf[1].values,\n",
    "    y=Xdf[3].values,\n",
    "    z=Xdf[0].values,\n",
    "    mode=\"markers\",\n",
    "    marker=dict(\n",
    "        size=12,\n",
    "        line=dict(\n",
    "        color='r',\n",
    "        width=0.5\n",
    "        ),\n",
    "        opacity=0.8\n",
    "    )\n",
    ")\n",
    "                   \n",
    "                   \n",
    "data = [traza]"
   ]
  },
  {
   "cell_type": "code",
   "execution_count": 125,
   "metadata": {},
   "outputs": [],
   "source": [
    "layout = go.Layout(\n",
    "    title = 'Ironman Stats',\n",
    "    margin=dict(\n",
    "        l=0,\n",
    "        r=0,\n",
    "        b=0,\n",
    "        t=0\n",
    "    ),\n",
    "    xaxis=dict(\n",
    "        title='x Axis',\n",
    "        titlefont=dict(\n",
    "            family='Courier New, monospace',\n",
    "            size=18,\n",
    "            color='#7f7f7f'\n",
    "        )\n",
    "    )\n",
    ")\n",
    "\n",
    "fig = go.Figure(data=data, layout=layout)"
   ]
  },
  {
   "cell_type": "code",
   "execution_count": 126,
   "metadata": {},
   "outputs": [
    {
     "data": {
      "text/plain": [
       "'file://C:\\\\Users\\\\David\\\\Proyecto_Ironman_DataWeb\\\\Ironman_scatter_3d.html'"
      ]
     },
     "execution_count": 126,
     "metadata": {},
     "output_type": "execute_result"
    }
   ],
   "source": [
    "plotly.offline.plot(fig, filename='Ironman_scatter_3d.html')"
   ]
  },
  {
   "cell_type": "markdown",
   "metadata": {},
   "source": [
    "Continuar con Surface\n",
    "Labels en el Scatter"
   ]
  },
  {
   "cell_type": "code",
   "execution_count": null,
   "metadata": {
    "collapsed": true
   },
   "outputs": [],
   "source": []
  }
 ],
 "metadata": {
  "kernelspec": {
   "display_name": "Python 3",
   "language": "python",
   "name": "python3"
  },
  "language_info": {
   "codemirror_mode": {
    "name": "ipython",
    "version": 3
   },
   "file_extension": ".py",
   "mimetype": "text/x-python",
   "name": "python",
   "nbconvert_exporter": "python",
   "pygments_lexer": "ipython3",
   "version": "3.6.1"
  }
 },
 "nbformat": 4,
 "nbformat_minor": 2
}
