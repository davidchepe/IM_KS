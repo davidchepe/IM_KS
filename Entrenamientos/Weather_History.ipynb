{
 "cells": [
  {
   "cell_type": "markdown",
   "metadata": {},
   "source": [
    "# Este documento permite recuperar datos metereológicos de aeropuertos a través de su código ICAO. Recuperamos el viento y su dirección para ser usados en los distintos tramos de los recorridos"
   ]
  },
  {
   "cell_type": "markdown",
   "metadata": {},
   "source": [
    "### Código de recuperación de datos de Wunderground. Este documento está diseñado para ser llamado desde las funciones de entrenamiento y recuperar el tiempo en el día indicado\n",
    "\n",
    "Página de descarga: https://www.wunderground.com/history"
   ]
  },
  {
   "cell_type": "markdown",
   "metadata": {},
   "source": [
    "#### Pieza de codigo que se puede utilizar para recuperar independientemente la información de un aeropuerto en concreto"
   ]
  },
  {
   "cell_type": "raw",
   "metadata": {
    "collapsed": true
   },
   "source": [
    "#Parámetros\n",
    "\n",
    "#aeropuertos de test. Descomentar el aeropuerto que se quiera probar\n",
    "#aeropuerto = 'LIPC' #Cervia\n",
    "#aeropuerto = 'LEMG' #Marbella\n",
    "#aeropuerto = 'EDDF' #Frankfurt\n",
    "#aeropuerto = 'LEPA' #Palma\n",
    "#aeropuerto = 'GCRR' #Lanzaorte\n",
    "#aeropuerto = 'LEVT' #Vitoria\n",
    "#aeropuerto = 'LELC' #Murcia. San Javier\n",
    "#aeropuerto = 'EDDS' #Nuremberg\n",
    "aeropuerto = 'LEMD' #MadridBarajas\n",
    "\n",
    "#Variables\n",
    "#anio_ini. Año del que se quieren recuperar los datos\n",
    "#mes_ini. Mes del que se quieren recuperar los datos\n",
    "#dia_ini. Día del que se quieren recuperar los datos\n",
    "#num_dias. Usado para recuperar un mayor número de días a partir de día indicado en dia_ini\n",
    "#anios. Usado para recuperar un mayor número de años finalizando en el año indicado en anio_ini \n",
    "\n",
    "anio_ini = 2017\n",
    "mes_ini = 9\n",
    "dia_ini = 1\n",
    "num_dias = 30\n",
    "anios = 5"
   ]
  },
  {
   "cell_type": "code",
   "execution_count": 2,
   "metadata": {
    "collapsed": true,
    "scrolled": true
   },
   "outputs": [],
   "source": [
    "#Dependecias Externas\n",
    "\n",
    "import sys\n",
    "import requests\n",
    "from bs4 import BeautifulSoup\n",
    "import xlsxwriter\n",
    "import pandas as pd\n",
    "import time\n",
    "import datetime\n",
    "from metar.Metar import Metar\n"
   ]
  },
  {
   "cell_type": "code",
   "execution_count": 3,
   "metadata": {
    "collapsed": true
   },
   "outputs": [],
   "source": [
    "#Definición de Funciones\n",
    "\n",
    "#Función encargada de crear la lista de fechas a recuperar datos basada en las variables iniciales\n",
    "def lista_fecha(anio, mes, dia, dias):\n",
    "    datelist = pd.date_range(datetime.datetime(anio, mes, dia), periods=dias).tolist()\n",
    "    result = map(lambda x: x.to_pydatetime().date().strftime('%Y/%m/%d'), datelist)\n",
    "    return list(result)\n",
    "\n",
    "#Función encargada de conectarse a la url indicada y recuperar la informnación necesaria\n",
    "def leer_meteo(url):\n",
    "    headers = {\n",
    "    \"user-agent\": \"Mozilla/5.0 (Macintosh; Intel Mac OS X 10_7_5)\",\n",
    "    \"accept\": \"text/html,application/xhtml+xml,application/xml;q=0.9,*/*;q=0.8\",\n",
    "    \"accept-charset\": \"ISO-8859-1,utf-8;q=0.7,*;q=0.3\",\n",
    "    \"accept-encoding\": \"gzip,deflate,sdch\",\n",
    "    \"accept-language\": \"en-US,en;q=0.8\",\n",
    "    }\n",
    "\n",
    "    #Metemos las cookies para que el html que devuelva sea el que necesitamos. Este punto es necesario ya que de lo contrario, la página devuelve datos en un formato que no es el correcto\n",
    "    cook = dict(Prefs='FAVS:1|WXSN:1|PWSOBS:1|WPHO:1|PHOT:1|RADC:0|RADALL:0|HIST0:NULL|GIFT:1|SHOWMETAR:1|')\n",
    "    \n",
    "    r = requests.get(url, headers=headers, cookies=cook)\n",
    "    \n",
    "    if r.status_code != 200:\n",
    "        print(\"request denied\")\n",
    "        print(r.status_code)\n",
    "        sigue = 0\n",
    "\n",
    "    \n",
    "    soup = BeautifulSoup(r.text, 'html.parser')\n",
    "    lista_info = []\n",
    "    try:\n",
    "        table =  soup.select(\"#obsTable\")[0]\n",
    "        for tr in table.find_all('tr'):\n",
    "            for tds in tr.find_all('td', attrs={\"colspan\":\"12\"}):\n",
    "                lista_info.append(tds.text)\n",
    "                #print(tds.text)\n",
    "        return lista_info\n",
    "    except:\n",
    "        pass\n",
    "\n",
    "def filtrar_metars (lista):\n",
    "    result = []\n",
    "    try:\n",
    "        lista.sort()\n",
    "    \n",
    "        for linea in lista:\n",
    "            if linea[:5] == 'METAR':\n",
    "                result.append(linea)\n",
    "        return result\n",
    "    except:\n",
    "        pass\n",
    "\n",
    "def metar_parser(solo_metars, ubicacion, fecha):\n",
    "    metar = []\n",
    "    try:\n",
    "        for element in solo_metars:\n",
    "            lluvia = 0\n",
    "            dir_viento = 0\n",
    "            fuerza_viento = 0\n",
    "            temp = 0\n",
    "            \n",
    "            # Initialize a Metar object with the data from solo_metars\n",
    "            try:\n",
    "                obs = Metar(element)\n",
    "            except:\n",
    "                pass\n",
    "            \n",
    "            estacion = ubicacion\n",
    "\n",
    "            try:\n",
    "                h = \"00\"+str(obs.time.hour)\n",
    "                m = \"00\"+str(obs.time.minute)\n",
    "                hora = fecha+\" \"+h+\":\"+m[-2:]\n",
    "            except:\n",
    "                hora = ''\n",
    "\n",
    "            try:\n",
    "                temp = obs.temp.value('C')                  \n",
    "            except:\n",
    "                temp = ''\n",
    "\n",
    "            try:\n",
    "                if obs.wind_dir.value()==360.0:\n",
    "                    dir_viento = 0\n",
    "                else:\n",
    "                    dir_viento = obs.wind_dir.value()\n",
    "            except:\n",
    "                dir_viento = ''\n",
    "\n",
    "            try:\n",
    "                fuerza_viento = obs.wind_speed.value(\"KMH\")\n",
    "            except:\n",
    "                fuerza_viento = ''\n",
    "\n",
    "            try:\n",
    "                lluvia = obs.precip_1hr.string(\"in\")/0.061024\n",
    "            except:\n",
    "                lluvia = ''\n",
    "            \n",
    "            #print(estacion, hora, temp, fuerza_viento, dir_viento, lluvia)\n",
    "            metar.append([estacion, hora, temp, fuerza_viento, dir_viento, lluvia])\n",
    "        return metar\n",
    "    except:\n",
    "        pass\n"
   ]
  },
  {
   "cell_type": "raw",
   "metadata": {},
   "source": [
    "#Ejecucuón\n",
    "\n",
    "lista_df =[]\n",
    "for year in range(anios):\n",
    "    for dia in lista_fecha(anio_ini-year,mes_ini,dia_ini,num_dias):\n",
    "        print(dia)\n",
    "        url = 'https://www.wunderground.com/history/airport/'+aeropuerto+'/'+dia+'/DailyHistory.html'\n",
    "        print(url)\n",
    "        meteo_list = leer_meteo(url)\n",
    "        solo_metars = filtrar_metars(meteo_list)\n",
    "        info = metar_parser(solo_metars, aeropuerto, dia)\n",
    "        dfinfo = pd.DataFrame(info)\n",
    "        try:\n",
    "            dfinfo.columns = ['Estacion','Fecha_Hora','Temp','Fuerza_Viento','Direccion_Viento','Lluvia']\n",
    "            dfinfo['Fecha_Hora'] = pd.to_datetime(dfinfo['Fecha_Hora'])\n",
    "        except:\n",
    "            pass\n",
    "        \n",
    "        lista_df.append(dfinfo)\n",
    "print('fin bucle - guardando')\n",
    "dfresultado_final = pd.concat(lista_df)\n",
    "print('guardado - printing')\n",
    "dfresultado_final.to_excel(\"metars\"+aeropuerto+\".xls\")\n",
    "print('fin')\n"
   ]
  },
  {
   "cell_type": "markdown",
   "metadata": {},
   "source": [
    "# Probamos a hacer una funcion que recibiendo parámetros de Aeropuerto y fecha devuelva el DataFrame de ese día"
   ]
  },
  {
   "cell_type": "code",
   "execution_count": 4,
   "metadata": {
    "collapsed": true
   },
   "outputs": [],
   "source": [
    "def get_viento(aeropuerto,dia):\n",
    "    #Formato de fecha admitida \"2018/5/7\"\n",
    "    #print(dia)\n",
    "    #print(aeropuerto)\n",
    "    url = 'https://www.wunderground.com/history/airport/'+aeropuerto+'/'+dia+'/DailyHistory.html'\n",
    "    #print(url)\n",
    "    meteo_list = leer_meteo(url)\n",
    "    solo_metars = filtrar_metars(meteo_list)\n",
    "    info = metar_parser(solo_metars, aeropuerto, dia)\n",
    "    dfinfo = pd.DataFrame(info)\n",
    "    try:\n",
    "        dfinfo.columns = ['Estacion','Fecha_Hora','Temp','Fuerza_Viento','Direccion_Viento','Lluvia']\n",
    "        dfinfo['Fecha_Hora'] = pd.to_datetime(dfinfo['Fecha_Hora'])\n",
    "    except:\n",
    "        pass\n",
    "    \n",
    "    \n",
    "    out = dfinfo.convert_objects(convert_numeric=True)\n",
    "    out = out[out[\"Direccion_Viento\"].notnull()]\n",
    "    out = out[out[\"Fecha_Hora\"].dt.hour>=10]\n",
    "    out = out[out[\"Fecha_Hora\"].dt.hour<=20]\n",
    "    out = out.groupby(['Estacion'])[\"Fuerza_Viento\",\"Direccion_Viento\"].mean()\n",
    "    #print(out.dtypes)\n",
    "    list_out=list(out.values)\n",
    "    return list_out[0][0],list_out[0][1]\n",
    "#Devuelve Array[Fuerza, Velocidad]"
   ]
  },
  {
   "cell_type": "code",
   "execution_count": 5,
   "metadata": {},
   "outputs": [
    {
     "name": "stderr",
     "output_type": "stream",
     "text": [
      "C:\\Users\\David\\Anaconda3\\lib\\site-packages\\ipykernel_launcher.py:18: FutureWarning: convert_objects is deprecated.  Use the data-type specific converters pd.to_datetime, pd.to_timedelta and pd.to_numeric.\n"
     ]
    },
    {
     "data": {
      "text/plain": [
       "(8.4265927200000004, 180.0)"
      ]
     },
     "execution_count": 5,
     "metadata": {},
     "output_type": "execute_result"
    }
   ],
   "source": [
    "test = get_viento('LEMD',\"2018/5/7\")\n",
    "test"
   ]
  },
  {
   "cell_type": "code",
   "execution_count": null,
   "metadata": {
    "collapsed": true
   },
   "outputs": [],
   "source": []
  }
 ],
 "metadata": {
  "kernelspec": {
   "display_name": "Python 3",
   "language": "python",
   "name": "python3"
  },
  "language_info": {
   "codemirror_mode": {
    "name": "ipython",
    "version": 3
   },
   "file_extension": ".py",
   "mimetype": "text/x-python",
   "name": "python",
   "nbconvert_exporter": "python",
   "pygments_lexer": "ipython3",
   "version": "3.6.5"
  }
 },
 "nbformat": 4,
 "nbformat_minor": 2
}
