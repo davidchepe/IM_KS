{
 "cells": [
  {
   "cell_type": "markdown",
   "metadata": {},
   "source": [
    "# Memoria TFM Eduardo Hernanz - David Sánchez\n",
    "\n",
    "El presente documento trata de guiar paso a paso al lector para poder comprender las decisiones tomadas tanto a nivel de 'negocio' como técnico\n",
    "\n",
    "## Introducción\n",
    "\n",
    "El proyecto consiste en el desarrollo de un simulador que permita optimizar el tiempo empleado por un triatleta para recorrer el segmento de ciclismo de un triatlon\n",
    "\n",
    "Se ha seleccionado el segmento de ciclismo, puesto que es dónde habitualmente se desarrolla la estrategia en un Triathlon distancia Ironman (3,8km de natación, 180km de ciclismo y 42km de carrera). La mayoría de triatletas cuentan ya con potenciómetro en los relojes, que miden potencia, pulso, velocidad, altitud, tiempo, temperatura, etc\n",
    "\n",
    "Porqué es relevante? Los triatletas de distancia Ironman entrenan durante meses para preparar esta prueba. Normalmente el éxito o fracaso de un Ironman reside en la estrategia seguida durante el ciclismo. Por tanto, con el simulador, se pretende ayudar a los competidores a mejorar sus marcas, a clasificar para el Campeonato del Mundo en Hawaii o simplemente a terminar la prueba\n",
    "\n",
    "Actualmente no existe ningún simulador de este estilo, ni gratis ni de pago que permita desarrollar una estrategia de potencia personalizada. Existen algunas páginas que calculan datos teóricos de coeficientes aerodinámicos y de rozamiento con los que en teoría pueden calcularse velocidades teóricas, etc. Otras páginas se centran en proveer de una 'cheat sheet' de potencias basadas en datos teóricos\n",
    "\n",
    "**_Ver el documento 'info.txt' alojado en la carpeta Memoria para saber paquetes a instalar y dependencias tecnológicas_**\n",
    "\n",
    "Durante el Proyecto, se han desarrollado las siguientes piezas de código\n",
    "\n",
    "1 - Scraping de las condiciones climatológicas de los entrenamientos usados para entrenar el modeloVer el notebook ../Entrenamientos/Analisis Track (Machine Learning) N_files.ipynb\n",
    "\n",
    ">Ver el Notebook: ../Entrenamientos/Weather_History.ipynb\n",
    "\n",
    "2 - Limpieza y creación de 'features' en los entrenamientos\n",
    "Ver el Notebook: ../Entrenamientos/Analisis Track (Machine Learning) N_files.ipynb\n",
    "\n",
    "3 - Red Neuronal para estimar la velocidad media necesaria para recorrer un tramo en función de la potencia aplicada, el desnivel y el viento aparente\n",
    "\n",
    ">Ver más abajo el enlace al Notebook\n",
    "\n",
    "4 - Simulador que prueba sobre cada tramo del recorrido objetivo diferentes potencias con el fin de minimizar el tiempo total cumpliendo con una potencia media objetivo\n",
    "\n",
    ">Ver más abajo el enlace al Notebook\n",
    "\n",
    "## La Potencia\n",
    "\n",
    "La Potencia viene dada por la siguiente formula\n",
    "\n",
    "$P = \\frac{\\rho}{2}(V+wV)^2VCdA+(Cr+\\%)mgV$\n",
    "\n",
    "Dónde:\n",
    "\n",
    "P es la potencia necesaria\n",
    "\n",
    "$\\rho$ es la densidad del aire\n",
    "\n",
    "V es la velocidad\n",
    "\n",
    "wV es velocidad el viento\n",
    "\n",
    "Cd es el coeficiente de drag\n",
    "\n",
    "A es el área efectiva\n",
    "\n",
    "Cr es el coeficiente de rozamiento\n",
    "\n",
    "$\\%$ es la pendiente\n",
    "\n",
    "m es la masa total del conjunto bicicleta - ciclista\n",
    "\n",
    "**Para comprender la importancia de los factores que intervienen podemos dividirla en la potencia necesaria para vencer la resistencia aerodinámica y la potencia para vencer factores como el rozamiento y la gravedad**\n",
    "\n",
    "La potencia total es:\n",
    "\n",
    "$P = \\frac{\\rho}{2}(V+Wv)^2VCdA+(Cr+\\%)mgV$\n",
    "\n",
    "Y se puede descomponer en la potencia necesaria para vencer al viento y para vencer el rozamiento\n",
    "\n",
    "Potencia Aerodinámica: $Pa = \\frac{\\rho}{2}(V+Wv)^2VCdA$\n",
    "\n",
    "Potencia Rozamiento: $Pr = (Cr)mgV$\n",
    "\n",
    "Potencia Gravedad: $Pg = (\\%)mgV$"
   ]
  },
  {
   "cell_type": "code",
   "execution_count": 1,
   "metadata": {},
   "outputs": [
    {
     "data": {
      "text/html": [
       "<script>requirejs.config({paths: { 'plotly': ['https://cdn.plot.ly/plotly-latest.min']},});if(!window.Plotly) {{require(['plotly'],function(plotly) {window.Plotly=plotly;});}}</script>"
      ],
      "text/vnd.plotly.v1+html": [
       "<script>requirejs.config({paths: { 'plotly': ['https://cdn.plot.ly/plotly-latest.min']},});if(!window.Plotly) {{require(['plotly'],function(plotly) {window.Plotly=plotly;});}}</script>"
      ]
     },
     "metadata": {},
     "output_type": "display_data"
    }
   ],
   "source": [
    "import plotly as py\n",
    "import numpy as np\n",
    "import plotly.graph_objs as go\n",
    "import ipywidgets as widgets\n",
    "from IPython.display import display\n",
    "from IPython.core.display import HTML\n",
    "import math as mt\n",
    "py.offline.init_notebook_mode(connected=True)"
   ]
  },
  {
   "cell_type": "code",
   "execution_count": 2,
   "metadata": {
    "scrolled": false
   },
   "outputs": [
    {
     "data": {
      "application/vnd.jupyter.widget-view+json": {
       "model_id": "a0fe7a5277e84d87af385c1ee59b9301"
      }
     },
     "metadata": {},
     "output_type": "display_data"
    },
    {
     "data": {
      "text/plain": [
       "<function __main__.show_graph>"
      ]
     },
     "execution_count": 2,
     "metadata": {},
     "output_type": "execute_result"
    }
   ],
   "source": [
    "def show_graph(CdA,Pendiente,Viento):\n",
    "\n",
    "    V = np.arange(0,60,0.5)\n",
    "\n",
    "    ro = 1.2\n",
    "    #cda = 0.3\n",
    "    cr = 0.0033\n",
    "    m = 90\n",
    "    g = 9.81\n",
    "    s = mt.sin(mt.atan(Pendiente/100))\n",
    "\n",
    "    Pa = ro/2*CdA*((V/3.6)+(Viento/3.6))**2*(V/3.6)\n",
    "    Pr = (cr)*m*g*(V/3.6)\n",
    "    Pg = (s)*m*g*(V/3.6)\n",
    "    Pt = Pa + Pr + Pg\n",
    "\n",
    "    trace0 = go.Scatter(\n",
    "        x=V,\n",
    "        y=Pa,\n",
    "        mode='lines',\n",
    "        name='Pot_aerodinamica'\n",
    "    )\n",
    "\n",
    "    trace1 = go.Scatter(\n",
    "        x=V,\n",
    "        y=Pr,\n",
    "        mode='lines',\n",
    "        name='Pot_rozamiento'\n",
    "    )\n",
    "\n",
    "    trace2 = go.Scatter(\n",
    "        x=V,\n",
    "        y=Pg,\n",
    "        mode='lines',\n",
    "        name='Pot_pendinte'\n",
    "    )\n",
    "    \n",
    "    trace3 = go.Scatter(\n",
    "        \n",
    "        x=V,\n",
    "        y=Pt,\n",
    "        mode='lines',\n",
    "        name='Pot_total'\n",
    "    )\n",
    "    \n",
    "    layout = go.Layout(title='Simulador de potencia (Potencia vs. Velocidad)')\n",
    "    \n",
    "    data = [trace0, trace1, trace2, trace3]\n",
    "\n",
    "    fig = dict(data=data, layout=layout)\n",
    "\n",
    "    py.offline.iplot(fig)\n",
    "widgets.interact(show_graph, CdA=(0.1,0.5,0.05), Pendiente=(-10,10,0.5), Viento=(-15,15,1))"
   ]
  },
  {
   "cell_type": "markdown",
   "metadata": {},
   "source": [
    "**Primeras Conclusiones acerca de la Potencia**\n",
    "* Como puede observarse en el gráfico anterior, la potencia necesaria para incrementar la velocidad depende sobre todo de la velocidad a la que estemos circulando. A más velocidad, mayor incremento de potencia para ganar 1 km/h\n",
    "* Si además hay aire en contra (Viento>0), el problema se agrava _(recodar que el viento va elevado al cuadrado)_\n",
    "* En cambio, con el % de pendiente, se ve que los watios 'invertidos' se transforman casi linealmente en velocidad, puesto que la parte aerodinámica tiene menos influencia al circular a baja velocidad\n",
    "* Por tanto, parece que existe una oportunidad clara de repartir los watios del ciclista en los tramos más favorables, ahorrando en aquellos en los que los vamos a perder mayoritariamente luchando contra el viento o la pendiente\n",
    "* Si ahora pintamos sólamente la potencia aerodinámica y vemos como varía en función de la velocidad y el viento, obtenemos lo siguiente"
   ]
  },
  {
   "cell_type": "code",
   "execution_count": 3,
   "metadata": {
    "scrolled": false
   },
   "outputs": [
    {
     "data": {
      "application/vnd.jupyter.widget-view+json": {
       "model_id": "c342a976464a4918a10e43fe264bd6e5"
      }
     },
     "metadata": {},
     "output_type": "display_data"
    },
    {
     "data": {
      "text/plain": [
       "<function __main__.show_graph>"
      ]
     },
     "execution_count": 3,
     "metadata": {},
     "output_type": "execute_result"
    }
   ],
   "source": [
    "def show_graph():\n",
    "\n",
    "    V = np.arange(30,50,1)\n",
    "    wind = np.arange(-10,10,1)\n",
    "\n",
    "    ro = 1.2\n",
    "    cda = 0.25\n",
    "    \n",
    "    z = []\n",
    "\n",
    "    for v in V:\n",
    "        new_row = []\n",
    "        for w in wind:\n",
    "            new_row.append( ro/2*cda*((v/3.6)+(w/3.6))**2*(v/3.6) )\n",
    "        z.append(list(new_row))\n",
    "\n",
    "    trace0 = go.Heatmap(\n",
    "        x=V,\n",
    "        y=wind,\n",
    "        z=z,\n",
    "        colorscale='Jet'\n",
    "    )\n",
    "\n",
    "    data = [trace0]\n",
    "    \n",
    "    layout = go.Layout(title='Análisis de Potencia Aerodinámica (Viento(y) vs Velocidad(x))')\n",
    "\n",
    "    fig = dict(data=data, layout=layout)\n",
    "\n",
    "    py.offline.iplot(fig)\n",
    "\n",
    "widgets.interact(show_graph)"
   ]
  },
  {
   "cell_type": "markdown",
   "metadata": {
    "collapsed": true
   },
   "source": [
    "**Podemos apreciar como con aire en contra, debemos reducir mucho la velocidad para mantener la potencia constante**\n",
    "\n",
    "Una vez que hemos visto los factores que intervienen en la problemática, tenemos que tratar de obtener los valores de CdA y Cr\n",
    "\n",
    "En el notebook \"RandomForestRegressor (CdA y Cr, P en funcion V)\" se trata de obtener valores de CdA y Cr. Sin embargo, los resultados no son concluyentes, debido a que las mediciones de CdA y Cr deben realizarse en condiciones controladas\n",
    "\n",
    ">Ver el Notebook: ../Machine Learning/RandomForestRegressor (CdA y Cr, P en funcion V).ipynb\n",
    "\n",
    "Tras los intentos de averiguar el CdA y el Cr y dado que el objetivo final es tener una alta capacidad de predicción, hemos cambiado el enfoque. Por este motivo se han probado redes neuronales que han demostrado tener un poder predictivo muy alto\n",
    "\n",
    ">Ver el Notebook: ../RNN/TF.ipynb\n",
    "\n",
    "En este punto, ya tenemos los datos analizados, limpios, enriquecidos y hemos desarrollado una Red Neuronal que nos da unos buenos valores predictivos\n",
    "\n",
    "Podemos por tanto, plantearnos desarrollar un simulador que asigne potencias a cada tramo de forma que se minimice el tiempo total cumpliendo ciertas restricciones de potencia\n",
    "\n",
    "Sin embargo antes de entrar en este punto conviene explicar el método seguido para inicializar las potencias de simulación. No es lo mismo una etapa con un puerto de 1h de duración y luego una bajada, que una en la que ese mismo desnivel se recorra en sucesivos toboganes por ser una carretera ondulada\n"
   ]
  },
  {
   "cell_type": "code",
   "execution_count": 4,
   "metadata": {},
   "outputs": [
    {
     "data": {
      "application/vnd.jupyter.widget-view+json": {
       "model_id": "a452222cd448466d8e608a7baa3b6b6f"
      }
     },
     "metadata": {},
     "output_type": "display_data"
    },
    {
     "data": {
      "text/plain": [
       "<function __main__.graph>"
      ]
     },
     "execution_count": 4,
     "metadata": {},
     "output_type": "execute_result"
    }
   ],
   "source": [
    "def graph(pot_min, pot_max, ff_1, ff_2):\n",
    "    porc = np.arange(-10,10,0.5)\n",
    "\n",
    "    potencia = pot_min+(pot_max-pot_min)/(1+ff_1*np.e**(ff_2*porc*-1))\n",
    "    potencia_min = pot_min+(pot_max-25-pot_min)/(1+ff_1*np.e**(ff_2*porc*-1))\n",
    "    potencia_max = pot_min+25+(pot_max-pot_min-25)/(1+ff_1*np.e**(ff_2*porc*-1))\n",
    "\n",
    "    trace0 = go.Scatter(        \n",
    "            x=porc,\n",
    "            y=potencia,\n",
    "            mode='lines',\n",
    "            name='Potencia_obj')\n",
    "\n",
    "    trace1 = go.Scatter(        \n",
    "            x=porc,\n",
    "            y=potencia_min,\n",
    "            mode='lines',\n",
    "            name='Potencia_min')\n",
    "\n",
    "    trace2 = go.Scatter(        \n",
    "            x=porc,\n",
    "            y=potencia_max,\n",
    "            mode='lines',\n",
    "            name='Potencia_max')\n",
    "\n",
    "\n",
    "\n",
    "\n",
    "    layout = go.Layout(title='Sigmoide de potencia')\n",
    "\n",
    "    data = [trace0, trace1, trace2]\n",
    "\n",
    "    fig = dict(data=data, layout=layout)\n",
    "\n",
    "    py.offline.iplot(fig)\n",
    "    \n",
    "pot_min_value=widgets.IntSlider(min=40,max=100,step=5, value=65)\n",
    "pot_max_value=widgets.IntSlider(min=250,max=300,step=5, value=285)\n",
    "ff_1_value=widgets.FloatSlider(min=0.1,max=1,step=0.1, value=0.6)\n",
    "ff_2_value=widgets.FloatSlider(min=0.1,max=1,step=0.1, value=0.35)\n",
    "    \n",
    "widgets.interact(graph, pot_min=pot_min_value, pot_max=pot_max_value, ff_1=ff_1_value, ff_2=ff_2_value)"
   ]
  },
  {
   "cell_type": "markdown",
   "metadata": {
    "collapsed": true
   },
   "source": [
    "**Uso de la Sigmoide de Potencia**\n",
    "* Supongamos un ciclista con una potencia máxima para la simulación de 275w y una potencia mínima de 70w. Podemos jugar con los factores de forma de la sigmoide para variar la forma en la que inicializamos la potencia\n",
    "* El factor_forma_1 (ff_1) nos sirve para desplazar hacia las pendientes positivas el momento en que aumenta la potencia del ciclista. Usaremos valores grandes cuando por ejemplo, las bajadas del recorrido sean muy curveadas en las que no tiene sentido tratar de entregar potencia cuesta abajo\n",
    "* El factor_forma_2 (ff_2) nos sirve aumentar la pendiente con la que pasamos de valores de potencia bajos a altos. Usaremos valores elevados en perfiles muy llanos, puesto que la mayor parte del tiempo la pasaremos en torno al 0%. En etapas de montaña, sería un 'suicidio' deportivo usar un ff_2 alto, pues nos haría pasar muchas horas en valores máximos de potencia que no es posible aguantar\n",
    "* En general estos 4 valores, junto con el resultado de la simulación que se explica más adelante, deben ser usados de forma iterativa hasta obtener unos valores que aporten confianza al entrenador y al triatleta\n",
    "\n",
    ">Ver el Notebook: ../Machine Learning/Warm-Start.ipynb\n",
    "\n",
    "\n",
    "Ya tenemos todos los componentes para pasar a la simulación\n",
    ">Ver el Notebook: ../Simulador/Simulacion.ipynb"
   ]
  },
  {
   "cell_type": "markdown",
   "metadata": {},
   "source": [
    "**A continuación mostramos 2 ejemplos de uso del Simulador**\n",
    "\n",
    "* Simulación de una prueba ya realizada. En este caso es el _Half-Ironman_ de Marbella celebrado el 29-Abril\n",
    "* El segundo ejemplo, genera el plan de competición para el Ecotrimad, un triatlon distancia _Short (37kms)_ en el que participaré el próximo 16-Junio. El archivo orígen con las altimetrías ha sido descargado de Wikiloc\n",
    "\n",
    "En ambos casos se simula una potencia media objetivo de 230w y se añade como restricción no estar más de 4.200 segundos por encima de 240w _(Dato basado en el histórico de entrenamiento personal)_\n",
    "\n",
    "**Marbella**\n",
    "------------\n",
    "Marbella se trata de un recorrido de perfil montañoso, con menos metros en torno al 0% que en otro tipo de carreras, por lo que generalmente se compite 'a tope' o se está descendiendo\n",
    ">Se simula con Potencia_minima = 150, Potencia_maxima = 290, factor_forma_1 = 0.7 y factor_forma_2 = 0.2\n",
    "\n",
    "![alt text](img/Marbella_Hist.PNG \"Histograma Marbella\")\n",
    "\n",
    "Vemos un Histograma con mayoría de tramos cercanos al 0%, pero con muchos valores de pendientes altas y bajas\n",
    "\n",
    "![alt text](img/Marbella_Sig.PNG \"Potencia entrada a Simulación\")\n",
    "\n",
    "Usamos una Sigmoide más _tumbada_ para no incurrir en altas potencias en los valores positivos\n",
    "\n",
    "![alt text](img/Marbella_Sim.PNG \"Fin de Simulación\")\n",
    "\n",
    "Tras la primera Simulación, obtenemos los 50 casos favorables que buscamos en 74 intentos\n",
    "\n",
    "![alt text](img/Marbella_Scatter.PNG \"Scatter Tiempo vs Potencia\")\n",
    "\n",
    "Como es lógico, vemos que a mayor potencia menor tiempo\n",
    "\n",
    "![alt text](img/Marbella_Mejor.PNG \"Hist Potencia del mejor resultado\")\n",
    "\n",
    "Este Histograma muestra la distribución de potencia del mejor resultado que arroja un tiempo de 11.460 segundos\n",
    "\n",
    "![alt text](img/Marbella_Scatter_Pend_Pot.PNG \"Scatter Pendiente vs Potencia\")\n",
    "\n",
    "Vemos las Potencias propuestas en función de la pendiente\n",
    "\n",
    "![alt text](img/Marbella_Scatter_Viento_Pot.PNG \"Scatter Viento vs Pendiente\")\n",
    "\n",
    "Si nos quedamos con un rango 'estrecho', se observa que la diferencia está provocada por el hecho de que el viento sea favorable o en contra. La Potencia está coloreada de forma que los valores claros son los de mayor Potencia\n",
    "\n",
    "![alt text](img/Marbella_Sim_2.PNG \"Fin de Simulación Segunda Ronda\")\n",
    "\n",
    "Tras la segunda Simulación, ponemos como restricción obtener 15 resultados mejores que el anterior obtenido que es usado para inicializar la Simulación. En este caso hemos obtenido un resuldado de **11.436 segundos** que apenas mejora en 24 segundos el resultado anterior\n",
    "\n",
    ">Para mayor detalle del resultado consultar el libro de Tableau **_Resultado Simulacion GPX Standard_**\n",
    "\n",
    "\n",
    "**Ecotrimad**\n",
    "-------------\n",
    "\n",
    "Al igual que Marbella se trata de un recorrido de perfil montañoso, con pocos metros en torno al 0%, por lo que también se compite 'a tope' o se está descendiendo. En este caso, intentaremos generar una estrategia que permita descansar algo más las piernas para poder correr mejor después\n",
    ">Se simula con Potencia_minima = 65, Potencia_maxima = 300, factor_forma_1 = 0.5 y factor_forma_2 = 0.2\n",
    "\n",
    "![alt text](img/Eco_Hist.PNG \"Histograma Marbella\")\n",
    "\n",
    "Vemos un Histograma con más tramos cercanos al 0% y con una zona de bajadas en torno al -3% \n",
    "\n",
    "![alt text](img/Eco_Sig.PNG \"Potencia entrada a Simulación\")\n",
    "\n",
    "Usamos una Sigmoide algo menos _tumbada_ que en Marbella, ya que tenemos mayor rango de Potencias a recorrer\n",
    "\n",
    "![alt text](img/Eco_Sim.PNG \"Fin de Simulación\")\n",
    "\n",
    "Tras la primera Simulación, obtenemos los 50 casos favorables con sólo 3 fallos. Hemos necesitado menos intentos porque las simulaciones han sido en menor medida rechazadas por incumplir la restricción explicada al inicio\n",
    "\n",
    "![alt text](img/Eco_Scatter.PNG \"Scatter Tiempo vs Potencia\")\n",
    "\n",
    "Al igual que en Marbella, vemos que a mayor potencia menor tiempo\n",
    "\n",
    "![alt text](img/Eco_Mejor.PNG \"Hist Potencia del mejor resultado\")\n",
    "\n",
    "Este Histograma muestra la distribución de potencia del mejor resultado que arroja un tiempo de 5.080 segundos\n",
    "\n",
    "![alt text](img/Eco_Scatter_Pend_Pot.PNG \"Scatter Pendiente vs Potencia\")\n",
    "\n",
    "Vemos las Potencias propuestas en función de la pendiente\n",
    "\n",
    "![alt text](img/Eco_Scatter_Viento_Pot.PNG \"Scatter Viento vs Pendiente\")\n",
    "\n",
    "Nuevamente observamos los tramos cercanos al 0% y observamos de nuevo una propuesta de mayores potencias cuando el viento es favorable\n",
    "\n",
    "![alt text](img/Eco_Sim2.PNG \"Fin de Simulación Segunda Ronda\")\n",
    "\n",
    "Realizamos una segunda pasada al Simulador y en este caso hemos obtenido un resuldado de **5.062 segundos** que mejora en 18 segundos el resultado anterior\n",
    "\n",
    ">Para mayor detalle del resultado consultar el libro de Tableau **_Resultado Simulacion GPX Competicion Personal_**\n",
    "\n",
    "A partir de estos primeros resultados podría repetirse tantas veces como se quisiera el proceso e ir refinando el resultado\n"
   ]
  },
  {
   "cell_type": "code",
   "execution_count": null,
   "metadata": {
    "collapsed": true
   },
   "outputs": [],
   "source": []
  }
 ],
 "metadata": {
  "kernelspec": {
   "display_name": "Python 3",
   "language": "python",
   "name": "python3"
  },
  "language_info": {
   "codemirror_mode": {
    "name": "ipython",
    "version": 3
   },
   "file_extension": ".py",
   "mimetype": "text/x-python",
   "name": "python",
   "nbconvert_exporter": "python",
   "pygments_lexer": "ipython3",
   "version": "3.6.1"
  }
 },
 "nbformat": 4,
 "nbformat_minor": 2
}
