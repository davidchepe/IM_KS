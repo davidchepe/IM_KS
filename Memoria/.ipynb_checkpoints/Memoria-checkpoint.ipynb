{
 "cells": [
  {
   "cell_type": "markdown",
   "metadata": {},
   "source": [
    "# Memoria TFM Eduardo Hernanz - David Sánchez\n",
    "\n",
    "### El presente documento trata de guiar paso a paso al lector para poder comprender las decisiones tomadas tanto a nivel de 'negocio' como técnico\n",
    "### El proyecto consiste en el desarrollo de un simulador que permita optimizar el tiempo empleado por un triatleta para recorrer el segmento de ciclismo de un triatlon\n",
    "### Como requisito es necesario contar con un potenciómetro instalado en la bicicleta que medirá el grado de esfuerzo realizado\n",
    "### Asímismo, el simulador adaptará la estrategia de potencias según los tramos caracterizados por su pendiente y viento aparente, dando una distribución de potencias que cumpla con una media previamente definida por el usuario y no sobrepasando en ningún momento una potencia máxima\n",
    "\n",
    "#### Para conseguir este resultado, se han desarrollado las siguientes piezas de código\n",
    "#### 0 - Requisitos: \n",
    "Entornos:\n",
    "\n",
    "    Python 3.6\n",
    "\n",
    "    Anaconda 5.2\n",
    "\n",
    "Lista de paquetes y orden necesarios (pip install):\n",
    "\n",
    "    msgpack\n",
    "\n",
    "    geopy\n",
    "\n",
    "    ipynb\n",
    "\n",
    "    python-metar\n",
    "\n",
    "    tensorflow\n",
    "\n",
    "    keras\n",
    "    \n",
    "    plotly\n",
    "   \n",
    "Conexión a internet para ejecutar la parte de Análisis Track puesto que se conecta para recuperar la información climática\n",
    "#### 1 - Scraping de las condiciones climatológicas de los entrenamientos usados para entrenar el modeloVer el notebook ../Entrenamientos/Analisis Track (Machine Learning) N_files.ipynb\n",
    "Ver el Notebook: ../Entrenamientos/Weather_History.ipynb\n",
    "#### 2 - Limpieza y creación de 'features' en los entrenamientos\n",
    "Ver el Notebook: ../Entrenamientos/Analisis Track (Machine Learning) N_files.ipynb\n",
    "#### 3 - Red Neuronal para estimar la velocidad media necesaria para recorrer un tramo en función de la potencia aplicada, el desnivel y el viento aparente\n",
    "Ver más abajo\n",
    "#### 4 - Simulador que prueba sobre cada tramo del recorrido objetivo diferentes potencias con el fin de minimizar el tiempo total cumpliendo con una potencia media objetivo\n",
    "Ver más abajo"
   ]
  },
  {
   "cell_type": "markdown",
   "metadata": {
    "collapsed": true
   },
   "source": [
    "#### La Potencia viene dada por la siguiente formula"
   ]
  },
  {
   "cell_type": "markdown",
   "metadata": {},
   "source": [
    "$P = \\frac{\\rho}{2}(V+wV)^2VCdA+(Cr+\\%)mgV$\n",
    "\n",
    "Dónde:\n",
    "\n",
    "P es la potencia necesaria\n",
    "\n",
    "$\\rho$ es la densidad del aire\n",
    "\n",
    "V es la velocidad\n",
    "\n",
    "wV es velocidad el viento\n",
    "\n",
    "Cd es el coeficiente de drag\n",
    "\n",
    "A es el área efectiva\n",
    "\n",
    "Cr es el coeficiente de rozamiento\n",
    "\n",
    "$\\%$ es la pendiente\n",
    "\n",
    "m es la masa total del conjunto bicicleta - ciclista"
   ]
  },
  {
   "cell_type": "markdown",
   "metadata": {
    "collapsed": true
   },
   "source": [
    "#### Para comprender la importancia de los factores que intervienen podemos dividirla en la potencia necesaria para vencer la resistencia aerodinámica y la potencia para vencer factores como el rozamiento y la gravedad"
   ]
  },
  {
   "cell_type": "markdown",
   "metadata": {},
   "source": [
    "La potencia total es:\n",
    "\n",
    "$P = \\frac{\\rho}{2}(V+Wv)^2VCdA+(Cr+\\%)mgV$\n",
    "\n",
    "Y se puede descomponer en la potencia necesaria para vencer al viento y para vencer el rozamiento\n",
    "\n",
    "Potencia Aerodinámica: $Pa = \\frac{\\rho}{2}(V+Wv)^2VCdA$\n",
    "\n",
    "Potencia Rozamiento: $Pr = (Cr)mgV$\n",
    "\n",
    "Potencia Gravedad: $Pg = (\\%)mgV$"
   ]
  },
  {
   "cell_type": "code",
   "execution_count": 1,
   "metadata": {},
   "outputs": [
    {
     "data": {
      "text/html": [
       "<script>requirejs.config({paths: { 'plotly': ['https://cdn.plot.ly/plotly-latest.min']},});if(!window.Plotly) {{require(['plotly'],function(plotly) {window.Plotly=plotly;});}}</script>"
      ],
      "text/vnd.plotly.v1+html": [
       "<script>requirejs.config({paths: { 'plotly': ['https://cdn.plot.ly/plotly-latest.min']},});if(!window.Plotly) {{require(['plotly'],function(plotly) {window.Plotly=plotly;});}}</script>"
      ]
     },
     "metadata": {},
     "output_type": "display_data"
    }
   ],
   "source": [
    "import plotly as py\n",
    "import numpy as np\n",
    "import plotly.graph_objs as go\n",
    "import ipywidgets as widgets\n",
    "from IPython.display import display\n",
    "from IPython.core.display import HTML\n",
    "#from IPython.html.widgets import interact\n",
    "import math as mt\n",
    "\n",
    "py.offline.init_notebook_mode(connected=True)"
   ]
  },
  {
   "cell_type": "code",
   "execution_count": 15,
   "metadata": {
    "scrolled": false
   },
   "outputs": [
    {
     "data": {
      "application/vnd.jupyter.widget-view+json": {
       "model_id": "f1796fa9d7fa40a892905c464c7380a2",
       "version_major": 2,
       "version_minor": 0
      },
      "text/plain": [
       "interactive(children=(FloatSlider(value=0.30000000000000004, description='CdA', max=0.5, min=0.1, step=0.05), …"
      ]
     },
     "metadata": {},
     "output_type": "display_data"
    },
    {
     "data": {
      "text/plain": [
       "<function __main__.show_graph(CdA, Pendiente, Viento)>"
      ]
     },
     "execution_count": 15,
     "metadata": {},
     "output_type": "execute_result"
    }
   ],
   "source": [
    "def show_graph(CdA,Pendiente,Viento):\n",
    "\n",
    "    V = np.arange(0,60,0.5)\n",
    "\n",
    "    ro = 1.2\n",
    "    #cda = 0.3\n",
    "    cr = 0.0033\n",
    "    m = 90\n",
    "    g = 9.81\n",
    "    s = mt.sin(mt.atan(Pendiente/100))\n",
    "\n",
    "    Pa = ro/2*CdA*((V/3.6)+(Viento/3.6))**2*(V/3.6)\n",
    "    Pr = (cr)*m*g*(V/3.6)\n",
    "    Pg = (s)*m*g*(V/3.6)\n",
    "    Pt = Pa + Pr + Pg\n",
    "\n",
    "    trace0 = go.Scatter(\n",
    "        x=V,\n",
    "        y=Pa,\n",
    "        mode='lines',\n",
    "        name='Pot_aerodinamica'\n",
    "    )\n",
    "\n",
    "    trace1 = go.Scatter(\n",
    "        x=V,\n",
    "        y=Pr,\n",
    "        mode='lines',\n",
    "        name='Pot_rozamiento'\n",
    "    )\n",
    "\n",
    "    trace2 = go.Scatter(\n",
    "        x=V,\n",
    "        y=Pg,\n",
    "        mode='lines',\n",
    "        name='Pot_pendinte'\n",
    "    )\n",
    "    \n",
    "    trace3 = go.Scatter(\n",
    "        \n",
    "        x=V,\n",
    "        y=Pt,\n",
    "        mode='lines',\n",
    "        name='Pot_total'\n",
    "    )\n",
    "    \n",
    "    layout = go.Layout(title='Simulador de potencia (Potencia vs. Velocidad)')\n",
    "    \n",
    "    data = [trace0, trace1, trace2, trace3]\n",
    "\n",
    "    fig = dict(data=data, layout=layout)\n",
    "\n",
    "    py.offline.iplot(fig)\n",
    "widgets.interact(show_graph, CdA=(0.1,0.5,0.05), Pendiente=(-10,10,0.5), Viento=(-15,15,1))"
   ]
  },
  {
   "cell_type": "markdown",
   "metadata": {},
   "source": [
    "#### Como puede observarse en el gráfico anterior, la potencia necesaria para incrementar la velocidad depende sobre todo de la velocidad a la que estemos circulando\n",
    "#### Si además hay aire en contra (Viento>0), el problema se agrava\n",
    "#### En cambio, con el % de pendiente, se ve que los watios 'invertidos' se transforman casi linealmente en velocidad, puesto que la parte aerodinámica tiene menos influencia al circular a baja velocidad\n",
    "#### Por tanto, parece que existe una oportunidad clara de repartir los watios del ciclista en los tramos más favorables, ahorrando en aquellos en los que los vamos a perder mayoritariamente luchando contra el viento o la pendiente\n",
    "#### Si ahora pintamos sólamente la potencia aerodinámica y vemos como varía en función de la velocidad y el viento, obtenemos lo siguiente"
   ]
  },
  {
   "cell_type": "code",
   "execution_count": 18,
   "metadata": {
    "scrolled": false
   },
   "outputs": [
    {
     "data": {
      "application/vnd.jupyter.widget-view+json": {
       "model_id": "1bcc47e911a84f71a77ee7913507b862",
       "version_major": 2,
       "version_minor": 0
      },
      "text/plain": [
       "interactive(children=(Output(),), _dom_classes=('widget-interact',))"
      ]
     },
     "metadata": {},
     "output_type": "display_data"
    },
    {
     "data": {
      "text/plain": [
       "<function __main__.show_graph()>"
      ]
     },
     "execution_count": 18,
     "metadata": {},
     "output_type": "execute_result"
    }
   ],
   "source": [
    "def show_graph():\n",
    "\n",
    "    V = np.arange(0,40,0.5)\n",
    "    wind = np.arange(0,30,0.5)\n",
    "\n",
    "    ro = 1.2\n",
    "    cda = 0.25\n",
    "    \n",
    "    z = []\n",
    "\n",
    "    for v in V:\n",
    "        new_row = []\n",
    "        for w in wind:\n",
    "            new_row.append( ro/2*cda*((v/3.6)+(w/3.6))**2*(v/3.6) )\n",
    "        z.append(list(new_row))\n",
    "\n",
    "    trace0 = go.Heatmap(\n",
    "        x=V,\n",
    "        y=wind,\n",
    "        z=z,\n",
    "        colorscale='Jet'\n",
    "    )\n",
    "\n",
    "    data = [trace0]\n",
    "    \n",
    "    layout = go.Layout(title='Análisis de Potencia Aerodinámica (Viento(y) vs Velocidad(x))')\n",
    "\n",
    "    fig = dict(data=data, layout=layout)\n",
    "\n",
    "    py.offline.iplot(fig)\n",
    "\n",
    "widgets.interact(show_graph)"
   ]
  },
  {
   "cell_type": "markdown",
   "metadata": {
    "collapsed": true
   },
   "source": [
    "#### Podemos apreciar como con aire en contra, debemos reducir mucho la velocidad para mantener la potencia constante\n",
    "\n",
    "## Una vez que hemos visto los factores que intervienen en la problemática, tenemos que tratar de obtener los valores de CdA y Cr\n",
    "\n",
    "#### En el notebook \"RandomForestRegressor (CdA y Cr, P en funcion V)\" se trata de obtener valores de CdA y Cr. Sin embargo, los resultados no son concluyentes, debido a que las mediciones de CdA y Cr deben realizarse en condiciones controladas\n",
    "Ver el Notebook: ../Machine Learning/RandomForestRegressor (CdA y Cr, P en funcion V).ipynb\n",
    "#### Tras los intentos de averiguar el CdA y el Cr y dado que el objetivo final es tener una alta capacidad de predicción, hemos cambiado el enfoque. Por este motivo se han probado redes neuronales que han demostrado tener un poder predictivo muy alto\n",
    "Ver el Notebook: ../RNN/TF.ipynb\n",
    "\n",
    "## En este punto, ya tenemos los datos analizados, limpios, enriquecidos y hemos desarrollado una Red Neuronal que nos da unos buenos valores predictivos\n",
    "## Podemos por tanto, plantearnos desarrollar un simulador que asigne potencias a cada tramo de forma que se minimice el tiempo total cumpliendo ciertas restricciones de potencia\n",
    "Ver el Notebook: ../Machine Learning/Warm-Start.ipynb\n",
    "## Ya tenemos todos los componentes para pasar a la simulación\n",
    "Ver el Notebook: ../Simulador/Simulacion.ipynb"
   ]
  },
  {
   "cell_type": "code",
   "execution_count": null,
   "metadata": {
    "collapsed": true
   },
   "outputs": [],
   "source": []
  }
 ],
 "metadata": {
  "kernelspec": {
   "display_name": "Python 3",
   "language": "python",
   "name": "python3"
  },
  "language_info": {
   "codemirror_mode": {
    "name": "ipython",
    "version": 3
   },
   "file_extension": ".py",
   "mimetype": "text/x-python",
   "name": "python",
   "nbconvert_exporter": "python",
   "pygments_lexer": "ipython3",
   "version": "3.6.5"
  }
 },
 "nbformat": 4,
 "nbformat_minor": 2
}
