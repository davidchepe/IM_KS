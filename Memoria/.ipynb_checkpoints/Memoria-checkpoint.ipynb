{
 "cells": [
  {
   "cell_type": "markdown",
   "metadata": {},
   "source": [
    "# Memoria TFM Eduardo Hernanz - David Sánchez\n",
    "\n",
    "### El presente documento trata de guiar paso a paso al lector para poder comprender las decisiones tomadas tanto a nivel de 'negocio' como técnico\n",
    "### El proyecto consiste en el desarrollo de un simulador que permita optimizar el tiempo empleado por un triatleta para recorrer el segmento de ciclismo de un triatlon\n",
    "### Como requisito es necesario contar con un potenciómetro instalado en la bicicleta que medirá el grado de esfuerzo realizado\n",
    "### Asímismo, el simulador adaptará la estrategia de potencias según los tramos caracterizados por su pendiente y viento aparente, dando una distribución de potencias que cumpla con una media previamente definida por el usuario y no sobrepasando en ningún momento una potencia máxima\n",
    "\n",
    "#### Para conseguir este resultado, se han desarrollado las siguientes piezas de código\n",
    "#### 1 - Scraping de las condiciones climatológicas de los entrenamientos usados para entrenar el modelo\n",
    "#### 2 - Limpieza y creación de 'features' en los entrenamientos\n",
    "#### 3 - Red Neuronal para estimar la velocidad media necesaria para recorrer un tramo en función de la potencia aplicada, el desnivel y el viento aparente\n",
    "#### 4 - Simulador que prueba sobre cada tramo del recorrido objetivo diferentes potencias con el fin de minimizar el tiempo total cumpliendo con una potencia media objetivo"
   ]
  },
  {
   "cell_type": "markdown",
   "metadata": {
    "collapsed": true
   },
   "source": [
    "#### La Potencia viene dada por la siguiente formula"
   ]
  },
  {
   "cell_type": "markdown",
   "metadata": {},
   "source": [
    "$P = \\frac{\\rho}{2}(V+wV)^2VCdA+(Cr+\\%)mgV$\n",
    "\n",
    "Dónde:\n",
    "\n",
    "P es la potencia necesaria\n",
    "\n",
    "$\\rho$ es la densidad del aire\n",
    "\n",
    "V es la velocidad\n",
    "\n",
    "wV es velocidad el viento\n",
    "\n",
    "Cd es el coeficiente de drag\n",
    "\n",
    "A es el área efectiva\n",
    "\n",
    "Cr es el coeficiente de rozamiento\n",
    "\n",
    "$\\%$ es la pendiente\n",
    "\n",
    "m es la masa total del conjunto bicicleta - ciclista"
   ]
  },
  {
   "cell_type": "markdown",
   "metadata": {
    "collapsed": true
   },
   "source": [
    "#### Para comprender la importancia de los factores que intervienen podemos dividirla en la potencia necesaria para vencer la resistencia aerodinámica y la potencia para vencer factores como el rozamiento y la gravedad"
   ]
  },
  {
   "cell_type": "markdown",
   "metadata": {},
   "source": [
    "La potencia total es:\n",
    "\n",
    "$P = \\frac{\\rho}{2}(V+Wv)^2VCdA+(Cr+\\%)mgV$\n",
    "\n",
    "Y se puede descomponer en la potencia necesaria para vencer al viento y para vencer el rozamiento\n",
    "\n",
    "$Pa = \\frac{\\rho}{2}(V+Wv)^2VCdA$\n",
    "\n",
    "$Pr = (Cr)mgV$\n",
    "\n",
    "$Pg = (\\%)mgV$"
   ]
  },
  {
   "cell_type": "code",
   "execution_count": 1,
   "metadata": {},
   "outputs": [
    {
     "data": {
      "text/html": [
       "<script>requirejs.config({paths: { 'plotly': ['https://cdn.plot.ly/plotly-latest.min']},});if(!window.Plotly) {{require(['plotly'],function(plotly) {window.Plotly=plotly;});}}</script>"
      ],
      "text/vnd.plotly.v1+html": [
       "<script>requirejs.config({paths: { 'plotly': ['https://cdn.plot.ly/plotly-latest.min']},});if(!window.Plotly) {{require(['plotly'],function(plotly) {window.Plotly=plotly;});}}</script>"
      ]
     },
     "metadata": {},
     "output_type": "display_data"
    }
   ],
   "source": [
    "import plotly as py\n",
    "import numpy as np\n",
    "import plotly.graph_objs as go\n",
    "import ipywidgets as widgets\n",
    "from IPython.display import display\n",
    "from IPython.core.display import HTML\n",
    "#from IPython.html.widgets import interact\n",
    "import math as mt\n",
    "\n",
    "py.offline.init_notebook_mode(connected=True)"
   ]
  },
  {
   "cell_type": "code",
   "execution_count": 2,
   "metadata": {
    "scrolled": true
   },
   "outputs": [
    {
     "data": {
      "application/vnd.jupyter.widget-view+json": {
       "model_id": "62f20b4bbda34802b9eb1911079493cb"
      }
     },
     "metadata": {},
     "output_type": "display_data"
    },
    {
     "data": {
      "text/plain": [
       "<function __main__.show_graph>"
      ]
     },
     "execution_count": 2,
     "metadata": {},
     "output_type": "execute_result"
    }
   ],
   "source": [
    "def show_graph(cda,por,wind):\n",
    "\n",
    "    V = np.arange(0,60,0.5)\n",
    "\n",
    "    ro = 1.2\n",
    "    #cda = 0.3\n",
    "    cr = 0.0033\n",
    "    m = 90\n",
    "    g = 9.81\n",
    "    s = mt.sin(mt.atan(por/100))\n",
    "\n",
    "    Pa = ro/2*cda*((V/3.6)+(wind/3.6))**2*(V/3.6)\n",
    "    Pr = (cr)*m*g*(V/3.6)\n",
    "    Pg = (s)*m*g*(V/3.6)\n",
    "    Pt = Pa + Pr + Pg\n",
    "\n",
    "    trace0 = go.Scatter(\n",
    "        x=V,\n",
    "        y=Pa,\n",
    "        mode='lines',\n",
    "        name='Pot_aerodinamica'\n",
    "    )\n",
    "\n",
    "    trace1 = go.Scatter(\n",
    "        x=V,\n",
    "        y=Pr,\n",
    "        mode='lines',\n",
    "        name='Pot_rozamiento'\n",
    "    )\n",
    "\n",
    "    trace2 = go.Scatter(\n",
    "        x=V,\n",
    "        y=Pg,\n",
    "        mode='lines',\n",
    "        name='Pot_pendinte'\n",
    "    )\n",
    "    \n",
    "    trace3 = go.Scatter(\n",
    "        \n",
    "        x=V,\n",
    "        y=Pt,\n",
    "        mode='lines',\n",
    "        name='Pot_total'\n",
    "    )\n",
    "    \n",
    "    layout = go.Layout(title='Simulador de potencia')\n",
    "    \n",
    "    data = [trace0, trace1, trace2, trace3]\n",
    "\n",
    "    fig = dict(data=data, layout=layout)\n",
    "\n",
    "    py.offline.iplot(fig)\n",
    "widgets.interact(show_graph, cda=(0.1,0.5,0.05), por=(-10,10,0.5), wind=(-15,15,1))"
   ]
  },
  {
   "cell_type": "code",
   "execution_count": 18,
   "metadata": {},
   "outputs": [
    {
     "data": {
      "application/vnd.plotly.v1+json": {
       "data": [
        {
         "mode": "lines",
         "name": "Potencia_obj",
         "type": "scatter",
         "x": [
          -10,
          -9.5,
          -9,
          -8.5,
          -8,
          -7.5,
          -7,
          -6.5,
          -6,
          -5.5,
          -5,
          -4.5,
          -4,
          -3.5,
          -3,
          -2.5,
          -2,
          -1.5,
          -1,
          -0.5,
          0,
          0.5,
          1,
          1.5,
          2,
          2.5,
          3,
          3.5,
          4,
          4.5,
          5,
          5.5,
          6,
          6.5,
          7,
          7.5,
          8,
          8.5,
          9,
          9.5
         ],
         "y": [
          51.8792199876473,
          52.407255722395014,
          53.081613237890735,
          53.94153702922375,
          55.03597701684096,
          56.4254751573104,
          58.18409140488144,
          60.401126644904814,
          63.18223211408075,
          66.64927063634504,
          70.93803286439524,
          76.19267267198668,
          82.55563996566863,
          90.15217036698198,
          99.06930514697501,
          109.33115019816876,
          120.8745024063007,
          133.53133311919248,
          147.02554117321864,
          160.9894155551232,
          175,
          188.62869254920886,
          201.49224631902055,
          213.29276689239703,
          223.83866364996766,
          233.0453120450567,
          240.91999309257355,
          247.538381211279,
          253.0194447534063,
          257.50343876795023,
          261.13517552599376,
          264.05284742322215,
          266.3815957587301,
          268.2306243334778,
          269.69268461410354,
          270.8449791258737,
          271.75079402665415,
          272.4614067665258,
          273.0179950916489,
          273.45339943677743
         ]
        },
        {
         "mode": "lines",
         "name": "Potencia_min",
         "type": "scatter",
         "x": [
          -10,
          -9.5,
          -9,
          -8.5,
          -8,
          -7.5,
          -7,
          -6.5,
          -6,
          -5.5,
          -5,
          -4.5,
          -4,
          -3.5,
          -3,
          -2.5,
          -2,
          -1.5,
          -1,
          -0.5,
          0,
          0.5,
          1,
          1.5,
          2,
          2.5,
          3,
          3.5,
          4,
          4.5,
          5,
          5.5,
          6,
          6.5,
          7,
          7.5,
          8,
          8.5,
          9,
          9.5
         ],
         "y": [
          51.712178210967544,
          52.19327743595991,
          52.807692061189336,
          53.59117818218164,
          54.58833461534398,
          55.85432180999393,
          57.45661661333643,
          59.476582054246606,
          62.010478148384685,
          65.16933546866991,
          69.07687438756011,
          73.86443510114341,
          79.66180530205364,
          86.58308855658359,
          94.70758913391057,
          104.05727018055376,
          114.57454663685176,
          126.10632573081983,
          138.4010486244881,
          151.12368972800112,
          163.88888888888889,
          176.3061421003903,
          188.02626886844095,
          198.77785427973953,
          208.38633799219275,
          216.77461764105166,
          223.94932703990037,
          229.97941399249862,
          234.97327188643686,
          239.05868865524351,
          242.36760436812762,
          245.02592765226908,
          247.14767613573187,
          248.83234661494643,
          250.1644459817388,
          251.21431431468488,
          252.03961233539601,
          252.68705949839017,
          253.19417330572455,
          253.59087504239724
         ]
        },
        {
         "mode": "lines",
         "name": "Potencia_max",
         "type": "scatter",
         "x": [
          -10,
          -9.5,
          -9,
          -8.5,
          -8,
          -7.5,
          -7,
          -6.5,
          -6,
          -5.5,
          -5,
          -4.5,
          -4,
          -3.5,
          -3,
          -2.5,
          -2,
          -1.5,
          -1,
          -0.5,
          0,
          0.5,
          1,
          1.5,
          2,
          2.5,
          3,
          3.5,
          4,
          4.5,
          5,
          5.5,
          6,
          6.5,
          7,
          7.5,
          8,
          8.5,
          9,
          9.5
         ],
         "y": [
          71.71217821096754,
          72.1932774359599,
          72.80769206118934,
          73.59117818218164,
          74.58833461534398,
          75.85432180999392,
          77.45661661333642,
          79.4765820542466,
          82.01047814838468,
          85.16933546866991,
          89.07687438756011,
          93.86443510114341,
          99.66180530205364,
          106.58308855658359,
          114.70758913391057,
          124.05727018055376,
          134.57454663685178,
          146.10632573081983,
          158.4010486244881,
          171.12368972800112,
          183.88888888888889,
          196.3061421003903,
          208.02626886844095,
          218.77785427973953,
          228.38633799219275,
          236.77461764105166,
          243.94932703990037,
          249.97941399249862,
          254.97327188643686,
          259.0586886552435,
          262.3676043681276,
          265.02592765226905,
          267.1476761357319,
          268.83234661494646,
          270.1644459817388,
          271.2143143146849,
          272.039612335396,
          272.68705949839017,
          273.1941733057246,
          273.5908750423972
         ]
        }
       ],
       "layout": {
        "title": "Sigmoide de potencia"
       }
      },
      "text/html": [
       "<div id=\"6773ef10-42d5-4989-a4ee-d1407f014f4f\" style=\"height: 525px; width: 100%;\" class=\"plotly-graph-div\"></div><script type=\"text/javascript\">require([\"plotly\"], function(Plotly) { window.PLOTLYENV=window.PLOTLYENV || {};window.PLOTLYENV.BASE_URL=\"https://plot.ly\";Plotly.newPlot(\"6773ef10-42d5-4989-a4ee-d1407f014f4f\", [{\"type\": \"scatter\", \"x\": [-10.0, -9.5, -9.0, -8.5, -8.0, -7.5, -7.0, -6.5, -6.0, -5.5, -5.0, -4.5, -4.0, -3.5, -3.0, -2.5, -2.0, -1.5, -1.0, -0.5, 0.0, 0.5, 1.0, 1.5, 2.0, 2.5, 3.0, 3.5, 4.0, 4.5, 5.0, 5.5, 6.0, 6.5, 7.0, 7.5, 8.0, 8.5, 9.0, 9.5], \"y\": [51.8792199876473, 52.407255722395014, 53.081613237890735, 53.94153702922375, 55.03597701684096, 56.4254751573104, 58.18409140488144, 60.401126644904814, 63.18223211408075, 66.64927063634504, 70.93803286439524, 76.19267267198668, 82.55563996566863, 90.15217036698198, 99.06930514697501, 109.33115019816876, 120.8745024063007, 133.53133311919248, 147.02554117321864, 160.9894155551232, 175.0, 188.62869254920886, 201.49224631902055, 213.29276689239703, 223.83866364996766, 233.0453120450567, 240.91999309257355, 247.538381211279, 253.0194447534063, 257.50343876795023, 261.13517552599376, 264.05284742322215, 266.3815957587301, 268.2306243334778, 269.69268461410354, 270.8449791258737, 271.75079402665415, 272.4614067665258, 273.0179950916489, 273.45339943677743], \"mode\": \"lines\", \"name\": \"Potencia_obj\"}, {\"type\": \"scatter\", \"x\": [-10.0, -9.5, -9.0, -8.5, -8.0, -7.5, -7.0, -6.5, -6.0, -5.5, -5.0, -4.5, -4.0, -3.5, -3.0, -2.5, -2.0, -1.5, -1.0, -0.5, 0.0, 0.5, 1.0, 1.5, 2.0, 2.5, 3.0, 3.5, 4.0, 4.5, 5.0, 5.5, 6.0, 6.5, 7.0, 7.5, 8.0, 8.5, 9.0, 9.5], \"y\": [51.712178210967544, 52.19327743595991, 52.807692061189336, 53.59117818218164, 54.58833461534398, 55.85432180999393, 57.45661661333643, 59.476582054246606, 62.010478148384685, 65.16933546866991, 69.07687438756011, 73.86443510114341, 79.66180530205364, 86.58308855658359, 94.70758913391057, 104.05727018055376, 114.57454663685176, 126.10632573081983, 138.4010486244881, 151.12368972800112, 163.88888888888889, 176.3061421003903, 188.02626886844095, 198.77785427973953, 208.38633799219275, 216.77461764105166, 223.94932703990037, 229.97941399249862, 234.97327188643686, 239.05868865524351, 242.36760436812762, 245.02592765226908, 247.14767613573187, 248.83234661494643, 250.1644459817388, 251.21431431468488, 252.03961233539601, 252.68705949839017, 253.19417330572455, 253.59087504239724], \"mode\": \"lines\", \"name\": \"Potencia_min\"}, {\"type\": \"scatter\", \"x\": [-10.0, -9.5, -9.0, -8.5, -8.0, -7.5, -7.0, -6.5, -6.0, -5.5, -5.0, -4.5, -4.0, -3.5, -3.0, -2.5, -2.0, -1.5, -1.0, -0.5, 0.0, 0.5, 1.0, 1.5, 2.0, 2.5, 3.0, 3.5, 4.0, 4.5, 5.0, 5.5, 6.0, 6.5, 7.0, 7.5, 8.0, 8.5, 9.0, 9.5], \"y\": [71.71217821096754, 72.1932774359599, 72.80769206118934, 73.59117818218164, 74.58833461534398, 75.85432180999392, 77.45661661333642, 79.4765820542466, 82.01047814838468, 85.16933546866991, 89.07687438756011, 93.86443510114341, 99.66180530205364, 106.58308855658359, 114.70758913391057, 124.05727018055376, 134.57454663685178, 146.10632573081983, 158.4010486244881, 171.12368972800112, 183.88888888888889, 196.3061421003903, 208.02626886844095, 218.77785427973953, 228.38633799219275, 236.77461764105166, 243.94932703990037, 249.97941399249862, 254.97327188643686, 259.0586886552435, 262.3676043681276, 265.02592765226905, 267.1476761357319, 268.83234661494646, 270.1644459817388, 271.2143143146849, 272.039612335396, 272.68705949839017, 273.1941733057246, 273.5908750423972], \"mode\": \"lines\", \"name\": \"Potencia_max\"}], {\"title\": \"Sigmoide de potencia\"}, {\"showLink\": true, \"linkText\": \"Export to plot.ly\"})});</script>"
      ],
      "text/vnd.plotly.v1+html": [
       "<div id=\"6773ef10-42d5-4989-a4ee-d1407f014f4f\" style=\"height: 525px; width: 100%;\" class=\"plotly-graph-div\"></div><script type=\"text/javascript\">require([\"plotly\"], function(Plotly) { window.PLOTLYENV=window.PLOTLYENV || {};window.PLOTLYENV.BASE_URL=\"https://plot.ly\";Plotly.newPlot(\"6773ef10-42d5-4989-a4ee-d1407f014f4f\", [{\"type\": \"scatter\", \"x\": [-10.0, -9.5, -9.0, -8.5, -8.0, -7.5, -7.0, -6.5, -6.0, -5.5, -5.0, -4.5, -4.0, -3.5, -3.0, -2.5, -2.0, -1.5, -1.0, -0.5, 0.0, 0.5, 1.0, 1.5, 2.0, 2.5, 3.0, 3.5, 4.0, 4.5, 5.0, 5.5, 6.0, 6.5, 7.0, 7.5, 8.0, 8.5, 9.0, 9.5], \"y\": [51.8792199876473, 52.407255722395014, 53.081613237890735, 53.94153702922375, 55.03597701684096, 56.4254751573104, 58.18409140488144, 60.401126644904814, 63.18223211408075, 66.64927063634504, 70.93803286439524, 76.19267267198668, 82.55563996566863, 90.15217036698198, 99.06930514697501, 109.33115019816876, 120.8745024063007, 133.53133311919248, 147.02554117321864, 160.9894155551232, 175.0, 188.62869254920886, 201.49224631902055, 213.29276689239703, 223.83866364996766, 233.0453120450567, 240.91999309257355, 247.538381211279, 253.0194447534063, 257.50343876795023, 261.13517552599376, 264.05284742322215, 266.3815957587301, 268.2306243334778, 269.69268461410354, 270.8449791258737, 271.75079402665415, 272.4614067665258, 273.0179950916489, 273.45339943677743], \"mode\": \"lines\", \"name\": \"Potencia_obj\"}, {\"type\": \"scatter\", \"x\": [-10.0, -9.5, -9.0, -8.5, -8.0, -7.5, -7.0, -6.5, -6.0, -5.5, -5.0, -4.5, -4.0, -3.5, -3.0, -2.5, -2.0, -1.5, -1.0, -0.5, 0.0, 0.5, 1.0, 1.5, 2.0, 2.5, 3.0, 3.5, 4.0, 4.5, 5.0, 5.5, 6.0, 6.5, 7.0, 7.5, 8.0, 8.5, 9.0, 9.5], \"y\": [51.712178210967544, 52.19327743595991, 52.807692061189336, 53.59117818218164, 54.58833461534398, 55.85432180999393, 57.45661661333643, 59.476582054246606, 62.010478148384685, 65.16933546866991, 69.07687438756011, 73.86443510114341, 79.66180530205364, 86.58308855658359, 94.70758913391057, 104.05727018055376, 114.57454663685176, 126.10632573081983, 138.4010486244881, 151.12368972800112, 163.88888888888889, 176.3061421003903, 188.02626886844095, 198.77785427973953, 208.38633799219275, 216.77461764105166, 223.94932703990037, 229.97941399249862, 234.97327188643686, 239.05868865524351, 242.36760436812762, 245.02592765226908, 247.14767613573187, 248.83234661494643, 250.1644459817388, 251.21431431468488, 252.03961233539601, 252.68705949839017, 253.19417330572455, 253.59087504239724], \"mode\": \"lines\", \"name\": \"Potencia_min\"}, {\"type\": \"scatter\", \"x\": [-10.0, -9.5, -9.0, -8.5, -8.0, -7.5, -7.0, -6.5, -6.0, -5.5, -5.0, -4.5, -4.0, -3.5, -3.0, -2.5, -2.0, -1.5, -1.0, -0.5, 0.0, 0.5, 1.0, 1.5, 2.0, 2.5, 3.0, 3.5, 4.0, 4.5, 5.0, 5.5, 6.0, 6.5, 7.0, 7.5, 8.0, 8.5, 9.0, 9.5], \"y\": [71.71217821096754, 72.1932774359599, 72.80769206118934, 73.59117818218164, 74.58833461534398, 75.85432180999392, 77.45661661333642, 79.4765820542466, 82.01047814838468, 85.16933546866991, 89.07687438756011, 93.86443510114341, 99.66180530205364, 106.58308855658359, 114.70758913391057, 124.05727018055376, 134.57454663685178, 146.10632573081983, 158.4010486244881, 171.12368972800112, 183.88888888888889, 196.3061421003903, 208.02626886844095, 218.77785427973953, 228.38633799219275, 236.77461764105166, 243.94932703990037, 249.97941399249862, 254.97327188643686, 259.0586886552435, 262.3676043681276, 265.02592765226905, 267.1476761357319, 268.83234661494646, 270.1644459817388, 271.2143143146849, 272.039612335396, 272.68705949839017, 273.1941733057246, 273.5908750423972], \"mode\": \"lines\", \"name\": \"Potencia_max\"}], {\"title\": \"Sigmoide de potencia\"}, {\"showLink\": true, \"linkText\": \"Export to plot.ly\"})});</script>"
      ]
     },
     "metadata": {},
     "output_type": "display_data"
    }
   ],
   "source": [
    "pot_min = 50\n",
    "pot_max = 275\n",
    "ff_1 = 0.8\n",
    "ff_2 = 0.5\n",
    "porc = np.arange(-10,10,0.5)\n",
    "\n",
    "potencia = pot_min+(pot_max-pot_min)/(1+ff_1*np.e**(ff_2*porc*-1))\n",
    "potencia_min = pot_min+(pot_max-20-pot_min)/(1+ff_1*np.e**(ff_2*porc*-1))\n",
    "potencia_max = pot_min+20+(pot_max-pot_min-20)/(1+ff_1*np.e**(ff_2*porc*-1))\n",
    "\n",
    "trace0 = go.Scatter(        \n",
    "        x=porc,\n",
    "        y=potencia,\n",
    "        mode='lines',\n",
    "        name='Potencia_obj')\n",
    "\n",
    "trace1 = go.Scatter(        \n",
    "        x=porc,\n",
    "        y=potencia_min,\n",
    "        mode='lines',\n",
    "        name='Potencia_min')\n",
    "\n",
    "trace2 = go.Scatter(        \n",
    "        x=porc,\n",
    "        y=potencia_max,\n",
    "        mode='lines',\n",
    "        name='Potencia_max')\n",
    "\n",
    "\n",
    "\n",
    "\n",
    "layout = go.Layout(title='Sigmoide de potencia')\n",
    "\n",
    "data = [trace0, trace1, trace2]\n",
    "\n",
    "fig = dict(data=data, layout=layout)\n",
    "\n",
    "py.offline.iplot(fig)"
   ]
  },
  {
   "cell_type": "markdown",
   "metadata": {},
   "source": [
    "#### Como puede observarse en el gráfico anterior, la potencia necesaria para incrementar la velocidad depende sobre todo de la velocidad a la que estemos circulando\n",
    "#### Si además hay aire en contra, el problema se agrava\n",
    "#### En cambio, con el % de pendiente, se ve que los watios 'invertidos' se transforman casi linealmente en velocidad, puesto que la parte aerodinámica tiene menos influencia al circular a baja velocidad\n",
    "#### Por tanto, parece que existe una oportunidad clara de repartir los watios del ciclista en los tramos más favorables, ahorrando en aquellos en los que los vamos a perder mayoritariamente luchando contra el viento\n",
    "#### Si ahora pintamos sólamente la potencia aerodinámica y vemos como varía en función de la velocidad y el viento, obtenemos lo siguiente"
   ]
  },
  {
   "cell_type": "code",
   "execution_count": 18,
   "metadata": {
    "scrolled": true
   },
   "outputs": [
    {
     "data": {
      "application/vnd.jupyter.widget-view+json": {
       "model_id": "148a6016ea2843e68c36f173ac61ba43"
      }
     },
     "metadata": {},
     "output_type": "display_data"
    },
    {
     "data": {
      "text/plain": [
       "<function __main__.show_graph>"
      ]
     },
     "execution_count": 18,
     "metadata": {},
     "output_type": "execute_result"
    }
   ],
   "source": [
    "def show_graph():\n",
    "\n",
    "    V = np.arange(0,40,0.5)\n",
    "    wind = np.arange(0,20,0.25)\n",
    "\n",
    "    ro = 1.2\n",
    "    cda = 0.25\n",
    "    \n",
    "    z = []\n",
    "\n",
    "    for v in V:\n",
    "        new_row = []\n",
    "        for w in wind:\n",
    "            new_row.append( ro/2*cda*((v/3.6)+(w/3.6))**2*(v/3.6) )\n",
    "        z.append(list(new_row))\n",
    "\n",
    "    trace0 = go.Heatmap(\n",
    "        x=V,\n",
    "        y=wind,\n",
    "        z=z,\n",
    "        colorscale='Jet'\n",
    "    )\n",
    "\n",
    "    data = [trace0]\n",
    "    \n",
    "    layout = go.Layout(title='Análisis de Potencia Aerodinámica')\n",
    "\n",
    "    fig = dict(data=data, layout=layout)\n",
    "\n",
    "    py.offline.iplot(fig)\n",
    "#### Podemos apreciar como con aire en contra, debemos reducir mucho la velocidad para mantener la potencia constanteinteract(show_graph)"
   ]
  },
  {
   "cell_type": "markdown",
   "metadata": {
    "collapsed": true
   },
   "source": [
    "#### Podemos apreciar como con aire en contra, debemos reducir mucho la velocidad para mantener la potencia constante\n",
    "\n",
    "## Una vez que hemos visto los factores que intervienen en la problemática, tenemos que tratar de obtener los valores de CdA y Cr\n",
    "\n",
    "#### En el notebook \"RandomForestRegressor (CdA y Cr, P en funcion V)\" se trata de obtener valores de CdA y Cr. Sin embargo, los resultados no son concluyentes, debido a que las mediciones de CdA y Cr deben realizarse en condiciones controladas\n",
    "#### Nuestro objetivo consiste al contrario, en ser capaces de predecir el comportamiento de un ciclista basado en un conjunto de entrenamientos. Por este motivo se han probado redes neuronales que han demostrado tener un poder predictivo muy alto"
   ]
  },
  {
   "cell_type": "code",
   "execution_count": null,
   "metadata": {
    "collapsed": true
   },
   "outputs": [],
   "source": []
  }
 ],
 "metadata": {
  "kernelspec": {
   "display_name": "Python 3",
   "language": "python",
   "name": "python3"
  },
  "language_info": {
   "codemirror_mode": {
    "name": "ipython",
    "version": 3
   },
   "file_extension": ".py",
   "mimetype": "text/x-python",
   "name": "python",
   "nbconvert_exporter": "python",
   "pygments_lexer": "ipython3",
   "version": "3.6.1"
  }
 },
 "nbformat": 4,
 "nbformat_minor": 2
}
