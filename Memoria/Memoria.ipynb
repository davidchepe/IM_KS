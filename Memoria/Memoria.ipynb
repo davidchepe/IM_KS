{
 "cells": [
  {
   "cell_type": "markdown",
   "metadata": {},
   "source": [
    "# Memoria TFM Eduardo Hernanz - David Sánchez\n",
    "## El presente documento trata de guiar paso a paso al lector para poder comprender las decisiones tomadas tanto a nivel de 'negocio' como técnico\n",
    "### El proyecto consiste en el desarrollo de un simulador que permita optimizar el tiempo empleado por un triatleta para recorrer el segmento de ciclismo de un triatlon\n",
    "### Como requisito es necesario contar con un potenciómetro instalado en la bicicleta que medirá el grado de esfuerzo realizado\n",
    "### Asímismo, el simulador adaptará la estrategia de potencias según los tramos caracterizados por su pendiente y viento aparente, dando una distribución de potencias que cumpla con una media previamente definida por el usuario y no sobrepasando en ningún momento una potencia máxima\n",
    "#### Para conseguir este resultado, se han desarrollado las siguientes piezas de código\n",
    "#### 1 - Scraping de las condiciones climatológicas de los entrenamientos usados para entrenar el modelo\n",
    "#### 2 - Limpieza y creación de 'features' en los entrenamientos\n",
    "#### 3 - Red Neuronal para estimar la velocidad media necesaria para recorrer un tramo en función de la potencia aplicada, el desnivel y el viento aparente\n",
    "#### 4 - Simulador que prueba sobre cada tramo del recorrido objetivo diferentes potencias"
   ]
  },
  {
   "cell_type": "code",
   "execution_count": null,
   "metadata": {
    "collapsed": true
   },
   "outputs": [],
   "source": []
  },
  {
   "cell_type": "code",
   "execution_count": 83,
   "metadata": {
    "collapsed": true
   },
   "outputs": [],
   "source": [
    "#La Potencia viene dada por la siguiente formula"
   ]
  },
  {
   "cell_type": "markdown",
   "metadata": {},
   "source": [
    "$P = \\frac{\\rho}{2}(V+wV)^2VCdA+(Cr+\\%)mgV$\n",
    "\n",
    "Dónde:\n",
    "\n",
    "P es la potencia necesaria\n",
    "\n",
    "$\\rho$ es la densidad del aire\n",
    "\n",
    "V es la velocidad\n",
    "\n",
    "wV es velocidad el viento\n",
    "\n",
    "Cd es el coeficiente de drag\n",
    "\n",
    "A es el área efectiva\n",
    "\n",
    "Cr es el coeficiente de rozamiento\n",
    "\n",
    "$\\%$ es la pendiente\n",
    "\n",
    "m es la masa total del conjunto bicicleta - ciclista"
   ]
  },
  {
   "cell_type": "code",
   "execution_count": 148,
   "metadata": {},
   "outputs": [
    {
     "data": {
      "text/html": [
       "<script>requirejs.config({paths: { 'plotly': ['https://cdn.plot.ly/plotly-latest.min']},});if(!window.Plotly) {{require(['plotly'],function(plotly) {window.Plotly=plotly;});}}</script>"
      ],
      "text/vnd.plotly.v1+html": [
       "<script>requirejs.config({paths: { 'plotly': ['https://cdn.plot.ly/plotly-latest.min']},});if(!window.Plotly) {{require(['plotly'],function(plotly) {window.Plotly=plotly;});}}</script>"
      ]
     },
     "metadata": {},
     "output_type": "display_data"
    }
   ],
   "source": [
    "import plotly as py\n",
    "import numpy as np\n",
    "import plotly.graph_objs as go\n",
    "import ipywidgets as widgets\n",
    "from IPython.display import display\n",
    "from IPython.core.display import HTML\n",
    "from IPython.html.widgets import interact\n",
    "import math as mt\n",
    "\n",
    "py.offline.init_notebook_mode(connected=True)"
   ]
  },
  {
   "cell_type": "markdown",
   "metadata": {},
   "source": [
    "#### Suponiendo que no hay viento y se rueda en llano"
   ]
  },
  {
   "cell_type": "markdown",
   "metadata": {},
   "source": [
    "La potencia total es:\n",
    "\n",
    "$P = \\frac{\\rho}{2}(V)^3CdA+CrmgV$\n",
    "\n",
    "Y se puede descomponer en la potencia necesaria para vencer al viento y para vencer el rozamiento\n",
    "\n",
    "$Pa = \\frac{\\rho}{2}(V)^3CdA$\n",
    "\n",
    "$Pr = CrmgV$\n"
   ]
  },
  {
   "cell_type": "code",
   "execution_count": 160,
   "metadata": {
    "scrolled": true
   },
   "outputs": [
    {
     "data": {
      "application/vnd.jupyter.widget-view+json": {
       "model_id": "51868df70fd34645b4f7378d4708c6d9"
      }
     },
     "metadata": {},
     "output_type": "display_data"
    },
    {
     "data": {
      "text/plain": [
       "<function __main__.show_graph>"
      ]
     },
     "execution_count": 160,
     "metadata": {},
     "output_type": "execute_result"
    }
   ],
   "source": [
    "def show_graph(cda,por,wind):\n",
    "\n",
    "    V = np.arange(0,100,0.5)\n",
    "\n",
    "    ro = 1.2\n",
    "    #cda = 0.3\n",
    "    cr = 0.0033\n",
    "    m = 90\n",
    "    g = 9.81\n",
    "    s = mt.sin(mt.atan(por/100))\n",
    "\n",
    "    Pa = ro/2*cda*((V/3.6)+(wind/3.6))**2*(V/3.6)\n",
    "    Pr = (cr+s)*m*g*(V/3.6)\n",
    "    Pt = Pa + Pr\n",
    "\n",
    "    trace0 = go.Scatter(\n",
    "        x=V,\n",
    "        y=Pa,\n",
    "        mode='lines',\n",
    "        name='Pot_aerodinamica'\n",
    "    )\n",
    "\n",
    "    trace1 = go.Scatter(\n",
    "        x=V,\n",
    "        y=Pr,\n",
    "        mode='lines',\n",
    "        name='Pot_rozamiento_pendinte'\n",
    "    )\n",
    "\n",
    "    trace2 = go.Scatter(\n",
    "        x=V,\n",
    "        y=Pt,\n",
    "        mode='lines',\n",
    "        name='Pot_total'\n",
    "    )\n",
    "\n",
    "    data = [trace0, trace1, trace2]\n",
    "\n",
    "    fig = dict(data=data)\n",
    "\n",
    "    py.offline.iplot(fig)\n",
    "interact(show_graph, cda=(0.1,0.5,0.05), por=(-10,10,0.5), wind=(-15,15,1))"
   ]
  },
  {
   "cell_type": "code",
   "execution_count": null,
   "metadata": {
    "collapsed": true
   },
   "outputs": [],
   "source": []
  }
 ],
 "metadata": {
  "kernelspec": {
   "display_name": "Python 3",
   "language": "python",
   "name": "python3"
  },
  "language_info": {
   "codemirror_mode": {
    "name": "ipython",
    "version": 3
   },
   "file_extension": ".py",
   "mimetype": "text/x-python",
   "name": "python",
   "nbconvert_exporter": "python",
   "pygments_lexer": "ipython3",
   "version": "3.6.1"
  }
 },
 "nbformat": 4,
 "nbformat_minor": 2
}
