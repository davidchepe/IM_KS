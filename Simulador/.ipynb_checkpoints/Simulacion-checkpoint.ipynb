{
 "cells": [
  {
   "cell_type": "markdown",
   "metadata": {},
   "source": [
    "## Simulador de Recorridos ciclistas"
   ]
  },
  {
   "cell_type": "markdown",
   "metadata": {},
   "source": [
    "### Importamos librerias"
   ]
  },
  {
   "cell_type": "code",
   "execution_count": null,
   "metadata": {
    "scrolled": true
   },
   "outputs": [],
   "source": [
    "import pandas as pd\n",
    "import numpy as np\n",
    "from sklearn.externals import joblib\n",
    "from keras.models import load_model\n",
    "import pickle\n",
    "import time\n",
    "\n",
    "import matplotlib.pylab as plt\n",
    "%matplotlib inline\n",
    "plt.style.use('fivethirtyeight')\n",
    "import plotly as py\n",
    "import plotly.graph_objs as go\n",
    "import ipywidgets as widgets\n",
    "from IPython.display import display\n",
    "from IPython.core.display import HTML\n",
    "import math as mt\n",
    "py.offline.init_notebook_mode(connected=True)"
   ]
  },
  {
   "cell_type": "code",
   "execution_count": null,
   "metadata": {},
   "outputs": [],
   "source": [
    "#Tenemos que decidir si queremos hacer una simulación comparativa contra un resultado nuestro o contra un GPX \"standar\",\n",
    "#ya que se encuentran en distinto fichero. Con nuestros ficheros podemos realizar comparativas exhaustivas, mientras\n",
    "#que con los datos publicos esa posibilidad no existe.\n",
    "\n",
    "#Tramos propios con datos de potencia, tiempo, etc... \n",
    "path = '../Entrenamientos/Procesado_Tramos.xlsx'\n",
    "\n",
    "#Tramos publicos sin datos de potencia, tiempo, etc... \n",
    "#path = '../Entrenamientos/Procesado_Tramos_simulacion.xlsx'\n",
    "df = pd.read_excel(path)"
   ]
  },
  {
   "cell_type": "markdown",
   "metadata": {},
   "source": [
    "### Filtramos datos"
   ]
  },
  {
   "cell_type": "code",
   "execution_count": null,
   "metadata": {},
   "outputs": [],
   "source": [
    "#Listamos las pruebas que contiene el fichero\n",
    "df[\"prueba\"].unique()"
   ]
  },
  {
   "cell_type": "code",
   "execution_count": null,
   "metadata": {},
   "outputs": [],
   "source": [
    "#Eliminar las filas que no tienen datos y seleccionamos la prueba que queremos simular\n",
    "df = df[df[\"porc\"]!=np.inf]\n",
    "\n",
    "#En caso de que el fichero de entrada contenga más de una prueba, hay que seleccionar cual queremos simular\n",
    "if (len(df[\"prueba\"].unique()) > 1):\n",
    "    df = df[df[\"prueba\"]==\"20180429_LEMG_195_90_R_C.gpx\"]"
   ]
  },
  {
   "cell_type": "code",
   "execution_count": null,
   "metadata": {},
   "outputs": [],
   "source": [
    "#Se revisa que no existen datos anómalos, como +-inf por ejemplo\n",
    "df.describe()"
   ]
  },
  {
   "cell_type": "code",
   "execution_count": null,
   "metadata": {},
   "outputs": [],
   "source": [
    "#Se revisa que todas las columnas contienen los datos que le corresponde\n",
    "df.head()"
   ]
  },
  {
   "cell_type": "code",
   "execution_count": null,
   "metadata": {},
   "outputs": [],
   "source": [
    "#Revisamos las pendientes de la prueba con el objetivo de identificar datos incoherentes\n",
    "\n",
    "plt.figure(figsize = (15,8))\n",
    "plt.hist(df['porc'],bins=100, edgecolor ='k')\n",
    "plt.title('Histograma de Pendientes')\n",
    "plt.xlabel('Porcentaje de pendiente')\n",
    "plt.ylabel('Cuenta')\n",
    "plt.show()"
   ]
  },
  {
   "cell_type": "markdown",
   "metadata": {},
   "source": [
    "Vemos que la mayoría de tramos están centrados en porcentajes cercanos a 0, aunque también hay varios tramos de subidas y bajadas"
   ]
  },
  {
   "cell_type": "markdown",
   "metadata": {},
   "source": [
    "## A modo de recordatorio y por su especial importancia a la hora de ejecutar la simulación, dejamos el código de la sigmoide de potencia. Más detalles de como utilizarla se pueden encontrar en la Memoria"
   ]
  },
  {
   "cell_type": "code",
   "execution_count": null,
   "metadata": {
    "scrolled": false
   },
   "outputs": [],
   "source": [
    "def graph(pot_min, pot_max, ff_1, ff_2):\n",
    "    porc = np.arange(-10,10,0.5)\n",
    "\n",
    "    potencia = pot_min+(pot_max-pot_min)/(1+ff_1*np.e**(ff_2*porc*-1))\n",
    "    potencia_min = pot_min+(pot_max-25-pot_min)/(1+ff_1*np.e**(ff_2*porc*-1))\n",
    "    potencia_max = pot_min+25+(pot_max-pot_min-25)/(1+ff_1*np.e**(ff_2*porc*-1))\n",
    "\n",
    "    trace0 = go.Scatter(        \n",
    "            x=porc,\n",
    "            y=potencia,\n",
    "            mode='lines',\n",
    "            name='Potencia_obj')\n",
    "\n",
    "    trace1 = go.Scatter(        \n",
    "            x=porc,\n",
    "            y=potencia_min,\n",
    "            mode='lines',\n",
    "            name='Potencia_min')\n",
    "\n",
    "    trace2 = go.Scatter(        \n",
    "            x=porc,\n",
    "            y=potencia_max,\n",
    "            mode='lines',\n",
    "            name='Potencia_max')\n",
    "\n",
    "\n",
    "\n",
    "\n",
    "    layout = go.Layout(title='Sigmoide de potencia')\n",
    "\n",
    "    data = [trace0, trace1, trace2]\n",
    "\n",
    "    fig = dict(data=data, layout=layout)\n",
    "\n",
    "    py.offline.iplot(fig)\n",
    "\n",
    "pot_min_value=widgets.IntSlider(min=40,max=150,step=5, value=65)\n",
    "pot_max_value=widgets.IntSlider(min=250,max=300,step=5, value=285)\n",
    "ff_1_value=widgets.FloatSlider(min=0.1,max=1,step=0.1, value=0.6)\n",
    "ff_2_value=widgets.FloatSlider(min=0.1,max=1,step=0.1, value=0.35)\n",
    "    \n",
    "widgets.interact(graph, pot_min=pot_min_value, pot_max=pot_max_value, ff_1=ff_1_value, ff_2=ff_2_value)\n",
    "\n"
   ]
  },
  {
   "cell_type": "code",
   "execution_count": null,
   "metadata": {},
   "outputs": [],
   "source": [
    "#Prueba iterando en cada tramo con intervalos aleatorios con el modelo desarrollado CON TENSORFLOW (PRIMERA PASADA)\n",
    "\n",
    "#Almacenamos la hora de inicio para evaluar el tiempo que tarda en ejecutar\n",
    "start_time = time.time()\n",
    "\n",
    "#Cargamos los dos modelos con los que vamos a trabajar\n",
    "model_TF = load_model('../RNN/TF_Tramos_2.model')\n",
    "model_Scalar = pickle.load(open(\"../RNN/Scaler.model\", \"rb\"))\n",
    "\n",
    "#Inicializamos las variables de control del flujo de ejecución\n",
    "resultados = []\n",
    "\n",
    "fail = 0 #Contador de simulaciones fallidas\n",
    "exito = 0 #Contador de simulaciones correctas\n",
    "num_pruebas = 50 #Número de éxitos para finalizar la simulación\n",
    "fi = 0 #Variable para iterar\n",
    "\n",
    "#Las siguientes variables se rellenan a criterio del entrenador o de quien use esta simulación\n",
    "potencia_objetivo = 230 #Entre 0 y 300\n",
    "\n",
    "#Usado para validar la calidad de la simulación. Un ciclista no debe pasar a esta potencia umbral más del tiempo definido\n",
    "potencia_umbral = 240 #Siempre inferior a 300 y a la potencia objetivo\n",
    "tiempo_sobre_umbral = 4200\n",
    "#pot_min = 65\n",
    "#pot_max = 285\n",
    "#ff_1 = 0.6\n",
    "#ff_2 = 0.35\n",
    "\n",
    "#Probamos a coger los valores de la selección de la sigmoide de la celda anterior\n",
    "pot_min = pot_min_value.value\n",
    "pot_max = pot_max_value.value\n",
    "ff_1 = ff_1_value.value\n",
    "ff_2 = ff_2_value.value\n",
    "\n",
    "\n",
    "#Repetimos la simulación de pruebas hasta que tenemos un número de exitos concreto\n",
    "while exito < num_pruebas:\n",
    "    if (fi % 10) == 0:\n",
    "        print('Empezamos la prueba %d, llevamos %d exitos y %d fracasos' %(fi,exito,fail))\n",
    "        print(\"--- %s seconds ---\" % (time.time() - start_time))\n",
    "    \n",
    "    #Reiniciamos la variables para acumular cada prueba\n",
    "    potencia_acum = 0\n",
    "    tiempo_acum = 0\n",
    "    i= 0\n",
    "    lista_tramo_potencia = []\n",
    "    bins_potencias = [0] * 30\n",
    "    #Simulamos cada tramo de la prueba\n",
    "    while i < len(df):\n",
    "        \n",
    "        #Recuperamos el porcentaje de la pendiente, el viento y la distancia\n",
    "        porc = df[i:i+1][\"porc\"].iloc[0]\n",
    "        viento = df[i:i+1][\"viento_aparente\"].iloc[0]\n",
    "        distancia = df[i:i+1][\"dist\"].iloc[0]\n",
    "   \n",
    "    \n",
    "        #Asignamos la potencia inicial según la sigmoide que se puede consultar en ../Machine Learning/Warm-Start.ipynb\n",
    "        #Adicionalmente introducimos un factor de variabilidad basado en el viento aparente (>0 si viento en contra y viceversa)           \n",
    "        \n",
    "        if viento<0:\n",
    "            min_random = (viento/2)-1\n",
    "            max_random = abs(viento**2)+1\n",
    "        else:\n",
    "            max_random = (viento/2)+1\n",
    "            min_random = (-1*viento**2)-1\n",
    "            \n",
    "        potencia_aux = pot_min+(pot_max-pot_min)/(1+ff_1*np.e**(ff_2*porc*-1))*(np.random.randint(min_random,max_random)+100)/100\n",
    "        #potencia_aux = pot_min+(pot_max-pot_min)/(1+ff_1*np.e**(ff_2*porc*-1))+np.random.randint(-100,100)\n",
    "        potencia_min = pot_min+(pot_max-50-pot_min)/(1+ff_1*np.e**(ff_2*porc*-1))\n",
    "        potencia_max = pot_min+50+(pot_max-pot_min-50)/(1+ff_1*np.e**(ff_2*porc*-1))\n",
    "                                            \n",
    "        if potencia_aux>potencia_max:\n",
    "            potencia = potencia_max\n",
    "        elif potencia_aux<potencia_min:\n",
    "            potencia = potencia_min\n",
    "        else:\n",
    "            potencia = potencia_aux\n",
    "        \n",
    "        \n",
    "        \n",
    "        #Utilizamos el modelo de normalización entrenado para ajustar los datos de entrada\n",
    "        input_model = model_Scalar.transform([[potencia, porc, viento]])\n",
    "        \n",
    "        #Utilizamos el modelo de Tensor Flow para predecir la velocidad media de ese tramo\n",
    "        velocidad = model_TF.predict(input_model)[0]\n",
    "        \n",
    "        #Con la velocidad del paso anterior y la distancia del tramo, calculamos el tiempo necesario para recorrerlo\n",
    "        nuevo_tiempo = distancia/(velocidad/3.6)\n",
    "        #Almacenamos la información del paso actual\n",
    "        lista_tramo_potencia.append([i, potencia,velocidad[0],distancia,nuevo_tiempo[0],porc,viento])\n",
    "        \n",
    "        #Acumulamos la potencia y el tiempo para evaluar el resultado final y determinar si es éxito o no, y con que tiempo total\n",
    "        potencia_acum = potencia_acum + (potencia * nuevo_tiempo)\n",
    "        tiempo_acum = tiempo_acum + nuevo_tiempo\n",
    "        \n",
    "        #acumulamos el tiempo que se pasa en cada agrupacion de potencias\n",
    "        bins_potencias[int(potencia/10)] =bins_potencias[int(potencia/10)] + nuevo_tiempo[0]\n",
    "        \n",
    "        i += 1\n",
    "    \n",
    "    potencia_media = potencia_acum/tiempo_acum\n",
    "    \n",
    "    #Marcamos las salidas con dos digitos\n",
    "    #X0  exito\n",
    "    #X1 Fuera de umbral de tolerancia\n",
    "    #1X Mas de 20min en zona de alta potencia (Criterio de negocio)\n",
    "    \n",
    "    salida = 0\n",
    "    #Si la potencia queda fuera de intervalos viables, no se considera como exito\n",
    "    #Nos quedamos con +/-5w sobre la potencia objetivo para luego seleccionar las mejores distribuciones de potencia\n",
    "    if (potencia_media < potencia_objetivo-5) or (potencia_media > potencia_objetivo+5):\n",
    "        salida = salida+1\n",
    "    #Se determina en este caso, que el competidor no puede pasar más de 20min en potencias superiores a 250w    \n",
    "    if sum(bins_potencias[-(int(potencia/(300-potencia_umbral))):])>tiempo_sobre_umbral:\n",
    "        salida = salida+10\n",
    "\n",
    "    \n",
    "    print(\"Intento %d con potencia media %d, tiempo %d y salida %d\" %(fi, potencia_media, tiempo_acum, salida))\n",
    "        \n",
    "    #Evaluamos el exito si salida==0   \n",
    "    if (salida == 0):\n",
    "        #print(potencia_media, tiempo_acum)\n",
    "        resultados.append([fi,potencia_media[0], tiempo_acum[0], lista_tramo_potencia])\n",
    "        exito +=1\n",
    "    else:\n",
    "        #Contamos las simulaciones consideradas sin exito\n",
    "        fail +=1\n",
    "        print(\"Tiempo por encima de de %dw: %d\" %(potencia_umbral,sum(bins_potencias[-(int(potencia/(300-potencia_umbral))):])))\n",
    "    \n",
    "    fi +=1\n",
    "\n",
    "print(\"---Total time: %s seconds ---\" % (time.time() - start_time))\n",
    "\n",
    "print('Casos descartados: %d' %fail)\n",
    "print('Casos favorables: %d' %(len(resultados)))"
   ]
  },
  {
   "cell_type": "code",
   "execution_count": null,
   "metadata": {
    "scrolled": false
   },
   "outputs": [],
   "source": [
    "#Creamos DataFrame y renombramos las columnas\n",
    "ds = pd.DataFrame(resultados)\n",
    "ds.columns = ['intento','pwr','secs','list']\n",
    "ds.head()"
   ]
  },
  {
   "cell_type": "code",
   "execution_count": null,
   "metadata": {
    "scrolled": false
   },
   "outputs": [],
   "source": [
    "plt.figure(figsize = (15,8))\n",
    "plt.scatter(ds['pwr'],ds['secs'])\n",
    "plt.title('Scatter Segundos vs. Potencia por ejecución válida')\n",
    "plt.xlabel('Potencia (w)')\n",
    "plt.ylabel('Tiempo (s)')\n",
    "plt.show()"
   ]
  },
  {
   "cell_type": "markdown",
   "metadata": {},
   "source": [
    "En el scatter ya se ve con la misma potencia media tenemos distintos tiempos de finalización y viceversa"
   ]
  },
  {
   "cell_type": "code",
   "execution_count": null,
   "metadata": {},
   "outputs": [],
   "source": [
    "plt.figure(figsize = (15,8))\n",
    "plt.hist(ds['pwr'],bins=50, edgecolor ='k')\n",
    "plt.title('Histograma de Potencias Válidas')\n",
    "plt.xlabel('Potencias')\n",
    "plt.ylabel('Cuenta')\n",
    "plt.show()"
   ]
  },
  {
   "cell_type": "markdown",
   "metadata": {},
   "source": [
    "Histograma de potencias validas para la simulación"
   ]
  },
  {
   "cell_type": "code",
   "execution_count": null,
   "metadata": {
    "scrolled": true
   },
   "outputs": [],
   "source": [
    "#Pintamos el mejor resultado\n",
    "a = ds.groupby(['intento'])['secs'].agg('sum').sort_values(ascending=True)\n",
    "mejor_tiempo = a[:1].max()\n",
    "mejor_tiempo"
   ]
  },
  {
   "cell_type": "code",
   "execution_count": null,
   "metadata": {
    "scrolled": true
   },
   "outputs": [],
   "source": [
    "#Nos quedamos con los XX mejores resultados para ser analizdos en Tableau\n",
    "ganadores = pd.DataFrame(ds[ds['secs'].isin(list(a[:25].values))][['intento','list']])\n",
    "\n",
    "#Nos quedamos con el mejor resultado para inicializar las constantes en la segunda vuelta\n",
    "mejor = pd.DataFrame(ds[ds['secs']==a[:1].max()][['intento','list']])\n",
    "df_mejor = pd.DataFrame(mejor.values[0][1])\n",
    "df_mejor.columns =[\"Tramos\",\"Potencia\",\"Velocidad\",\"Distancia\",\"Tiempo\",\"Pendiente\",\"Viento\"]\n",
    "df_mejor['Intento'] = mejor.values[0][0]"
   ]
  },
  {
   "cell_type": "code",
   "execution_count": null,
   "metadata": {
    "scrolled": true
   },
   "outputs": [],
   "source": [
    "#Agregamos las características de cada tramo al df de ganadores y sacamos el resultado a Excel\n",
    "for i in range(len(ganadores)):\n",
    "    if i == 0:\n",
    "        df_ganador = pd.DataFrame(ganadores.values[i][1])\n",
    "        df_ganador.columns =[\"Tramos\",\"Potencia\",\"Velocidad\",\"Distancia\",\"Tiempo\",\"Pendiente\",\"Viento\"]\n",
    "        df_ganador['Intento'] = ganadores.values[i][0]\n",
    "    else:\n",
    "        df_aux = pd.DataFrame(ganadores.values[i][1])\n",
    "        df_aux.columns =[\"Tramos\",\"Potencia\",\"Velocidad\",\"Distancia\",\"Tiempo\",\"Pendiente\",\"Viento\"]\n",
    "        df_aux['Intento'] = ganadores.values[i][0]\n",
    "        df_ganador = df_ganador.append([df_aux])\n",
    "        del df_aux\n",
    "df_ganador.to_excel('res_sim.xlsx')\n",
    "df_ganador.head()"
   ]
  },
  {
   "cell_type": "code",
   "execution_count": null,
   "metadata": {},
   "outputs": [],
   "source": [
    "df_ganador.describe()"
   ]
  },
  {
   "cell_type": "code",
   "execution_count": null,
   "metadata": {
    "scrolled": false
   },
   "outputs": [],
   "source": [
    "plt.figure(figsize = (15,8))\n",
    "plt.hist(df_ganador['Potencia'], edgecolor ='k')\n",
    "plt.title('Histograma de Potencias Mejores')\n",
    "plt.xlabel('Potencias')\n",
    "plt.ylabel('Cuenta')\n",
    "plt.show()"
   ]
  },
  {
   "cell_type": "code",
   "execution_count": null,
   "metadata": {
    "scrolled": true
   },
   "outputs": [],
   "source": [
    "plt.figure(figsize = (15,8))\n",
    "plt.hist(df_ganador['Pendiente'], edgecolor ='k')\n",
    "plt.title('Histograma de Pendientes')\n",
    "plt.xlabel('Pendiente')\n",
    "plt.ylabel('Cuenta')\n",
    "plt.show()"
   ]
  },
  {
   "cell_type": "code",
   "execution_count": null,
   "metadata": {
    "scrolled": false
   },
   "outputs": [],
   "source": [
    "plt.figure(figsize = (15,8))\n",
    "plt.scatter(df_ganador['Pendiente'],df_ganador['Potencia'])\n",
    "plt.title('Scatter Pendiente vs. Potencia')\n",
    "plt.xlabel('Potencia (w)')\n",
    "plt.ylabel('Pendiente (%)')\n",
    "plt.show()"
   ]
  },
  {
   "cell_type": "markdown",
   "metadata": {},
   "source": [
    "La distribución de potencia es acorde a lo esperado. Vamos a ver como se comporta con respecto al viento"
   ]
  },
  {
   "cell_type": "code",
   "execution_count": null,
   "metadata": {},
   "outputs": [],
   "source": [
    "plt.figure(figsize = (15,8))\n",
    "plt.scatter(df_ganador['Pendiente'],df_ganador['Viento'], c=df_ganador['Potencia'],s=df_ganador['Potencia'], alpha=0.5)\n",
    "plt.title('Scatter Pendiente vs. Viento')\n",
    "plt.xlabel('Pendiente (%)')\n",
    "plt.ylabel('Viento (km/h)')\n",
    "plt.show()"
   ]
  },
  {
   "cell_type": "code",
   "execution_count": null,
   "metadata": {},
   "outputs": [],
   "source": [
    "plt.figure(figsize = (15,8))\n",
    "df_ganador_filtrado = df_ganador[(df_ganador['Pendiente']>-1) & (df_ganador['Pendiente']<1)]\n",
    "plt.scatter(df_ganador_filtrado['Pendiente'].values,df_ganador_filtrado['Viento'].values, c=df_ganador_filtrado['Potencia'].values,\n",
    "           s=df_ganador_filtrado['Potencia'].values, alpha=0.5)\n",
    "plt.title('Scatter Pendiente vs. Viento en -+1% de pendiente')\n",
    "plt.xlabel('Pendiente (%)')\n",
    "plt.ylabel('Viento (km/h)')\n",
    "plt.show()"
   ]
  },
  {
   "cell_type": "code",
   "execution_count": null,
   "metadata": {},
   "outputs": [],
   "source": [
    "plt.figure(figsize = (15,8))\n",
    "plt.scatter(df_ganador_filtrado['Potencia'].values,df_ganador_filtrado['Viento'].values, c=df_ganador_filtrado['Potencia'].values,\n",
    "           s=df_ganador_filtrado['Potencia'].values, alpha=0.5)\n",
    "plt.title('Scatter Potencia vs. Viento')\n",
    "plt.xlabel('Potencia (w)')\n",
    "plt.ylabel('Viento (km/h)')\n",
    "plt.show()"
   ]
  },
  {
   "cell_type": "markdown",
   "metadata": {},
   "source": [
    "Como podemos ver, la potencia aumenta según tenemos más viento a favor, lo cual es lógico si recordamos que el viento suma a la velocidad y se eleva al cuadrado"
   ]
  },
  {
   "cell_type": "code",
   "execution_count": null,
   "metadata": {
    "scrolled": true
   },
   "outputs": [],
   "source": [
    "#Juntamos el resultado de la simulación con el recorrido original a efectos de comparativa posterior en Tableau\n",
    "df_input = df[['tramo','pwr','spd','dist','time_seg','porc','viento_aparente']]\n",
    "df_input.columns =[\"Tramos\",\"Potencia\",\"Velocidad\",\"Distancia\",\"Tiempo\",\"Pendiente\",\"Viento\"]\n",
    "df_input['Intento'] = 'Original'\n",
    "df_ori = df_input.append([df_ganador])\n",
    "df_ori.to_excel('res_sim_ori.xlsx')\n",
    "df_ori.head()"
   ]
  },
  {
   "cell_type": "code",
   "execution_count": null,
   "metadata": {},
   "outputs": [],
   "source": [
    "potencias_medias = df_mejor.groupby(['Tramos'])['Potencia'].agg('mean')"
   ]
  },
  {
   "cell_type": "markdown",
   "metadata": {},
   "source": [
    "#### Posible mejora del modelo, inicializando la potencia de cada tramo con el mejor resultado de la primera simulación"
   ]
  },
  {
   "cell_type": "code",
   "execution_count": null,
   "metadata": {},
   "outputs": [],
   "source": [
    "#CON TENSORFLOW (SEGUNDA PASADA)\n",
    "#Almacenamos la hora de inicio para evaluar el tiempo que tarda en ejecutar\n",
    "start_time = time.time()\n",
    "\n",
    "#Utilizamos los modelos que se emplearon en la primera pasada* es obviamente necesario ejecutar las celdas en orden\n",
    "#model_TF = load_model('../RNN/TF_Tramos_2.model')\n",
    "#model_Scalar = pickle.load(open(\"../RNN/Scaler.model\", \"rb\"))\n",
    "\n",
    "#Inicializamos las variables de control del flujo de ejecución\n",
    "resultados = []\n",
    "\n",
    "fail = 0 #Contador de simulaciones fallidas\n",
    "exito = 0 #Contador de simulaciones correctas\n",
    "num_pruebas = 15 #Número de éxitos para finalizar la simulación\n",
    "fi = 0 #Variable para iterar\n",
    "\n",
    "#Utilizamos las mismas constantes que se emplearon en la primera pasada* es obviamente necesario ejecutar las celdas en orden\n",
    "#potencia_objetivo = 220\n",
    "#pot_min = 60\n",
    "#pot_max = 275\n",
    "#ff_1 = 0.3\n",
    "#ff_2 = 0.7\n",
    "\n",
    "print(\"Tiempo a mejorar: %d\" %mejor_tiempo)\n",
    "\n",
    "#Repetimos la simulación de pruebas hasta que tenemos un número de exitos concreto\n",
    "while exito < num_pruebas:\n",
    "    if (fi % 10) == 0:\n",
    "        print('Empezamos la prueba %d, llevamos %d exitos y %d fracasos' %(fi,exito,fail))\n",
    "        print(\"--- %s seconds ---\" % (time.time() - start_time))\n",
    "    \n",
    "    #Reiniciamos la variables para acumular cada prueba\n",
    "    potencia_acum = 0\n",
    "    tiempo_acum = 0\n",
    "    i= 0\n",
    "    lista_tramo_potencia = []\n",
    "    bins_potencias = [0] * 30\n",
    "    \n",
    "    #Simulamos cada tramo de la prueba\n",
    "    while i < len(df):\n",
    "        \n",
    "        #Recuperamos el porcentaje de la pendiente, el viento y la distancia\n",
    "        porc = df[i:i+1][\"porc\"].iloc[0]\n",
    "        viento = df[i:i+1][\"viento_aparente\"].iloc[0]\n",
    "        distancia = df[i:i+1][\"dist\"].iloc[0]\n",
    "        \n",
    "        #Asignamos la potencia inicial según la sigmoide que se puede consultar en ../Machine Learning/Warm-Start.ipynb\n",
    "        #Adicionalmente introducimos un factor de variabilidad basado en el viento aparente (>0 si viento en contra y viceversa)           \n",
    "        \n",
    "        if viento<0:\n",
    "            min_random = (viento/4)-1\n",
    "            max_random = abs(viento*3)+1\n",
    "        else:\n",
    "            max_random = (viento/4)+1\n",
    "            min_random = (-1*viento*3)-1\n",
    "        \n",
    "        \n",
    "        potencia_aux = potencias_medias[i]*(np.random.randint(min_random,max_random)+100)/100\n",
    "        \n",
    "        #Con el objetivo de complemplar mayor espectro, abrimos los intervalos 5w para probar\n",
    "        potencia_min = pot_min+(pot_max-50-pot_min)/(1+ff_1*np.e**(ff_2*porc*-1))-5\n",
    "        potencia_max = pot_min+50+(pot_max-pot_min-50)/(1+ff_1*np.e**(ff_2*porc*-1))+5\n",
    "\n",
    "        \n",
    "        if potencia_aux>potencia_max:\n",
    "            potencia = potencia_max\n",
    "        elif potencia_aux<potencia_min:\n",
    "            potencia = potencia_min\n",
    "        else:\n",
    "            potencia = potencia_aux\n",
    "    \n",
    "        #print(pot_min+(pot_max-pot_min)/(1+ff_1*np.e**(ff_2*porc*-1)),potencias_medias[i], potencia)\n",
    "        #input(\"sigue\")\n",
    "\n",
    "        \n",
    "        \n",
    "        #Utilizamos el modelo de normalización entrenado para ajustar los datos de entrada\n",
    "        input_model = model_Scalar.transform([[potencia, porc, viento]])\n",
    "        \n",
    "        #Utilizamos el modelo de Tensor Flow para predecir la velocidad media de ese tramo\n",
    "        velocidad = model_TF.predict(input_model)[0]\n",
    "        \n",
    "        #Con la velocidad del paso anterior y la distancia del tramo, calculamos el tiempo necesario para recorrerlo\n",
    "        nuevo_tiempo = distancia/(velocidad/3.6)\n",
    "        #Almacenamos la información del paso actual\n",
    "        lista_tramo_potencia.append([i, potencia,velocidad[0],distancia,nuevo_tiempo[0],porc,viento])\n",
    "        \n",
    "        #Acumulamos la potencia y el tiempo para evaluar el resultado final y determinar si es éxito o no, y con que tiempo total\n",
    "        potencia_acum = potencia_acum + (potencia * nuevo_tiempo)\n",
    "        tiempo_acum = tiempo_acum + nuevo_tiempo\n",
    "        \n",
    "        #acumulamos el tiempo que se pasa en cada agrupacion de potencias\n",
    "        bins_potencias[int(potencia/10)] =bins_potencias[int(potencia/10)] + nuevo_tiempo[0]\n",
    "        \n",
    "        i += 1\n",
    "    \n",
    "    \n",
    "    \n",
    "    potencia_media = potencia_acum/tiempo_acum\n",
    "    \n",
    "        #Marcamos las salidas con dos digitos\n",
    "    #0  exito\n",
    "    #XX1 Fuera de umbral de tolerancia\n",
    "    #X1X Mas de 20min en zona de alta potencia (Criterio de negocio)\n",
    "    #1XX No mejoramos tiempo de referencia\n",
    "    \n",
    "    \n",
    "    salida = 0\n",
    "    #Si la potencia queda fuera de intervalos viables, no se considera como exito\n",
    "    #Nos quedamos con +/-5w sobre la potencia objetivo para luego seleccionar las mejores distribuciones de potencia\n",
    "    if (potencia_media < potencia_objetivo-5) or (potencia_media > potencia_objetivo+5):\n",
    "        salida = salida+1\n",
    "    #Se determina en este caso, que el competidor no puede pasar más de 20min en potencias superiores a 250w    \n",
    "    if sum(bins_potencias[-int(potencia/(300-potencia_umbral)):])>tiempo_sobre_umbral:\n",
    "        salida = salida+10\n",
    "    #Si el tiempo final es superior al que necesitamos mejorar, no se considera éxito\n",
    "    if tiempo_acum[0]>mejor_tiempo:\n",
    "        salida = salida+100\n",
    "\n",
    "       \n",
    "    print(\"Intento %d con potencia media %d, tiempo %d y salida %d\" %(fi, potencia_media, tiempo_acum, salida))\n",
    "    \n",
    "    #Evaluamos el exito si salida==0\n",
    "    if (salida==0):\n",
    "        resultados.append([fi,potencia_media[0], tiempo_acum[0], lista_tramo_potencia])\n",
    "        exito +=1\n",
    "    else:\n",
    "        #Contamos las simulaciones consideradas sin exito\n",
    "        fail +=1\n",
    "    \n",
    "    fi +=1\n",
    "\n",
    "print(\"---Total time: %s seconds ---\" % (time.time() - start_time))\n",
    "\n",
    "print('Casos descartados: %d' %fail)\n",
    "print('Casos favorables: %d' %(len(resultados)))"
   ]
  },
  {
   "cell_type": "code",
   "execution_count": null,
   "metadata": {
    "scrolled": true
   },
   "outputs": [],
   "source": [
    "#Creamos DataFrame y renombramos las columnas\n",
    "ds = pd.DataFrame(resultados)\n",
    "ds.columns = ['intento','pwr','secs','list']\n",
    "ds.sort_values(by='secs' ,ascending=True)"
   ]
  },
  {
   "cell_type": "code",
   "execution_count": null,
   "metadata": {
    "scrolled": false
   },
   "outputs": [],
   "source": [
    "plt.figure(figsize = (15,8))\n",
    "plt.scatter(ds['pwr'],ds['secs'])\n",
    "plt.title('Scatter Segundos vs. Potencia por ejecución válida')\n",
    "plt.xlabel('Potencia (w)')\n",
    "plt.ylabel('Tiempo (s)')\n",
    "plt.show()"
   ]
  },
  {
   "cell_type": "markdown",
   "metadata": {},
   "source": [
    "En el scatter ya se ve con la misma potencia media tenemos distintos tiempos de finalización y viceversa"
   ]
  },
  {
   "cell_type": "code",
   "execution_count": null,
   "metadata": {},
   "outputs": [],
   "source": [
    "plt.figure(figsize = (15,8))\n",
    "plt.hist(ds['pwr'],bins=50, edgecolor ='k')\n",
    "plt.xlabel('Potencia (w)')\n",
    "plt.ylabel('Cuenta')\n",
    "plt.show()"
   ]
  },
  {
   "cell_type": "markdown",
   "metadata": {},
   "source": [
    "Histograma de potencias validas para la simulación"
   ]
  },
  {
   "cell_type": "code",
   "execution_count": null,
   "metadata": {},
   "outputs": [],
   "source": [
    "#Pintamos el mejor resultado\n",
    "a = ds.groupby(['intento'])['secs'].agg('sum').sort_values(ascending=True)\n",
    "a[:1].max()"
   ]
  },
  {
   "cell_type": "code",
   "execution_count": null,
   "metadata": {
    "scrolled": true
   },
   "outputs": [],
   "source": [
    "#Nos quedamos con los 50 mejores resultados para ser analizdos en Tableau\n",
    "ganadores = pd.DataFrame(ds[ds['secs']<=a[:15].max()][['intento','list']])\n",
    "ganadores['intento']=ganadores['intento']+200000 #Añadimos 200000 para que quede constancia de que son intentos de 2ª vuelta 2xxddd\n",
    "ganadores"
   ]
  },
  {
   "cell_type": "code",
   "execution_count": null,
   "metadata": {},
   "outputs": [],
   "source": [
    "#Agregamos las características de cada tramo al df de ganadores y sacamos el resultado a Excel\n",
    "for i in range(len(ganadores)):\n",
    "    if i == 0:\n",
    "        df_ganador = pd.DataFrame(ganadores.values[i][1])\n",
    "        df_ganador.columns =[\"Tramos\",\"Potencia\",\"Velocidad\",\"Distancia\",\"Tiempo\",\"Pendiente\",\"Viento\"]\n",
    "        df_ganador['Intento'] = ganadores.values[i][0]\n",
    "    else:\n",
    "        df_aux = pd.DataFrame(ganadores.values[i][1])\n",
    "        df_aux.columns =[\"Tramos\",\"Potencia\",\"Velocidad\",\"Distancia\",\"Tiempo\",\"Pendiente\",\"Viento\"]\n",
    "        df_aux['Intento'] = ganadores.values[i][0]\n",
    "        df_ganador = df_ganador.append([df_aux])\n",
    "        del df_aux\n",
    "\n",
    "df_ori2 = df_ori.append([df_ganador])       \n",
    "df_ori2.to_excel('res_sim_2vuelta.xlsx')\n",
    "df_ori2.head()"
   ]
  },
  {
   "cell_type": "code",
   "execution_count": null,
   "metadata": {},
   "outputs": [],
   "source": [
    "df_ganador.describe()"
   ]
  },
  {
   "cell_type": "code",
   "execution_count": null,
   "metadata": {
    "scrolled": false
   },
   "outputs": [],
   "source": [
    "plt.figure(figsize = (15,8))\n",
    "plt.hist(df_ganador['Potencia'], edgecolor ='k')\n",
    "plt.title('Histograma de Potencias Mejores')\n",
    "plt.xlabel('Potencias')\n",
    "plt.ylabel('Cuenta')\n",
    "plt.show()"
   ]
  },
  {
   "cell_type": "code",
   "execution_count": null,
   "metadata": {},
   "outputs": [],
   "source": [
    "plt.figure(figsize = (15,8))\n",
    "plt.scatter(df_ganador['Pendiente'],df_ganador['Potencia'])\n",
    "plt.title('Scatter de Potencias vs Pendiente')\n",
    "plt.xlabel('Potencias')\n",
    "plt.ylabel('Cuenta')\n",
    "plt.show()"
   ]
  }
 ],
 "metadata": {
  "kernelspec": {
   "display_name": "Python 3",
   "language": "python",
   "name": "python3"
  },
  "language_info": {
   "codemirror_mode": {
    "name": "ipython",
    "version": 3
   },
   "file_extension": ".py",
   "mimetype": "text/x-python",
   "name": "python",
   "nbconvert_exporter": "python",
   "pygments_lexer": "ipython3",
   "version": "3.6.5"
  }
 },
 "nbformat": 4,
 "nbformat_minor": 2
}
