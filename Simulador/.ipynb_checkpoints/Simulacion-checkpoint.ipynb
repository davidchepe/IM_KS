{
 "cells": [
  {
   "cell_type": "markdown",
   "metadata": {},
   "source": [
    "## Simulador de Recorridos ciclistas"
   ]
  },
  {
   "cell_type": "markdown",
   "metadata": {},
   "source": [
    "### Importamos librerias"
   ]
  },
  {
   "cell_type": "code",
   "execution_count": 1,
   "metadata": {
    "scrolled": true
   },
   "outputs": [
    {
     "name": "stderr",
     "output_type": "stream",
     "text": [
      "C:\\ProgramData\\Anaconda3\\lib\\site-packages\\h5py\\__init__.py:36: FutureWarning: Conversion of the second argument of issubdtype from `float` to `np.floating` is deprecated. In future, it will be treated as `np.float64 == np.dtype(float).type`.\n",
      "  from ._conv import register_converters as _register_converters\n",
      "Using TensorFlow backend.\n"
     ]
    }
   ],
   "source": [
    "import pandas as pd\n",
    "import numpy as np\n",
    "from sklearn.externals import joblib\n",
    "from keras.models import load_model\n",
    "import pickle\n",
    "import time\n",
    "\n",
    "import matplotlib.pylab as plt\n",
    "%matplotlib inline\n",
    "plt.style.use('seaborn')"
   ]
  },
  {
   "cell_type": "code",
   "execution_count": 2,
   "metadata": {},
   "outputs": [],
   "source": [
    "#Como tenemos procesado todo en el mismo fichero, lo cargamos\n",
    "\n",
    "#path = '../Entrenamientos/Procesado_Tramos.xlsx'\n",
    "path = '../Entrenamientos/Procesado_Tramos_simulacion.xlsx'\n",
    "df = pd.read_excel(path)"
   ]
  },
  {
   "cell_type": "markdown",
   "metadata": {},
   "source": [
    "### Filtramos datos"
   ]
  },
  {
   "cell_type": "code",
   "execution_count": 3,
   "metadata": {},
   "outputs": [],
   "source": [
    "#Eliminar las filas que no tienen datos y seleccionamos la prueba que queremos simular\n",
    "df = df[df[\"porc\"]!=np.inf]\n",
    "#df = df[df[\"prueba\"]==\"20180429_LEMG_195_90_R_C.gpx\"]"
   ]
  },
  {
   "cell_type": "code",
   "execution_count": 4,
   "metadata": {},
   "outputs": [
    {
     "data": {
      "text/html": [
       "<div>\n",
       "<style scoped>\n",
       "    .dataframe tbody tr th:only-of-type {\n",
       "        vertical-align: middle;\n",
       "    }\n",
       "\n",
       "    .dataframe tbody tr th {\n",
       "        vertical-align: top;\n",
       "    }\n",
       "\n",
       "    .dataframe thead th {\n",
       "        text-align: right;\n",
       "    }\n",
       "</style>\n",
       "<table border=\"1\" class=\"dataframe\">\n",
       "  <thead>\n",
       "    <tr style=\"text-align: right;\">\n",
       "      <th></th>\n",
       "      <th>tramo</th>\n",
       "      <th>tramo_inicial</th>\n",
       "      <th>tramo_final</th>\n",
       "      <th>dist</th>\n",
       "      <th>viento_aparente</th>\n",
       "      <th>porc</th>\n",
       "      <th>dist_acum</th>\n",
       "    </tr>\n",
       "  </thead>\n",
       "  <tbody>\n",
       "    <tr>\n",
       "      <th>count</th>\n",
       "      <td>84.000000</td>\n",
       "      <td>84.000000</td>\n",
       "      <td>84.000000</td>\n",
       "      <td>84.000000</td>\n",
       "      <td>84.000000</td>\n",
       "      <td>84.000000</td>\n",
       "      <td>84.000000</td>\n",
       "    </tr>\n",
       "    <tr>\n",
       "      <th>mean</th>\n",
       "      <td>41.500000</td>\n",
       "      <td>1220.797619</td>\n",
       "      <td>1252.880952</td>\n",
       "      <td>507.744281</td>\n",
       "      <td>-0.587996</td>\n",
       "      <td>-0.047731</td>\n",
       "      <td>19509.435551</td>\n",
       "    </tr>\n",
       "    <tr>\n",
       "      <th>std</th>\n",
       "      <td>24.392622</td>\n",
       "      <td>777.046195</td>\n",
       "      <td>781.656619</td>\n",
       "      <td>693.744429</td>\n",
       "      <td>5.336408</td>\n",
       "      <td>1.819731</td>\n",
       "      <td>12154.558566</td>\n",
       "    </tr>\n",
       "    <tr>\n",
       "      <th>min</th>\n",
       "      <td>0.000000</td>\n",
       "      <td>0.000000</td>\n",
       "      <td>25.000000</td>\n",
       "      <td>12.158278</td>\n",
       "      <td>-9.954147</td>\n",
       "      <td>-4.645913</td>\n",
       "      <td>329.544198</td>\n",
       "    </tr>\n",
       "    <tr>\n",
       "      <th>25%</th>\n",
       "      <td>20.750000</td>\n",
       "      <td>529.750000</td>\n",
       "      <td>609.500000</td>\n",
       "      <td>25.516494</td>\n",
       "      <td>-4.099877</td>\n",
       "      <td>-0.565377</td>\n",
       "      <td>9742.611994</td>\n",
       "    </tr>\n",
       "    <tr>\n",
       "      <th>50%</th>\n",
       "      <td>41.500000</td>\n",
       "      <td>1235.500000</td>\n",
       "      <td>1266.000000</td>\n",
       "      <td>145.726222</td>\n",
       "      <td>-1.248373</td>\n",
       "      <td>0.001432</td>\n",
       "      <td>19614.673821</td>\n",
       "    </tr>\n",
       "    <tr>\n",
       "      <th>75%</th>\n",
       "      <td>62.250000</td>\n",
       "      <td>1779.000000</td>\n",
       "      <td>1797.500000</td>\n",
       "      <td>784.964079</td>\n",
       "      <td>2.888754</td>\n",
       "      <td>0.363841</td>\n",
       "      <td>27829.260059</td>\n",
       "    </tr>\n",
       "    <tr>\n",
       "      <th>max</th>\n",
       "      <td>83.000000</td>\n",
       "      <td>2663.000000</td>\n",
       "      <td>2695.000000</td>\n",
       "      <td>3454.663686</td>\n",
       "      <td>9.997376</td>\n",
       "      <td>4.950157</td>\n",
       "      <td>42624.028333</td>\n",
       "    </tr>\n",
       "  </tbody>\n",
       "</table>\n",
       "</div>"
      ],
      "text/plain": [
       "           tramo  tramo_inicial  tramo_final         dist  viento_aparente  \\\n",
       "count  84.000000      84.000000    84.000000    84.000000        84.000000   \n",
       "mean   41.500000    1220.797619  1252.880952   507.744281        -0.587996   \n",
       "std    24.392622     777.046195   781.656619   693.744429         5.336408   \n",
       "min     0.000000       0.000000    25.000000    12.158278        -9.954147   \n",
       "25%    20.750000     529.750000   609.500000    25.516494        -4.099877   \n",
       "50%    41.500000    1235.500000  1266.000000   145.726222        -1.248373   \n",
       "75%    62.250000    1779.000000  1797.500000   784.964079         2.888754   \n",
       "max    83.000000    2663.000000  2695.000000  3454.663686         9.997376   \n",
       "\n",
       "            porc     dist_acum  \n",
       "count  84.000000     84.000000  \n",
       "mean   -0.047731  19509.435551  \n",
       "std     1.819731  12154.558566  \n",
       "min    -4.645913    329.544198  \n",
       "25%    -0.565377   9742.611994  \n",
       "50%     0.001432  19614.673821  \n",
       "75%     0.363841  27829.260059  \n",
       "max     4.950157  42624.028333  "
      ]
     },
     "execution_count": 4,
     "metadata": {},
     "output_type": "execute_result"
    }
   ],
   "source": [
    "df.describe()"
   ]
  },
  {
   "cell_type": "code",
   "execution_count": 5,
   "metadata": {},
   "outputs": [
    {
     "data": {
      "text/html": [
       "<div>\n",
       "<style scoped>\n",
       "    .dataframe tbody tr th:only-of-type {\n",
       "        vertical-align: middle;\n",
       "    }\n",
       "\n",
       "    .dataframe tbody tr th {\n",
       "        vertical-align: top;\n",
       "    }\n",
       "\n",
       "    .dataframe thead th {\n",
       "        text-align: right;\n",
       "    }\n",
       "</style>\n",
       "<table border=\"1\" class=\"dataframe\">\n",
       "  <thead>\n",
       "    <tr style=\"text-align: right;\">\n",
       "      <th></th>\n",
       "      <th>tramo</th>\n",
       "      <th>tramo_inicial</th>\n",
       "      <th>tramo_final</th>\n",
       "      <th>dist</th>\n",
       "      <th>viento_aparente</th>\n",
       "      <th>porc</th>\n",
       "      <th>dist_acum</th>\n",
       "      <th>prueba</th>\n",
       "    </tr>\n",
       "  </thead>\n",
       "  <tbody>\n",
       "    <tr>\n",
       "      <th>0</th>\n",
       "      <td>0</td>\n",
       "      <td>0</td>\n",
       "      <td>25</td>\n",
       "      <td>344.041550</td>\n",
       "      <td>3.492273</td>\n",
       "      <td>1.596116</td>\n",
       "      <td>329.544198</td>\n",
       "      <td>xxxxxxxx_LEVS_195_90_R_E.gpx</td>\n",
       "    </tr>\n",
       "    <tr>\n",
       "      <th>1</th>\n",
       "      <td>1</td>\n",
       "      <td>25</td>\n",
       "      <td>26</td>\n",
       "      <td>13.567297</td>\n",
       "      <td>1.574548</td>\n",
       "      <td>-0.218832</td>\n",
       "      <td>344.041550</td>\n",
       "      <td>xxxxxxxx_LEVS_195_90_R_E.gpx</td>\n",
       "    </tr>\n",
       "    <tr>\n",
       "      <th>2</th>\n",
       "      <td>2</td>\n",
       "      <td>26</td>\n",
       "      <td>37</td>\n",
       "      <td>168.993513</td>\n",
       "      <td>1.731397</td>\n",
       "      <td>0.371159</td>\n",
       "      <td>509.985494</td>\n",
       "      <td>xxxxxxxx_LEVS_195_90_R_E.gpx</td>\n",
       "    </tr>\n",
       "    <tr>\n",
       "      <th>3</th>\n",
       "      <td>3</td>\n",
       "      <td>37</td>\n",
       "      <td>38</td>\n",
       "      <td>17.331806</td>\n",
       "      <td>1.575208</td>\n",
       "      <td>-0.067596</td>\n",
       "      <td>526.602360</td>\n",
       "      <td>xxxxxxxx_LEVS_195_90_R_E.gpx</td>\n",
       "    </tr>\n",
       "    <tr>\n",
       "      <th>4</th>\n",
       "      <td>4</td>\n",
       "      <td>38</td>\n",
       "      <td>41</td>\n",
       "      <td>48.498332</td>\n",
       "      <td>3.407638</td>\n",
       "      <td>0.074144</td>\n",
       "      <td>579.260182</td>\n",
       "      <td>xxxxxxxx_LEVS_195_90_R_E.gpx</td>\n",
       "    </tr>\n",
       "  </tbody>\n",
       "</table>\n",
       "</div>"
      ],
      "text/plain": [
       "   tramo  tramo_inicial  tramo_final        dist  viento_aparente      porc  \\\n",
       "0      0              0           25  344.041550         3.492273  1.596116   \n",
       "1      1             25           26   13.567297         1.574548 -0.218832   \n",
       "2      2             26           37  168.993513         1.731397  0.371159   \n",
       "3      3             37           38   17.331806         1.575208 -0.067596   \n",
       "4      4             38           41   48.498332         3.407638  0.074144   \n",
       "\n",
       "    dist_acum                        prueba  \n",
       "0  329.544198  xxxxxxxx_LEVS_195_90_R_E.gpx  \n",
       "1  344.041550  xxxxxxxx_LEVS_195_90_R_E.gpx  \n",
       "2  509.985494  xxxxxxxx_LEVS_195_90_R_E.gpx  \n",
       "3  526.602360  xxxxxxxx_LEVS_195_90_R_E.gpx  \n",
       "4  579.260182  xxxxxxxx_LEVS_195_90_R_E.gpx  "
      ]
     },
     "execution_count": 5,
     "metadata": {},
     "output_type": "execute_result"
    }
   ],
   "source": [
    "#Se revisa que no existan datos anómalos\n",
    "df.head()"
   ]
  },
  {
   "cell_type": "code",
   "execution_count": 6,
   "metadata": {},
   "outputs": [
    {
     "data": {
      "text/plain": [
       "(array([1., 0., 0., 1., 0., 0., 0., 0., 0., 0., 0., 0., 0., 0., 1., 0., 0.,\n",
       "        0., 0., 1., 1., 1., 1., 4., 5., 0., 0., 0., 1., 0., 0., 0., 0., 0.,\n",
       "        1., 1., 0., 0., 1., 0., 0., 1., 1., 1., 1., 3., 6., 7., 6., 7., 4.,\n",
       "        5., 3., 1., 2., 0., 0., 0., 0., 0., 1., 0., 0., 0., 0., 1., 0., 0.,\n",
       "        2., 1., 1., 1., 1., 0., 0., 0., 0., 0., 0., 0., 1., 0., 2., 1., 0.,\n",
       "        1., 2., 0., 0., 0., 0., 0., 0., 0., 0., 0., 0., 0., 0., 1.]),\n",
       " array([-4.64591325, -4.54995255, -4.45399185, -4.35803115, -4.26207045,\n",
       "        -4.16610974, -4.07014904, -3.97418834, -3.87822764, -3.78226694,\n",
       "        -3.68630624, -3.59034553, -3.49438483, -3.39842413, -3.30246343,\n",
       "        -3.20650273, -3.11054202, -3.01458132, -2.91862062, -2.82265992,\n",
       "        -2.72669922, -2.63073852, -2.53477781, -2.43881711, -2.34285641,\n",
       "        -2.24689571, -2.15093501, -2.05497431, -1.9590136 , -1.8630529 ,\n",
       "        -1.7670922 , -1.6711315 , -1.5751708 , -1.4792101 , -1.38324939,\n",
       "        -1.28728869, -1.19132799, -1.09536729, -0.99940659, -0.90344588,\n",
       "        -0.80748518, -0.71152448, -0.61556378, -0.51960308, -0.42364238,\n",
       "        -0.32768167, -0.23172097, -0.13576027, -0.03979957,  0.05616113,\n",
       "         0.15212183,  0.24808254,  0.34404324,  0.44000394,  0.53596464,\n",
       "         0.63192534,  0.72788604,  0.82384675,  0.91980745,  1.01576815,\n",
       "         1.11172885,  1.20768955,  1.30365026,  1.39961096,  1.49557166,\n",
       "         1.59153236,  1.68749306,  1.78345376,  1.87941447,  1.97537517,\n",
       "         2.07133587,  2.16729657,  2.26325727,  2.35921797,  2.45517868,\n",
       "         2.55113938,  2.64710008,  2.74306078,  2.83902148,  2.93498218,\n",
       "         3.03094289,  3.12690359,  3.22286429,  3.31882499,  3.41478569,\n",
       "         3.5107464 ,  3.6067071 ,  3.7026678 ,  3.7986285 ,  3.8945892 ,\n",
       "         3.9905499 ,  4.08651061,  4.18247131,  4.27843201,  4.37439271,\n",
       "         4.47035341,  4.56631411,  4.66227482,  4.75823552,  4.85419622,\n",
       "         4.95015692]),\n",
       " <a list of 100 Patch objects>)"
      ]
     },
     "execution_count": 6,
     "metadata": {},
     "output_type": "execute_result"
    },
    {
     "data": {
      "image/png": "[encoded data removed]",
      "text/plain": [
       "<Figure size 432x288 with 1 Axes>"
      ]
     },
     "metadata": {},
     "output_type": "display_data"
    }
   ],
   "source": [
    "plt.hist(df['porc'],bins=100)"
   ]
  },
  {
   "cell_type": "markdown",
   "metadata": {},
   "source": [
    "Vemos que la mayoría de tramos están centrados en porcentajes cercanos a 0, aunque también hay varios tramos de subidas y bajadas"
   ]
  },
  {
   "cell_type": "code",
   "execution_count": 12,
   "metadata": {},
   "outputs": [
    {
     "name": "stdout",
     "output_type": "stream",
     "text": [
      "Empezamos la prueba 0, llevamos 0 exitos y 0 fracasos\n",
      "--- 0.6902143955230713 seconds ---\n",
      "Intento 0 con potencia media 222 y tiempo 4962\n",
      "Intento 1 con potencia media 222 y tiempo 4954\n",
      "Intento 2 con potencia media 221 y tiempo 4973\n",
      "Intento 3 con potencia media 222 y tiempo 4963\n",
      "Intento 4 con potencia media 222 y tiempo 4960\n",
      "Intento 5 con potencia media 221 y tiempo 4971\n",
      "Intento 6 con potencia media 222 y tiempo 4961\n",
      "Intento 7 con potencia media 221 y tiempo 4967\n",
      "Intento 8 con potencia media 221 y tiempo 4967\n",
      "Intento 9 con potencia media 221 y tiempo 4968\n",
      "Empezamos la prueba 10, llevamos 10 exitos y 0 fracasos\n",
      "--- 2.197462320327759 seconds ---\n",
      "Intento 10 con potencia media 221 y tiempo 4970\n",
      "Intento 11 con potencia media 221 y tiempo 4965\n",
      "Intento 12 con potencia media 221 y tiempo 4967\n",
      "Intento 13 con potencia media 221 y tiempo 4967\n",
      "Intento 14 con potencia media 220 y tiempo 4975\n",
      "Intento 15 con potencia media 221 y tiempo 4970\n",
      "Intento 16 con potencia media 220 y tiempo 4971\n",
      "Intento 17 con potencia media 221 y tiempo 4973\n",
      "Intento 18 con potencia media 220 y tiempo 4974\n",
      "Intento 19 con potencia media 221 y tiempo 4973\n",
      "Empezamos la prueba 20, llevamos 20 exitos y 0 fracasos\n",
      "--- 3.618360996246338 seconds ---\n",
      "Intento 20 con potencia media 221 y tiempo 4965\n",
      "Intento 21 con potencia media 221 y tiempo 4964\n",
      "Intento 22 con potencia media 221 y tiempo 4969\n",
      "Intento 23 con potencia media 222 y tiempo 4963\n",
      "Intento 24 con potencia media 221 y tiempo 4971\n",
      "Intento 25 con potencia media 221 y tiempo 4972\n",
      "Intento 26 con potencia media 221 y tiempo 4966\n",
      "Intento 27 con potencia media 221 y tiempo 4968\n",
      "Intento 28 con potencia media 221 y tiempo 4971\n",
      "Intento 29 con potencia media 222 y tiempo 4964\n",
      "Empezamos la prueba 30, llevamos 30 exitos y 0 fracasos\n",
      "--- 4.930535793304443 seconds ---\n",
      "Intento 30 con potencia media 221 y tiempo 4967\n",
      "Intento 31 con potencia media 221 y tiempo 4975\n",
      "Intento 32 con potencia media 221 y tiempo 4970\n",
      "Intento 33 con potencia media 221 y tiempo 4973\n",
      "Intento 34 con potencia media 219 y tiempo 4980\n",
      "Intento 35 con potencia media 221 y tiempo 4970\n",
      "Intento 36 con potencia media 221 y tiempo 4972\n",
      "Intento 37 con potencia media 222 y tiempo 4962\n",
      "Intento 38 con potencia media 222 y tiempo 4961\n",
      "Intento 39 con potencia media 221 y tiempo 4966\n",
      "Empezamos la prueba 40, llevamos 40 exitos y 0 fracasos\n",
      "--- 6.9264466762542725 seconds ---\n",
      "Intento 40 con potencia media 221 y tiempo 4974\n",
      "Intento 41 con potencia media 221 y tiempo 4974\n",
      "Intento 42 con potencia media 220 y tiempo 4971\n",
      "Intento 43 con potencia media 221 y tiempo 4962\n",
      "Intento 44 con potencia media 221 y tiempo 4968\n",
      "Intento 45 con potencia media 221 y tiempo 4967\n",
      "Intento 46 con potencia media 221 y tiempo 4969\n",
      "Intento 47 con potencia media 221 y tiempo 4965\n",
      "Intento 48 con potencia media 221 y tiempo 4976\n",
      "Intento 49 con potencia media 221 y tiempo 4964\n",
      "---Total time: 9.596712827682495 seconds ---\n",
      "Casos descartados: 0\n",
      "Casos favorables: 50\n"
     ]
    }
   ],
   "source": [
    "#Prueba iterando en cada tramo con intervalos aleatorios con el modelo desarrollado CON TENSORFLOW (PRIMERA PASADA)\n",
    "\n",
    "#Almacenamos la hora de inicio para evaluar el tiempo que tarda en ejecutar\n",
    "start_time = time.time()\n",
    "\n",
    "#Cargamos los dos modelos con los que vamos a trabajar\n",
    "model_TF = load_model('../RNN/TF_Tramos_2.model')\n",
    "model_Scalar = pickle.load(open(\"../RNN/Scaler.model\", \"rb\"))\n",
    "\n",
    "#Inicializamos las variables de control del flujo de ejecución\n",
    "resultados = []\n",
    "\n",
    "fail = 0 #Contador de simulaciones fallidas\n",
    "exito = 0 #Contador de simulaciones correctas\n",
    "num_pruebas = 50 #Número de éxitos para finalizar la simulación\n",
    "fi = 0 #Variable para iterar\n",
    "\n",
    "#Las siguientes variables se rellenan a criterio del entrenador o de quien use esta simulación\n",
    "potencia_objetivo = 220\n",
    "pot_min = 80\n",
    "pot_max = 280\n",
    "ff_1 = 0.4\n",
    "ff_2 = 0.6\n",
    "\n",
    "#Repetimos la simulación de pruebas hasta que tenemos un número de exitos concreto\n",
    "while exito < num_pruebas:\n",
    "    if (fi % 10) == 0:\n",
    "        print('Empezamos la prueba %d, llevamos %d exitos y %d fracasos' %(fi,exito,fail))\n",
    "        print(\"--- %s seconds ---\" % (time.time() - start_time))\n",
    "    \n",
    "    #Reiniciamos la variables para acumular cada prueba\n",
    "    potencia_acum = 0\n",
    "    tiempo_acum = 0\n",
    "    i= 0\n",
    "    lista_tramo_potencia = []\n",
    "    bins_potencias = [0] * 30\n",
    "    #Simulamos cada tramo de la prueba\n",
    "    while i < len(df):\n",
    "        \n",
    "        #Recuperamos el porcentaje de la pendiente, el viento y la distancia\n",
    "        porc = df[i:i+1][\"porc\"].iloc[0]\n",
    "        viento = df[i:i+1][\"viento_aparente\"].iloc[0]\n",
    "        distancia = df[i:i+1][\"dist\"].iloc[0]\n",
    "   \n",
    "    \n",
    "        #Asignamos la potencia inicial según la sigmoide que se puede consultar en ../Machine Learning/Warm-Start.ipynb\n",
    "        #Adicionalmente introducimos un factor de variabilidad basado en el viento aparente (>0 si viento en contra y viceversa)           \n",
    "        \n",
    "        if viento<0:\n",
    "            min_random = (viento/2)-1\n",
    "            max_random = abs(viento**2)+1\n",
    "        else:\n",
    "            max_random = (viento/2)+1\n",
    "            min_random = (-1*viento**2)-1\n",
    "            \n",
    "        potencia_aux = pot_min+(pot_max-pot_min)/(1+ff_1*np.e**(ff_2*porc*-1))*(np.random.randint(min_random,max_random)+100)/100\n",
    "        #potencia_aux = pot_min+(pot_max-pot_min)/(1+ff_1*np.e**(ff_2*porc*-1))+np.random.randint(-100,100)\n",
    "        potencia_min = pot_min+(pot_max-25-pot_min)/(1+ff_1*np.e**(ff_2*porc*-1))\n",
    "        potencia_max = pot_min+25+(pot_max-pot_min-25)/(1+ff_1*np.e**(ff_2*porc*-1))\n",
    "                                            \n",
    "        if potencia_aux>potencia_max:\n",
    "            potencia = potencia_max\n",
    "        elif potencia_aux<potencia_min:\n",
    "            potencia = potencia_min\n",
    "        else:\n",
    "            potencia = potencia_aux\n",
    "        \n",
    "        \n",
    "        \n",
    "        #Utilizamos el modelo de normalización entrenado para ajustar los datos de entrada\n",
    "        input_model = model_Scalar.transform([[potencia, porc, viento]])\n",
    "        \n",
    "        #Utilizamos el modelo de Tensor Flow para predecir la velocidad media de ese tramo\n",
    "        velocidad = model_TF.predict(input_model)[0]\n",
    "        \n",
    "        #Con la velocidad del paso anterior y la distancia del tramo, calculamos el tiempo necesario para recorrerlo\n",
    "        nuevo_tiempo = distancia/(velocidad/3.6)\n",
    "        #Almacenamos la información del paso actual\n",
    "        lista_tramo_potencia.append([i, potencia,velocidad[0],distancia,nuevo_tiempo[0],porc,viento])\n",
    "        \n",
    "        #Acumulamos la potencia y el tiempo para evaluar el resultado final y determinar si es éxito o no, y con que tiempo total\n",
    "        potencia_acum = potencia_acum + (potencia * nuevo_tiempo)\n",
    "        tiempo_acum = tiempo_acum + nuevo_tiempo\n",
    "        \n",
    "        #acumulamos el tiempo que se pasa en cada agrupacion de potencias\n",
    "        bins_potencias[int(potencia/10)] =bins_potencias[int(potencia/10)] + nuevo_tiempo[0]\n",
    "        \n",
    "        i += 1\n",
    "    \n",
    "    potencia_media = potencia_acum/tiempo_acum\n",
    "    print(\"Intento %d con potencia media %d y tiempo %d\" %(fi, potencia_media, tiempo_acum))\n",
    "    \n",
    "    #Si la potencia queda fuera de intervalos viables, no se considera como exito\n",
    "    #Nos quedamos con +/-20w sobre la potencia objetivo para luego seleccionar las mejores distribuciones de potencia\n",
    "    if (potencia_media > potencia_objetivo-5) and (potencia_media < potencia_objetivo+5):\n",
    "        #print(potencia_media, tiempo_acum)\n",
    "        resultados.append([fi,potencia_media[0], tiempo_acum[0], lista_tramo_potencia])\n",
    "        exito +=1\n",
    "    else:\n",
    "        #Contamos las simulaciones consideradas sin exito\n",
    "        fail +=1\n",
    "    \n",
    "    fi +=1\n",
    "\n",
    "print(\"---Total time: %s seconds ---\" % (time.time() - start_time))\n",
    "\n",
    "print('Casos descartados: %d' %fail)\n",
    "print('Casos favorables: %d' %(len(resultados)))"
   ]
  },
  {
   "cell_type": "code",
   "execution_count": 21,
   "metadata": {
    "scrolled": true
   },
   "outputs": [
    {
     "data": {
      "text/html": [
       "<div>\n",
       "<style scoped>\n",
       "    .dataframe tbody tr th:only-of-type {\n",
       "        vertical-align: middle;\n",
       "    }\n",
       "\n",
       "    .dataframe tbody tr th {\n",
       "        vertical-align: top;\n",
       "    }\n",
       "\n",
       "    .dataframe thead th {\n",
       "        text-align: right;\n",
       "    }\n",
       "</style>\n",
       "<table border=\"1\" class=\"dataframe\">\n",
       "  <thead>\n",
       "    <tr style=\"text-align: right;\">\n",
       "      <th></th>\n",
       "      <th>segundos</th>\n",
       "      <th>potencia</th>\n",
       "    </tr>\n",
       "  </thead>\n",
       "  <tbody>\n",
       "    <tr>\n",
       "      <th>0</th>\n",
       "      <td>0.000000</td>\n",
       "      <td>0</td>\n",
       "    </tr>\n",
       "    <tr>\n",
       "      <th>1</th>\n",
       "      <td>0.000000</td>\n",
       "      <td>10</td>\n",
       "    </tr>\n",
       "    <tr>\n",
       "      <th>2</th>\n",
       "      <td>0.000000</td>\n",
       "      <td>20</td>\n",
       "    </tr>\n",
       "    <tr>\n",
       "      <th>3</th>\n",
       "      <td>0.000000</td>\n",
       "      <td>30</td>\n",
       "    </tr>\n",
       "    <tr>\n",
       "      <th>4</th>\n",
       "      <td>0.000000</td>\n",
       "      <td>40</td>\n",
       "    </tr>\n",
       "    <tr>\n",
       "      <th>5</th>\n",
       "      <td>0.000000</td>\n",
       "      <td>50</td>\n",
       "    </tr>\n",
       "    <tr>\n",
       "      <th>6</th>\n",
       "      <td>0.000000</td>\n",
       "      <td>60</td>\n",
       "    </tr>\n",
       "    <tr>\n",
       "      <th>7</th>\n",
       "      <td>0.000000</td>\n",
       "      <td>70</td>\n",
       "    </tr>\n",
       "    <tr>\n",
       "      <th>8</th>\n",
       "      <td>0.000000</td>\n",
       "      <td>80</td>\n",
       "    </tr>\n",
       "    <tr>\n",
       "      <th>9</th>\n",
       "      <td>0.000000</td>\n",
       "      <td>90</td>\n",
       "    </tr>\n",
       "    <tr>\n",
       "      <th>10</th>\n",
       "      <td>170.091515</td>\n",
       "      <td>100</td>\n",
       "    </tr>\n",
       "    <tr>\n",
       "      <th>11</th>\n",
       "      <td>0.000000</td>\n",
       "      <td>110</td>\n",
       "    </tr>\n",
       "    <tr>\n",
       "      <th>12</th>\n",
       "      <td>45.020702</td>\n",
       "      <td>120</td>\n",
       "    </tr>\n",
       "    <tr>\n",
       "      <th>13</th>\n",
       "      <td>0.000000</td>\n",
       "      <td>130</td>\n",
       "    </tr>\n",
       "    <tr>\n",
       "      <th>14</th>\n",
       "      <td>505.829918</td>\n",
       "      <td>140</td>\n",
       "    </tr>\n",
       "    <tr>\n",
       "      <th>15</th>\n",
       "      <td>360.963581</td>\n",
       "      <td>150</td>\n",
       "    </tr>\n",
       "    <tr>\n",
       "      <th>16</th>\n",
       "      <td>433.866398</td>\n",
       "      <td>160</td>\n",
       "    </tr>\n",
       "    <tr>\n",
       "      <th>17</th>\n",
       "      <td>133.754532</td>\n",
       "      <td>170</td>\n",
       "    </tr>\n",
       "    <tr>\n",
       "      <th>18</th>\n",
       "      <td>70.620773</td>\n",
       "      <td>180</td>\n",
       "    </tr>\n",
       "    <tr>\n",
       "      <th>19</th>\n",
       "      <td>0.000000</td>\n",
       "      <td>190</td>\n",
       "    </tr>\n",
       "    <tr>\n",
       "      <th>20</th>\n",
       "      <td>31.205809</td>\n",
       "      <td>200</td>\n",
       "    </tr>\n",
       "    <tr>\n",
       "      <th>21</th>\n",
       "      <td>148.324802</td>\n",
       "      <td>210</td>\n",
       "    </tr>\n",
       "    <tr>\n",
       "      <th>22</th>\n",
       "      <td>91.873527</td>\n",
       "      <td>220</td>\n",
       "    </tr>\n",
       "    <tr>\n",
       "      <th>23</th>\n",
       "      <td>234.902379</td>\n",
       "      <td>230</td>\n",
       "    </tr>\n",
       "    <tr>\n",
       "      <th>24</th>\n",
       "      <td>243.697855</td>\n",
       "      <td>240</td>\n",
       "    </tr>\n",
       "    <tr>\n",
       "      <th>25</th>\n",
       "      <td>585.876488</td>\n",
       "      <td>250</td>\n",
       "    </tr>\n",
       "    <tr>\n",
       "      <th>26</th>\n",
       "      <td>1372.703018</td>\n",
       "      <td>260</td>\n",
       "    </tr>\n",
       "    <tr>\n",
       "      <th>27</th>\n",
       "      <td>536.061676</td>\n",
       "      <td>270</td>\n",
       "    </tr>\n",
       "    <tr>\n",
       "      <th>28</th>\n",
       "      <td>0.000000</td>\n",
       "      <td>280</td>\n",
       "    </tr>\n",
       "    <tr>\n",
       "      <th>29</th>\n",
       "      <td>0.000000</td>\n",
       "      <td>290</td>\n",
       "    </tr>\n",
       "  </tbody>\n",
       "</table>\n",
       "</div>"
      ],
      "text/plain": [
       "       segundos  potencia\n",
       "0      0.000000         0\n",
       "1      0.000000        10\n",
       "2      0.000000        20\n",
       "3      0.000000        30\n",
       "4      0.000000        40\n",
       "5      0.000000        50\n",
       "6      0.000000        60\n",
       "7      0.000000        70\n",
       "8      0.000000        80\n",
       "9      0.000000        90\n",
       "10   170.091515       100\n",
       "11     0.000000       110\n",
       "12    45.020702       120\n",
       "13     0.000000       130\n",
       "14   505.829918       140\n",
       "15   360.963581       150\n",
       "16   433.866398       160\n",
       "17   133.754532       170\n",
       "18    70.620773       180\n",
       "19     0.000000       190\n",
       "20    31.205809       200\n",
       "21   148.324802       210\n",
       "22    91.873527       220\n",
       "23   234.902379       230\n",
       "24   243.697855       240\n",
       "25   585.876488       250\n",
       "26  1372.703018       260\n",
       "27   536.061676       270\n",
       "28     0.000000       280\n",
       "29     0.000000       290"
      ]
     },
     "execution_count": 21,
     "metadata": {},
     "output_type": "execute_result"
    }
   ],
   "source": [
    "histo_pot = pd.DataFrame(bins_potencias)\n",
    "histo_pot[potencia]=histo_pot.index.values*10\n",
    "histo_pot.columns = ['segundos','potencia']\n",
    "histo_pot"
   ]
  },
  {
   "cell_type": "code",
   "execution_count": 27,
   "metadata": {},
   "outputs": [
    {
     "data": {
      "text/plain": [
       "2494.641181945801"
      ]
     },
     "execution_count": 27,
     "metadata": {},
     "output_type": "execute_result"
    }
   ],
   "source": [
    "sum(bins_potencias[-5:])"
   ]
  },
  {
   "cell_type": "code",
   "execution_count": null,
   "metadata": {
    "scrolled": false
   },
   "outputs": [],
   "source": [
    "#Creamos DataFrame y renombramos las columnas\n",
    "ds = pd.DataFrame(resultados)\n",
    "ds.columns = ('intento','pwr','secs','list')\n",
    "ds"
   ]
  },
  {
   "cell_type": "code",
   "execution_count": null,
   "metadata": {
    "scrolled": false
   },
   "outputs": [],
   "source": [
    "plt.scatter(ds['pwr'],ds['secs'])"
   ]
  },
  {
   "cell_type": "markdown",
   "metadata": {},
   "source": [
    "En el scatter ya se ve con la misma potencia media tenemos distintos tiempos de finalización y viceversa"
   ]
  },
  {
   "cell_type": "code",
   "execution_count": null,
   "metadata": {},
   "outputs": [],
   "source": [
    "plt.hist(ds['pwr'],bins=50)"
   ]
  },
  {
   "cell_type": "markdown",
   "metadata": {},
   "source": [
    "Histograma de potencias validas para la simulación"
   ]
  },
  {
   "cell_type": "code",
   "execution_count": null,
   "metadata": {},
   "outputs": [],
   "source": [
    "#Pintamos el mejor resultado\n",
    "a = ds.groupby(['intento'])['secs'].agg('sum').sort_values(ascending=True)\n",
    "a[:1].max()"
   ]
  },
  {
   "cell_type": "code",
   "execution_count": null,
   "metadata": {
    "scrolled": true
   },
   "outputs": [],
   "source": [
    "#Nos quedamos con los 50 mejores resultados para ser analizdos en Tableau\n",
    "ganadores = pd.DataFrame(ds[ds['secs']<=a[:50].max()][['intento','list']])\n",
    "ganadores"
   ]
  },
  {
   "cell_type": "code",
   "execution_count": null,
   "metadata": {},
   "outputs": [],
   "source": [
    "#Agregamos las características de cada tramo al df de ganadores y sacamos el resultado a Excel\n",
    "for i in range(len(ganadores)):\n",
    "    if i == 0:\n",
    "        df_ganador = pd.DataFrame(ganadores.values[i][1])\n",
    "        df_ganador.columns =[[\"Tramos\",\"Potencia\",\"Velocidad\",\"Distancia\",\"Tiempo\",\"Pendiente\",\"Viento\"]]\n",
    "        df_ganador['Intento'] = ganadores.values[i][0]\n",
    "    else:\n",
    "        df_aux = pd.DataFrame(ganadores.values[i][1])\n",
    "        df_aux.columns =[[\"Tramos\",\"Potencia\",\"Velocidad\",\"Distancia\",\"Tiempo\",\"Pendiente\",\"Viento\"]]\n",
    "        df_aux['Intento'] = ganadores.values[i][0]\n",
    "        df_ganador = df_ganador.append([df_aux])\n",
    "        del df_aux\n",
    "df_ganador.to_excel('res_sim.xlsx')\n",
    "df_ganador.head()"
   ]
  },
  {
   "cell_type": "code",
   "execution_count": null,
   "metadata": {},
   "outputs": [],
   "source": [
    "df_ganador.describe()"
   ]
  },
  {
   "cell_type": "code",
   "execution_count": null,
   "metadata": {
    "scrolled": false
   },
   "outputs": [],
   "source": [
    "plt.hist(df_ganador['Potencia'])"
   ]
  },
  {
   "cell_type": "code",
   "execution_count": null,
   "metadata": {},
   "outputs": [],
   "source": [
    "plt.scatter(df_ganador['Pendiente'],df_ganador['Potencia'])"
   ]
  },
  {
   "cell_type": "markdown",
   "metadata": {},
   "source": [
    "La distribución de potencia es acorde a lo esperado"
   ]
  },
  {
   "cell_type": "code",
   "execution_count": null,
   "metadata": {
    "scrolled": true
   },
   "outputs": [],
   "source": [
    "#Juntamos el resultado de la simulación con el recorrido original a efectos de comparativa posterior en Tableau\n",
    "df_input = df[['tramo','pwr','spd','dist','time_seg','porc','viento_aparente']]\n",
    "df_input.columns =[[\"Tramos\",\"Potencia\",\"Velocidad\",\"Distancia\",\"Tiempo\",\"Pendiente\",\"Viento\"]]\n",
    "df_input['Intento'] = 'Original'\n",
    "df_input.append([df_ganador]).to_excel('res_sim_ori.xlsx')\n",
    "df_input.head()"
   ]
  },
  {
   "cell_type": "code",
   "execution_count": null,
   "metadata": {},
   "outputs": [],
   "source": [
    "potencias_medias = df_ganador.groupby(['Tramos'])['Potencia'].agg('median')"
   ]
  },
  {
   "cell_type": "markdown",
   "metadata": {},
   "source": [
    "#### Posible mejora del modelo, inicializando la potencia de cada tramo con el mejor resultado de la primera simulación"
   ]
  },
  {
   "cell_type": "code",
   "execution_count": null,
   "metadata": {
    "scrolled": true
   },
   "outputs": [],
   "source": [
    "#CON TENSORFLOW (SEGUNDA PASADA)\n",
    "#Almacenamos la hora de inicio para evaluar el tiempo que tarda en ejecutar\n",
    "start_time = time.time()\n",
    "\n",
    "#Cargamos los dos modelos con los que vamos a trabajar\n",
    "model_TF = load_model('../RNN/TF_Tramos_2.model')\n",
    "model_Scalar = pickle.load(open(\"../RNN/Scaler.model\", \"rb\"))\n",
    "\n",
    "#Inicializamos las variables de control del flujo de ejecución\n",
    "resultados = []\n",
    "\n",
    "fail = 0 #Contador de simulaciones fallidas\n",
    "exito = 0 #Contador de simulaciones correctas\n",
    "num_pruebas = 50 #Número de éxitos para finalizar la simulación\n",
    "fi = 0 #Variable para iterar\n",
    "\n",
    "#Las siguientes variables se rellenan a criterio del entrenador o de quien use esta simulación\n",
    "potencia_objetivo = 220\n",
    "pot_min = 60\n",
    "pot_max = 275\n",
    "ff_1 = 0.3\n",
    "ff_2 = 0.7\n",
    "\n",
    "#Repetimos la simulación de pruebas hasta que tenemos un número de exitos concreto\n",
    "while exito < num_pruebas:\n",
    "    if (fi % 10) == 0:\n",
    "        print('Empezamos la prueba %d' %fi)\n",
    "        print(\"--- %s seconds ---\" % (time.time() - start_time))\n",
    "    \n",
    "    #Reiniciamos la variables para acumular cada prueba\n",
    "    potencia_acum = 0\n",
    "    tiempo_acum = 0\n",
    "    i= 0\n",
    "    lista_tramo_potencia = []\n",
    "    \n",
    "    #Simulamos cada tramo de la prueba\n",
    "    while i < len(df):\n",
    "        \n",
    "        #Recuperamos el porcentaje de la pendiente, el viento y la distancia\n",
    "        porc = df[i:i+1][\"porc\"].iloc[0]\n",
    "        viento = df[i:i+1][\"viento_aparente\"].iloc[0]\n",
    "        distancia = df[i:i+1][\"dist\"].iloc[0]\n",
    "        \n",
    "        #Asignamos la potencia inicial según la sigmoide que se puede consultar en ../Machine Learning/Warm-Start.ipynb\n",
    "        #Adicionalmente introducimos un factor de variabilidad basado en el viento aparente (>0 si viento en contra y viceversa)           \n",
    "        \n",
    "        if viento<0:\n",
    "            min_random = (viento/2)-1\n",
    "            max_random = abs(viento*2)+1\n",
    "        else:\n",
    "            max_random = (viento/2)+1\n",
    "            min_random = (-1*viento*2)-1\n",
    "                \n",
    "        potencia_aux = potencias_medias[i]*(np.random.randint(min_random,max_random)+100)/100\n",
    "        potencia_min = pot_min+(pot_max-30-pot_min)/(1+ff_1*np.e**(ff_2*porc*-1))\n",
    "        potencia_max = pot_min+30+(pot_max-pot_min-30)/(1+ff_1*np.e**(ff_2*porc*-1))\n",
    "                                            \n",
    "        if potencia_aux>potencia_max:\n",
    "            potencia = potencia_max\n",
    "        elif potencia_aux<potencia_min:\n",
    "            potencia = potencia_min\n",
    "        else:\n",
    "            potencia = potencia_aux\n",
    "    \n",
    "        \n",
    "        \n",
    "        \n",
    "        #Utilizamos el modelo de normalización entrenado para ajustar los datos de entrada\n",
    "        input_model = model_Scalar.transform([[potencia, porc, viento]])\n",
    "        \n",
    "        #Utilizamos el modelo de Tensor Flow para predecir la velocidad media de ese tramo\n",
    "        velocidad = model_TF.predict(input_model)[0]\n",
    "        \n",
    "        #Con la velocidad del paso anterior y la distancia del tramo, calculamos el tiempo necesario para recorrerlo\n",
    "        nuevo_tiempo = distancia/(velocidad/3.6)\n",
    "        #Almacenamos la información del paso actual\n",
    "        lista_tramo_potencia.append([i, potencia,velocidad[0],distancia,nuevo_tiempo[0],porc,viento])\n",
    "        \n",
    "        #Acumulamos la potencia y el tiempo para evaluar el resultado final y determinar si es éxito o no, y con que tiempo total\n",
    "        potencia_acum = potencia_acum + (potencia * nuevo_tiempo)\n",
    "        tiempo_acum = tiempo_acum + nuevo_tiempo\n",
    "        \n",
    "        i += 1\n",
    "    \n",
    "    potencia_media = potencia_acum/tiempo_acum\n",
    "    print(\"Intento %d con potencia media %d\" %(fi, potencia_media))\n",
    "    \n",
    "    #Si la potencia queda fuera de intervalos viables, no se considera como exito\n",
    "    #Nos quedamos con +/-20w sobre la potencia objetivo para luego seleccionar las mejores distribuciones de potencia\n",
    "    if (potencia_media > potencia_objetivo-5) and (potencia_media < potencia_objetivo+5):\n",
    "        #print(potencia_media, tiempo_acum)\n",
    "        resultados.append([fi,potencia_media[0], tiempo_acum[0], lista_tramo_potencia])\n",
    "        exito +=1\n",
    "    else:\n",
    "        #Contamos las simulaciones consideradas sin exito\n",
    "        fail +=1\n",
    "    \n",
    "    fi +=1\n",
    "\n",
    "print(\"---Total time: %s seconds ---\" % (time.time() - start_time))\n",
    "\n",
    "print('Casos descartados: %d' %fail)\n",
    "print('Casos favorables: %d' %(len(resultados)))"
   ]
  },
  {
   "cell_type": "code",
   "execution_count": null,
   "metadata": {
    "scrolled": true
   },
   "outputs": [],
   "source": [
    "#Creamos DataFrame y renombramos las columnas\n",
    "ds = pd.DataFrame(resultados)\n",
    "ds.columns = ('intento','pwr','secs','list')\n",
    "ds"
   ]
  },
  {
   "cell_type": "code",
   "execution_count": null,
   "metadata": {
    "scrolled": false
   },
   "outputs": [],
   "source": [
    "plt.scatter(ds['pwr'],ds['secs'])"
   ]
  },
  {
   "cell_type": "markdown",
   "metadata": {},
   "source": [
    "En el scatter ya se ve con la misma potencia media tenemos distintos tiempos de finalización y viceversa"
   ]
  },
  {
   "cell_type": "code",
   "execution_count": null,
   "metadata": {},
   "outputs": [],
   "source": [
    "plt.hist(ds['pwr'],bins=50)"
   ]
  },
  {
   "cell_type": "markdown",
   "metadata": {},
   "source": [
    "Histograma de potencias validas para la simulación"
   ]
  },
  {
   "cell_type": "code",
   "execution_count": null,
   "metadata": {},
   "outputs": [],
   "source": [
    "#Pintamos el mejor resultado\n",
    "a = ds.groupby(['intento'])['secs'].agg('sum').sort_values(ascending=True)\n",
    "a[:1].max()"
   ]
  },
  {
   "cell_type": "code",
   "execution_count": null,
   "metadata": {
    "scrolled": true
   },
   "outputs": [],
   "source": [
    "#Nos quedamos con los 50 mejores resultados para ser analizdos en Tableau\n",
    "ganadores = pd.DataFrame(ds[ds['secs']<=a[:50].max()][['intento','list']])\n",
    "ganadores"
   ]
  },
  {
   "cell_type": "code",
   "execution_count": null,
   "metadata": {},
   "outputs": [],
   "source": [
    "#Agregamos las características de cada tramo al df de ganadores y sacamos el resultado a Excel\n",
    "for i in range(len(ganadores)):\n",
    "    if i == 0:\n",
    "        df_ganador = pd.DataFrame(ganadores.values[i][1])\n",
    "        df_ganador.columns =[[\"Tramos\",\"Potencia\",\"Velocidad\",\"Distancia\",\"Tiempo\",\"Pendiente\",\"Viento\"]]\n",
    "        df_ganador['Intento'] = ganadores.values[i][0]\n",
    "    else:\n",
    "        df_aux = pd.DataFrame(ganadores.values[i][1])\n",
    "        df_aux.columns =[[\"Tramos\",\"Potencia\",\"Velocidad\",\"Distancia\",\"Tiempo\",\"Pendiente\",\"Viento\"]]\n",
    "        df_aux['Intento'] = ganadores.values[i][0]\n",
    "        df_ganador = df_ganador.append([df_aux])\n",
    "        del df_aux\n",
    "df_ganador.to_excel('res_sim.xlsx')\n",
    "df_ganador.head()"
   ]
  },
  {
   "cell_type": "code",
   "execution_count": null,
   "metadata": {},
   "outputs": [],
   "source": [
    "df_ganador.describe()"
   ]
  },
  {
   "cell_type": "code",
   "execution_count": null,
   "metadata": {
    "scrolled": false
   },
   "outputs": [],
   "source": [
    "plt.hist(df_ganador['Potencia'])"
   ]
  },
  {
   "cell_type": "code",
   "execution_count": null,
   "metadata": {},
   "outputs": [],
   "source": [
    "plt.scatter(df_ganador['Pendiente'],df_ganador['Potencia'])"
   ]
  }
 ],
 "metadata": {
  "kernelspec": {
   "display_name": "Python 3",
   "language": "python",
   "name": "python3"
  },
  "language_info": {
   "codemirror_mode": {
    "name": "ipython",
    "version": 3
   },
   "file_extension": ".py",
   "mimetype": "text/x-python",
   "name": "python",
   "nbconvert_exporter": "python",
   "pygments_lexer": "ipython3",
   "version": "3.6.5"
  }
 },
 "nbformat": 4,
 "nbformat_minor": 2
}
