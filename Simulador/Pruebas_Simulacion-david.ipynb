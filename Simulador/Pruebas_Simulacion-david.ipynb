{
 "cells": [
  {
   "cell_type": "code",
   "execution_count": 27,
   "metadata": {},
   "outputs": [],
   "source": [
    "import pandas as pd\n",
    "import numpy as np\n",
    "from sklearn.externals import joblib\n",
    "from keras.models import load_model\n",
    "import pickle\n",
    "\n",
    "import matplotlib.pylab as plt\n",
    "%matplotlib inline\n",
    "plt.style.use('seaborn')"
   ]
  },
  {
   "cell_type": "code",
   "execution_count": 2,
   "metadata": {
    "collapsed": true
   },
   "outputs": [],
   "source": [
    "path = '../Entrenamientos/Procesado_Tramos.xlsx'\n",
    "df = pd.read_excel(path)"
   ]
  },
  {
   "cell_type": "code",
   "execution_count": 3,
   "metadata": {
    "collapsed": true
   },
   "outputs": [],
   "source": [
    "#df = df[df[\"viento_aparente\"]!=-np.inf]\n",
    "df = df[df[\"porc\"]!=np.inf]\n",
    "#df[\"puntos_en_tramo\"]= df[\"tramo_final\"]-df[\"tramo_inicial\"]\n",
    "#df = df[df[\"puntos_en_tramo\"]>250]\n",
    "#df = df[df[\"porc\"]>2]\n",
    "df = df[df[\"prueba\"]==\"20180415_LEVS_195_90_R_E.gpx\"]"
   ]
  },
  {
   "cell_type": "code",
   "execution_count": null,
   "metadata": {},
   "outputs": [],
   "source": [
    "df.describe()"
   ]
  },
  {
   "cell_type": "code",
   "execution_count": null,
   "metadata": {},
   "outputs": [],
   "source": [
    "df.head()"
   ]
  },
  {
   "cell_type": "code",
   "execution_count": 5,
   "metadata": {
    "collapsed": true
   },
   "outputs": [],
   "source": [
    "def simulador2(lista_tramos, nivel, registro_func, potencia_entrada, potencia_media_func, tiempo_acum_func, potencia_acum_func):\n",
    "    #print(nivel, potencia_entrada, potencia_media_func, tiempo_acum_func, potencia_acum_func)\n",
    "    #input(\"Press Enter to continue...\")\n",
    "    \n",
    "    global contador_resultados        \n",
    "    global model        \n",
    "     \n",
    "    if len(lista_tramos)==0:\n",
    "        paramos = True\n",
    "    else:        \n",
    "#       if coste > umbral :\n",
    "#            paramos = True\n",
    "#       else:\n",
    "#            paramos = False\n",
    "#Se borra la linea de abajo\n",
    "        paramos = False\n",
    "            \n",
    "        \n",
    "    #Controlamos si hemos terminado la prueba\n",
    "    if paramos == True:  #añadir umbral de potencia\n",
    "        #Hemos acabado con los tramos de la prueba\n",
    "        contador_resultados +=1\n",
    "        #print(\"Registro %d , %d\" %(contador_resultados, np.sum(registro_func)))\n",
    "        \n",
    "        with open(\"trace.txt\", \"a\") as f: \n",
    "            f.write(\"Registro %d ,Potencia Media: %d , Tiempo Total %d \\n\" %(contador_resultados, potencia_media_func, \n",
    "                                                                             tiempo_acum_func)) \n",
    "        i=0\n",
    "        with open(\"trace_detail.txt\", \"a\") as f_detail:\n",
    "            for tramo in registro_func:\n",
    "                i+=1\n",
    "                f_detail.write(\"Registro %d ,Tramo %d :  %d watios \\n\" %(contador_resultados,i,tramo))\n",
    "        \n",
    "    else:\n",
    "        #print(\"Entra en el tramo %d\" %(lista_tramos.head(1)[\"tramo\"].iloc[0]))\n",
    "        #pwr = lista_tramos.head(1)[\"pwr\"].iloc[0]\n",
    "        porc = lista_tramos.head(1)[\"porc\"].iloc[0]\n",
    "        viento = lista_tramos.head(1)[\"viento_aparente\"].iloc[0]\n",
    "        #tiempo = lista_tramos.head(1)[\"time_seg\"].iloc[0]\n",
    "        \n",
    "        for i in range(0,6):\n",
    "            #velocidad=lista_tramos.head(1)[\"spd\"].iloc[0]*(1+(i/10))\n",
    "            potencia = potencia_entrada+(i*10)\n",
    "            velocidad = model.predict([[potencia, porc, viento]])[0]\n",
    "            \n",
    "            nuevo_tiempo = lista_tramos.head(1)[\"dist\"].iloc[0]/(velocidad/3.6)\n",
    "            \n",
    "            registro = registro_func.copy()\n",
    "            registro.append(potencia)\n",
    "            \n",
    "            # Actualizamos valor del coste medio, pendiente\n",
    "            potencia_acum = potencia_acum_func + (potencia * nuevo_tiempo)\n",
    "            tiempo_acum = tiempo_acum_func + nuevo_tiempo\n",
    "            potencia_media = potencia_acum / tiempo_acum\n",
    "            \n",
    "            \n",
    "            simulador2(lista_tramos[:][1:], nivel+1,registro, potencia_entrada, potencia_media, tiempo_acum, potencia_acum)\n",
    "        \n",
    "        return None"
   ]
  },
  {
   "cell_type": "code",
   "execution_count": 40,
   "metadata": {},
   "outputs": [
    {
     "data": {
      "text/plain": [
       "(array([  1.,   0.,   0.,   0.,   2.,   0.,   0.,   0.,   0.,   0.,   0.,\n",
       "          0.,   0.,   1.,   0.,   0.,   0.,   2.,   1.,   1.,   1.,   1.,\n",
       "          0.,   1.,   0.,   2.,   0.,   1.,   1.,   1.,   3.,   2.,   2.,\n",
       "          1.,   1.,   2.,   0.,   2.,   1.,   1.,   1.,   0.,   4.,   2.,\n",
       "          3.,   3.,   2.,   2.,   2.,   2.,   8.,  10.,   8.,   5.,   3.,\n",
       "          2.,   4.,   0.,   0.,   1.,   0.,   1.,   2.,   2.,   5.,   2.,\n",
       "          3.,   2.,   2.,   2.,   0.,   1.,   3.,   0.,   1.,   4.,   0.,\n",
       "          0.,   2.,   0.,   0.,   1.,   0.,   0.,   1.,   0.,   1.,   0.,\n",
       "          1.,   0.,   0.,   0.,   0.,   0.,   0.,   1.,   0.,   0.,   0.,\n",
       "          1.]),\n",
       " array([-5.83065104, -5.71781613, -5.60498122, -5.49214632, -5.37931141,\n",
       "        -5.2664765 , -5.1536416 , -5.04080669, -4.92797178, -4.81513688,\n",
       "        -4.70230197, -4.58946707, -4.47663216, -4.36379725, -4.25096235,\n",
       "        -4.13812744, -4.02529253, -3.91245763, -3.79962272, -3.68678781,\n",
       "        -3.57395291, -3.461118  , -3.34828309, -3.23544819, -3.12261328,\n",
       "        -3.00977837, -2.89694347, -2.78410856, -2.67127366, -2.55843875,\n",
       "        -2.44560384, -2.33276894, -2.21993403, -2.10709912, -1.99426422,\n",
       "        -1.88142931, -1.7685944 , -1.6557595 , -1.54292459, -1.43008968,\n",
       "        -1.31725478, -1.20441987, -1.09158496, -0.97875006, -0.86591515,\n",
       "        -0.75308025, -0.64024534, -0.52741043, -0.41457553, -0.30174062,\n",
       "        -0.18890571, -0.07607081,  0.0367641 ,  0.14959901,  0.26243391,\n",
       "         0.37526882,  0.48810373,  0.60093863,  0.71377354,  0.82660845,\n",
       "         0.93944335,  1.05227826,  1.16511316,  1.27794807,  1.39078298,\n",
       "         1.50361788,  1.61645279,  1.7292877 ,  1.8421226 ,  1.95495751,\n",
       "         2.06779242,  2.18062732,  2.29346223,  2.40629714,  2.51913204,\n",
       "         2.63196695,  2.74480186,  2.85763676,  2.97047167,  3.08330657,\n",
       "         3.19614148,  3.30897639,  3.42181129,  3.5346462 ,  3.64748111,\n",
       "         3.76031601,  3.87315092,  3.98598583,  4.09882073,  4.21165564,\n",
       "         4.32449055,  4.43732545,  4.55016036,  4.66299526,  4.77583017,\n",
       "         4.88866508,  5.00149998,  5.11433489,  5.2271698 ,  5.3400047 ,\n",
       "         5.45283961]),\n",
       " <a list of 100 Patch objects>)"
      ]
     },
     "execution_count": 40,
     "metadata": {},
     "output_type": "execute_result"
    },
    {
     "data": {
      "image/png": "[encoded data removed]",
      "text/plain": [
       "<matplotlib.figure.Figure at 0x1a27b3f5b70>"
      ]
     },
     "metadata": {},
     "output_type": "display_data"
    }
   ],
   "source": [
    "plt.hist(df['porc'],bins=100)"
   ]
  },
  {
   "cell_type": "code",
   "execution_count": 67,
   "metadata": {},
   "outputs": [
    {
     "name": "stdout",
     "output_type": "stream",
     "text": [
      "Empezamos la prueba 0\n",
      "--- 1.3143303394317627 seconds ---\n",
      "Intento 0 con potencia media 219\n",
      "Intento 1 con potencia media 218\n",
      "Intento 2 con potencia media 219\n",
      "Intento 3 con potencia media 219\n",
      "Intento 4 con potencia media 219\n",
      "Intento 5 con potencia media 218\n",
      "Intento 6 con potencia media 218\n",
      "Intento 7 con potencia media 217\n",
      "Intento 8 con potencia media 218\n",
      "Intento 9 con potencia media 219\n",
      "Intento 10 con potencia media 219\n",
      "Intento 11 con potencia media 219\n",
      "Intento 12 con potencia media 219\n",
      "Intento 13 con potencia media 218\n",
      "Intento 14 con potencia media 219\n",
      "Intento 15 con potencia media 219\n",
      "Intento 16 con potencia media 218\n",
      "Intento 17 con potencia media 218\n",
      "Intento 18 con potencia media 218\n",
      "Intento 19 con potencia media 218\n",
      "Intento 20 con potencia media 219\n",
      "Intento 21 con potencia media 218\n",
      "Intento 22 con potencia media 219\n",
      "Intento 23 con potencia media 219\n",
      "Intento 24 con potencia media 218\n",
      "Intento 25 con potencia media 219\n",
      "Intento 26 con potencia media 218\n",
      "Intento 27 con potencia media 219\n",
      "Intento 28 con potencia media 219\n",
      "Intento 29 con potencia media 218\n",
      "Intento 30 con potencia media 220\n",
      "Intento 31 con potencia media 219\n",
      "Intento 32 con potencia media 219\n",
      "Intento 33 con potencia media 219\n",
      "Intento 34 con potencia media 219\n",
      "Intento 35 con potencia media 218\n",
      "Intento 36 con potencia media 218\n",
      "Intento 37 con potencia media 218\n",
      "Intento 38 con potencia media 220\n",
      "Intento 39 con potencia media 219\n",
      "Intento 40 con potencia media 220\n",
      "Intento 41 con potencia media 219\n",
      "Intento 42 con potencia media 218\n",
      "Intento 43 con potencia media 218\n",
      "Intento 44 con potencia media 219\n",
      "Intento 45 con potencia media 219\n",
      "Intento 46 con potencia media 219\n",
      "Intento 47 con potencia media 219\n",
      "Intento 48 con potencia media 219\n",
      "Intento 49 con potencia media 220\n",
      "Intento 50 con potencia media 218\n",
      "Intento 51 con potencia media 220\n",
      "Intento 52 con potencia media 218\n",
      "Intento 53 con potencia media 218\n",
      "Intento 54 con potencia media 219\n",
      "Intento 55 con potencia media 219\n",
      "Intento 56 con potencia media 218\n",
      "Intento 57 con potencia media 219\n",
      "Intento 58 con potencia media 219\n",
      "Intento 59 con potencia media 220\n",
      "Intento 60 con potencia media 218\n",
      "Intento 61 con potencia media 221\n",
      "Intento 62 con potencia media 219\n",
      "Intento 63 con potencia media 219\n",
      "Intento 64 con potencia media 219\n",
      "Intento 65 con potencia media 219\n",
      "Intento 66 con potencia media 219\n",
      "Intento 67 con potencia media 218\n",
      "Intento 68 con potencia media 218\n",
      "Intento 69 con potencia media 218\n",
      "Intento 70 con potencia media 220\n",
      "Intento 71 con potencia media 219\n",
      "Intento 72 con potencia media 220\n",
      "Intento 73 con potencia media 220\n",
      "Intento 74 con potencia media 219\n",
      "Intento 75 con potencia media 219\n",
      "Intento 76 con potencia media 219\n",
      "Intento 77 con potencia media 218\n",
      "Intento 78 con potencia media 220\n",
      "Intento 79 con potencia media 219\n",
      "Intento 80 con potencia media 219\n",
      "Intento 81 con potencia media 219\n",
      "Intento 82 con potencia media 219\n",
      "Intento 83 con potencia media 218\n",
      "Intento 84 con potencia media 219\n",
      "Intento 85 con potencia media 219\n",
      "Intento 86 con potencia media 219\n",
      "Intento 87 con potencia media 218\n",
      "Intento 88 con potencia media 218\n",
      "Intento 89 con potencia media 220\n",
      "Intento 90 con potencia media 219\n",
      "Intento 91 con potencia media 219\n",
      "Intento 92 con potencia media 220\n",
      "Intento 93 con potencia media 218\n",
      "Intento 94 con potencia media 219\n",
      "Intento 95 con potencia media 220\n",
      "Intento 96 con potencia media 218\n",
      "Intento 97 con potencia media 219\n",
      "Intento 98 con potencia media 220\n",
      "Intento 99 con potencia media 219\n",
      "Intento 100 con potencia media 218\n",
      "Intento 101 con potencia media 218\n",
      "Intento 102 con potencia media 218\n",
      "Intento 103 con potencia media 219\n",
      "Intento 104 con potencia media 219\n",
      "Intento 105 con potencia media 220\n",
      "Intento 106 con potencia media 219\n",
      "Intento 107 con potencia media 217\n",
      "Intento 108 con potencia media 220\n",
      "Intento 109 con potencia media 218\n",
      "Intento 110 con potencia media 219\n",
      "Intento 111 con potencia media 218\n",
      "Intento 112 con potencia media 221\n",
      "Intento 113 con potencia media 218\n",
      "Intento 114 con potencia media 218\n",
      "Intento 115 con potencia media 219\n",
      "Intento 116 con potencia media 219\n",
      "Intento 117 con potencia media 219\n",
      "Intento 118 con potencia media 220\n",
      "Intento 119 con potencia media 220\n",
      "Intento 120 con potencia media 219\n",
      "Intento 121 con potencia media 219\n",
      "Intento 122 con potencia media 218\n",
      "Intento 123 con potencia media 219\n",
      "Intento 124 con potencia media 219\n",
      "Intento 125 con potencia media 218\n",
      "Intento 126 con potencia media 220\n",
      "Intento 127 con potencia media 220\n",
      "Intento 128 con potencia media 219\n",
      "Intento 129 con potencia media 219\n",
      "Intento 130 con potencia media 219\n",
      "Intento 131 con potencia media 219\n",
      "Intento 132 con potencia media 219\n",
      "Intento 133 con potencia media 220\n",
      "Intento 134 con potencia media 220\n",
      "Intento 135 con potencia media 218\n",
      "Intento 136 con potencia media 219\n",
      "Intento 137 con potencia media 219\n",
      "Intento 138 con potencia media 217\n",
      "Intento 139 con potencia media 220\n",
      "Intento 140 con potencia media 217\n",
      "Intento 141 con potencia media 220\n",
      "Intento 142 con potencia media 218\n",
      "Intento 143 con potencia media 220\n",
      "Intento 144 con potencia media 218\n",
      "Intento 145 con potencia media 220\n",
      "Intento 146 con potencia media 218\n",
      "Intento 147 con potencia media 219\n",
      "Intento 148 con potencia media 219\n",
      "Intento 149 con potencia media 218\n",
      "---Total time: 31.912684679031372 seconds ---\n",
      "Casos descartados: 0\n",
      "Casos de favorables: 150\n"
     ]
    }
   ],
   "source": [
    "#CON TENSORFLOW\n",
    "import time\n",
    "start_time = time.time()\n",
    "\n",
    "potencia_objetivo = 220\n",
    "multiplicador_potencia = potencia_objetivo/pre_model.intercept_\n",
    "resultados = []\n",
    "fail = 0\n",
    "exito = 0\n",
    "num_pruebas = 150\n",
    "fi = 0\n",
    "#model = joblib.load('../Machine Learning/modelo_export.model')\n",
    "\n",
    "pre_model = joblib.load('../Machine Learning/regr_porc_pwr.model') \n",
    "\n",
    "\n",
    "model_TF = load_model('../RNN/TF_Tramos_2.model')\n",
    "model_Scalar = pickle.load(open(\"../RNN/Scaler.model\", \"rb\"))\n",
    "\n",
    "while exito < num_pruebas:\n",
    "    #print(exito)\n",
    "    if (fi % 1000) == 0:\n",
    "        print('Empezamos la prueba %d' %fi)\n",
    "        print(\"--- %s seconds ---\" % (time.time() - start_time))\n",
    "    potencia_acum = 0\n",
    "    tiempo_acum = 0\n",
    "    i= 0\n",
    "    lista_tramo_potencia = []\n",
    "    while i < len(df):\n",
    "        porc = df[i:i+1][\"porc\"].iloc[0]\n",
    "        viento = df[i:i+1][\"viento_aparente\"].iloc[0]\n",
    "        distancia = df[i:i+1][\"dist\"].iloc[0]\n",
    "        \n",
    "        #if porc < -2:\n",
    "        #    potencia = pre_model.predict(porc)[0][0]*multiplicador_potencia+np.random.randint(-abs(porc), abs(porc))\n",
    "        #elif porc > 2:\n",
    "        #    #potencia = pre_model.predict(porc)[0][0]+50+np.random.randint(-abs(porc**2), abs(porc**2))\n",
    "        #    potencia =potencia_objetivo+np.random.randint(0, abs(porc)+50)\n",
    "        #else:\n",
    "        #    potencia = potencia_objetivo+np.random.randint(-abs(porc)-10, abs(porc)+30)\n",
    "        \n",
    "        #potencia con una sigmoide\n",
    "        pot_min = 50\n",
    "        pot_max = 300\n",
    "        ff_1 = 0.5\n",
    "        ff_2 = 0.5\n",
    "        \n",
    "        potencia = pot_min+(pot_max-pot_min)/(1+ff_1*np.e**(ff_2*porc*-1))+np.random.randint(-10, 10)\n",
    "        \n",
    "        \n",
    "        input_model = model_Scalar.transform([[potencia, porc, viento]])\n",
    "        \n",
    "        velocidad = model_TF.predict(input_model)[0]\n",
    "        \n",
    "        nuevo_tiempo = distancia/(velocidad/3.6)\n",
    "        lista_tramo_potencia.append([i, potencia,velocidad[0],distancia,nuevo_tiempo[0]])\n",
    "        \n",
    "        potencia_acum = potencia_acum + (potencia * nuevo_tiempo)\n",
    "        tiempo_acum = tiempo_acum + nuevo_tiempo\n",
    "        \n",
    "        i += 1\n",
    "    potencia_media = potencia_acum/tiempo_acum\n",
    "    print(\"Intento %d con potencia media %d\" %(fi, potencia_media))\n",
    "    \n",
    "    if (potencia_media > potencia_objetivo-20) and (potencia_media < potencia_objetivo+20):\n",
    "        #print(potencia_media, tiempo_acum)\n",
    "        resultados.append([potencia_media[0], tiempo_acum[0], lista_tramo_potencia])\n",
    "        exito +=1\n",
    "    else:\n",
    "        fail +=1\n",
    "    \n",
    "    fi +=1\n",
    "\n",
    "print(\"---Total time: %s seconds ---\" % (time.time() - start_time))\n",
    "\n",
    "print('Casos descartados: %d' %fail)\n",
    "print('Casos de favorables: %d' %(len(resultados)))"
   ]
  },
  {
   "cell_type": "code",
   "execution_count": 68,
   "metadata": {},
   "outputs": [],
   "source": [
    "ds = pd.DataFrame(resultados)\n",
    "ds.columns = ('pwr','secs','list')"
   ]
  },
  {
   "cell_type": "code",
   "execution_count": 69,
   "metadata": {},
   "outputs": [
    {
     "data": {
      "text/plain": [
       "<matplotlib.collections.PathCollection at 0x1a27d26abe0>"
      ]
     },
     "execution_count": 69,
     "metadata": {},
     "output_type": "execute_result"
    },
    {
     "data": {
      "image/png": "[encoded data removed]",
      "text/plain": [
       "<matplotlib.figure.Figure at 0x1a27d241e10>"
      ]
     },
     "metadata": {},
     "output_type": "display_data"
    }
   ],
   "source": [
    "plt.scatter(ds['pwr'],ds['secs'])"
   ]
  },
  {
   "cell_type": "code",
   "execution_count": 70,
   "metadata": {},
   "outputs": [
    {
     "data": {
      "text/plain": [
       "(array([ 1.,  0.,  0.,  1.,  0.,  2.,  0.,  1.,  2.,  2.,  0.,  2.,  4.,\n",
       "         7.,  4.,  7.,  2.,  2.,  4.,  4.,  6.,  3.,  4.,  4.,  4.,  6.,\n",
       "         8.,  5.,  6.,  5.,  6.,  4.,  9.,  7.,  0.,  4.,  4.,  1.,  2.,\n",
       "         4.,  1.,  1.,  0.,  2.,  1.,  1.,  4.,  1.,  0.,  2.]),\n",
       " array([ 217.48748779,  217.56022644,  217.63296509,  217.70570374,\n",
       "         217.77844238,  217.85118103,  217.92391968,  217.99665833,\n",
       "         218.06939697,  218.14213562,  218.21487427,  218.28761292,\n",
       "         218.36035156,  218.43309021,  218.50582886,  218.5785675 ,\n",
       "         218.65130615,  218.7240448 ,  218.79678345,  218.86952209,\n",
       "         218.94226074,  219.01499939,  219.08773804,  219.16047668,\n",
       "         219.23321533,  219.30595398,  219.37869263,  219.45143127,\n",
       "         219.52416992,  219.59690857,  219.66964722,  219.74238586,\n",
       "         219.81512451,  219.88786316,  219.96060181,  220.03334045,\n",
       "         220.1060791 ,  220.17881775,  220.2515564 ,  220.32429504,\n",
       "         220.39703369,  220.46977234,  220.54251099,  220.61524963,\n",
       "         220.68798828,  220.76072693,  220.83346558,  220.90620422,\n",
       "         220.97894287,  221.05168152,  221.12442017]),\n",
       " <a list of 50 Patch objects>)"
      ]
     },
     "execution_count": 70,
     "metadata": {},
     "output_type": "execute_result"
    },
    {
     "data": {
      "image/png": "[encoded data removed]",
      "text/plain": [
       "<matplotlib.figure.Figure at 0x1a27d5b6fd0>"
      ]
     },
     "metadata": {},
     "output_type": "display_data"
    }
   ],
   "source": [
    "plt.hist(ds['pwr'],bins=50)"
   ]
  },
  {
   "cell_type": "code",
   "execution_count": 75,
   "metadata": {},
   "outputs": [
    {
     "data": {
      "text/html": [
       "<div>\n",
       "<style>\n",
       "    .dataframe thead tr:only-child th {\n",
       "        text-align: right;\n",
       "    }\n",
       "\n",
       "    .dataframe thead th {\n",
       "        text-align: left;\n",
       "    }\n",
       "\n",
       "    .dataframe tbody tr th {\n",
       "        vertical-align: top;\n",
       "    }\n",
       "</style>\n",
       "<table border=\"1\" class=\"dataframe\">\n",
       "  <thead>\n",
       "    <tr style=\"text-align: right;\">\n",
       "      <th></th>\n",
       "      <th>list</th>\n",
       "    </tr>\n",
       "  </thead>\n",
       "  <tbody>\n",
       "    <tr>\n",
       "      <th>59</th>\n",
       "      <td>[[0, 134.860210115, 45.2313, 335.16025522, 26....</td>\n",
       "    </tr>\n",
       "  </tbody>\n",
       "</table>\n",
       "</div>"
      ],
      "text/plain": [
       "                                                 list\n",
       "59  [[0, 134.860210115, 45.2313, 335.16025522, 26...."
      ]
     },
     "execution_count": 75,
     "metadata": {},
     "output_type": "execute_result"
    }
   ],
   "source": [
    "min = ds['secs'].min()\n",
    "ganador = pd.DataFrame(ds[ds['secs']==min]['list'])\n",
    "ganador"
   ]
  },
  {
   "cell_type": "code",
   "execution_count": 91,
   "metadata": {},
   "outputs": [
    {
     "ename": "KeyError",
     "evalue": "0",
     "output_type": "error",
     "traceback": [
      "\u001b[1;31m---------------------------------------------------------------------------\u001b[0m",
      "\u001b[1;31mKeyError\u001b[0m                                  Traceback (most recent call last)",
      "\u001b[1;32m<ipython-input-91-5727abb4b1fa>\u001b[0m in \u001b[0;36m<module>\u001b[1;34m()\u001b[0m\n\u001b[0;32m      1\u001b[0m \u001b[1;32mfor\u001b[0m \u001b[0mi\u001b[0m \u001b[1;32min\u001b[0m \u001b[0mrange\u001b[0m\u001b[1;33m(\u001b[0m\u001b[0mlen\u001b[0m\u001b[1;33m(\u001b[0m\u001b[0mdf\u001b[0m\u001b[1;33m)\u001b[0m\u001b[1;33m)\u001b[0m\u001b[1;33m:\u001b[0m\u001b[1;33m\u001b[0m\u001b[0m\n\u001b[1;32m----> 2\u001b[1;33m     \u001b[0mprint\u001b[0m\u001b[1;33m(\u001b[0m\u001b[0mganador\u001b[0m\u001b[1;33m[\u001b[0m\u001b[1;34m'list'\u001b[0m\u001b[1;33m]\u001b[0m\u001b[1;33m[\u001b[0m\u001b[0mi\u001b[0m\u001b[1;33m]\u001b[0m\u001b[1;33m)\u001b[0m\u001b[1;33m\u001b[0m\u001b[0m\n\u001b[0m",
      "\u001b[1;32mC:\\Users\\David\\Anaconda3\\lib\\site-packages\\pandas\\core\\series.py\u001b[0m in \u001b[0;36m__getitem__\u001b[1;34m(self, key)\u001b[0m\n\u001b[0;32m    599\u001b[0m         \u001b[0mkey\u001b[0m \u001b[1;33m=\u001b[0m \u001b[0mcom\u001b[0m\u001b[1;33m.\u001b[0m\u001b[0m_apply_if_callable\u001b[0m\u001b[1;33m(\u001b[0m\u001b[0mkey\u001b[0m\u001b[1;33m,\u001b[0m \u001b[0mself\u001b[0m\u001b[1;33m)\u001b[0m\u001b[1;33m\u001b[0m\u001b[0m\n\u001b[0;32m    600\u001b[0m         \u001b[1;32mtry\u001b[0m\u001b[1;33m:\u001b[0m\u001b[1;33m\u001b[0m\u001b[0m\n\u001b[1;32m--> 601\u001b[1;33m             \u001b[0mresult\u001b[0m \u001b[1;33m=\u001b[0m \u001b[0mself\u001b[0m\u001b[1;33m.\u001b[0m\u001b[0mindex\u001b[0m\u001b[1;33m.\u001b[0m\u001b[0mget_value\u001b[0m\u001b[1;33m(\u001b[0m\u001b[0mself\u001b[0m\u001b[1;33m,\u001b[0m \u001b[0mkey\u001b[0m\u001b[1;33m)\u001b[0m\u001b[1;33m\u001b[0m\u001b[0m\n\u001b[0m\u001b[0;32m    602\u001b[0m \u001b[1;33m\u001b[0m\u001b[0m\n\u001b[0;32m    603\u001b[0m             \u001b[1;32mif\u001b[0m \u001b[1;32mnot\u001b[0m \u001b[0mis_scalar\u001b[0m\u001b[1;33m(\u001b[0m\u001b[0mresult\u001b[0m\u001b[1;33m)\u001b[0m\u001b[1;33m:\u001b[0m\u001b[1;33m\u001b[0m\u001b[0m\n",
      "\u001b[1;32mC:\\Users\\David\\Anaconda3\\lib\\site-packages\\pandas\\core\\indexes\\base.py\u001b[0m in \u001b[0;36mget_value\u001b[1;34m(self, series, key)\u001b[0m\n\u001b[0;32m   2426\u001b[0m         \u001b[1;32mtry\u001b[0m\u001b[1;33m:\u001b[0m\u001b[1;33m\u001b[0m\u001b[0m\n\u001b[0;32m   2427\u001b[0m             return self._engine.get_value(s, k,\n\u001b[1;32m-> 2428\u001b[1;33m                                           tz=getattr(series.dtype, 'tz', None))\n\u001b[0m\u001b[0;32m   2429\u001b[0m         \u001b[1;32mexcept\u001b[0m \u001b[0mKeyError\u001b[0m \u001b[1;32mas\u001b[0m \u001b[0me1\u001b[0m\u001b[1;33m:\u001b[0m\u001b[1;33m\u001b[0m\u001b[0m\n\u001b[0;32m   2430\u001b[0m             \u001b[1;32mif\u001b[0m \u001b[0mlen\u001b[0m\u001b[1;33m(\u001b[0m\u001b[0mself\u001b[0m\u001b[1;33m)\u001b[0m \u001b[1;33m>\u001b[0m \u001b[1;36m0\u001b[0m \u001b[1;32mand\u001b[0m \u001b[0mself\u001b[0m\u001b[1;33m.\u001b[0m\u001b[0minferred_type\u001b[0m \u001b[1;32min\u001b[0m \u001b[1;33m[\u001b[0m\u001b[1;34m'integer'\u001b[0m\u001b[1;33m,\u001b[0m \u001b[1;34m'boolean'\u001b[0m\u001b[1;33m]\u001b[0m\u001b[1;33m:\u001b[0m\u001b[1;33m\u001b[0m\u001b[0m\n",
      "\u001b[1;32mpandas\\_libs\\index.pyx\u001b[0m in \u001b[0;36mpandas._libs.index.IndexEngine.get_value (pandas\\_libs\\index.c:4363)\u001b[1;34m()\u001b[0m\n",
      "\u001b[1;32mpandas\\_libs\\index.pyx\u001b[0m in \u001b[0;36mpandas._libs.index.IndexEngine.get_value (pandas\\_libs\\index.c:4046)\u001b[1;34m()\u001b[0m\n",
      "\u001b[1;32mpandas\\_libs\\index.pyx\u001b[0m in \u001b[0;36mpandas._libs.index.IndexEngine.get_loc (pandas\\_libs\\index.c:5085)\u001b[1;34m()\u001b[0m\n",
      "\u001b[1;32mpandas\\_libs\\hashtable_class_helper.pxi\u001b[0m in \u001b[0;36mpandas._libs.hashtable.Int64HashTable.get_item (pandas\\_libs\\hashtable.c:13913)\u001b[1;34m()\u001b[0m\n",
      "\u001b[1;32mpandas\\_libs\\hashtable_class_helper.pxi\u001b[0m in \u001b[0;36mpandas._libs.hashtable.Int64HashTable.get_item (pandas\\_libs\\hashtable.c:13857)\u001b[1;34m()\u001b[0m\n",
      "\u001b[1;31mKeyError\u001b[0m: 0"
     ]
    }
   ],
   "source": [
    "for i in range(len(df)):\n",
    "    print(ganador['list'][i])"
   ]
  },
  {
   "cell_type": "code",
   "execution_count": null,
   "metadata": {
    "collapsed": true
   },
   "outputs": [],
   "source": []
  }
 ],
 "metadata": {
  "kernelspec": {
   "display_name": "Python 3",
   "language": "python",
   "name": "python3"
  },
  "language_info": {
   "codemirror_mode": {
    "name": "ipython",
    "version": 3
   },
   "file_extension": ".py",
   "mimetype": "text/x-python",
   "name": "python",
   "nbconvert_exporter": "python",
   "pygments_lexer": "ipython3",
   "version": "3.6.1"
  }
 },
 "nbformat": 4,
 "nbformat_minor": 2
}
