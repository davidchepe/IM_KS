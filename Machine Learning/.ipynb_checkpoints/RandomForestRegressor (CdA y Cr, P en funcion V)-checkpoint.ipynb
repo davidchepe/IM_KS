{
 "cells": [
  {
   "cell_type": "code",
   "execution_count": 1,
   "metadata": {
    "collapsed": true
   },
   "outputs": [],
   "source": [
    "#La Potencia viene dada por la siguiente formula"
   ]
  },
  {
   "cell_type": "markdown",
   "metadata": {},
   "source": [
    "$P = \\frac{\\rho}{2}(V+wV)^2VCdA+(Cr+\\%)mgV$\n",
    "\n",
    "Dónde:\n",
    "\n",
    "P es la potencia necesaria\n",
    "\n",
    "$\\rho$ es la densidad del aire\n",
    "\n",
    "V es la velocidad\n",
    "\n",
    "wV es velocidad el viento\n",
    "\n",
    "Cd es el coeficiente de drag\n",
    "\n",
    "A es el área efectiva\n",
    "\n",
    "Cr es el coeficiente de rozamiento\n",
    "\n",
    "$\\%$ es la pendiente\n",
    "\n",
    "m es la masa total del conjunto bicicleta - ciclista\n",
    "\n",
    "Desarrollando la fórmula..."
   ]
  },
  {
   "cell_type": "markdown",
   "metadata": {},
   "source": [
    "$P = \\frac{\\rho CdA}{2}(V^3+2V^2wV+VwV^2)+CrmgV+\\%mgV$"
   ]
  },
  {
   "cell_type": "code",
   "execution_count": 2,
   "metadata": {
    "collapsed": true
   },
   "outputs": [],
   "source": [
    "import os\n",
    "import pandas as pd\n",
    "import matplotlib.pylab as plt\n",
    "%matplotlib inline\n",
    "plt.style.use('seaborn')\n",
    "import numpy as np\n"
   ]
  },
  {
   "cell_type": "markdown",
   "metadata": {},
   "source": [
    "### Cargamos los datos"
   ]
  },
  {
   "cell_type": "code",
   "execution_count": 3,
   "metadata": {
    "collapsed": true
   },
   "outputs": [],
   "source": [
    "#path = '../Entrenamientos/result_tramos.xlsx'\n",
    "path = '../Entrenamientos/Procesado_Tramos.xlsx'"
   ]
  },
  {
   "cell_type": "code",
   "execution_count": 4,
   "metadata": {
    "collapsed": true
   },
   "outputs": [],
   "source": [
    "df = pd.read_excel(path)"
   ]
  },
  {
   "cell_type": "code",
   "execution_count": 5,
   "metadata": {},
   "outputs": [
    {
     "data": {
      "text/html": [
       "<div>\n",
       "<style>\n",
       "    .dataframe thead tr:only-child th {\n",
       "        text-align: right;\n",
       "    }\n",
       "\n",
       "    .dataframe thead th {\n",
       "        text-align: left;\n",
       "    }\n",
       "\n",
       "    .dataframe tbody tr th {\n",
       "        vertical-align: top;\n",
       "    }\n",
       "</style>\n",
       "<table border=\"1\" class=\"dataframe\">\n",
       "  <thead>\n",
       "    <tr style=\"text-align: right;\">\n",
       "      <th></th>\n",
       "      <th>tramo</th>\n",
       "      <th>tramo_inicial</th>\n",
       "      <th>tramo_final</th>\n",
       "      <th>pwr</th>\n",
       "      <th>time_seg</th>\n",
       "      <th>dist</th>\n",
       "      <th>spd</th>\n",
       "      <th>viento_aparente</th>\n",
       "      <th>porc</th>\n",
       "      <th>dist_acum</th>\n",
       "    </tr>\n",
       "  </thead>\n",
       "  <tbody>\n",
       "    <tr>\n",
       "      <th>count</th>\n",
       "      <td>286.000000</td>\n",
       "      <td>286.000000</td>\n",
       "      <td>286.000000</td>\n",
       "      <td>286.000000</td>\n",
       "      <td>286.000000</td>\n",
       "      <td>286.000000</td>\n",
       "      <td>286.000000</td>\n",
       "      <td>285.000000</td>\n",
       "      <td>286.000000</td>\n",
       "      <td>286.000000</td>\n",
       "    </tr>\n",
       "    <tr>\n",
       "      <th>mean</th>\n",
       "      <td>50.503497</td>\n",
       "      <td>3656.968531</td>\n",
       "      <td>3726.181818</td>\n",
       "      <td>165.837941</td>\n",
       "      <td>137.982517</td>\n",
       "      <td>953.702177</td>\n",
       "      <td>30.246377</td>\n",
       "      <td>-0.335772</td>\n",
       "      <td>inf</td>\n",
       "      <td>50939.603808</td>\n",
       "    </tr>\n",
       "    <tr>\n",
       "      <th>std</th>\n",
       "      <td>33.283129</td>\n",
       "      <td>2371.219515</td>\n",
       "      <td>2365.196496</td>\n",
       "      <td>68.757271</td>\n",
       "      <td>293.055632</td>\n",
       "      <td>1556.607132</td>\n",
       "      <td>9.291600</td>\n",
       "      <td>11.029186</td>\n",
       "      <td>NaN</td>\n",
       "      <td>32672.602243</td>\n",
       "    </tr>\n",
       "    <tr>\n",
       "      <th>min</th>\n",
       "      <td>0.000000</td>\n",
       "      <td>0.000000</td>\n",
       "      <td>12.000000</td>\n",
       "      <td>0.000000</td>\n",
       "      <td>1.000000</td>\n",
       "      <td>0.000000</td>\n",
       "      <td>0.000000</td>\n",
       "      <td>-22.370389</td>\n",
       "      <td>-6.677410</td>\n",
       "      <td>80.820019</td>\n",
       "    </tr>\n",
       "    <tr>\n",
       "      <th>25%</th>\n",
       "      <td>23.250000</td>\n",
       "      <td>1527.000000</td>\n",
       "      <td>1621.000000</td>\n",
       "      <td>111.587865</td>\n",
       "      <td>20.250000</td>\n",
       "      <td>129.987954</td>\n",
       "      <td>24.116650</td>\n",
       "      <td>-8.240294</td>\n",
       "      <td>-1.075459</td>\n",
       "      <td>21661.469741</td>\n",
       "    </tr>\n",
       "    <tr>\n",
       "      <th>50%</th>\n",
       "      <td>47.000000</td>\n",
       "      <td>3524.500000</td>\n",
       "      <td>3535.000000</td>\n",
       "      <td>172.968403</td>\n",
       "      <td>56.500000</td>\n",
       "      <td>465.926543</td>\n",
       "      <td>29.889560</td>\n",
       "      <td>-1.853252</td>\n",
       "      <td>-0.013285</td>\n",
       "      <td>49151.450030</td>\n",
       "    </tr>\n",
       "    <tr>\n",
       "      <th>75%</th>\n",
       "      <td>71.000000</td>\n",
       "      <td>6057.250000</td>\n",
       "      <td>6167.500000</td>\n",
       "      <td>220.269935</td>\n",
       "      <td>123.750000</td>\n",
       "      <td>900.805662</td>\n",
       "      <td>36.208949</td>\n",
       "      <td>7.204076</td>\n",
       "      <td>1.201687</td>\n",
       "      <td>84649.749962</td>\n",
       "    </tr>\n",
       "    <tr>\n",
       "      <th>max</th>\n",
       "      <td>130.000000</td>\n",
       "      <td>7796.000000</td>\n",
       "      <td>7830.000000</td>\n",
       "      <td>394.699287</td>\n",
       "      <td>2761.000000</td>\n",
       "      <td>10273.070042</td>\n",
       "      <td>64.800000</td>\n",
       "      <td>22.925885</td>\n",
       "      <td>inf</td>\n",
       "      <td>107610.184614</td>\n",
       "    </tr>\n",
       "  </tbody>\n",
       "</table>\n",
       "</div>"
      ],
      "text/plain": [
       "            tramo  tramo_inicial  tramo_final         pwr     time_seg  \\\n",
       "count  286.000000     286.000000   286.000000  286.000000   286.000000   \n",
       "mean    50.503497    3656.968531  3726.181818  165.837941   137.982517   \n",
       "std     33.283129    2371.219515  2365.196496   68.757271   293.055632   \n",
       "min      0.000000       0.000000    12.000000    0.000000     1.000000   \n",
       "25%     23.250000    1527.000000  1621.000000  111.587865    20.250000   \n",
       "50%     47.000000    3524.500000  3535.000000  172.968403    56.500000   \n",
       "75%     71.000000    6057.250000  6167.500000  220.269935   123.750000   \n",
       "max    130.000000    7796.000000  7830.000000  394.699287  2761.000000   \n",
       "\n",
       "               dist         spd  viento_aparente        porc      dist_acum  \n",
       "count    286.000000  286.000000       285.000000  286.000000     286.000000  \n",
       "mean     953.702177   30.246377        -0.335772         inf   50939.603808  \n",
       "std     1556.607132    9.291600        11.029186         NaN   32672.602243  \n",
       "min        0.000000    0.000000       -22.370389   -6.677410      80.820019  \n",
       "25%      129.987954   24.116650        -8.240294   -1.075459   21661.469741  \n",
       "50%      465.926543   29.889560        -1.853252   -0.013285   49151.450030  \n",
       "75%      900.805662   36.208949         7.204076    1.201687   84649.749962  \n",
       "max    10273.070042   64.800000        22.925885         inf  107610.184614  "
      ]
     },
     "execution_count": 5,
     "metadata": {},
     "output_type": "execute_result"
    }
   ],
   "source": [
    "df.describe()"
   ]
  },
  {
   "cell_type": "code",
   "execution_count": 6,
   "metadata": {
    "collapsed": true,
    "scrolled": true
   },
   "outputs": [],
   "source": [
    "df = df[df[\"viento_aparente\"]!=-np.inf]\n",
    "df = df[df[\"porc\"]!=np.inf]\n",
    "df[\"puntos_en_tramo\"]= df[\"tramo_final\"]-df[\"tramo_inicial\"]\n",
    "df = df[df[\"puntos_en_tramo\"]>10]\n",
    "df = df[df[\"dist\"]>400]"
   ]
  },
  {
   "cell_type": "code",
   "execution_count": 7,
   "metadata": {},
   "outputs": [
    {
     "data": {
      "text/html": [
       "<div>\n",
       "<style>\n",
       "    .dataframe thead tr:only-child th {\n",
       "        text-align: right;\n",
       "    }\n",
       "\n",
       "    .dataframe thead th {\n",
       "        text-align: left;\n",
       "    }\n",
       "\n",
       "    .dataframe tbody tr th {\n",
       "        vertical-align: top;\n",
       "    }\n",
       "</style>\n",
       "<table border=\"1\" class=\"dataframe\">\n",
       "  <thead>\n",
       "    <tr style=\"text-align: right;\">\n",
       "      <th></th>\n",
       "      <th>tramo</th>\n",
       "      <th>tramo_inicial</th>\n",
       "      <th>tramo_final</th>\n",
       "      <th>pwr</th>\n",
       "      <th>time_seg</th>\n",
       "      <th>dist</th>\n",
       "      <th>spd</th>\n",
       "      <th>viento_aparente</th>\n",
       "      <th>porc</th>\n",
       "      <th>dist_acum</th>\n",
       "      <th>puntos_en_tramo</th>\n",
       "    </tr>\n",
       "  </thead>\n",
       "  <tbody>\n",
       "    <tr>\n",
       "      <th>count</th>\n",
       "      <td>161.000000</td>\n",
       "      <td>161.000000</td>\n",
       "      <td>161.000000</td>\n",
       "      <td>161.000000</td>\n",
       "      <td>161.000000</td>\n",
       "      <td>161.000000</td>\n",
       "      <td>161.000000</td>\n",
       "      <td>161.000000</td>\n",
       "      <td>161.000000</td>\n",
       "      <td>161.000000</td>\n",
       "      <td>161.000000</td>\n",
       "    </tr>\n",
       "    <tr>\n",
       "      <th>mean</th>\n",
       "      <td>49.012422</td>\n",
       "      <td>3508.136646</td>\n",
       "      <td>3623.509317</td>\n",
       "      <td>165.158732</td>\n",
       "      <td>224.726708</td>\n",
       "      <td>1585.665348</td>\n",
       "      <td>30.860261</td>\n",
       "      <td>-0.639284</td>\n",
       "      <td>-0.117919</td>\n",
       "      <td>49515.643817</td>\n",
       "      <td>115.372671</td>\n",
       "    </tr>\n",
       "    <tr>\n",
       "      <th>std</th>\n",
       "      <td>34.034172</td>\n",
       "      <td>2377.723077</td>\n",
       "      <td>2372.868233</td>\n",
       "      <td>70.254282</td>\n",
       "      <td>364.389283</td>\n",
       "      <td>1839.789620</td>\n",
       "      <td>9.555359</td>\n",
       "      <td>11.087491</td>\n",
       "      <td>2.824332</td>\n",
       "      <td>32762.364923</td>\n",
       "      <td>135.823268</td>\n",
       "    </tr>\n",
       "    <tr>\n",
       "      <th>min</th>\n",
       "      <td>0.000000</td>\n",
       "      <td>0.000000</td>\n",
       "      <td>65.000000</td>\n",
       "      <td>12.155189</td>\n",
       "      <td>40.000000</td>\n",
       "      <td>400.769943</td>\n",
       "      <td>11.200633</td>\n",
       "      <td>-21.077543</td>\n",
       "      <td>-6.677410</td>\n",
       "      <td>624.000000</td>\n",
       "      <td>24.000000</td>\n",
       "    </tr>\n",
       "    <tr>\n",
       "      <th>25%</th>\n",
       "      <td>21.000000</td>\n",
       "      <td>1338.000000</td>\n",
       "      <td>1516.000000</td>\n",
       "      <td>103.093380</td>\n",
       "      <td>68.000000</td>\n",
       "      <td>548.000000</td>\n",
       "      <td>23.299345</td>\n",
       "      <td>-8.522427</td>\n",
       "      <td>-2.291880</td>\n",
       "      <td>20391.000000</td>\n",
       "      <td>38.000000</td>\n",
       "    </tr>\n",
       "    <tr>\n",
       "      <th>50%</th>\n",
       "      <td>43.000000</td>\n",
       "      <td>3401.000000</td>\n",
       "      <td>3457.000000</td>\n",
       "      <td>174.304985</td>\n",
       "      <td>97.000000</td>\n",
       "      <td>826.669999</td>\n",
       "      <td>29.734666</td>\n",
       "      <td>-1.486806</td>\n",
       "      <td>-0.631580</td>\n",
       "      <td>47516.039935</td>\n",
       "      <td>61.000000</td>\n",
       "    </tr>\n",
       "    <tr>\n",
       "      <th>75%</th>\n",
       "      <td>69.000000</td>\n",
       "      <td>5783.000000</td>\n",
       "      <td>6097.000000</td>\n",
       "      <td>222.291330</td>\n",
       "      <td>194.000000</td>\n",
       "      <td>1944.540070</td>\n",
       "      <td>38.131031</td>\n",
       "      <td>6.555296</td>\n",
       "      <td>2.014972</td>\n",
       "      <td>83631.066560</td>\n",
       "      <td>132.000000</td>\n",
       "    </tr>\n",
       "    <tr>\n",
       "      <th>max</th>\n",
       "      <td>130.000000</td>\n",
       "      <td>7796.000000</td>\n",
       "      <td>7830.000000</td>\n",
       "      <td>272.819362</td>\n",
       "      <td>2761.000000</td>\n",
       "      <td>10273.070042</td>\n",
       "      <td>52.825966</td>\n",
       "      <td>22.902027</td>\n",
       "      <td>7.137195</td>\n",
       "      <td>107610.184614</td>\n",
       "      <td>796.000000</td>\n",
       "    </tr>\n",
       "  </tbody>\n",
       "</table>\n",
       "</div>"
      ],
      "text/plain": [
       "            tramo  tramo_inicial  tramo_final         pwr     time_seg  \\\n",
       "count  161.000000     161.000000   161.000000  161.000000   161.000000   \n",
       "mean    49.012422    3508.136646  3623.509317  165.158732   224.726708   \n",
       "std     34.034172    2377.723077  2372.868233   70.254282   364.389283   \n",
       "min      0.000000       0.000000    65.000000   12.155189    40.000000   \n",
       "25%     21.000000    1338.000000  1516.000000  103.093380    68.000000   \n",
       "50%     43.000000    3401.000000  3457.000000  174.304985    97.000000   \n",
       "75%     69.000000    5783.000000  6097.000000  222.291330   194.000000   \n",
       "max    130.000000    7796.000000  7830.000000  272.819362  2761.000000   \n",
       "\n",
       "               dist         spd  viento_aparente        porc      dist_acum  \\\n",
       "count    161.000000  161.000000       161.000000  161.000000     161.000000   \n",
       "mean    1585.665348   30.860261        -0.639284   -0.117919   49515.643817   \n",
       "std     1839.789620    9.555359        11.087491    2.824332   32762.364923   \n",
       "min      400.769943   11.200633       -21.077543   -6.677410     624.000000   \n",
       "25%      548.000000   23.299345        -8.522427   -2.291880   20391.000000   \n",
       "50%      826.669999   29.734666        -1.486806   -0.631580   47516.039935   \n",
       "75%     1944.540070   38.131031         6.555296    2.014972   83631.066560   \n",
       "max    10273.070042   52.825966        22.902027    7.137195  107610.184614   \n",
       "\n",
       "       puntos_en_tramo  \n",
       "count       161.000000  \n",
       "mean        115.372671  \n",
       "std         135.823268  \n",
       "min          24.000000  \n",
       "25%          38.000000  \n",
       "50%          61.000000  \n",
       "75%         132.000000  \n",
       "max         796.000000  "
      ]
     },
     "execution_count": 7,
     "metadata": {},
     "output_type": "execute_result"
    }
   ],
   "source": [
    "df.describe()"
   ]
  },
  {
   "cell_type": "code",
   "execution_count": 8,
   "metadata": {},
   "outputs": [
    {
     "data": {
      "text/html": [
       "<div>\n",
       "<style>\n",
       "    .dataframe thead tr:only-child th {\n",
       "        text-align: right;\n",
       "    }\n",
       "\n",
       "    .dataframe thead th {\n",
       "        text-align: left;\n",
       "    }\n",
       "\n",
       "    .dataframe tbody tr th {\n",
       "        vertical-align: top;\n",
       "    }\n",
       "</style>\n",
       "<table border=\"1\" class=\"dataframe\">\n",
       "  <thead>\n",
       "    <tr style=\"text-align: right;\">\n",
       "      <th></th>\n",
       "      <th>tramo</th>\n",
       "      <th>tramo_inicial</th>\n",
       "      <th>tramo_final</th>\n",
       "      <th>pwr</th>\n",
       "      <th>time_seg</th>\n",
       "      <th>dist</th>\n",
       "      <th>spd</th>\n",
       "      <th>viento_aparente</th>\n",
       "      <th>porc</th>\n",
       "      <th>dist_acum</th>\n",
       "      <th>prueba</th>\n",
       "      <th>puntos_en_tramo</th>\n",
       "    </tr>\n",
       "  </thead>\n",
       "  <tbody>\n",
       "    <tr>\n",
       "      <th>0</th>\n",
       "      <td>0</td>\n",
       "      <td>0</td>\n",
       "      <td>65</td>\n",
       "      <td>74.149017</td>\n",
       "      <td>106</td>\n",
       "      <td>966.000000</td>\n",
       "      <td>32.807547</td>\n",
       "      <td>6.555296</td>\n",
       "      <td>-3.377386</td>\n",
       "      <td>948.878610</td>\n",
       "      <td>20180406_LEVS_195_90_R_E.gpx</td>\n",
       "      <td>65</td>\n",
       "    </tr>\n",
       "    <tr>\n",
       "      <th>1</th>\n",
       "      <td>1</td>\n",
       "      <td>65</td>\n",
       "      <td>432</td>\n",
       "      <td>255.588127</td>\n",
       "      <td>980</td>\n",
       "      <td>4819.000000</td>\n",
       "      <td>17.702449</td>\n",
       "      <td>7.198339</td>\n",
       "      <td>4.181100</td>\n",
       "      <td>5773.000000</td>\n",
       "      <td>20180406_LEVS_195_90_R_E.gpx</td>\n",
       "      <td>367</td>\n",
       "    </tr>\n",
       "    <tr>\n",
       "      <th>2</th>\n",
       "      <td>2</td>\n",
       "      <td>432</td>\n",
       "      <td>468</td>\n",
       "      <td>151.469326</td>\n",
       "      <td>44</td>\n",
       "      <td>473.935824</td>\n",
       "      <td>38.776567</td>\n",
       "      <td>8.577246</td>\n",
       "      <td>-1.737873</td>\n",
       "      <td>6248.289894</td>\n",
       "      <td>20180406_LEVS_195_90_R_E.gpx</td>\n",
       "      <td>36</td>\n",
       "    </tr>\n",
       "    <tr>\n",
       "      <th>3</th>\n",
       "      <td>3</td>\n",
       "      <td>468</td>\n",
       "      <td>532</td>\n",
       "      <td>249.872906</td>\n",
       "      <td>120</td>\n",
       "      <td>813.223602</td>\n",
       "      <td>24.396708</td>\n",
       "      <td>8.332607</td>\n",
       "      <td>2.662585</td>\n",
       "      <td>7051.000000</td>\n",
       "      <td>20180406_LEVS_195_90_R_E.gpx</td>\n",
       "      <td>64</td>\n",
       "    </tr>\n",
       "    <tr>\n",
       "      <th>5</th>\n",
       "      <td>5</td>\n",
       "      <td>548</td>\n",
       "      <td>636</td>\n",
       "      <td>215.967082</td>\n",
       "      <td>170</td>\n",
       "      <td>1271.120011</td>\n",
       "      <td>26.917836</td>\n",
       "      <td>8.057656</td>\n",
       "      <td>1.566720</td>\n",
       "      <td>8533.000000</td>\n",
       "      <td>20180406_LEVS_195_90_R_E.gpx</td>\n",
       "      <td>88</td>\n",
       "    </tr>\n",
       "  </tbody>\n",
       "</table>\n",
       "</div>"
      ],
      "text/plain": [
       "   tramo  tramo_inicial  tramo_final         pwr  time_seg         dist  \\\n",
       "0      0              0           65   74.149017       106   966.000000   \n",
       "1      1             65          432  255.588127       980  4819.000000   \n",
       "2      2            432          468  151.469326        44   473.935824   \n",
       "3      3            468          532  249.872906       120   813.223602   \n",
       "5      5            548          636  215.967082       170  1271.120011   \n",
       "\n",
       "         spd  viento_aparente      porc    dist_acum  \\\n",
       "0  32.807547         6.555296 -3.377386   948.878610   \n",
       "1  17.702449         7.198339  4.181100  5773.000000   \n",
       "2  38.776567         8.577246 -1.737873  6248.289894   \n",
       "3  24.396708         8.332607  2.662585  7051.000000   \n",
       "5  26.917836         8.057656  1.566720  8533.000000   \n",
       "\n",
       "                         prueba  puntos_en_tramo  \n",
       "0  20180406_LEVS_195_90_R_E.gpx               65  \n",
       "1  20180406_LEVS_195_90_R_E.gpx              367  \n",
       "2  20180406_LEVS_195_90_R_E.gpx               36  \n",
       "3  20180406_LEVS_195_90_R_E.gpx               64  \n",
       "5  20180406_LEVS_195_90_R_E.gpx               88  "
      ]
     },
     "execution_count": 8,
     "metadata": {},
     "output_type": "execute_result"
    }
   ],
   "source": [
    "df.head()"
   ]
  },
  {
   "cell_type": "code",
   "execution_count": 9,
   "metadata": {
    "collapsed": true
   },
   "outputs": [],
   "source": [
    "# Si recordamos la formula de la potencia, vamos a tratar de despejar el CdA y el Cr\n",
    "# Fijamos rho en 1,2\n",
    "# m = 90kg\n",
    "# Calculamos 3 terminos. Termino CdA, Cr y %"
   ]
  },
  {
   "cell_type": "markdown",
   "metadata": {},
   "source": [
    "$P = \\frac{\\rho CdA}{2}(V^3+2V^2wV+VwV^2)+CrmgV+\\%mgV$\n",
    "\n",
    "$P = V^3(\\frac{\\rho CdA}{2})+V^2(wV{\\rho CdA})+V(\\frac{\\rho CdA wV^2}{2}+Crmg+\\%mg)$\n"
   ]
  },
  {
   "cell_type": "markdown",
   "metadata": {},
   "source": [
    "#### Prueba con Poly"
   ]
  },
  {
   "cell_type": "code",
   "execution_count": 9,
   "metadata": {
    "collapsed": true
   },
   "outputs": [],
   "source": [
    "df['V'] = df['spd']/3.6\n",
    "df['V2'] = (df['spd']/3.6)**2*df['viento_aparente']/3.6\n",
    "df['V3'] = (df['spd']/3.6)**3"
   ]
  },
  {
   "cell_type": "code",
   "execution_count": 10,
   "metadata": {},
   "outputs": [
    {
     "data": {
      "text/html": [
       "<div>\n",
       "<style>\n",
       "    .dataframe thead tr:only-child th {\n",
       "        text-align: right;\n",
       "    }\n",
       "\n",
       "    .dataframe thead th {\n",
       "        text-align: left;\n",
       "    }\n",
       "\n",
       "    .dataframe tbody tr th {\n",
       "        vertical-align: top;\n",
       "    }\n",
       "</style>\n",
       "<table border=\"1\" class=\"dataframe\">\n",
       "  <thead>\n",
       "    <tr style=\"text-align: right;\">\n",
       "      <th></th>\n",
       "      <th>tramo</th>\n",
       "      <th>tramo_inicial</th>\n",
       "      <th>tramo_final</th>\n",
       "      <th>pwr</th>\n",
       "      <th>time_seg</th>\n",
       "      <th>dist</th>\n",
       "      <th>spd</th>\n",
       "      <th>viento_aparente</th>\n",
       "      <th>porc</th>\n",
       "      <th>dist_acum</th>\n",
       "      <th>prueba</th>\n",
       "      <th>puntos_en_tramo</th>\n",
       "      <th>V</th>\n",
       "      <th>V2</th>\n",
       "      <th>V3</th>\n",
       "    </tr>\n",
       "  </thead>\n",
       "  <tbody>\n",
       "    <tr>\n",
       "      <th>0</th>\n",
       "      <td>0</td>\n",
       "      <td>0</td>\n",
       "      <td>65</td>\n",
       "      <td>74.149017</td>\n",
       "      <td>106</td>\n",
       "      <td>966.000000</td>\n",
       "      <td>32.807547</td>\n",
       "      <td>6.555296</td>\n",
       "      <td>-3.377386</td>\n",
       "      <td>948.878610</td>\n",
       "      <td>20180406_LEVS_195_90_R_E.gpx</td>\n",
       "      <td>65</td>\n",
       "      <td>9.113208</td>\n",
       "      <td>83.050552</td>\n",
       "      <td>756.856915</td>\n",
       "    </tr>\n",
       "    <tr>\n",
       "      <th>1</th>\n",
       "      <td>1</td>\n",
       "      <td>65</td>\n",
       "      <td>432</td>\n",
       "      <td>255.588127</td>\n",
       "      <td>980</td>\n",
       "      <td>4819.000000</td>\n",
       "      <td>17.702449</td>\n",
       "      <td>7.198339</td>\n",
       "      <td>4.181100</td>\n",
       "      <td>5773.000000</td>\n",
       "      <td>20180406_LEVS_195_90_R_E.gpx</td>\n",
       "      <td>367</td>\n",
       "      <td>4.917347</td>\n",
       "      <td>24.180301</td>\n",
       "      <td>118.902929</td>\n",
       "    </tr>\n",
       "    <tr>\n",
       "      <th>2</th>\n",
       "      <td>2</td>\n",
       "      <td>432</td>\n",
       "      <td>468</td>\n",
       "      <td>151.469326</td>\n",
       "      <td>44</td>\n",
       "      <td>473.935824</td>\n",
       "      <td>38.776567</td>\n",
       "      <td>8.577246</td>\n",
       "      <td>-1.737873</td>\n",
       "      <td>6248.289894</td>\n",
       "      <td>20180406_LEVS_195_90_R_E.gpx</td>\n",
       "      <td>36</td>\n",
       "      <td>10.771269</td>\n",
       "      <td>116.020230</td>\n",
       "      <td>1249.685072</td>\n",
       "    </tr>\n",
       "    <tr>\n",
       "      <th>3</th>\n",
       "      <td>3</td>\n",
       "      <td>468</td>\n",
       "      <td>532</td>\n",
       "      <td>249.872906</td>\n",
       "      <td>120</td>\n",
       "      <td>813.223602</td>\n",
       "      <td>24.396708</td>\n",
       "      <td>8.332607</td>\n",
       "      <td>2.662585</td>\n",
       "      <td>7051.000000</td>\n",
       "      <td>20180406_LEVS_195_90_R_E.gpx</td>\n",
       "      <td>64</td>\n",
       "      <td>6.776863</td>\n",
       "      <td>45.925877</td>\n",
       "      <td>311.233392</td>\n",
       "    </tr>\n",
       "    <tr>\n",
       "      <th>5</th>\n",
       "      <td>5</td>\n",
       "      <td>548</td>\n",
       "      <td>636</td>\n",
       "      <td>215.967082</td>\n",
       "      <td>170</td>\n",
       "      <td>1271.120011</td>\n",
       "      <td>26.917836</td>\n",
       "      <td>8.057656</td>\n",
       "      <td>1.566720</td>\n",
       "      <td>8533.000000</td>\n",
       "      <td>20180406_LEVS_195_90_R_E.gpx</td>\n",
       "      <td>88</td>\n",
       "      <td>7.477177</td>\n",
       "      <td>55.908169</td>\n",
       "      <td>418.035249</td>\n",
       "    </tr>\n",
       "  </tbody>\n",
       "</table>\n",
       "</div>"
      ],
      "text/plain": [
       "   tramo  tramo_inicial  tramo_final         pwr  time_seg         dist  \\\n",
       "0      0              0           65   74.149017       106   966.000000   \n",
       "1      1             65          432  255.588127       980  4819.000000   \n",
       "2      2            432          468  151.469326        44   473.935824   \n",
       "3      3            468          532  249.872906       120   813.223602   \n",
       "5      5            548          636  215.967082       170  1271.120011   \n",
       "\n",
       "         spd  viento_aparente      porc    dist_acum  \\\n",
       "0  32.807547         6.555296 -3.377386   948.878610   \n",
       "1  17.702449         7.198339  4.181100  5773.000000   \n",
       "2  38.776567         8.577246 -1.737873  6248.289894   \n",
       "3  24.396708         8.332607  2.662585  7051.000000   \n",
       "5  26.917836         8.057656  1.566720  8533.000000   \n",
       "\n",
       "                         prueba  puntos_en_tramo          V          V2  \\\n",
       "0  20180406_LEVS_195_90_R_E.gpx               65   9.113208   83.050552   \n",
       "1  20180406_LEVS_195_90_R_E.gpx              367   4.917347   24.180301   \n",
       "2  20180406_LEVS_195_90_R_E.gpx               36  10.771269  116.020230   \n",
       "3  20180406_LEVS_195_90_R_E.gpx               64   6.776863   45.925877   \n",
       "5  20180406_LEVS_195_90_R_E.gpx               88   7.477177   55.908169   \n",
       "\n",
       "            V3  \n",
       "0   756.856915  \n",
       "1   118.902929  \n",
       "2  1249.685072  \n",
       "3   311.233392  \n",
       "5   418.035249  "
      ]
     },
     "execution_count": 10,
     "metadata": {},
     "output_type": "execute_result"
    }
   ],
   "source": [
    "df.head()"
   ]
  },
  {
   "cell_type": "code",
   "execution_count": 19,
   "metadata": {
    "collapsed": true
   },
   "outputs": [],
   "source": [
    "from sklearn.preprocessing import PolynomialFeatures\n",
    "from sklearn.linear_model import LinearRegression\n",
    "from sklearn.pipeline import Pipeline\n",
    "model = Pipeline([('poly', PolynomialFeatures(degree=3)),('linear', LinearRegression(fit_intercept=True))])\n",
    "regr = LinearRegression(fit_intercept=True)"
   ]
  },
  {
   "cell_type": "code",
   "execution_count": 20,
   "metadata": {
    "collapsed": true
   },
   "outputs": [],
   "source": [
    "df_lm_x = df[['V','V2','V3']]\n",
    "#df_lm_x = df[['V']]\n",
    "df_lm_y = df[['pwr']]"
   ]
  },
  {
   "cell_type": "code",
   "execution_count": 21,
   "metadata": {},
   "outputs": [],
   "source": [
    "from sklearn.model_selection import train_test_split\n",
    "X_train, X_test, Y_train, Y_test = train_test_split(df_lm_x, df_lm_y, test_size=0.30, random_state=42)"
   ]
  },
  {
   "cell_type": "code",
   "execution_count": 15,
   "metadata": {},
   "outputs": [
    {
     "data": {
      "text/plain": [
       "Pipeline(steps=[('poly', PolynomialFeatures(degree=3, include_bias=True, interaction_only=False)), ('linear', LinearRegression(copy_X=True, fit_intercept=True, n_jobs=1, normalize=False))])"
      ]
     },
     "execution_count": 15,
     "metadata": {},
     "output_type": "execute_result"
    }
   ],
   "source": [
    "regr.fit(X_train, Y_train)\n",
    "#model.fit(X_train, Y_train)"
   ]
  },
  {
   "cell_type": "code",
   "execution_count": 23,
   "metadata": {
    "collapsed": true
   },
   "outputs": [],
   "source": [
    "Y_pred = regr.predict(X_test)\n",
    "#Y_pred = model.predict(X_test)"
   ]
  },
  {
   "cell_type": "code",
   "execution_count": 24,
   "metadata": {},
   "outputs": [
    {
     "data": {
      "text/plain": [
       "array([[ 28.04377676,  -5.94258186,   0.25286547]])"
      ]
     },
     "execution_count": 24,
     "metadata": {},
     "output_type": "execute_result"
    }
   ],
   "source": [
    "regr.coef_"
   ]
  },
  {
   "cell_type": "code",
   "execution_count": 17,
   "metadata": {},
   "outputs": [
    {
     "data": {
      "text/plain": [
       "array([[  0.        ,  28.04377676,  -5.94258186,   0.25286547]])"
      ]
     },
     "execution_count": 17,
     "metadata": {},
     "output_type": "execute_result"
    }
   ],
   "source": [
    "model.named_steps['linear'].coef_"
   ]
  },
  {
   "cell_type": "markdown",
   "metadata": {},
   "source": [
    "$P = \\frac{\\rho CdA}{2}(V^3+2V^2wV+VwV^2)+CrmgV+\\%mgV$"
   ]
  },
  {
   "cell_type": "code",
   "execution_count": 29,
   "metadata": {},
   "outputs": [
    {
     "data": {
      "text/plain": [
       "0    0.421442\n",
       "Name: 2, dtype: float64"
      ]
     },
     "execution_count": 29,
     "metadata": {},
     "output_type": "execute_result"
    }
   ],
   "source": [
    "Cda = pd.DataFrame(regr.coef_)[2]*2/1.2\n",
    "Cda"
   ]
  },
  {
   "cell_type": "code",
   "execution_count": 30,
   "metadata": {},
   "outputs": [
    {
     "data": {
      "text/plain": [
       "0    0.031763\n",
       "Name: 0, dtype: float64"
      ]
     },
     "execution_count": 30,
     "metadata": {},
     "output_type": "execute_result"
    }
   ],
   "source": [
    "#asumiendo que no hay viento ni pendiente\n",
    "Cr = pd.DataFrame(regr.coef_)[0]/90/9.81\n",
    "Cr"
   ]
  },
  {
   "cell_type": "code",
   "execution_count": 31,
   "metadata": {},
   "outputs": [
    {
     "name": "stdout",
     "output_type": "stream",
     "text": [
      "3461.44346117\n",
      "0.411198908686\n"
     ]
    }
   ],
   "source": [
    "from sklearn import metrics\n",
    "print(metrics.mean_squared_error(Y_test,Y_pred))\n",
    "print(metrics.explained_variance_score(Y_test, Y_pred))"
   ]
  },
  {
   "cell_type": "markdown",
   "metadata": {},
   "source": [
    "#### Tramo a Tramo"
   ]
  },
  {
   "cell_type": "code",
   "execution_count": 33,
   "metadata": {},
   "outputs": [
    {
     "data": {
      "text/html": [
       "<div>\n",
       "<style>\n",
       "    .dataframe thead tr:only-child th {\n",
       "        text-align: right;\n",
       "    }\n",
       "\n",
       "    .dataframe thead th {\n",
       "        text-align: left;\n",
       "    }\n",
       "\n",
       "    .dataframe tbody tr th {\n",
       "        vertical-align: top;\n",
       "    }\n",
       "</style>\n",
       "<table border=\"1\" class=\"dataframe\">\n",
       "  <thead>\n",
       "    <tr style=\"text-align: right;\">\n",
       "      <th></th>\n",
       "      <th>tramo</th>\n",
       "      <th>tramo_inicial</th>\n",
       "      <th>tramo_final</th>\n",
       "      <th>pwr</th>\n",
       "      <th>time_seg</th>\n",
       "      <th>dist</th>\n",
       "      <th>spd</th>\n",
       "      <th>viento_aparente</th>\n",
       "      <th>porc</th>\n",
       "      <th>dist_acum</th>\n",
       "      <th>puntos_en_tramo</th>\n",
       "      <th>V</th>\n",
       "      <th>V2</th>\n",
       "      <th>V3</th>\n",
       "    </tr>\n",
       "  </thead>\n",
       "  <tbody>\n",
       "    <tr>\n",
       "      <th>count</th>\n",
       "      <td>161.000000</td>\n",
       "      <td>161.000000</td>\n",
       "      <td>161.000000</td>\n",
       "      <td>161.000000</td>\n",
       "      <td>161.000000</td>\n",
       "      <td>161.000000</td>\n",
       "      <td>161.000000</td>\n",
       "      <td>161.000000</td>\n",
       "      <td>161.000000</td>\n",
       "      <td>161.000000</td>\n",
       "      <td>161.000000</td>\n",
       "      <td>161.000000</td>\n",
       "      <td>161.000000</td>\n",
       "      <td>161.000000</td>\n",
       "    </tr>\n",
       "    <tr>\n",
       "      <th>mean</th>\n",
       "      <td>49.012422</td>\n",
       "      <td>3508.136646</td>\n",
       "      <td>3623.509317</td>\n",
       "      <td>165.158732</td>\n",
       "      <td>224.726708</td>\n",
       "      <td>1585.665348</td>\n",
       "      <td>30.860261</td>\n",
       "      <td>-0.639284</td>\n",
       "      <td>-0.117919</td>\n",
       "      <td>49515.643817</td>\n",
       "      <td>115.372671</td>\n",
       "      <td>8.572295</td>\n",
       "      <td>80.485608</td>\n",
       "      <td>813.808385</td>\n",
       "    </tr>\n",
       "    <tr>\n",
       "      <th>std</th>\n",
       "      <td>34.034172</td>\n",
       "      <td>2377.723077</td>\n",
       "      <td>2372.868233</td>\n",
       "      <td>70.254282</td>\n",
       "      <td>364.389283</td>\n",
       "      <td>1839.789620</td>\n",
       "      <td>9.555359</td>\n",
       "      <td>11.087491</td>\n",
       "      <td>2.824332</td>\n",
       "      <td>32762.364923</td>\n",
       "      <td>135.823268</td>\n",
       "      <td>2.654266</td>\n",
       "      <td>47.566850</td>\n",
       "      <td>693.948667</td>\n",
       "    </tr>\n",
       "    <tr>\n",
       "      <th>min</th>\n",
       "      <td>0.000000</td>\n",
       "      <td>0.000000</td>\n",
       "      <td>65.000000</td>\n",
       "      <td>12.155189</td>\n",
       "      <td>40.000000</td>\n",
       "      <td>400.769943</td>\n",
       "      <td>11.200633</td>\n",
       "      <td>-21.077543</td>\n",
       "      <td>-6.677410</td>\n",
       "      <td>624.000000</td>\n",
       "      <td>24.000000</td>\n",
       "      <td>3.111287</td>\n",
       "      <td>9.680107</td>\n",
       "      <td>30.117592</td>\n",
       "    </tr>\n",
       "    <tr>\n",
       "      <th>25%</th>\n",
       "      <td>21.000000</td>\n",
       "      <td>1338.000000</td>\n",
       "      <td>1516.000000</td>\n",
       "      <td>103.093380</td>\n",
       "      <td>68.000000</td>\n",
       "      <td>548.000000</td>\n",
       "      <td>23.299345</td>\n",
       "      <td>-8.522427</td>\n",
       "      <td>-2.291880</td>\n",
       "      <td>20391.000000</td>\n",
       "      <td>38.000000</td>\n",
       "      <td>6.472040</td>\n",
       "      <td>41.887305</td>\n",
       "      <td>271.096326</td>\n",
       "    </tr>\n",
       "    <tr>\n",
       "      <th>50%</th>\n",
       "      <td>43.000000</td>\n",
       "      <td>3401.000000</td>\n",
       "      <td>3457.000000</td>\n",
       "      <td>174.304985</td>\n",
       "      <td>97.000000</td>\n",
       "      <td>826.669999</td>\n",
       "      <td>29.734666</td>\n",
       "      <td>-1.486806</td>\n",
       "      <td>-0.631580</td>\n",
       "      <td>47516.039935</td>\n",
       "      <td>61.000000</td>\n",
       "      <td>8.259630</td>\n",
       "      <td>68.221480</td>\n",
       "      <td>563.484148</td>\n",
       "    </tr>\n",
       "    <tr>\n",
       "      <th>75%</th>\n",
       "      <td>69.000000</td>\n",
       "      <td>5783.000000</td>\n",
       "      <td>6097.000000</td>\n",
       "      <td>222.291330</td>\n",
       "      <td>194.000000</td>\n",
       "      <td>1944.540070</td>\n",
       "      <td>38.131031</td>\n",
       "      <td>6.555296</td>\n",
       "      <td>2.014972</td>\n",
       "      <td>83631.066560</td>\n",
       "      <td>132.000000</td>\n",
       "      <td>10.591953</td>\n",
       "      <td>112.189471</td>\n",
       "      <td>1188.305620</td>\n",
       "    </tr>\n",
       "    <tr>\n",
       "      <th>max</th>\n",
       "      <td>130.000000</td>\n",
       "      <td>7796.000000</td>\n",
       "      <td>7830.000000</td>\n",
       "      <td>272.819362</td>\n",
       "      <td>2761.000000</td>\n",
       "      <td>10273.070042</td>\n",
       "      <td>52.825966</td>\n",
       "      <td>22.902027</td>\n",
       "      <td>7.137195</td>\n",
       "      <td>107610.184614</td>\n",
       "      <td>796.000000</td>\n",
       "      <td>14.673879</td>\n",
       "      <td>215.322736</td>\n",
       "      <td>3159.619848</td>\n",
       "    </tr>\n",
       "  </tbody>\n",
       "</table>\n",
       "</div>"
      ],
      "text/plain": [
       "            tramo  tramo_inicial  tramo_final         pwr     time_seg  \\\n",
       "count  161.000000     161.000000   161.000000  161.000000   161.000000   \n",
       "mean    49.012422    3508.136646  3623.509317  165.158732   224.726708   \n",
       "std     34.034172    2377.723077  2372.868233   70.254282   364.389283   \n",
       "min      0.000000       0.000000    65.000000   12.155189    40.000000   \n",
       "25%     21.000000    1338.000000  1516.000000  103.093380    68.000000   \n",
       "50%     43.000000    3401.000000  3457.000000  174.304985    97.000000   \n",
       "75%     69.000000    5783.000000  6097.000000  222.291330   194.000000   \n",
       "max    130.000000    7796.000000  7830.000000  272.819362  2761.000000   \n",
       "\n",
       "               dist         spd  viento_aparente        porc      dist_acum  \\\n",
       "count    161.000000  161.000000       161.000000  161.000000     161.000000   \n",
       "mean    1585.665348   30.860261        -0.639284   -0.117919   49515.643817   \n",
       "std     1839.789620    9.555359        11.087491    2.824332   32762.364923   \n",
       "min      400.769943   11.200633       -21.077543   -6.677410     624.000000   \n",
       "25%      548.000000   23.299345        -8.522427   -2.291880   20391.000000   \n",
       "50%      826.669999   29.734666        -1.486806   -0.631580   47516.039935   \n",
       "75%     1944.540070   38.131031         6.555296    2.014972   83631.066560   \n",
       "max    10273.070042   52.825966        22.902027    7.137195  107610.184614   \n",
       "\n",
       "       puntos_en_tramo           V          V2           V3  \n",
       "count       161.000000  161.000000  161.000000   161.000000  \n",
       "mean        115.372671    8.572295   80.485608   813.808385  \n",
       "std         135.823268    2.654266   47.566850   693.948667  \n",
       "min          24.000000    3.111287    9.680107    30.117592  \n",
       "25%          38.000000    6.472040   41.887305   271.096326  \n",
       "50%          61.000000    8.259630   68.221480   563.484148  \n",
       "75%         132.000000   10.591953  112.189471  1188.305620  \n",
       "max         796.000000   14.673879  215.322736  3159.619848  "
      ]
     },
     "execution_count": 33,
     "metadata": {},
     "output_type": "execute_result"
    }
   ],
   "source": [
    "df.describe()"
   ]
  },
  {
   "cell_type": "code",
   "execution_count": 35,
   "metadata": {
    "collapsed": true
   },
   "outputs": [],
   "source": [
    "df_lm_x = df[['V','V2','V3','prueba','tramo']]\n",
    "#df_lm_x = df[['V']]\n",
    "df_lm_y = df[['pwr']]"
   ]
  },
  {
   "cell_type": "code",
   "execution_count": 36,
   "metadata": {
    "collapsed": true
   },
   "outputs": [
    {
     "data": {
      "text/html": [
       "<div>\n",
       "<style>\n",
       "    .dataframe thead tr:only-child th {\n",
       "        text-align: right;\n",
       "    }\n",
       "\n",
       "    .dataframe thead th {\n",
       "        text-align: left;\n",
       "    }\n",
       "\n",
       "    .dataframe tbody tr th {\n",
       "        vertical-align: top;\n",
       "    }\n",
       "</style>\n",
       "<table border=\"1\" class=\"dataframe\">\n",
       "  <thead>\n",
       "    <tr style=\"text-align: right;\">\n",
       "      <th></th>\n",
       "      <th>V</th>\n",
       "      <th>V2</th>\n",
       "      <th>V3</th>\n",
       "      <th>prueba</th>\n",
       "      <th>tramo</th>\n",
       "    </tr>\n",
       "  </thead>\n",
       "  <tbody>\n",
       "    <tr>\n",
       "      <th>0</th>\n",
       "      <td>9.113208</td>\n",
       "      <td>83.050552</td>\n",
       "      <td>756.856915</td>\n",
       "      <td>20180406_LEVS_195_90_R_E.gpx</td>\n",
       "      <td>0</td>\n",
       "    </tr>\n",
       "    <tr>\n",
       "      <th>1</th>\n",
       "      <td>4.917347</td>\n",
       "      <td>24.180301</td>\n",
       "      <td>118.902929</td>\n",
       "      <td>20180406_LEVS_195_90_R_E.gpx</td>\n",
       "      <td>1</td>\n",
       "    </tr>\n",
       "    <tr>\n",
       "      <th>2</th>\n",
       "      <td>10.771269</td>\n",
       "      <td>116.020230</td>\n",
       "      <td>1249.685072</td>\n",
       "      <td>20180406_LEVS_195_90_R_E.gpx</td>\n",
       "      <td>2</td>\n",
       "    </tr>\n",
       "    <tr>\n",
       "      <th>3</th>\n",
       "      <td>6.776863</td>\n",
       "      <td>45.925877</td>\n",
       "      <td>311.233392</td>\n",
       "      <td>20180406_LEVS_195_90_R_E.gpx</td>\n",
       "      <td>3</td>\n",
       "    </tr>\n",
       "    <tr>\n",
       "      <th>5</th>\n",
       "      <td>7.477177</td>\n",
       "      <td>55.908169</td>\n",
       "      <td>418.035249</td>\n",
       "      <td>20180406_LEVS_195_90_R_E.gpx</td>\n",
       "      <td>5</td>\n",
       "    </tr>\n",
       "    <tr>\n",
       "      <th>6</th>\n",
       "      <td>10.028169</td>\n",
       "      <td>100.564174</td>\n",
       "      <td>1008.474531</td>\n",
       "      <td>20180406_LEVS_195_90_R_E.gpx</td>\n",
       "      <td>6</td>\n",
       "    </tr>\n",
       "    <tr>\n",
       "      <th>7</th>\n",
       "      <td>6.331126</td>\n",
       "      <td>40.083154</td>\n",
       "      <td>253.771493</td>\n",
       "      <td>20180406_LEVS_195_90_R_E.gpx</td>\n",
       "      <td>7</td>\n",
       "    </tr>\n",
       "    <tr>\n",
       "      <th>8</th>\n",
       "      <td>9.061111</td>\n",
       "      <td>82.103735</td>\n",
       "      <td>743.951062</td>\n",
       "      <td>20180406_LEVS_195_90_R_E.gpx</td>\n",
       "      <td>8</td>\n",
       "    </tr>\n",
       "    <tr>\n",
       "      <th>9</th>\n",
       "      <td>7.538462</td>\n",
       "      <td>56.828402</td>\n",
       "      <td>428.398726</td>\n",
       "      <td>20180406_LEVS_195_90_R_E.gpx</td>\n",
       "      <td>9</td>\n",
       "    </tr>\n",
       "    <tr>\n",
       "      <th>10</th>\n",
       "      <td>8.233083</td>\n",
       "      <td>67.783651</td>\n",
       "      <td>558.068404</td>\n",
       "      <td>20180406_LEVS_195_90_R_E.gpx</td>\n",
       "      <td>10</td>\n",
       "    </tr>\n",
       "    <tr>\n",
       "      <th>11</th>\n",
       "      <td>5.905405</td>\n",
       "      <td>34.873813</td>\n",
       "      <td>205.944004</td>\n",
       "      <td>20180406_LEVS_195_90_R_E.gpx</td>\n",
       "      <td>11</td>\n",
       "    </tr>\n",
       "    <tr>\n",
       "      <th>15</th>\n",
       "      <td>5.021429</td>\n",
       "      <td>25.214745</td>\n",
       "      <td>126.614040</td>\n",
       "      <td>20180406_LEVS_195_90_R_E.gpx</td>\n",
       "      <td>15</td>\n",
       "    </tr>\n",
       "    <tr>\n",
       "      <th>16</th>\n",
       "      <td>8.827586</td>\n",
       "      <td>77.926278</td>\n",
       "      <td>687.900939</td>\n",
       "      <td>20180406_LEVS_195_90_R_E.gpx</td>\n",
       "      <td>16</td>\n",
       "    </tr>\n",
       "    <tr>\n",
       "      <th>17</th>\n",
       "      <td>7.410256</td>\n",
       "      <td>54.911900</td>\n",
       "      <td>406.911259</td>\n",
       "      <td>20180406_LEVS_195_90_R_E.gpx</td>\n",
       "      <td>17</td>\n",
       "    </tr>\n",
       "    <tr>\n",
       "      <th>19</th>\n",
       "      <td>5.680470</td>\n",
       "      <td>32.267736</td>\n",
       "      <td>183.295898</td>\n",
       "      <td>20180406_LEVS_195_90_R_E.gpx</td>\n",
       "      <td>19</td>\n",
       "    </tr>\n",
       "    <tr>\n",
       "      <th>21</th>\n",
       "      <td>3.370156</td>\n",
       "      <td>11.357950</td>\n",
       "      <td>38.278059</td>\n",
       "      <td>20180406_LEVS_195_90_R_E.gpx</td>\n",
       "      <td>21</td>\n",
       "    </tr>\n",
       "    <tr>\n",
       "      <th>22</th>\n",
       "      <td>13.204460</td>\n",
       "      <td>174.357769</td>\n",
       "      <td>2302.300228</td>\n",
       "      <td>20180406_LEVS_195_90_R_E.gpx</td>\n",
       "      <td>22</td>\n",
       "    </tr>\n",
       "    <tr>\n",
       "      <th>23</th>\n",
       "      <td>4.890528</td>\n",
       "      <td>23.917265</td>\n",
       "      <td>116.968057</td>\n",
       "      <td>20180406_LEVS_195_90_R_E.gpx</td>\n",
       "      <td>23</td>\n",
       "    </tr>\n",
       "    <tr>\n",
       "      <th>24</th>\n",
       "      <td>7.816573</td>\n",
       "      <td>61.098821</td>\n",
       "      <td>477.583420</td>\n",
       "      <td>20180406_LEVS_195_90_R_E.gpx</td>\n",
       "      <td>24</td>\n",
       "    </tr>\n",
       "    <tr>\n",
       "      <th>25</th>\n",
       "      <td>5.707693</td>\n",
       "      <td>32.577761</td>\n",
       "      <td>185.943862</td>\n",
       "      <td>20180406_LEVS_195_90_R_E.gpx</td>\n",
       "      <td>25</td>\n",
       "    </tr>\n",
       "    <tr>\n",
       "      <th>30</th>\n",
       "      <td>7.764309</td>\n",
       "      <td>60.284492</td>\n",
       "      <td>468.067418</td>\n",
       "      <td>20180406_LEVS_195_90_R_E.gpx</td>\n",
       "      <td>30</td>\n",
       "    </tr>\n",
       "    <tr>\n",
       "      <th>31</th>\n",
       "      <td>3.111287</td>\n",
       "      <td>9.680107</td>\n",
       "      <td>30.117592</td>\n",
       "      <td>20180406_LEVS_195_90_R_E.gpx</td>\n",
       "      <td>31</td>\n",
       "    </tr>\n",
       "    <tr>\n",
       "      <th>32</th>\n",
       "      <td>12.518354</td>\n",
       "      <td>156.709175</td>\n",
       "      <td>1961.740857</td>\n",
       "      <td>20180406_LEVS_195_90_R_E.gpx</td>\n",
       "      <td>32</td>\n",
       "    </tr>\n",
       "    <tr>\n",
       "      <th>34</th>\n",
       "      <td>12.310669</td>\n",
       "      <td>151.552562</td>\n",
       "      <td>1865.713364</td>\n",
       "      <td>20180406_LEVS_195_90_R_E.gpx</td>\n",
       "      <td>34</td>\n",
       "    </tr>\n",
       "    <tr>\n",
       "      <th>35</th>\n",
       "      <td>3.204822</td>\n",
       "      <td>10.270885</td>\n",
       "      <td>32.916360</td>\n",
       "      <td>20180406_LEVS_195_90_R_E.gpx</td>\n",
       "      <td>35</td>\n",
       "    </tr>\n",
       "    <tr>\n",
       "      <th>36</th>\n",
       "      <td>9.748326</td>\n",
       "      <td>95.029851</td>\n",
       "      <td>926.381926</td>\n",
       "      <td>20180406_LEVS_195_90_R_E.gpx</td>\n",
       "      <td>36</td>\n",
       "    </tr>\n",
       "    <tr>\n",
       "      <th>40</th>\n",
       "      <td>9.091667</td>\n",
       "      <td>82.658403</td>\n",
       "      <td>751.502645</td>\n",
       "      <td>20180406_LEVS_195_90_R_E.gpx</td>\n",
       "      <td>40</td>\n",
       "    </tr>\n",
       "    <tr>\n",
       "      <th>41</th>\n",
       "      <td>6.794202</td>\n",
       "      <td>46.161174</td>\n",
       "      <td>313.628322</td>\n",
       "      <td>20180406_LEVS_195_90_R_E.gpx</td>\n",
       "      <td>41</td>\n",
       "    </tr>\n",
       "    <tr>\n",
       "      <th>42</th>\n",
       "      <td>7.818174</td>\n",
       "      <td>61.123846</td>\n",
       "      <td>477.876863</td>\n",
       "      <td>20180406_LEVS_195_90_R_E.gpx</td>\n",
       "      <td>42</td>\n",
       "    </tr>\n",
       "    <tr>\n",
       "      <th>44</th>\n",
       "      <td>9.155950</td>\n",
       "      <td>83.831427</td>\n",
       "      <td>767.556379</td>\n",
       "      <td>20180406_LEVS_195_90_R_E.gpx</td>\n",
       "      <td>44</td>\n",
       "    </tr>\n",
       "    <tr>\n",
       "      <th>...</th>\n",
       "      <td>...</td>\n",
       "      <td>...</td>\n",
       "      <td>...</td>\n",
       "      <td>...</td>\n",
       "      <td>...</td>\n",
       "    </tr>\n",
       "    <tr>\n",
       "      <th>24</th>\n",
       "      <td>13.318768</td>\n",
       "      <td>177.389571</td>\n",
       "      <td>2362.610466</td>\n",
       "      <td>20180422_LEVS_195_90_R_E.gpx</td>\n",
       "      <td>24</td>\n",
       "    </tr>\n",
       "    <tr>\n",
       "      <th>25</th>\n",
       "      <td>5.239484</td>\n",
       "      <td>27.452194</td>\n",
       "      <td>143.835338</td>\n",
       "      <td>20180422_LEVS_195_90_R_E.gpx</td>\n",
       "      <td>25</td>\n",
       "    </tr>\n",
       "    <tr>\n",
       "      <th>30</th>\n",
       "      <td>11.415493</td>\n",
       "      <td>130.313479</td>\n",
       "      <td>1487.592607</td>\n",
       "      <td>20180422_LEVS_195_90_R_E.gpx</td>\n",
       "      <td>30</td>\n",
       "    </tr>\n",
       "    <tr>\n",
       "      <th>32</th>\n",
       "      <td>9.692453</td>\n",
       "      <td>93.943654</td>\n",
       "      <td>910.544488</td>\n",
       "      <td>20180422_LEVS_195_90_R_E.gpx</td>\n",
       "      <td>32</td>\n",
       "    </tr>\n",
       "    <tr>\n",
       "      <th>34</th>\n",
       "      <td>10.968001</td>\n",
       "      <td>120.297043</td>\n",
       "      <td>1319.418067</td>\n",
       "      <td>20180422_LEVS_195_90_R_E.gpx</td>\n",
       "      <td>34</td>\n",
       "    </tr>\n",
       "    <tr>\n",
       "      <th>36</th>\n",
       "      <td>12.426087</td>\n",
       "      <td>154.407637</td>\n",
       "      <td>1918.682725</td>\n",
       "      <td>20180422_LEVS_195_90_R_E.gpx</td>\n",
       "      <td>36</td>\n",
       "    </tr>\n",
       "    <tr>\n",
       "      <th>37</th>\n",
       "      <td>5.447894</td>\n",
       "      <td>29.679544</td>\n",
       "      <td>161.690999</td>\n",
       "      <td>20180422_LEVS_195_90_R_E.gpx</td>\n",
       "      <td>37</td>\n",
       "    </tr>\n",
       "    <tr>\n",
       "      <th>38</th>\n",
       "      <td>10.277874</td>\n",
       "      <td>105.634691</td>\n",
       "      <td>1085.700023</td>\n",
       "      <td>20180422_LEVS_195_90_R_E.gpx</td>\n",
       "      <td>38</td>\n",
       "    </tr>\n",
       "    <tr>\n",
       "      <th>39</th>\n",
       "      <td>4.589836</td>\n",
       "      <td>21.066592</td>\n",
       "      <td>96.692194</td>\n",
       "      <td>20180422_LEVS_195_90_R_E.gpx</td>\n",
       "      <td>39</td>\n",
       "    </tr>\n",
       "    <tr>\n",
       "      <th>40</th>\n",
       "      <td>14.650125</td>\n",
       "      <td>214.626158</td>\n",
       "      <td>3144.300006</td>\n",
       "      <td>20180422_LEVS_195_90_R_E.gpx</td>\n",
       "      <td>40</td>\n",
       "    </tr>\n",
       "    <tr>\n",
       "      <th>41</th>\n",
       "      <td>8.226647</td>\n",
       "      <td>67.677729</td>\n",
       "      <td>556.760821</td>\n",
       "      <td>20180422_LEVS_195_90_R_E.gpx</td>\n",
       "      <td>41</td>\n",
       "    </tr>\n",
       "    <tr>\n",
       "      <th>42</th>\n",
       "      <td>11.858537</td>\n",
       "      <td>140.624890</td>\n",
       "      <td>1667.605402</td>\n",
       "      <td>20180422_LEVS_195_90_R_E.gpx</td>\n",
       "      <td>42</td>\n",
       "    </tr>\n",
       "    <tr>\n",
       "      <th>43</th>\n",
       "      <td>5.055788</td>\n",
       "      <td>25.560992</td>\n",
       "      <td>129.230959</td>\n",
       "      <td>20180422_LEVS_195_90_R_E.gpx</td>\n",
       "      <td>43</td>\n",
       "    </tr>\n",
       "    <tr>\n",
       "      <th>49</th>\n",
       "      <td>8.500000</td>\n",
       "      <td>72.250000</td>\n",
       "      <td>614.125000</td>\n",
       "      <td>20180422_LEVS_195_90_R_E.gpx</td>\n",
       "      <td>49</td>\n",
       "    </tr>\n",
       "    <tr>\n",
       "      <th>51</th>\n",
       "      <td>5.920422</td>\n",
       "      <td>35.051400</td>\n",
       "      <td>207.519092</td>\n",
       "      <td>20180422_LEVS_195_90_R_E.gpx</td>\n",
       "      <td>51</td>\n",
       "    </tr>\n",
       "    <tr>\n",
       "      <th>52</th>\n",
       "      <td>13.043929</td>\n",
       "      <td>170.144080</td>\n",
       "      <td>2219.347276</td>\n",
       "      <td>20180422_LEVS_195_90_R_E.gpx</td>\n",
       "      <td>52</td>\n",
       "    </tr>\n",
       "    <tr>\n",
       "      <th>53</th>\n",
       "      <td>5.761792</td>\n",
       "      <td>33.198247</td>\n",
       "      <td>191.281393</td>\n",
       "      <td>20180422_LEVS_195_90_R_E.gpx</td>\n",
       "      <td>53</td>\n",
       "    </tr>\n",
       "    <tr>\n",
       "      <th>55</th>\n",
       "      <td>8.689287</td>\n",
       "      <td>75.503706</td>\n",
       "      <td>656.073361</td>\n",
       "      <td>20180422_LEVS_195_90_R_E.gpx</td>\n",
       "      <td>55</td>\n",
       "    </tr>\n",
       "    <tr>\n",
       "      <th>56</th>\n",
       "      <td>10.067999</td>\n",
       "      <td>101.364598</td>\n",
       "      <td>1020.538645</td>\n",
       "      <td>20180422_LEVS_195_90_R_E.gpx</td>\n",
       "      <td>56</td>\n",
       "    </tr>\n",
       "    <tr>\n",
       "      <th>58</th>\n",
       "      <td>11.706709</td>\n",
       "      <td>137.047027</td>\n",
       "      <td>1604.369610</td>\n",
       "      <td>20180422_LEVS_195_90_R_E.gpx</td>\n",
       "      <td>58</td>\n",
       "    </tr>\n",
       "    <tr>\n",
       "      <th>60</th>\n",
       "      <td>12.817304</td>\n",
       "      <td>164.283282</td>\n",
       "      <td>2105.668774</td>\n",
       "      <td>20180422_LEVS_195_90_R_E.gpx</td>\n",
       "      <td>60</td>\n",
       "    </tr>\n",
       "    <tr>\n",
       "      <th>61</th>\n",
       "      <td>5.608914</td>\n",
       "      <td>31.459914</td>\n",
       "      <td>176.455943</td>\n",
       "      <td>20180422_LEVS_195_90_R_E.gpx</td>\n",
       "      <td>61</td>\n",
       "    </tr>\n",
       "    <tr>\n",
       "      <th>62</th>\n",
       "      <td>12.980780</td>\n",
       "      <td>168.500655</td>\n",
       "      <td>2187.269970</td>\n",
       "      <td>20180422_LEVS_195_90_R_E.gpx</td>\n",
       "      <td>62</td>\n",
       "    </tr>\n",
       "    <tr>\n",
       "      <th>64</th>\n",
       "      <td>13.820616</td>\n",
       "      <td>191.009427</td>\n",
       "      <td>2639.867944</td>\n",
       "      <td>20180422_LEVS_195_90_R_E.gpx</td>\n",
       "      <td>64</td>\n",
       "    </tr>\n",
       "    <tr>\n",
       "      <th>66</th>\n",
       "      <td>12.212886</td>\n",
       "      <td>149.154596</td>\n",
       "      <td>1821.608144</td>\n",
       "      <td>20180422_LEVS_195_90_R_E.gpx</td>\n",
       "      <td>66</td>\n",
       "    </tr>\n",
       "    <tr>\n",
       "      <th>68</th>\n",
       "      <td>12.410910</td>\n",
       "      <td>154.030683</td>\n",
       "      <td>1911.660921</td>\n",
       "      <td>20180422_LEVS_195_90_R_E.gpx</td>\n",
       "      <td>68</td>\n",
       "    </tr>\n",
       "    <tr>\n",
       "      <th>70</th>\n",
       "      <td>11.486497</td>\n",
       "      <td>131.939622</td>\n",
       "      <td>1515.524123</td>\n",
       "      <td>20180422_LEVS_195_90_R_E.gpx</td>\n",
       "      <td>70</td>\n",
       "    </tr>\n",
       "    <tr>\n",
       "      <th>72</th>\n",
       "      <td>7.143519</td>\n",
       "      <td>51.029870</td>\n",
       "      <td>364.532868</td>\n",
       "      <td>20180422_LEVS_195_90_R_E.gpx</td>\n",
       "      <td>72</td>\n",
       "    </tr>\n",
       "    <tr>\n",
       "      <th>75</th>\n",
       "      <td>7.342466</td>\n",
       "      <td>53.911803</td>\n",
       "      <td>395.845570</td>\n",
       "      <td>20180422_LEVS_195_90_R_E.gpx</td>\n",
       "      <td>75</td>\n",
       "    </tr>\n",
       "    <tr>\n",
       "      <th>76</th>\n",
       "      <td>7.188406</td>\n",
       "      <td>51.673178</td>\n",
       "      <td>371.447772</td>\n",
       "      <td>20180422_LEVS_195_90_R_E.gpx</td>\n",
       "      <td>76</td>\n",
       "    </tr>\n",
       "  </tbody>\n",
       "</table>\n",
       "<p>161 rows × 5 columns</p>\n",
       "</div>"
      ],
      "text/plain": [
       "            V          V2           V3                        prueba  tramo\n",
       "0    9.113208   83.050552   756.856915  20180406_LEVS_195_90_R_E.gpx      0\n",
       "1    4.917347   24.180301   118.902929  20180406_LEVS_195_90_R_E.gpx      1\n",
       "2   10.771269  116.020230  1249.685072  20180406_LEVS_195_90_R_E.gpx      2\n",
       "3    6.776863   45.925877   311.233392  20180406_LEVS_195_90_R_E.gpx      3\n",
       "5    7.477177   55.908169   418.035249  20180406_LEVS_195_90_R_E.gpx      5\n",
       "6   10.028169  100.564174  1008.474531  20180406_LEVS_195_90_R_E.gpx      6\n",
       "7    6.331126   40.083154   253.771493  20180406_LEVS_195_90_R_E.gpx      7\n",
       "8    9.061111   82.103735   743.951062  20180406_LEVS_195_90_R_E.gpx      8\n",
       "9    7.538462   56.828402   428.398726  20180406_LEVS_195_90_R_E.gpx      9\n",
       "10   8.233083   67.783651   558.068404  20180406_LEVS_195_90_R_E.gpx     10\n",
       "11   5.905405   34.873813   205.944004  20180406_LEVS_195_90_R_E.gpx     11\n",
       "15   5.021429   25.214745   126.614040  20180406_LEVS_195_90_R_E.gpx     15\n",
       "16   8.827586   77.926278   687.900939  20180406_LEVS_195_90_R_E.gpx     16\n",
       "17   7.410256   54.911900   406.911259  20180406_LEVS_195_90_R_E.gpx     17\n",
       "19   5.680470   32.267736   183.295898  20180406_LEVS_195_90_R_E.gpx     19\n",
       "21   3.370156   11.357950    38.278059  20180406_LEVS_195_90_R_E.gpx     21\n",
       "22  13.204460  174.357769  2302.300228  20180406_LEVS_195_90_R_E.gpx     22\n",
       "23   4.890528   23.917265   116.968057  20180406_LEVS_195_90_R_E.gpx     23\n",
       "24   7.816573   61.098821   477.583420  20180406_LEVS_195_90_R_E.gpx     24\n",
       "25   5.707693   32.577761   185.943862  20180406_LEVS_195_90_R_E.gpx     25\n",
       "30   7.764309   60.284492   468.067418  20180406_LEVS_195_90_R_E.gpx     30\n",
       "31   3.111287    9.680107    30.117592  20180406_LEVS_195_90_R_E.gpx     31\n",
       "32  12.518354  156.709175  1961.740857  20180406_LEVS_195_90_R_E.gpx     32\n",
       "34  12.310669  151.552562  1865.713364  20180406_LEVS_195_90_R_E.gpx     34\n",
       "35   3.204822   10.270885    32.916360  20180406_LEVS_195_90_R_E.gpx     35\n",
       "36   9.748326   95.029851   926.381926  20180406_LEVS_195_90_R_E.gpx     36\n",
       "40   9.091667   82.658403   751.502645  20180406_LEVS_195_90_R_E.gpx     40\n",
       "41   6.794202   46.161174   313.628322  20180406_LEVS_195_90_R_E.gpx     41\n",
       "42   7.818174   61.123846   477.876863  20180406_LEVS_195_90_R_E.gpx     42\n",
       "44   9.155950   83.831427   767.556379  20180406_LEVS_195_90_R_E.gpx     44\n",
       "..        ...         ...          ...                           ...    ...\n",
       "24  13.318768  177.389571  2362.610466  20180422_LEVS_195_90_R_E.gpx     24\n",
       "25   5.239484   27.452194   143.835338  20180422_LEVS_195_90_R_E.gpx     25\n",
       "30  11.415493  130.313479  1487.592607  20180422_LEVS_195_90_R_E.gpx     30\n",
       "32   9.692453   93.943654   910.544488  20180422_LEVS_195_90_R_E.gpx     32\n",
       "34  10.968001  120.297043  1319.418067  20180422_LEVS_195_90_R_E.gpx     34\n",
       "36  12.426087  154.407637  1918.682725  20180422_LEVS_195_90_R_E.gpx     36\n",
       "37   5.447894   29.679544   161.690999  20180422_LEVS_195_90_R_E.gpx     37\n",
       "38  10.277874  105.634691  1085.700023  20180422_LEVS_195_90_R_E.gpx     38\n",
       "39   4.589836   21.066592    96.692194  20180422_LEVS_195_90_R_E.gpx     39\n",
       "40  14.650125  214.626158  3144.300006  20180422_LEVS_195_90_R_E.gpx     40\n",
       "41   8.226647   67.677729   556.760821  20180422_LEVS_195_90_R_E.gpx     41\n",
       "42  11.858537  140.624890  1667.605402  20180422_LEVS_195_90_R_E.gpx     42\n",
       "43   5.055788   25.560992   129.230959  20180422_LEVS_195_90_R_E.gpx     43\n",
       "49   8.500000   72.250000   614.125000  20180422_LEVS_195_90_R_E.gpx     49\n",
       "51   5.920422   35.051400   207.519092  20180422_LEVS_195_90_R_E.gpx     51\n",
       "52  13.043929  170.144080  2219.347276  20180422_LEVS_195_90_R_E.gpx     52\n",
       "53   5.761792   33.198247   191.281393  20180422_LEVS_195_90_R_E.gpx     53\n",
       "55   8.689287   75.503706   656.073361  20180422_LEVS_195_90_R_E.gpx     55\n",
       "56  10.067999  101.364598  1020.538645  20180422_LEVS_195_90_R_E.gpx     56\n",
       "58  11.706709  137.047027  1604.369610  20180422_LEVS_195_90_R_E.gpx     58\n",
       "60  12.817304  164.283282  2105.668774  20180422_LEVS_195_90_R_E.gpx     60\n",
       "61   5.608914   31.459914   176.455943  20180422_LEVS_195_90_R_E.gpx     61\n",
       "62  12.980780  168.500655  2187.269970  20180422_LEVS_195_90_R_E.gpx     62\n",
       "64  13.820616  191.009427  2639.867944  20180422_LEVS_195_90_R_E.gpx     64\n",
       "66  12.212886  149.154596  1821.608144  20180422_LEVS_195_90_R_E.gpx     66\n",
       "68  12.410910  154.030683  1911.660921  20180422_LEVS_195_90_R_E.gpx     68\n",
       "70  11.486497  131.939622  1515.524123  20180422_LEVS_195_90_R_E.gpx     70\n",
       "72   7.143519   51.029870   364.532868  20180422_LEVS_195_90_R_E.gpx     72\n",
       "75   7.342466   53.911803   395.845570  20180422_LEVS_195_90_R_E.gpx     75\n",
       "76   7.188406   51.673178   371.447772  20180422_LEVS_195_90_R_E.gpx     76\n",
       "\n",
       "[161 rows x 5 columns]"
      ]
     },
     "execution_count": 36,
     "metadata": {},
     "output_type": "execute_result"
    }
   ],
   "source": [
    "df_lm_x"
   ]
  },
  {
   "cell_type": "code",
   "execution_count": 57,
   "metadata": {},
   "outputs": [
    {
     "data": {
      "text/plain": [
       "array(['20180406_LEVS_195_90_R_E.gpx', '20180415_LEVS_195_90_R_E.gpx',\n",
       "       '20180422_LEVS_195_90_R_E.gpx'], dtype=object)"
      ]
     },
     "execution_count": 57,
     "metadata": {},
     "output_type": "execute_result"
    }
   ],
   "source": [
    "df_lm_x.prueba.unique()"
   ]
  },
  {
   "cell_type": "code",
   "execution_count": 58,
   "metadata": {},
   "outputs": [],
   "source": [
    "result = []\n",
    "\n",
    "for p in df_lm_x.prueba.unique():\n",
    "    df_inter = df[df_lm_x[\"prueba\"]==p]\n",
    "    df_target = df_inter['pwr']\n",
    "    df_model = df_inter[['V','V2','V3']]\n",
    "\n",
    "    regr_pp = LinearRegression(fit_intercept=True)\n",
    "\n",
    "    regr_pp.fit(df_model, df_target)\n",
    "    result.append([p,regr_pp.coef_])\n"
   ]
  },
  {
   "cell_type": "code",
   "execution_count": 59,
   "metadata": {
    "scrolled": true
   },
   "outputs": [
    {
     "data": {
      "text/plain": [
       "[['20180406_LEVS_195_90_R_E.gpx',\n",
       "  array([ 55.81114261, -10.39817284,   0.43704477])],\n",
       " ['20180415_LEVS_195_90_R_E.gpx',\n",
       "  array([ 89.56439381, -11.82430677,   0.40769132])],\n",
       " ['20180422_LEVS_195_90_R_E.gpx',\n",
       "  array([-107.05845521,    9.46679676,   -0.2980718 ])]]"
      ]
     },
     "execution_count": 59,
     "metadata": {},
     "output_type": "execute_result"
    }
   ],
   "source": [
    "result"
   ]
  },
  {
   "cell_type": "code",
   "execution_count": null,
   "metadata": {
    "collapsed": true
   },
   "outputs": [],
   "source": []
  },
  {
   "cell_type": "code",
   "execution_count": null,
   "metadata": {
    "collapsed": true
   },
   "outputs": [],
   "source": []
  },
  {
   "cell_type": "code",
   "execution_count": null,
   "metadata": {
    "collapsed": true
   },
   "outputs": [],
   "source": []
  },
  {
   "cell_type": "code",
   "execution_count": null,
   "metadata": {
    "collapsed": true
   },
   "outputs": [],
   "source": []
  },
  {
   "cell_type": "code",
   "execution_count": null,
   "metadata": {
    "collapsed": true
   },
   "outputs": [],
   "source": []
  },
  {
   "cell_type": "code",
   "execution_count": null,
   "metadata": {
    "collapsed": true
   },
   "outputs": [],
   "source": []
  },
  {
   "cell_type": "code",
   "execution_count": null,
   "metadata": {
    "collapsed": true
   },
   "outputs": [],
   "source": []
  },
  {
   "cell_type": "code",
   "execution_count": null,
   "metadata": {
    "collapsed": true
   },
   "outputs": [],
   "source": []
  },
  {
   "cell_type": "code",
   "execution_count": null,
   "metadata": {
    "collapsed": true
   },
   "outputs": [],
   "source": []
  },
  {
   "cell_type": "code",
   "execution_count": null,
   "metadata": {
    "collapsed": true
   },
   "outputs": [],
   "source": []
  },
  {
   "cell_type": "code",
   "execution_count": null,
   "metadata": {
    "collapsed": true
   },
   "outputs": [],
   "source": []
  },
  {
   "cell_type": "code",
   "execution_count": 8,
   "metadata": {
    "collapsed": true
   },
   "outputs": [],
   "source": [
    "df['V'] = df['spd']/3.6\n",
    "df['wV'] = df['viento_aparente']/3.6"
   ]
  },
  {
   "cell_type": "code",
   "execution_count": 9,
   "metadata": {
    "collapsed": true
   },
   "outputs": [],
   "source": [
    "df['termino_Cda'] = (df['V']**3 + 2*df['V']**2*df['wV'] + df['wV']**2*df['V'])"
   ]
  },
  {
   "cell_type": "code",
   "execution_count": 10,
   "metadata": {
    "collapsed": true
   },
   "outputs": [],
   "source": [
    "df['termino_Cr'] = df['V']*90*9.81"
   ]
  },
  {
   "cell_type": "code",
   "execution_count": 11,
   "metadata": {
    "collapsed": true
   },
   "outputs": [],
   "source": [
    "df['termino_%'] = df['porc']*90*9.81 "
   ]
  },
  {
   "cell_type": "code",
   "execution_count": 12,
   "metadata": {
    "scrolled": false
   },
   "outputs": [
    {
     "data": {
      "text/html": [
       "<div>\n",
       "<style>\n",
       "    .dataframe thead tr:only-child th {\n",
       "        text-align: right;\n",
       "    }\n",
       "\n",
       "    .dataframe thead th {\n",
       "        text-align: left;\n",
       "    }\n",
       "\n",
       "    .dataframe tbody tr th {\n",
       "        vertical-align: top;\n",
       "    }\n",
       "</style>\n",
       "<table border=\"1\" class=\"dataframe\">\n",
       "  <thead>\n",
       "    <tr style=\"text-align: right;\">\n",
       "      <th></th>\n",
       "      <th>tramo</th>\n",
       "      <th>tramo_inicial</th>\n",
       "      <th>tramo_final</th>\n",
       "      <th>pwr</th>\n",
       "      <th>time_seg</th>\n",
       "      <th>dist</th>\n",
       "      <th>spd</th>\n",
       "      <th>viento_aparente</th>\n",
       "      <th>porc</th>\n",
       "      <th>dist_acum</th>\n",
       "      <th>prueba</th>\n",
       "      <th>puntos_en_tramo</th>\n",
       "      <th>V</th>\n",
       "      <th>wV</th>\n",
       "      <th>termino_Cda</th>\n",
       "      <th>termino_Cr</th>\n",
       "      <th>termino_%</th>\n",
       "    </tr>\n",
       "  </thead>\n",
       "  <tbody>\n",
       "    <tr>\n",
       "      <th>0</th>\n",
       "      <td>0</td>\n",
       "      <td>0</td>\n",
       "      <td>65</td>\n",
       "      <td>74.149017</td>\n",
       "      <td>106</td>\n",
       "      <td>966.000000</td>\n",
       "      <td>32.807547</td>\n",
       "      <td>6.555296</td>\n",
       "      <td>-3.377386</td>\n",
       "      <td>948.878610</td>\n",
       "      <td>20180406_LEVS_195_90_R_E.gpx</td>\n",
       "      <td>65</td>\n",
       "      <td>9.113208</td>\n",
       "      <td>1.820916</td>\n",
       "      <td>1089.529962</td>\n",
       "      <td>8046.050943</td>\n",
       "      <td>-2981.894324</td>\n",
       "    </tr>\n",
       "    <tr>\n",
       "      <th>1</th>\n",
       "      <td>1</td>\n",
       "      <td>65</td>\n",
       "      <td>432</td>\n",
       "      <td>255.588127</td>\n",
       "      <td>980</td>\n",
       "      <td>4819.000000</td>\n",
       "      <td>17.702449</td>\n",
       "      <td>7.198339</td>\n",
       "      <td>4.181100</td>\n",
       "      <td>5773.000000</td>\n",
       "      <td>20180406_LEVS_195_90_R_E.gpx</td>\n",
       "      <td>367</td>\n",
       "      <td>4.917347</td>\n",
       "      <td>1.999539</td>\n",
       "      <td>235.262126</td>\n",
       "      <td>4341.525612</td>\n",
       "      <td>3691.492764</td>\n",
       "    </tr>\n",
       "    <tr>\n",
       "      <th>2</th>\n",
       "      <td>2</td>\n",
       "      <td>432</td>\n",
       "      <td>468</td>\n",
       "      <td>151.469326</td>\n",
       "      <td>44</td>\n",
       "      <td>473.935824</td>\n",
       "      <td>38.776567</td>\n",
       "      <td>8.577246</td>\n",
       "      <td>-1.737873</td>\n",
       "      <td>6248.289894</td>\n",
       "      <td>20180406_LEVS_195_90_R_E.gpx</td>\n",
       "      <td>36</td>\n",
       "      <td>10.771269</td>\n",
       "      <td>2.382568</td>\n",
       "      <td>1863.681815</td>\n",
       "      <td>9509.953153</td>\n",
       "      <td>-1534.367777</td>\n",
       "    </tr>\n",
       "    <tr>\n",
       "      <th>3</th>\n",
       "      <td>3</td>\n",
       "      <td>468</td>\n",
       "      <td>532</td>\n",
       "      <td>249.872906</td>\n",
       "      <td>120</td>\n",
       "      <td>813.223602</td>\n",
       "      <td>24.396708</td>\n",
       "      <td>8.332607</td>\n",
       "      <td>2.662585</td>\n",
       "      <td>7051.000000</td>\n",
       "      <td>20180406_LEVS_195_90_R_E.gpx</td>\n",
       "      <td>64</td>\n",
       "      <td>6.776863</td>\n",
       "      <td>2.314613</td>\n",
       "      <td>560.141252</td>\n",
       "      <td>5983.292652</td>\n",
       "      <td>2350.796198</td>\n",
       "    </tr>\n",
       "    <tr>\n",
       "      <th>5</th>\n",
       "      <td>5</td>\n",
       "      <td>548</td>\n",
       "      <td>636</td>\n",
       "      <td>215.967082</td>\n",
       "      <td>170</td>\n",
       "      <td>1271.120011</td>\n",
       "      <td>26.917836</td>\n",
       "      <td>8.057656</td>\n",
       "      <td>1.566720</td>\n",
       "      <td>8533.000000</td>\n",
       "      <td>20180406_LEVS_195_90_R_E.gpx</td>\n",
       "      <td>88</td>\n",
       "      <td>7.477177</td>\n",
       "      <td>2.238238</td>\n",
       "      <td>705.765293</td>\n",
       "      <td>6601.599164</td>\n",
       "      <td>1383.257216</td>\n",
       "    </tr>\n",
       "  </tbody>\n",
       "</table>\n",
       "</div>"
      ],
      "text/plain": [
       "   tramo  tramo_inicial  tramo_final         pwr  time_seg         dist  \\\n",
       "0      0              0           65   74.149017       106   966.000000   \n",
       "1      1             65          432  255.588127       980  4819.000000   \n",
       "2      2            432          468  151.469326        44   473.935824   \n",
       "3      3            468          532  249.872906       120   813.223602   \n",
       "5      5            548          636  215.967082       170  1271.120011   \n",
       "\n",
       "         spd  viento_aparente      porc    dist_acum  \\\n",
       "0  32.807547         6.555296 -3.377386   948.878610   \n",
       "1  17.702449         7.198339  4.181100  5773.000000   \n",
       "2  38.776567         8.577246 -1.737873  6248.289894   \n",
       "3  24.396708         8.332607  2.662585  7051.000000   \n",
       "5  26.917836         8.057656  1.566720  8533.000000   \n",
       "\n",
       "                         prueba  puntos_en_tramo          V        wV  \\\n",
       "0  20180406_LEVS_195_90_R_E.gpx               65   9.113208  1.820916   \n",
       "1  20180406_LEVS_195_90_R_E.gpx              367   4.917347  1.999539   \n",
       "2  20180406_LEVS_195_90_R_E.gpx               36  10.771269  2.382568   \n",
       "3  20180406_LEVS_195_90_R_E.gpx               64   6.776863  2.314613   \n",
       "5  20180406_LEVS_195_90_R_E.gpx               88   7.477177  2.238238   \n",
       "\n",
       "   termino_Cda   termino_Cr    termino_%  \n",
       "0  1089.529962  8046.050943 -2981.894324  \n",
       "1   235.262126  4341.525612  3691.492764  \n",
       "2  1863.681815  9509.953153 -1534.367777  \n",
       "3   560.141252  5983.292652  2350.796198  \n",
       "5   705.765293  6601.599164  1383.257216  "
      ]
     },
     "execution_count": 12,
     "metadata": {},
     "output_type": "execute_result"
    }
   ],
   "source": [
    "df.head()"
   ]
  },
  {
   "cell_type": "code",
   "execution_count": 13,
   "metadata": {
    "collapsed": true
   },
   "outputs": [],
   "source": [
    "from sklearn import datasets, linear_model\n",
    "from sklearn import metrics\n",
    "from sklearn.model_selection import train_test_split"
   ]
  },
  {
   "cell_type": "markdown",
   "metadata": {},
   "source": [
    "df2 = df.loc[(df['pwr']>100)&(df['pwr']<350)\n",
    "            &(df['porc']<10)&(df['porc']>-10)]"
   ]
  },
  {
   "cell_type": "code",
   "execution_count": 14,
   "metadata": {
    "collapsed": true
   },
   "outputs": [],
   "source": [
    "df_lm = df[['pwr','termino_Cda','termino_Cr','termino_%']]"
   ]
  },
  {
   "cell_type": "code",
   "execution_count": 15,
   "metadata": {
    "collapsed": true
   },
   "outputs": [],
   "source": [
    "df_lm_x = df_lm[['termino_Cda','termino_Cr','termino_%']]\n",
    "df_lm_y = df_lm[['pwr']]"
   ]
  },
  {
   "cell_type": "code",
   "execution_count": 16,
   "metadata": {
    "collapsed": true
   },
   "outputs": [],
   "source": [
    "X_train, X_test, Y_train, Y_test = train_test_split(df_lm_x, df_lm_y, test_size=0.30, random_state=42)"
   ]
  },
  {
   "cell_type": "code",
   "execution_count": null,
   "metadata": {
    "collapsed": true
   },
   "outputs": [],
   "source": []
  },
  {
   "cell_type": "markdown",
   "metadata": {},
   "source": [
    "#### Robust Scaler"
   ]
  },
  {
   "cell_type": "code",
   "execution_count": 245,
   "metadata": {
    "collapsed": true
   },
   "outputs": [],
   "source": [
    "from sklearn.preprocessing import RobustScaler"
   ]
  },
  {
   "cell_type": "code",
   "execution_count": 246,
   "metadata": {
    "collapsed": true
   },
   "outputs": [],
   "source": [
    "model_rs = RobustScaler()"
   ]
  },
  {
   "cell_type": "code",
   "execution_count": 247,
   "metadata": {
    "collapsed": true
   },
   "outputs": [],
   "source": [
    "X_train_rs = model_rs.fit_transform(X_train)"
   ]
  },
  {
   "cell_type": "code",
   "execution_count": 248,
   "metadata": {
    "collapsed": true
   },
   "outputs": [],
   "source": [
    "X_test_rs = model_rs.transform(X_test)"
   ]
  },
  {
   "cell_type": "markdown",
   "metadata": {},
   "source": [
    "### Modelo Lineal"
   ]
  },
  {
   "cell_type": "code",
   "execution_count": 257,
   "metadata": {
    "collapsed": true
   },
   "outputs": [],
   "source": [
    "from sklearn import linear_model\n",
    "regr = linear_model.LinearRegression()\n",
    "regr.fit(X_train,Y_train)\n",
    "\n",
    "Y_pred = regr.predict(X_test)"
   ]
  },
  {
   "cell_type": "code",
   "execution_count": 258,
   "metadata": {},
   "outputs": [
    {
     "name": "stdout",
     "output_type": "stream",
     "text": [
      "1341.31913072\n",
      "0.471570054493\n"
     ]
    }
   ],
   "source": [
    "print(mean_squared_error(Y_test,Y_pred))\n",
    "print(metrics.explained_variance_score(Y_test, Y_pred))"
   ]
  },
  {
   "cell_type": "code",
   "execution_count": 259,
   "metadata": {},
   "outputs": [
    {
     "data": {
      "text/plain": [
       "array([[-0.00728243,  0.01522961,  0.03052814]])"
      ]
     },
     "execution_count": 259,
     "metadata": {},
     "output_type": "execute_result"
    }
   ],
   "source": [
    "regr.coef_"
   ]
  },
  {
   "cell_type": "code",
   "execution_count": null,
   "metadata": {
    "collapsed": true
   },
   "outputs": [],
   "source": []
  },
  {
   "cell_type": "markdown",
   "metadata": {},
   "source": [
    "### Support Vector Machine"
   ]
  },
  {
   "cell_type": "code",
   "execution_count": 260,
   "metadata": {
    "collapsed": true
   },
   "outputs": [],
   "source": [
    "from sklearn import svm"
   ]
  },
  {
   "cell_type": "code",
   "execution_count": 273,
   "metadata": {},
   "outputs": [
    {
     "name": "stderr",
     "output_type": "stream",
     "text": [
      "C:\\Users\\David\\Anaconda3\\lib\\site-packages\\sklearn\\utils\\validation.py:526: DataConversionWarning: A column-vector y was passed when a 1d array was expected. Please change the shape of y to (n_samples, ), for example using ravel().\n",
      "  y = column_or_1d(y, warn=True)\n"
     ]
    },
    {
     "data": {
      "text/plain": [
       "SVR(C=1000.0, cache_size=200, coef0=0.0, degree=3, epsilon=0.1, gamma=0.1,\n",
       "  kernel='rbf', max_iter=-1, shrinking=True, tol=0.001, verbose=False)"
      ]
     },
     "execution_count": 273,
     "metadata": {},
     "output_type": "execute_result"
    }
   ],
   "source": [
    "model_svm = svm.SVR(kernel='rbf', C=1e3, gamma=0.1)\n",
    "model_svm.fit(X_train_rs,Y_train)"
   ]
  },
  {
   "cell_type": "code",
   "execution_count": 274,
   "metadata": {
    "collapsed": true
   },
   "outputs": [],
   "source": [
    "Y_pred = model_svm.predict(X_test_rs)"
   ]
  },
  {
   "cell_type": "code",
   "execution_count": 275,
   "metadata": {},
   "outputs": [
    {
     "name": "stdout",
     "output_type": "stream",
     "text": [
      "735.115480128\n",
      "0.737634558625\n"
     ]
    }
   ],
   "source": [
    "print(mean_squared_error(Y_test,Y_pred))\n",
    "print(metrics.explained_variance_score(Y_test, Y_pred))"
   ]
  },
  {
   "cell_type": "code",
   "execution_count": 277,
   "metadata": {},
   "outputs": [
    {
     "name": "stderr",
     "output_type": "stream",
     "text": [
      "C:\\Users\\David\\Anaconda3\\lib\\site-packages\\sklearn\\utils\\validation.py:526: DataConversionWarning: A column-vector y was passed when a 1d array was expected. Please change the shape of y to (n_samples, ), for example using ravel().\n",
      "  y = column_or_1d(y, warn=True)\n"
     ]
    },
    {
     "data": {
      "text/plain": [
       "NuSVR(C=1000.0, cache_size=200, coef0=0.0, degree=3, gamma=0.1, kernel='rbf',\n",
       "   max_iter=-1, nu=0.5, shrinking=True, tol=0.001, verbose=False)"
      ]
     },
     "execution_count": 277,
     "metadata": {},
     "output_type": "execute_result"
    }
   ],
   "source": [
    "model_nusvm = svm.NuSVR(kernel='rbf', C=1e3, gamma=0.1)\n",
    "model_nusvm.fit(X_train_rs,Y_train)"
   ]
  },
  {
   "cell_type": "code",
   "execution_count": 279,
   "metadata": {
    "collapsed": true
   },
   "outputs": [],
   "source": [
    "Y_pred_nu = model_nusvm.predict(X_test_rs)"
   ]
  },
  {
   "cell_type": "code",
   "execution_count": 281,
   "metadata": {},
   "outputs": [
    {
     "name": "stdout",
     "output_type": "stream",
     "text": [
      "833.149026115\n",
      "0.693492664196\n"
     ]
    }
   ],
   "source": [
    "print(mean_squared_error(Y_test,Y_pred_nu))\n",
    "print(metrics.explained_variance_score(Y_test, Y_pred_nu))"
   ]
  },
  {
   "cell_type": "code",
   "execution_count": 284,
   "metadata": {},
   "outputs": [
    {
     "name": "stderr",
     "output_type": "stream",
     "text": [
      "C:\\Users\\David\\Anaconda3\\lib\\site-packages\\sklearn\\utils\\validation.py:526: DataConversionWarning: A column-vector y was passed when a 1d array was expected. Please change the shape of y to (n_samples, ), for example using ravel().\n",
      "  y = column_or_1d(y, warn=True)\n"
     ]
    },
    {
     "data": {
      "text/plain": [
       "LinearSVR(C=1000.0, dual=True, epsilon=0.0, fit_intercept=True,\n",
       "     intercept_scaling=1.0, loss='epsilon_insensitive', max_iter=1000,\n",
       "     random_state=None, tol=0.0001, verbose=0)"
      ]
     },
     "execution_count": 284,
     "metadata": {},
     "output_type": "execute_result"
    }
   ],
   "source": [
    "model_linsvm = svm.LinearSVR(C=1e3)\n",
    "model_linsvm.fit(X_train_rs,Y_train)"
   ]
  },
  {
   "cell_type": "code",
   "execution_count": 285,
   "metadata": {
    "collapsed": true
   },
   "outputs": [],
   "source": [
    "Y_pred_lin = model_linsvm.predict(X_test_rs)"
   ]
  },
  {
   "cell_type": "code",
   "execution_count": 286,
   "metadata": {},
   "outputs": [
    {
     "name": "stdout",
     "output_type": "stream",
     "text": [
      "1728.85846946\n",
      "0.316685364254\n"
     ]
    }
   ],
   "source": [
    "print(mean_squared_error(Y_test,Y_pred_lin))\n",
    "print(metrics.explained_variance_score(Y_test, Y_pred_lin))"
   ]
  },
  {
   "cell_type": "markdown",
   "metadata": {},
   "source": [
    "### RandomForest"
   ]
  },
  {
   "cell_type": "code",
   "execution_count": 123,
   "metadata": {
    "collapsed": true
   },
   "outputs": [],
   "source": [
    "from sklearn.ensemble import RandomForestRegressor\n",
    "from sklearn.model_selection import cross_val_score"
   ]
  },
  {
   "cell_type": "code",
   "execution_count": 124,
   "metadata": {
    "collapsed": true
   },
   "outputs": [],
   "source": [
    "rf = RandomForestRegressor(max_features=2, min_samples_split=4, n_estimators=50, min_samples_leaf=2)"
   ]
  },
  {
   "cell_type": "code",
   "execution_count": 125,
   "metadata": {},
   "outputs": [
    {
     "name": "stderr",
     "output_type": "stream",
     "text": [
      "C:\\Users\\David\\Anaconda3\\lib\\site-packages\\ipykernel_launcher.py:1: DataConversionWarning: A column-vector y was passed when a 1d array was expected. Please change the shape of y to (n_samples,), for example using ravel().\n",
      "  \"\"\"Entry point for launching an IPython kernel.\n"
     ]
    },
    {
     "data": {
      "text/plain": [
       "[<matplotlib.lines.Line2D at 0x1fae6d60da0>]"
      ]
     },
     "execution_count": 125,
     "metadata": {},
     "output_type": "execute_result"
    },
    {
     "data": {
      "image/png": "[encoded data removed]",
      "text/plain": [
       "<matplotlib.figure.Figure at 0x1fae6d60198>"
      ]
     },
     "metadata": {},
     "output_type": "display_data"
    }
   ],
   "source": [
    "rf.fit(X_train, Y_train)\n",
    "Y_pred = rf.predict(X_test)\n",
    "plt.scatter(Y_test, Y_pred)\n",
    "plt.plot( [0,250],[0,250], c=\"red\" )"
   ]
  },
  {
   "cell_type": "code",
   "execution_count": 126,
   "metadata": {},
   "outputs": [
    {
     "data": {
      "text/plain": [
       "0.67313709066073502"
      ]
     },
     "execution_count": 126,
     "metadata": {},
     "output_type": "execute_result"
    }
   ],
   "source": [
    "metrics.explained_variance_score(Y_test, Y_pred)"
   ]
  },
  {
   "cell_type": "code",
   "execution_count": 127,
   "metadata": {
    "collapsed": true
   },
   "outputs": [],
   "source": [
    "#Grid Search con RFR"
   ]
  },
  {
   "cell_type": "code",
   "execution_count": 128,
   "metadata": {
    "scrolled": true
   },
   "outputs": [
    {
     "name": "stderr",
     "output_type": "stream",
     "text": [
      "C:\\Users\\David\\Anaconda3\\lib\\site-packages\\sklearn\\model_selection\\_search.py:645: DataConversionWarning: A column-vector y was passed when a 1d array was expected. Please change the shape of y to (n_samples,), for example using ravel().\n",
      "  best_estimator.fit(X, y, **self.fit_params)\n"
     ]
    },
    {
     "name": "stdout",
     "output_type": "stream",
     "text": [
      "Random forecast regression...\n",
      "Best Params:\n",
      "{'n_estimators': 10000}\n",
      "Best CV Score:\n",
      "0.506065384438\n"
     ]
    }
   ],
   "source": [
    "from sklearn.model_selection import GridSearchCV\n",
    "#max_features=2, min_samples_split=4, n_estimators=50, min_samples_leaf=2\n",
    "rfr = RandomForestRegressor(n_jobs=2, random_state=0, max_features=3)\n",
    "param_grid = {'n_estimators': [1000,10000]}\n",
    "# 'n_estimators': [1000], 'max_features': [10,15,20,25], 'max_depth':[20,20,25,25,]}\n",
    "model = GridSearchCV(estimator=rfr, param_grid=param_grid, n_jobs=2, cv=10)\n",
    "\n",
    "model.fit(X=X_train, y=Y_train)\n",
    "print('Random forecast regression...')\n",
    "print('Best Params:')\n",
    "print(model.best_params_)\n",
    "print('Best CV Score:')\n",
    "print(model.best_score_)\n",
    "\n",
    "Y_pred = model.predict(X_test)"
   ]
  },
  {
   "cell_type": "code",
   "execution_count": 129,
   "metadata": {},
   "outputs": [
    {
     "name": "stderr",
     "output_type": "stream",
     "text": [
      "C:\\Users\\David\\Anaconda3\\lib\\site-packages\\ipykernel_launcher.py:2: DataConversionWarning: A column-vector y was passed when a 1d array was expected. Please change the shape of y to (n_samples,), for example using ravel().\n",
      "  \n"
     ]
    },
    {
     "data": {
      "text/plain": [
       "RandomForestRegressor(bootstrap=True, criterion='mse', max_depth=None,\n",
       "           max_features=3, max_leaf_nodes=None, min_impurity_split=1e-07,\n",
       "           min_samples_leaf=1, min_samples_split=2,\n",
       "           min_weight_fraction_leaf=0.0, n_estimators=10, n_jobs=2,\n",
       "           oob_score=False, random_state=0, verbose=0, warm_start=False)"
      ]
     },
     "execution_count": 129,
     "metadata": {},
     "output_type": "execute_result"
    }
   ],
   "source": [
    "fr = RandomForestRegressor(n_jobs=2, random_state=0, max_features=3, n_estimators=10000)\n",
    "rfr.fit(X=X_train, y=Y_train)"
   ]
  },
  {
   "cell_type": "code",
   "execution_count": 130,
   "metadata": {
    "collapsed": true
   },
   "outputs": [],
   "source": [
    "Y_pred = rfr.predict(X_test)"
   ]
  },
  {
   "cell_type": "code",
   "execution_count": 131,
   "metadata": {},
   "outputs": [
    {
     "data": {
      "text/plain": [
       "0.70862748411339571"
      ]
     },
     "execution_count": 131,
     "metadata": {},
     "output_type": "execute_result"
    }
   ],
   "source": [
    "metrics.explained_variance_score(Y_test, Y_pred)"
   ]
  },
  {
   "cell_type": "code",
   "execution_count": 132,
   "metadata": {},
   "outputs": [
    {
     "data": {
      "text/plain": [
       "array([ 0.07181619,  0.17477953,  0.75340429])"
      ]
     },
     "execution_count": 132,
     "metadata": {},
     "output_type": "execute_result"
    }
   ],
   "source": [
    "rfr.feature_importances_"
   ]
  },
  {
   "cell_type": "code",
   "execution_count": 133,
   "metadata": {
    "collapsed": true
   },
   "outputs": [
    {
     "data": {
      "text/html": [
       "<div>\n",
       "<style>\n",
       "    .dataframe thead tr:only-child th {\n",
       "        text-align: right;\n",
       "    }\n",
       "\n",
       "    .dataframe thead th {\n",
       "        text-align: left;\n",
       "    }\n",
       "\n",
       "    .dataframe tbody tr th {\n",
       "        vertical-align: top;\n",
       "    }\n",
       "</style>\n",
       "<table border=\"1\" class=\"dataframe\">\n",
       "  <thead>\n",
       "    <tr style=\"text-align: right;\">\n",
       "      <th></th>\n",
       "      <th>0</th>\n",
       "    </tr>\n",
       "  </thead>\n",
       "  <tbody>\n",
       "    <tr>\n",
       "      <th>0</th>\n",
       "      <td>0.071816</td>\n",
       "    </tr>\n",
       "    <tr>\n",
       "      <th>1</th>\n",
       "      <td>0.174780</td>\n",
       "    </tr>\n",
       "    <tr>\n",
       "      <th>2</th>\n",
       "      <td>0.753404</td>\n",
       "    </tr>\n",
       "  </tbody>\n",
       "</table>\n",
       "</div>"
      ],
      "text/plain": [
       "          0\n",
       "0  0.071816\n",
       "1  0.174780\n",
       "2  0.753404"
      ]
     },
     "execution_count": 133,
     "metadata": {},
     "output_type": "execute_result"
    }
   ],
   "source": [
    "coefs = pd.DataFrame(rfr.feature_importances_)\n",
    "coefs"
   ]
  },
  {
   "cell_type": "code",
   "execution_count": null,
   "metadata": {
    "collapsed": true
   },
   "outputs": [],
   "source": []
  },
  {
   "cell_type": "code",
   "execution_count": null,
   "metadata": {
    "collapsed": true
   },
   "outputs": [],
   "source": []
  },
  {
   "cell_type": "markdown",
   "metadata": {},
   "source": [
    "### Prueba punto a punto"
   ]
  },
  {
   "cell_type": "code",
   "execution_count": 138,
   "metadata": {
    "collapsed": true
   },
   "outputs": [],
   "source": [
    "#path = '../Entrenamientos/result_tramos.xlsx'\n",
    "path_pp = '../Entrenamientos/Procesado.xlsx'"
   ]
  },
  {
   "cell_type": "code",
   "execution_count": 141,
   "metadata": {
    "collapsed": true
   },
   "outputs": [],
   "source": [
    "df_pp = pd.read_excel(path_pp)"
   ]
  },
  {
   "cell_type": "code",
   "execution_count": 142,
   "metadata": {},
   "outputs": [
    {
     "data": {
      "text/html": [
       "<div>\n",
       "<style>\n",
       "    .dataframe thead tr:only-child th {\n",
       "        text-align: right;\n",
       "    }\n",
       "\n",
       "    .dataframe thead th {\n",
       "        text-align: left;\n",
       "    }\n",
       "\n",
       "    .dataframe tbody tr th {\n",
       "        vertical-align: top;\n",
       "    }\n",
       "</style>\n",
       "<table border=\"1\" class=\"dataframe\">\n",
       "  <thead>\n",
       "    <tr style=\"text-align: right;\">\n",
       "      <th></th>\n",
       "      <th>timeoffset</th>\n",
       "      <th>hr</th>\n",
       "      <th>spd</th>\n",
       "      <th>pwr</th>\n",
       "      <th>cad</th>\n",
       "      <th>dist</th>\n",
       "      <th>lat</th>\n",
       "      <th>lon</th>\n",
       "      <th>alt</th>\n",
       "      <th>temp</th>\n",
       "      <th>...</th>\n",
       "      <th>viento_aparente</th>\n",
       "      <th>spd_prev</th>\n",
       "      <th>ele_prev</th>\n",
       "      <th>timeoffset_prev</th>\n",
       "      <th>new_ele</th>\n",
       "      <th>time_seg</th>\n",
       "      <th>tramo</th>\n",
       "      <th>tramos_100</th>\n",
       "      <th>altura</th>\n",
       "      <th>peso</th>\n",
       "    </tr>\n",
       "  </thead>\n",
       "  <tbody>\n",
       "    <tr>\n",
       "      <th>count</th>\n",
       "      <td>19801.000000</td>\n",
       "      <td>0.0</td>\n",
       "      <td>19801.000000</td>\n",
       "      <td>19801.000000</td>\n",
       "      <td>19797.000000</td>\n",
       "      <td>19801.000000</td>\n",
       "      <td>19801.000000</td>\n",
       "      <td>19801.000000</td>\n",
       "      <td>19801.000000</td>\n",
       "      <td>19801.000000</td>\n",
       "      <td>...</td>\n",
       "      <td>19801.000000</td>\n",
       "      <td>1.980100e+04</td>\n",
       "      <td>19801.000000</td>\n",
       "      <td>19801.000000</td>\n",
       "      <td>19801.000000</td>\n",
       "      <td>19801.000000</td>\n",
       "      <td>19801.000000</td>\n",
       "      <td>19801.000000</td>\n",
       "      <td>19801.0</td>\n",
       "      <td>19801.0</td>\n",
       "    </tr>\n",
       "    <tr>\n",
       "      <th>mean</th>\n",
       "      <td>36774.419524</td>\n",
       "      <td>NaN</td>\n",
       "      <td>8.717948</td>\n",
       "      <td>166.674309</td>\n",
       "      <td>75.200081</td>\n",
       "      <td>47650.350159</td>\n",
       "      <td>40.623265</td>\n",
       "      <td>-4.000215</td>\n",
       "      <td>979.756689</td>\n",
       "      <td>19.419997</td>\n",
       "      <td>...</td>\n",
       "      <td>-0.014565</td>\n",
       "      <td>inf</td>\n",
       "      <td>979.652603</td>\n",
       "      <td>36767.829150</td>\n",
       "      <td>979.756971</td>\n",
       "      <td>7284.424474</td>\n",
       "      <td>44.745922</td>\n",
       "      <td>475.868390</td>\n",
       "      <td>195.0</td>\n",
       "      <td>90.0</td>\n",
       "    </tr>\n",
       "    <tr>\n",
       "      <th>std</th>\n",
       "      <td>4607.740389</td>\n",
       "      <td>NaN</td>\n",
       "      <td>4.022063</td>\n",
       "      <td>102.723359</td>\n",
       "      <td>27.711545</td>\n",
       "      <td>29864.197662</td>\n",
       "      <td>0.075832</td>\n",
       "      <td>0.096982</td>\n",
       "      <td>222.924108</td>\n",
       "      <td>3.541394</td>\n",
       "      <td>...</td>\n",
       "      <td>11.154096</td>\n",
       "      <td>NaN</td>\n",
       "      <td>223.220422</td>\n",
       "      <td>4629.151287</td>\n",
       "      <td>222.919044</td>\n",
       "      <td>4735.858035</td>\n",
       "      <td>30.975142</td>\n",
       "      <td>298.637684</td>\n",
       "      <td>0.0</td>\n",
       "      <td>0.0</td>\n",
       "    </tr>\n",
       "    <tr>\n",
       "      <th>min</th>\n",
       "      <td>27742.000000</td>\n",
       "      <td>NaN</td>\n",
       "      <td>0.000000</td>\n",
       "      <td>0.000000</td>\n",
       "      <td>0.000000</td>\n",
       "      <td>0.000000</td>\n",
       "      <td>40.499846</td>\n",
       "      <td>-4.207331</td>\n",
       "      <td>626.000000</td>\n",
       "      <td>13.100000</td>\n",
       "      <td>...</td>\n",
       "      <td>-22.929503</td>\n",
       "      <td>0.000000e+00</td>\n",
       "      <td>0.000000</td>\n",
       "      <td>0.000000</td>\n",
       "      <td>625.774367</td>\n",
       "      <td>0.000000</td>\n",
       "      <td>0.000000</td>\n",
       "      <td>0.000000</td>\n",
       "      <td>195.0</td>\n",
       "      <td>90.0</td>\n",
       "    </tr>\n",
       "    <tr>\n",
       "      <th>25%</th>\n",
       "      <td>32895.000000</td>\n",
       "      <td>NaN</td>\n",
       "      <td>5.400000</td>\n",
       "      <td>92.000000</td>\n",
       "      <td>73.000000</td>\n",
       "      <td>22479.369941</td>\n",
       "      <td>40.557102</td>\n",
       "      <td>-4.070790</td>\n",
       "      <td>844.000000</td>\n",
       "      <td>17.000000</td>\n",
       "      <td>...</td>\n",
       "      <td>-8.473695</td>\n",
       "      <td>6.109390e+00</td>\n",
       "      <td>844.000000</td>\n",
       "      <td>32891.000000</td>\n",
       "      <td>844.124804</td>\n",
       "      <td>3194.000000</td>\n",
       "      <td>21.000000</td>\n",
       "      <td>224.000000</td>\n",
       "      <td>195.0</td>\n",
       "      <td>90.0</td>\n",
       "    </tr>\n",
       "    <tr>\n",
       "      <th>50%</th>\n",
       "      <td>37492.000000</td>\n",
       "      <td>NaN</td>\n",
       "      <td>8.200000</td>\n",
       "      <td>191.576923</td>\n",
       "      <td>84.000000</td>\n",
       "      <td>44998.271298</td>\n",
       "      <td>40.620170</td>\n",
       "      <td>-4.007706</td>\n",
       "      <td>927.000000</td>\n",
       "      <td>18.400000</td>\n",
       "      <td>...</td>\n",
       "      <td>-0.482059</td>\n",
       "      <td>9.080473e+00</td>\n",
       "      <td>927.000000</td>\n",
       "      <td>37490.000000</td>\n",
       "      <td>927.061132</td>\n",
       "      <td>6780.000000</td>\n",
       "      <td>36.000000</td>\n",
       "      <td>449.000000</td>\n",
       "      <td>195.0</td>\n",
       "      <td>90.0</td>\n",
       "    </tr>\n",
       "    <tr>\n",
       "      <th>75%</th>\n",
       "      <td>40626.000000</td>\n",
       "      <td>NaN</td>\n",
       "      <td>11.462963</td>\n",
       "      <td>244.039988</td>\n",
       "      <td>90.000000</td>\n",
       "      <td>71339.039923</td>\n",
       "      <td>40.686464</td>\n",
       "      <td>-3.918918</td>\n",
       "      <td>1079.000000</td>\n",
       "      <td>21.500000</td>\n",
       "      <td>...</td>\n",
       "      <td>8.312254</td>\n",
       "      <td>1.338842e+01</td>\n",
       "      <td>1079.000000</td>\n",
       "      <td>40624.000000</td>\n",
       "      <td>1079.134418</td>\n",
       "      <td>11277.000000</td>\n",
       "      <td>62.000000</td>\n",
       "      <td>713.000000</td>\n",
       "      <td>195.0</td>\n",
       "      <td>90.0</td>\n",
       "    </tr>\n",
       "    <tr>\n",
       "      <th>max</th>\n",
       "      <td>45219.000000</td>\n",
       "      <td>NaN</td>\n",
       "      <td>22.700001</td>\n",
       "      <td>702.684600</td>\n",
       "      <td>146.000000</td>\n",
       "      <td>107626.000000</td>\n",
       "      <td>40.788520</td>\n",
       "      <td>-3.774947</td>\n",
       "      <td>1848.000000</td>\n",
       "      <td>28.900000</td>\n",
       "      <td>...</td>\n",
       "      <td>22.929503</td>\n",
       "      <td>inf</td>\n",
       "      <td>1848.000000</td>\n",
       "      <td>45217.000000</td>\n",
       "      <td>1842.726024</td>\n",
       "      <td>17354.000000</td>\n",
       "      <td>131.000000</td>\n",
       "      <td>1076.000000</td>\n",
       "      <td>195.0</td>\n",
       "      <td>90.0</td>\n",
       "    </tr>\n",
       "  </tbody>\n",
       "</table>\n",
       "<p>8 rows × 27 columns</p>\n",
       "</div>"
      ],
      "text/plain": [
       "         timeoffset   hr           spd           pwr           cad  \\\n",
       "count  19801.000000  0.0  19801.000000  19801.000000  19797.000000   \n",
       "mean   36774.419524  NaN      8.717948    166.674309     75.200081   \n",
       "std     4607.740389  NaN      4.022063    102.723359     27.711545   \n",
       "min    27742.000000  NaN      0.000000      0.000000      0.000000   \n",
       "25%    32895.000000  NaN      5.400000     92.000000     73.000000   \n",
       "50%    37492.000000  NaN      8.200000    191.576923     84.000000   \n",
       "75%    40626.000000  NaN     11.462963    244.039988     90.000000   \n",
       "max    45219.000000  NaN     22.700001    702.684600    146.000000   \n",
       "\n",
       "                dist           lat           lon           alt          temp  \\\n",
       "count   19801.000000  19801.000000  19801.000000  19801.000000  19801.000000   \n",
       "mean    47650.350159     40.623265     -4.000215    979.756689     19.419997   \n",
       "std     29864.197662      0.075832      0.096982    222.924108      3.541394   \n",
       "min         0.000000     40.499846     -4.207331    626.000000     13.100000   \n",
       "25%     22479.369941     40.557102     -4.070790    844.000000     17.000000   \n",
       "50%     44998.271298     40.620170     -4.007706    927.000000     18.400000   \n",
       "75%     71339.039923     40.686464     -3.918918   1079.000000     21.500000   \n",
       "max    107626.000000     40.788520     -3.774947   1848.000000     28.900000   \n",
       "\n",
       "        ...     viento_aparente      spd_prev      ele_prev  timeoffset_prev  \\\n",
       "count   ...        19801.000000  1.980100e+04  19801.000000     19801.000000   \n",
       "mean    ...           -0.014565           inf    979.652603     36767.829150   \n",
       "std     ...           11.154096           NaN    223.220422      4629.151287   \n",
       "min     ...          -22.929503  0.000000e+00      0.000000         0.000000   \n",
       "25%     ...           -8.473695  6.109390e+00    844.000000     32891.000000   \n",
       "50%     ...           -0.482059  9.080473e+00    927.000000     37490.000000   \n",
       "75%     ...            8.312254  1.338842e+01   1079.000000     40624.000000   \n",
       "max     ...           22.929503           inf   1848.000000     45217.000000   \n",
       "\n",
       "            new_ele      time_seg         tramo    tramos_100   altura  \\\n",
       "count  19801.000000  19801.000000  19801.000000  19801.000000  19801.0   \n",
       "mean     979.756971   7284.424474     44.745922    475.868390    195.0   \n",
       "std      222.919044   4735.858035     30.975142    298.637684      0.0   \n",
       "min      625.774367      0.000000      0.000000      0.000000    195.0   \n",
       "25%      844.124804   3194.000000     21.000000    224.000000    195.0   \n",
       "50%      927.061132   6780.000000     36.000000    449.000000    195.0   \n",
       "75%     1079.134418  11277.000000     62.000000    713.000000    195.0   \n",
       "max     1842.726024  17354.000000    131.000000   1076.000000    195.0   \n",
       "\n",
       "          peso  \n",
       "count  19801.0  \n",
       "mean      90.0  \n",
       "std        0.0  \n",
       "min       90.0  \n",
       "25%       90.0  \n",
       "50%       90.0  \n",
       "75%       90.0  \n",
       "max       90.0  \n",
       "\n",
       "[8 rows x 27 columns]"
      ]
     },
     "execution_count": 142,
     "metadata": {},
     "output_type": "execute_result"
    }
   ],
   "source": [
    "df_pp.describe()"
   ]
  },
  {
   "cell_type": "code",
   "execution_count": 143,
   "metadata": {},
   "outputs": [
    {
     "data": {
      "text/plain": [
       "count    19801.000000\n",
       "mean         0.291312\n",
       "std          5.153544\n",
       "min        -41.959004\n",
       "25%         -2.629386\n",
       "50%          0.000000\n",
       "75%          3.010763\n",
       "max         51.103449\n",
       "Name: porc, dtype: float64"
      ]
     },
     "execution_count": 143,
     "metadata": {},
     "output_type": "execute_result"
    }
   ],
   "source": [
    "df_pp['porc'].describe()"
   ]
  },
  {
   "cell_type": "markdown",
   "metadata": {
    "collapsed": true,
    "scrolled": true
   },
   "source": [
    "No es necesario al tratar el punto a punto\n",
    "#df = df[df[\"viento_aparente\"]!=-np.inf]\n",
    "#df = df[df[\"porc\"]!=np.inf]\n",
    "df[\"puntos_en_tramo\"]= df[\"tramo_final\"]-df[\"tramo_inicial\"]\n",
    "df = df[df[\"puntos_en_tramo\"]>9]"
   ]
  },
  {
   "cell_type": "code",
   "execution_count": 144,
   "metadata": {},
   "outputs": [
    {
     "data": {
      "text/html": [
       "<div>\n",
       "<style>\n",
       "    .dataframe thead tr:only-child th {\n",
       "        text-align: right;\n",
       "    }\n",
       "\n",
       "    .dataframe thead th {\n",
       "        text-align: left;\n",
       "    }\n",
       "\n",
       "    .dataframe tbody tr th {\n",
       "        vertical-align: top;\n",
       "    }\n",
       "</style>\n",
       "<table border=\"1\" class=\"dataframe\">\n",
       "  <thead>\n",
       "    <tr style=\"text-align: right;\">\n",
       "      <th></th>\n",
       "      <th>timeoffset</th>\n",
       "      <th>hr</th>\n",
       "      <th>spd</th>\n",
       "      <th>pwr</th>\n",
       "      <th>cad</th>\n",
       "      <th>dist</th>\n",
       "      <th>lat</th>\n",
       "      <th>lon</th>\n",
       "      <th>alt</th>\n",
       "      <th>temp</th>\n",
       "      <th>...</th>\n",
       "      <th>ele_prev</th>\n",
       "      <th>timeoffset_prev</th>\n",
       "      <th>new_ele</th>\n",
       "      <th>time_seg</th>\n",
       "      <th>tramo</th>\n",
       "      <th>tramos_100</th>\n",
       "      <th>altura</th>\n",
       "      <th>peso</th>\n",
       "      <th>tpo_bici</th>\n",
       "      <th>tpo_entreno</th>\n",
       "    </tr>\n",
       "  </thead>\n",
       "  <tbody>\n",
       "    <tr>\n",
       "      <th>0</th>\n",
       "      <td>27865</td>\n",
       "      <td>NaN</td>\n",
       "      <td>5.000000</td>\n",
       "      <td>0.0</td>\n",
       "      <td>NaN</td>\n",
       "      <td>0.000000</td>\n",
       "      <td>40.519800</td>\n",
       "      <td>-3.929805</td>\n",
       "      <td>662.799988</td>\n",
       "      <td>22.700001</td>\n",
       "      <td>...</td>\n",
       "      <td>0.000000</td>\n",
       "      <td>0</td>\n",
       "      <td>661.852063</td>\n",
       "      <td>0</td>\n",
       "      <td>0</td>\n",
       "      <td>0</td>\n",
       "      <td>195</td>\n",
       "      <td>90</td>\n",
       "      <td>R</td>\n",
       "      <td>E</td>\n",
       "    </tr>\n",
       "    <tr>\n",
       "      <th>1</th>\n",
       "      <td>27867</td>\n",
       "      <td>NaN</td>\n",
       "      <td>5.141748</td>\n",
       "      <td>0.0</td>\n",
       "      <td>0.0</td>\n",
       "      <td>11.784731</td>\n",
       "      <td>40.519850</td>\n",
       "      <td>-3.929899</td>\n",
       "      <td>661.417483</td>\n",
       "      <td>22.700001</td>\n",
       "      <td>...</td>\n",
       "      <td>662.799988</td>\n",
       "      <td>27865</td>\n",
       "      <td>661.415374</td>\n",
       "      <td>2</td>\n",
       "      <td>0</td>\n",
       "      <td>0</td>\n",
       "      <td>195</td>\n",
       "      <td>90</td>\n",
       "      <td>R</td>\n",
       "      <td>E</td>\n",
       "    </tr>\n",
       "    <tr>\n",
       "      <th>2</th>\n",
       "      <td>27868</td>\n",
       "      <td>NaN</td>\n",
       "      <td>5.200000</td>\n",
       "      <td>0.0</td>\n",
       "      <td>0.0</td>\n",
       "      <td>26.000000</td>\n",
       "      <td>40.519883</td>\n",
       "      <td>-3.930019</td>\n",
       "      <td>661.610010</td>\n",
       "      <td>22.600000</td>\n",
       "      <td>...</td>\n",
       "      <td>661.417483</td>\n",
       "      <td>27867</td>\n",
       "      <td>660.970322</td>\n",
       "      <td>3</td>\n",
       "      <td>0</td>\n",
       "      <td>0</td>\n",
       "      <td>195</td>\n",
       "      <td>90</td>\n",
       "      <td>R</td>\n",
       "      <td>E</td>\n",
       "    </tr>\n",
       "    <tr>\n",
       "      <th>3</th>\n",
       "      <td>27870</td>\n",
       "      <td>NaN</td>\n",
       "      <td>5.238999</td>\n",
       "      <td>0.0</td>\n",
       "      <td>0.0</td>\n",
       "      <td>39.000000</td>\n",
       "      <td>40.519872</td>\n",
       "      <td>-3.930170</td>\n",
       "      <td>659.610010</td>\n",
       "      <td>22.600000</td>\n",
       "      <td>...</td>\n",
       "      <td>661.610010</td>\n",
       "      <td>27868</td>\n",
       "      <td>660.516909</td>\n",
       "      <td>5</td>\n",
       "      <td>0</td>\n",
       "      <td>0</td>\n",
       "      <td>195</td>\n",
       "      <td>90</td>\n",
       "      <td>R</td>\n",
       "      <td>E</td>\n",
       "    </tr>\n",
       "    <tr>\n",
       "      <th>4</th>\n",
       "      <td>27872</td>\n",
       "      <td>NaN</td>\n",
       "      <td>5.300000</td>\n",
       "      <td>0.0</td>\n",
       "      <td>0.0</td>\n",
       "      <td>52.000000</td>\n",
       "      <td>40.519832</td>\n",
       "      <td>-3.930314</td>\n",
       "      <td>659.000000</td>\n",
       "      <td>22.600000</td>\n",
       "      <td>...</td>\n",
       "      <td>659.610010</td>\n",
       "      <td>27870</td>\n",
       "      <td>660.055133</td>\n",
       "      <td>7</td>\n",
       "      <td>0</td>\n",
       "      <td>0</td>\n",
       "      <td>195</td>\n",
       "      <td>90</td>\n",
       "      <td>R</td>\n",
       "      <td>E</td>\n",
       "    </tr>\n",
       "  </tbody>\n",
       "</table>\n",
       "<p>5 rows × 30 columns</p>\n",
       "</div>"
      ],
      "text/plain": [
       "   timeoffset  hr       spd  pwr  cad       dist        lat       lon  \\\n",
       "0       27865 NaN  5.000000  0.0  NaN   0.000000  40.519800 -3.929805   \n",
       "1       27867 NaN  5.141748  0.0  0.0  11.784731  40.519850 -3.929899   \n",
       "2       27868 NaN  5.200000  0.0  0.0  26.000000  40.519883 -3.930019   \n",
       "3       27870 NaN  5.238999  0.0  0.0  39.000000  40.519872 -3.930170   \n",
       "4       27872 NaN  5.300000  0.0  0.0  52.000000  40.519832 -3.930314   \n",
       "\n",
       "          alt       temp     ...         ele_prev  timeoffset_prev  \\\n",
       "0  662.799988  22.700001     ...         0.000000                0   \n",
       "1  661.417483  22.700001     ...       662.799988            27865   \n",
       "2  661.610010  22.600000     ...       661.417483            27867   \n",
       "3  659.610010  22.600000     ...       661.610010            27868   \n",
       "4  659.000000  22.600000     ...       659.610010            27870   \n",
       "\n",
       "      new_ele  time_seg  tramo  tramos_100  altura  peso  tpo_bici  \\\n",
       "0  661.852063         0      0           0     195    90         R   \n",
       "1  661.415374         2      0           0     195    90         R   \n",
       "2  660.970322         3      0           0     195    90         R   \n",
       "3  660.516909         5      0           0     195    90         R   \n",
       "4  660.055133         7      0           0     195    90         R   \n",
       "\n",
       "   tpo_entreno  \n",
       "0            E  \n",
       "1            E  \n",
       "2            E  \n",
       "3            E  \n",
       "4            E  \n",
       "\n",
       "[5 rows x 30 columns]"
      ]
     },
     "execution_count": 144,
     "metadata": {},
     "output_type": "execute_result"
    }
   ],
   "source": [
    "df_pp.head()"
   ]
  },
  {
   "cell_type": "code",
   "execution_count": 9,
   "metadata": {
    "collapsed": true
   },
   "outputs": [],
   "source": [
    "# Si recordamos la formula de la potencia, vamos a tratar de despejar el CdA y el Cr\n",
    "# Fijamos rho en 1,2\n",
    "# m = 90kg\n",
    "# Calculamos 3 terminos. Termino CdA, Cr y %"
   ]
  },
  {
   "cell_type": "markdown",
   "metadata": {},
   "source": [
    "$P = \\frac{\\rho CdA}{2}(V^3+2V^2wV+VwV^2)+CrmgV+\\%mgV$"
   ]
  },
  {
   "cell_type": "code",
   "execution_count": 145,
   "metadata": {},
   "outputs": [
    {
     "data": {
      "text/plain": [
       "count    19801.000000\n",
       "mean         8.717948\n",
       "std          4.022063\n",
       "min          0.000000\n",
       "25%          5.400000\n",
       "50%          8.200000\n",
       "75%         11.462963\n",
       "max         22.700001\n",
       "Name: spd, dtype: float64"
      ]
     },
     "execution_count": 145,
     "metadata": {},
     "output_type": "execute_result"
    }
   ],
   "source": [
    "df_pp['spd'].describe()"
   ]
  },
  {
   "cell_type": "code",
   "execution_count": 147,
   "metadata": {
    "collapsed": true
   },
   "outputs": [],
   "source": [
    "df_pp['V'] = df_pp['spd']\n",
    "df_pp['wV'] = df_pp['viento_aparente']/3.6"
   ]
  },
  {
   "cell_type": "code",
   "execution_count": 187,
   "metadata": {
    "collapsed": true
   },
   "outputs": [],
   "source": [
    "#df_pp['termino_Cda'] = (df_pp['V']**3 + 2*df_pp['V']**2*df_pp['wV'] + df_pp['wV']**2*df_pp['V'])\n",
    "df_pp['termino_Cda'] = (df_pp['V']**3 + 2*df_pp['V']**2 + df_pp['V'])"
   ]
  },
  {
   "cell_type": "code",
   "execution_count": 151,
   "metadata": {
    "collapsed": true
   },
   "outputs": [],
   "source": [
    "df_pp['termino_Cr'] = df_pp['V']*90*9.81"
   ]
  },
  {
   "cell_type": "code",
   "execution_count": 152,
   "metadata": {
    "collapsed": true
   },
   "outputs": [],
   "source": [
    "df_pp['termino_%'] = df_pp['porc']*90*9.81 "
   ]
  },
  {
   "cell_type": "code",
   "execution_count": 197,
   "metadata": {
    "collapsed": true
   },
   "outputs": [],
   "source": [
    "df_pp = df_pp[df_pp[\"cad\"]!=np.inf]"
   ]
  },
  {
   "cell_type": "code",
   "execution_count": 200,
   "metadata": {},
   "outputs": [
    {
     "data": {
      "text/plain": [
       "count    19797.000000\n",
       "mean        75.200081\n",
       "std         27.711545\n",
       "min          0.000000\n",
       "25%         73.000000\n",
       "50%         84.000000\n",
       "75%         90.000000\n",
       "max        146.000000\n",
       "Name: cad, dtype: float64"
      ]
     },
     "execution_count": 200,
     "metadata": {},
     "output_type": "execute_result"
    }
   ],
   "source": [
    "df_pp['cad'].describe()"
   ]
  },
  {
   "cell_type": "code",
   "execution_count": 153,
   "metadata": {
    "scrolled": false
   },
   "outputs": [
    {
     "data": {
      "text/html": [
       "<div>\n",
       "<style>\n",
       "    .dataframe thead tr:only-child th {\n",
       "        text-align: right;\n",
       "    }\n",
       "\n",
       "    .dataframe thead th {\n",
       "        text-align: left;\n",
       "    }\n",
       "\n",
       "    .dataframe tbody tr th {\n",
       "        vertical-align: top;\n",
       "    }\n",
       "</style>\n",
       "<table border=\"1\" class=\"dataframe\">\n",
       "  <thead>\n",
       "    <tr style=\"text-align: right;\">\n",
       "      <th></th>\n",
       "      <th>timeoffset</th>\n",
       "      <th>hr</th>\n",
       "      <th>spd</th>\n",
       "      <th>pwr</th>\n",
       "      <th>cad</th>\n",
       "      <th>dist</th>\n",
       "      <th>lat</th>\n",
       "      <th>lon</th>\n",
       "      <th>alt</th>\n",
       "      <th>temp</th>\n",
       "      <th>...</th>\n",
       "      <th>tramos_100</th>\n",
       "      <th>altura</th>\n",
       "      <th>peso</th>\n",
       "      <th>tpo_bici</th>\n",
       "      <th>tpo_entreno</th>\n",
       "      <th>V</th>\n",
       "      <th>wV</th>\n",
       "      <th>termino_Cda</th>\n",
       "      <th>termino_Cr</th>\n",
       "      <th>termino_%</th>\n",
       "    </tr>\n",
       "  </thead>\n",
       "  <tbody>\n",
       "    <tr>\n",
       "      <th>0</th>\n",
       "      <td>27865</td>\n",
       "      <td>NaN</td>\n",
       "      <td>5.000000</td>\n",
       "      <td>0.0</td>\n",
       "      <td>NaN</td>\n",
       "      <td>0.000000</td>\n",
       "      <td>40.519800</td>\n",
       "      <td>-3.929805</td>\n",
       "      <td>662.799988</td>\n",
       "      <td>22.700001</td>\n",
       "      <td>...</td>\n",
       "      <td>0</td>\n",
       "      <td>195</td>\n",
       "      <td>90</td>\n",
       "      <td>R</td>\n",
       "      <td>E</td>\n",
       "      <td>5.000000</td>\n",
       "      <td>0.000000</td>\n",
       "      <td>125.000000</td>\n",
       "      <td>4414.500000</td>\n",
       "      <td>0.000000</td>\n",
       "    </tr>\n",
       "    <tr>\n",
       "      <th>1</th>\n",
       "      <td>27867</td>\n",
       "      <td>NaN</td>\n",
       "      <td>5.141748</td>\n",
       "      <td>0.0</td>\n",
       "      <td>0.0</td>\n",
       "      <td>11.784731</td>\n",
       "      <td>40.519850</td>\n",
       "      <td>-3.929899</td>\n",
       "      <td>661.417483</td>\n",
       "      <td>22.700001</td>\n",
       "      <td>...</td>\n",
       "      <td>0</td>\n",
       "      <td>195</td>\n",
       "      <td>90</td>\n",
       "      <td>R</td>\n",
       "      <td>E</td>\n",
       "      <td>5.141748</td>\n",
       "      <td>2.204722</td>\n",
       "      <td>277.503387</td>\n",
       "      <td>4539.649431</td>\n",
       "      <td>-10357.586361</td>\n",
       "    </tr>\n",
       "    <tr>\n",
       "      <th>2</th>\n",
       "      <td>27868</td>\n",
       "      <td>NaN</td>\n",
       "      <td>5.200000</td>\n",
       "      <td>0.0</td>\n",
       "      <td>0.0</td>\n",
       "      <td>26.000000</td>\n",
       "      <td>40.519883</td>\n",
       "      <td>-3.930019</td>\n",
       "      <td>661.610010</td>\n",
       "      <td>22.600000</td>\n",
       "      <td>...</td>\n",
       "      <td>0</td>\n",
       "      <td>195</td>\n",
       "      <td>90</td>\n",
       "      <td>R</td>\n",
       "      <td>E</td>\n",
       "      <td>5.200000</td>\n",
       "      <td>1.995562</td>\n",
       "      <td>269.235745</td>\n",
       "      <td>4591.079832</td>\n",
       "      <td>1234.764555</td>\n",
       "    </tr>\n",
       "    <tr>\n",
       "      <th>3</th>\n",
       "      <td>27870</td>\n",
       "      <td>NaN</td>\n",
       "      <td>5.238999</td>\n",
       "      <td>0.0</td>\n",
       "      <td>0.0</td>\n",
       "      <td>39.000000</td>\n",
       "      <td>40.519872</td>\n",
       "      <td>-3.930170</td>\n",
       "      <td>659.610010</td>\n",
       "      <td>22.600000</td>\n",
       "      <td>...</td>\n",
       "      <td>0</td>\n",
       "      <td>195</td>\n",
       "      <td>90</td>\n",
       "      <td>R</td>\n",
       "      <td>E</td>\n",
       "      <td>5.238999</td>\n",
       "      <td>1.594837</td>\n",
       "      <td>244.668139</td>\n",
       "      <td>4625.512215</td>\n",
       "      <td>-10547.043121</td>\n",
       "    </tr>\n",
       "    <tr>\n",
       "      <th>4</th>\n",
       "      <td>27872</td>\n",
       "      <td>NaN</td>\n",
       "      <td>5.300000</td>\n",
       "      <td>0.0</td>\n",
       "      <td>0.0</td>\n",
       "      <td>52.000000</td>\n",
       "      <td>40.519832</td>\n",
       "      <td>-3.930314</td>\n",
       "      <td>659.000000</td>\n",
       "      <td>22.600000</td>\n",
       "      <td>...</td>\n",
       "      <td>0</td>\n",
       "      <td>195</td>\n",
       "      <td>90</td>\n",
       "      <td>R</td>\n",
       "      <td>E</td>\n",
       "      <td>5.300000</td>\n",
       "      <td>1.315320</td>\n",
       "      <td>231.941037</td>\n",
       "      <td>4679.370168</td>\n",
       "      <td>-3257.886620</td>\n",
       "    </tr>\n",
       "  </tbody>\n",
       "</table>\n",
       "<p>5 rows × 35 columns</p>\n",
       "</div>"
      ],
      "text/plain": [
       "   timeoffset  hr       spd  pwr  cad       dist        lat       lon  \\\n",
       "0       27865 NaN  5.000000  0.0  NaN   0.000000  40.519800 -3.929805   \n",
       "1       27867 NaN  5.141748  0.0  0.0  11.784731  40.519850 -3.929899   \n",
       "2       27868 NaN  5.200000  0.0  0.0  26.000000  40.519883 -3.930019   \n",
       "3       27870 NaN  5.238999  0.0  0.0  39.000000  40.519872 -3.930170   \n",
       "4       27872 NaN  5.300000  0.0  0.0  52.000000  40.519832 -3.930314   \n",
       "\n",
       "          alt       temp      ...      tramos_100  altura  peso  tpo_bici  \\\n",
       "0  662.799988  22.700001      ...               0     195    90         R   \n",
       "1  661.417483  22.700001      ...               0     195    90         R   \n",
       "2  661.610010  22.600000      ...               0     195    90         R   \n",
       "3  659.610010  22.600000      ...               0     195    90         R   \n",
       "4  659.000000  22.600000      ...               0     195    90         R   \n",
       "\n",
       "   tpo_entreno         V        wV  termino_Cda   termino_Cr     termino_%  \n",
       "0            E  5.000000  0.000000   125.000000  4414.500000      0.000000  \n",
       "1            E  5.141748  2.204722   277.503387  4539.649431 -10357.586361  \n",
       "2            E  5.200000  1.995562   269.235745  4591.079832   1234.764555  \n",
       "3            E  5.238999  1.594837   244.668139  4625.512215 -10547.043121  \n",
       "4            E  5.300000  1.315320   231.941037  4679.370168  -3257.886620  \n",
       "\n",
       "[5 rows x 35 columns]"
      ]
     },
     "execution_count": 153,
     "metadata": {},
     "output_type": "execute_result"
    }
   ],
   "source": [
    "df_pp.head()"
   ]
  },
  {
   "cell_type": "code",
   "execution_count": 154,
   "metadata": {
    "collapsed": true
   },
   "outputs": [],
   "source": [
    "from sklearn import datasets, linear_model\n",
    "from sklearn import metrics\n",
    "from sklearn.model_selection import train_test_split"
   ]
  },
  {
   "cell_type": "code",
   "execution_count": 204,
   "metadata": {
    "collapsed": true
   },
   "outputs": [],
   "source": [
    "df2_pp = df_pp.loc[(df_pp['pwr']>70)&(df_pp['pwr']<350)\n",
    "                   &(df_pp['porc']<10)&(df_pp['porc']>-10)\n",
    "                   &(df_pp['cad']<110)&(df_pp['cad']>50)]\n"
   ]
  },
  {
   "cell_type": "code",
   "execution_count": 205,
   "metadata": {
    "collapsed": true
   },
   "outputs": [],
   "source": [
    "df_lm = df2_pp[['pwr','termino_Cda','termino_Cr','termino_%']]"
   ]
  },
  {
   "cell_type": "code",
   "execution_count": 206,
   "metadata": {
    "collapsed": true
   },
   "outputs": [],
   "source": [
    "df_lm_x = df_lm[['termino_Cda','termino_Cr','termino_%']]\n",
    "df_lm_y = df_lm[['pwr']]"
   ]
  },
  {
   "cell_type": "code",
   "execution_count": 207,
   "metadata": {
    "collapsed": true
   },
   "outputs": [],
   "source": [
    "X_train, X_test, Y_train, Y_test = train_test_split(df_lm_x, df_lm_y, test_size=0.30, random_state=42)"
   ]
  },
  {
   "cell_type": "code",
   "execution_count": 212,
   "metadata": {},
   "outputs": [
    {
     "data": {
      "text/html": [
       "<div>\n",
       "<style>\n",
       "    .dataframe thead tr:only-child th {\n",
       "        text-align: right;\n",
       "    }\n",
       "\n",
       "    .dataframe thead th {\n",
       "        text-align: left;\n",
       "    }\n",
       "\n",
       "    .dataframe tbody tr th {\n",
       "        vertical-align: top;\n",
       "    }\n",
       "</style>\n",
       "<table border=\"1\" class=\"dataframe\">\n",
       "  <thead>\n",
       "    <tr style=\"text-align: right;\">\n",
       "      <th></th>\n",
       "      <th>termino_Cda</th>\n",
       "      <th>termino_Cr</th>\n",
       "      <th>termino_%</th>\n",
       "    </tr>\n",
       "  </thead>\n",
       "  <tbody>\n",
       "    <tr>\n",
       "      <th>count</th>\n",
       "      <td>14209.000000</td>\n",
       "      <td>14209.000000</td>\n",
       "      <td>14209.000000</td>\n",
       "    </tr>\n",
       "    <tr>\n",
       "      <th>mean</th>\n",
       "      <td>887.984588</td>\n",
       "      <td>6844.378457</td>\n",
       "      <td>982.421264</td>\n",
       "    </tr>\n",
       "    <tr>\n",
       "      <th>std</th>\n",
       "      <td>1008.790577</td>\n",
       "      <td>2908.423466</td>\n",
       "      <td>3401.529287</td>\n",
       "    </tr>\n",
       "    <tr>\n",
       "      <th>min</th>\n",
       "      <td>4.000000</td>\n",
       "      <td>882.900000</td>\n",
       "      <td>-8806.467008</td>\n",
       "    </tr>\n",
       "    <tr>\n",
       "      <th>25%</th>\n",
       "      <td>183.964736</td>\n",
       "      <td>4450.699713</td>\n",
       "      <td>0.000000</td>\n",
       "    </tr>\n",
       "    <tr>\n",
       "      <th>50%</th>\n",
       "      <td>495.365506</td>\n",
       "      <td>6410.009450</td>\n",
       "      <td>0.000000</td>\n",
       "    </tr>\n",
       "    <tr>\n",
       "      <th>75%</th>\n",
       "      <td>1176.218872</td>\n",
       "      <td>8740.709663</td>\n",
       "      <td>3273.797628</td>\n",
       "    </tr>\n",
       "    <tr>\n",
       "      <th>max</th>\n",
       "      <td>9321.775708</td>\n",
       "      <td>17997.480542</td>\n",
       "      <td>8828.904359</td>\n",
       "    </tr>\n",
       "  </tbody>\n",
       "</table>\n",
       "</div>"
      ],
      "text/plain": [
       "        termino_Cda    termino_Cr     termino_%\n",
       "count  14209.000000  14209.000000  14209.000000\n",
       "mean     887.984588   6844.378457    982.421264\n",
       "std     1008.790577   2908.423466   3401.529287\n",
       "min        4.000000    882.900000  -8806.467008\n",
       "25%      183.964736   4450.699713      0.000000\n",
       "50%      495.365506   6410.009450      0.000000\n",
       "75%     1176.218872   8740.709663   3273.797628\n",
       "max     9321.775708  17997.480542   8828.904359"
      ]
     },
     "execution_count": 212,
     "metadata": {},
     "output_type": "execute_result"
    }
   ],
   "source": [
    "df_lm_x.describe()"
   ]
  },
  {
   "cell_type": "markdown",
   "metadata": {},
   "source": [
    "### RandomForest"
   ]
  },
  {
   "cell_type": "code",
   "execution_count": 165,
   "metadata": {
    "collapsed": true
   },
   "outputs": [],
   "source": [
    "from sklearn.ensemble import RandomForestRegressor\n",
    "from sklearn.model_selection import cross_val_score"
   ]
  },
  {
   "cell_type": "code",
   "execution_count": 208,
   "metadata": {
    "collapsed": true
   },
   "outputs": [],
   "source": [
    "rf_pp = RandomForestRegressor(max_features=2, min_samples_split=4, n_estimators=50, min_samples_leaf=2)"
   ]
  },
  {
   "cell_type": "code",
   "execution_count": 209,
   "metadata": {},
   "outputs": [
    {
     "name": "stderr",
     "output_type": "stream",
     "text": [
      "C:\\Users\\David\\Anaconda3\\lib\\site-packages\\ipykernel_launcher.py:1: DataConversionWarning: A column-vector y was passed when a 1d array was expected. Please change the shape of y to (n_samples,), for example using ravel().\n",
      "  \"\"\"Entry point for launching an IPython kernel.\n"
     ]
    },
    {
     "data": {
      "text/plain": [
       "[<matplotlib.lines.Line2D at 0x1fae7a3d630>]"
      ]
     },
     "execution_count": 209,
     "metadata": {},
     "output_type": "execute_result"
    },
    {
     "data": {
      "image/png": "[encoded data removed]",
      "text/plain": [
       "<matplotlib.figure.Figure at 0x1fae73942b0>"
      ]
     },
     "metadata": {},
     "output_type": "display_data"
    }
   ],
   "source": [
    "rf_pp.fit(X_train, Y_train)\n",
    "Y_pred = rf_pp.predict(X_test)\n",
    "plt.scatter(Y_test, Y_pred)\n",
    "plt.plot( [50,350],[50,350], c=\"red\" )"
   ]
  },
  {
   "cell_type": "code",
   "execution_count": 214,
   "metadata": {},
   "outputs": [
    {
     "name": "stdout",
     "output_type": "stream",
     "text": [
      "3094.14778397\n",
      "0.150872058485\n",
      "[ 0.09972725  0.22026355  0.6800092 ]\n"
     ]
    }
   ],
   "source": [
    "print(mean_squared_error(Y_test,Y_pred))\n",
    "print(metrics.explained_variance_score(Y_test, Y_pred))\n",
    "print(rf.feature_importances_)"
   ]
  },
  {
   "cell_type": "code",
   "execution_count": null,
   "metadata": {
    "collapsed": true
   },
   "outputs": [],
   "source": []
  },
  {
   "cell_type": "markdown",
   "metadata": {},
   "source": [
    "#### Robust Scaler"
   ]
  },
  {
   "cell_type": "code",
   "execution_count": 215,
   "metadata": {
    "collapsed": true
   },
   "outputs": [],
   "source": [
    "from sklearn.preprocessing import RobustScaler"
   ]
  },
  {
   "cell_type": "code",
   "execution_count": 219,
   "metadata": {
    "collapsed": true
   },
   "outputs": [],
   "source": [
    "model_rs = RobustScaler()"
   ]
  },
  {
   "cell_type": "code",
   "execution_count": 220,
   "metadata": {
    "collapsed": true
   },
   "outputs": [],
   "source": [
    "X_train_rs = model_rs.fit_transform(X_train)"
   ]
  },
  {
   "cell_type": "code",
   "execution_count": 222,
   "metadata": {
    "collapsed": true
   },
   "outputs": [],
   "source": [
    "X_test_rs = model_rs.transform(X_test)"
   ]
  },
  {
   "cell_type": "code",
   "execution_count": 223,
   "metadata": {},
   "outputs": [
    {
     "name": "stderr",
     "output_type": "stream",
     "text": [
      "C:\\Users\\David\\Anaconda3\\lib\\site-packages\\ipykernel_launcher.py:2: DataConversionWarning: A column-vector y was passed when a 1d array was expected. Please change the shape of y to (n_samples,), for example using ravel().\n",
      "  \n"
     ]
    }
   ],
   "source": [
    "rf_robust = RandomForestRegressor(max_features=2, min_samples_split=4, n_estimators=50, min_samples_leaf=2)\n",
    "rf_robust.fit(X_train_rs,Y_train)\n",
    "Y_pred = rf_robust.predict(X_test_rs)"
   ]
  },
  {
   "cell_type": "code",
   "execution_count": 224,
   "metadata": {},
   "outputs": [
    {
     "name": "stdout",
     "output_type": "stream",
     "text": [
      "3096.37969284\n",
      "0.150191420767\n",
      "[ 0.31489573  0.32228481  0.36281946]\n"
     ]
    }
   ],
   "source": [
    "print(mean_squared_error(Y_test,Y_pred))\n",
    "print(metrics.explained_variance_score(Y_test, Y_pred))\n",
    "print(rf_robust.feature_importances_)"
   ]
  },
  {
   "cell_type": "code",
   "execution_count": null,
   "metadata": {
    "collapsed": true
   },
   "outputs": [],
   "source": []
  },
  {
   "cell_type": "code",
   "execution_count": null,
   "metadata": {
    "collapsed": true
   },
   "outputs": [],
   "source": []
  },
  {
   "cell_type": "code",
   "execution_count": null,
   "metadata": {
    "collapsed": true
   },
   "outputs": [],
   "source": []
  },
  {
   "cell_type": "code",
   "execution_count": 127,
   "metadata": {
    "collapsed": true
   },
   "outputs": [],
   "source": [
    "#Grid Search con RFR"
   ]
  },
  {
   "cell_type": "code",
   "execution_count": 169,
   "metadata": {
    "scrolled": true
   },
   "outputs": [
    {
     "name": "stderr",
     "output_type": "stream",
     "text": [
      "C:\\Users\\David\\Anaconda3\\lib\\site-packages\\sklearn\\model_selection\\_search.py:645: DataConversionWarning: A column-vector y was passed when a 1d array was expected. Please change the shape of y to (n_samples,), for example using ravel().\n",
      "  best_estimator.fit(X, y, **self.fit_params)\n"
     ]
    },
    {
     "name": "stdout",
     "output_type": "stream",
     "text": [
      "Random forecast regression...\n",
      "Best Params:\n",
      "{'n_estimators': 1000}\n",
      "Best CV Score:\n",
      "0.230835806597\n"
     ]
    }
   ],
   "source": [
    "from sklearn.model_selection import GridSearchCV\n",
    "#max_features=2, min_samples_split=4, n_estimators=50, min_samples_leaf=2\n",
    "rfr = RandomForestRegressor(n_jobs=2, random_state=0, max_features=3)\n",
    "param_grid = {'n_estimators': [1000]}\n",
    "# 'n_estimators': [1000], 'max_features': [10,15,20,25], 'max_depth':[20,20,25,25,]}\n",
    "model = GridSearchCV(estimator=rfr, param_grid=param_grid, n_jobs=2, cv=10)\n",
    "\n",
    "model.fit(X=X_train, y=Y_train)\n",
    "print('Random forecast regression...')\n",
    "print('Best Params:')\n",
    "print(model.best_params_)\n",
    "print('Best CV Score:')\n",
    "print(model.best_score_)\n",
    "\n",
    "Y_pred = model.predict(X_test)"
   ]
  },
  {
   "cell_type": "code",
   "execution_count": 170,
   "metadata": {},
   "outputs": [
    {
     "name": "stderr",
     "output_type": "stream",
     "text": [
      "C:\\Users\\David\\Anaconda3\\lib\\site-packages\\ipykernel_launcher.py:2: DataConversionWarning: A column-vector y was passed when a 1d array was expected. Please change the shape of y to (n_samples,), for example using ravel().\n",
      "  \n"
     ]
    },
    {
     "data": {
      "text/plain": [
       "RandomForestRegressor(bootstrap=True, criterion='mse', max_depth=None,\n",
       "           max_features=3, max_leaf_nodes=None, min_impurity_split=1e-07,\n",
       "           min_samples_leaf=1, min_samples_split=2,\n",
       "           min_weight_fraction_leaf=0.0, n_estimators=10000, n_jobs=2,\n",
       "           oob_score=False, random_state=0, verbose=0, warm_start=False)"
      ]
     },
     "execution_count": 170,
     "metadata": {},
     "output_type": "execute_result"
    }
   ],
   "source": [
    "rfr = RandomForestRegressor(n_jobs=2, random_state=0, max_features=3, n_estimators=10000)\n",
    "rfr.fit(X=X_train, y=Y_train)"
   ]
  },
  {
   "cell_type": "code",
   "execution_count": 171,
   "metadata": {
    "collapsed": true
   },
   "outputs": [],
   "source": [
    "Y_pred = rfr.predict(X_test)"
   ]
  },
  {
   "cell_type": "code",
   "execution_count": 172,
   "metadata": {},
   "outputs": [
    {
     "data": {
      "text/plain": [
       "0.23890721642680124"
      ]
     },
     "execution_count": 172,
     "metadata": {},
     "output_type": "execute_result"
    }
   ],
   "source": [
    "metrics.explained_variance_score(Y_test, Y_pred)"
   ]
  },
  {
   "cell_type": "code",
   "execution_count": 173,
   "metadata": {},
   "outputs": [
    {
     "data": {
      "text/plain": [
       "array([ 0.36360961,  0.37923953,  0.25715086])"
      ]
     },
     "execution_count": 173,
     "metadata": {},
     "output_type": "execute_result"
    }
   ],
   "source": [
    "rfr.feature_importances_"
   ]
  },
  {
   "cell_type": "code",
   "execution_count": null,
   "metadata": {
    "collapsed": true
   },
   "outputs": [],
   "source": [
    "rfr."
   ]
  },
  {
   "cell_type": "code",
   "execution_count": 133,
   "metadata": {},
   "outputs": [
    {
     "data": {
      "text/html": [
       "<div>\n",
       "<style>\n",
       "    .dataframe thead tr:only-child th {\n",
       "        text-align: right;\n",
       "    }\n",
       "\n",
       "    .dataframe thead th {\n",
       "        text-align: left;\n",
       "    }\n",
       "\n",
       "    .dataframe tbody tr th {\n",
       "        vertical-align: top;\n",
       "    }\n",
       "</style>\n",
       "<table border=\"1\" class=\"dataframe\">\n",
       "  <thead>\n",
       "    <tr style=\"text-align: right;\">\n",
       "      <th></th>\n",
       "      <th>0</th>\n",
       "    </tr>\n",
       "  </thead>\n",
       "  <tbody>\n",
       "    <tr>\n",
       "      <th>0</th>\n",
       "      <td>0.071816</td>\n",
       "    </tr>\n",
       "    <tr>\n",
       "      <th>1</th>\n",
       "      <td>0.174780</td>\n",
       "    </tr>\n",
       "    <tr>\n",
       "      <th>2</th>\n",
       "      <td>0.753404</td>\n",
       "    </tr>\n",
       "  </tbody>\n",
       "</table>\n",
       "</div>"
      ],
      "text/plain": [
       "          0\n",
       "0  0.071816\n",
       "1  0.174780\n",
       "2  0.753404"
      ]
     },
     "execution_count": 133,
     "metadata": {},
     "output_type": "execute_result"
    }
   ],
   "source": [
    "coefs = pd.DataFrame(rfr.feature_importances_)\n",
    "coefs"
   ]
  },
  {
   "cell_type": "code",
   "execution_count": 180,
   "metadata": {},
   "outputs": [
    {
     "data": {
      "text/plain": [
       "(array([   20.,    86.,  1027.,  2189.,  2119.,  2091.,  2028.,  1848.,\n",
       "         1822.,  1434.,  1346.,   983.,  1021.,   777.,   438.,   259.,\n",
       "          162.,    83.,    44.,    24.]),\n",
       " array([  0.        ,   4.08600014,   8.17200027,  12.25800041,\n",
       "         16.34400055,  20.43000069,  24.51600082,  28.60200096,\n",
       "         32.6880011 ,  36.77400124,  40.86000137,  44.94600151,\n",
       "         49.03200165,  53.11800179,  57.20400192,  61.29000206,\n",
       "         65.3760022 ,  69.46200233,  73.54800247,  77.63400261,  81.72000275]),\n",
       " <a list of 20 Patch objects>)"
      ]
     },
     "execution_count": 180,
     "metadata": {},
     "output_type": "execute_result"
    },
    {
     "data": {
      "image/png": "[encoded data removed]",
      "text/plain": [
       "<matplotlib.figure.Figure at 0x1fae722e208>"
      ]
     },
     "metadata": {},
     "output_type": "display_data"
    }
   ],
   "source": [
    "plt.hist(df_pp['spd']*3.6, bins=20)"
   ]
  },
  {
   "cell_type": "code",
   "execution_count": 181,
   "metadata": {},
   "outputs": [
    {
     "data": {
      "text/plain": [
       "(array([  3.88200000e+03,   5.50000000e+02,   8.97000000e+02,\n",
       "          1.49900000e+03,   1.94400000e+03,   2.76700000e+03,\n",
       "          3.50800000e+03,   2.77200000e+03,   1.26900000e+03,\n",
       "          4.83000000e+02,   1.47000000e+02,   5.40000000e+01,\n",
       "          1.50000000e+01,   6.00000000e+00,   3.00000000e+00,\n",
       "          2.00000000e+00,   0.00000000e+00,   0.00000000e+00,\n",
       "          2.00000000e+00,   1.00000000e+00]),\n",
       " array([   0.        ,   35.13422999,   70.26845997,  105.40268996,\n",
       "         140.53691994,  175.67114993,  210.80537991,  245.9396099 ,\n",
       "         281.07383988,  316.20806987,  351.34229985,  386.47652984,\n",
       "         421.61075982,  456.74498981,  491.87921979,  527.01344978,\n",
       "         562.14767977,  597.28190975,  632.41613974,  667.55036972,\n",
       "         702.68459971]),\n",
       " <a list of 20 Patch objects>)"
      ]
     },
     "execution_count": 181,
     "metadata": {},
     "output_type": "execute_result"
    },
    {
     "data": {
      "image/png": "[encoded data removed]",
      "text/plain": [
       "<matplotlib.figure.Figure at 0x1fae7760860>"
      ]
     },
     "metadata": {},
     "output_type": "display_data"
    }
   ],
   "source": [
    "plt.hist(df_pp['pwr'],bins=20)"
   ]
  },
  {
   "cell_type": "code",
   "execution_count": 183,
   "metadata": {},
   "outputs": [
    {
     "data": {
      "text/plain": [
       "(array([  1.00000000e+00,   1.00000000e+00,   3.00000000e+00,\n",
       "          6.00000000e+00,   1.60000000e+01,   7.50000000e+01,\n",
       "          4.31000000e+02,   2.44500000e+03,   3.06500000e+03,\n",
       "          9.91300000e+03,   2.99000000e+03,   6.48000000e+02,\n",
       "          1.88000000e+02,   1.40000000e+01,   1.00000000e+00,\n",
       "          0.00000000e+00,   1.00000000e+00,   1.00000000e+00,\n",
       "          1.00000000e+00,   1.00000000e+00]),\n",
       " array([-41.95900391, -37.30588127, -32.65275862, -27.99963598,\n",
       "        -23.34651334, -18.69339069, -14.04026805,  -9.3871454 ,\n",
       "         -4.73402276,  -0.08090012,   4.57222253,   9.22534517,\n",
       "         13.87846781,  18.53159046,  23.1847131 ,  27.83783574,\n",
       "         32.49095839,  37.14408103,  41.79720368,  46.45032632,  51.10344896]),\n",
       " <a list of 20 Patch objects>)"
      ]
     },
     "execution_count": 183,
     "metadata": {},
     "output_type": "execute_result"
    },
    {
     "data": {
      "image/png": "[encoded data removed]",
      "text/plain": [
       "<matplotlib.figure.Figure at 0x1fae758f668>"
      ]
     },
     "metadata": {},
     "output_type": "display_data"
    }
   ],
   "source": [
    "plt.hist(df_pp['porc'], bins=20)"
   ]
  },
  {
   "cell_type": "code",
   "execution_count": 185,
   "metadata": {},
   "outputs": [
    {
     "data": {
      "text/plain": [
       "(array([ 1174.,   836.,  1714.,  4086.,  2315.,  2075.,  4141.,  1307.,\n",
       "          736.,  1417.]),\n",
       " array([ -2.29295035e+01,  -1.83436028e+01,  -1.37577021e+01,\n",
       "         -9.17180145e+00,  -4.58590077e+00,  -9.87097515e-08,\n",
       "          4.58590058e+00,   9.17180125e+00,   1.37577019e+01,\n",
       "          1.83436026e+01,   2.29295033e+01]),\n",
       " <a list of 10 Patch objects>)"
      ]
     },
     "execution_count": 185,
     "metadata": {},
     "output_type": "execute_result"
    },
    {
     "data": {
      "image/png": "[encoded data removed]",
      "text/plain": [
       "<matplotlib.figure.Figure at 0x1fae7f2e9e8>"
      ]
     },
     "metadata": {},
     "output_type": "display_data"
    }
   ],
   "source": [
    "plt.hist(df_pp['viento_aparente'])"
   ]
  },
  {
   "cell_type": "code",
   "execution_count": 184,
   "metadata": {},
   "outputs": [
    {
     "data": {
      "text/plain": [
       "<matplotlib.collections.PathCollection at 0x1fae7badc18>"
      ]
     },
     "execution_count": 184,
     "metadata": {},
     "output_type": "execute_result"
    },
    {
     "data": {
      "image/png": "[encoded data removed]",
      "text/plain": [
       "<matplotlib.figure.Figure at 0x1fae72ba208>"
      ]
     },
     "metadata": {},
     "output_type": "display_data"
    }
   ],
   "source": [
    "plt.scatter(df_pp['viento_aparente'],df_pp['porc'])"
   ]
  },
  {
   "cell_type": "code",
   "execution_count": 186,
   "metadata": {},
   "outputs": [
    {
     "data": {
      "text/plain": [
       "<matplotlib.collections.PathCollection at 0x1fae763a2b0>"
      ]
     },
     "execution_count": 186,
     "metadata": {},
     "output_type": "execute_result"
    },
    {
     "data": {
      "image/png": "[encoded data removed]",
      "text/plain": [
       "<matplotlib.figure.Figure at 0x1fae7a78860>"
      ]
     },
     "metadata": {},
     "output_type": "display_data"
    }
   ],
   "source": [
    "plt.scatter(df_pp['viento_aparente'],df_pp['spd'])"
   ]
  },
  {
   "cell_type": "code",
   "execution_count": null,
   "metadata": {
    "collapsed": true
   },
   "outputs": [],
   "source": []
  }
 ],
 "metadata": {
  "kernelspec": {
   "display_name": "Python 3",
   "language": "python",
   "name": "python3"
  },
  "language_info": {
   "codemirror_mode": {
    "name": "ipython",
    "version": 3
   },
   "file_extension": ".py",
   "mimetype": "text/x-python",
   "name": "python",
   "nbconvert_exporter": "python",
   "pygments_lexer": "ipython3",
   "version": "3.6.1"
  }
 },
 "nbformat": 4,
 "nbformat_minor": 2
}
