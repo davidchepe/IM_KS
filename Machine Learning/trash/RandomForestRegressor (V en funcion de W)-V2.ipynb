{
 "cells": [
  {
   "cell_type": "code",
   "execution_count": 1,
   "metadata": {
    "collapsed": true
   },
   "outputs": [],
   "source": [
    "#La Potencia viene dada por la siguiente formula"
   ]
  },
  {
   "cell_type": "markdown",
   "metadata": {},
   "source": [
    "$P = \\frac{\\rho}{2}(V+wV)^2VCdA+(Cr+\\%)mgV$\n",
    "\n",
    "Dónde:\n",
    "\n",
    "P es la potencia necesaria\n",
    "\n",
    "$\\rho$ es la densidad del aire\n",
    "\n",
    "V es la velocidad\n",
    "\n",
    "wV es velocidad el viento\n",
    "\n",
    "Cd es el coeficiente de drag\n",
    "\n",
    "A es el área efectiva\n",
    "\n",
    "Cr es el coeficiente de rozamiento\n",
    "\n",
    "$\\%$ es la pendiente\n",
    "\n",
    "m es la masa total del conjunto bicicleta - ciclista"
   ]
  },
  {
   "cell_type": "code",
   "execution_count": 1,
   "metadata": {
    "collapsed": true
   },
   "outputs": [],
   "source": [
    "import os\n",
    "import pandas as pd\n",
    "import matplotlib.pylab as plt\n",
    "%matplotlib inline\n",
    "plt.style.use('seaborn')\n",
    "import numpy as np\n"
   ]
  },
  {
   "cell_type": "markdown",
   "metadata": {},
   "source": [
    "### Cargamos los datos"
   ]
  },
  {
   "cell_type": "code",
   "execution_count": 2,
   "metadata": {
    "collapsed": true
   },
   "outputs": [],
   "source": [
    "#path = '../Entrenamientos/result_tramos.xlsx'\n",
    "path = '../Entrenamientos/Procesado_Tramos.xlsx'"
   ]
  },
  {
   "cell_type": "code",
   "execution_count": 3,
   "metadata": {
    "collapsed": true
   },
   "outputs": [],
   "source": [
    "df = pd.read_excel(path)"
   ]
  },
  {
   "cell_type": "code",
   "execution_count": 4,
   "metadata": {},
   "outputs": [
    {
     "data": {
      "text/html": [
       "<div>\n",
       "<style>\n",
       "    .dataframe thead tr:only-child th {\n",
       "        text-align: right;\n",
       "    }\n",
       "\n",
       "    .dataframe thead th {\n",
       "        text-align: left;\n",
       "    }\n",
       "\n",
       "    .dataframe tbody tr th {\n",
       "        vertical-align: top;\n",
       "    }\n",
       "</style>\n",
       "<table border=\"1\" class=\"dataframe\">\n",
       "  <thead>\n",
       "    <tr style=\"text-align: right;\">\n",
       "      <th></th>\n",
       "      <th>tramo</th>\n",
       "      <th>tramo_inicial</th>\n",
       "      <th>tramo_final</th>\n",
       "      <th>pwr</th>\n",
       "      <th>time_seg</th>\n",
       "      <th>dist</th>\n",
       "      <th>spd</th>\n",
       "      <th>viento_aparente</th>\n",
       "      <th>porc</th>\n",
       "      <th>dist_acum</th>\n",
       "    </tr>\n",
       "  </thead>\n",
       "  <tbody>\n",
       "    <tr>\n",
       "      <th>count</th>\n",
       "      <td>286.000000</td>\n",
       "      <td>286.000000</td>\n",
       "      <td>286.000000</td>\n",
       "      <td>286.000000</td>\n",
       "      <td>286.000000</td>\n",
       "      <td>286.000000</td>\n",
       "      <td>286.000000</td>\n",
       "      <td>285.000000</td>\n",
       "      <td>286.000000</td>\n",
       "      <td>286.000000</td>\n",
       "    </tr>\n",
       "    <tr>\n",
       "      <th>mean</th>\n",
       "      <td>50.503497</td>\n",
       "      <td>3656.968531</td>\n",
       "      <td>3726.181818</td>\n",
       "      <td>165.837941</td>\n",
       "      <td>137.982517</td>\n",
       "      <td>953.702177</td>\n",
       "      <td>30.246377</td>\n",
       "      <td>-0.335772</td>\n",
       "      <td>inf</td>\n",
       "      <td>50939.603808</td>\n",
       "    </tr>\n",
       "    <tr>\n",
       "      <th>std</th>\n",
       "      <td>33.283129</td>\n",
       "      <td>2371.219515</td>\n",
       "      <td>2365.196496</td>\n",
       "      <td>68.757271</td>\n",
       "      <td>293.055632</td>\n",
       "      <td>1556.607132</td>\n",
       "      <td>9.291600</td>\n",
       "      <td>11.029186</td>\n",
       "      <td>NaN</td>\n",
       "      <td>32672.602243</td>\n",
       "    </tr>\n",
       "    <tr>\n",
       "      <th>min</th>\n",
       "      <td>0.000000</td>\n",
       "      <td>0.000000</td>\n",
       "      <td>12.000000</td>\n",
       "      <td>0.000000</td>\n",
       "      <td>1.000000</td>\n",
       "      <td>0.000000</td>\n",
       "      <td>0.000000</td>\n",
       "      <td>-22.370389</td>\n",
       "      <td>-6.677410</td>\n",
       "      <td>80.820019</td>\n",
       "    </tr>\n",
       "    <tr>\n",
       "      <th>25%</th>\n",
       "      <td>23.250000</td>\n",
       "      <td>1527.000000</td>\n",
       "      <td>1621.000000</td>\n",
       "      <td>111.587865</td>\n",
       "      <td>20.250000</td>\n",
       "      <td>129.987954</td>\n",
       "      <td>24.116650</td>\n",
       "      <td>-8.240294</td>\n",
       "      <td>-1.075459</td>\n",
       "      <td>21661.469741</td>\n",
       "    </tr>\n",
       "    <tr>\n",
       "      <th>50%</th>\n",
       "      <td>47.000000</td>\n",
       "      <td>3524.500000</td>\n",
       "      <td>3535.000000</td>\n",
       "      <td>172.968403</td>\n",
       "      <td>56.500000</td>\n",
       "      <td>465.926543</td>\n",
       "      <td>29.889560</td>\n",
       "      <td>-1.853252</td>\n",
       "      <td>-0.013285</td>\n",
       "      <td>49151.450030</td>\n",
       "    </tr>\n",
       "    <tr>\n",
       "      <th>75%</th>\n",
       "      <td>71.000000</td>\n",
       "      <td>6057.250000</td>\n",
       "      <td>6167.500000</td>\n",
       "      <td>220.269935</td>\n",
       "      <td>123.750000</td>\n",
       "      <td>900.805662</td>\n",
       "      <td>36.208949</td>\n",
       "      <td>7.204076</td>\n",
       "      <td>1.201687</td>\n",
       "      <td>84649.749962</td>\n",
       "    </tr>\n",
       "    <tr>\n",
       "      <th>max</th>\n",
       "      <td>130.000000</td>\n",
       "      <td>7796.000000</td>\n",
       "      <td>7830.000000</td>\n",
       "      <td>394.699287</td>\n",
       "      <td>2761.000000</td>\n",
       "      <td>10273.070042</td>\n",
       "      <td>64.800000</td>\n",
       "      <td>22.925885</td>\n",
       "      <td>inf</td>\n",
       "      <td>107610.184614</td>\n",
       "    </tr>\n",
       "  </tbody>\n",
       "</table>\n",
       "</div>"
      ],
      "text/plain": [
       "            tramo  tramo_inicial  tramo_final         pwr     time_seg  \\\n",
       "count  286.000000     286.000000   286.000000  286.000000   286.000000   \n",
       "mean    50.503497    3656.968531  3726.181818  165.837941   137.982517   \n",
       "std     33.283129    2371.219515  2365.196496   68.757271   293.055632   \n",
       "min      0.000000       0.000000    12.000000    0.000000     1.000000   \n",
       "25%     23.250000    1527.000000  1621.000000  111.587865    20.250000   \n",
       "50%     47.000000    3524.500000  3535.000000  172.968403    56.500000   \n",
       "75%     71.000000    6057.250000  6167.500000  220.269935   123.750000   \n",
       "max    130.000000    7796.000000  7830.000000  394.699287  2761.000000   \n",
       "\n",
       "               dist         spd  viento_aparente        porc      dist_acum  \n",
       "count    286.000000  286.000000       285.000000  286.000000     286.000000  \n",
       "mean     953.702177   30.246377        -0.335772         inf   50939.603808  \n",
       "std     1556.607132    9.291600        11.029186         NaN   32672.602243  \n",
       "min        0.000000    0.000000       -22.370389   -6.677410      80.820019  \n",
       "25%      129.987954   24.116650        -8.240294   -1.075459   21661.469741  \n",
       "50%      465.926543   29.889560        -1.853252   -0.013285   49151.450030  \n",
       "75%      900.805662   36.208949         7.204076    1.201687   84649.749962  \n",
       "max    10273.070042   64.800000        22.925885         inf  107610.184614  "
      ]
     },
     "execution_count": 4,
     "metadata": {},
     "output_type": "execute_result"
    }
   ],
   "source": [
    "df.describe()"
   ]
  },
  {
   "cell_type": "code",
   "execution_count": 5,
   "metadata": {
    "collapsed": true,
    "scrolled": true
   },
   "outputs": [],
   "source": [
    "df = df[df[\"viento_aparente\"]!=-np.inf]\n",
    "df = df[df[\"porc\"]!=np.inf]\n",
    "df[\"puntos_en_tramo\"]= df[\"tramo_final\"]-df[\"tramo_inicial\"]\n",
    "df = df[df[\"puntos_en_tramo\"]>9]"
   ]
  },
  {
   "cell_type": "code",
   "execution_count": 6,
   "metadata": {},
   "outputs": [
    {
     "data": {
      "text/html": [
       "<div>\n",
       "<style>\n",
       "    .dataframe thead tr:only-child th {\n",
       "        text-align: right;\n",
       "    }\n",
       "\n",
       "    .dataframe thead th {\n",
       "        text-align: left;\n",
       "    }\n",
       "\n",
       "    .dataframe tbody tr th {\n",
       "        vertical-align: top;\n",
       "    }\n",
       "</style>\n",
       "<table border=\"1\" class=\"dataframe\">\n",
       "  <thead>\n",
       "    <tr style=\"text-align: right;\">\n",
       "      <th></th>\n",
       "      <th>tramo</th>\n",
       "      <th>tramo_inicial</th>\n",
       "      <th>tramo_final</th>\n",
       "      <th>pwr</th>\n",
       "      <th>time_seg</th>\n",
       "      <th>dist</th>\n",
       "      <th>spd</th>\n",
       "      <th>viento_aparente</th>\n",
       "      <th>porc</th>\n",
       "      <th>dist_acum</th>\n",
       "      <th>puntos_en_tramo</th>\n",
       "    </tr>\n",
       "  </thead>\n",
       "  <tbody>\n",
       "    <tr>\n",
       "      <th>count</th>\n",
       "      <td>215.000000</td>\n",
       "      <td>215.000000</td>\n",
       "      <td>215.000000</td>\n",
       "      <td>215.000000</td>\n",
       "      <td>215.000000</td>\n",
       "      <td>215.000000</td>\n",
       "      <td>215.000000</td>\n",
       "      <td>215.000000</td>\n",
       "      <td>215.000000</td>\n",
       "      <td>215.000000</td>\n",
       "      <td>215.000000</td>\n",
       "    </tr>\n",
       "    <tr>\n",
       "      <th>mean</th>\n",
       "      <td>49.674419</td>\n",
       "      <td>3553.102326</td>\n",
       "      <td>3644.139535</td>\n",
       "      <td>168.405062</td>\n",
       "      <td>181.558140</td>\n",
       "      <td>1253.479693</td>\n",
       "      <td>30.288174</td>\n",
       "      <td>-0.219742</td>\n",
       "      <td>-0.062059</td>\n",
       "      <td>49790.914042</td>\n",
       "      <td>91.037209</td>\n",
       "    </tr>\n",
       "    <tr>\n",
       "      <th>std</th>\n",
       "      <td>33.872025</td>\n",
       "      <td>2375.163669</td>\n",
       "      <td>2370.575061</td>\n",
       "      <td>67.792295</td>\n",
       "      <td>326.618565</td>\n",
       "      <td>1691.957461</td>\n",
       "      <td>9.363247</td>\n",
       "      <td>11.340914</td>\n",
       "      <td>2.506405</td>\n",
       "      <td>32718.435405</td>\n",
       "      <td>124.793918</td>\n",
       "    </tr>\n",
       "    <tr>\n",
       "      <th>min</th>\n",
       "      <td>0.000000</td>\n",
       "      <td>0.000000</td>\n",
       "      <td>12.000000</td>\n",
       "      <td>12.155189</td>\n",
       "      <td>10.000000</td>\n",
       "      <td>86.820019</td>\n",
       "      <td>0.770052</td>\n",
       "      <td>-22.370389</td>\n",
       "      <td>-6.677410</td>\n",
       "      <td>80.820019</td>\n",
       "      <td>10.000000</td>\n",
       "    </tr>\n",
       "    <tr>\n",
       "      <th>25%</th>\n",
       "      <td>21.000000</td>\n",
       "      <td>1385.500000</td>\n",
       "      <td>1517.000000</td>\n",
       "      <td>117.315016</td>\n",
       "      <td>47.000000</td>\n",
       "      <td>398.384971</td>\n",
       "      <td>23.897223</td>\n",
       "      <td>-8.426241</td>\n",
       "      <td>-1.777627</td>\n",
       "      <td>20240.734819</td>\n",
       "      <td>26.000000</td>\n",
       "    </tr>\n",
       "    <tr>\n",
       "      <th>50%</th>\n",
       "      <td>47.000000</td>\n",
       "      <td>3489.000000</td>\n",
       "      <td>3538.000000</td>\n",
       "      <td>175.227708</td>\n",
       "      <td>75.000000</td>\n",
       "      <td>604.979958</td>\n",
       "      <td>29.712799</td>\n",
       "      <td>-1.141445</td>\n",
       "      <td>-0.303818</td>\n",
       "      <td>48515.000000</td>\n",
       "      <td>46.000000</td>\n",
       "    </tr>\n",
       "    <tr>\n",
       "      <th>75%</th>\n",
       "      <td>70.500000</td>\n",
       "      <td>5860.500000</td>\n",
       "      <td>6115.000000</td>\n",
       "      <td>224.175701</td>\n",
       "      <td>164.000000</td>\n",
       "      <td>1195.848355</td>\n",
       "      <td>36.520518</td>\n",
       "      <td>7.201207</td>\n",
       "      <td>1.727781</td>\n",
       "      <td>83865.653203</td>\n",
       "      <td>88.500000</td>\n",
       "    </tr>\n",
       "    <tr>\n",
       "      <th>max</th>\n",
       "      <td>130.000000</td>\n",
       "      <td>7796.000000</td>\n",
       "      <td>7830.000000</td>\n",
       "      <td>278.282728</td>\n",
       "      <td>2761.000000</td>\n",
       "      <td>10273.070042</td>\n",
       "      <td>52.825966</td>\n",
       "      <td>22.920272</td>\n",
       "      <td>7.137195</td>\n",
       "      <td>107610.184614</td>\n",
       "      <td>796.000000</td>\n",
       "    </tr>\n",
       "  </tbody>\n",
       "</table>\n",
       "</div>"
      ],
      "text/plain": [
       "            tramo  tramo_inicial  tramo_final         pwr     time_seg  \\\n",
       "count  215.000000     215.000000   215.000000  215.000000   215.000000   \n",
       "mean    49.674419    3553.102326  3644.139535  168.405062   181.558140   \n",
       "std     33.872025    2375.163669  2370.575061   67.792295   326.618565   \n",
       "min      0.000000       0.000000    12.000000   12.155189    10.000000   \n",
       "25%     21.000000    1385.500000  1517.000000  117.315016    47.000000   \n",
       "50%     47.000000    3489.000000  3538.000000  175.227708    75.000000   \n",
       "75%     70.500000    5860.500000  6115.000000  224.175701   164.000000   \n",
       "max    130.000000    7796.000000  7830.000000  278.282728  2761.000000   \n",
       "\n",
       "               dist         spd  viento_aparente        porc      dist_acum  \\\n",
       "count    215.000000  215.000000       215.000000  215.000000     215.000000   \n",
       "mean    1253.479693   30.288174        -0.219742   -0.062059   49790.914042   \n",
       "std     1691.957461    9.363247        11.340914    2.506405   32718.435405   \n",
       "min       86.820019    0.770052       -22.370389   -6.677410      80.820019   \n",
       "25%      398.384971   23.897223        -8.426241   -1.777627   20240.734819   \n",
       "50%      604.979958   29.712799        -1.141445   -0.303818   48515.000000   \n",
       "75%     1195.848355   36.520518         7.201207    1.727781   83865.653203   \n",
       "max    10273.070042   52.825966        22.920272    7.137195  107610.184614   \n",
       "\n",
       "       puntos_en_tramo  \n",
       "count       215.000000  \n",
       "mean         91.037209  \n",
       "std         124.793918  \n",
       "min          10.000000  \n",
       "25%          26.000000  \n",
       "50%          46.000000  \n",
       "75%          88.500000  \n",
       "max         796.000000  "
      ]
     },
     "execution_count": 6,
     "metadata": {},
     "output_type": "execute_result"
    }
   ],
   "source": [
    "df.describe()"
   ]
  },
  {
   "cell_type": "code",
   "execution_count": 7,
   "metadata": {},
   "outputs": [
    {
     "data": {
      "text/html": [
       "<div>\n",
       "<style>\n",
       "    .dataframe thead tr:only-child th {\n",
       "        text-align: right;\n",
       "    }\n",
       "\n",
       "    .dataframe thead th {\n",
       "        text-align: left;\n",
       "    }\n",
       "\n",
       "    .dataframe tbody tr th {\n",
       "        vertical-align: top;\n",
       "    }\n",
       "</style>\n",
       "<table border=\"1\" class=\"dataframe\">\n",
       "  <thead>\n",
       "    <tr style=\"text-align: right;\">\n",
       "      <th></th>\n",
       "      <th>tramo</th>\n",
       "      <th>tramo_inicial</th>\n",
       "      <th>tramo_final</th>\n",
       "      <th>pwr</th>\n",
       "      <th>time_seg</th>\n",
       "      <th>dist</th>\n",
       "      <th>spd</th>\n",
       "      <th>viento_aparente</th>\n",
       "      <th>porc</th>\n",
       "      <th>dist_acum</th>\n",
       "      <th>prueba</th>\n",
       "      <th>puntos_en_tramo</th>\n",
       "    </tr>\n",
       "  </thead>\n",
       "  <tbody>\n",
       "    <tr>\n",
       "      <th>0</th>\n",
       "      <td>0</td>\n",
       "      <td>0</td>\n",
       "      <td>65</td>\n",
       "      <td>74.149017</td>\n",
       "      <td>106</td>\n",
       "      <td>966.000000</td>\n",
       "      <td>32.807547</td>\n",
       "      <td>6.555296</td>\n",
       "      <td>-3.377386</td>\n",
       "      <td>948.878610</td>\n",
       "      <td>20180406_LEVS_195_90_R_E.gpx</td>\n",
       "      <td>65</td>\n",
       "    </tr>\n",
       "    <tr>\n",
       "      <th>1</th>\n",
       "      <td>1</td>\n",
       "      <td>65</td>\n",
       "      <td>432</td>\n",
       "      <td>255.588127</td>\n",
       "      <td>980</td>\n",
       "      <td>4819.000000</td>\n",
       "      <td>17.702449</td>\n",
       "      <td>7.198339</td>\n",
       "      <td>4.181100</td>\n",
       "      <td>5773.000000</td>\n",
       "      <td>20180406_LEVS_195_90_R_E.gpx</td>\n",
       "      <td>367</td>\n",
       "    </tr>\n",
       "    <tr>\n",
       "      <th>2</th>\n",
       "      <td>2</td>\n",
       "      <td>432</td>\n",
       "      <td>468</td>\n",
       "      <td>151.469326</td>\n",
       "      <td>44</td>\n",
       "      <td>473.935824</td>\n",
       "      <td>38.776567</td>\n",
       "      <td>8.577246</td>\n",
       "      <td>-1.737873</td>\n",
       "      <td>6248.289894</td>\n",
       "      <td>20180406_LEVS_195_90_R_E.gpx</td>\n",
       "      <td>36</td>\n",
       "    </tr>\n",
       "    <tr>\n",
       "      <th>3</th>\n",
       "      <td>3</td>\n",
       "      <td>468</td>\n",
       "      <td>532</td>\n",
       "      <td>249.872906</td>\n",
       "      <td>120</td>\n",
       "      <td>813.223602</td>\n",
       "      <td>24.396708</td>\n",
       "      <td>8.332607</td>\n",
       "      <td>2.662585</td>\n",
       "      <td>7051.000000</td>\n",
       "      <td>20180406_LEVS_195_90_R_E.gpx</td>\n",
       "      <td>64</td>\n",
       "    </tr>\n",
       "    <tr>\n",
       "      <th>4</th>\n",
       "      <td>4</td>\n",
       "      <td>532</td>\n",
       "      <td>548</td>\n",
       "      <td>155.606266</td>\n",
       "      <td>21</td>\n",
       "      <td>206.720563</td>\n",
       "      <td>35.437811</td>\n",
       "      <td>8.261735</td>\n",
       "      <td>-0.873144</td>\n",
       "      <td>7270.977145</td>\n",
       "      <td>20180406_LEVS_195_90_R_E.gpx</td>\n",
       "      <td>16</td>\n",
       "    </tr>\n",
       "  </tbody>\n",
       "</table>\n",
       "</div>"
      ],
      "text/plain": [
       "   tramo  tramo_inicial  tramo_final         pwr  time_seg         dist  \\\n",
       "0      0              0           65   74.149017       106   966.000000   \n",
       "1      1             65          432  255.588127       980  4819.000000   \n",
       "2      2            432          468  151.469326        44   473.935824   \n",
       "3      3            468          532  249.872906       120   813.223602   \n",
       "4      4            532          548  155.606266        21   206.720563   \n",
       "\n",
       "         spd  viento_aparente      porc    dist_acum  \\\n",
       "0  32.807547         6.555296 -3.377386   948.878610   \n",
       "1  17.702449         7.198339  4.181100  5773.000000   \n",
       "2  38.776567         8.577246 -1.737873  6248.289894   \n",
       "3  24.396708         8.332607  2.662585  7051.000000   \n",
       "4  35.437811         8.261735 -0.873144  7270.977145   \n",
       "\n",
       "                         prueba  puntos_en_tramo  \n",
       "0  20180406_LEVS_195_90_R_E.gpx               65  \n",
       "1  20180406_LEVS_195_90_R_E.gpx              367  \n",
       "2  20180406_LEVS_195_90_R_E.gpx               36  \n",
       "3  20180406_LEVS_195_90_R_E.gpx               64  \n",
       "4  20180406_LEVS_195_90_R_E.gpx               16  "
      ]
     },
     "execution_count": 7,
     "metadata": {},
     "output_type": "execute_result"
    }
   ],
   "source": [
    "df.head()"
   ]
  },
  {
   "cell_type": "code",
   "execution_count": 74,
   "metadata": {
    "collapsed": true
   },
   "outputs": [],
   "source": [
    "# Target=Spd"
   ]
  },
  {
   "cell_type": "code",
   "execution_count": 8,
   "metadata": {
    "collapsed": true
   },
   "outputs": [],
   "source": [
    "df_lm = df[['pwr','spd','porc','viento_aparente']]"
   ]
  },
  {
   "cell_type": "markdown",
   "metadata": {
    "collapsed": true
   },
   "source": [
    "df_lm_x = df[['pwr','porc','viento_aparente']]\n",
    "df_lm_y = df[['spd']]"
   ]
  },
  {
   "cell_type": "code",
   "execution_count": 10,
   "metadata": {},
   "outputs": [
    {
     "name": "stderr",
     "output_type": "stream",
     "text": [
      "C:\\Users\\David\\Anaconda3\\lib\\site-packages\\ipykernel_launcher.py:1: SettingWithCopyWarning: \n",
      "A value is trying to be set on a copy of a slice from a DataFrame.\n",
      "Try using .loc[row_indexer,col_indexer] = value instead\n",
      "\n",
      "See the caveats in the documentation: http://pandas.pydata.org/pandas-docs/stable/indexing.html#indexing-view-versus-copy\n",
      "  \"\"\"Entry point for launching an IPython kernel.\n",
      "C:\\Users\\David\\Anaconda3\\lib\\site-packages\\ipykernel_launcher.py:2: SettingWithCopyWarning: \n",
      "A value is trying to be set on a copy of a slice from a DataFrame.\n",
      "Try using .loc[row_indexer,col_indexer] = value instead\n",
      "\n",
      "See the caveats in the documentation: http://pandas.pydata.org/pandas-docs/stable/indexing.html#indexing-view-versus-copy\n",
      "  \n",
      "C:\\Users\\David\\Anaconda3\\lib\\site-packages\\ipykernel_launcher.py:3: SettingWithCopyWarning: \n",
      "A value is trying to be set on a copy of a slice from a DataFrame.\n",
      "Try using .loc[row_indexer,col_indexer] = value instead\n",
      "\n",
      "See the caveats in the documentation: http://pandas.pydata.org/pandas-docs/stable/indexing.html#indexing-view-versus-copy\n",
      "  This is separate from the ipykernel package so we can avoid doing imports until\n"
     ]
    }
   ],
   "source": [
    "df_lm['pwrsqrt'] = np.sqrt(df['pwr'])\n",
    "df_lm['pwr_porc'] = np.sqrt(df['pwr'])+(df['porc']/100)**2\n",
    "df_lm['pwr_viento'] = np.sqrt(df['pwr'])+df['viento_aparente']**3"
   ]
  },
  {
   "cell_type": "code",
   "execution_count": 12,
   "metadata": {},
   "outputs": [],
   "source": [
    "df_lm_x = df_lm[['pwrsqrt','pwr_porc','pwr_viento']]\n",
    "df_lm_y = df[['spd']]"
   ]
  },
  {
   "cell_type": "code",
   "execution_count": null,
   "metadata": {
    "collapsed": true
   },
   "outputs": [],
   "source": []
  },
  {
   "cell_type": "code",
   "execution_count": null,
   "metadata": {
    "collapsed": true
   },
   "outputs": [],
   "source": []
  },
  {
   "cell_type": "code",
   "execution_count": null,
   "metadata": {
    "collapsed": true
   },
   "outputs": [],
   "source": []
  },
  {
   "cell_type": "code",
   "execution_count": 13,
   "metadata": {
    "collapsed": true
   },
   "outputs": [
    {
     "data": {
      "text/html": [
       "<div>\n",
       "<style>\n",
       "    .dataframe thead tr:only-child th {\n",
       "        text-align: right;\n",
       "    }\n",
       "\n",
       "    .dataframe thead th {\n",
       "        text-align: left;\n",
       "    }\n",
       "\n",
       "    .dataframe tbody tr th {\n",
       "        vertical-align: top;\n",
       "    }\n",
       "</style>\n",
       "<table border=\"1\" class=\"dataframe\">\n",
       "  <thead>\n",
       "    <tr style=\"text-align: right;\">\n",
       "      <th></th>\n",
       "      <th>pwrsqrt</th>\n",
       "      <th>pwr_porc</th>\n",
       "      <th>pwr_viento</th>\n",
       "    </tr>\n",
       "  </thead>\n",
       "  <tbody>\n",
       "    <tr>\n",
       "      <th>0</th>\n",
       "      <td>8.610982</td>\n",
       "      <td>8.612123</td>\n",
       "      <td>290.304534</td>\n",
       "    </tr>\n",
       "    <tr>\n",
       "      <th>1</th>\n",
       "      <td>15.987124</td>\n",
       "      <td>15.988872</td>\n",
       "      <td>388.976809</td>\n",
       "    </tr>\n",
       "    <tr>\n",
       "      <th>2</th>\n",
       "      <td>12.307288</td>\n",
       "      <td>12.307590</td>\n",
       "      <td>643.327876</td>\n",
       "    </tr>\n",
       "    <tr>\n",
       "      <th>3</th>\n",
       "      <td>15.807369</td>\n",
       "      <td>15.808078</td>\n",
       "      <td>594.359743</td>\n",
       "    </tr>\n",
       "    <tr>\n",
       "      <th>4</th>\n",
       "      <td>12.474224</td>\n",
       "      <td>12.474300</td>\n",
       "      <td>576.389389</td>\n",
       "    </tr>\n",
       "    <tr>\n",
       "      <th>5</th>\n",
       "      <td>14.695819</td>\n",
       "      <td>14.696064</td>\n",
       "      <td>537.845834</td>\n",
       "    </tr>\n",
       "    <tr>\n",
       "      <th>6</th>\n",
       "      <td>8.957237</td>\n",
       "      <td>8.957537</td>\n",
       "      <td>634.561768</td>\n",
       "    </tr>\n",
       "    <tr>\n",
       "      <th>7</th>\n",
       "      <td>14.833071</td>\n",
       "      <td>14.833523</td>\n",
       "      <td>375.111556</td>\n",
       "    </tr>\n",
       "    <tr>\n",
       "      <th>8</th>\n",
       "      <td>9.275018</td>\n",
       "      <td>9.275235</td>\n",
       "      <td>400.682974</td>\n",
       "    </tr>\n",
       "    <tr>\n",
       "      <th>9</th>\n",
       "      <td>14.256297</td>\n",
       "      <td>14.256387</td>\n",
       "      <td>205.527472</td>\n",
       "    </tr>\n",
       "    <tr>\n",
       "      <th>10</th>\n",
       "      <td>7.112883</td>\n",
       "      <td>7.113478</td>\n",
       "      <td>53.809995</td>\n",
       "    </tr>\n",
       "    <tr>\n",
       "      <th>11</th>\n",
       "      <td>13.143316</td>\n",
       "      <td>13.143484</td>\n",
       "      <td>287.284302</td>\n",
       "    </tr>\n",
       "    <tr>\n",
       "      <th>14</th>\n",
       "      <td>7.293839</td>\n",
       "      <td>7.293849</td>\n",
       "      <td>7.760383</td>\n",
       "    </tr>\n",
       "    <tr>\n",
       "      <th>15</th>\n",
       "      <td>14.166665</td>\n",
       "      <td>14.167420</td>\n",
       "      <td>13.582213</td>\n",
       "    </tr>\n",
       "    <tr>\n",
       "      <th>16</th>\n",
       "      <td>9.671085</td>\n",
       "      <td>9.671254</td>\n",
       "      <td>593.654903</td>\n",
       "    </tr>\n",
       "    <tr>\n",
       "      <th>17</th>\n",
       "      <td>14.885835</td>\n",
       "      <td>14.885924</td>\n",
       "      <td>433.863115</td>\n",
       "    </tr>\n",
       "    <tr>\n",
       "      <th>18</th>\n",
       "      <td>11.917681</td>\n",
       "      <td>11.917684</td>\n",
       "      <td>617.470815</td>\n",
       "    </tr>\n",
       "    <tr>\n",
       "      <th>19</th>\n",
       "      <td>15.468171</td>\n",
       "      <td>15.469200</td>\n",
       "      <td>225.485328</td>\n",
       "    </tr>\n",
       "    <tr>\n",
       "      <th>20</th>\n",
       "      <td>11.249455</td>\n",
       "      <td>11.249475</td>\n",
       "      <td>385.131759</td>\n",
       "    </tr>\n",
       "    <tr>\n",
       "      <th>21</th>\n",
       "      <td>15.616728</td>\n",
       "      <td>15.621822</td>\n",
       "      <td>31.546283</td>\n",
       "    </tr>\n",
       "    <tr>\n",
       "      <th>22</th>\n",
       "      <td>7.448345</td>\n",
       "      <td>7.452803</td>\n",
       "      <td>7.448343</td>\n",
       "    </tr>\n",
       "    <tr>\n",
       "      <th>23</th>\n",
       "      <td>14.173317</td>\n",
       "      <td>14.174971</td>\n",
       "      <td>207.651619</td>\n",
       "    </tr>\n",
       "    <tr>\n",
       "      <th>24</th>\n",
       "      <td>9.403293</td>\n",
       "      <td>9.403456</td>\n",
       "      <td>218.826736</td>\n",
       "    </tr>\n",
       "    <tr>\n",
       "      <th>25</th>\n",
       "      <td>11.250839</td>\n",
       "      <td>11.250956</td>\n",
       "      <td>59.145117</td>\n",
       "    </tr>\n",
       "    <tr>\n",
       "      <th>30</th>\n",
       "      <td>9.223946</td>\n",
       "      <td>9.224033</td>\n",
       "      <td>213.826249</td>\n",
       "    </tr>\n",
       "    <tr>\n",
       "      <th>31</th>\n",
       "      <td>14.909438</td>\n",
       "      <td>14.912884</td>\n",
       "      <td>189.846136</td>\n",
       "    </tr>\n",
       "    <tr>\n",
       "      <th>32</th>\n",
       "      <td>7.626935</td>\n",
       "      <td>7.630211</td>\n",
       "      <td>-174.056781</td>\n",
       "    </tr>\n",
       "    <tr>\n",
       "      <th>33</th>\n",
       "      <td>15.449328</td>\n",
       "      <td>15.449853</td>\n",
       "      <td>15.236639</td>\n",
       "    </tr>\n",
       "    <tr>\n",
       "      <th>34</th>\n",
       "      <td>12.884909</td>\n",
       "      <td>12.885759</td>\n",
       "      <td>9.392353</td>\n",
       "    </tr>\n",
       "    <tr>\n",
       "      <th>35</th>\n",
       "      <td>14.676554</td>\n",
       "      <td>14.680739</td>\n",
       "      <td>171.175290</td>\n",
       "    </tr>\n",
       "    <tr>\n",
       "      <th>...</th>\n",
       "      <td>...</td>\n",
       "      <td>...</td>\n",
       "      <td>...</td>\n",
       "    </tr>\n",
       "    <tr>\n",
       "      <th>37</th>\n",
       "      <td>15.655871</td>\n",
       "      <td>15.656792</td>\n",
       "      <td>-378.658295</td>\n",
       "    </tr>\n",
       "    <tr>\n",
       "      <th>38</th>\n",
       "      <td>9.953306</td>\n",
       "      <td>9.953860</td>\n",
       "      <td>-828.852049</td>\n",
       "    </tr>\n",
       "    <tr>\n",
       "      <th>39</th>\n",
       "      <td>16.088104</td>\n",
       "      <td>16.090376</td>\n",
       "      <td>-756.362995</td>\n",
       "    </tr>\n",
       "    <tr>\n",
       "      <th>40</th>\n",
       "      <td>10.259384</td>\n",
       "      <td>10.261220</td>\n",
       "      <td>919.310335</td>\n",
       "    </tr>\n",
       "    <tr>\n",
       "      <th>41</th>\n",
       "      <td>15.797995</td>\n",
       "      <td>15.798530</td>\n",
       "      <td>896.378577</td>\n",
       "    </tr>\n",
       "    <tr>\n",
       "      <th>42</th>\n",
       "      <td>11.296748</td>\n",
       "      <td>11.297767</td>\n",
       "      <td>365.906087</td>\n",
       "    </tr>\n",
       "    <tr>\n",
       "      <th>43</th>\n",
       "      <td>15.992959</td>\n",
       "      <td>15.994605</td>\n",
       "      <td>452.143529</td>\n",
       "    </tr>\n",
       "    <tr>\n",
       "      <th>49</th>\n",
       "      <td>14.335482</td>\n",
       "      <td>14.335556</td>\n",
       "      <td>880.395935</td>\n",
       "    </tr>\n",
       "    <tr>\n",
       "      <th>50</th>\n",
       "      <td>13.721940</td>\n",
       "      <td>13.721976</td>\n",
       "      <td>505.832338</td>\n",
       "    </tr>\n",
       "    <tr>\n",
       "      <th>51</th>\n",
       "      <td>15.144567</td>\n",
       "      <td>15.145315</td>\n",
       "      <td>511.357890</td>\n",
       "    </tr>\n",
       "    <tr>\n",
       "      <th>52</th>\n",
       "      <td>11.100133</td>\n",
       "      <td>11.101207</td>\n",
       "      <td>852.657773</td>\n",
       "    </tr>\n",
       "    <tr>\n",
       "      <th>53</th>\n",
       "      <td>15.072654</td>\n",
       "      <td>15.073634</td>\n",
       "      <td>888.600269</td>\n",
       "    </tr>\n",
       "    <tr>\n",
       "      <th>54</th>\n",
       "      <td>10.440383</td>\n",
       "      <td>10.440400</td>\n",
       "      <td>682.179578</td>\n",
       "    </tr>\n",
       "    <tr>\n",
       "      <th>55</th>\n",
       "      <td>13.909488</td>\n",
       "      <td>13.909572</td>\n",
       "      <td>847.812699</td>\n",
       "    </tr>\n",
       "    <tr>\n",
       "      <th>56</th>\n",
       "      <td>11.033959</td>\n",
       "      <td>11.034417</td>\n",
       "      <td>853.683328</td>\n",
       "    </tr>\n",
       "    <tr>\n",
       "      <th>58</th>\n",
       "      <td>11.935794</td>\n",
       "      <td>11.937266</td>\n",
       "      <td>11.282343</td>\n",
       "    </tr>\n",
       "    <tr>\n",
       "      <th>60</th>\n",
       "      <td>12.263283</td>\n",
       "      <td>12.263760</td>\n",
       "      <td>81.513803</td>\n",
       "    </tr>\n",
       "    <tr>\n",
       "      <th>61</th>\n",
       "      <td>15.567915</td>\n",
       "      <td>15.569313</td>\n",
       "      <td>952.098393</td>\n",
       "    </tr>\n",
       "    <tr>\n",
       "      <th>62</th>\n",
       "      <td>13.793511</td>\n",
       "      <td>13.794025</td>\n",
       "      <td>13.840591</td>\n",
       "    </tr>\n",
       "    <tr>\n",
       "      <th>64</th>\n",
       "      <td>11.160311</td>\n",
       "      <td>11.161774</td>\n",
       "      <td>272.037333</td>\n",
       "    </tr>\n",
       "    <tr>\n",
       "      <th>65</th>\n",
       "      <td>16.284049</td>\n",
       "      <td>16.284472</td>\n",
       "      <td>111.915592</td>\n",
       "    </tr>\n",
       "    <tr>\n",
       "      <th>66</th>\n",
       "      <td>13.202461</td>\n",
       "      <td>13.203404</td>\n",
       "      <td>-418.339274</td>\n",
       "    </tr>\n",
       "    <tr>\n",
       "      <th>68</th>\n",
       "      <td>13.349893</td>\n",
       "      <td>13.350340</td>\n",
       "      <td>-30.305730</td>\n",
       "    </tr>\n",
       "    <tr>\n",
       "      <th>69</th>\n",
       "      <td>16.681808</td>\n",
       "      <td>16.681877</td>\n",
       "      <td>-38.197327</td>\n",
       "    </tr>\n",
       "    <tr>\n",
       "      <th>70</th>\n",
       "      <td>14.626588</td>\n",
       "      <td>14.626865</td>\n",
       "      <td>-43.595754</td>\n",
       "    </tr>\n",
       "    <tr>\n",
       "      <th>72</th>\n",
       "      <td>9.986746</td>\n",
       "      <td>9.986846</td>\n",
       "      <td>-40.656349</td>\n",
       "    </tr>\n",
       "    <tr>\n",
       "      <th>73</th>\n",
       "      <td>12.733265</td>\n",
       "      <td>12.733284</td>\n",
       "      <td>-3.355342</td>\n",
       "    </tr>\n",
       "    <tr>\n",
       "      <th>75</th>\n",
       "      <td>13.596828</td>\n",
       "      <td>13.596945</td>\n",
       "      <td>14.038109</td>\n",
       "    </tr>\n",
       "    <tr>\n",
       "      <th>76</th>\n",
       "      <td>8.511342</td>\n",
       "      <td>8.511458</td>\n",
       "      <td>49.801585</td>\n",
       "    </tr>\n",
       "    <tr>\n",
       "      <th>77</th>\n",
       "      <td>14.844300</td>\n",
       "      <td>14.844836</td>\n",
       "      <td>-150.276754</td>\n",
       "    </tr>\n",
       "  </tbody>\n",
       "</table>\n",
       "<p>215 rows × 3 columns</p>\n",
       "</div>"
      ],
      "text/plain": [
       "      pwrsqrt   pwr_porc  pwr_viento\n",
       "0    8.610982   8.612123  290.304534\n",
       "1   15.987124  15.988872  388.976809\n",
       "2   12.307288  12.307590  643.327876\n",
       "3   15.807369  15.808078  594.359743\n",
       "4   12.474224  12.474300  576.389389\n",
       "5   14.695819  14.696064  537.845834\n",
       "6    8.957237   8.957537  634.561768\n",
       "7   14.833071  14.833523  375.111556\n",
       "8    9.275018   9.275235  400.682974\n",
       "9   14.256297  14.256387  205.527472\n",
       "10   7.112883   7.113478   53.809995\n",
       "11  13.143316  13.143484  287.284302\n",
       "14   7.293839   7.293849    7.760383\n",
       "15  14.166665  14.167420   13.582213\n",
       "16   9.671085   9.671254  593.654903\n",
       "17  14.885835  14.885924  433.863115\n",
       "18  11.917681  11.917684  617.470815\n",
       "19  15.468171  15.469200  225.485328\n",
       "20  11.249455  11.249475  385.131759\n",
       "21  15.616728  15.621822   31.546283\n",
       "22   7.448345   7.452803    7.448343\n",
       "23  14.173317  14.174971  207.651619\n",
       "24   9.403293   9.403456  218.826736\n",
       "25  11.250839  11.250956   59.145117\n",
       "30   9.223946   9.224033  213.826249\n",
       "31  14.909438  14.912884  189.846136\n",
       "32   7.626935   7.630211 -174.056781\n",
       "33  15.449328  15.449853   15.236639\n",
       "34  12.884909  12.885759    9.392353\n",
       "35  14.676554  14.680739  171.175290\n",
       "..        ...        ...         ...\n",
       "37  15.655871  15.656792 -378.658295\n",
       "38   9.953306   9.953860 -828.852049\n",
       "39  16.088104  16.090376 -756.362995\n",
       "40  10.259384  10.261220  919.310335\n",
       "41  15.797995  15.798530  896.378577\n",
       "42  11.296748  11.297767  365.906087\n",
       "43  15.992959  15.994605  452.143529\n",
       "49  14.335482  14.335556  880.395935\n",
       "50  13.721940  13.721976  505.832338\n",
       "51  15.144567  15.145315  511.357890\n",
       "52  11.100133  11.101207  852.657773\n",
       "53  15.072654  15.073634  888.600269\n",
       "54  10.440383  10.440400  682.179578\n",
       "55  13.909488  13.909572  847.812699\n",
       "56  11.033959  11.034417  853.683328\n",
       "58  11.935794  11.937266   11.282343\n",
       "60  12.263283  12.263760   81.513803\n",
       "61  15.567915  15.569313  952.098393\n",
       "62  13.793511  13.794025   13.840591\n",
       "64  11.160311  11.161774  272.037333\n",
       "65  16.284049  16.284472  111.915592\n",
       "66  13.202461  13.203404 -418.339274\n",
       "68  13.349893  13.350340  -30.305730\n",
       "69  16.681808  16.681877  -38.197327\n",
       "70  14.626588  14.626865  -43.595754\n",
       "72   9.986746   9.986846  -40.656349\n",
       "73  12.733265  12.733284   -3.355342\n",
       "75  13.596828  13.596945   14.038109\n",
       "76   8.511342   8.511458   49.801585\n",
       "77  14.844300  14.844836 -150.276754\n",
       "\n",
       "[215 rows x 3 columns]"
      ]
     },
     "execution_count": 13,
     "metadata": {},
     "output_type": "execute_result"
    }
   ],
   "source": [
    "df_lm_x"
   ]
  },
  {
   "cell_type": "code",
   "execution_count": 14,
   "metadata": {
    "collapsed": true
   },
   "outputs": [],
   "source": [
    "from sklearn.model_selection import train_test_split\n",
    "X_train, X_test, Y_train, Y_test = train_test_split(df_lm_x, df_lm_y, test_size=0.30, random_state=42)"
   ]
  },
  {
   "cell_type": "markdown",
   "metadata": {},
   "source": [
    "### RandomForestRegressor"
   ]
  },
  {
   "cell_type": "code",
   "execution_count": 15,
   "metadata": {
    "collapsed": true
   },
   "outputs": [],
   "source": [
    "from sklearn.ensemble import RandomForestRegressor\n",
    "from sklearn.model_selection import cross_val_score"
   ]
  },
  {
   "cell_type": "code",
   "execution_count": 16,
   "metadata": {
    "collapsed": true
   },
   "outputs": [],
   "source": [
    "rf = RandomForestRegressor(max_features=2, min_samples_split=4, n_estimators=50, min_samples_leaf=2)"
   ]
  },
  {
   "cell_type": "code",
   "execution_count": 17,
   "metadata": {
    "collapsed": true
   },
   "outputs": [
    {
     "name": "stderr",
     "output_type": "stream",
     "text": [
      "C:\\Users\\David\\Anaconda3\\lib\\site-packages\\ipykernel_launcher.py:1: DataConversionWarning: A column-vector y was passed when a 1d array was expected. Please change the shape of y to (n_samples,), for example using ravel().\n",
      "  \"\"\"Entry point for launching an IPython kernel.\n"
     ]
    },
    {
     "data": {
      "text/plain": [
       "[<matplotlib.lines.Line2D at 0x152271cd860>]"
      ]
     },
     "execution_count": 17,
     "metadata": {},
     "output_type": "execute_result"
    },
    {
     "data": {
      "image/png": "[encoded data removed]",
      "text/plain": [
       "<matplotlib.figure.Figure at 0x152271172e8>"
      ]
     },
     "metadata": {},
     "output_type": "display_data"
    }
   ],
   "source": [
    "rf.fit(X_train, Y_train)\n",
    "Y_pred = rf.predict(X_test)\n",
    "plt.scatter(Y_test, Y_pred)\n",
    "plt.plot( [0,50],[0,50], c=\"red\" )"
   ]
  },
  {
   "cell_type": "code",
   "execution_count": 18,
   "metadata": {},
   "outputs": [
    {
     "name": "stdout",
     "output_type": "stream",
     "text": [
      "91.2257865053\n",
      "-0.0268295146665\n",
      "[ 0.34438094  0.38094402  0.27467504]\n"
     ]
    }
   ],
   "source": [
    "from sklearn.metrics import explained_variance_score\n",
    "from sklearn.metrics import mean_squared_error\n",
    "\n",
    "\n",
    "print(mean_squared_error(Y_test,Y_pred))\n",
    "print(explained_variance_score(Y_test, Y_pred))\n",
    "print(rf.feature_importances_)"
   ]
  },
  {
   "cell_type": "markdown",
   "metadata": {},
   "source": [
    "### Preprocesamos y comparamos resultados con RFR"
   ]
  },
  {
   "cell_type": "code",
   "execution_count": 19,
   "metadata": {
    "collapsed": true
   },
   "outputs": [],
   "source": [
    "from sklearn.preprocessing import RobustScaler"
   ]
  },
  {
   "cell_type": "code",
   "execution_count": 20,
   "metadata": {
    "collapsed": true
   },
   "outputs": [],
   "source": [
    "from sklearn.model_selection import train_test_split\n",
    "X_train, X_test, Y_train, Y_test = train_test_split(df_lm_x, df_lm_y, test_size=0.30, random_state=42)"
   ]
  },
  {
   "cell_type": "code",
   "execution_count": 21,
   "metadata": {
    "collapsed": true
   },
   "outputs": [],
   "source": [
    "modelo_rs = RobustScaler()"
   ]
  },
  {
   "cell_type": "code",
   "execution_count": 22,
   "metadata": {
    "collapsed": true
   },
   "outputs": [],
   "source": [
    "X_train_rs = modelo_rs.fit_transform(X_train)"
   ]
  },
  {
   "cell_type": "code",
   "execution_count": 23,
   "metadata": {
    "collapsed": true
   },
   "outputs": [
    {
     "data": {
      "text/plain": [
       "array([[  1.73628701e-01,   1.73602788e-01,   8.51665467e-01],\n",
       "       [ -1.31315891e+00,  -1.31348235e+00,  -6.53677432e+00],\n",
       "       [  7.14588166e-01,   7.15073536e-01,   1.08438653e-01],\n",
       "       [ -9.19457889e-02,  -9.20068661e-02,   1.20134545e+01],\n",
       "       [  5.07313540e-01,   5.07361087e-01,  -9.55267808e-01],\n",
       "       [ -4.86794266e-01,  -4.86957304e-01,  -4.68292753e-01],\n",
       "       [ -1.25710257e+00,  -1.25753085e+00,   1.06065165e-02],\n",
       "       [ -9.02702656e-01,  -9.02903760e-01,  -4.61286601e-01],\n",
       "       [ -4.79514713e-02,  -4.78716472e-02,   1.22404414e-02],\n",
       "       [  2.02717758e-01,   2.02721367e-01,  -5.89059085e-01],\n",
       "       [  4.82825212e-01,   4.83001078e-01,   1.01158110e-01],\n",
       "       [ -7.08245983e-02,  -7.08810585e-02,   5.63320416e+00],\n",
       "       [  3.52241684e-01,   3.52317563e-01,   2.21883979e-01],\n",
       "       [ -8.81382730e-01,  -8.81515547e-01,  -6.07861824e-01],\n",
       "       [  6.87162331e-01,   6.87348368e-01,   1.14886534e-01],\n",
       "       [ -8.34914678e-03,  -8.16040231e-03,  -9.31664501e-01],\n",
       "       [ -3.79125909e-02,  -3.79934816e-02,  -6.03745089e+00],\n",
       "       [  2.69701833e-01,   2.69685598e-01,  -5.93983059e-01],\n",
       "       [  3.18536449e-01,   3.18588968e-01,  -5.56093307e+00],\n",
       "       [  1.75379604e-01,   1.75372856e-01,  -6.17764994e+00],\n",
       "       [ -2.72179463e-01,  -2.72229654e-01,   5.22528710e-04],\n",
       "       [ -1.18506563e+00,  -1.18476793e+00,  -1.71428520e-01],\n",
       "       [ -1.08523350e+00,  -1.08529788e+00,   1.16302698e-01],\n",
       "       [  1.95287734e-01,   1.95250072e-01,   1.20722016e+01],\n",
       "       [ -2.08051085e+00,  -2.08042816e+00,  -1.66614219e+00],\n",
       "       [ -1.72870707e-01,  -1.72943089e-01,   6.46935610e-01],\n",
       "       [  5.51930380e-01,   5.51994559e-01,  -4.40811924e+00],\n",
       "       [  3.69382969e-01,   3.69471068e-01,  -6.23396708e-01],\n",
       "       [ -9.93799689e-01,  -9.94133981e-01,   5.26980963e-02],\n",
       "       [ -1.11444841e+00,  -1.11465855e+00,   9.82359675e+00],\n",
       "       [ -9.88280096e-01,  -9.88631353e-01,  -1.63312273e+00],\n",
       "       [  4.11648671e-01,   4.11705331e-01,  -4.99961439e+00],\n",
       "       [  5.34169890e-01,   5.34417313e-01,  -5.03102866e-01],\n",
       "       [  2.22114128e-01,   2.22091111e-01,  -6.15660355e-01],\n",
       "       [  5.13053474e-01,   5.13256996e-01,   1.14360231e+01],\n",
       "       [ -6.38660829e-01,  -6.38836780e-01,  -7.34957620e-01],\n",
       "       [ -8.00902159e-01,  -8.01174191e-01,   2.21925790e-01],\n",
       "       [ -3.20300572e-01,  -3.20364461e-01,   2.48276721e-01],\n",
       "       [ -1.62745856e+00,  -1.62790445e+00,   1.09722165e+01],\n",
       "       [ -7.65942226e-02,  -7.66983205e-02,  -3.38374176e-01],\n",
       "       [  7.93267613e-03,   7.88024972e-03,   2.90465389e-01],\n",
       "       [  3.28712009e-01,   3.28769777e-01,  -4.08111613e-02],\n",
       "       [ -4.97407919e-01,  -4.97627809e-01,   3.41607908e-01],\n",
       "       [ -8.97368277e-01,  -8.97636794e-01,   6.38158998e-01],\n",
       "       [  5.06641776e-01,   5.06801028e-01,   1.80917310e-02],\n",
       "       [  4.25180483e-01,   4.25416220e-01,   8.92501913e-01],\n",
       "       [  2.07237794e-02,   2.08423127e-02,  -4.16003736e-01],\n",
       "       [ -4.08763134e-01,  -4.08687524e-01,   4.77946568e-01],\n",
       "       [ -1.36768222e-01,  -1.36879699e-01,   5.79916911e-01],\n",
       "       [  1.97761053e-01,   1.97793448e-01,  -4.49858762e-01],\n",
       "       [ -1.82387329e-01,  -1.82424385e-01,   8.44483147e-02],\n",
       "       [ -6.33061731e-01,  -6.33062251e-01,  -7.25594465e+00],\n",
       "       [  5.97668814e-01,   5.97890741e-01,   1.23533806e-02],\n",
       "       [ -4.74324134e-01,  -4.74471785e-01,  -3.26185452e+00],\n",
       "       [  6.24239050e-01,   6.24390422e-01,   9.47885176e+00],\n",
       "       [ -1.29623706e+00,  -1.29654927e+00,   5.67113100e-02],\n",
       "       [  3.27206386e-01,   3.27250042e-01,  -2.20080471e-01],\n",
       "       [  2.82711961e-02,   2.81890790e-02,   8.75184382e-01],\n",
       "       [  1.78646434e-01,   1.78662946e-01,  -8.60830995e+00],\n",
       "       [  1.94598582e-01,   1.94769270e-01,  -8.65234785e-01],\n",
       "       [ -9.72250978e-01,  -9.72357750e-01,   2.93489240e-01],\n",
       "       [  1.33068699e-01,   1.33021360e-01,   5.09275311e-01],\n",
       "       [  9.46433232e-02,   9.46147020e-02,   1.60107911e-02],\n",
       "       [ -1.43976242e+00,  -1.44023243e+00,  -8.12342456e-01],\n",
       "       [  3.71890609e-01,   3.71907352e-01,  -8.36942646e-01],\n",
       "       [ -8.55504121e-01,  -8.55721091e-01,  -3.89882720e-03],\n",
       "       [  2.98213838e-01,   2.98214102e-01,  -5.29023619e-01],\n",
       "       [  4.85419671e-01,   4.85490807e-01,   2.28679485e-02],\n",
       "       [ -2.51255877e-02,  -2.51933869e-02,  -4.74235985e-01],\n",
       "       [  4.25478536e-01,   4.25833053e-01,   6.50977150e+00],\n",
       "       [ -4.01343282e-01,  -4.01517371e-01,   6.20528246e-02],\n",
       "       [  1.86063835e-02,   1.85508339e-02,  -7.19181322e-01],\n",
       "       [  2.65756073e-01,   2.65752749e-01,   8.84287748e-01],\n",
       "       [  7.34026636e-01,   7.34286344e-01,  -3.06905411e+00],\n",
       "       [ -6.49999413e-01,  -6.50226946e-01,  -4.58650061e-01],\n",
       "       [  6.05264028e-01,   6.05338254e-01,  -3.20891659e-01],\n",
       "       [ -1.08469189e+00,  -1.08505493e+00,  -4.70484842e-01],\n",
       "       [ -1.86019634e-01,  -1.86156425e-01,  -1.32943419e-01],\n",
       "       [  4.46467414e-01,   4.46497362e-01,   3.20947252e-02],\n",
       "       [ -1.46805882e-01,  -1.46908470e-01,  -5.22687295e-01],\n",
       "       [  6.13407720e-01,   6.13527848e-01,   7.03660219e-01],\n",
       "       [  5.84073258e-01,   5.84293256e-01,   5.97908799e-01],\n",
       "       [ -4.39070015e-01,  -4.39269880e-01,   3.28016112e+00],\n",
       "       [ -1.38523179e+00,  -1.38521031e+00,  -3.47397341e-01],\n",
       "       [ -7.86826955e-01,  -7.87112871e-01,  -1.12873433e-01],\n",
       "       [  4.40732543e-01,   4.40922294e-01,   5.14807484e-01],\n",
       "       [  5.83785915e-01,   5.83982174e-01,   2.74346706e-01],\n",
       "       [ -4.48246727e-01,  -4.48359669e-01,   8.57543132e-01],\n",
       "       [ -9.84961539e-01,  -9.85192137e-01,  -6.23294457e-01],\n",
       "       [  6.84609437e-01,   6.84704022e-01,  -8.30734154e+00],\n",
       "       [ -3.78754104e-01,  -3.78940914e-01,  -4.11162019e-01],\n",
       "       [  3.73366963e-01,   3.73474502e-01,   3.78397886e-01],\n",
       "       [  4.88108224e-01,   4.88164904e-01,   1.20389300e+01],\n",
       "       [  3.51865026e-01,   3.52030733e-01,  -3.05828785e+00],\n",
       "       [  1.97888684e-01,   1.97906942e-01,  -7.63996953e-01],\n",
       "       [ -3.91414658e-01,  -3.91391015e-01,   3.69181386e-01],\n",
       "       [ -4.33935574e-01,  -4.33911560e-01,   8.56516348e-01],\n",
       "       [ -1.55863915e-01,  -1.55990204e-01,   4.86194888e-02],\n",
       "       [ -8.28643471e-01,  -8.28911364e-01,   4.03999946e-01],\n",
       "       [  2.29246932e-01,   2.29381163e-01,   1.64353225e-02],\n",
       "       [ -7.05978192e-01,  -7.06137464e-01,  -8.78783189e+00],\n",
       "       [ -7.00849996e-01,  -7.00646789e-01,  -3.00919346e-01],\n",
       "       [ -3.83504762e-01,  -3.83674644e-01,  -3.64817676e+00],\n",
       "       [  5.10716780e-01,   5.10986139e-01,   2.28592361e-01],\n",
       "       [ -1.32721629e-01,  -1.32824249e-01,   9.48185353e-02],\n",
       "       [ -1.60308389e+00,  -1.60331023e+00,  -8.52943447e+00],\n",
       "       [  7.73183655e-01,   7.73316182e-01,  -3.54062650e-02],\n",
       "       [  3.17792586e-01,   3.17906389e-01,   2.21897410e-01],\n",
       "       [  6.07992312e-01,   6.08313599e-01,  -8.17605740e-01],\n",
       "       [ -5.76616320e-01,  -5.76859262e-01,   6.85833868e-01],\n",
       "       [ -1.32995239e+00,  -1.33024990e+00,  -4.04070968e-01],\n",
       "       [ -1.65661113e-01,  -1.65788253e-01,  -6.17176877e-01],\n",
       "       [ -6.98066548e-01,  -6.98288162e-01,   1.16830815e+01],\n",
       "       [  2.92227689e-01,   2.92222867e-01,  -3.78404103e-01],\n",
       "       [  5.46400652e-01,   5.46622241e-01,  -1.69223199e-02],\n",
       "       [ -8.07469177e-02,  -8.08554939e-02,  -5.22528710e-04],\n",
       "       [  6.53885368e-01,   6.54351738e-01,   2.34793281e-01],\n",
       "       [  2.99892133e-01,   3.00120612e-01,   8.29905360e-03],\n",
       "       [ -1.42957054e-01,  -1.43085937e-01,  -4.76407089e-01],\n",
       "       [ -1.01994206e+00,  -1.02029307e+00,  -1.52426224e-01],\n",
       "       [  2.30685624e-01,   2.31014678e-01,   2.10737282e-01],\n",
       "       [ -1.40929735e+00,  -1.40958707e+00,   5.67604078e+00],\n",
       "       [  7.37594296e-01,   7.37843338e-01,  -1.85866861e-02],\n",
       "       [  5.26080224e-02,   5.26279801e-02,  -2.75052118e-02],\n",
       "       [  6.44786312e-01,   6.45360844e-01,  -7.54432512e-01],\n",
       "       [ -8.25065262e-01,  -8.25126236e-01,  -3.25893481e+00],\n",
       "       [ -5.65296940e-01,  -5.65526260e-01,  -5.30239059e-01],\n",
       "       [ -1.72484612e+00,  -1.72500694e+00,  -4.25643354e+00],\n",
       "       [  1.48546969e-01,   1.48607191e-01,   1.66940098e-02],\n",
       "       [  6.22947927e-01,   6.23403229e-01,   3.92279754e-01],\n",
       "       [  3.89110966e-01,   3.89205086e-01,  -6.12300343e-01],\n",
       "       [ -1.48392048e-01,  -1.48362853e-01,   1.53966264e-02],\n",
       "       [  2.71983179e-01,   2.71966335e-01,  -1.19182980e+00],\n",
       "       [ -5.72719541e-01,  -5.72823677e-01,  -4.08199700e-01],\n",
       "       [ -1.37739935e+00,  -1.37754353e+00,   5.73490690e+00],\n",
       "       [  4.01859579e-01,   4.01949921e-01,   8.73150987e+00],\n",
       "       [  3.28391216e-03,   3.21867856e-03,   1.09781732e+01],\n",
       "       [  1.23861265e-01,   1.23877762e-01,   1.52624223e-02],\n",
       "       [  5.32287808e-01,   5.32642998e-01,   9.56076128e-01],\n",
       "       [  1.66320894e-01,   1.66283845e-01,  -1.11915961e+01],\n",
       "       [ -8.97562950e-01,  -8.97873407e-01,   9.76124271e+00],\n",
       "       [  3.75795580e-01,   3.75921879e-01,  -1.47619997e-01],\n",
       "       [ -1.22368846e+00,  -1.22314533e+00,   1.02941022e-02],\n",
       "       [ -6.15760009e-01,  -6.15620122e-01,   9.23248779e-01],\n",
       "       [  7.11691856e-01,   7.11950454e-01,  -8.08517357e+00],\n",
       "       [  9.21170858e-02,   9.20573450e-02,   1.19105158e+01],\n",
       "       [ -7.42988272e-01,  -7.43243236e-01,   5.97203114e-01],\n",
       "       [  1.56795407e-01,   1.56794582e-01,  -2.09577047e+00],\n",
       "       [ -3.28391216e-03,  -3.21867856e-03,  -4.50098336e-01],\n",
       "       [ -3.15221347e-01,  -3.15391679e-01,   3.07973971e+00]])"
      ]
     },
     "execution_count": 23,
     "metadata": {},
     "output_type": "execute_result"
    }
   ],
   "source": [
    "X_train_rs"
   ]
  },
  {
   "cell_type": "code",
   "execution_count": 24,
   "metadata": {
    "collapsed": true
   },
   "outputs": [],
   "source": [
    "X_test_rs = modelo_rs.transform(X_test)"
   ]
  },
  {
   "cell_type": "code",
   "execution_count": 25,
   "metadata": {
    "collapsed": true
   },
   "outputs": [
    {
     "data": {
      "text/plain": [
       "array([[ -2.53211619e-01,  -2.53052524e-01,   1.41326965e-02],\n",
       "       [  1.06011439e-01,   1.05974221e-01,   1.68917648e-02],\n",
       "       [  6.95812678e-01,   6.95995746e-01,   1.53781547e-02],\n",
       "       [  4.88558176e-01,   4.88613845e-01,  -7.14590141e-01],\n",
       "       [  3.84778056e-01,   3.84810057e-01,   4.37219847e-01],\n",
       "       [ -3.74468951e-02,  -3.75401781e-02,   1.20072614e+01],\n",
       "       [ -1.77392830e-01,  -1.77520261e-01,   1.98724579e-01],\n",
       "       [  5.21562468e-01,   5.21670042e-01,  -6.58947647e+00],\n",
       "       [ -4.20921213e-01,  -4.20809529e-01,   2.75200149e-01],\n",
       "       [  7.82135918e-03,   7.74522908e-03,   1.97720852e-01],\n",
       "       [  3.73302388e-01,   3.73354940e-01,   1.35703226e-01],\n",
       "       [ -1.57147071e+00,  -1.57107241e+00,  -1.95683617e-01],\n",
       "       [ -6.81953849e-01,  -6.82109160e-01,  -8.27008429e-01],\n",
       "       [  2.48631206e-01,   2.48626666e-01,   2.08610590e-01],\n",
       "       [  5.62673364e-01,   5.62935558e-01,   1.52734134e-02],\n",
       "       [ -5.06878871e-02,  -5.07768038e-02,  -7.43120172e-01],\n",
       "       [  6.29270423e-01,   6.29644869e-01,  -2.20065443e-01],\n",
       "       [ -4.01642570e-01,  -4.01837638e-01,   3.88430096e-01],\n",
       "       [ -1.18538456e-01,  -1.18658512e-01,  -1.27465451e+00],\n",
       "       [ -7.20389690e-01,  -7.20570306e-01,   1.12030031e-02],\n",
       "       [  5.51309562e-01,   5.51566642e-01,  -3.76275208e-01],\n",
       "       [  6.47732741e-01,   6.47955790e-01,   1.39107064e-02],\n",
       "       [  7.23789510e-01,   7.23898459e-01,  -8.09675782e+00],\n",
       "       [  3.89882464e-01,   3.90642161e-01,   1.92910463e-01],\n",
       "       [  2.56038186e-02,   2.55444774e-02,   5.24897400e+00],\n",
       "       [ -1.19978398e-01,  -1.20063357e-01,  -1.40540823e+00],\n",
       "       [  5.82045970e-01,   5.82227908e-01,   9.00289542e-01],\n",
       "       [ -2.57128890e-01,  -2.57288721e-01,   6.21047565e-01],\n",
       "       [ -3.72455891e-01,  -3.72631646e-01,  -5.45971777e-01],\n",
       "       [  3.45736490e-01,   3.45770059e-01,  -5.64162002e-01],\n",
       "       [  5.44012888e-01,   5.44188029e-01,   9.31243700e+00],\n",
       "       [  4.22767983e-02,   4.23567516e-02,  -2.45204405e-01],\n",
       "       [  3.16945511e-01,   3.16979168e-01,   1.20439984e+01],\n",
       "       [  6.24209832e-01,   6.24643330e-01,   4.55522167e-01],\n",
       "       [  4.26240855e-01,   4.26908087e-01,   4.57105205e+00],\n",
       "       [  1.53496323e-01,   1.53447157e-01,   2.51084106e+00],\n",
       "       [  3.41269906e-01,   3.41316207e-01,  -9.22320641e+00],\n",
       "       [ -3.25361504e-01,  -3.25517938e-01,   1.86606820e-02],\n",
       "       [  8.35863056e-02,   8.35214441e-02,   8.26006212e+00],\n",
       "       [ -1.30592029e+00,  -1.30575689e+00,   4.02237296e+00],\n",
       "       [ -1.70062697e+00,  -1.70056380e+00,   1.39852238e-02],\n",
       "       [ -1.05755726e-01,  -1.05799017e-01,  -8.76171566e-01],\n",
       "       [  4.83167803e-01,   4.83208907e-01,   1.09607710e+01],\n",
       "       [  5.20887090e-01,   5.21237047e-01,  -2.38877218e-01],\n",
       "       [ -5.90262251e-01,  -5.90463566e-01,  -9.36196330e+00],\n",
       "       [  6.17500849e-01,   6.18115181e-01,   1.88178964e-02],\n",
       "       [ -3.68074752e-01,  -3.68142303e-01,   2.78867414e-02],\n",
       "       [ -6.74721932e-01,  -6.74973548e-01,  -3.78682333e-02],\n",
       "       [ -2.87099347e-01,  -2.87193790e-01,  -1.15835870e+00],\n",
       "       [  4.79576607e-01,   4.79633684e-01,   1.81417635e-02],\n",
       "       [  2.33724904e-01,   2.33710252e-01,  -3.76101285e-01],\n",
       "       [  1.40052670e-01,   1.40009715e-01,  -5.75475079e-01],\n",
       "       [ -8.39688626e-01,  -8.39987527e-01,   2.16919311e-01],\n",
       "       [  5.89746496e-01,   5.89853667e-01,   8.07147604e-02],\n",
       "       [  4.05180037e-01,   4.05286209e-01,   1.02176889e+01],\n",
       "       [  3.39518015e-01,   3.40423827e-01,   1.74217244e-01],\n",
       "       [  5.42844398e-01,   5.44001847e-01,   3.44209189e-02],\n",
       "       [  8.00886625e-02,   8.01263449e-02,  -6.79088317e-01],\n",
       "       [ -7.22222621e-01,  -7.22393088e-01,   1.11266765e-02],\n",
       "       [  5.69212771e-01,   5.69280852e-01,  -8.99390417e-01],\n",
       "       [ -3.97142838e-01,  -3.97337958e-01,  -9.31772284e-02],\n",
       "       [  3.43684199e-01,   3.43739039e-01,   5.41327169e-01],\n",
       "       [  6.21256471e-01,   6.21380316e-01,   1.91433150e-02],\n",
       "       [ -7.51068065e-01,  -7.51273345e-01,  -4.15468423e-01],\n",
       "       [ -1.24206049e+00,  -1.24226752e+00,   5.27717468e+00]])"
      ]
     },
     "execution_count": 25,
     "metadata": {},
     "output_type": "execute_result"
    }
   ],
   "source": [
    "X_test_rs"
   ]
  },
  {
   "cell_type": "code",
   "execution_count": 26,
   "metadata": {
    "collapsed": true
   },
   "outputs": [],
   "source": [
    "rf_robust = RandomForestRegressor(max_features=2, min_samples_split=4, n_estimators=50, min_samples_leaf=2)"
   ]
  },
  {
   "cell_type": "code",
   "execution_count": 27,
   "metadata": {},
   "outputs": [
    {
     "name": "stderr",
     "output_type": "stream",
     "text": [
      "C:\\Users\\David\\Anaconda3\\lib\\site-packages\\ipykernel_launcher.py:1: DataConversionWarning: A column-vector y was passed when a 1d array was expected. Please change the shape of y to (n_samples,), for example using ravel().\n",
      "  \"\"\"Entry point for launching an IPython kernel.\n"
     ]
    }
   ],
   "source": [
    "rf_robust.fit(X_train_rs,Y_train)\n",
    "Y_pred = rf_robust.predict(X_test_rs)"
   ]
  },
  {
   "cell_type": "code",
   "execution_count": 28,
   "metadata": {},
   "outputs": [
    {
     "data": {
      "text/plain": [
       "[<matplotlib.lines.Line2D at 0x152272bfda0>]"
      ]
     },
     "execution_count": 28,
     "metadata": {},
     "output_type": "execute_result"
    },
    {
     "data": {
      "image/png": "[encoded data removed]",
      "text/plain": [
       "<matplotlib.figure.Figure at 0x152272bf4e0>"
      ]
     },
     "metadata": {},
     "output_type": "display_data"
    }
   ],
   "source": [
    "plt.scatter(Y_test, Y_pred)\n",
    "plt.plot( [0,50],[0,50], c=\"red\" )"
   ]
  },
  {
   "cell_type": "code",
   "execution_count": 29,
   "metadata": {},
   "outputs": [
    {
     "name": "stdout",
     "output_type": "stream",
     "text": [
      "95.2698711318\n",
      "-0.0723923717392\n",
      "[ 0.34438094  0.38094402  0.27467504]\n"
     ]
    }
   ],
   "source": [
    "print(mean_squared_error(Y_test,Y_pred))\n",
    "print(explained_variance_score(Y_test, Y_pred))\n",
    "print(rf.feature_importances_)"
   ]
  },
  {
   "cell_type": "code",
   "execution_count": 30,
   "metadata": {
    "collapsed": true
   },
   "outputs": [],
   "source": [
    "#Grid Search con RFR"
   ]
  },
  {
   "cell_type": "code",
   "execution_count": 31,
   "metadata": {
    "collapsed": true
   },
   "outputs": [
    {
     "name": "stderr",
     "output_type": "stream",
     "text": [
      "C:\\Users\\David\\Anaconda3\\lib\\site-packages\\sklearn\\model_selection\\_validation.py:238: DataConversionWarning: A column-vector y was passed when a 1d array was expected. Please change the shape of y to (n_samples,), for example using ravel().\n",
      "  estimator.fit(X_train, y_train, **fit_params)\n",
      "C:\\Users\\David\\Anaconda3\\lib\\site-packages\\sklearn\\model_selection\\_validation.py:238: DataConversionWarning: A column-vector y was passed when a 1d array was expected. Please change the shape of y to (n_samples,), for example using ravel().\n",
      "  estimator.fit(X_train, y_train, **fit_params)\n",
      "C:\\Users\\David\\Anaconda3\\lib\\site-packages\\sklearn\\model_selection\\_validation.py:238: DataConversionWarning: A column-vector y was passed when a 1d array was expected. Please change the shape of y to (n_samples,), for example using ravel().\n",
      "  estimator.fit(X_train, y_train, **fit_params)\n",
      "C:\\Users\\David\\Anaconda3\\lib\\site-packages\\sklearn\\model_selection\\_validation.py:238: DataConversionWarning: A column-vector y was passed when a 1d array was expected. Please change the shape of y to (n_samples,), for example using ravel().\n",
      "  estimator.fit(X_train, y_train, **fit_params)\n",
      "C:\\Users\\David\\Anaconda3\\lib\\site-packages\\sklearn\\model_selection\\_validation.py:238: DataConversionWarning: A column-vector y was passed when a 1d array was expected. Please change the shape of y to (n_samples,), for example using ravel().\n",
      "  estimator.fit(X_train, y_train, **fit_params)\n",
      "C:\\Users\\David\\Anaconda3\\lib\\site-packages\\sklearn\\model_selection\\_validation.py:238: DataConversionWarning: A column-vector y was passed when a 1d array was expected. Please change the shape of y to (n_samples,), for example using ravel().\n",
      "  estimator.fit(X_train, y_train, **fit_params)\n",
      "C:\\Users\\David\\Anaconda3\\lib\\site-packages\\sklearn\\model_selection\\_validation.py:238: DataConversionWarning: A column-vector y was passed when a 1d array was expected. Please change the shape of y to (n_samples,), for example using ravel().\n",
      "  estimator.fit(X_train, y_train, **fit_params)\n",
      "C:\\Users\\David\\Anaconda3\\lib\\site-packages\\sklearn\\model_selection\\_validation.py:238: DataConversionWarning: A column-vector y was passed when a 1d array was expected. Please change the shape of y to (n_samples,), for example using ravel().\n",
      "  estimator.fit(X_train, y_train, **fit_params)\n",
      "C:\\Users\\David\\Anaconda3\\lib\\site-packages\\sklearn\\model_selection\\_validation.py:238: DataConversionWarning: A column-vector y was passed when a 1d array was expected. Please change the shape of y to (n_samples,), for example using ravel().\n",
      "  estimator.fit(X_train, y_train, **fit_params)\n",
      "C:\\Users\\David\\Anaconda3\\lib\\site-packages\\sklearn\\model_selection\\_validation.py:238: DataConversionWarning: A column-vector y was passed when a 1d array was expected. Please change the shape of y to (n_samples,), for example using ravel().\n",
      "  estimator.fit(X_train, y_train, **fit_params)\n",
      "C:\\Users\\David\\Anaconda3\\lib\\site-packages\\sklearn\\model_selection\\_search.py:645: DataConversionWarning: A column-vector y was passed when a 1d array was expected. Please change the shape of y to (n_samples,), for example using ravel().\n",
      "  best_estimator.fit(X, y, **self.fit_params)\n"
     ]
    },
    {
     "name": "stdout",
     "output_type": "stream",
     "text": [
      "Random forecast regression...\n",
      "Best Params:\n",
      "{'n_estimators': 1000}\n",
      "Best CV Score:\n",
      "-0.163195748604\n"
     ]
    }
   ],
   "source": [
    "from sklearn.model_selection import GridSearchCV\n",
    "#max_features=2, min_samples_split=4, n_estimators=50, min_samples_leaf=2\n",
    "rfr = RandomForestRegressor(n_jobs=1, random_state=0, max_features=3)\n",
    "param_grid = {'n_estimators': [1000]}\n",
    "# 'n_estimators': [1000], 'max_features': [10,15,20,25], 'max_depth':[20,20,25,25,]}\n",
    "model = GridSearchCV(estimator=rfr, param_grid=param_grid, n_jobs=1, cv=10)\n",
    "\n",
    "model.fit(X=X_train, y=Y_train)\n",
    "print('Random forecast regression...')\n",
    "print('Best Params:')\n",
    "print(model.best_params_)\n",
    "print('Best CV Score:')\n",
    "print(model.best_score_)\n",
    "\n",
    "\n",
    "\n",
    "Y_pred = model.predict(X_test)"
   ]
  },
  {
   "cell_type": "code",
   "execution_count": 32,
   "metadata": {},
   "outputs": [
    {
     "name": "stdout",
     "output_type": "stream",
     "text": [
      "102.532081087\n",
      "-0.154185099473\n",
      "[ 0.34438094  0.38094402  0.27467504]\n"
     ]
    }
   ],
   "source": [
    "print(mean_squared_error(Y_test,Y_pred))\n",
    "print(explained_variance_score(Y_test, Y_pred))\n",
    "print(rf.feature_importances_)"
   ]
  },
  {
   "cell_type": "code",
   "execution_count": 36,
   "metadata": {
    "collapsed": true
   },
   "outputs": [],
   "source": [
    "#En el predict hay que meter los factores creados y no pwr, etc"
   ]
  },
  {
   "cell_type": "code",
   "execution_count": null,
   "metadata": {
    "collapsed": true
   },
   "outputs": [],
   "source": [
    "pwr\n",
    "porc\n",
    "viento_aparente"
   ]
  },
  {
   "cell_type": "markdown",
   "metadata": {},
   "source": [
    "model.predict([[250,3,0]])"
   ]
  },
  {
   "cell_type": "code",
   "execution_count": 96,
   "metadata": {
    "collapsed": true
   },
   "outputs": [
    {
     "data": {
      "text/plain": [
       "[<matplotlib.lines.Line2D at 0x17dc2f78438>]"
      ]
     },
     "execution_count": 96,
     "metadata": {},
     "output_type": "execute_result"
    },
    {
     "data": {
      "image/png": "[encoded data removed]",
      "text/plain": [
       "<Figure size 432x288 with 1 Axes>"
      ]
     },
     "metadata": {},
     "output_type": "display_data"
    }
   ],
   "source": [
    "plt.scatter(Y_test, Y_pred)\n",
    "plt.plot( [0,70],[0,70], c=\"red\" )"
   ]
  },
  {
   "cell_type": "code",
   "execution_count": 74,
   "metadata": {},
   "outputs": [
    {
     "data": {
      "text/plain": [
       "0.59974295184543747"
      ]
     },
     "execution_count": 74,
     "metadata": {},
     "output_type": "execute_result"
    }
   ],
   "source": [
    "metrics.explained_variance_score(Y_test, Y_pred)"
   ]
  },
  {
   "cell_type": "code",
   "execution_count": 41,
   "metadata": {},
   "outputs": [
    {
     "data": {
      "text/plain": [
       "-0.096478285543379894"
      ]
     },
     "execution_count": 41,
     "metadata": {},
     "output_type": "execute_result"
    }
   ],
   "source": [
    "rf_robust.score(X_test, Y_test)"
   ]
  },
  {
   "cell_type": "code",
   "execution_count": null,
   "metadata": {
    "collapsed": true
   },
   "outputs": [],
   "source": []
  },
  {
   "cell_type": "code",
   "execution_count": null,
   "metadata": {
    "collapsed": true
   },
   "outputs": [],
   "source": []
  },
  {
   "cell_type": "code",
   "execution_count": null,
   "metadata": {
    "collapsed": true
   },
   "outputs": [],
   "source": []
  },
  {
   "cell_type": "code",
   "execution_count": null,
   "metadata": {
    "collapsed": true
   },
   "outputs": [],
   "source": []
  },
  {
   "cell_type": "code",
   "execution_count": null,
   "metadata": {
    "collapsed": true
   },
   "outputs": [],
   "source": []
  }
 ],
 "metadata": {
  "kernelspec": {
   "display_name": "Python 3",
   "language": "python",
   "name": "python3"
  },
  "language_info": {
   "codemirror_mode": {
    "name": "ipython",
    "version": 3
   },
   "file_extension": ".py",
   "mimetype": "text/x-python",
   "name": "python",
   "nbconvert_exporter": "python",
   "pygments_lexer": "ipython3",
   "version": "3.6.1"
  }
 },
 "nbformat": 4,
 "nbformat_minor": 2
}
