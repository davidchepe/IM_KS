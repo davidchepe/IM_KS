{
 "cells": [
  {
   "cell_type": "markdown",
   "metadata": {},
   "source": [
    "### Cargamos librerias"
   ]
  },
  {
   "cell_type": "code",
   "execution_count": 1,
   "metadata": {
    "collapsed": true
   },
   "outputs": [],
   "source": [
    "import os\n",
    "import pandas as pd\n",
    "import matplotlib.pylab as plt\n",
    "%matplotlib inline\n",
    "plt.style.use('seaborn')\n",
    "import numpy as np\n"
   ]
  },
  {
   "cell_type": "markdown",
   "metadata": {},
   "source": [
    "### Cargamos los datos"
   ]
  },
  {
   "cell_type": "code",
   "execution_count": 2,
   "metadata": {
    "collapsed": true
   },
   "outputs": [],
   "source": [
    "#path = '../Entrenamientos/result_tramos.xlsx'\n",
    "#Usamos primero los tramos 'grandes'...\n",
    "path = '../Entrenamientos/Procesado_Tramos.xlsx'"
   ]
  },
  {
   "cell_type": "code",
   "execution_count": 234,
   "metadata": {
    "collapsed": true
   },
   "outputs": [],
   "source": [
    "df = pd.read_excel(path)"
   ]
  },
  {
   "cell_type": "code",
   "execution_count": 235,
   "metadata": {},
   "outputs": [
    {
     "data": {
      "text/html": [
       "<div>\n",
       "<style>\n",
       "    .dataframe thead tr:only-child th {\n",
       "        text-align: right;\n",
       "    }\n",
       "\n",
       "    .dataframe thead th {\n",
       "        text-align: left;\n",
       "    }\n",
       "\n",
       "    .dataframe tbody tr th {\n",
       "        vertical-align: top;\n",
       "    }\n",
       "</style>\n",
       "<table border=\"1\" class=\"dataframe\">\n",
       "  <thead>\n",
       "    <tr style=\"text-align: right;\">\n",
       "      <th></th>\n",
       "      <th>tramo</th>\n",
       "      <th>tramo_inicial</th>\n",
       "      <th>tramo_final</th>\n",
       "      <th>pwr</th>\n",
       "      <th>time_seg</th>\n",
       "      <th>dist</th>\n",
       "      <th>spd</th>\n",
       "      <th>viento_aparente</th>\n",
       "      <th>porc</th>\n",
       "    </tr>\n",
       "  </thead>\n",
       "  <tbody>\n",
       "    <tr>\n",
       "      <th>count</th>\n",
       "      <td>283.000000</td>\n",
       "      <td>283.000000</td>\n",
       "      <td>283.000000</td>\n",
       "      <td>283.000000</td>\n",
       "      <td>283.000000</td>\n",
       "      <td>283.000000</td>\n",
       "      <td>283.000000</td>\n",
       "      <td>283.000000</td>\n",
       "      <td>283.000000</td>\n",
       "    </tr>\n",
       "    <tr>\n",
       "      <th>mean</th>\n",
       "      <td>50.038869</td>\n",
       "      <td>3626.088339</td>\n",
       "      <td>3695.734982</td>\n",
       "      <td>166.896851</td>\n",
       "      <td>138.798587</td>\n",
       "      <td>959.941520</td>\n",
       "      <td>30.333649</td>\n",
       "      <td>-inf</td>\n",
       "      <td>inf</td>\n",
       "    </tr>\n",
       "    <tr>\n",
       "      <th>std</th>\n",
       "      <td>33.047386</td>\n",
       "      <td>2359.016002</td>\n",
       "      <td>2353.448358</td>\n",
       "      <td>75.436162</td>\n",
       "      <td>294.498658</td>\n",
       "      <td>1563.664211</td>\n",
       "      <td>9.299367</td>\n",
       "      <td>NaN</td>\n",
       "      <td>NaN</td>\n",
       "    </tr>\n",
       "    <tr>\n",
       "      <th>min</th>\n",
       "      <td>0.000000</td>\n",
       "      <td>0.000000</td>\n",
       "      <td>12.000000</td>\n",
       "      <td>0.000000</td>\n",
       "      <td>1.000000</td>\n",
       "      <td>0.000000</td>\n",
       "      <td>0.000000</td>\n",
       "      <td>-inf</td>\n",
       "      <td>-6.677410</td>\n",
       "    </tr>\n",
       "    <tr>\n",
       "      <th>25%</th>\n",
       "      <td>23.000000</td>\n",
       "      <td>1523.000000</td>\n",
       "      <td>1603.000000</td>\n",
       "      <td>105.409955</td>\n",
       "      <td>20.000000</td>\n",
       "      <td>121.776438</td>\n",
       "      <td>24.367954</td>\n",
       "      <td>-8.386325</td>\n",
       "      <td>-1.070971</td>\n",
       "    </tr>\n",
       "    <tr>\n",
       "      <th>50%</th>\n",
       "      <td>47.000000</td>\n",
       "      <td>3523.000000</td>\n",
       "      <td>3526.000000</td>\n",
       "      <td>171.142659</td>\n",
       "      <td>56.000000</td>\n",
       "      <td>468.799905</td>\n",
       "      <td>29.952505</td>\n",
       "      <td>-2.166430</td>\n",
       "      <td>-0.007052</td>\n",
       "    </tr>\n",
       "    <tr>\n",
       "      <th>75%</th>\n",
       "      <td>70.000000</td>\n",
       "      <td>5937.500000</td>\n",
       "      <td>6115.000000</td>\n",
       "      <td>221.707288</td>\n",
       "      <td>125.000000</td>\n",
       "      <td>905.673921</td>\n",
       "      <td>36.336244</td>\n",
       "      <td>7.279960</td>\n",
       "      <td>1.200993</td>\n",
       "    </tr>\n",
       "    <tr>\n",
       "      <th>max</th>\n",
       "      <td>129.000000</td>\n",
       "      <td>7729.000000</td>\n",
       "      <td>7796.000000</td>\n",
       "      <td>648.000000</td>\n",
       "      <td>2761.000000</td>\n",
       "      <td>10273.070042</td>\n",
       "      <td>64.800000</td>\n",
       "      <td>26.699485</td>\n",
       "      <td>inf</td>\n",
       "    </tr>\n",
       "  </tbody>\n",
       "</table>\n",
       "</div>"
      ],
      "text/plain": [
       "            tramo  tramo_inicial  tramo_final         pwr     time_seg  \\\n",
       "count  283.000000     283.000000   283.000000  283.000000   283.000000   \n",
       "mean    50.038869    3626.088339  3695.734982  166.896851   138.798587   \n",
       "std     33.047386    2359.016002  2353.448358   75.436162   294.498658   \n",
       "min      0.000000       0.000000    12.000000    0.000000     1.000000   \n",
       "25%     23.000000    1523.000000  1603.000000  105.409955    20.000000   \n",
       "50%     47.000000    3523.000000  3526.000000  171.142659    56.000000   \n",
       "75%     70.000000    5937.500000  6115.000000  221.707288   125.000000   \n",
       "max    129.000000    7729.000000  7796.000000  648.000000  2761.000000   \n",
       "\n",
       "               dist         spd  viento_aparente        porc  \n",
       "count    283.000000  283.000000       283.000000  283.000000  \n",
       "mean     959.941520   30.333649             -inf         inf  \n",
       "std     1563.664211    9.299367              NaN         NaN  \n",
       "min        0.000000    0.000000             -inf   -6.677410  \n",
       "25%      121.776438   24.367954        -8.386325   -1.070971  \n",
       "50%      468.799905   29.952505        -2.166430   -0.007052  \n",
       "75%      905.673921   36.336244         7.279960    1.200993  \n",
       "max    10273.070042   64.800000        26.699485         inf  "
      ]
     },
     "execution_count": 235,
     "metadata": {},
     "output_type": "execute_result"
    }
   ],
   "source": [
    "df.describe()"
   ]
  },
  {
   "cell_type": "code",
   "execution_count": 236,
   "metadata": {
    "collapsed": true,
    "scrolled": true
   },
   "outputs": [],
   "source": [
    "df = df[df[\"viento_aparente\"]!=-np.inf]"
   ]
  },
  {
   "cell_type": "code",
   "execution_count": 238,
   "metadata": {},
   "outputs": [
    {
     "data": {
      "text/html": [
       "<div>\n",
       "<style>\n",
       "    .dataframe thead tr:only-child th {\n",
       "        text-align: right;\n",
       "    }\n",
       "\n",
       "    .dataframe thead th {\n",
       "        text-align: left;\n",
       "    }\n",
       "\n",
       "    .dataframe tbody tr th {\n",
       "        vertical-align: top;\n",
       "    }\n",
       "</style>\n",
       "<table border=\"1\" class=\"dataframe\">\n",
       "  <thead>\n",
       "    <tr style=\"text-align: right;\">\n",
       "      <th></th>\n",
       "      <th>tramo</th>\n",
       "      <th>tramo_inicial</th>\n",
       "      <th>tramo_final</th>\n",
       "      <th>pwr</th>\n",
       "      <th>time_seg</th>\n",
       "      <th>dist</th>\n",
       "      <th>spd</th>\n",
       "      <th>viento_aparente</th>\n",
       "      <th>porc</th>\n",
       "    </tr>\n",
       "    <tr>\n",
       "      <th>prueba</th>\n",
       "      <th></th>\n",
       "      <th></th>\n",
       "      <th></th>\n",
       "      <th></th>\n",
       "      <th></th>\n",
       "      <th></th>\n",
       "      <th></th>\n",
       "      <th></th>\n",
       "      <th></th>\n",
       "    </tr>\n",
       "  </thead>\n",
       "  <tbody>\n",
       "    <tr>\n",
       "      <th>20180406_LEVS_195_90_R_E.gpx</th>\n",
       "      <td>2811</td>\n",
       "      <td>331797</td>\n",
       "      <td>339360</td>\n",
       "      <td>11002.290839</td>\n",
       "      <td>17309</td>\n",
       "      <td>105326.290035</td>\n",
       "      <td>2045.172849</td>\n",
       "      <td>-138.143514</td>\n",
       "      <td>1.844475</td>\n",
       "    </tr>\n",
       "    <tr>\n",
       "      <th>20180415_LEVS_195_90_R_E.gpx</th>\n",
       "      <td>8385</td>\n",
       "      <td>524417</td>\n",
       "      <td>532213</td>\n",
       "      <td>20816.315388</td>\n",
       "      <td>14448</td>\n",
       "      <td>107203.160049</td>\n",
       "      <td>4087.548465</td>\n",
       "      <td>52.018520</td>\n",
       "      <td>-7.873579</td>\n",
       "    </tr>\n",
       "    <tr>\n",
       "      <th>20180422_LEVS_195_90_R_E.gpx</th>\n",
       "      <td>2926</td>\n",
       "      <td>164032</td>\n",
       "      <td>168382</td>\n",
       "      <td>15184.782736</td>\n",
       "      <td>7520</td>\n",
       "      <td>59134.000000</td>\n",
       "      <td>2451.701365</td>\n",
       "      <td>29.540412</td>\n",
       "      <td>-3.277760</td>\n",
       "    </tr>\n",
       "  </tbody>\n",
       "</table>\n",
       "</div>"
      ],
      "text/plain": [
       "                              tramo  tramo_inicial  tramo_final           pwr  \\\n",
       "prueba                                                                          \n",
       "20180406_LEVS_195_90_R_E.gpx   2811         331797       339360  11002.290839   \n",
       "20180415_LEVS_195_90_R_E.gpx   8385         524417       532213  20816.315388   \n",
       "20180422_LEVS_195_90_R_E.gpx   2926         164032       168382  15184.782736   \n",
       "\n",
       "                              time_seg           dist          spd  \\\n",
       "prueba                                                               \n",
       "20180406_LEVS_195_90_R_E.gpx     17309  105326.290035  2045.172849   \n",
       "20180415_LEVS_195_90_R_E.gpx     14448  107203.160049  4087.548465   \n",
       "20180422_LEVS_195_90_R_E.gpx      7520   59134.000000  2451.701365   \n",
       "\n",
       "                              viento_aparente      porc  \n",
       "prueba                                                   \n",
       "20180406_LEVS_195_90_R_E.gpx      -138.143514  1.844475  \n",
       "20180415_LEVS_195_90_R_E.gpx        52.018520 -7.873579  \n",
       "20180422_LEVS_195_90_R_E.gpx        29.540412 -3.277760  "
      ]
     },
     "execution_count": 238,
     "metadata": {},
     "output_type": "execute_result"
    }
   ],
   "source": [
    "df.groupby([\"prueba\"]).sum()"
   ]
  },
  {
   "cell_type": "code",
   "execution_count": 239,
   "metadata": {},
   "outputs": [
    {
     "data": {
      "text/html": [
       "<div>\n",
       "<style>\n",
       "    .dataframe thead tr:only-child th {\n",
       "        text-align: right;\n",
       "    }\n",
       "\n",
       "    .dataframe thead th {\n",
       "        text-align: left;\n",
       "    }\n",
       "\n",
       "    .dataframe tbody tr th {\n",
       "        vertical-align: top;\n",
       "    }\n",
       "</style>\n",
       "<table border=\"1\" class=\"dataframe\">\n",
       "  <thead>\n",
       "    <tr style=\"text-align: right;\">\n",
       "      <th></th>\n",
       "      <th>tramo</th>\n",
       "      <th>tramo_inicial</th>\n",
       "      <th>tramo_final</th>\n",
       "      <th>pwr</th>\n",
       "      <th>time_seg</th>\n",
       "      <th>dist</th>\n",
       "      <th>spd</th>\n",
       "      <th>viento_aparente</th>\n",
       "      <th>porc</th>\n",
       "    </tr>\n",
       "  </thead>\n",
       "  <tbody>\n",
       "    <tr>\n",
       "      <th>count</th>\n",
       "      <td>282.000000</td>\n",
       "      <td>282.000000</td>\n",
       "      <td>282.000000</td>\n",
       "      <td>282.000000</td>\n",
       "      <td>282.000000</td>\n",
       "      <td>282.000000</td>\n",
       "      <td>282.000000</td>\n",
       "      <td>282.000000</td>\n",
       "      <td>282.000000</td>\n",
       "    </tr>\n",
       "    <tr>\n",
       "      <th>mean</th>\n",
       "      <td>50.078014</td>\n",
       "      <td>3617.893617</td>\n",
       "      <td>3687.783688</td>\n",
       "      <td>166.678684</td>\n",
       "      <td>139.280142</td>\n",
       "      <td>963.345568</td>\n",
       "      <td>30.441215</td>\n",
       "      <td>-0.200655</td>\n",
       "      <td>-0.033003</td>\n",
       "    </tr>\n",
       "    <tr>\n",
       "      <th>std</th>\n",
       "      <td>33.099563</td>\n",
       "      <td>2359.171158</td>\n",
       "      <td>2353.821173</td>\n",
       "      <td>75.480779</td>\n",
       "      <td>294.910571</td>\n",
       "      <td>1565.393258</td>\n",
       "      <td>9.137827</td>\n",
       "      <td>11.146978</td>\n",
       "      <td>2.166262</td>\n",
       "    </tr>\n",
       "    <tr>\n",
       "      <th>min</th>\n",
       "      <td>0.000000</td>\n",
       "      <td>0.000000</td>\n",
       "      <td>12.000000</td>\n",
       "      <td>0.000000</td>\n",
       "      <td>1.000000</td>\n",
       "      <td>9.079168</td>\n",
       "      <td>0.770052</td>\n",
       "      <td>-21.641147</td>\n",
       "      <td>-6.677410</td>\n",
       "    </tr>\n",
       "    <tr>\n",
       "      <th>25%</th>\n",
       "      <td>23.000000</td>\n",
       "      <td>1522.500000</td>\n",
       "      <td>1596.500000</td>\n",
       "      <td>105.383618</td>\n",
       "      <td>20.250000</td>\n",
       "      <td>129.987954</td>\n",
       "      <td>24.412312</td>\n",
       "      <td>-8.369160</td>\n",
       "      <td>-1.072187</td>\n",
       "    </tr>\n",
       "    <tr>\n",
       "      <th>50%</th>\n",
       "      <td>47.000000</td>\n",
       "      <td>3514.500000</td>\n",
       "      <td>3525.500000</td>\n",
       "      <td>171.140529</td>\n",
       "      <td>56.500000</td>\n",
       "      <td>469.955006</td>\n",
       "      <td>29.964252</td>\n",
       "      <td>-1.899402</td>\n",
       "      <td>-0.013285</td>\n",
       "    </tr>\n",
       "    <tr>\n",
       "      <th>75%</th>\n",
       "      <td>70.000000</td>\n",
       "      <td>5937.250000</td>\n",
       "      <td>6124.000000</td>\n",
       "      <td>221.205250</td>\n",
       "      <td>125.000000</td>\n",
       "      <td>906.990831</td>\n",
       "      <td>36.381969</td>\n",
       "      <td>7.301920</td>\n",
       "      <td>1.194253</td>\n",
       "    </tr>\n",
       "    <tr>\n",
       "      <th>max</th>\n",
       "      <td>129.000000</td>\n",
       "      <td>7729.000000</td>\n",
       "      <td>7796.000000</td>\n",
       "      <td>648.000000</td>\n",
       "      <td>2761.000000</td>\n",
       "      <td>10273.070042</td>\n",
       "      <td>64.800000</td>\n",
       "      <td>26.699485</td>\n",
       "      <td>7.137195</td>\n",
       "    </tr>\n",
       "  </tbody>\n",
       "</table>\n",
       "</div>"
      ],
      "text/plain": [
       "            tramo  tramo_inicial  tramo_final         pwr     time_seg  \\\n",
       "count  282.000000     282.000000   282.000000  282.000000   282.000000   \n",
       "mean    50.078014    3617.893617  3687.783688  166.678684   139.280142   \n",
       "std     33.099563    2359.171158  2353.821173   75.480779   294.910571   \n",
       "min      0.000000       0.000000    12.000000    0.000000     1.000000   \n",
       "25%     23.000000    1522.500000  1596.500000  105.383618    20.250000   \n",
       "50%     47.000000    3514.500000  3525.500000  171.140529    56.500000   \n",
       "75%     70.000000    5937.250000  6124.000000  221.205250   125.000000   \n",
       "max    129.000000    7729.000000  7796.000000  648.000000  2761.000000   \n",
       "\n",
       "               dist         spd  viento_aparente        porc  \n",
       "count    282.000000  282.000000       282.000000  282.000000  \n",
       "mean     963.345568   30.441215        -0.200655   -0.033003  \n",
       "std     1565.393258    9.137827        11.146978    2.166262  \n",
       "min        9.079168    0.770052       -21.641147   -6.677410  \n",
       "25%      129.987954   24.412312        -8.369160   -1.072187  \n",
       "50%      469.955006   29.964252        -1.899402   -0.013285  \n",
       "75%      906.990831   36.381969         7.301920    1.194253  \n",
       "max    10273.070042   64.800000        26.699485    7.137195  "
      ]
     },
     "execution_count": 239,
     "metadata": {},
     "output_type": "execute_result"
    }
   ],
   "source": [
    "df.describe()"
   ]
  },
  {
   "cell_type": "code",
   "execution_count": 240,
   "metadata": {},
   "outputs": [
    {
     "data": {
      "text/html": [
       "<div>\n",
       "<style>\n",
       "    .dataframe thead tr:only-child th {\n",
       "        text-align: right;\n",
       "    }\n",
       "\n",
       "    .dataframe thead th {\n",
       "        text-align: left;\n",
       "    }\n",
       "\n",
       "    .dataframe tbody tr th {\n",
       "        vertical-align: top;\n",
       "    }\n",
       "</style>\n",
       "<table border=\"1\" class=\"dataframe\">\n",
       "  <thead>\n",
       "    <tr style=\"text-align: right;\">\n",
       "      <th></th>\n",
       "      <th>tramo</th>\n",
       "      <th>tramo_inicial</th>\n",
       "      <th>tramo_final</th>\n",
       "      <th>pwr</th>\n",
       "      <th>time_seg</th>\n",
       "      <th>dist</th>\n",
       "      <th>spd</th>\n",
       "      <th>viento_aparente</th>\n",
       "      <th>porc</th>\n",
       "      <th>prueba</th>\n",
       "    </tr>\n",
       "  </thead>\n",
       "  <tbody>\n",
       "    <tr>\n",
       "      <th>0</th>\n",
       "      <td>0</td>\n",
       "      <td>0</td>\n",
       "      <td>65</td>\n",
       "      <td>77.836186</td>\n",
       "      <td>106</td>\n",
       "      <td>966.000000</td>\n",
       "      <td>32.807547</td>\n",
       "      <td>6.718880</td>\n",
       "      <td>-3.377386</td>\n",
       "      <td>20180406_LEVS_195_90_R_E.gpx</td>\n",
       "    </tr>\n",
       "    <tr>\n",
       "      <th>1</th>\n",
       "      <td>1</td>\n",
       "      <td>65</td>\n",
       "      <td>432</td>\n",
       "      <td>255.381555</td>\n",
       "      <td>980</td>\n",
       "      <td>4819.000000</td>\n",
       "      <td>17.702449</td>\n",
       "      <td>7.188764</td>\n",
       "      <td>4.181100</td>\n",
       "      <td>20180406_LEVS_195_90_R_E.gpx</td>\n",
       "    </tr>\n",
       "    <tr>\n",
       "      <th>2</th>\n",
       "      <td>2</td>\n",
       "      <td>432</td>\n",
       "      <td>468</td>\n",
       "      <td>152.194252</td>\n",
       "      <td>44</td>\n",
       "      <td>473.935824</td>\n",
       "      <td>38.776567</td>\n",
       "      <td>8.537489</td>\n",
       "      <td>-1.737873</td>\n",
       "      <td>20180406_LEVS_195_90_R_E.gpx</td>\n",
       "    </tr>\n",
       "    <tr>\n",
       "      <th>3</th>\n",
       "      <td>3</td>\n",
       "      <td>468</td>\n",
       "      <td>532</td>\n",
       "      <td>248.770434</td>\n",
       "      <td>120</td>\n",
       "      <td>813.223602</td>\n",
       "      <td>24.396708</td>\n",
       "      <td>8.334437</td>\n",
       "      <td>2.662585</td>\n",
       "      <td>20180406_LEVS_195_90_R_E.gpx</td>\n",
       "    </tr>\n",
       "    <tr>\n",
       "      <th>4</th>\n",
       "      <td>4</td>\n",
       "      <td>532</td>\n",
       "      <td>548</td>\n",
       "      <td>155.753257</td>\n",
       "      <td>21</td>\n",
       "      <td>206.720563</td>\n",
       "      <td>35.437811</td>\n",
       "      <td>8.287183</td>\n",
       "      <td>-0.873144</td>\n",
       "      <td>20180406_LEVS_195_90_R_E.gpx</td>\n",
       "    </tr>\n",
       "  </tbody>\n",
       "</table>\n",
       "</div>"
      ],
      "text/plain": [
       "   tramo  tramo_inicial  tramo_final         pwr  time_seg         dist  \\\n",
       "0      0              0           65   77.836186       106   966.000000   \n",
       "1      1             65          432  255.381555       980  4819.000000   \n",
       "2      2            432          468  152.194252        44   473.935824   \n",
       "3      3            468          532  248.770434       120   813.223602   \n",
       "4      4            532          548  155.753257        21   206.720563   \n",
       "\n",
       "         spd  viento_aparente      porc                        prueba  \n",
       "0  32.807547         6.718880 -3.377386  20180406_LEVS_195_90_R_E.gpx  \n",
       "1  17.702449         7.188764  4.181100  20180406_LEVS_195_90_R_E.gpx  \n",
       "2  38.776567         8.537489 -1.737873  20180406_LEVS_195_90_R_E.gpx  \n",
       "3  24.396708         8.334437  2.662585  20180406_LEVS_195_90_R_E.gpx  \n",
       "4  35.437811         8.287183 -0.873144  20180406_LEVS_195_90_R_E.gpx  "
      ]
     },
     "execution_count": 240,
     "metadata": {},
     "output_type": "execute_result"
    }
   ],
   "source": [
    "df.head()"
   ]
  },
  {
   "cell_type": "markdown",
   "metadata": {},
   "source": [
    "### Creamos la variable target No Pedalea <100w"
   ]
  },
  {
   "cell_type": "code",
   "execution_count": 241,
   "metadata": {
    "scrolled": true
   },
   "outputs": [
    {
     "data": {
      "text/plain": [
       "tramo                int64\n",
       "tramo_inicial        int64\n",
       "tramo_final          int64\n",
       "pwr                float64\n",
       "time_seg             int64\n",
       "dist               float64\n",
       "spd                float64\n",
       "viento_aparente    float64\n",
       "porc               float64\n",
       "prueba              object\n",
       "dtype: object"
      ]
     },
     "execution_count": 241,
     "metadata": {},
     "output_type": "execute_result"
    }
   ],
   "source": [
    "df.dtypes"
   ]
  },
  {
   "cell_type": "code",
   "execution_count": 242,
   "metadata": {},
   "outputs": [],
   "source": [
    "df['target'] = [1 if x<80 else 0 for x in df['pwr']]\n",
    "\n",
    "df['dist_log'] = [np.log(x) for x in df['dist']]"
   ]
  },
  {
   "cell_type": "code",
   "execution_count": 243,
   "metadata": {},
   "outputs": [
    {
     "data": {
      "text/html": [
       "<div>\n",
       "<style>\n",
       "    .dataframe thead tr:only-child th {\n",
       "        text-align: right;\n",
       "    }\n",
       "\n",
       "    .dataframe thead th {\n",
       "        text-align: left;\n",
       "    }\n",
       "\n",
       "    .dataframe tbody tr th {\n",
       "        vertical-align: top;\n",
       "    }\n",
       "</style>\n",
       "<table border=\"1\" class=\"dataframe\">\n",
       "  <thead>\n",
       "    <tr style=\"text-align: right;\">\n",
       "      <th></th>\n",
       "      <th>tramo</th>\n",
       "      <th>tramo_inicial</th>\n",
       "      <th>tramo_final</th>\n",
       "      <th>pwr</th>\n",
       "      <th>time_seg</th>\n",
       "      <th>dist</th>\n",
       "      <th>spd</th>\n",
       "      <th>viento_aparente</th>\n",
       "      <th>porc</th>\n",
       "      <th>prueba</th>\n",
       "      <th>target</th>\n",
       "      <th>dist_log</th>\n",
       "    </tr>\n",
       "  </thead>\n",
       "  <tbody>\n",
       "    <tr>\n",
       "      <th>0</th>\n",
       "      <td>0</td>\n",
       "      <td>0</td>\n",
       "      <td>65</td>\n",
       "      <td>77.836186</td>\n",
       "      <td>106</td>\n",
       "      <td>966.000000</td>\n",
       "      <td>32.807547</td>\n",
       "      <td>6.718880</td>\n",
       "      <td>-3.377386</td>\n",
       "      <td>20180406_LEVS_195_90_R_E.gpx</td>\n",
       "      <td>1</td>\n",
       "      <td>6.873164</td>\n",
       "    </tr>\n",
       "    <tr>\n",
       "      <th>1</th>\n",
       "      <td>1</td>\n",
       "      <td>65</td>\n",
       "      <td>432</td>\n",
       "      <td>255.381555</td>\n",
       "      <td>980</td>\n",
       "      <td>4819.000000</td>\n",
       "      <td>17.702449</td>\n",
       "      <td>7.188764</td>\n",
       "      <td>4.181100</td>\n",
       "      <td>20180406_LEVS_195_90_R_E.gpx</td>\n",
       "      <td>0</td>\n",
       "      <td>8.480322</td>\n",
       "    </tr>\n",
       "    <tr>\n",
       "      <th>2</th>\n",
       "      <td>2</td>\n",
       "      <td>432</td>\n",
       "      <td>468</td>\n",
       "      <td>152.194252</td>\n",
       "      <td>44</td>\n",
       "      <td>473.935824</td>\n",
       "      <td>38.776567</td>\n",
       "      <td>8.537489</td>\n",
       "      <td>-1.737873</td>\n",
       "      <td>20180406_LEVS_195_90_R_E.gpx</td>\n",
       "      <td>0</td>\n",
       "      <td>6.161072</td>\n",
       "    </tr>\n",
       "    <tr>\n",
       "      <th>3</th>\n",
       "      <td>3</td>\n",
       "      <td>468</td>\n",
       "      <td>532</td>\n",
       "      <td>248.770434</td>\n",
       "      <td>120</td>\n",
       "      <td>813.223602</td>\n",
       "      <td>24.396708</td>\n",
       "      <td>8.334437</td>\n",
       "      <td>2.662585</td>\n",
       "      <td>20180406_LEVS_195_90_R_E.gpx</td>\n",
       "      <td>0</td>\n",
       "      <td>6.701006</td>\n",
       "    </tr>\n",
       "    <tr>\n",
       "      <th>4</th>\n",
       "      <td>4</td>\n",
       "      <td>532</td>\n",
       "      <td>548</td>\n",
       "      <td>155.753257</td>\n",
       "      <td>21</td>\n",
       "      <td>206.720563</td>\n",
       "      <td>35.437811</td>\n",
       "      <td>8.287183</td>\n",
       "      <td>-0.873144</td>\n",
       "      <td>20180406_LEVS_195_90_R_E.gpx</td>\n",
       "      <td>0</td>\n",
       "      <td>5.331368</td>\n",
       "    </tr>\n",
       "  </tbody>\n",
       "</table>\n",
       "</div>"
      ],
      "text/plain": [
       "   tramo  tramo_inicial  tramo_final         pwr  time_seg         dist  \\\n",
       "0      0              0           65   77.836186       106   966.000000   \n",
       "1      1             65          432  255.381555       980  4819.000000   \n",
       "2      2            432          468  152.194252        44   473.935824   \n",
       "3      3            468          532  248.770434       120   813.223602   \n",
       "4      4            532          548  155.753257        21   206.720563   \n",
       "\n",
       "         spd  viento_aparente      porc                        prueba  target  \\\n",
       "0  32.807547         6.718880 -3.377386  20180406_LEVS_195_90_R_E.gpx       1   \n",
       "1  17.702449         7.188764  4.181100  20180406_LEVS_195_90_R_E.gpx       0   \n",
       "2  38.776567         8.537489 -1.737873  20180406_LEVS_195_90_R_E.gpx       0   \n",
       "3  24.396708         8.334437  2.662585  20180406_LEVS_195_90_R_E.gpx       0   \n",
       "4  35.437811         8.287183 -0.873144  20180406_LEVS_195_90_R_E.gpx       0   \n",
       "\n",
       "   dist_log  \n",
       "0  6.873164  \n",
       "1  8.480322  \n",
       "2  6.161072  \n",
       "3  6.701006  \n",
       "4  5.331368  "
      ]
     },
     "execution_count": 243,
     "metadata": {},
     "output_type": "execute_result"
    }
   ],
   "source": [
    "df.head()"
   ]
  },
  {
   "cell_type": "code",
   "execution_count": 217,
   "metadata": {
    "collapsed": true
   },
   "outputs": [],
   "source": [
    "df_lm = df[['dist_log','porc','viento_aparente','target']]"
   ]
  },
  {
   "cell_type": "code",
   "execution_count": 218,
   "metadata": {
    "collapsed": true
   },
   "outputs": [],
   "source": [
    "df_lm_x = df[['dist_log','porc','viento_aparente']]\n",
    "df_lm_y = df[['target']]"
   ]
  },
  {
   "cell_type": "code",
   "execution_count": 219,
   "metadata": {
    "collapsed": true
   },
   "outputs": [],
   "source": [
    "from sklearn.model_selection import train_test_split\n",
    "X_train, X_test, Y_train, Y_test = train_test_split(df_lm_x, df_lm_y, test_size=0.30, random_state=42)"
   ]
  },
  {
   "cell_type": "code",
   "execution_count": 230,
   "metadata": {
    "collapsed": true
   },
   "outputs": [],
   "source": [
    "from sklearn.model_selection import train_test_split\n",
    "X_train2, X_test2, Y_train, Y_test = train_test_split(df, df_lm_y, test_size=0.30, random_state=42)\n",
    "\n",
    "X_train = X_train2[['dist_log','porc','viento_aparente']]\n",
    "X_test = X_test2[['dist_log','porc','viento_aparente']]"
   ]
  },
  {
   "cell_type": "markdown",
   "metadata": {},
   "source": [
    "### Probamos con Ensemble"
   ]
  },
  {
   "cell_type": "code",
   "execution_count": 227,
   "metadata": {
    "collapsed": true
   },
   "outputs": [],
   "source": [
    "from sklearn.ensemble import RandomForestClassifier\n",
    "from sklearn.ensemble import RandomForestRegressor\n",
    "from sklearn.metrics import mean_squared_error\n",
    "from sklearn.linear_model import LogisticRegression "
   ]
  },
  {
   "cell_type": "code",
   "execution_count": 222,
   "metadata": {
    "collapsed": true
   },
   "outputs": [],
   "source": [
    "rfc = RandomForestClassifier()"
   ]
  },
  {
   "cell_type": "code",
   "execution_count": 223,
   "metadata": {
    "scrolled": true
   },
   "outputs": [
    {
     "name": "stderr",
     "output_type": "stream",
     "text": [
      "C:\\Users\\eduardo.hernanz\\AppData\\Local\\Continuum\\Anaconda3\\lib\\site-packages\\ipykernel_launcher.py:1: DataConversionWarning: A column-vector y was passed when a 1d array was expected. Please change the shape of y to (n_samples,), for example using ravel().\n",
      "  \"\"\"Entry point for launching an IPython kernel.\n"
     ]
    },
    {
     "data": {
      "text/plain": [
       "0.15294117647058825"
      ]
     },
     "execution_count": 223,
     "metadata": {},
     "output_type": "execute_result"
    }
   ],
   "source": [
    "rfc.fit(X_train, Y_train)\n",
    "Y_pred = rfc.predict(X_test)\n",
    "mean_squared_error(Y_test,Y_pred)"
   ]
  },
  {
   "cell_type": "code",
   "execution_count": null,
   "metadata": {
    "collapsed": true
   },
   "outputs": [],
   "source": []
  },
  {
   "cell_type": "code",
   "execution_count": 228,
   "metadata": {
    "collapsed": true
   },
   "outputs": [],
   "source": [
    "lr = LogisticRegression()"
   ]
  },
  {
   "cell_type": "code",
   "execution_count": 231,
   "metadata": {},
   "outputs": [
    {
     "name": "stderr",
     "output_type": "stream",
     "text": [
      "C:\\Users\\eduardo.hernanz\\AppData\\Local\\Continuum\\Anaconda3\\lib\\site-packages\\sklearn\\utils\\validation.py:578: DataConversionWarning: A column-vector y was passed when a 1d array was expected. Please change the shape of y to (n_samples, ), for example using ravel().\n",
      "  y = column_or_1d(y, warn=True)\n"
     ]
    },
    {
     "data": {
      "text/plain": [
       "0.12941176470588237"
      ]
     },
     "execution_count": 231,
     "metadata": {},
     "output_type": "execute_result"
    }
   ],
   "source": [
    "lr.fit(X_train, Y_train)\n",
    "Y_pred = lr.predict(X_test)\n",
    "mean_squared_error(Y_test,Y_pred)"
   ]
  },
  {
   "cell_type": "code",
   "execution_count": null,
   "metadata": {
    "collapsed": true
   },
   "outputs": [],
   "source": []
  },
  {
   "cell_type": "code",
   "execution_count": null,
   "metadata": {
    "collapsed": true
   },
   "outputs": [],
   "source": []
  },
  {
   "cell_type": "code",
   "execution_count": 224,
   "metadata": {
    "collapsed": true
   },
   "outputs": [],
   "source": [
    "rfr = RandomForestRegressor()"
   ]
  },
  {
   "cell_type": "code",
   "execution_count": 225,
   "metadata": {},
   "outputs": [
    {
     "data": {
      "text/plain": [
       "<matplotlib.collections.PathCollection at 0x1cd74924c88>"
      ]
     },
     "execution_count": 225,
     "metadata": {},
     "output_type": "execute_result"
    },
    {
     "data": {
      "image/png": "[encoded data removed]",
      "text/plain": [
       "<matplotlib.figure.Figure at 0x1cd74891828>"
      ]
     },
     "metadata": {},
     "output_type": "display_data"
    }
   ],
   "source": [
    "plt.scatter(Y_test, Y_pred)"
   ]
  },
  {
   "cell_type": "code",
   "execution_count": 194,
   "metadata": {},
   "outputs": [
    {
     "name": "stderr",
     "output_type": "stream",
     "text": [
      "C:\\Users\\eduardo.hernanz\\AppData\\Local\\Continuum\\Anaconda3\\lib\\site-packages\\ipykernel_launcher.py:1: DataConversionWarning: A column-vector y was passed when a 1d array was expected. Please change the shape of y to (n_samples,), for example using ravel().\n",
      "  \"\"\"Entry point for launching an IPython kernel.\n"
     ]
    },
    {
     "data": {
      "text/plain": [
       "0.16729411764705884"
      ]
     },
     "execution_count": 194,
     "metadata": {},
     "output_type": "execute_result"
    }
   ],
   "source": [
    "rfr.fit(X_train, Y_train)\n",
    "Y_pred = rfr.predict(X_test)\n",
    "mean_squared_error(Y_test,Y_pred)"
   ]
  },
  {
   "cell_type": "code",
   "execution_count": 180,
   "metadata": {
    "scrolled": true
   },
   "outputs": [
    {
     "data": {
      "text/html": [
       "<div>\n",
       "<style>\n",
       "    .dataframe thead tr:only-child th {\n",
       "        text-align: right;\n",
       "    }\n",
       "\n",
       "    .dataframe thead th {\n",
       "        text-align: left;\n",
       "    }\n",
       "\n",
       "    .dataframe tbody tr th {\n",
       "        vertical-align: top;\n",
       "    }\n",
       "</style>\n",
       "<table border=\"1\" class=\"dataframe\">\n",
       "  <thead>\n",
       "    <tr style=\"text-align: right;\">\n",
       "      <th></th>\n",
       "      <th>tramo</th>\n",
       "      <th>tramo_inicial</th>\n",
       "      <th>tramo_final</th>\n",
       "      <th>pwr</th>\n",
       "      <th>time_seg</th>\n",
       "      <th>dist</th>\n",
       "      <th>spd</th>\n",
       "      <th>viento_aparente</th>\n",
       "      <th>porc</th>\n",
       "      <th>prueba</th>\n",
       "      <th>target</th>\n",
       "      <th>dist_log</th>\n",
       "    </tr>\n",
       "  </thead>\n",
       "  <tbody>\n",
       "    <tr>\n",
       "      <th>18</th>\n",
       "      <td>18</td>\n",
       "      <td>1338</td>\n",
       "      <td>1498</td>\n",
       "      <td>33.57256</td>\n",
       "      <td>203</td>\n",
       "      <td>2232.87854</td>\n",
       "      <td>39.597846</td>\n",
       "      <td>-20.42575</td>\n",
       "      <td>-3.708417</td>\n",
       "      <td>20180415_LEVS_195_90_R_E.gpx</td>\n",
       "      <td>1</td>\n",
       "      <td>1</td>\n",
       "    </tr>\n",
       "  </tbody>\n",
       "</table>\n",
       "</div>"
      ],
      "text/plain": [
       "    tramo  tramo_inicial  tramo_final       pwr  time_seg        dist  \\\n",
       "18     18           1338         1498  33.57256       203  2232.87854   \n",
       "\n",
       "          spd  viento_aparente      porc                        prueba  \\\n",
       "18  39.597846        -20.42575 -3.708417  20180415_LEVS_195_90_R_E.gpx   \n",
       "\n",
       "    target  dist_log  \n",
       "18       1         1  "
      ]
     },
     "execution_count": 180,
     "metadata": {},
     "output_type": "execute_result"
    }
   ],
   "source": [
    "df[(df['dist']>2232) & (df['dist']<2233)]"
   ]
  },
  {
   "cell_type": "code",
   "execution_count": 232,
   "metadata": {},
   "outputs": [
    {
     "name": "stderr",
     "output_type": "stream",
     "text": [
      "C:\\Users\\eduardo.hernanz\\AppData\\Local\\Continuum\\Anaconda3\\lib\\site-packages\\ipykernel_launcher.py:1: SettingWithCopyWarning: \n",
      "A value is trying to be set on a copy of a slice from a DataFrame.\n",
      "Try using .loc[row_indexer,col_indexer] = value instead\n",
      "\n",
      "See the caveats in the documentation: http://pandas.pydata.org/pandas-docs/stable/indexing.html#indexing-view-versus-copy\n",
      "  \"\"\"Entry point for launching an IPython kernel.\n",
      "C:\\Users\\eduardo.hernanz\\AppData\\Local\\Continuum\\Anaconda3\\lib\\site-packages\\ipykernel_launcher.py:2: SettingWithCopyWarning: \n",
      "A value is trying to be set on a copy of a slice from a DataFrame.\n",
      "Try using .loc[row_indexer,col_indexer] = value instead\n",
      "\n",
      "See the caveats in the documentation: http://pandas.pydata.org/pandas-docs/stable/indexing.html#indexing-view-versus-copy\n",
      "  \n",
      "C:\\Users\\eduardo.hernanz\\AppData\\Local\\Continuum\\Anaconda3\\lib\\site-packages\\ipykernel_launcher.py:3: SettingWithCopyWarning: \n",
      "A value is trying to be set on a copy of a slice from a DataFrame.\n",
      "Try using .loc[row_indexer,col_indexer] = value instead\n",
      "\n",
      "See the caveats in the documentation: http://pandas.pydata.org/pandas-docs/stable/indexing.html#indexing-view-versus-copy\n",
      "  This is separate from the ipykernel package so we can avoid doing imports until\n",
      "C:\\Users\\eduardo.hernanz\\AppData\\Local\\Continuum\\Anaconda3\\lib\\site-packages\\ipykernel_launcher.py:4: SettingWithCopyWarning: \n",
      "A value is trying to be set on a copy of a slice from a DataFrame.\n",
      "Try using .loc[row_indexer,col_indexer] = value instead\n",
      "\n",
      "See the caveats in the documentation: http://pandas.pydata.org/pandas-docs/stable/indexing.html#indexing-view-versus-copy\n",
      "  after removing the cwd from sys.path.\n",
      "C:\\Users\\eduardo.hernanz\\AppData\\Local\\Continuum\\Anaconda3\\lib\\site-packages\\ipykernel_launcher.py:5: SettingWithCopyWarning: \n",
      "A value is trying to be set on a copy of a slice from a DataFrame.\n",
      "Try using .loc[row_indexer,col_indexer] = value instead\n",
      "\n",
      "See the caveats in the documentation: http://pandas.pydata.org/pandas-docs/stable/indexing.html#indexing-view-versus-copy\n",
      "  \"\"\"\n",
      "C:\\Users\\eduardo.hernanz\\AppData\\Local\\Continuum\\Anaconda3\\lib\\site-packages\\ipykernel_launcher.py:6: SettingWithCopyWarning: \n",
      "A value is trying to be set on a copy of a slice from a DataFrame.\n",
      "Try using .loc[row_indexer,col_indexer] = value instead\n",
      "\n",
      "See the caveats in the documentation: http://pandas.pydata.org/pandas-docs/stable/indexing.html#indexing-view-versus-copy\n",
      "  \n",
      "C:\\Users\\eduardo.hernanz\\AppData\\Local\\Continuum\\Anaconda3\\lib\\site-packages\\ipykernel_launcher.py:7: SettingWithCopyWarning: \n",
      "A value is trying to be set on a copy of a slice from a DataFrame.\n",
      "Try using .loc[row_indexer,col_indexer] = value instead\n",
      "\n",
      "See the caveats in the documentation: http://pandas.pydata.org/pandas-docs/stable/indexing.html#indexing-view-versus-copy\n",
      "  import sys\n",
      "C:\\Users\\eduardo.hernanz\\AppData\\Local\\Continuum\\Anaconda3\\lib\\site-packages\\ipykernel_launcher.py:8: SettingWithCopyWarning: \n",
      "A value is trying to be set on a copy of a slice from a DataFrame.\n",
      "Try using .loc[row_indexer,col_indexer] = value instead\n",
      "\n",
      "See the caveats in the documentation: http://pandas.pydata.org/pandas-docs/stable/indexing.html#indexing-view-versus-copy\n",
      "  \n"
     ]
    }
   ],
   "source": [
    "Y_test['Y_pred'] = Y_pred\n",
    "Y_test['dist_log'] = X_test['dist_log']\n",
    "Y_test['porc'] = X_test['porc']\n",
    "Y_test['viento_aparente'] = X_test['viento_aparente']\n",
    "Y_test['pwr'] = X_test2['pwr']\n",
    "Y_test['spd'] = X_test2['spd']\n",
    "Y_test['dist'] = X_test2['dist']\n",
    "Y_test['prueba'] = X_test2['prueba']\n",
    "\n",
    "\n",
    "Y_test.to_csv('RFClassifier.csv')"
   ]
  },
  {
   "cell_type": "code",
   "execution_count": 183,
   "metadata": {},
   "outputs": [
    {
     "data": {
      "text/plain": [
       "9.2301429992723616"
      ]
     },
     "execution_count": 183,
     "metadata": {},
     "output_type": "execute_result"
    }
   ],
   "source": [
    "np.log(10200)"
   ]
  }
 ],
 "metadata": {
  "kernelspec": {
   "display_name": "Python 3",
   "language": "python",
   "name": "python3"
  },
  "language_info": {
   "codemirror_mode": {
    "name": "ipython",
    "version": 3
   },
   "file_extension": ".py",
   "mimetype": "text/x-python",
   "name": "python",
   "nbconvert_exporter": "python",
   "pygments_lexer": "ipython3",
   "version": "3.6.1"
  }
 },
 "nbformat": 4,
 "nbformat_minor": 2
}
