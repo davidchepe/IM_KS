{
 "cells": [
  {
   "cell_type": "code",
   "execution_count": 83,
   "metadata": {
    "collapsed": true
   },
   "outputs": [],
   "source": [
    "#La Potencia viene dada por la siguiente formula"
   ]
  },
  {
   "cell_type": "markdown",
   "metadata": {},
   "source": [
    "$P = \\frac{\\rho}{2}(V+wV)^2VCdA+(Cr+\\%)mgV$\n",
    "\n",
    "Dónde:\n",
    "\n",
    "P es la potencia necesaria\n",
    "\n",
    "$\\rho$ es la densidad del aire\n",
    "\n",
    "V es la velocidad\n",
    "\n",
    "wV es velocidad el viento\n",
    "\n",
    "Cd es el coeficiente de drag\n",
    "\n",
    "A es el área efectiva\n",
    "\n",
    "Cr es el coeficiente de rozamiento\n",
    "\n",
    "$\\%$ es la pendiente\n",
    "\n",
    "m es la masa total del conjunto bicicleta - ciclista"
   ]
  },
  {
   "cell_type": "code",
   "execution_count": 84,
   "metadata": {
    "collapsed": true
   },
   "outputs": [],
   "source": [
    "import os\n",
    "import pandas as pd\n",
    "import matplotlib.pylab as plt\n",
    "%matplotlib inline\n",
    "plt.style.use('seaborn')\n",
    "import numpy as np\n"
   ]
  },
  {
   "cell_type": "markdown",
   "metadata": {},
   "source": [
    "### Cargamos los datos"
   ]
  },
  {
   "cell_type": "code",
   "execution_count": 85,
   "metadata": {
    "collapsed": true
   },
   "outputs": [],
   "source": [
    "path = '../Machine Learning/20180406_LEVS_195_90_R_E_ml_pca_clust.csv'"
   ]
  },
  {
   "cell_type": "code",
   "execution_count": 86,
   "metadata": {
    "collapsed": true
   },
   "outputs": [],
   "source": [
    "df = pd.read_csv(path)"
   ]
  },
  {
   "cell_type": "code",
   "execution_count": 87,
   "metadata": {},
   "outputs": [
    {
     "data": {
      "text/html": [
       "<div>\n",
       "<style>\n",
       "    .dataframe thead tr:only-child th {\n",
       "        text-align: right;\n",
       "    }\n",
       "\n",
       "    .dataframe thead th {\n",
       "        text-align: left;\n",
       "    }\n",
       "\n",
       "    .dataframe tbody tr th {\n",
       "        vertical-align: top;\n",
       "    }\n",
       "</style>\n",
       "<table border=\"1\" class=\"dataframe\">\n",
       "  <thead>\n",
       "    <tr style=\"text-align: right;\">\n",
       "      <th></th>\n",
       "      <th>Unnamed: 0</th>\n",
       "      <th>pwr</th>\n",
       "      <th>spd</th>\n",
       "      <th>porc</th>\n",
       "      <th>viento_aparente</th>\n",
       "      <th>k-means</th>\n",
       "      <th>gaussian</th>\n",
       "    </tr>\n",
       "  </thead>\n",
       "  <tbody>\n",
       "    <tr>\n",
       "      <th>0</th>\n",
       "      <td>0</td>\n",
       "      <td>0.0</td>\n",
       "      <td>5.000000</td>\n",
       "      <td>0.000000</td>\n",
       "      <td>0.000000</td>\n",
       "      <td>2</td>\n",
       "      <td>1</td>\n",
       "    </tr>\n",
       "    <tr>\n",
       "      <th>1</th>\n",
       "      <td>1</td>\n",
       "      <td>0.0</td>\n",
       "      <td>5.141748</td>\n",
       "      <td>-11.731324</td>\n",
       "      <td>9.363222</td>\n",
       "      <td>2</td>\n",
       "      <td>1</td>\n",
       "    </tr>\n",
       "    <tr>\n",
       "      <th>2</th>\n",
       "      <td>2</td>\n",
       "      <td>0.0</td>\n",
       "      <td>5.200000</td>\n",
       "      <td>1.398533</td>\n",
       "      <td>9.817220</td>\n",
       "      <td>2</td>\n",
       "      <td>1</td>\n",
       "    </tr>\n",
       "    <tr>\n",
       "      <th>3</th>\n",
       "      <td>3</td>\n",
       "      <td>0.0</td>\n",
       "      <td>5.238999</td>\n",
       "      <td>-11.945909</td>\n",
       "      <td>9.986843</td>\n",
       "      <td>2</td>\n",
       "      <td>1</td>\n",
       "    </tr>\n",
       "    <tr>\n",
       "      <th>4</th>\n",
       "      <td>4</td>\n",
       "      <td>0.0</td>\n",
       "      <td>5.300000</td>\n",
       "      <td>-3.689984</td>\n",
       "      <td>9.813719</td>\n",
       "      <td>2</td>\n",
       "      <td>1</td>\n",
       "    </tr>\n",
       "  </tbody>\n",
       "</table>\n",
       "</div>"
      ],
      "text/plain": [
       "   Unnamed: 0  pwr       spd       porc  viento_aparente  k-means  gaussian\n",
       "0           0  0.0  5.000000   0.000000         0.000000        2         1\n",
       "1           1  0.0  5.141748 -11.731324         9.363222        2         1\n",
       "2           2  0.0  5.200000   1.398533         9.817220        2         1\n",
       "3           3  0.0  5.238999 -11.945909         9.986843        2         1\n",
       "4           4  0.0  5.300000  -3.689984         9.813719        2         1"
      ]
     },
     "execution_count": 87,
     "metadata": {},
     "output_type": "execute_result"
    }
   ],
   "source": [
    "df.head()"
   ]
  },
  {
   "cell_type": "code",
   "execution_count": 88,
   "metadata": {
    "collapsed": true
   },
   "outputs": [],
   "source": [
    "# Hacemos que la target sea el pwr solo por ver como funciona el modelo. Luego habrá que despejar y calcular spd"
   ]
  },
  {
   "cell_type": "code",
   "execution_count": 89,
   "metadata": {
    "collapsed": true
   },
   "outputs": [],
   "source": [
    "from sklearn import datasets, linear_model\n",
    "from sklearn.metrics import mean_squared_error, r2_score"
   ]
  },
  {
   "cell_type": "code",
   "execution_count": 90,
   "metadata": {
    "collapsed": true
   },
   "outputs": [],
   "source": [
    "df_lm = df[['pwr','spd','porc','viento_aparente']]"
   ]
  },
  {
   "cell_type": "raw",
   "metadata": {},
   "source": [
    "# train = round(len(df_lm)*0.7)\n",
    "train\n",
    "test = len(df_lm)-train\n",
    "test"
   ]
  },
  {
   "cell_type": "code",
   "execution_count": 91,
   "metadata": {
    "collapsed": true
   },
   "outputs": [],
   "source": [
    "df_lm_x = df[['spd','porc','viento_aparente']]\n",
    "df_lm_y = df[['pwr']]"
   ]
  },
  {
   "cell_type": "code",
   "execution_count": 92,
   "metadata": {
    "collapsed": true
   },
   "outputs": [],
   "source": [
    "from sklearn.model_selection import train_test_split\n",
    "X_train, X_test, Y_train, Y_test = train_test_split(df_lm_x, df_lm_y, test_size=0.30, random_state=42)"
   ]
  },
  {
   "cell_type": "raw",
   "metadata": {},
   "source": [
    "X_train = df_lm_x[:train]\n",
    "X_test = df_lm_x[test:]"
   ]
  },
  {
   "cell_type": "raw",
   "metadata": {
    "collapsed": true
   },
   "source": [
    "Y_train = df_lm_y[:train]\n",
    "Y_test = df_lm_y[test:]"
   ]
  },
  {
   "cell_type": "code",
   "execution_count": 93,
   "metadata": {},
   "outputs": [
    {
     "data": {
      "text/plain": [
       "LinearRegression(copy_X=True, fit_intercept=True, n_jobs=1, normalize=False)"
      ]
     },
     "execution_count": 93,
     "metadata": {},
     "output_type": "execute_result"
    }
   ],
   "source": [
    "# Create linear regression object\n",
    "regr = linear_model.LinearRegression()\n",
    "\n",
    "# Train the model using the training sets\n",
    "regr.fit(X_train, Y_train)"
   ]
  },
  {
   "cell_type": "code",
   "execution_count": 94,
   "metadata": {
    "collapsed": true
   },
   "outputs": [],
   "source": [
    "# Make predictions using the testing set\n",
    "Y_pred = regr.predict(X_test)"
   ]
  },
  {
   "cell_type": "code",
   "execution_count": 95,
   "metadata": {
    "scrolled": true
   },
   "outputs": [
    {
     "data": {
      "text/html": [
       "<div>\n",
       "<style>\n",
       "    .dataframe thead tr:only-child th {\n",
       "        text-align: right;\n",
       "    }\n",
       "\n",
       "    .dataframe thead th {\n",
       "        text-align: left;\n",
       "    }\n",
       "\n",
       "    .dataframe tbody tr th {\n",
       "        vertical-align: top;\n",
       "    }\n",
       "</style>\n",
       "<table border=\"1\" class=\"dataframe\">\n",
       "  <thead>\n",
       "    <tr style=\"text-align: right;\">\n",
       "      <th></th>\n",
       "      <th>spd</th>\n",
       "      <th>porc</th>\n",
       "      <th>viento_aparente</th>\n",
       "    </tr>\n",
       "  </thead>\n",
       "  <tbody>\n",
       "    <tr>\n",
       "      <th>count</th>\n",
       "      <td>2276.000000</td>\n",
       "      <td>2276.000000</td>\n",
       "      <td>2276.000000</td>\n",
       "    </tr>\n",
       "    <tr>\n",
       "      <th>mean</th>\n",
       "      <td>8.562566</td>\n",
       "      <td>0.440846</td>\n",
       "      <td>0.065414</td>\n",
       "    </tr>\n",
       "    <tr>\n",
       "      <th>std</th>\n",
       "      <td>4.680213</td>\n",
       "      <td>6.050870</td>\n",
       "      <td>7.347927</td>\n",
       "    </tr>\n",
       "    <tr>\n",
       "      <th>min</th>\n",
       "      <td>0.500000</td>\n",
       "      <td>-22.513542</td>\n",
       "      <td>-10.000000</td>\n",
       "    </tr>\n",
       "    <tr>\n",
       "      <th>25%</th>\n",
       "      <td>4.400000</td>\n",
       "      <td>-3.451678</td>\n",
       "      <td>-8.105006</td>\n",
       "    </tr>\n",
       "    <tr>\n",
       "      <th>50%</th>\n",
       "      <td>7.900000</td>\n",
       "      <td>0.000000</td>\n",
       "      <td>0.492105</td>\n",
       "    </tr>\n",
       "    <tr>\n",
       "      <th>75%</th>\n",
       "      <td>11.600000</td>\n",
       "      <td>4.587041</td>\n",
       "      <td>7.570282</td>\n",
       "    </tr>\n",
       "    <tr>\n",
       "      <th>max</th>\n",
       "      <td>22.700001</td>\n",
       "      <td>33.437843</td>\n",
       "      <td>10.000000</td>\n",
       "    </tr>\n",
       "  </tbody>\n",
       "</table>\n",
       "</div>"
      ],
      "text/plain": [
       "               spd         porc  viento_aparente\n",
       "count  2276.000000  2276.000000      2276.000000\n",
       "mean      8.562566     0.440846         0.065414\n",
       "std       4.680213     6.050870         7.347927\n",
       "min       0.500000   -22.513542       -10.000000\n",
       "25%       4.400000    -3.451678        -8.105006\n",
       "50%       7.900000     0.000000         0.492105\n",
       "75%      11.600000     4.587041         7.570282\n",
       "max      22.700001    33.437843        10.000000"
      ]
     },
     "execution_count": 95,
     "metadata": {},
     "output_type": "execute_result"
    }
   ],
   "source": [
    "X_test.describe()"
   ]
  },
  {
   "cell_type": "code",
   "execution_count": 96,
   "metadata": {
    "scrolled": true
   },
   "outputs": [
    {
     "data": {
      "text/html": [
       "<div>\n",
       "<style>\n",
       "    .dataframe thead tr:only-child th {\n",
       "        text-align: right;\n",
       "    }\n",
       "\n",
       "    .dataframe thead th {\n",
       "        text-align: left;\n",
       "    }\n",
       "\n",
       "    .dataframe tbody tr th {\n",
       "        vertical-align: top;\n",
       "    }\n",
       "</style>\n",
       "<table border=\"1\" class=\"dataframe\">\n",
       "  <thead>\n",
       "    <tr style=\"text-align: right;\">\n",
       "      <th></th>\n",
       "      <th>pwr</th>\n",
       "    </tr>\n",
       "  </thead>\n",
       "  <tbody>\n",
       "    <tr>\n",
       "      <th>count</th>\n",
       "      <td>2276.000000</td>\n",
       "    </tr>\n",
       "    <tr>\n",
       "      <th>mean</th>\n",
       "      <td>157.062295</td>\n",
       "    </tr>\n",
       "    <tr>\n",
       "      <th>std</th>\n",
       "      <td>99.371667</td>\n",
       "    </tr>\n",
       "    <tr>\n",
       "      <th>min</th>\n",
       "      <td>0.000000</td>\n",
       "    </tr>\n",
       "    <tr>\n",
       "      <th>25%</th>\n",
       "      <td>77.664229</td>\n",
       "    </tr>\n",
       "    <tr>\n",
       "      <th>50%</th>\n",
       "      <td>184.414847</td>\n",
       "    </tr>\n",
       "    <tr>\n",
       "      <th>75%</th>\n",
       "      <td>235.942341</td>\n",
       "    </tr>\n",
       "    <tr>\n",
       "      <th>max</th>\n",
       "      <td>412.901105</td>\n",
       "    </tr>\n",
       "  </tbody>\n",
       "</table>\n",
       "</div>"
      ],
      "text/plain": [
       "               pwr\n",
       "count  2276.000000\n",
       "mean    157.062295\n",
       "std      99.371667\n",
       "min       0.000000\n",
       "25%      77.664229\n",
       "50%     184.414847\n",
       "75%     235.942341\n",
       "max     412.901105"
      ]
     },
     "execution_count": 96,
     "metadata": {},
     "output_type": "execute_result"
    }
   ],
   "source": [
    "Y_test.describe()"
   ]
  },
  {
   "cell_type": "code",
   "execution_count": 97,
   "metadata": {},
   "outputs": [
    {
     "name": "stdout",
     "output_type": "stream",
     "text": [
      "Coefficients: \n",
      " [[-9.90754219  4.89970779  1.0293756 ]]\n",
      "Mean squared error: 4821.96\n",
      "Variance score: 0.51\n"
     ]
    },
    {
     "data": {
      "image/png": "[encoded data removed]",
      "text/plain": [
       "<matplotlib.figure.Figure at 0x1dab3ba4320>"
      ]
     },
     "metadata": {},
     "output_type": "display_data"
    }
   ],
   "source": [
    "# The coefficients\n",
    "print('Coefficients: \\n', regr.coef_)\n",
    "# The mean squared error\n",
    "print(\"Mean squared error: %.2f\"\n",
    "      % mean_squared_error(Y_test, Y_pred))\n",
    "# Explained variance score: 1 is perfect prediction\n",
    "print('Variance score: %.2f' % r2_score(Y_test, Y_pred))\n",
    "\n",
    "# Plot outputs\n",
    "plt.subplot(131)\n",
    "plt.scatter(X_test['spd'], Y_test,  color='black')\n",
    "plt.plot(X_test['spd'], Y_pred, color='blue', linewidth=3)\n",
    "plt.grid(True)\n",
    "\n",
    "plt.subplot(132)\n",
    "plt.scatter(X_test['porc'], Y_test,  color='black')\n",
    "plt.plot(X_test['porc'], Y_pred, color='red', linewidth=3)\n",
    "plt.grid(True)\n",
    "\n",
    "plt.subplot(133)\n",
    "plt.scatter(X_test['viento_aparente'], Y_test,  color='black')\n",
    "plt.plot(X_test['viento_aparente'], Y_pred, color='green', linewidth=3)\n",
    "plt.grid(True)\n",
    "\n",
    "#plt.xticks(())\n",
    "#plt.yticks(())\n",
    "\n",
    "plt.show()"
   ]
  },
  {
   "cell_type": "code",
   "execution_count": 98,
   "metadata": {
    "collapsed": true
   },
   "outputs": [],
   "source": [
    "#Probamos otra cosa. Vamos a darle al modelo calculados los terminos de la formula"
   ]
  },
  {
   "cell_type": "markdown",
   "metadata": {},
   "source": [
    "$P = \\frac{\\rho}{2}(V+wV)^2VCdA+(Cr+\\%)mgV$\n",
    "\n",
    "$P = \\frac{\\rho}{2}(V+wV)^2VCdA+CrmgV+\\%mgV$"
   ]
  },
  {
   "cell_type": "code",
   "execution_count": 99,
   "metadata": {},
   "outputs": [
    {
     "name": "stderr",
     "output_type": "stream",
     "text": [
      "C:\\Users\\eduardo.hernanz\\AppData\\Local\\Continuum\\Anaconda3\\lib\\site-packages\\ipykernel_launcher.py:5: SettingWithCopyWarning: \n",
      "A value is trying to be set on a copy of a slice from a DataFrame.\n",
      "Try using .loc[row_indexer,col_indexer] = value instead\n",
      "\n",
      "See the caveats in the documentation: http://pandas.pydata.org/pandas-docs/stable/indexing.html#indexing-view-versus-copy\n",
      "  \"\"\"\n",
      "C:\\Users\\eduardo.hernanz\\AppData\\Local\\Continuum\\Anaconda3\\lib\\site-packages\\ipykernel_launcher.py:6: SettingWithCopyWarning: \n",
      "A value is trying to be set on a copy of a slice from a DataFrame.\n",
      "Try using .loc[row_indexer,col_indexer] = value instead\n",
      "\n",
      "See the caveats in the documentation: http://pandas.pydata.org/pandas-docs/stable/indexing.html#indexing-view-versus-copy\n",
      "  \n",
      "C:\\Users\\eduardo.hernanz\\AppData\\Local\\Continuum\\Anaconda3\\lib\\site-packages\\ipykernel_launcher.py:7: SettingWithCopyWarning: \n",
      "A value is trying to be set on a copy of a slice from a DataFrame.\n",
      "Try using .loc[row_indexer,col_indexer] = value instead\n",
      "\n",
      "See the caveats in the documentation: http://pandas.pydata.org/pandas-docs/stable/indexing.html#indexing-view-versus-copy\n",
      "  import sys\n"
     ]
    }
   ],
   "source": [
    "#añadimos aqui\n",
    "#df_lm_x = df[['spd','porc','viento_aparente']]\n",
    "#df_lm_y = df[['pwr']]\n",
    "\n",
    "df_lm_x['termino_cda'] = (df_lm_x['spd']+df_lm_x['viento_aparente'])**2*df_lm_x['spd']\n",
    "df_lm_x['termino_roz'] = df_lm_x['spd']*90\n",
    "df_lm_x['termino_cte'] = df_lm_x['spd']*df_lm_x['porc']*90"
   ]
  },
  {
   "cell_type": "code",
   "execution_count": 100,
   "metadata": {},
   "outputs": [
    {
     "data": {
      "text/html": [
       "<div>\n",
       "<style>\n",
       "    .dataframe thead tr:only-child th {\n",
       "        text-align: right;\n",
       "    }\n",
       "\n",
       "    .dataframe thead th {\n",
       "        text-align: left;\n",
       "    }\n",
       "\n",
       "    .dataframe tbody tr th {\n",
       "        vertical-align: top;\n",
       "    }\n",
       "</style>\n",
       "<table border=\"1\" class=\"dataframe\">\n",
       "  <thead>\n",
       "    <tr style=\"text-align: right;\">\n",
       "      <th></th>\n",
       "      <th>spd</th>\n",
       "      <th>porc</th>\n",
       "      <th>viento_aparente</th>\n",
       "      <th>termino_cda</th>\n",
       "      <th>termino_roz</th>\n",
       "      <th>termino_cte</th>\n",
       "    </tr>\n",
       "  </thead>\n",
       "  <tbody>\n",
       "    <tr>\n",
       "      <th>count</th>\n",
       "      <td>7586.000000</td>\n",
       "      <td>7586.000000</td>\n",
       "      <td>7586.000000</td>\n",
       "      <td>7586.000000</td>\n",
       "      <td>7586.000000</td>\n",
       "      <td>7586.000000</td>\n",
       "    </tr>\n",
       "    <tr>\n",
       "      <th>mean</th>\n",
       "      <td>8.369993</td>\n",
       "      <td>0.566121</td>\n",
       "      <td>0.019477</td>\n",
       "      <td>1656.010690</td>\n",
       "      <td>753.299377</td>\n",
       "      <td>-1306.478042</td>\n",
       "    </tr>\n",
       "    <tr>\n",
       "      <th>std</th>\n",
       "      <td>4.609740</td>\n",
       "      <td>6.021843</td>\n",
       "      <td>7.389041</td>\n",
       "      <td>3049.514249</td>\n",
       "      <td>414.876627</td>\n",
       "      <td>5209.575737</td>\n",
       "    </tr>\n",
       "    <tr>\n",
       "      <th>min</th>\n",
       "      <td>0.000000</td>\n",
       "      <td>-34.371736</td>\n",
       "      <td>-10.000000</td>\n",
       "      <td>0.000000</td>\n",
       "      <td>0.000000</td>\n",
       "      <td>-47317.457777</td>\n",
       "    </tr>\n",
       "    <tr>\n",
       "      <th>25%</th>\n",
       "      <td>4.300000</td>\n",
       "      <td>-3.167782</td>\n",
       "      <td>-8.096809</td>\n",
       "      <td>60.967664</td>\n",
       "      <td>387.000017</td>\n",
       "      <td>-2925.517635</td>\n",
       "    </tr>\n",
       "    <tr>\n",
       "      <th>50%</th>\n",
       "      <td>7.700000</td>\n",
       "      <td>0.000000</td>\n",
       "      <td>0.265508</td>\n",
       "      <td>435.095634</td>\n",
       "      <td>692.999983</td>\n",
       "      <td>0.000000</td>\n",
       "    </tr>\n",
       "    <tr>\n",
       "      <th>75%</th>\n",
       "      <td>11.445358</td>\n",
       "      <td>4.621375</td>\n",
       "      <td>7.617296</td>\n",
       "      <td>1740.384350</td>\n",
       "      <td>1030.082177</td>\n",
       "      <td>1815.265832</td>\n",
       "    </tr>\n",
       "    <tr>\n",
       "      <th>max</th>\n",
       "      <td>22.700001</td>\n",
       "      <td>37.473409</td>\n",
       "      <td>10.000000</td>\n",
       "      <td>23032.248422</td>\n",
       "      <td>2043.000069</td>\n",
       "      <td>15924.144553</td>\n",
       "    </tr>\n",
       "  </tbody>\n",
       "</table>\n",
       "</div>"
      ],
      "text/plain": [
       "               spd         porc  viento_aparente   termino_cda  termino_roz  \\\n",
       "count  7586.000000  7586.000000      7586.000000   7586.000000  7586.000000   \n",
       "mean      8.369993     0.566121         0.019477   1656.010690   753.299377   \n",
       "std       4.609740     6.021843         7.389041   3049.514249   414.876627   \n",
       "min       0.000000   -34.371736       -10.000000      0.000000     0.000000   \n",
       "25%       4.300000    -3.167782        -8.096809     60.967664   387.000017   \n",
       "50%       7.700000     0.000000         0.265508    435.095634   692.999983   \n",
       "75%      11.445358     4.621375         7.617296   1740.384350  1030.082177   \n",
       "max      22.700001    37.473409        10.000000  23032.248422  2043.000069   \n",
       "\n",
       "        termino_cte  \n",
       "count   7586.000000  \n",
       "mean   -1306.478042  \n",
       "std     5209.575737  \n",
       "min   -47317.457777  \n",
       "25%    -2925.517635  \n",
       "50%        0.000000  \n",
       "75%     1815.265832  \n",
       "max    15924.144553  "
      ]
     },
     "execution_count": 100,
     "metadata": {},
     "output_type": "execute_result"
    }
   ],
   "source": [
    "df_lm_x.describe()"
   ]
  },
  {
   "cell_type": "code",
   "execution_count": null,
   "metadata": {
    "collapsed": true
   },
   "outputs": [],
   "source": []
  },
  {
   "cell_type": "code",
   "execution_count": 101,
   "metadata": {
    "collapsed": true
   },
   "outputs": [],
   "source": [
    "df_lm_x2 = df_lm_x[['termino_cda','termino_roz','termino_cte']]\n",
    "df_lm_y2 = df_lm_y[['pwr']]"
   ]
  },
  {
   "cell_type": "code",
   "execution_count": 102,
   "metadata": {
    "collapsed": true
   },
   "outputs": [],
   "source": [
    "X_train2, X_test2, Y_train2, Y_test2 = train_test_split(df_lm_x2, df_lm_y2, test_size=0.30, random_state=42)"
   ]
  },
  {
   "cell_type": "raw",
   "metadata": {
    "collapsed": true
   },
   "source": [
    "X_train2 = df_lm_x2[:train]\n",
    "X_test2 = df_lm_x2[test:]"
   ]
  },
  {
   "cell_type": "raw",
   "metadata": {
    "collapsed": true
   },
   "source": [
    "Y_train2 = df_lm_y2[:train]\n",
    "Y_test2 = df_lm_y2[test:]"
   ]
  },
  {
   "cell_type": "code",
   "execution_count": 103,
   "metadata": {},
   "outputs": [
    {
     "data": {
      "text/plain": [
       "LinearRegression(copy_X=True, fit_intercept=True, n_jobs=1, normalize=False)"
      ]
     },
     "execution_count": 103,
     "metadata": {},
     "output_type": "execute_result"
    }
   ],
   "source": [
    "# Create linear regression object\n",
    "regr2 = linear_model.LinearRegression()\n",
    "\n",
    "# Train the model using the training sets\n",
    "regr2.fit(X_train2, Y_train2)"
   ]
  },
  {
   "cell_type": "code",
   "execution_count": null,
   "metadata": {
    "collapsed": true
   },
   "outputs": [],
   "source": []
  },
  {
   "cell_type": "code",
   "execution_count": 104,
   "metadata": {
    "collapsed": true
   },
   "outputs": [],
   "source": [
    "# Make predictions using the testing set\n",
    "Y_pred2 = regr2.predict(X_test2)"
   ]
  },
  {
   "cell_type": "code",
   "execution_count": 105,
   "metadata": {},
   "outputs": [
    {
     "name": "stdout",
     "output_type": "stream",
     "text": [
      "Coefficients: \n",
      " [[ 0.00381297 -0.14047982  0.00431919]]\n",
      "Mean squared error: 4961.80\n",
      "Variance score: 0.50\n"
     ]
    }
   ],
   "source": [
    "# The coefficients\n",
    "print('Coefficients: \\n', regr2.coef_)\n",
    "# The mean squared error\n",
    "print(\"Mean squared error: %.2f\"\n",
    "      % mean_squared_error(Y_test2, Y_pred2))\n",
    "# Explained variance score: 1 is perfect prediction\n",
    "print('Variance score: %.2f' % r2_score(Y_test2, Y_pred2))\n",
    "\n"
   ]
  },
  {
   "cell_type": "code",
   "execution_count": null,
   "metadata": {
    "collapsed": true
   },
   "outputs": [],
   "source": []
  },
  {
   "cell_type": "code",
   "execution_count": null,
   "metadata": {
    "collapsed": true
   },
   "outputs": [],
   "source": []
  },
  {
   "cell_type": "markdown",
   "metadata": {},
   "source": [
    "### Ridge"
   ]
  },
  {
   "cell_type": "code",
   "execution_count": 106,
   "metadata": {
    "collapsed": true
   },
   "outputs": [],
   "source": [
    "rid = linear_model.Ridge(alpha=0.5)"
   ]
  },
  {
   "cell_type": "code",
   "execution_count": 107,
   "metadata": {},
   "outputs": [
    {
     "data": {
      "text/plain": [
       "Ridge(alpha=0.5, copy_X=True, fit_intercept=True, max_iter=None,\n",
       "   normalize=False, random_state=None, solver='auto', tol=0.001)"
      ]
     },
     "execution_count": 107,
     "metadata": {},
     "output_type": "execute_result"
    }
   ],
   "source": [
    "rid.fit(X_train2,Y_train2)"
   ]
  },
  {
   "cell_type": "code",
   "execution_count": 108,
   "metadata": {
    "collapsed": true
   },
   "outputs": [],
   "source": [
    "Y_predict_rid = rid.predict(X_test2)"
   ]
  },
  {
   "cell_type": "code",
   "execution_count": 109,
   "metadata": {},
   "outputs": [
    {
     "name": "stdout",
     "output_type": "stream",
     "text": [
      "Coefficients: \n",
      " [[ 0.00381297 -0.14047982  0.00431919]]\n",
      "Mean squared error: 4961.80\n",
      "Variance score: 0.50\n"
     ]
    }
   ],
   "source": [
    "# The coefficients\n",
    "print('Coefficients: \\n', rid.coef_)\n",
    "# The mean squared error\n",
    "print(\"Mean squared error: %.2f\"\n",
    "      % mean_squared_error(Y_test2, Y_predict_rid))\n",
    "# Explained variance score: 1 is perfect prediction\n",
    "print('Variance score: %.2f' % r2_score(Y_test2, Y_predict_rid))"
   ]
  },
  {
   "cell_type": "code",
   "execution_count": null,
   "metadata": {
    "collapsed": true
   },
   "outputs": [],
   "source": []
  },
  {
   "cell_type": "code",
   "execution_count": 110,
   "metadata": {
    "collapsed": true
   },
   "outputs": [],
   "source": [
    "rid2 = linear_model.RidgeCV(alphas=[0.1, 1.0, 10.0])"
   ]
  },
  {
   "cell_type": "code",
   "execution_count": 111,
   "metadata": {},
   "outputs": [
    {
     "data": {
      "text/plain": [
       "RidgeCV(alphas=[0.1, 1.0, 10.0], cv=None, fit_intercept=True, gcv_mode=None,\n",
       "    normalize=False, scoring=None, store_cv_values=False)"
      ]
     },
     "execution_count": 111,
     "metadata": {},
     "output_type": "execute_result"
    }
   ],
   "source": [
    "rid2.fit(X_train2,Y_train2)"
   ]
  },
  {
   "cell_type": "code",
   "execution_count": 112,
   "metadata": {
    "collapsed": true
   },
   "outputs": [],
   "source": [
    "Y_predict_rid2 = rid.predict(X_test2)"
   ]
  },
  {
   "cell_type": "code",
   "execution_count": 113,
   "metadata": {},
   "outputs": [
    {
     "name": "stdout",
     "output_type": "stream",
     "text": [
      "Coefficients: \n",
      " [[ 0.00381496 -0.14047915  0.00431468]]\n",
      "Mean squared error: 4961.80\n",
      "Variance score: 0.50\n"
     ]
    }
   ],
   "source": [
    "# The coefficients\n",
    "print('Coefficients: \\n', rid2.coef_)\n",
    "# The mean squared error\n",
    "print(\"Mean squared error: %.2f\"\n",
    "      % mean_squared_error(Y_test2, Y_predict_rid2))\n",
    "# Explained variance score: 1 is perfect prediction\n",
    "print('Variance score: %.2f' % r2_score(Y_test2, Y_predict_rid2))"
   ]
  },
  {
   "cell_type": "code",
   "execution_count": null,
   "metadata": {
    "collapsed": true
   },
   "outputs": [],
   "source": []
  },
  {
   "cell_type": "code",
   "execution_count": 114,
   "metadata": {},
   "outputs": [
    {
     "data": {
      "text/plain": [
       "['pwr', 'spd', 'porc', 'viento_aparente']"
      ]
     },
     "execution_count": 114,
     "metadata": {},
     "output_type": "execute_result"
    }
   ],
   "source": [
    "['pwr','spd','porc','viento_aparente']"
   ]
  },
  {
   "cell_type": "markdown",
   "metadata": {},
   "source": [
    "### Filtramos potencias >100w y <350w"
   ]
  },
  {
   "cell_type": "code",
   "execution_count": 115,
   "metadata": {
    "collapsed": true
   },
   "outputs": [],
   "source": [
    "df_lm2 = df.loc[(df['pwr']>100)&(df['pwr']<350)]"
   ]
  },
  {
   "cell_type": "code",
   "execution_count": 116,
   "metadata": {
    "collapsed": true
   },
   "outputs": [
    {
     "data": {
      "text/html": [
       "<div>\n",
       "<style>\n",
       "    .dataframe thead tr:only-child th {\n",
       "        text-align: right;\n",
       "    }\n",
       "\n",
       "    .dataframe thead th {\n",
       "        text-align: left;\n",
       "    }\n",
       "\n",
       "    .dataframe tbody tr th {\n",
       "        vertical-align: top;\n",
       "    }\n",
       "</style>\n",
       "<table border=\"1\" class=\"dataframe\">\n",
       "  <thead>\n",
       "    <tr style=\"text-align: right;\">\n",
       "      <th></th>\n",
       "      <th>Unnamed: 0</th>\n",
       "      <th>pwr</th>\n",
       "      <th>spd</th>\n",
       "      <th>porc</th>\n",
       "      <th>viento_aparente</th>\n",
       "      <th>k-means</th>\n",
       "      <th>gaussian</th>\n",
       "    </tr>\n",
       "  </thead>\n",
       "  <tbody>\n",
       "    <tr>\n",
       "      <th>12</th>\n",
       "      <td>12</td>\n",
       "      <td>346.392776</td>\n",
       "      <td>9.413043</td>\n",
       "      <td>0.000000</td>\n",
       "      <td>10.000000</td>\n",
       "      <td>0</td>\n",
       "      <td>3</td>\n",
       "    </tr>\n",
       "    <tr>\n",
       "      <th>48</th>\n",
       "      <td>48</td>\n",
       "      <td>158.044348</td>\n",
       "      <td>10.348527</td>\n",
       "      <td>-2.940620</td>\n",
       "      <td>9.388696</td>\n",
       "      <td>3</td>\n",
       "      <td>2</td>\n",
       "    </tr>\n",
       "    <tr>\n",
       "      <th>49</th>\n",
       "      <td>49</td>\n",
       "      <td>236.809415</td>\n",
       "      <td>9.308396</td>\n",
       "      <td>-5.144776</td>\n",
       "      <td>8.321120</td>\n",
       "      <td>4</td>\n",
       "      <td>2</td>\n",
       "    </tr>\n",
       "    <tr>\n",
       "      <th>50</th>\n",
       "      <td>50</td>\n",
       "      <td>202.849728</td>\n",
       "      <td>8.682999</td>\n",
       "      <td>0.000000</td>\n",
       "      <td>5.525943</td>\n",
       "      <td>4</td>\n",
       "      <td>3</td>\n",
       "    </tr>\n",
       "    <tr>\n",
       "      <th>51</th>\n",
       "      <td>51</td>\n",
       "      <td>162.478184</td>\n",
       "      <td>8.286957</td>\n",
       "      <td>0.000000</td>\n",
       "      <td>3.815836</td>\n",
       "      <td>3</td>\n",
       "      <td>3</td>\n",
       "    </tr>\n",
       "    <tr>\n",
       "      <th>52</th>\n",
       "      <td>52</td>\n",
       "      <td>163.829990</td>\n",
       "      <td>8.200000</td>\n",
       "      <td>0.000000</td>\n",
       "      <td>2.631946</td>\n",
       "      <td>3</td>\n",
       "      <td>3</td>\n",
       "    </tr>\n",
       "    <tr>\n",
       "      <th>53</th>\n",
       "      <td>53</td>\n",
       "      <td>193.985165</td>\n",
       "      <td>8.329105</td>\n",
       "      <td>0.000000</td>\n",
       "      <td>3.101947</td>\n",
       "      <td>4</td>\n",
       "      <td>3</td>\n",
       "    </tr>\n",
       "    <tr>\n",
       "      <th>54</th>\n",
       "      <td>54</td>\n",
       "      <td>186.588235</td>\n",
       "      <td>8.400000</td>\n",
       "      <td>0.000000</td>\n",
       "      <td>2.683551</td>\n",
       "      <td>3</td>\n",
       "      <td>3</td>\n",
       "    </tr>\n",
       "    <tr>\n",
       "      <th>55</th>\n",
       "      <td>55</td>\n",
       "      <td>201.739139</td>\n",
       "      <td>8.411594</td>\n",
       "      <td>-0.659496</td>\n",
       "      <td>2.402648</td>\n",
       "      <td>4</td>\n",
       "      <td>4</td>\n",
       "    </tr>\n",
       "    <tr>\n",
       "      <th>56</th>\n",
       "      <td>56</td>\n",
       "      <td>218.510029</td>\n",
       "      <td>8.600000</td>\n",
       "      <td>-2.835846</td>\n",
       "      <td>2.683696</td>\n",
       "      <td>4</td>\n",
       "      <td>4</td>\n",
       "    </tr>\n",
       "    <tr>\n",
       "      <th>57</th>\n",
       "      <td>57</td>\n",
       "      <td>200.800064</td>\n",
       "      <td>8.700000</td>\n",
       "      <td>3.374569</td>\n",
       "      <td>2.085157</td>\n",
       "      <td>4</td>\n",
       "      <td>4</td>\n",
       "    </tr>\n",
       "    <tr>\n",
       "      <th>58</th>\n",
       "      <td>58</td>\n",
       "      <td>184.043483</td>\n",
       "      <td>8.700000</td>\n",
       "      <td>0.000000</td>\n",
       "      <td>3.836964</td>\n",
       "      <td>3</td>\n",
       "      <td>3</td>\n",
       "    </tr>\n",
       "    <tr>\n",
       "      <th>59</th>\n",
       "      <td>59</td>\n",
       "      <td>186.739139</td>\n",
       "      <td>8.700000</td>\n",
       "      <td>0.000000</td>\n",
       "      <td>4.016482</td>\n",
       "      <td>3</td>\n",
       "      <td>3</td>\n",
       "    </tr>\n",
       "    <tr>\n",
       "      <th>60</th>\n",
       "      <td>60</td>\n",
       "      <td>207.049984</td>\n",
       "      <td>8.700000</td>\n",
       "      <td>0.000000</td>\n",
       "      <td>4.864207</td>\n",
       "      <td>4</td>\n",
       "      <td>3</td>\n",
       "    </tr>\n",
       "    <tr>\n",
       "      <th>61</th>\n",
       "      <td>61</td>\n",
       "      <td>182.000000</td>\n",
       "      <td>8.700000</td>\n",
       "      <td>0.000000</td>\n",
       "      <td>5.234562</td>\n",
       "      <td>3</td>\n",
       "      <td>3</td>\n",
       "    </tr>\n",
       "    <tr>\n",
       "      <th>62</th>\n",
       "      <td>62</td>\n",
       "      <td>213.829990</td>\n",
       "      <td>8.700000</td>\n",
       "      <td>0.000000</td>\n",
       "      <td>5.737851</td>\n",
       "      <td>4</td>\n",
       "      <td>3</td>\n",
       "    </tr>\n",
       "    <tr>\n",
       "      <th>63</th>\n",
       "      <td>63</td>\n",
       "      <td>193.703001</td>\n",
       "      <td>8.700000</td>\n",
       "      <td>0.000000</td>\n",
       "      <td>5.974488</td>\n",
       "      <td>3</td>\n",
       "      <td>3</td>\n",
       "    </tr>\n",
       "    <tr>\n",
       "      <th>64</th>\n",
       "      <td>64</td>\n",
       "      <td>182.114249</td>\n",
       "      <td>8.700000</td>\n",
       "      <td>0.000000</td>\n",
       "      <td>6.769198</td>\n",
       "      <td>3</td>\n",
       "      <td>3</td>\n",
       "    </tr>\n",
       "    <tr>\n",
       "      <th>65</th>\n",
       "      <td>65</td>\n",
       "      <td>213.890997</td>\n",
       "      <td>8.700000</td>\n",
       "      <td>0.000000</td>\n",
       "      <td>7.448677</td>\n",
       "      <td>4</td>\n",
       "      <td>3</td>\n",
       "    </tr>\n",
       "    <tr>\n",
       "      <th>66</th>\n",
       "      <td>66</td>\n",
       "      <td>195.419930</td>\n",
       "      <td>8.700000</td>\n",
       "      <td>0.000000</td>\n",
       "      <td>7.584969</td>\n",
       "      <td>4</td>\n",
       "      <td>3</td>\n",
       "    </tr>\n",
       "    <tr>\n",
       "      <th>67</th>\n",
       "      <td>67</td>\n",
       "      <td>207.391311</td>\n",
       "      <td>8.700000</td>\n",
       "      <td>0.000000</td>\n",
       "      <td>7.609387</td>\n",
       "      <td>4</td>\n",
       "      <td>3</td>\n",
       "    </tr>\n",
       "    <tr>\n",
       "      <th>68</th>\n",
       "      <td>68</td>\n",
       "      <td>214.320569</td>\n",
       "      <td>8.700000</td>\n",
       "      <td>0.000000</td>\n",
       "      <td>8.106855</td>\n",
       "      <td>4</td>\n",
       "      <td>3</td>\n",
       "    </tr>\n",
       "    <tr>\n",
       "      <th>69</th>\n",
       "      <td>69</td>\n",
       "      <td>208.600000</td>\n",
       "      <td>8.700000</td>\n",
       "      <td>0.000000</td>\n",
       "      <td>8.197580</td>\n",
       "      <td>4</td>\n",
       "      <td>3</td>\n",
       "    </tr>\n",
       "    <tr>\n",
       "      <th>70</th>\n",
       "      <td>70</td>\n",
       "      <td>172.764717</td>\n",
       "      <td>8.600000</td>\n",
       "      <td>0.000000</td>\n",
       "      <td>8.286012</td>\n",
       "      <td>3</td>\n",
       "      <td>3</td>\n",
       "    </tr>\n",
       "    <tr>\n",
       "      <th>71</th>\n",
       "      <td>71</td>\n",
       "      <td>173.347828</td>\n",
       "      <td>8.600000</td>\n",
       "      <td>0.000000</td>\n",
       "      <td>8.441986</td>\n",
       "      <td>3</td>\n",
       "      <td>3</td>\n",
       "    </tr>\n",
       "    <tr>\n",
       "      <th>72</th>\n",
       "      <td>72</td>\n",
       "      <td>204.919240</td>\n",
       "      <td>8.600000</td>\n",
       "      <td>-0.881574</td>\n",
       "      <td>8.711384</td>\n",
       "      <td>4</td>\n",
       "      <td>4</td>\n",
       "    </tr>\n",
       "    <tr>\n",
       "      <th>73</th>\n",
       "      <td>73</td>\n",
       "      <td>219.480102</td>\n",
       "      <td>8.600000</td>\n",
       "      <td>-4.363211</td>\n",
       "      <td>8.682891</td>\n",
       "      <td>4</td>\n",
       "      <td>2</td>\n",
       "    </tr>\n",
       "    <tr>\n",
       "      <th>74</th>\n",
       "      <td>74</td>\n",
       "      <td>246.764706</td>\n",
       "      <td>8.600000</td>\n",
       "      <td>0.000000</td>\n",
       "      <td>8.566468</td>\n",
       "      <td>4</td>\n",
       "      <td>3</td>\n",
       "    </tr>\n",
       "    <tr>\n",
       "      <th>75</th>\n",
       "      <td>75</td>\n",
       "      <td>220.000000</td>\n",
       "      <td>8.600000</td>\n",
       "      <td>5.357287</td>\n",
       "      <td>8.706980</td>\n",
       "      <td>4</td>\n",
       "      <td>4</td>\n",
       "    </tr>\n",
       "    <tr>\n",
       "      <th>76</th>\n",
       "      <td>76</td>\n",
       "      <td>237.198147</td>\n",
       "      <td>8.500000</td>\n",
       "      <td>0.000000</td>\n",
       "      <td>8.657752</td>\n",
       "      <td>4</td>\n",
       "      <td>3</td>\n",
       "    </tr>\n",
       "    <tr>\n",
       "      <th>...</th>\n",
       "      <td>...</td>\n",
       "      <td>...</td>\n",
       "      <td>...</td>\n",
       "      <td>...</td>\n",
       "      <td>...</td>\n",
       "      <td>...</td>\n",
       "      <td>...</td>\n",
       "    </tr>\n",
       "    <tr>\n",
       "      <th>7543</th>\n",
       "      <td>7543</td>\n",
       "      <td>171.320154</td>\n",
       "      <td>3.859000</td>\n",
       "      <td>0.000000</td>\n",
       "      <td>-9.963799</td>\n",
       "      <td>3</td>\n",
       "      <td>3</td>\n",
       "    </tr>\n",
       "    <tr>\n",
       "      <th>7544</th>\n",
       "      <td>7544</td>\n",
       "      <td>160.350336</td>\n",
       "      <td>3.761001</td>\n",
       "      <td>0.000000</td>\n",
       "      <td>-9.993344</td>\n",
       "      <td>3</td>\n",
       "      <td>3</td>\n",
       "    </tr>\n",
       "    <tr>\n",
       "      <th>7545</th>\n",
       "      <td>7545</td>\n",
       "      <td>157.400000</td>\n",
       "      <td>3.600000</td>\n",
       "      <td>6.992806</td>\n",
       "      <td>-9.871226</td>\n",
       "      <td>3</td>\n",
       "      <td>4</td>\n",
       "    </tr>\n",
       "    <tr>\n",
       "      <th>7546</th>\n",
       "      <td>7546</td>\n",
       "      <td>136.488627</td>\n",
       "      <td>3.568703</td>\n",
       "      <td>2.159524</td>\n",
       "      <td>-9.997689</td>\n",
       "      <td>3</td>\n",
       "      <td>4</td>\n",
       "    </tr>\n",
       "    <tr>\n",
       "      <th>7547</th>\n",
       "      <td>7547</td>\n",
       "      <td>153.160077</td>\n",
       "      <td>3.400000</td>\n",
       "      <td>0.694696</td>\n",
       "      <td>-9.948968</td>\n",
       "      <td>3</td>\n",
       "      <td>4</td>\n",
       "    </tr>\n",
       "    <tr>\n",
       "      <th>7548</th>\n",
       "      <td>7548</td>\n",
       "      <td>161.420211</td>\n",
       "      <td>3.200000</td>\n",
       "      <td>3.556719</td>\n",
       "      <td>-9.999559</td>\n",
       "      <td>3</td>\n",
       "      <td>0</td>\n",
       "    </tr>\n",
       "    <tr>\n",
       "      <th>7549</th>\n",
       "      <td>7549</td>\n",
       "      <td>141.319962</td>\n",
       "      <td>3.139000</td>\n",
       "      <td>0.000000</td>\n",
       "      <td>-9.999831</td>\n",
       "      <td>3</td>\n",
       "      <td>3</td>\n",
       "    </tr>\n",
       "    <tr>\n",
       "      <th>7550</th>\n",
       "      <td>7550</td>\n",
       "      <td>134.225732</td>\n",
       "      <td>3.200000</td>\n",
       "      <td>2.064364</td>\n",
       "      <td>-9.995252</td>\n",
       "      <td>3</td>\n",
       "      <td>4</td>\n",
       "    </tr>\n",
       "    <tr>\n",
       "      <th>7551</th>\n",
       "      <td>7551</td>\n",
       "      <td>311.592338</td>\n",
       "      <td>3.100000</td>\n",
       "      <td>4.779415</td>\n",
       "      <td>-9.652982</td>\n",
       "      <td>0</td>\n",
       "      <td>0</td>\n",
       "    </tr>\n",
       "    <tr>\n",
       "      <th>7552</th>\n",
       "      <td>7552</td>\n",
       "      <td>188.499970</td>\n",
       "      <td>3.000000</td>\n",
       "      <td>7.064929</td>\n",
       "      <td>-8.828383</td>\n",
       "      <td>3</td>\n",
       "      <td>0</td>\n",
       "    </tr>\n",
       "    <tr>\n",
       "      <th>7553</th>\n",
       "      <td>7553</td>\n",
       "      <td>144.000000</td>\n",
       "      <td>2.900000</td>\n",
       "      <td>12.888638</td>\n",
       "      <td>-9.576928</td>\n",
       "      <td>3</td>\n",
       "      <td>4</td>\n",
       "    </tr>\n",
       "    <tr>\n",
       "      <th>7554</th>\n",
       "      <td>7554</td>\n",
       "      <td>153.911604</td>\n",
       "      <td>2.900000</td>\n",
       "      <td>6.727508</td>\n",
       "      <td>-8.618114</td>\n",
       "      <td>3</td>\n",
       "      <td>0</td>\n",
       "    </tr>\n",
       "    <tr>\n",
       "      <th>7555</th>\n",
       "      <td>7555</td>\n",
       "      <td>105.461649</td>\n",
       "      <td>2.900000</td>\n",
       "      <td>0.000000</td>\n",
       "      <td>-5.123259</td>\n",
       "      <td>1</td>\n",
       "      <td>3</td>\n",
       "    </tr>\n",
       "    <tr>\n",
       "      <th>7556</th>\n",
       "      <td>7556</td>\n",
       "      <td>106.000000</td>\n",
       "      <td>3.078001</td>\n",
       "      <td>0.000000</td>\n",
       "      <td>-4.782567</td>\n",
       "      <td>1</td>\n",
       "      <td>3</td>\n",
       "    </tr>\n",
       "    <tr>\n",
       "      <th>7557</th>\n",
       "      <td>7557</td>\n",
       "      <td>131.200000</td>\n",
       "      <td>3.480000</td>\n",
       "      <td>0.000000</td>\n",
       "      <td>-4.934613</td>\n",
       "      <td>1</td>\n",
       "      <td>3</td>\n",
       "    </tr>\n",
       "    <tr>\n",
       "      <th>7558</th>\n",
       "      <td>7558</td>\n",
       "      <td>121.800000</td>\n",
       "      <td>3.940000</td>\n",
       "      <td>0.000000</td>\n",
       "      <td>-5.613587</td>\n",
       "      <td>1</td>\n",
       "      <td>3</td>\n",
       "    </tr>\n",
       "    <tr>\n",
       "      <th>7559</th>\n",
       "      <td>7559</td>\n",
       "      <td>125.363428</td>\n",
       "      <td>4.238383</td>\n",
       "      <td>0.000000</td>\n",
       "      <td>-5.881830</td>\n",
       "      <td>1</td>\n",
       "      <td>3</td>\n",
       "    </tr>\n",
       "    <tr>\n",
       "      <th>7560</th>\n",
       "      <td>7560</td>\n",
       "      <td>141.969123</td>\n",
       "      <td>4.400000</td>\n",
       "      <td>2.012083</td>\n",
       "      <td>-5.487005</td>\n",
       "      <td>3</td>\n",
       "      <td>4</td>\n",
       "    </tr>\n",
       "    <tr>\n",
       "      <th>7563</th>\n",
       "      <td>7563</td>\n",
       "      <td>132.990131</td>\n",
       "      <td>4.739000</td>\n",
       "      <td>3.530270</td>\n",
       "      <td>-7.480198</td>\n",
       "      <td>3</td>\n",
       "      <td>4</td>\n",
       "    </tr>\n",
       "    <tr>\n",
       "      <th>7564</th>\n",
       "      <td>7564</td>\n",
       "      <td>141.469914</td>\n",
       "      <td>4.939000</td>\n",
       "      <td>-3.256332</td>\n",
       "      <td>-7.218345</td>\n",
       "      <td>3</td>\n",
       "      <td>2</td>\n",
       "    </tr>\n",
       "    <tr>\n",
       "      <th>7566</th>\n",
       "      <td>7566</td>\n",
       "      <td>117.299737</td>\n",
       "      <td>5.112858</td>\n",
       "      <td>0.000000</td>\n",
       "      <td>-7.715632</td>\n",
       "      <td>1</td>\n",
       "      <td>3</td>\n",
       "    </tr>\n",
       "    <tr>\n",
       "      <th>7572</th>\n",
       "      <td>7572</td>\n",
       "      <td>164.160077</td>\n",
       "      <td>6.741000</td>\n",
       "      <td>-8.271513</td>\n",
       "      <td>-9.002757</td>\n",
       "      <td>3</td>\n",
       "      <td>2</td>\n",
       "    </tr>\n",
       "    <tr>\n",
       "      <th>7575</th>\n",
       "      <td>7575</td>\n",
       "      <td>105.427425</td>\n",
       "      <td>7.729771</td>\n",
       "      <td>-1.522775</td>\n",
       "      <td>-9.429454</td>\n",
       "      <td>1</td>\n",
       "      <td>4</td>\n",
       "    </tr>\n",
       "    <tr>\n",
       "      <th>7577</th>\n",
       "      <td>7577</td>\n",
       "      <td>104.659917</td>\n",
       "      <td>8.141000</td>\n",
       "      <td>0.000000</td>\n",
       "      <td>-9.722237</td>\n",
       "      <td>1</td>\n",
       "      <td>3</td>\n",
       "    </tr>\n",
       "    <tr>\n",
       "      <th>7578</th>\n",
       "      <td>7578</td>\n",
       "      <td>126.687101</td>\n",
       "      <td>8.230535</td>\n",
       "      <td>-4.846180</td>\n",
       "      <td>-9.820002</td>\n",
       "      <td>1</td>\n",
       "      <td>2</td>\n",
       "    </tr>\n",
       "    <tr>\n",
       "      <th>7579</th>\n",
       "      <td>7579</td>\n",
       "      <td>143.800000</td>\n",
       "      <td>8.220000</td>\n",
       "      <td>0.000000</td>\n",
       "      <td>-9.826548</td>\n",
       "      <td>3</td>\n",
       "      <td>3</td>\n",
       "    </tr>\n",
       "    <tr>\n",
       "      <th>7580</th>\n",
       "      <td>7580</td>\n",
       "      <td>139.847435</td>\n",
       "      <td>8.070229</td>\n",
       "      <td>0.000000</td>\n",
       "      <td>-9.856577</td>\n",
       "      <td>3</td>\n",
       "      <td>3</td>\n",
       "    </tr>\n",
       "    <tr>\n",
       "      <th>7583</th>\n",
       "      <td>7583</td>\n",
       "      <td>153.800000</td>\n",
       "      <td>7.460000</td>\n",
       "      <td>-2.652566</td>\n",
       "      <td>-9.875175</td>\n",
       "      <td>3</td>\n",
       "      <td>4</td>\n",
       "    </tr>\n",
       "    <tr>\n",
       "      <th>7584</th>\n",
       "      <td>7584</td>\n",
       "      <td>163.599850</td>\n",
       "      <td>7.300000</td>\n",
       "      <td>2.546326</td>\n",
       "      <td>-9.927308</td>\n",
       "      <td>3</td>\n",
       "      <td>4</td>\n",
       "    </tr>\n",
       "    <tr>\n",
       "      <th>7585</th>\n",
       "      <td>7585</td>\n",
       "      <td>137.000000</td>\n",
       "      <td>7.300000</td>\n",
       "      <td>0.000000</td>\n",
       "      <td>-9.968270</td>\n",
       "      <td>3</td>\n",
       "      <td>3</td>\n",
       "    </tr>\n",
       "  </tbody>\n",
       "</table>\n",
       "<p>5402 rows × 7 columns</p>\n",
       "</div>"
      ],
      "text/plain": [
       "      Unnamed: 0         pwr        spd       porc  viento_aparente  k-means  \\\n",
       "12            12  346.392776   9.413043   0.000000        10.000000        0   \n",
       "48            48  158.044348  10.348527  -2.940620         9.388696        3   \n",
       "49            49  236.809415   9.308396  -5.144776         8.321120        4   \n",
       "50            50  202.849728   8.682999   0.000000         5.525943        4   \n",
       "51            51  162.478184   8.286957   0.000000         3.815836        3   \n",
       "52            52  163.829990   8.200000   0.000000         2.631946        3   \n",
       "53            53  193.985165   8.329105   0.000000         3.101947        4   \n",
       "54            54  186.588235   8.400000   0.000000         2.683551        3   \n",
       "55            55  201.739139   8.411594  -0.659496         2.402648        4   \n",
       "56            56  218.510029   8.600000  -2.835846         2.683696        4   \n",
       "57            57  200.800064   8.700000   3.374569         2.085157        4   \n",
       "58            58  184.043483   8.700000   0.000000         3.836964        3   \n",
       "59            59  186.739139   8.700000   0.000000         4.016482        3   \n",
       "60            60  207.049984   8.700000   0.000000         4.864207        4   \n",
       "61            61  182.000000   8.700000   0.000000         5.234562        3   \n",
       "62            62  213.829990   8.700000   0.000000         5.737851        4   \n",
       "63            63  193.703001   8.700000   0.000000         5.974488        3   \n",
       "64            64  182.114249   8.700000   0.000000         6.769198        3   \n",
       "65            65  213.890997   8.700000   0.000000         7.448677        4   \n",
       "66            66  195.419930   8.700000   0.000000         7.584969        4   \n",
       "67            67  207.391311   8.700000   0.000000         7.609387        4   \n",
       "68            68  214.320569   8.700000   0.000000         8.106855        4   \n",
       "69            69  208.600000   8.700000   0.000000         8.197580        4   \n",
       "70            70  172.764717   8.600000   0.000000         8.286012        3   \n",
       "71            71  173.347828   8.600000   0.000000         8.441986        3   \n",
       "72            72  204.919240   8.600000  -0.881574         8.711384        4   \n",
       "73            73  219.480102   8.600000  -4.363211         8.682891        4   \n",
       "74            74  246.764706   8.600000   0.000000         8.566468        4   \n",
       "75            75  220.000000   8.600000   5.357287         8.706980        4   \n",
       "76            76  237.198147   8.500000   0.000000         8.657752        4   \n",
       "...          ...         ...        ...        ...              ...      ...   \n",
       "7543        7543  171.320154   3.859000   0.000000        -9.963799        3   \n",
       "7544        7544  160.350336   3.761001   0.000000        -9.993344        3   \n",
       "7545        7545  157.400000   3.600000   6.992806        -9.871226        3   \n",
       "7546        7546  136.488627   3.568703   2.159524        -9.997689        3   \n",
       "7547        7547  153.160077   3.400000   0.694696        -9.948968        3   \n",
       "7548        7548  161.420211   3.200000   3.556719        -9.999559        3   \n",
       "7549        7549  141.319962   3.139000   0.000000        -9.999831        3   \n",
       "7550        7550  134.225732   3.200000   2.064364        -9.995252        3   \n",
       "7551        7551  311.592338   3.100000   4.779415        -9.652982        0   \n",
       "7552        7552  188.499970   3.000000   7.064929        -8.828383        3   \n",
       "7553        7553  144.000000   2.900000  12.888638        -9.576928        3   \n",
       "7554        7554  153.911604   2.900000   6.727508        -8.618114        3   \n",
       "7555        7555  105.461649   2.900000   0.000000        -5.123259        1   \n",
       "7556        7556  106.000000   3.078001   0.000000        -4.782567        1   \n",
       "7557        7557  131.200000   3.480000   0.000000        -4.934613        1   \n",
       "7558        7558  121.800000   3.940000   0.000000        -5.613587        1   \n",
       "7559        7559  125.363428   4.238383   0.000000        -5.881830        1   \n",
       "7560        7560  141.969123   4.400000   2.012083        -5.487005        3   \n",
       "7563        7563  132.990131   4.739000   3.530270        -7.480198        3   \n",
       "7564        7564  141.469914   4.939000  -3.256332        -7.218345        3   \n",
       "7566        7566  117.299737   5.112858   0.000000        -7.715632        1   \n",
       "7572        7572  164.160077   6.741000  -8.271513        -9.002757        3   \n",
       "7575        7575  105.427425   7.729771  -1.522775        -9.429454        1   \n",
       "7577        7577  104.659917   8.141000   0.000000        -9.722237        1   \n",
       "7578        7578  126.687101   8.230535  -4.846180        -9.820002        1   \n",
       "7579        7579  143.800000   8.220000   0.000000        -9.826548        3   \n",
       "7580        7580  139.847435   8.070229   0.000000        -9.856577        3   \n",
       "7583        7583  153.800000   7.460000  -2.652566        -9.875175        3   \n",
       "7584        7584  163.599850   7.300000   2.546326        -9.927308        3   \n",
       "7585        7585  137.000000   7.300000   0.000000        -9.968270        3   \n",
       "\n",
       "      gaussian  \n",
       "12           3  \n",
       "48           2  \n",
       "49           2  \n",
       "50           3  \n",
       "51           3  \n",
       "52           3  \n",
       "53           3  \n",
       "54           3  \n",
       "55           4  \n",
       "56           4  \n",
       "57           4  \n",
       "58           3  \n",
       "59           3  \n",
       "60           3  \n",
       "61           3  \n",
       "62           3  \n",
       "63           3  \n",
       "64           3  \n",
       "65           3  \n",
       "66           3  \n",
       "67           3  \n",
       "68           3  \n",
       "69           3  \n",
       "70           3  \n",
       "71           3  \n",
       "72           4  \n",
       "73           2  \n",
       "74           3  \n",
       "75           4  \n",
       "76           3  \n",
       "...        ...  \n",
       "7543         3  \n",
       "7544         3  \n",
       "7545         4  \n",
       "7546         4  \n",
       "7547         4  \n",
       "7548         0  \n",
       "7549         3  \n",
       "7550         4  \n",
       "7551         0  \n",
       "7552         0  \n",
       "7553         4  \n",
       "7554         0  \n",
       "7555         3  \n",
       "7556         3  \n",
       "7557         3  \n",
       "7558         3  \n",
       "7559         3  \n",
       "7560         4  \n",
       "7563         4  \n",
       "7564         2  \n",
       "7566         3  \n",
       "7572         2  \n",
       "7575         4  \n",
       "7577         3  \n",
       "7578         2  \n",
       "7579         3  \n",
       "7580         3  \n",
       "7583         4  \n",
       "7584         4  \n",
       "7585         3  \n",
       "\n",
       "[5402 rows x 7 columns]"
      ]
     },
     "execution_count": 116,
     "metadata": {},
     "output_type": "execute_result"
    }
   ],
   "source": [
    "df_lm2"
   ]
  },
  {
   "cell_type": "code",
   "execution_count": null,
   "metadata": {
    "collapsed": true
   },
   "outputs": [],
   "source": []
  },
  {
   "cell_type": "code",
   "execution_count": null,
   "metadata": {
    "collapsed": true
   },
   "outputs": [],
   "source": []
  },
  {
   "cell_type": "code",
   "execution_count": 117,
   "metadata": {},
   "outputs": [
    {
     "name": "stderr",
     "output_type": "stream",
     "text": [
      "C:\\Users\\eduardo.hernanz\\AppData\\Local\\Continuum\\Anaconda3\\lib\\site-packages\\ipykernel_launcher.py:5: SettingWithCopyWarning: \n",
      "A value is trying to be set on a copy of a slice from a DataFrame.\n",
      "Try using .loc[row_indexer,col_indexer] = value instead\n",
      "\n",
      "See the caveats in the documentation: http://pandas.pydata.org/pandas-docs/stable/indexing.html#indexing-view-versus-copy\n",
      "  \"\"\"\n",
      "C:\\Users\\eduardo.hernanz\\AppData\\Local\\Continuum\\Anaconda3\\lib\\site-packages\\ipykernel_launcher.py:6: SettingWithCopyWarning: \n",
      "A value is trying to be set on a copy of a slice from a DataFrame.\n",
      "Try using .loc[row_indexer,col_indexer] = value instead\n",
      "\n",
      "See the caveats in the documentation: http://pandas.pydata.org/pandas-docs/stable/indexing.html#indexing-view-versus-copy\n",
      "  \n",
      "C:\\Users\\eduardo.hernanz\\AppData\\Local\\Continuum\\Anaconda3\\lib\\site-packages\\ipykernel_launcher.py:7: SettingWithCopyWarning: \n",
      "A value is trying to be set on a copy of a slice from a DataFrame.\n",
      "Try using .loc[row_indexer,col_indexer] = value instead\n",
      "\n",
      "See the caveats in the documentation: http://pandas.pydata.org/pandas-docs/stable/indexing.html#indexing-view-versus-copy\n",
      "  import sys\n"
     ]
    }
   ],
   "source": [
    "#añadimos aqui\n",
    "df_lm_x2 = df_lm2[['spd','porc','viento_aparente']]\n",
    "df_lm_y2 = df_lm2[['pwr']]\n",
    "\n",
    "df_lm_x2['termino_cda'] = (df_lm2['spd']+df_lm2['viento_aparente'])**2*df_lm2['spd']\n",
    "df_lm_x2['termino_roz'] = df_lm2['spd']*90\n",
    "df_lm_x2['termino_cte'] = df_lm2['spd']*df_lm2['porc']*90"
   ]
  },
  {
   "cell_type": "code",
   "execution_count": 118,
   "metadata": {},
   "outputs": [
    {
     "data": {
      "text/html": [
       "<div>\n",
       "<style>\n",
       "    .dataframe thead tr:only-child th {\n",
       "        text-align: right;\n",
       "    }\n",
       "\n",
       "    .dataframe thead th {\n",
       "        text-align: left;\n",
       "    }\n",
       "\n",
       "    .dataframe tbody tr th {\n",
       "        vertical-align: top;\n",
       "    }\n",
       "</style>\n",
       "<table border=\"1\" class=\"dataframe\">\n",
       "  <thead>\n",
       "    <tr style=\"text-align: right;\">\n",
       "      <th></th>\n",
       "      <th>spd</th>\n",
       "      <th>porc</th>\n",
       "      <th>viento_aparente</th>\n",
       "      <th>termino_cda</th>\n",
       "      <th>termino_roz</th>\n",
       "      <th>termino_cte</th>\n",
       "    </tr>\n",
       "  </thead>\n",
       "  <tbody>\n",
       "    <tr>\n",
       "      <th>count</th>\n",
       "      <td>5402.000000</td>\n",
       "      <td>5402.000000</td>\n",
       "      <td>5402.000000</td>\n",
       "      <td>5402.000000</td>\n",
       "      <td>5402.000000</td>\n",
       "      <td>5402.000000</td>\n",
       "    </tr>\n",
       "    <tr>\n",
       "      <th>mean</th>\n",
       "      <td>6.699565</td>\n",
       "      <td>2.487753</td>\n",
       "      <td>0.418391</td>\n",
       "      <td>965.220744</td>\n",
       "      <td>602.960821</td>\n",
       "      <td>404.808461</td>\n",
       "    </tr>\n",
       "    <tr>\n",
       "      <th>std</th>\n",
       "      <td>3.561351</td>\n",
       "      <td>5.296708</td>\n",
       "      <td>7.260051</td>\n",
       "      <td>1677.506873</td>\n",
       "      <td>320.521586</td>\n",
       "      <td>3250.353410</td>\n",
       "    </tr>\n",
       "    <tr>\n",
       "      <th>min</th>\n",
       "      <td>0.439342</td>\n",
       "      <td>-20.818988</td>\n",
       "      <td>-10.000000</td>\n",
       "      <td>0.000003</td>\n",
       "      <td>39.540761</td>\n",
       "      <td>-32524.440529</td>\n",
       "    </tr>\n",
       "    <tr>\n",
       "      <th>25%</th>\n",
       "      <td>3.745649</td>\n",
       "      <td>0.000000</td>\n",
       "      <td>-7.433163</td>\n",
       "      <td>49.786516</td>\n",
       "      <td>337.108391</td>\n",
       "      <td>0.000000</td>\n",
       "    </tr>\n",
       "    <tr>\n",
       "      <th>50%</th>\n",
       "      <td>5.800000</td>\n",
       "      <td>0.000000</td>\n",
       "      <td>1.190306</td>\n",
       "      <td>319.562387</td>\n",
       "      <td>522.000017</td>\n",
       "      <td>0.000000</td>\n",
       "    </tr>\n",
       "    <tr>\n",
       "      <th>75%</th>\n",
       "      <td>8.800000</td>\n",
       "      <td>6.664519</td>\n",
       "      <td>7.810010</td>\n",
       "      <td>1011.207380</td>\n",
       "      <td>792.000017</td>\n",
       "      <td>2406.217902</td>\n",
       "    </tr>\n",
       "    <tr>\n",
       "      <th>max</th>\n",
       "      <td>20.299999</td>\n",
       "      <td>24.651806</td>\n",
       "      <td>10.000000</td>\n",
       "      <td>16951.981655</td>\n",
       "      <td>1826.999931</td>\n",
       "      <td>12783.109478</td>\n",
       "    </tr>\n",
       "  </tbody>\n",
       "</table>\n",
       "</div>"
      ],
      "text/plain": [
       "               spd         porc  viento_aparente   termino_cda  termino_roz  \\\n",
       "count  5402.000000  5402.000000      5402.000000   5402.000000  5402.000000   \n",
       "mean      6.699565     2.487753         0.418391    965.220744   602.960821   \n",
       "std       3.561351     5.296708         7.260051   1677.506873   320.521586   \n",
       "min       0.439342   -20.818988       -10.000000      0.000003    39.540761   \n",
       "25%       3.745649     0.000000        -7.433163     49.786516   337.108391   \n",
       "50%       5.800000     0.000000         1.190306    319.562387   522.000017   \n",
       "75%       8.800000     6.664519         7.810010   1011.207380   792.000017   \n",
       "max      20.299999    24.651806        10.000000  16951.981655  1826.999931   \n",
       "\n",
       "        termino_cte  \n",
       "count   5402.000000  \n",
       "mean     404.808461  \n",
       "std     3250.353410  \n",
       "min   -32524.440529  \n",
       "25%        0.000000  \n",
       "50%        0.000000  \n",
       "75%     2406.217902  \n",
       "max    12783.109478  "
      ]
     },
     "execution_count": 118,
     "metadata": {},
     "output_type": "execute_result"
    }
   ],
   "source": [
    "df_lm_x2.describe()"
   ]
  },
  {
   "cell_type": "code",
   "execution_count": 119,
   "metadata": {},
   "outputs": [
    {
     "data": {
      "text/html": [
       "<div>\n",
       "<style>\n",
       "    .dataframe thead tr:only-child th {\n",
       "        text-align: right;\n",
       "    }\n",
       "\n",
       "    .dataframe thead th {\n",
       "        text-align: left;\n",
       "    }\n",
       "\n",
       "    .dataframe tbody tr th {\n",
       "        vertical-align: top;\n",
       "    }\n",
       "</style>\n",
       "<table border=\"1\" class=\"dataframe\">\n",
       "  <thead>\n",
       "    <tr style=\"text-align: right;\">\n",
       "      <th></th>\n",
       "      <th>pwr</th>\n",
       "    </tr>\n",
       "  </thead>\n",
       "  <tbody>\n",
       "    <tr>\n",
       "      <th>count</th>\n",
       "      <td>5402.000000</td>\n",
       "    </tr>\n",
       "    <tr>\n",
       "      <th>mean</th>\n",
       "      <td>210.895992</td>\n",
       "    </tr>\n",
       "    <tr>\n",
       "      <th>std</th>\n",
       "      <td>51.928825</td>\n",
       "    </tr>\n",
       "    <tr>\n",
       "      <th>min</th>\n",
       "      <td>100.271595</td>\n",
       "    </tr>\n",
       "    <tr>\n",
       "      <th>25%</th>\n",
       "      <td>172.786927</td>\n",
       "    </tr>\n",
       "    <tr>\n",
       "      <th>50%</th>\n",
       "      <td>216.000000</td>\n",
       "    </tr>\n",
       "    <tr>\n",
       "      <th>75%</th>\n",
       "      <td>248.742291</td>\n",
       "    </tr>\n",
       "    <tr>\n",
       "      <th>max</th>\n",
       "      <td>348.710106</td>\n",
       "    </tr>\n",
       "  </tbody>\n",
       "</table>\n",
       "</div>"
      ],
      "text/plain": [
       "               pwr\n",
       "count  5402.000000\n",
       "mean    210.895992\n",
       "std      51.928825\n",
       "min     100.271595\n",
       "25%     172.786927\n",
       "50%     216.000000\n",
       "75%     248.742291\n",
       "max     348.710106"
      ]
     },
     "execution_count": 119,
     "metadata": {},
     "output_type": "execute_result"
    }
   ],
   "source": [
    "df_lm_y2.describe()"
   ]
  },
  {
   "cell_type": "code",
   "execution_count": 120,
   "metadata": {
    "collapsed": true
   },
   "outputs": [],
   "source": [
    "df_lm_x3 = df_lm_x2[['termino_cda','termino_roz','termino_cte']]\n",
    "df_lm_y3 = df_lm_y2[['pwr']]"
   ]
  },
  {
   "cell_type": "code",
   "execution_count": 121,
   "metadata": {},
   "outputs": [
    {
     "data": {
      "image/png": "[encoded data removed]",
      "text/plain": [
       "<matplotlib.figure.Figure at 0x1dab45d00b8>"
      ]
     },
     "metadata": {},
     "output_type": "display_data"
    }
   ],
   "source": [
    "plt.hist(df_lm_y3['pwr'])\n",
    "plt.show()"
   ]
  },
  {
   "cell_type": "code",
   "execution_count": 122,
   "metadata": {},
   "outputs": [
    {
     "data": {
      "text/plain": [
       "True"
      ]
     },
     "execution_count": 122,
     "metadata": {},
     "output_type": "execute_result"
    }
   ],
   "source": [
    "len(df_lm_x3)==len(df_lm_y3)"
   ]
  },
  {
   "cell_type": "raw",
   "metadata": {},
   "source": [
    "train2 = round(len(df_lm_x3)*0.7)\n",
    "train2\n",
    "test2 = len(df_lm_x3)-train2\n",
    "test2"
   ]
  },
  {
   "cell_type": "raw",
   "metadata": {
    "collapsed": true
   },
   "source": [
    "X_train3 = df_lm_x3[:train2]\n",
    "X_test3 = df_lm_x3[test2:]"
   ]
  },
  {
   "cell_type": "raw",
   "metadata": {
    "collapsed": true
   },
   "source": [
    "Y_train3 = df_lm_y3[:train2]\n",
    "Y_test3 = df_lm_y3[test2:]"
   ]
  },
  {
   "cell_type": "code",
   "execution_count": 123,
   "metadata": {
    "collapsed": true
   },
   "outputs": [],
   "source": [
    "X_train3, X_test3, Y_train3, Y_test3 = train_test_split(df_lm_x3, df_lm_y3, test_size=0.30, random_state=42)"
   ]
  },
  {
   "cell_type": "code",
   "execution_count": 124,
   "metadata": {},
   "outputs": [
    {
     "data": {
      "text/plain": [
       "LinearRegression(copy_X=True, fit_intercept=True, n_jobs=1, normalize=False)"
      ]
     },
     "execution_count": 124,
     "metadata": {},
     "output_type": "execute_result"
    }
   ],
   "source": [
    "# Create linear regression object\n",
    "regr3 = linear_model.LinearRegression()\n",
    "\n",
    "# Train the model using the training sets\n",
    "regr3.fit(X_train3, Y_train3)"
   ]
  },
  {
   "cell_type": "code",
   "execution_count": null,
   "metadata": {
    "collapsed": true
   },
   "outputs": [],
   "source": []
  },
  {
   "cell_type": "code",
   "execution_count": 125,
   "metadata": {
    "collapsed": true
   },
   "outputs": [],
   "source": [
    "# Make predictions using the testing set\n",
    "Y_pred3 = regr3.predict(X_test3)"
   ]
  },
  {
   "cell_type": "code",
   "execution_count": 126,
   "metadata": {},
   "outputs": [
    {
     "name": "stdout",
     "output_type": "stream",
     "text": [
      "Coefficients: \n",
      " [[ 0.00627273 -0.0789689   0.0028103 ]]\n",
      "Mean squared error: 2091.11\n",
      "Variance score: 0.24\n"
     ]
    }
   ],
   "source": [
    "# The coefficients\n",
    "print('Coefficients: \\n', regr3.coef_)\n",
    "# The mean squared error\n",
    "print(\"Mean squared error: %.2f\"\n",
    "      % mean_squared_error(Y_test3, Y_pred3))\n",
    "# Explained variance score: 1 is perfect prediction\n",
    "print('Variance score: %.2f' % r2_score(Y_test3, Y_pred3, multioutput='variance_weighted'))\n",
    "\n"
   ]
  },
  {
   "cell_type": "code",
   "execution_count": 127,
   "metadata": {
    "collapsed": true
   },
   "outputs": [],
   "source": [
    "results = pd.DataFrame(X_test3)"
   ]
  },
  {
   "cell_type": "code",
   "execution_count": 128,
   "metadata": {
    "collapsed": true
   },
   "outputs": [],
   "source": [
    " results['Y_test'] = Y_test3"
   ]
  },
  {
   "cell_type": "code",
   "execution_count": 129,
   "metadata": {
    "collapsed": true
   },
   "outputs": [],
   "source": [
    " results['Y_pred'] = Y_pred3"
   ]
  },
  {
   "cell_type": "code",
   "execution_count": 130,
   "metadata": {
    "collapsed": true
   },
   "outputs": [],
   "source": [
    "results['dif'] = results['Y_test']-results['Y_pred']"
   ]
  },
  {
   "cell_type": "code",
   "execution_count": 131,
   "metadata": {},
   "outputs": [
    {
     "data": {
      "text/plain": [
       "(array([  56.,  197.,  420.,  593.,  266.,   70.,   17.,    1.,    0.,    1.]),\n",
       " array([-125.01080654,  -85.38443589,  -45.75806525,   -6.1316946 ,\n",
       "          33.49467605,   73.1210467 ,  112.74741734,  152.37378799,\n",
       "         192.00015864,  231.62652929,  271.25289994]),\n",
       " <a list of 10 Patch objects>)"
      ]
     },
     "execution_count": 131,
     "metadata": {},
     "output_type": "execute_result"
    },
    {
     "data": {
      "image/png": "[encoded data removed]",
      "text/plain": [
       "<matplotlib.figure.Figure at 0x1dab29166a0>"
      ]
     },
     "metadata": {},
     "output_type": "display_data"
    }
   ],
   "source": [
    "plt.hist(results['dif'])"
   ]
  },
  {
   "cell_type": "code",
   "execution_count": 132,
   "metadata": {
    "collapsed": true
   },
   "outputs": [],
   "source": [
    "from sklearn import metrics"
   ]
  },
  {
   "cell_type": "code",
   "execution_count": 133,
   "metadata": {
    "scrolled": true
   },
   "outputs": [
    {
     "data": {
      "text/plain": [
       "0.24311839194236484"
      ]
     },
     "execution_count": 133,
     "metadata": {},
     "output_type": "execute_result"
    }
   ],
   "source": [
    "metrics.explained_variance_score(Y_test3, Y_pred3)"
   ]
  },
  {
   "cell_type": "code",
   "execution_count": 134,
   "metadata": {},
   "outputs": [
    {
     "data": {
      "text/plain": [
       "[<matplotlib.lines.Line2D at 0x1dab5850438>]"
      ]
     },
     "execution_count": 134,
     "metadata": {},
     "output_type": "execute_result"
    },
    {
     "data": {
      "image/png": "[encoded data removed]",
      "text/plain": [
       "<matplotlib.figure.Figure at 0x1dab2978e48>"
      ]
     },
     "metadata": {},
     "output_type": "display_data"
    }
   ],
   "source": [
    "plt.scatter(Y_test3, Y_pred3)\n",
    "plt.plot( [0,250],[0,250], c=\"red\" )"
   ]
  },
  {
   "cell_type": "code",
   "execution_count": null,
   "metadata": {
    "collapsed": true
   },
   "outputs": [],
   "source": []
  }
 ],
 "metadata": {
  "kernelspec": {
   "display_name": "Python 3",
   "language": "python",
   "name": "python3"
  },
  "language_info": {
   "codemirror_mode": {
    "name": "ipython",
    "version": 3
   },
   "file_extension": ".py",
   "mimetype": "text/x-python",
   "name": "python",
   "nbconvert_exporter": "python",
   "pygments_lexer": "ipython3",
   "version": "3.6.1"
  }
 },
 "nbformat": 4,
 "nbformat_minor": 2
}
