{
 "cells": [
  {
   "cell_type": "markdown",
   "metadata": {},
   "source": [
    "### Cargamos librerias"
   ]
  },
  {
   "cell_type": "code",
   "execution_count": 3,
   "metadata": {
    "collapsed": true
   },
   "outputs": [],
   "source": [
    "import os\n",
    "import pandas as pd\n",
    "import matplotlib.pylab as plt\n",
    "%matplotlib inline\n",
    "plt.style.use('seaborn')\n",
    "import numpy as np\n"
   ]
  },
  {
   "cell_type": "markdown",
   "metadata": {},
   "source": [
    "### Cargamos los datos"
   ]
  },
  {
   "cell_type": "code",
   "execution_count": 4,
   "metadata": {
    "collapsed": true
   },
   "outputs": [],
   "source": [
    "#path = '../Entrenamientos/result_tramos.xlsx'\n",
    "#Usamos primero los tramos 'grandes'...\n",
    "path = '../Entrenamientos/Procesado_Tramos.xlsx'"
   ]
  },
  {
   "cell_type": "code",
   "execution_count": 5,
   "metadata": {},
   "outputs": [],
   "source": [
    "df = pd.read_excel(path)"
   ]
  },
  {
   "cell_type": "code",
   "execution_count": 6,
   "metadata": {},
   "outputs": [
    {
     "data": {
      "text/html": [
       "<div>\n",
       "<style>\n",
       "    .dataframe thead tr:only-child th {\n",
       "        text-align: right;\n",
       "    }\n",
       "\n",
       "    .dataframe thead th {\n",
       "        text-align: left;\n",
       "    }\n",
       "\n",
       "    .dataframe tbody tr th {\n",
       "        vertical-align: top;\n",
       "    }\n",
       "</style>\n",
       "<table border=\"1\" class=\"dataframe\">\n",
       "  <thead>\n",
       "    <tr style=\"text-align: right;\">\n",
       "      <th></th>\n",
       "      <th>tramo</th>\n",
       "      <th>tramo_inicial</th>\n",
       "      <th>tramo_final</th>\n",
       "      <th>pwr</th>\n",
       "      <th>time_seg</th>\n",
       "      <th>dist</th>\n",
       "      <th>spd</th>\n",
       "      <th>viento_aparente</th>\n",
       "      <th>porc</th>\n",
       "    </tr>\n",
       "  </thead>\n",
       "  <tbody>\n",
       "    <tr>\n",
       "      <th>count</th>\n",
       "      <td>283.000000</td>\n",
       "      <td>283.000000</td>\n",
       "      <td>283.000000</td>\n",
       "      <td>283.000000</td>\n",
       "      <td>283.000000</td>\n",
       "      <td>283.000000</td>\n",
       "      <td>283.000000</td>\n",
       "      <td>283.000000</td>\n",
       "      <td>283.000000</td>\n",
       "    </tr>\n",
       "    <tr>\n",
       "      <th>mean</th>\n",
       "      <td>50.038869</td>\n",
       "      <td>3626.088339</td>\n",
       "      <td>3695.734982</td>\n",
       "      <td>166.896851</td>\n",
       "      <td>138.798587</td>\n",
       "      <td>959.941520</td>\n",
       "      <td>30.333649</td>\n",
       "      <td>-inf</td>\n",
       "      <td>inf</td>\n",
       "    </tr>\n",
       "    <tr>\n",
       "      <th>std</th>\n",
       "      <td>33.047386</td>\n",
       "      <td>2359.016002</td>\n",
       "      <td>2353.448358</td>\n",
       "      <td>75.436162</td>\n",
       "      <td>294.498658</td>\n",
       "      <td>1563.664211</td>\n",
       "      <td>9.299367</td>\n",
       "      <td>NaN</td>\n",
       "      <td>NaN</td>\n",
       "    </tr>\n",
       "    <tr>\n",
       "      <th>min</th>\n",
       "      <td>0.000000</td>\n",
       "      <td>0.000000</td>\n",
       "      <td>12.000000</td>\n",
       "      <td>0.000000</td>\n",
       "      <td>1.000000</td>\n",
       "      <td>0.000000</td>\n",
       "      <td>0.000000</td>\n",
       "      <td>-inf</td>\n",
       "      <td>-6.677410</td>\n",
       "    </tr>\n",
       "    <tr>\n",
       "      <th>25%</th>\n",
       "      <td>23.000000</td>\n",
       "      <td>1523.000000</td>\n",
       "      <td>1603.000000</td>\n",
       "      <td>105.409955</td>\n",
       "      <td>20.000000</td>\n",
       "      <td>121.776438</td>\n",
       "      <td>24.367954</td>\n",
       "      <td>-7.440743</td>\n",
       "      <td>-1.070971</td>\n",
       "    </tr>\n",
       "    <tr>\n",
       "      <th>50%</th>\n",
       "      <td>47.000000</td>\n",
       "      <td>3523.000000</td>\n",
       "      <td>3526.000000</td>\n",
       "      <td>171.142659</td>\n",
       "      <td>56.000000</td>\n",
       "      <td>468.799905</td>\n",
       "      <td>29.952505</td>\n",
       "      <td>-2.644055</td>\n",
       "      <td>-0.007052</td>\n",
       "    </tr>\n",
       "    <tr>\n",
       "      <th>75%</th>\n",
       "      <td>70.000000</td>\n",
       "      <td>5937.500000</td>\n",
       "      <td>6115.000000</td>\n",
       "      <td>221.707288</td>\n",
       "      <td>125.000000</td>\n",
       "      <td>905.673921</td>\n",
       "      <td>36.336244</td>\n",
       "      <td>7.267631</td>\n",
       "      <td>1.200993</td>\n",
       "    </tr>\n",
       "    <tr>\n",
       "      <th>max</th>\n",
       "      <td>129.000000</td>\n",
       "      <td>7729.000000</td>\n",
       "      <td>7796.000000</td>\n",
       "      <td>648.000000</td>\n",
       "      <td>2761.000000</td>\n",
       "      <td>10273.070042</td>\n",
       "      <td>64.800000</td>\n",
       "      <td>18.939865</td>\n",
       "      <td>inf</td>\n",
       "    </tr>\n",
       "  </tbody>\n",
       "</table>\n",
       "</div>"
      ],
      "text/plain": [
       "            tramo  tramo_inicial  tramo_final         pwr     time_seg  \\\n",
       "count  283.000000     283.000000   283.000000  283.000000   283.000000   \n",
       "mean    50.038869    3626.088339  3695.734982  166.896851   138.798587   \n",
       "std     33.047386    2359.016002  2353.448358   75.436162   294.498658   \n",
       "min      0.000000       0.000000    12.000000    0.000000     1.000000   \n",
       "25%     23.000000    1523.000000  1603.000000  105.409955    20.000000   \n",
       "50%     47.000000    3523.000000  3526.000000  171.142659    56.000000   \n",
       "75%     70.000000    5937.500000  6115.000000  221.707288   125.000000   \n",
       "max    129.000000    7729.000000  7796.000000  648.000000  2761.000000   \n",
       "\n",
       "               dist         spd  viento_aparente        porc  \n",
       "count    283.000000  283.000000       283.000000  283.000000  \n",
       "mean     959.941520   30.333649             -inf         inf  \n",
       "std     1563.664211    9.299367              NaN         NaN  \n",
       "min        0.000000    0.000000             -inf   -6.677410  \n",
       "25%      121.776438   24.367954        -7.440743   -1.070971  \n",
       "50%      468.799905   29.952505        -2.644055   -0.007052  \n",
       "75%      905.673921   36.336244         7.267631    1.200993  \n",
       "max    10273.070042   64.800000        18.939865         inf  "
      ]
     },
     "execution_count": 6,
     "metadata": {},
     "output_type": "execute_result"
    }
   ],
   "source": [
    "df.describe()"
   ]
  },
  {
   "cell_type": "code",
   "execution_count": 8,
   "metadata": {
    "collapsed": true,
    "scrolled": true
   },
   "outputs": [],
   "source": [
    "df = df[df[\"viento_aparente\"]!=-np.inf]"
   ]
  },
  {
   "cell_type": "code",
   "execution_count": 9,
   "metadata": {},
   "outputs": [
    {
     "data": {
      "text/html": [
       "<div>\n",
       "<style>\n",
       "    .dataframe thead tr:only-child th {\n",
       "        text-align: right;\n",
       "    }\n",
       "\n",
       "    .dataframe thead th {\n",
       "        text-align: left;\n",
       "    }\n",
       "\n",
       "    .dataframe tbody tr th {\n",
       "        vertical-align: top;\n",
       "    }\n",
       "</style>\n",
       "<table border=\"1\" class=\"dataframe\">\n",
       "  <thead>\n",
       "    <tr style=\"text-align: right;\">\n",
       "      <th></th>\n",
       "      <th>tramo</th>\n",
       "      <th>tramo_inicial</th>\n",
       "      <th>tramo_final</th>\n",
       "      <th>pwr</th>\n",
       "      <th>time_seg</th>\n",
       "      <th>dist</th>\n",
       "      <th>spd</th>\n",
       "      <th>viento_aparente</th>\n",
       "      <th>porc</th>\n",
       "    </tr>\n",
       "  </thead>\n",
       "  <tbody>\n",
       "    <tr>\n",
       "      <th>count</th>\n",
       "      <td>282.000000</td>\n",
       "      <td>282.000000</td>\n",
       "      <td>282.000000</td>\n",
       "      <td>282.000000</td>\n",
       "      <td>282.000000</td>\n",
       "      <td>282.000000</td>\n",
       "      <td>282.000000</td>\n",
       "      <td>282.000000</td>\n",
       "      <td>282.000000</td>\n",
       "    </tr>\n",
       "    <tr>\n",
       "      <th>mean</th>\n",
       "      <td>50.078014</td>\n",
       "      <td>3617.893617</td>\n",
       "      <td>3687.783688</td>\n",
       "      <td>166.678684</td>\n",
       "      <td>139.280142</td>\n",
       "      <td>963.345568</td>\n",
       "      <td>30.441215</td>\n",
       "      <td>-0.594445</td>\n",
       "      <td>-0.033003</td>\n",
       "    </tr>\n",
       "    <tr>\n",
       "      <th>std</th>\n",
       "      <td>33.099563</td>\n",
       "      <td>2359.171158</td>\n",
       "      <td>2353.821173</td>\n",
       "      <td>75.480779</td>\n",
       "      <td>294.910571</td>\n",
       "      <td>1565.393258</td>\n",
       "      <td>9.137827</td>\n",
       "      <td>7.454853</td>\n",
       "      <td>2.166262</td>\n",
       "    </tr>\n",
       "    <tr>\n",
       "      <th>min</th>\n",
       "      <td>0.000000</td>\n",
       "      <td>0.000000</td>\n",
       "      <td>12.000000</td>\n",
       "      <td>0.000000</td>\n",
       "      <td>1.000000</td>\n",
       "      <td>9.079168</td>\n",
       "      <td>0.770052</td>\n",
       "      <td>-14.676919</td>\n",
       "      <td>-6.677410</td>\n",
       "    </tr>\n",
       "    <tr>\n",
       "      <th>25%</th>\n",
       "      <td>23.000000</td>\n",
       "      <td>1522.500000</td>\n",
       "      <td>1596.500000</td>\n",
       "      <td>105.383618</td>\n",
       "      <td>20.250000</td>\n",
       "      <td>129.987954</td>\n",
       "      <td>24.412312</td>\n",
       "      <td>-7.399050</td>\n",
       "      <td>-1.072187</td>\n",
       "    </tr>\n",
       "    <tr>\n",
       "      <th>50%</th>\n",
       "      <td>47.000000</td>\n",
       "      <td>3514.500000</td>\n",
       "      <td>3525.500000</td>\n",
       "      <td>171.140529</td>\n",
       "      <td>56.500000</td>\n",
       "      <td>469.955006</td>\n",
       "      <td>29.964252</td>\n",
       "      <td>-2.633167</td>\n",
       "      <td>-0.013285</td>\n",
       "    </tr>\n",
       "    <tr>\n",
       "      <th>75%</th>\n",
       "      <td>70.000000</td>\n",
       "      <td>5937.250000</td>\n",
       "      <td>6124.000000</td>\n",
       "      <td>221.205250</td>\n",
       "      <td>125.000000</td>\n",
       "      <td>906.990831</td>\n",
       "      <td>36.381969</td>\n",
       "      <td>7.282974</td>\n",
       "      <td>1.194253</td>\n",
       "    </tr>\n",
       "    <tr>\n",
       "      <th>max</th>\n",
       "      <td>129.000000</td>\n",
       "      <td>7729.000000</td>\n",
       "      <td>7796.000000</td>\n",
       "      <td>648.000000</td>\n",
       "      <td>2761.000000</td>\n",
       "      <td>10273.070042</td>\n",
       "      <td>64.800000</td>\n",
       "      <td>18.939865</td>\n",
       "      <td>7.137195</td>\n",
       "    </tr>\n",
       "  </tbody>\n",
       "</table>\n",
       "</div>"
      ],
      "text/plain": [
       "            tramo  tramo_inicial  tramo_final         pwr     time_seg  \\\n",
       "count  282.000000     282.000000   282.000000  282.000000   282.000000   \n",
       "mean    50.078014    3617.893617  3687.783688  166.678684   139.280142   \n",
       "std     33.099563    2359.171158  2353.821173   75.480779   294.910571   \n",
       "min      0.000000       0.000000    12.000000    0.000000     1.000000   \n",
       "25%     23.000000    1522.500000  1596.500000  105.383618    20.250000   \n",
       "50%     47.000000    3514.500000  3525.500000  171.140529    56.500000   \n",
       "75%     70.000000    5937.250000  6124.000000  221.205250   125.000000   \n",
       "max    129.000000    7729.000000  7796.000000  648.000000  2761.000000   \n",
       "\n",
       "               dist         spd  viento_aparente        porc  \n",
       "count    282.000000  282.000000       282.000000  282.000000  \n",
       "mean     963.345568   30.441215        -0.594445   -0.033003  \n",
       "std     1565.393258    9.137827         7.454853    2.166262  \n",
       "min        9.079168    0.770052       -14.676919   -6.677410  \n",
       "25%      129.987954   24.412312        -7.399050   -1.072187  \n",
       "50%      469.955006   29.964252        -2.633167   -0.013285  \n",
       "75%      906.990831   36.381969         7.282974    1.194253  \n",
       "max    10273.070042   64.800000        18.939865    7.137195  "
      ]
     },
     "execution_count": 9,
     "metadata": {},
     "output_type": "execute_result"
    }
   ],
   "source": [
    "df.describe()"
   ]
  },
  {
   "cell_type": "code",
   "execution_count": 10,
   "metadata": {},
   "outputs": [
    {
     "data": {
      "text/html": [
       "<div>\n",
       "<style>\n",
       "    .dataframe thead tr:only-child th {\n",
       "        text-align: right;\n",
       "    }\n",
       "\n",
       "    .dataframe thead th {\n",
       "        text-align: left;\n",
       "    }\n",
       "\n",
       "    .dataframe tbody tr th {\n",
       "        vertical-align: top;\n",
       "    }\n",
       "</style>\n",
       "<table border=\"1\" class=\"dataframe\">\n",
       "  <thead>\n",
       "    <tr style=\"text-align: right;\">\n",
       "      <th></th>\n",
       "      <th>tramo</th>\n",
       "      <th>tramo_inicial</th>\n",
       "      <th>tramo_final</th>\n",
       "      <th>pwr</th>\n",
       "      <th>time_seg</th>\n",
       "      <th>dist</th>\n",
       "      <th>spd</th>\n",
       "      <th>viento_aparente</th>\n",
       "      <th>porc</th>\n",
       "      <th>prueba</th>\n",
       "    </tr>\n",
       "  </thead>\n",
       "  <tbody>\n",
       "    <tr>\n",
       "      <th>0</th>\n",
       "      <td>0</td>\n",
       "      <td>0</td>\n",
       "      <td>65</td>\n",
       "      <td>77.836186</td>\n",
       "      <td>106</td>\n",
       "      <td>966.000000</td>\n",
       "      <td>32.807547</td>\n",
       "      <td>8.398054</td>\n",
       "      <td>-3.377386</td>\n",
       "      <td>20180406_LEVS_195_90_R_E.gpx</td>\n",
       "    </tr>\n",
       "    <tr>\n",
       "      <th>1</th>\n",
       "      <td>1</td>\n",
       "      <td>65</td>\n",
       "      <td>432</td>\n",
       "      <td>255.381555</td>\n",
       "      <td>980</td>\n",
       "      <td>4819.000000</td>\n",
       "      <td>17.702449</td>\n",
       "      <td>5.337415</td>\n",
       "      <td>4.181100</td>\n",
       "      <td>20180406_LEVS_195_90_R_E.gpx</td>\n",
       "    </tr>\n",
       "    <tr>\n",
       "      <th>2</th>\n",
       "      <td>2</td>\n",
       "      <td>432</td>\n",
       "      <td>468</td>\n",
       "      <td>152.194252</td>\n",
       "      <td>44</td>\n",
       "      <td>473.935824</td>\n",
       "      <td>38.776567</td>\n",
       "      <td>8.311220</td>\n",
       "      <td>-1.737873</td>\n",
       "      <td>20180406_LEVS_195_90_R_E.gpx</td>\n",
       "    </tr>\n",
       "    <tr>\n",
       "      <th>3</th>\n",
       "      <td>3</td>\n",
       "      <td>468</td>\n",
       "      <td>532</td>\n",
       "      <td>248.770434</td>\n",
       "      <td>120</td>\n",
       "      <td>813.223602</td>\n",
       "      <td>24.396708</td>\n",
       "      <td>8.704791</td>\n",
       "      <td>2.662585</td>\n",
       "      <td>20180406_LEVS_195_90_R_E.gpx</td>\n",
       "    </tr>\n",
       "    <tr>\n",
       "      <th>4</th>\n",
       "      <td>4</td>\n",
       "      <td>532</td>\n",
       "      <td>548</td>\n",
       "      <td>155.753257</td>\n",
       "      <td>21</td>\n",
       "      <td>206.720563</td>\n",
       "      <td>35.437811</td>\n",
       "      <td>8.487546</td>\n",
       "      <td>-0.873144</td>\n",
       "      <td>20180406_LEVS_195_90_R_E.gpx</td>\n",
       "    </tr>\n",
       "  </tbody>\n",
       "</table>\n",
       "</div>"
      ],
      "text/plain": [
       "   tramo  tramo_inicial  tramo_final         pwr  time_seg         dist  \\\n",
       "0      0              0           65   77.836186       106   966.000000   \n",
       "1      1             65          432  255.381555       980  4819.000000   \n",
       "2      2            432          468  152.194252        44   473.935824   \n",
       "3      3            468          532  248.770434       120   813.223602   \n",
       "4      4            532          548  155.753257        21   206.720563   \n",
       "\n",
       "         spd  viento_aparente      porc                        prueba  \n",
       "0  32.807547         8.398054 -3.377386  20180406_LEVS_195_90_R_E.gpx  \n",
       "1  17.702449         5.337415  4.181100  20180406_LEVS_195_90_R_E.gpx  \n",
       "2  38.776567         8.311220 -1.737873  20180406_LEVS_195_90_R_E.gpx  \n",
       "3  24.396708         8.704791  2.662585  20180406_LEVS_195_90_R_E.gpx  \n",
       "4  35.437811         8.487546 -0.873144  20180406_LEVS_195_90_R_E.gpx  "
      ]
     },
     "execution_count": 10,
     "metadata": {},
     "output_type": "execute_result"
    }
   ],
   "source": [
    "df.head()"
   ]
  },
  {
   "cell_type": "markdown",
   "metadata": {},
   "source": [
    "### Creamos la variable target No Pedalea <100w"
   ]
  },
  {
   "cell_type": "code",
   "execution_count": 33,
   "metadata": {},
   "outputs": [],
   "source": [
    "df['target'] = [1 if x<100 else 0 for x in df['pwr']]"
   ]
  },
  {
   "cell_type": "code",
   "execution_count": 34,
   "metadata": {},
   "outputs": [
    {
     "data": {
      "text/html": [
       "<div>\n",
       "<style>\n",
       "    .dataframe thead tr:only-child th {\n",
       "        text-align: right;\n",
       "    }\n",
       "\n",
       "    .dataframe thead th {\n",
       "        text-align: left;\n",
       "    }\n",
       "\n",
       "    .dataframe tbody tr th {\n",
       "        vertical-align: top;\n",
       "    }\n",
       "</style>\n",
       "<table border=\"1\" class=\"dataframe\">\n",
       "  <thead>\n",
       "    <tr style=\"text-align: right;\">\n",
       "      <th></th>\n",
       "      <th>tramo</th>\n",
       "      <th>tramo_inicial</th>\n",
       "      <th>tramo_final</th>\n",
       "      <th>pwr</th>\n",
       "      <th>time_seg</th>\n",
       "      <th>dist</th>\n",
       "      <th>spd</th>\n",
       "      <th>viento_aparente</th>\n",
       "      <th>porc</th>\n",
       "      <th>prueba</th>\n",
       "      <th>target</th>\n",
       "    </tr>\n",
       "  </thead>\n",
       "  <tbody>\n",
       "    <tr>\n",
       "      <th>0</th>\n",
       "      <td>0</td>\n",
       "      <td>0</td>\n",
       "      <td>65</td>\n",
       "      <td>77.836186</td>\n",
       "      <td>106</td>\n",
       "      <td>966.000000</td>\n",
       "      <td>32.807547</td>\n",
       "      <td>8.398054</td>\n",
       "      <td>-3.377386</td>\n",
       "      <td>20180406_LEVS_195_90_R_E.gpx</td>\n",
       "      <td>1</td>\n",
       "    </tr>\n",
       "    <tr>\n",
       "      <th>1</th>\n",
       "      <td>1</td>\n",
       "      <td>65</td>\n",
       "      <td>432</td>\n",
       "      <td>255.381555</td>\n",
       "      <td>980</td>\n",
       "      <td>4819.000000</td>\n",
       "      <td>17.702449</td>\n",
       "      <td>5.337415</td>\n",
       "      <td>4.181100</td>\n",
       "      <td>20180406_LEVS_195_90_R_E.gpx</td>\n",
       "      <td>0</td>\n",
       "    </tr>\n",
       "    <tr>\n",
       "      <th>2</th>\n",
       "      <td>2</td>\n",
       "      <td>432</td>\n",
       "      <td>468</td>\n",
       "      <td>152.194252</td>\n",
       "      <td>44</td>\n",
       "      <td>473.935824</td>\n",
       "      <td>38.776567</td>\n",
       "      <td>8.311220</td>\n",
       "      <td>-1.737873</td>\n",
       "      <td>20180406_LEVS_195_90_R_E.gpx</td>\n",
       "      <td>0</td>\n",
       "    </tr>\n",
       "    <tr>\n",
       "      <th>3</th>\n",
       "      <td>3</td>\n",
       "      <td>468</td>\n",
       "      <td>532</td>\n",
       "      <td>248.770434</td>\n",
       "      <td>120</td>\n",
       "      <td>813.223602</td>\n",
       "      <td>24.396708</td>\n",
       "      <td>8.704791</td>\n",
       "      <td>2.662585</td>\n",
       "      <td>20180406_LEVS_195_90_R_E.gpx</td>\n",
       "      <td>0</td>\n",
       "    </tr>\n",
       "    <tr>\n",
       "      <th>4</th>\n",
       "      <td>4</td>\n",
       "      <td>532</td>\n",
       "      <td>548</td>\n",
       "      <td>155.753257</td>\n",
       "      <td>21</td>\n",
       "      <td>206.720563</td>\n",
       "      <td>35.437811</td>\n",
       "      <td>8.487546</td>\n",
       "      <td>-0.873144</td>\n",
       "      <td>20180406_LEVS_195_90_R_E.gpx</td>\n",
       "      <td>0</td>\n",
       "    </tr>\n",
       "  </tbody>\n",
       "</table>\n",
       "</div>"
      ],
      "text/plain": [
       "   tramo  tramo_inicial  tramo_final         pwr  time_seg         dist  \\\n",
       "0      0              0           65   77.836186       106   966.000000   \n",
       "1      1             65          432  255.381555       980  4819.000000   \n",
       "2      2            432          468  152.194252        44   473.935824   \n",
       "3      3            468          532  248.770434       120   813.223602   \n",
       "4      4            532          548  155.753257        21   206.720563   \n",
       "\n",
       "         spd  viento_aparente      porc                        prueba  target  \n",
       "0  32.807547         8.398054 -3.377386  20180406_LEVS_195_90_R_E.gpx       1  \n",
       "1  17.702449         5.337415  4.181100  20180406_LEVS_195_90_R_E.gpx       0  \n",
       "2  38.776567         8.311220 -1.737873  20180406_LEVS_195_90_R_E.gpx       0  \n",
       "3  24.396708         8.704791  2.662585  20180406_LEVS_195_90_R_E.gpx       0  \n",
       "4  35.437811         8.487546 -0.873144  20180406_LEVS_195_90_R_E.gpx       0  "
      ]
     },
     "execution_count": 34,
     "metadata": {},
     "output_type": "execute_result"
    }
   ],
   "source": [
    "df.head()"
   ]
  },
  {
   "cell_type": "code",
   "execution_count": 35,
   "metadata": {
    "collapsed": true
   },
   "outputs": [],
   "source": [
    "df_lm = df[['dist','porc','viento_aparente','target']]"
   ]
  },
  {
   "cell_type": "code",
   "execution_count": 36,
   "metadata": {
    "collapsed": true
   },
   "outputs": [],
   "source": [
    "df_lm_x = df[['dist','porc','viento_aparente']]\n",
    "df_lm_y = df[['target']]"
   ]
  },
  {
   "cell_type": "code",
   "execution_count": 37,
   "metadata": {
    "collapsed": true
   },
   "outputs": [],
   "source": [
    "from sklearn.model_selection import train_test_split\n",
    "X_train, X_test, Y_train, Y_test = train_test_split(df_lm_x, df_lm_y, test_size=0.30, random_state=42)"
   ]
  },
  {
   "cell_type": "markdown",
   "metadata": {},
   "source": [
    "### Probamos con Ensemble"
   ]
  },
  {
   "cell_type": "code",
   "execution_count": 54,
   "metadata": {
    "collapsed": true
   },
   "outputs": [],
   "source": [
    "from sklearn.ensemble import RandomForestClassifier\n",
    "from sklearn.ensemble import RandomForestRegressor\n",
    "from sklearn.metrics import mean_squared_error\n"
   ]
  },
  {
   "cell_type": "code",
   "execution_count": 44,
   "metadata": {
    "collapsed": true
   },
   "outputs": [],
   "source": [
    "rfc = RandomForestClassifier()"
   ]
  },
  {
   "cell_type": "code",
   "execution_count": 53,
   "metadata": {},
   "outputs": [
    {
     "name": "stderr",
     "output_type": "stream",
     "text": [
      "C:\\Users\\David\\Anaconda3\\lib\\site-packages\\ipykernel_launcher.py:1: DataConversionWarning: A column-vector y was passed when a 1d array was expected. Please change the shape of y to (n_samples,), for example using ravel().\n",
      "  \"\"\"Entry point for launching an IPython kernel.\n"
     ]
    },
    {
     "data": {
      "text/plain": [
       "0.23529411764705882"
      ]
     },
     "execution_count": 53,
     "metadata": {},
     "output_type": "execute_result"
    }
   ],
   "source": [
    "rfc.fit(X_train, Y_train)\n",
    "Y_pred = rfc.predict(X_test)\n",
    "mean_squared_error(Y_test,Y_pred)"
   ]
  },
  {
   "cell_type": "code",
   "execution_count": 46,
   "metadata": {
    "collapsed": true
   },
   "outputs": [],
   "source": [
    "rfr = RandomForestRegressor()"
   ]
  },
  {
   "cell_type": "code",
   "execution_count": 50,
   "metadata": {},
   "outputs": [
    {
     "name": "stderr",
     "output_type": "stream",
     "text": [
      "C:\\Users\\David\\Anaconda3\\lib\\site-packages\\ipykernel_launcher.py:1: DataConversionWarning: A column-vector y was passed when a 1d array was expected. Please change the shape of y to (n_samples,), for example using ravel().\n",
      "  \"\"\"Entry point for launching an IPython kernel.\n"
     ]
    },
    {
     "data": {
      "text/plain": [
       "0.16870588235294118"
      ]
     },
     "execution_count": 50,
     "metadata": {},
     "output_type": "execute_result"
    }
   ],
   "source": [
    "rfr.fit(X_train, Y_train)\n",
    "Y_pred = rfr.predict(X_test)\n",
    "mean_squared_error(Y_test,Y_pred)"
   ]
  },
  {
   "cell_type": "code",
   "execution_count": null,
   "metadata": {
    "collapsed": true
   },
   "outputs": [],
   "source": []
  },
  {
   "cell_type": "code",
   "execution_count": null,
   "metadata": {
    "collapsed": true
   },
   "outputs": [],
   "source": []
  }
 ],
 "metadata": {
  "kernelspec": {
   "display_name": "Python 3",
   "language": "python",
   "name": "python3"
  },
  "language_info": {
   "codemirror_mode": {
    "name": "ipython",
    "version": 3
   },
   "file_extension": ".py",
   "mimetype": "text/x-python",
   "name": "python",
   "nbconvert_exporter": "python",
   "pygments_lexer": "ipython3",
   "version": "3.6.1"
  }
 },
 "nbformat": 4,
 "nbformat_minor": 2
}
