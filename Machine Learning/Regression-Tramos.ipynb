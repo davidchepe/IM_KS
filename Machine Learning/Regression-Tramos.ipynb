{
 "cells": [
  {
   "cell_type": "code",
   "execution_count": 2,
   "metadata": {
    "collapsed": true
   },
   "outputs": [],
   "source": [
    "#La Potencia viene dada por la siguiente formula"
   ]
  },
  {
   "cell_type": "markdown",
   "metadata": {},
   "source": [
    "$P = \\frac{\\rho}{2}(V+wV)^2VCdA+(Cr+\\%)mgV$\n",
    "\n",
    "Dónde:\n",
    "\n",
    "P es la potencia necesaria\n",
    "\n",
    "$\\rho$ es la densidad del aire\n",
    "\n",
    "V es la velocidad\n",
    "\n",
    "wV es velocidad el viento\n",
    "\n",
    "Cd es el coeficiente de drag\n",
    "\n",
    "A es el área efectiva\n",
    "\n",
    "Cr es el coeficiente de rozamiento\n",
    "\n",
    "$\\%$ es la pendiente\n",
    "\n",
    "m es la masa total del conjunto bicicleta - ciclista"
   ]
  },
  {
   "cell_type": "code",
   "execution_count": 1,
   "metadata": {
    "collapsed": true
   },
   "outputs": [],
   "source": [
    "import os\n",
    "import pandas as pd\n",
    "import matplotlib.pylab as plt\n",
    "%matplotlib inline\n",
    "plt.style.use('seaborn')\n",
    "import numpy as np\n"
   ]
  },
  {
   "cell_type": "markdown",
   "metadata": {},
   "source": [
    "### Cargamos los datos"
   ]
  },
  {
   "cell_type": "code",
   "execution_count": 23,
   "metadata": {
    "collapsed": true
   },
   "outputs": [],
   "source": [
    "path = '../Entrenamientos/result_tramos.xlsx'"
   ]
  },
  {
   "cell_type": "code",
   "execution_count": 24,
   "metadata": {
    "collapsed": true
   },
   "outputs": [],
   "source": [
    "df = pd.read_excel(path)"
   ]
  },
  {
   "cell_type": "code",
   "execution_count": 27,
   "metadata": {
    "scrolled": true
   },
   "outputs": [],
   "source": [
    "df = df[df[\"sp_vel_aparente\"]!=-np.inf]"
   ]
  },
  {
   "cell_type": "code",
   "execution_count": 28,
   "metadata": {},
   "outputs": [
    {
     "data": {
      "text/html": [
       "<div>\n",
       "<style>\n",
       "    .dataframe thead tr:only-child th {\n",
       "        text-align: right;\n",
       "    }\n",
       "\n",
       "    .dataframe thead th {\n",
       "        text-align: left;\n",
       "    }\n",
       "\n",
       "    .dataframe tbody tr th {\n",
       "        vertical-align: top;\n",
       "    }\n",
       "</style>\n",
       "<table border=\"1\" class=\"dataframe\">\n",
       "  <thead>\n",
       "    <tr style=\"text-align: right;\">\n",
       "      <th></th>\n",
       "      <th>tramo</th>\n",
       "      <th>tramo_inicial</th>\n",
       "      <th>tramo_final</th>\n",
       "      <th>sp_pwd</th>\n",
       "      <th>tiempo_tramo</th>\n",
       "      <th>distancia_tramo</th>\n",
       "      <th>vel_calc</th>\n",
       "      <th>sp_vel_aparente</th>\n",
       "      <th>porcent_des</th>\n",
       "    </tr>\n",
       "  </thead>\n",
       "  <tbody>\n",
       "    <tr>\n",
       "      <th>count</th>\n",
       "      <td>75.000000</td>\n",
       "      <td>75.000000</td>\n",
       "      <td>75.000000</td>\n",
       "      <td>75.000000</td>\n",
       "      <td>75.000000</td>\n",
       "      <td>75.000000</td>\n",
       "      <td>75.000000</td>\n",
       "      <td>75.000000</td>\n",
       "      <td>75.000000</td>\n",
       "    </tr>\n",
       "    <tr>\n",
       "      <th>mean</th>\n",
       "      <td>37.480000</td>\n",
       "      <td>4423.960000</td>\n",
       "      <td>4524.800000</td>\n",
       "      <td>146.697211</td>\n",
       "      <td>230.786667</td>\n",
       "      <td>1404.350534</td>\n",
       "      <td>27.268971</td>\n",
       "      <td>-1.000097</td>\n",
       "      <td>0.024593</td>\n",
       "    </tr>\n",
       "    <tr>\n",
       "      <th>std</th>\n",
       "      <td>22.231193</td>\n",
       "      <td>2557.723182</td>\n",
       "      <td>2529.893951</td>\n",
       "      <td>66.803668</td>\n",
       "      <td>497.567768</td>\n",
       "      <td>2419.973943</td>\n",
       "      <td>8.964338</td>\n",
       "      <td>6.867127</td>\n",
       "      <td>2.433537</td>\n",
       "    </tr>\n",
       "    <tr>\n",
       "      <th>min</th>\n",
       "      <td>0.000000</td>\n",
       "      <td>0.000000</td>\n",
       "      <td>65.000000</td>\n",
       "      <td>0.000000</td>\n",
       "      <td>2.000000</td>\n",
       "      <td>11.000000</td>\n",
       "      <td>0.770052</td>\n",
       "      <td>-9.859221</td>\n",
       "      <td>-6.677410</td>\n",
       "    </tr>\n",
       "    <tr>\n",
       "      <th>25%</th>\n",
       "      <td>18.500000</td>\n",
       "      <td>1297.500000</td>\n",
       "      <td>1654.000000</td>\n",
       "      <td>88.168538</td>\n",
       "      <td>21.500000</td>\n",
       "      <td>112.189268</td>\n",
       "      <td>21.643902</td>\n",
       "      <td>-7.377288</td>\n",
       "      <td>-0.957365</td>\n",
       "    </tr>\n",
       "    <tr>\n",
       "      <th>50%</th>\n",
       "      <td>37.000000</td>\n",
       "      <td>5927.000000</td>\n",
       "      <td>5935.000000</td>\n",
       "      <td>157.112154</td>\n",
       "      <td>70.000000</td>\n",
       "      <td>478.200000</td>\n",
       "      <td>27.282754</td>\n",
       "      <td>-2.994640</td>\n",
       "      <td>-0.030749</td>\n",
       "    </tr>\n",
       "    <tr>\n",
       "      <th>75%</th>\n",
       "      <td>56.500000</td>\n",
       "      <td>6590.500000</td>\n",
       "      <td>6591.500000</td>\n",
       "      <td>202.654265</td>\n",
       "      <td>142.000000</td>\n",
       "      <td>890.626216</td>\n",
       "      <td>32.798548</td>\n",
       "      <td>5.298305</td>\n",
       "      <td>1.014067</td>\n",
       "    </tr>\n",
       "    <tr>\n",
       "      <th>max</th>\n",
       "      <td>75.000000</td>\n",
       "      <td>7478.000000</td>\n",
       "      <td>7564.000000</td>\n",
       "      <td>255.381555</td>\n",
       "      <td>2761.000000</td>\n",
       "      <td>10273.070042</td>\n",
       "      <td>50.116364</td>\n",
       "      <td>18.939865</td>\n",
       "      <td>7.137195</td>\n",
       "    </tr>\n",
       "  </tbody>\n",
       "</table>\n",
       "</div>"
      ],
      "text/plain": [
       "           tramo  tramo_inicial  tramo_final      sp_pwd  tiempo_tramo  \\\n",
       "count  75.000000      75.000000    75.000000   75.000000     75.000000   \n",
       "mean   37.480000    4423.960000  4524.800000  146.697211    230.786667   \n",
       "std    22.231193    2557.723182  2529.893951   66.803668    497.567768   \n",
       "min     0.000000       0.000000    65.000000    0.000000      2.000000   \n",
       "25%    18.500000    1297.500000  1654.000000   88.168538     21.500000   \n",
       "50%    37.000000    5927.000000  5935.000000  157.112154     70.000000   \n",
       "75%    56.500000    6590.500000  6591.500000  202.654265    142.000000   \n",
       "max    75.000000    7478.000000  7564.000000  255.381555   2761.000000   \n",
       "\n",
       "       distancia_tramo   vel_calc  sp_vel_aparente  porcent_des  \n",
       "count        75.000000  75.000000        75.000000    75.000000  \n",
       "mean       1404.350534  27.268971        -1.000097     0.024593  \n",
       "std        2419.973943   8.964338         6.867127     2.433537  \n",
       "min          11.000000   0.770052        -9.859221    -6.677410  \n",
       "25%         112.189268  21.643902        -7.377288    -0.957365  \n",
       "50%         478.200000  27.282754        -2.994640    -0.030749  \n",
       "75%         890.626216  32.798548         5.298305     1.014067  \n",
       "max       10273.070042  50.116364        18.939865     7.137195  "
      ]
     },
     "execution_count": 28,
     "metadata": {},
     "output_type": "execute_result"
    }
   ],
   "source": [
    "df.describe()"
   ]
  },
  {
   "cell_type": "code",
   "execution_count": 29,
   "metadata": {},
   "outputs": [
    {
     "data": {
      "text/html": [
       "<div>\n",
       "<style>\n",
       "    .dataframe thead tr:only-child th {\n",
       "        text-align: right;\n",
       "    }\n",
       "\n",
       "    .dataframe thead th {\n",
       "        text-align: left;\n",
       "    }\n",
       "\n",
       "    .dataframe tbody tr th {\n",
       "        vertical-align: top;\n",
       "    }\n",
       "</style>\n",
       "<table border=\"1\" class=\"dataframe\">\n",
       "  <thead>\n",
       "    <tr style=\"text-align: right;\">\n",
       "      <th></th>\n",
       "      <th>tramo</th>\n",
       "      <th>tramo_inicial</th>\n",
       "      <th>tramo_final</th>\n",
       "      <th>sp_pwd</th>\n",
       "      <th>tiempo_tramo</th>\n",
       "      <th>distancia_tramo</th>\n",
       "      <th>vel_calc</th>\n",
       "      <th>sp_vel_aparente</th>\n",
       "      <th>porcent_des</th>\n",
       "    </tr>\n",
       "  </thead>\n",
       "  <tbody>\n",
       "    <tr>\n",
       "      <th>0</th>\n",
       "      <td>0</td>\n",
       "      <td>0</td>\n",
       "      <td>65</td>\n",
       "      <td>77.836186</td>\n",
       "      <td>106</td>\n",
       "      <td>966.000000</td>\n",
       "      <td>32.807547</td>\n",
       "      <td>8.396543</td>\n",
       "      <td>-3.377386</td>\n",
       "    </tr>\n",
       "    <tr>\n",
       "      <th>1</th>\n",
       "      <td>1</td>\n",
       "      <td>65</td>\n",
       "      <td>432</td>\n",
       "      <td>255.381555</td>\n",
       "      <td>980</td>\n",
       "      <td>4819.000000</td>\n",
       "      <td>17.702449</td>\n",
       "      <td>5.337415</td>\n",
       "      <td>4.181100</td>\n",
       "    </tr>\n",
       "    <tr>\n",
       "      <th>2</th>\n",
       "      <td>2</td>\n",
       "      <td>432</td>\n",
       "      <td>468</td>\n",
       "      <td>152.194252</td>\n",
       "      <td>44</td>\n",
       "      <td>473.935824</td>\n",
       "      <td>38.776567</td>\n",
       "      <td>8.311220</td>\n",
       "      <td>-1.737873</td>\n",
       "    </tr>\n",
       "    <tr>\n",
       "      <th>3</th>\n",
       "      <td>3</td>\n",
       "      <td>468</td>\n",
       "      <td>532</td>\n",
       "      <td>248.770434</td>\n",
       "      <td>120</td>\n",
       "      <td>813.223602</td>\n",
       "      <td>24.396708</td>\n",
       "      <td>8.704791</td>\n",
       "      <td>2.662585</td>\n",
       "    </tr>\n",
       "    <tr>\n",
       "      <th>4</th>\n",
       "      <td>4</td>\n",
       "      <td>532</td>\n",
       "      <td>548</td>\n",
       "      <td>155.753257</td>\n",
       "      <td>21</td>\n",
       "      <td>206.720563</td>\n",
       "      <td>35.437811</td>\n",
       "      <td>8.487546</td>\n",
       "      <td>-0.873144</td>\n",
       "    </tr>\n",
       "  </tbody>\n",
       "</table>\n",
       "</div>"
      ],
      "text/plain": [
       "   tramo  tramo_inicial  tramo_final      sp_pwd  tiempo_tramo  \\\n",
       "0      0              0           65   77.836186           106   \n",
       "1      1             65          432  255.381555           980   \n",
       "2      2            432          468  152.194252            44   \n",
       "3      3            468          532  248.770434           120   \n",
       "4      4            532          548  155.753257            21   \n",
       "\n",
       "   distancia_tramo   vel_calc  sp_vel_aparente  porcent_des  \n",
       "0       966.000000  32.807547         8.396543    -3.377386  \n",
       "1      4819.000000  17.702449         5.337415     4.181100  \n",
       "2       473.935824  38.776567         8.311220    -1.737873  \n",
       "3       813.223602  24.396708         8.704791     2.662585  \n",
       "4       206.720563  35.437811         8.487546    -0.873144  "
      ]
     },
     "execution_count": 29,
     "metadata": {},
     "output_type": "execute_result"
    }
   ],
   "source": [
    "df.head()"
   ]
  },
  {
   "cell_type": "code",
   "execution_count": 30,
   "metadata": {},
   "outputs": [],
   "source": [
    "df.columns = ['tramo', 'tramo_inicial', 'tramo_final', 'pwr', 'tiempo_tramo', 'distancia_tramo', 'spd', 'viento_aparente', 'porc']"
   ]
  },
  {
   "cell_type": "code",
   "execution_count": 31,
   "metadata": {
    "collapsed": true
   },
   "outputs": [],
   "source": [
    "# Hacemos que la target sea el pwr solo por ver como funciona el modelo. Luego habrá que despejar y calcular spd"
   ]
  },
  {
   "cell_type": "code",
   "execution_count": 32,
   "metadata": {
    "collapsed": true
   },
   "outputs": [],
   "source": [
    "from sklearn import datasets, linear_model\n",
    "from sklearn.metrics import mean_squared_error, r2_score"
   ]
  },
  {
   "cell_type": "code",
   "execution_count": 33,
   "metadata": {
    "collapsed": true
   },
   "outputs": [],
   "source": [
    "df_lm = df[['pwr','spd','porc','viento_aparente']]"
   ]
  },
  {
   "cell_type": "code",
   "execution_count": 34,
   "metadata": {},
   "outputs": [
    {
     "data": {
      "text/plain": [
       "23"
      ]
     },
     "execution_count": 34,
     "metadata": {},
     "output_type": "execute_result"
    }
   ],
   "source": [
    "train = round(len(df_lm)*0.7)\n",
    "train\n",
    "test = len(df_lm)-train\n",
    "test"
   ]
  },
  {
   "cell_type": "code",
   "execution_count": 35,
   "metadata": {
    "collapsed": true
   },
   "outputs": [],
   "source": [
    "df_lm_x = df[['spd','porc','viento_aparente']]\n",
    "df_lm_y = df[['pwr']]"
   ]
  },
  {
   "cell_type": "code",
   "execution_count": 36,
   "metadata": {
    "collapsed": true
   },
   "outputs": [],
   "source": [
    "X_train = df_lm_x[:train]\n",
    "X_test = df_lm_x[test:]"
   ]
  },
  {
   "cell_type": "code",
   "execution_count": 37,
   "metadata": {
    "collapsed": true
   },
   "outputs": [],
   "source": [
    "Y_train = df_lm_y[:train]\n",
    "Y_test = df_lm_y[test:]"
   ]
  },
  {
   "cell_type": "code",
   "execution_count": 38,
   "metadata": {},
   "outputs": [
    {
     "data": {
      "text/plain": [
       "LinearRegression(copy_X=True, fit_intercept=True, n_jobs=1, normalize=False)"
      ]
     },
     "execution_count": 38,
     "metadata": {},
     "output_type": "execute_result"
    }
   ],
   "source": [
    "# Create linear regression object\n",
    "regr = linear_model.LinearRegression()\n",
    "\n",
    "# Train the model using the training sets\n",
    "regr.fit(X_train, Y_train)"
   ]
  },
  {
   "cell_type": "code",
   "execution_count": 39,
   "metadata": {
    "collapsed": true
   },
   "outputs": [],
   "source": [
    "# Make predictions using the testing set\n",
    "Y_pred = regr.predict(X_test)"
   ]
  },
  {
   "cell_type": "code",
   "execution_count": 40,
   "metadata": {
    "scrolled": true
   },
   "outputs": [
    {
     "data": {
      "text/html": [
       "<div>\n",
       "<style>\n",
       "    .dataframe thead tr:only-child th {\n",
       "        text-align: right;\n",
       "    }\n",
       "\n",
       "    .dataframe thead th {\n",
       "        text-align: left;\n",
       "    }\n",
       "\n",
       "    .dataframe tbody tr th {\n",
       "        vertical-align: top;\n",
       "    }\n",
       "</style>\n",
       "<table border=\"1\" class=\"dataframe\">\n",
       "  <thead>\n",
       "    <tr style=\"text-align: right;\">\n",
       "      <th></th>\n",
       "      <th>spd</th>\n",
       "      <th>porc</th>\n",
       "      <th>viento_aparente</th>\n",
       "    </tr>\n",
       "  </thead>\n",
       "  <tbody>\n",
       "    <tr>\n",
       "      <th>count</th>\n",
       "      <td>52.000000</td>\n",
       "      <td>52.000000</td>\n",
       "      <td>52.000000</td>\n",
       "    </tr>\n",
       "    <tr>\n",
       "      <th>mean</th>\n",
       "      <td>27.220228</td>\n",
       "      <td>-0.083624</td>\n",
       "      <td>-2.871679</td>\n",
       "    </tr>\n",
       "    <tr>\n",
       "      <th>std</th>\n",
       "      <td>9.380595</td>\n",
       "      <td>2.263064</td>\n",
       "      <td>6.662942</td>\n",
       "    </tr>\n",
       "    <tr>\n",
       "      <th>min</th>\n",
       "      <td>0.770052</td>\n",
       "      <td>-6.498721</td>\n",
       "      <td>-9.859221</td>\n",
       "    </tr>\n",
       "    <tr>\n",
       "      <th>25%</th>\n",
       "      <td>22.509603</td>\n",
       "      <td>-0.875134</td>\n",
       "      <td>-8.214425</td>\n",
       "    </tr>\n",
       "    <tr>\n",
       "      <th>50%</th>\n",
       "      <td>27.979319</td>\n",
       "      <td>-0.006240</td>\n",
       "      <td>-4.627340</td>\n",
       "    </tr>\n",
       "    <tr>\n",
       "      <th>75%</th>\n",
       "      <td>32.832517</td>\n",
       "      <td>0.630212</td>\n",
       "      <td>-0.057640</td>\n",
       "    </tr>\n",
       "    <tr>\n",
       "      <th>max</th>\n",
       "      <td>50.116364</td>\n",
       "      <td>6.468743</td>\n",
       "      <td>18.939865</td>\n",
       "    </tr>\n",
       "  </tbody>\n",
       "</table>\n",
       "</div>"
      ],
      "text/plain": [
       "             spd       porc  viento_aparente\n",
       "count  52.000000  52.000000        52.000000\n",
       "mean   27.220228  -0.083624        -2.871679\n",
       "std     9.380595   2.263064         6.662942\n",
       "min     0.770052  -6.498721        -9.859221\n",
       "25%    22.509603  -0.875134        -8.214425\n",
       "50%    27.979319  -0.006240        -4.627340\n",
       "75%    32.832517   0.630212        -0.057640\n",
       "max    50.116364   6.468743        18.939865"
      ]
     },
     "execution_count": 40,
     "metadata": {},
     "output_type": "execute_result"
    }
   ],
   "source": [
    "X_test.describe()"
   ]
  },
  {
   "cell_type": "code",
   "execution_count": 41,
   "metadata": {
    "scrolled": true
   },
   "outputs": [
    {
     "data": {
      "text/html": [
       "<div>\n",
       "<style>\n",
       "    .dataframe thead tr:only-child th {\n",
       "        text-align: right;\n",
       "    }\n",
       "\n",
       "    .dataframe thead th {\n",
       "        text-align: left;\n",
       "    }\n",
       "\n",
       "    .dataframe tbody tr th {\n",
       "        vertical-align: top;\n",
       "    }\n",
       "</style>\n",
       "<table border=\"1\" class=\"dataframe\">\n",
       "  <thead>\n",
       "    <tr style=\"text-align: right;\">\n",
       "      <th></th>\n",
       "      <th>pwr</th>\n",
       "    </tr>\n",
       "  </thead>\n",
       "  <tbody>\n",
       "    <tr>\n",
       "      <th>count</th>\n",
       "      <td>52.000000</td>\n",
       "    </tr>\n",
       "    <tr>\n",
       "      <th>mean</th>\n",
       "      <td>148.025924</td>\n",
       "    </tr>\n",
       "    <tr>\n",
       "      <th>std</th>\n",
       "      <td>60.331670</td>\n",
       "    </tr>\n",
       "    <tr>\n",
       "      <th>min</th>\n",
       "      <td>34.108079</td>\n",
       "    </tr>\n",
       "    <tr>\n",
       "      <th>25%</th>\n",
       "      <td>93.482259</td>\n",
       "    </tr>\n",
       "    <tr>\n",
       "      <th>50%</th>\n",
       "      <td>162.082171</td>\n",
       "    </tr>\n",
       "    <tr>\n",
       "      <th>75%</th>\n",
       "      <td>200.002527</td>\n",
       "    </tr>\n",
       "    <tr>\n",
       "      <th>max</th>\n",
       "      <td>254.907662</td>\n",
       "    </tr>\n",
       "  </tbody>\n",
       "</table>\n",
       "</div>"
      ],
      "text/plain": [
       "              pwr\n",
       "count   52.000000\n",
       "mean   148.025924\n",
       "std     60.331670\n",
       "min     34.108079\n",
       "25%     93.482259\n",
       "50%    162.082171\n",
       "75%    200.002527\n",
       "max    254.907662"
      ]
     },
     "execution_count": 41,
     "metadata": {},
     "output_type": "execute_result"
    }
   ],
   "source": [
    "Y_test.describe()"
   ]
  },
  {
   "cell_type": "code",
   "execution_count": 44,
   "metadata": {},
   "outputs": [
    {
     "data": {
      "text/plain": [
       "[<matplotlib.lines.Line2D at 0x2107e4e2e10>]"
      ]
     },
     "execution_count": 44,
     "metadata": {},
     "output_type": "execute_result"
    },
    {
     "data": {
      "image/png": "[encoded data removed]",
      "text/plain": [
       "<matplotlib.figure.Figure at 0x2107e4fa208>"
      ]
     },
     "metadata": {},
     "output_type": "display_data"
    }
   ],
   "source": [
    "plt.scatter(Y_test, Y_pred)\n",
    "plt.plot( [0,250],[0,250], c=\"red\" )\n"
   ]
  },
  {
   "cell_type": "code",
   "execution_count": 45,
   "metadata": {},
   "outputs": [
    {
     "name": "stdout",
     "output_type": "stream",
     "text": [
      "Coefficients: \n",
      " [[  2.10840121  22.44206633   1.38354303]]\n",
      "Mean squared error: 2024.48\n",
      "Variance score: 0.43\n"
     ]
    },
    {
     "data": {
      "image/png": "[encoded data removed]",
      "text/plain": [
       "<matplotlib.figure.Figure at 0x2107e5a64e0>"
      ]
     },
     "metadata": {},
     "output_type": "display_data"
    }
   ],
   "source": [
    "# The coefficients\n",
    "print('Coefficients: \\n', regr.coef_)\n",
    "# The mean squared error\n",
    "print(\"Mean squared error: %.2f\"\n",
    "      % mean_squared_error(Y_test, Y_pred))\n",
    "# Explained variance score: 1 is perfect prediction\n",
    "print('Variance score: %.2f' % r2_score(Y_test, Y_pred))\n",
    "\n",
    "# Plot outputs\n",
    "plt.subplot(131)\n",
    "plt.scatter(X_test['spd'], Y_test,  color='black')\n",
    "plt.plot(X_test['spd'], Y_pred, color='blue', linewidth=3)\n",
    "plt.grid(True)\n",
    "\n",
    "plt.subplot(132)\n",
    "plt.scatter(X_test['porc'], Y_test,  color='black')\n",
    "plt.plot(X_test['porc'], Y_pred, color='red', linewidth=3)\n",
    "plt.grid(True)\n",
    "\n",
    "plt.subplot(133)\n",
    "plt.scatter(X_test['viento_aparente'], Y_test,  color='black')\n",
    "plt.plot(X_test['viento_aparente'], Y_pred, color='green', linewidth=3)\n",
    "plt.grid(True)\n",
    "\n",
    "#plt.xticks(())\n",
    "#plt.yticks(())\n",
    "\n",
    "plt.show()"
   ]
  },
  {
   "cell_type": "code",
   "execution_count": 46,
   "metadata": {
    "collapsed": true
   },
   "outputs": [],
   "source": [
    "#Probamos otra cosa. Vamos a darle al modelo calculados los terminos de la formula"
   ]
  },
  {
   "cell_type": "markdown",
   "metadata": {},
   "source": [
    "$P = \\frac{\\rho}{2}(V+wV)^2VCdA+(Cr+\\%)mgV$\n",
    "\n",
    "$P = \\frac{\\rho}{2}(V+wV)^2VCdA+CrmgV+\\%mgV$"
   ]
  },
  {
   "cell_type": "code",
   "execution_count": 47,
   "metadata": {},
   "outputs": [
    {
     "name": "stderr",
     "output_type": "stream",
     "text": [
      "C:\\Users\\eduardo.hernanz\\AppData\\Local\\Continuum\\Anaconda3\\lib\\site-packages\\ipykernel_launcher.py:5: SettingWithCopyWarning: \n",
      "A value is trying to be set on a copy of a slice from a DataFrame.\n",
      "Try using .loc[row_indexer,col_indexer] = value instead\n",
      "\n",
      "See the caveats in the documentation: http://pandas.pydata.org/pandas-docs/stable/indexing.html#indexing-view-versus-copy\n",
      "  \"\"\"\n",
      "C:\\Users\\eduardo.hernanz\\AppData\\Local\\Continuum\\Anaconda3\\lib\\site-packages\\ipykernel_launcher.py:6: SettingWithCopyWarning: \n",
      "A value is trying to be set on a copy of a slice from a DataFrame.\n",
      "Try using .loc[row_indexer,col_indexer] = value instead\n",
      "\n",
      "See the caveats in the documentation: http://pandas.pydata.org/pandas-docs/stable/indexing.html#indexing-view-versus-copy\n",
      "  \n",
      "C:\\Users\\eduardo.hernanz\\AppData\\Local\\Continuum\\Anaconda3\\lib\\site-packages\\ipykernel_launcher.py:7: SettingWithCopyWarning: \n",
      "A value is trying to be set on a copy of a slice from a DataFrame.\n",
      "Try using .loc[row_indexer,col_indexer] = value instead\n",
      "\n",
      "See the caveats in the documentation: http://pandas.pydata.org/pandas-docs/stable/indexing.html#indexing-view-versus-copy\n",
      "  import sys\n"
     ]
    }
   ],
   "source": [
    "#añadimos aqui\n",
    "#df_lm_x = df[['spd','porc','viento_aparente']]\n",
    "#df_lm_y = df[['pwr']]\n",
    "\n",
    "df_lm_x['termino_cda'] = (df_lm_x['spd']+df_lm_x['viento_aparente'])**2*df_lm_x['spd']\n",
    "df_lm_x['termino_roz'] = df_lm_x['spd']*90\n",
    "df_lm_x['termino_cte'] = df_lm_x['spd']*df_lm_x['porc']*90"
   ]
  },
  {
   "cell_type": "code",
   "execution_count": 48,
   "metadata": {},
   "outputs": [
    {
     "data": {
      "text/html": [
       "<div>\n",
       "<style>\n",
       "    .dataframe thead tr:only-child th {\n",
       "        text-align: right;\n",
       "    }\n",
       "\n",
       "    .dataframe thead th {\n",
       "        text-align: left;\n",
       "    }\n",
       "\n",
       "    .dataframe tbody tr th {\n",
       "        vertical-align: top;\n",
       "    }\n",
       "</style>\n",
       "<table border=\"1\" class=\"dataframe\">\n",
       "  <thead>\n",
       "    <tr style=\"text-align: right;\">\n",
       "      <th></th>\n",
       "      <th>spd</th>\n",
       "      <th>porc</th>\n",
       "      <th>viento_aparente</th>\n",
       "      <th>termino_cda</th>\n",
       "      <th>termino_roz</th>\n",
       "      <th>termino_cte</th>\n",
       "    </tr>\n",
       "  </thead>\n",
       "  <tbody>\n",
       "    <tr>\n",
       "      <th>count</th>\n",
       "      <td>75.000000</td>\n",
       "      <td>75.000000</td>\n",
       "      <td>75.000000</td>\n",
       "      <td>75.000000</td>\n",
       "      <td>75.000000</td>\n",
       "      <td>75.000000</td>\n",
       "    </tr>\n",
       "    <tr>\n",
       "      <th>mean</th>\n",
       "      <td>27.268971</td>\n",
       "      <td>0.024593</td>\n",
       "      <td>-1.000097</td>\n",
       "      <td>26559.366954</td>\n",
       "      <td>2454.207418</td>\n",
       "      <td>-1338.390862</td>\n",
       "    </tr>\n",
       "    <tr>\n",
       "      <th>std</th>\n",
       "      <td>8.964338</td>\n",
       "      <td>2.433537</td>\n",
       "      <td>6.867127</td>\n",
       "      <td>26775.967607</td>\n",
       "      <td>806.790459</td>\n",
       "      <td>6667.457697</td>\n",
       "    </tr>\n",
       "    <tr>\n",
       "      <th>min</th>\n",
       "      <td>0.770052</td>\n",
       "      <td>-6.677410</td>\n",
       "      <td>-9.859221</td>\n",
       "      <td>0.051960</td>\n",
       "      <td>69.304707</td>\n",
       "      <td>-28567.595098</td>\n",
       "    </tr>\n",
       "    <tr>\n",
       "      <th>25%</th>\n",
       "      <td>21.643902</td>\n",
       "      <td>-0.957365</td>\n",
       "      <td>-7.377288</td>\n",
       "      <td>7452.496465</td>\n",
       "      <td>1947.951220</td>\n",
       "      <td>-2646.767012</td>\n",
       "    </tr>\n",
       "    <tr>\n",
       "      <th>50%</th>\n",
       "      <td>27.282754</td>\n",
       "      <td>-0.030749</td>\n",
       "      <td>-2.994640</td>\n",
       "      <td>19661.678068</td>\n",
       "      <td>2455.447865</td>\n",
       "      <td>-9.634264</td>\n",
       "    </tr>\n",
       "    <tr>\n",
       "      <th>75%</th>\n",
       "      <td>32.798548</td>\n",
       "      <td>1.014067</td>\n",
       "      <td>5.298305</td>\n",
       "      <td>34262.904836</td>\n",
       "      <td>2951.869342</td>\n",
       "      <td>2285.862972</td>\n",
       "    </tr>\n",
       "    <tr>\n",
       "      <th>max</th>\n",
       "      <td>50.116364</td>\n",
       "      <td>7.137195</td>\n",
       "      <td>18.939865</td>\n",
       "      <td>128244.927878</td>\n",
       "      <td>4510.472797</td>\n",
       "      <td>7793.320282</td>\n",
       "    </tr>\n",
       "  </tbody>\n",
       "</table>\n",
       "</div>"
      ],
      "text/plain": [
       "             spd       porc  viento_aparente    termino_cda  termino_roz  \\\n",
       "count  75.000000  75.000000        75.000000      75.000000    75.000000   \n",
       "mean   27.268971   0.024593        -1.000097   26559.366954  2454.207418   \n",
       "std     8.964338   2.433537         6.867127   26775.967607   806.790459   \n",
       "min     0.770052  -6.677410        -9.859221       0.051960    69.304707   \n",
       "25%    21.643902  -0.957365        -7.377288    7452.496465  1947.951220   \n",
       "50%    27.282754  -0.030749        -2.994640   19661.678068  2455.447865   \n",
       "75%    32.798548   1.014067         5.298305   34262.904836  2951.869342   \n",
       "max    50.116364   7.137195        18.939865  128244.927878  4510.472797   \n",
       "\n",
       "        termino_cte  \n",
       "count     75.000000  \n",
       "mean   -1338.390862  \n",
       "std     6667.457697  \n",
       "min   -28567.595098  \n",
       "25%    -2646.767012  \n",
       "50%       -9.634264  \n",
       "75%     2285.862972  \n",
       "max     7793.320282  "
      ]
     },
     "execution_count": 48,
     "metadata": {},
     "output_type": "execute_result"
    }
   ],
   "source": [
    "df_lm_x.describe()"
   ]
  },
  {
   "cell_type": "code",
   "execution_count": null,
   "metadata": {
    "collapsed": true
   },
   "outputs": [],
   "source": []
  },
  {
   "cell_type": "code",
   "execution_count": 49,
   "metadata": {
    "collapsed": true
   },
   "outputs": [],
   "source": [
    "df_lm_x2 = df_lm_x[['termino_cda','termino_roz','termino_cte']]\n",
    "df_lm_y2 = df_lm_y[['pwr']]"
   ]
  },
  {
   "cell_type": "code",
   "execution_count": 50,
   "metadata": {
    "collapsed": true
   },
   "outputs": [],
   "source": [
    "X_train2 = df_lm_x2[:train]\n",
    "X_test2 = df_lm_x2[test:]"
   ]
  },
  {
   "cell_type": "code",
   "execution_count": 51,
   "metadata": {
    "collapsed": true
   },
   "outputs": [],
   "source": [
    "Y_train2 = df_lm_y2[:train]\n",
    "Y_test2 = df_lm_y2[test:]"
   ]
  },
  {
   "cell_type": "code",
   "execution_count": 52,
   "metadata": {},
   "outputs": [
    {
     "data": {
      "text/plain": [
       "LinearRegression(copy_X=True, fit_intercept=True, n_jobs=1, normalize=False)"
      ]
     },
     "execution_count": 52,
     "metadata": {},
     "output_type": "execute_result"
    }
   ],
   "source": [
    "# Create linear regression object\n",
    "regr2 = linear_model.LinearRegression()\n",
    "\n",
    "# Train the model using the training sets\n",
    "regr2.fit(X_train2, Y_train2)"
   ]
  },
  {
   "cell_type": "code",
   "execution_count": null,
   "metadata": {
    "collapsed": true
   },
   "outputs": [],
   "source": []
  },
  {
   "cell_type": "code",
   "execution_count": 53,
   "metadata": {
    "collapsed": true
   },
   "outputs": [],
   "source": [
    "# Make predictions using the testing set\n",
    "Y_pred2 = regr2.predict(X_test2)"
   ]
  },
  {
   "cell_type": "code",
   "execution_count": 54,
   "metadata": {},
   "outputs": [
    {
     "name": "stdout",
     "output_type": "stream",
     "text": [
      "Coefficients: \n",
      " [[ 0.00124368 -0.00522868  0.0091642 ]]\n",
      "Mean squared error: 1950.88\n",
      "Variance score: 0.45\n"
     ]
    }
   ],
   "source": [
    "# The coefficients\n",
    "print('Coefficients: \\n', regr2.coef_)\n",
    "# The mean squared error\n",
    "print(\"Mean squared error: %.2f\"\n",
    "      % mean_squared_error(Y_test2, Y_pred2))\n",
    "# Explained variance score: 1 is perfect prediction\n",
    "print('Variance score: %.2f' % r2_score(Y_test2, Y_pred2))\n",
    "\n"
   ]
  },
  {
   "cell_type": "code",
   "execution_count": null,
   "metadata": {
    "collapsed": true
   },
   "outputs": [],
   "source": []
  },
  {
   "cell_type": "code",
   "execution_count": null,
   "metadata": {
    "collapsed": true
   },
   "outputs": [],
   "source": []
  },
  {
   "cell_type": "markdown",
   "metadata": {},
   "source": [
    "### Ridge"
   ]
  },
  {
   "cell_type": "code",
   "execution_count": 55,
   "metadata": {
    "collapsed": true
   },
   "outputs": [],
   "source": [
    "rid = linear_model.Ridge(alpha=0.5)"
   ]
  },
  {
   "cell_type": "code",
   "execution_count": 56,
   "metadata": {},
   "outputs": [
    {
     "data": {
      "text/plain": [
       "Ridge(alpha=0.5, copy_X=True, fit_intercept=True, max_iter=None,\n",
       "   normalize=False, random_state=None, solver='auto', tol=0.001)"
      ]
     },
     "execution_count": 56,
     "metadata": {},
     "output_type": "execute_result"
    }
   ],
   "source": [
    "rid.fit(X_train2,Y_train2)"
   ]
  },
  {
   "cell_type": "code",
   "execution_count": 57,
   "metadata": {
    "collapsed": true
   },
   "outputs": [],
   "source": [
    "Y_predict_rid = rid.predict(X_test2)"
   ]
  },
  {
   "cell_type": "code",
   "execution_count": 58,
   "metadata": {},
   "outputs": [
    {
     "name": "stdout",
     "output_type": "stream",
     "text": [
      "Coefficients: \n",
      " [[ 0.00124368 -0.00522868  0.0091642 ]]\n",
      "Mean squared error: 1950.88\n",
      "Variance score: 0.45\n"
     ]
    }
   ],
   "source": [
    "# The coefficients\n",
    "print('Coefficients: \\n', rid.coef_)\n",
    "# The mean squared error\n",
    "print(\"Mean squared error: %.2f\"\n",
    "      % mean_squared_error(Y_test2, Y_predict_rid))\n",
    "# Explained variance score: 1 is perfect prediction\n",
    "print('Variance score: %.2f' % r2_score(Y_test2, Y_predict_rid))"
   ]
  },
  {
   "cell_type": "code",
   "execution_count": null,
   "metadata": {
    "collapsed": true
   },
   "outputs": [],
   "source": []
  },
  {
   "cell_type": "code",
   "execution_count": 59,
   "metadata": {
    "collapsed": true
   },
   "outputs": [],
   "source": [
    "rid2 = linear_model.RidgeCV(alphas=[0.1, 1.0, 10.0])"
   ]
  },
  {
   "cell_type": "code",
   "execution_count": 60,
   "metadata": {},
   "outputs": [
    {
     "data": {
      "text/plain": [
       "RidgeCV(alphas=[0.1, 1.0, 10.0], cv=None, fit_intercept=True, gcv_mode=None,\n",
       "    normalize=False, scoring=None, store_cv_values=False)"
      ]
     },
     "execution_count": 60,
     "metadata": {},
     "output_type": "execute_result"
    }
   ],
   "source": [
    "rid2.fit(X_train2,Y_train2)"
   ]
  },
  {
   "cell_type": "code",
   "execution_count": 61,
   "metadata": {
    "collapsed": true
   },
   "outputs": [],
   "source": [
    "Y_predict_rid2 = rid.predict(X_test2)"
   ]
  },
  {
   "cell_type": "code",
   "execution_count": 62,
   "metadata": {},
   "outputs": [
    {
     "name": "stdout",
     "output_type": "stream",
     "text": [
      "Coefficients: \n",
      " [[ 0.00124368 -0.00522868  0.0091642 ]]\n",
      "Mean squared error: 1950.88\n",
      "Variance score: 0.45\n"
     ]
    }
   ],
   "source": [
    "# The coefficients\n",
    "print('Coefficients: \\n', rid2.coef_)\n",
    "# The mean squared error\n",
    "print(\"Mean squared error: %.2f\"\n",
    "      % mean_squared_error(Y_test2, Y_predict_rid2))\n",
    "# Explained variance score: 1 is perfect prediction\n",
    "print('Variance score: %.2f' % r2_score(Y_test2, Y_predict_rid2))"
   ]
  },
  {
   "cell_type": "code",
   "execution_count": null,
   "metadata": {
    "collapsed": true
   },
   "outputs": [],
   "source": []
  },
  {
   "cell_type": "code",
   "execution_count": 63,
   "metadata": {},
   "outputs": [
    {
     "data": {
      "text/plain": [
       "['pwr', 'spd', 'porc', 'viento_aparente']"
      ]
     },
     "execution_count": 63,
     "metadata": {},
     "output_type": "execute_result"
    }
   ],
   "source": [
    "['pwr','spd','porc','viento_aparente']"
   ]
  },
  {
   "cell_type": "markdown",
   "metadata": {},
   "source": [
    "### Filtramos potencias >100w y <350w"
   ]
  },
  {
   "cell_type": "code",
   "execution_count": 64,
   "metadata": {
    "collapsed": true
   },
   "outputs": [],
   "source": [
    "df_lm2 = df.loc[(df['pwr']>100)&(df['pwr']<350)]"
   ]
  },
  {
   "cell_type": "code",
   "execution_count": 65,
   "metadata": {
    "scrolled": true
   },
   "outputs": [
    {
     "data": {
      "text/html": [
       "<div>\n",
       "<style>\n",
       "    .dataframe thead tr:only-child th {\n",
       "        text-align: right;\n",
       "    }\n",
       "\n",
       "    .dataframe thead th {\n",
       "        text-align: left;\n",
       "    }\n",
       "\n",
       "    .dataframe tbody tr th {\n",
       "        vertical-align: top;\n",
       "    }\n",
       "</style>\n",
       "<table border=\"1\" class=\"dataframe\">\n",
       "  <thead>\n",
       "    <tr style=\"text-align: right;\">\n",
       "      <th></th>\n",
       "      <th>tramo</th>\n",
       "      <th>tramo_inicial</th>\n",
       "      <th>tramo_final</th>\n",
       "      <th>pwr</th>\n",
       "      <th>tiempo_tramo</th>\n",
       "      <th>distancia_tramo</th>\n",
       "      <th>spd</th>\n",
       "      <th>viento_aparente</th>\n",
       "      <th>porc</th>\n",
       "    </tr>\n",
       "  </thead>\n",
       "  <tbody>\n",
       "    <tr>\n",
       "      <th>1</th>\n",
       "      <td>1</td>\n",
       "      <td>65</td>\n",
       "      <td>432</td>\n",
       "      <td>255.381555</td>\n",
       "      <td>980</td>\n",
       "      <td>4819.000000</td>\n",
       "      <td>17.702449</td>\n",
       "      <td>5.337415</td>\n",
       "      <td>4.181100</td>\n",
       "    </tr>\n",
       "    <tr>\n",
       "      <th>2</th>\n",
       "      <td>2</td>\n",
       "      <td>432</td>\n",
       "      <td>468</td>\n",
       "      <td>152.194252</td>\n",
       "      <td>44</td>\n",
       "      <td>473.935824</td>\n",
       "      <td>38.776567</td>\n",
       "      <td>8.311220</td>\n",
       "      <td>-1.737873</td>\n",
       "    </tr>\n",
       "    <tr>\n",
       "      <th>3</th>\n",
       "      <td>3</td>\n",
       "      <td>468</td>\n",
       "      <td>532</td>\n",
       "      <td>248.770434</td>\n",
       "      <td>120</td>\n",
       "      <td>813.223602</td>\n",
       "      <td>24.396708</td>\n",
       "      <td>8.704791</td>\n",
       "      <td>2.662585</td>\n",
       "    </tr>\n",
       "    <tr>\n",
       "      <th>4</th>\n",
       "      <td>4</td>\n",
       "      <td>532</td>\n",
       "      <td>548</td>\n",
       "      <td>155.753257</td>\n",
       "      <td>21</td>\n",
       "      <td>206.720563</td>\n",
       "      <td>35.437811</td>\n",
       "      <td>8.487546</td>\n",
       "      <td>-0.873144</td>\n",
       "    </tr>\n",
       "    <tr>\n",
       "      <th>5</th>\n",
       "      <td>5</td>\n",
       "      <td>548</td>\n",
       "      <td>636</td>\n",
       "      <td>217.073745</td>\n",
       "      <td>170</td>\n",
       "      <td>1271.120011</td>\n",
       "      <td>26.917836</td>\n",
       "      <td>8.945233</td>\n",
       "      <td>1.566720</td>\n",
       "    </tr>\n",
       "    <tr>\n",
       "      <th>7</th>\n",
       "      <td>7</td>\n",
       "      <td>688</td>\n",
       "      <td>892</td>\n",
       "      <td>219.577239</td>\n",
       "      <td>453</td>\n",
       "      <td>2868.000000</td>\n",
       "      <td>22.792053</td>\n",
       "      <td>4.616644</td>\n",
       "      <td>2.126107</td>\n",
       "    </tr>\n",
       "    <tr>\n",
       "      <th>9</th>\n",
       "      <td>9</td>\n",
       "      <td>985</td>\n",
       "      <td>1024</td>\n",
       "      <td>202.978559</td>\n",
       "      <td>78</td>\n",
       "      <td>588.000000</td>\n",
       "      <td>27.138462</td>\n",
       "      <td>-0.390809</td>\n",
       "      <td>0.946517</td>\n",
       "    </tr>\n",
       "    <tr>\n",
       "      <th>11</th>\n",
       "      <td>11</td>\n",
       "      <td>1095</td>\n",
       "      <td>1126</td>\n",
       "      <td>168.365547</td>\n",
       "      <td>74</td>\n",
       "      <td>437.000000</td>\n",
       "      <td>21.259459</td>\n",
       "      <td>7.950309</td>\n",
       "      <td>1.298545</td>\n",
       "    </tr>\n",
       "    <tr>\n",
       "      <th>15</th>\n",
       "      <td>15</td>\n",
       "      <td>1148</td>\n",
       "      <td>1206</td>\n",
       "      <td>201.860105</td>\n",
       "      <td>140</td>\n",
       "      <td>703.000000</td>\n",
       "      <td>18.077143</td>\n",
       "      <td>-7.570676</td>\n",
       "      <td>2.748246</td>\n",
       "    </tr>\n",
       "    <tr>\n",
       "      <th>16</th>\n",
       "      <td>16</td>\n",
       "      <td>1206</td>\n",
       "      <td>1252</td>\n",
       "      <td>102.681604</td>\n",
       "      <td>87</td>\n",
       "      <td>768.000000</td>\n",
       "      <td>31.779310</td>\n",
       "      <td>5.259195</td>\n",
       "      <td>-1.301930</td>\n",
       "    </tr>\n",
       "    <tr>\n",
       "      <th>17</th>\n",
       "      <td>17</td>\n",
       "      <td>1252</td>\n",
       "      <td>1290</td>\n",
       "      <td>211.367571</td>\n",
       "      <td>78</td>\n",
       "      <td>578.000000</td>\n",
       "      <td>26.676923</td>\n",
       "      <td>3.102606</td>\n",
       "      <td>0.941261</td>\n",
       "    </tr>\n",
       "    <tr>\n",
       "      <th>18</th>\n",
       "      <td>18</td>\n",
       "      <td>1290</td>\n",
       "      <td>1305</td>\n",
       "      <td>149.557451</td>\n",
       "      <td>29</td>\n",
       "      <td>266.000000</td>\n",
       "      <td>33.020690</td>\n",
       "      <td>4.579115</td>\n",
       "      <td>-0.170770</td>\n",
       "    </tr>\n",
       "    <tr>\n",
       "      <th>19</th>\n",
       "      <td>19</td>\n",
       "      <td>1305</td>\n",
       "      <td>2003</td>\n",
       "      <td>239.162193</td>\n",
       "      <td>1618</td>\n",
       "      <td>9191.000000</td>\n",
       "      <td>20.449691</td>\n",
       "      <td>1.457547</td>\n",
       "      <td>3.207283</td>\n",
       "    </tr>\n",
       "    <tr>\n",
       "      <th>20</th>\n",
       "      <td>20</td>\n",
       "      <td>2003</td>\n",
       "      <td>2017</td>\n",
       "      <td>126.563497</td>\n",
       "      <td>28</td>\n",
       "      <td>244.000000</td>\n",
       "      <td>31.371429</td>\n",
       "      <td>9.846610</td>\n",
       "      <td>-0.451470</td>\n",
       "    </tr>\n",
       "    <tr>\n",
       "      <th>21</th>\n",
       "      <td>21</td>\n",
       "      <td>2017</td>\n",
       "      <td>2813</td>\n",
       "      <td>243.804600</td>\n",
       "      <td>2761</td>\n",
       "      <td>9305.000000</td>\n",
       "      <td>12.132561</td>\n",
       "      <td>-2.454714</td>\n",
       "      <td>7.137195</td>\n",
       "    </tr>\n",
       "    <tr>\n",
       "      <th>23</th>\n",
       "      <td>23</td>\n",
       "      <td>3401</td>\n",
       "      <td>3457</td>\n",
       "      <td>200.490629</td>\n",
       "      <td>144</td>\n",
       "      <td>704.236046</td>\n",
       "      <td>17.605901</td>\n",
       "      <td>7.887428</td>\n",
       "      <td>4.067062</td>\n",
       "    </tr>\n",
       "    <tr>\n",
       "      <th>25</th>\n",
       "      <td>25</td>\n",
       "      <td>3489</td>\n",
       "      <td>3523</td>\n",
       "      <td>131.522378</td>\n",
       "      <td>78</td>\n",
       "      <td>445.200064</td>\n",
       "      <td>20.547695</td>\n",
       "      <td>9.278316</td>\n",
       "      <td>1.081617</td>\n",
       "    </tr>\n",
       "    <tr>\n",
       "      <th>26</th>\n",
       "      <td>26</td>\n",
       "      <td>3523</td>\n",
       "      <td>3524</td>\n",
       "      <td>239.409741</td>\n",
       "      <td>2</td>\n",
       "      <td>14.100059</td>\n",
       "      <td>25.380106</td>\n",
       "      <td>10.007277</td>\n",
       "      <td>-0.053718</td>\n",
       "    </tr>\n",
       "    <tr>\n",
       "      <th>27</th>\n",
       "      <td>27</td>\n",
       "      <td>3524</td>\n",
       "      <td>3525</td>\n",
       "      <td>187.857245</td>\n",
       "      <td>2</td>\n",
       "      <td>16.349989</td>\n",
       "      <td>29.429980</td>\n",
       "      <td>5.775413</td>\n",
       "      <td>0.018851</td>\n",
       "    </tr>\n",
       "    <tr>\n",
       "      <th>28</th>\n",
       "      <td>28</td>\n",
       "      <td>3525</td>\n",
       "      <td>3526</td>\n",
       "      <td>202.329971</td>\n",
       "      <td>2</td>\n",
       "      <td>11.292927</td>\n",
       "      <td>20.327268</td>\n",
       "      <td>18.939865</td>\n",
       "      <td>-0.061448</td>\n",
       "    </tr>\n",
       "    <tr>\n",
       "      <th>31</th>\n",
       "      <td>31</td>\n",
       "      <td>3587</td>\n",
       "      <td>3899</td>\n",
       "      <td>221.551433</td>\n",
       "      <td>1220</td>\n",
       "      <td>3795.770186</td>\n",
       "      <td>11.200633</td>\n",
       "      <td>0.799315</td>\n",
       "      <td>5.870399</td>\n",
       "    </tr>\n",
       "    <tr>\n",
       "      <th>33</th>\n",
       "      <td>33</td>\n",
       "      <td>4193</td>\n",
       "      <td>4220</td>\n",
       "      <td>234.693054</td>\n",
       "      <td>60</td>\n",
       "      <td>371.950118</td>\n",
       "      <td>22.317007</td>\n",
       "      <td>6.266984</td>\n",
       "      <td>2.290759</td>\n",
       "    </tr>\n",
       "    <tr>\n",
       "      <th>34</th>\n",
       "      <td>34</td>\n",
       "      <td>4220</td>\n",
       "      <td>4694</td>\n",
       "      <td>165.878163</td>\n",
       "      <td>498</td>\n",
       "      <td>6130.712969</td>\n",
       "      <td>44.318407</td>\n",
       "      <td>5.733330</td>\n",
       "      <td>-2.914999</td>\n",
       "    </tr>\n",
       "    <tr>\n",
       "      <th>35</th>\n",
       "      <td>35</td>\n",
       "      <td>4694</td>\n",
       "      <td>5390</td>\n",
       "      <td>215.339885</td>\n",
       "      <td>2575</td>\n",
       "      <td>8252.417053</td>\n",
       "      <td>11.537360</td>\n",
       "      <td>5.901786</td>\n",
       "      <td>6.468743</td>\n",
       "    </tr>\n",
       "    <tr>\n",
       "      <th>40</th>\n",
       "      <td>40</td>\n",
       "      <td>5938</td>\n",
       "      <td>6097</td>\n",
       "      <td>115.383830</td>\n",
       "      <td>240</td>\n",
       "      <td>2182.000000</td>\n",
       "      <td>32.730000</td>\n",
       "      <td>-9.183888</td>\n",
       "      <td>-1.657458</td>\n",
       "    </tr>\n",
       "    <tr>\n",
       "      <th>41</th>\n",
       "      <td>41</td>\n",
       "      <td>6097</td>\n",
       "      <td>6133</td>\n",
       "      <td>199.839826</td>\n",
       "      <td>69</td>\n",
       "      <td>468.799905</td>\n",
       "      <td>24.459126</td>\n",
       "      <td>-9.736325</td>\n",
       "      <td>1.799504</td>\n",
       "    </tr>\n",
       "    <tr>\n",
       "      <th>42</th>\n",
       "      <td>42</td>\n",
       "      <td>6133</td>\n",
       "      <td>6179</td>\n",
       "      <td>163.669016</td>\n",
       "      <td>94</td>\n",
       "      <td>734.908361</td>\n",
       "      <td>28.145427</td>\n",
       "      <td>-9.859221</td>\n",
       "      <td>-0.593717</td>\n",
       "    </tr>\n",
       "    <tr>\n",
       "      <th>43</th>\n",
       "      <td>43</td>\n",
       "      <td>6179</td>\n",
       "      <td>6195</td>\n",
       "      <td>126.006619</td>\n",
       "      <td>35</td>\n",
       "      <td>200.602273</td>\n",
       "      <td>20.633377</td>\n",
       "      <td>-9.465450</td>\n",
       "      <td>0.547677</td>\n",
       "    </tr>\n",
       "    <tr>\n",
       "      <th>45</th>\n",
       "      <td>45</td>\n",
       "      <td>6328</td>\n",
       "      <td>6347</td>\n",
       "      <td>203.078360</td>\n",
       "      <td>38</td>\n",
       "      <td>240.722611</td>\n",
       "      <td>22.805300</td>\n",
       "      <td>-7.710675</td>\n",
       "      <td>0.610510</td>\n",
       "    </tr>\n",
       "    <tr>\n",
       "      <th>46</th>\n",
       "      <td>46</td>\n",
       "      <td>6347</td>\n",
       "      <td>6369</td>\n",
       "      <td>107.394053</td>\n",
       "      <td>44</td>\n",
       "      <td>323.277389</td>\n",
       "      <td>26.449968</td>\n",
       "      <td>-7.359421</td>\n",
       "      <td>-0.814198</td>\n",
       "    </tr>\n",
       "    <tr>\n",
       "      <th>47</th>\n",
       "      <td>47</td>\n",
       "      <td>6369</td>\n",
       "      <td>6400</td>\n",
       "      <td>185.166411</td>\n",
       "      <td>63</td>\n",
       "      <td>411.572197</td>\n",
       "      <td>23.518411</td>\n",
       "      <td>-4.762836</td>\n",
       "      <td>0.689317</td>\n",
       "    </tr>\n",
       "    <tr>\n",
       "      <th>48</th>\n",
       "      <td>48</td>\n",
       "      <td>6400</td>\n",
       "      <td>6449</td>\n",
       "      <td>104.957116</td>\n",
       "      <td>97</td>\n",
       "      <td>799.360141</td>\n",
       "      <td>29.666974</td>\n",
       "      <td>-2.826883</td>\n",
       "      <td>-1.342599</td>\n",
       "    </tr>\n",
       "    <tr>\n",
       "      <th>49</th>\n",
       "      <td>49</td>\n",
       "      <td>6449</td>\n",
       "      <td>6490</td>\n",
       "      <td>163.792413</td>\n",
       "      <td>84</td>\n",
       "      <td>577.679910</td>\n",
       "      <td>24.757710</td>\n",
       "      <td>-5.642363</td>\n",
       "      <td>1.178195</td>\n",
       "    </tr>\n",
       "    <tr>\n",
       "      <th>50</th>\n",
       "      <td>50</td>\n",
       "      <td>6490</td>\n",
       "      <td>6500</td>\n",
       "      <td>206.560919</td>\n",
       "      <td>538</td>\n",
       "      <td>115.080038</td>\n",
       "      <td>0.770052</td>\n",
       "      <td>-5.120532</td>\n",
       "      <td>-0.303818</td>\n",
       "    </tr>\n",
       "    <tr>\n",
       "      <th>51</th>\n",
       "      <td>51</td>\n",
       "      <td>6500</td>\n",
       "      <td>6531</td>\n",
       "      <td>194.453542</td>\n",
       "      <td>75</td>\n",
       "      <td>444.969946</td>\n",
       "      <td>21.358557</td>\n",
       "      <td>-4.543823</td>\n",
       "      <td>1.358546</td>\n",
       "    </tr>\n",
       "    <tr>\n",
       "      <th>52</th>\n",
       "      <td>52</td>\n",
       "      <td>6531</td>\n",
       "      <td>6582</td>\n",
       "      <td>157.112154</td>\n",
       "      <td>89</td>\n",
       "      <td>806.230054</td>\n",
       "      <td>32.611553</td>\n",
       "      <td>-3.526838</td>\n",
       "      <td>-1.139543</td>\n",
       "    </tr>\n",
       "    <tr>\n",
       "      <th>54</th>\n",
       "      <td>54</td>\n",
       "      <td>6583</td>\n",
       "      <td>6589</td>\n",
       "      <td>133.265456</td>\n",
       "      <td>12</td>\n",
       "      <td>109.298498</td>\n",
       "      <td>32.789549</td>\n",
       "      <td>-3.514583</td>\n",
       "      <td>-0.190230</td>\n",
       "    </tr>\n",
       "    <tr>\n",
       "      <th>55</th>\n",
       "      <td>55</td>\n",
       "      <td>6589</td>\n",
       "      <td>6590</td>\n",
       "      <td>188.789875</td>\n",
       "      <td>2</td>\n",
       "      <td>19.099933</td>\n",
       "      <td>34.379879</td>\n",
       "      <td>-2.622279</td>\n",
       "      <td>0.114959</td>\n",
       "    </tr>\n",
       "    <tr>\n",
       "      <th>56</th>\n",
       "      <td>56</td>\n",
       "      <td>6590</td>\n",
       "      <td>6591</td>\n",
       "      <td>254.907662</td>\n",
       "      <td>2</td>\n",
       "      <td>17.430054</td>\n",
       "      <td>31.374098</td>\n",
       "      <td>-2.994640</td>\n",
       "      <td>-0.058432</td>\n",
       "    </tr>\n",
       "    <tr>\n",
       "      <th>58</th>\n",
       "      <td>58</td>\n",
       "      <td>6592</td>\n",
       "      <td>6595</td>\n",
       "      <td>227.932075</td>\n",
       "      <td>5</td>\n",
       "      <td>50.738544</td>\n",
       "      <td>36.531752</td>\n",
       "      <td>-3.710702</td>\n",
       "      <td>-0.062510</td>\n",
       "    </tr>\n",
       "    <tr>\n",
       "      <th>59</th>\n",
       "      <td>59</td>\n",
       "      <td>6595</td>\n",
       "      <td>6620</td>\n",
       "      <td>206.173593</td>\n",
       "      <td>50</td>\n",
       "      <td>412.677758</td>\n",
       "      <td>29.712799</td>\n",
       "      <td>-3.717349</td>\n",
       "      <td>0.706571</td>\n",
       "    </tr>\n",
       "    <tr>\n",
       "      <th>60</th>\n",
       "      <td>60</td>\n",
       "      <td>6620</td>\n",
       "      <td>6905</td>\n",
       "      <td>129.575765</td>\n",
       "      <td>507</td>\n",
       "      <td>4587.183627</td>\n",
       "      <td>32.571718</td>\n",
       "      <td>-8.002578</td>\n",
       "      <td>-0.855795</td>\n",
       "    </tr>\n",
       "    <tr>\n",
       "      <th>61</th>\n",
       "      <td>61</td>\n",
       "      <td>6905</td>\n",
       "      <td>6954</td>\n",
       "      <td>220.166703</td>\n",
       "      <td>97</td>\n",
       "      <td>608.238548</td>\n",
       "      <td>22.573802</td>\n",
       "      <td>-8.167097</td>\n",
       "      <td>1.916084</td>\n",
       "    </tr>\n",
       "    <tr>\n",
       "      <th>63</th>\n",
       "      <td>63</td>\n",
       "      <td>6990</td>\n",
       "      <td>7001</td>\n",
       "      <td>161.685721</td>\n",
       "      <td>22</td>\n",
       "      <td>158.618053</td>\n",
       "      <td>25.955681</td>\n",
       "      <td>-8.583058</td>\n",
       "      <td>0.186980</td>\n",
       "    </tr>\n",
       "    <tr>\n",
       "      <th>64</th>\n",
       "      <td>64</td>\n",
       "      <td>7001</td>\n",
       "      <td>7009</td>\n",
       "      <td>109.592526</td>\n",
       "      <td>16</td>\n",
       "      <td>103.014009</td>\n",
       "      <td>23.178152</td>\n",
       "      <td>-9.544003</td>\n",
       "      <td>-0.453466</td>\n",
       "    </tr>\n",
       "    <tr>\n",
       "      <th>65</th>\n",
       "      <td>65</td>\n",
       "      <td>7009</td>\n",
       "      <td>7010</td>\n",
       "      <td>104.299886</td>\n",
       "      <td>2</td>\n",
       "      <td>18.362906</td>\n",
       "      <td>33.053230</td>\n",
       "      <td>-6.778306</td>\n",
       "      <td>0.018268</td>\n",
       "    </tr>\n",
       "    <tr>\n",
       "      <th>67</th>\n",
       "      <td>67</td>\n",
       "      <td>7048</td>\n",
       "      <td>7060</td>\n",
       "      <td>195.933208</td>\n",
       "      <td>24</td>\n",
       "      <td>179.809142</td>\n",
       "      <td>26.971371</td>\n",
       "      <td>-9.619087</td>\n",
       "      <td>0.582083</td>\n",
       "    </tr>\n",
       "    <tr>\n",
       "      <th>69</th>\n",
       "      <td>69</td>\n",
       "      <td>7117</td>\n",
       "      <td>7151</td>\n",
       "      <td>218.321094</td>\n",
       "      <td>70</td>\n",
       "      <td>478.200000</td>\n",
       "      <td>24.593143</td>\n",
       "      <td>-8.449424</td>\n",
       "      <td>1.924442</td>\n",
       "    </tr>\n",
       "    <tr>\n",
       "      <th>71</th>\n",
       "      <td>71</td>\n",
       "      <td>7439</td>\n",
       "      <td>7443</td>\n",
       "      <td>181.971081</td>\n",
       "      <td>6</td>\n",
       "      <td>65.099968</td>\n",
       "      <td>39.059981</td>\n",
       "      <td>2.753649</td>\n",
       "      <td>0.147881</td>\n",
       "    </tr>\n",
       "    <tr>\n",
       "      <th>72</th>\n",
       "      <td>72</td>\n",
       "      <td>7443</td>\n",
       "      <td>7445</td>\n",
       "      <td>177.840019</td>\n",
       "      <td>4</td>\n",
       "      <td>33.099968</td>\n",
       "      <td>29.789971</td>\n",
       "      <td>-0.343292</td>\n",
       "      <td>-0.065403</td>\n",
       "    </tr>\n",
       "    <tr>\n",
       "      <th>73</th>\n",
       "      <td>73</td>\n",
       "      <td>7445</td>\n",
       "      <td>7447</td>\n",
       "      <td>162.478621</td>\n",
       "      <td>4</td>\n",
       "      <td>36.700075</td>\n",
       "      <td>33.030067</td>\n",
       "      <td>-2.163173</td>\n",
       "      <td>0.092621</td>\n",
       "    </tr>\n",
       "    <tr>\n",
       "      <th>74</th>\n",
       "      <td>74</td>\n",
       "      <td>7447</td>\n",
       "      <td>7478</td>\n",
       "      <td>151.340780</td>\n",
       "      <td>62</td>\n",
       "      <td>571.929980</td>\n",
       "      <td>33.208838</td>\n",
       "      <td>-7.400349</td>\n",
       "      <td>-0.631580</td>\n",
       "    </tr>\n",
       "    <tr>\n",
       "      <th>75</th>\n",
       "      <td>75</td>\n",
       "      <td>7478</td>\n",
       "      <td>7564</td>\n",
       "      <td>176.156246</td>\n",
       "      <td>240</td>\n",
       "      <td>1084.659981</td>\n",
       "      <td>16.269900</td>\n",
       "      <td>-7.395155</td>\n",
       "      <td>2.716089</td>\n",
       "    </tr>\n",
       "  </tbody>\n",
       "</table>\n",
       "</div>"
      ],
      "text/plain": [
       "    tramo  tramo_inicial  tramo_final         pwr  tiempo_tramo  \\\n",
       "1       1             65          432  255.381555           980   \n",
       "2       2            432          468  152.194252            44   \n",
       "3       3            468          532  248.770434           120   \n",
       "4       4            532          548  155.753257            21   \n",
       "5       5            548          636  217.073745           170   \n",
       "7       7            688          892  219.577239           453   \n",
       "9       9            985         1024  202.978559            78   \n",
       "11     11           1095         1126  168.365547            74   \n",
       "15     15           1148         1206  201.860105           140   \n",
       "16     16           1206         1252  102.681604            87   \n",
       "17     17           1252         1290  211.367571            78   \n",
       "18     18           1290         1305  149.557451            29   \n",
       "19     19           1305         2003  239.162193          1618   \n",
       "20     20           2003         2017  126.563497            28   \n",
       "21     21           2017         2813  243.804600          2761   \n",
       "23     23           3401         3457  200.490629           144   \n",
       "25     25           3489         3523  131.522378            78   \n",
       "26     26           3523         3524  239.409741             2   \n",
       "27     27           3524         3525  187.857245             2   \n",
       "28     28           3525         3526  202.329971             2   \n",
       "31     31           3587         3899  221.551433          1220   \n",
       "33     33           4193         4220  234.693054            60   \n",
       "34     34           4220         4694  165.878163           498   \n",
       "35     35           4694         5390  215.339885          2575   \n",
       "40     40           5938         6097  115.383830           240   \n",
       "41     41           6097         6133  199.839826            69   \n",
       "42     42           6133         6179  163.669016            94   \n",
       "43     43           6179         6195  126.006619            35   \n",
       "45     45           6328         6347  203.078360            38   \n",
       "46     46           6347         6369  107.394053            44   \n",
       "47     47           6369         6400  185.166411            63   \n",
       "48     48           6400         6449  104.957116            97   \n",
       "49     49           6449         6490  163.792413            84   \n",
       "50     50           6490         6500  206.560919           538   \n",
       "51     51           6500         6531  194.453542            75   \n",
       "52     52           6531         6582  157.112154            89   \n",
       "54     54           6583         6589  133.265456            12   \n",
       "55     55           6589         6590  188.789875             2   \n",
       "56     56           6590         6591  254.907662             2   \n",
       "58     58           6592         6595  227.932075             5   \n",
       "59     59           6595         6620  206.173593            50   \n",
       "60     60           6620         6905  129.575765           507   \n",
       "61     61           6905         6954  220.166703            97   \n",
       "63     63           6990         7001  161.685721            22   \n",
       "64     64           7001         7009  109.592526            16   \n",
       "65     65           7009         7010  104.299886             2   \n",
       "67     67           7048         7060  195.933208            24   \n",
       "69     69           7117         7151  218.321094            70   \n",
       "71     71           7439         7443  181.971081             6   \n",
       "72     72           7443         7445  177.840019             4   \n",
       "73     73           7445         7447  162.478621             4   \n",
       "74     74           7447         7478  151.340780            62   \n",
       "75     75           7478         7564  176.156246           240   \n",
       "\n",
       "    distancia_tramo        spd  viento_aparente      porc  \n",
       "1       4819.000000  17.702449         5.337415  4.181100  \n",
       "2        473.935824  38.776567         8.311220 -1.737873  \n",
       "3        813.223602  24.396708         8.704791  2.662585  \n",
       "4        206.720563  35.437811         8.487546 -0.873144  \n",
       "5       1271.120011  26.917836         8.945233  1.566720  \n",
       "7       2868.000000  22.792053         4.616644  2.126107  \n",
       "9        588.000000  27.138462        -0.390809  0.946517  \n",
       "11       437.000000  21.259459         7.950309  1.298545  \n",
       "15       703.000000  18.077143        -7.570676  2.748246  \n",
       "16       768.000000  31.779310         5.259195 -1.301930  \n",
       "17       578.000000  26.676923         3.102606  0.941261  \n",
       "18       266.000000  33.020690         4.579115 -0.170770  \n",
       "19      9191.000000  20.449691         1.457547  3.207283  \n",
       "20       244.000000  31.371429         9.846610 -0.451470  \n",
       "21      9305.000000  12.132561        -2.454714  7.137195  \n",
       "23       704.236046  17.605901         7.887428  4.067062  \n",
       "25       445.200064  20.547695         9.278316  1.081617  \n",
       "26        14.100059  25.380106        10.007277 -0.053718  \n",
       "27        16.349989  29.429980         5.775413  0.018851  \n",
       "28        11.292927  20.327268        18.939865 -0.061448  \n",
       "31      3795.770186  11.200633         0.799315  5.870399  \n",
       "33       371.950118  22.317007         6.266984  2.290759  \n",
       "34      6130.712969  44.318407         5.733330 -2.914999  \n",
       "35      8252.417053  11.537360         5.901786  6.468743  \n",
       "40      2182.000000  32.730000        -9.183888 -1.657458  \n",
       "41       468.799905  24.459126        -9.736325  1.799504  \n",
       "42       734.908361  28.145427        -9.859221 -0.593717  \n",
       "43       200.602273  20.633377        -9.465450  0.547677  \n",
       "45       240.722611  22.805300        -7.710675  0.610510  \n",
       "46       323.277389  26.449968        -7.359421 -0.814198  \n",
       "47       411.572197  23.518411        -4.762836  0.689317  \n",
       "48       799.360141  29.666974        -2.826883 -1.342599  \n",
       "49       577.679910  24.757710        -5.642363  1.178195  \n",
       "50       115.080038   0.770052        -5.120532 -0.303818  \n",
       "51       444.969946  21.358557        -4.543823  1.358546  \n",
       "52       806.230054  32.611553        -3.526838 -1.139543  \n",
       "54       109.298498  32.789549        -3.514583 -0.190230  \n",
       "55        19.099933  34.379879        -2.622279  0.114959  \n",
       "56        17.430054  31.374098        -2.994640 -0.058432  \n",
       "58        50.738544  36.531752        -3.710702 -0.062510  \n",
       "59       412.677758  29.712799        -3.717349  0.706571  \n",
       "60      4587.183627  32.571718        -8.002578 -0.855795  \n",
       "61       608.238548  22.573802        -8.167097  1.916084  \n",
       "63       158.618053  25.955681        -8.583058  0.186980  \n",
       "64       103.014009  23.178152        -9.544003 -0.453466  \n",
       "65        18.362906  33.053230        -6.778306  0.018268  \n",
       "67       179.809142  26.971371        -9.619087  0.582083  \n",
       "69       478.200000  24.593143        -8.449424  1.924442  \n",
       "71        65.099968  39.059981         2.753649  0.147881  \n",
       "72        33.099968  29.789971        -0.343292 -0.065403  \n",
       "73        36.700075  33.030067        -2.163173  0.092621  \n",
       "74       571.929980  33.208838        -7.400349 -0.631580  \n",
       "75      1084.659981  16.269900        -7.395155  2.716089  "
      ]
     },
     "execution_count": 65,
     "metadata": {},
     "output_type": "execute_result"
    }
   ],
   "source": [
    "df_lm2"
   ]
  },
  {
   "cell_type": "code",
   "execution_count": null,
   "metadata": {
    "collapsed": true
   },
   "outputs": [],
   "source": []
  },
  {
   "cell_type": "code",
   "execution_count": null,
   "metadata": {
    "collapsed": true
   },
   "outputs": [],
   "source": []
  },
  {
   "cell_type": "code",
   "execution_count": 66,
   "metadata": {},
   "outputs": [
    {
     "name": "stderr",
     "output_type": "stream",
     "text": [
      "C:\\Users\\eduardo.hernanz\\AppData\\Local\\Continuum\\Anaconda3\\lib\\site-packages\\ipykernel_launcher.py:5: SettingWithCopyWarning: \n",
      "A value is trying to be set on a copy of a slice from a DataFrame.\n",
      "Try using .loc[row_indexer,col_indexer] = value instead\n",
      "\n",
      "See the caveats in the documentation: http://pandas.pydata.org/pandas-docs/stable/indexing.html#indexing-view-versus-copy\n",
      "  \"\"\"\n",
      "C:\\Users\\eduardo.hernanz\\AppData\\Local\\Continuum\\Anaconda3\\lib\\site-packages\\ipykernel_launcher.py:6: SettingWithCopyWarning: \n",
      "A value is trying to be set on a copy of a slice from a DataFrame.\n",
      "Try using .loc[row_indexer,col_indexer] = value instead\n",
      "\n",
      "See the caveats in the documentation: http://pandas.pydata.org/pandas-docs/stable/indexing.html#indexing-view-versus-copy\n",
      "  \n",
      "C:\\Users\\eduardo.hernanz\\AppData\\Local\\Continuum\\Anaconda3\\lib\\site-packages\\ipykernel_launcher.py:7: SettingWithCopyWarning: \n",
      "A value is trying to be set on a copy of a slice from a DataFrame.\n",
      "Try using .loc[row_indexer,col_indexer] = value instead\n",
      "\n",
      "See the caveats in the documentation: http://pandas.pydata.org/pandas-docs/stable/indexing.html#indexing-view-versus-copy\n",
      "  import sys\n"
     ]
    }
   ],
   "source": [
    "#añadimos aqui\n",
    "df_lm_x2 = df_lm2[['spd','porc','viento_aparente']]\n",
    "df_lm_y2 = df_lm2[['pwr']]\n",
    "\n",
    "df_lm_x2['termino_cda'] = (df_lm2['spd']+df_lm2['viento_aparente'])**2*df_lm2['spd']\n",
    "df_lm_x2['termino_roz'] = df_lm2['spd']*90\n",
    "df_lm_x2['termino_cte'] = df_lm2['spd']*df_lm2['porc']*90"
   ]
  },
  {
   "cell_type": "code",
   "execution_count": 67,
   "metadata": {},
   "outputs": [
    {
     "data": {
      "text/html": [
       "<div>\n",
       "<style>\n",
       "    .dataframe thead tr:only-child th {\n",
       "        text-align: right;\n",
       "    }\n",
       "\n",
       "    .dataframe thead th {\n",
       "        text-align: left;\n",
       "    }\n",
       "\n",
       "    .dataframe tbody tr th {\n",
       "        vertical-align: top;\n",
       "    }\n",
       "</style>\n",
       "<table border=\"1\" class=\"dataframe\">\n",
       "  <thead>\n",
       "    <tr style=\"text-align: right;\">\n",
       "      <th></th>\n",
       "      <th>spd</th>\n",
       "      <th>porc</th>\n",
       "      <th>viento_aparente</th>\n",
       "      <th>termino_cda</th>\n",
       "      <th>termino_roz</th>\n",
       "      <th>termino_cte</th>\n",
       "    </tr>\n",
       "  </thead>\n",
       "  <tbody>\n",
       "    <tr>\n",
       "      <th>count</th>\n",
       "      <td>53.000000</td>\n",
       "      <td>53.000000</td>\n",
       "      <td>53.000000</td>\n",
       "      <td>53.000000</td>\n",
       "      <td>53.000000</td>\n",
       "      <td>53.000000</td>\n",
       "    </tr>\n",
       "    <tr>\n",
       "      <th>mean</th>\n",
       "      <td>26.104601</td>\n",
       "      <td>0.857898</td>\n",
       "      <td>-0.626753</td>\n",
       "      <td>22954.181495</td>\n",
       "      <td>2349.414060</td>\n",
       "      <td>1012.778818</td>\n",
       "    </tr>\n",
       "    <tr>\n",
       "      <th>std</th>\n",
       "      <td>7.916226</td>\n",
       "      <td>2.009088</td>\n",
       "      <td>7.128505</td>\n",
       "      <td>22220.178428</td>\n",
       "      <td>712.460350</td>\n",
       "      <td>3633.971665</td>\n",
       "    </tr>\n",
       "    <tr>\n",
       "      <th>min</th>\n",
       "      <td>0.770052</td>\n",
       "      <td>-2.914999</td>\n",
       "      <td>-9.859221</td>\n",
       "      <td>14.574530</td>\n",
       "      <td>69.304707</td>\n",
       "      <td>-11626.931884</td>\n",
       "    </tr>\n",
       "    <tr>\n",
       "      <th>25%</th>\n",
       "      <td>21.358557</td>\n",
       "      <td>-0.303818</td>\n",
       "      <td>-7.395155</td>\n",
       "      <td>7833.633022</td>\n",
       "      <td>1922.270165</td>\n",
       "      <td>-561.379190</td>\n",
       "    </tr>\n",
       "    <tr>\n",
       "      <th>50%</th>\n",
       "      <td>26.449968</td>\n",
       "      <td>0.186980</td>\n",
       "      <td>-2.622279</td>\n",
       "      <td>18279.043834</td>\n",
       "      <td>2380.497138</td>\n",
       "      <td>519.861574</td>\n",
       "    </tr>\n",
       "    <tr>\n",
       "      <th>75%</th>\n",
       "      <td>32.571718</td>\n",
       "      <td>1.799504</td>\n",
       "      <td>5.733330</td>\n",
       "      <td>31342.771644</td>\n",
       "      <td>2931.454625</td>\n",
       "      <td>3892.797141</td>\n",
       "    </tr>\n",
       "    <tr>\n",
       "      <th>max</th>\n",
       "      <td>44.318407</td>\n",
       "      <td>7.137195</td>\n",
       "      <td>18.939865</td>\n",
       "      <td>111025.424647</td>\n",
       "      <td>3988.656630</td>\n",
       "      <td>7793.320282</td>\n",
       "    </tr>\n",
       "  </tbody>\n",
       "</table>\n",
       "</div>"
      ],
      "text/plain": [
       "             spd       porc  viento_aparente    termino_cda  termino_roz  \\\n",
       "count  53.000000  53.000000        53.000000      53.000000    53.000000   \n",
       "mean   26.104601   0.857898        -0.626753   22954.181495  2349.414060   \n",
       "std     7.916226   2.009088         7.128505   22220.178428   712.460350   \n",
       "min     0.770052  -2.914999        -9.859221      14.574530    69.304707   \n",
       "25%    21.358557  -0.303818        -7.395155    7833.633022  1922.270165   \n",
       "50%    26.449968   0.186980        -2.622279   18279.043834  2380.497138   \n",
       "75%    32.571718   1.799504         5.733330   31342.771644  2931.454625   \n",
       "max    44.318407   7.137195        18.939865  111025.424647  3988.656630   \n",
       "\n",
       "        termino_cte  \n",
       "count     53.000000  \n",
       "mean    1012.778818  \n",
       "std     3633.971665  \n",
       "min   -11626.931884  \n",
       "25%     -561.379190  \n",
       "50%      519.861574  \n",
       "75%     3892.797141  \n",
       "max     7793.320282  "
      ]
     },
     "execution_count": 67,
     "metadata": {},
     "output_type": "execute_result"
    }
   ],
   "source": [
    "df_lm_x2.describe()"
   ]
  },
  {
   "cell_type": "code",
   "execution_count": 68,
   "metadata": {},
   "outputs": [
    {
     "data": {
      "text/html": [
       "<div>\n",
       "<style>\n",
       "    .dataframe thead tr:only-child th {\n",
       "        text-align: right;\n",
       "    }\n",
       "\n",
       "    .dataframe thead th {\n",
       "        text-align: left;\n",
       "    }\n",
       "\n",
       "    .dataframe tbody tr th {\n",
       "        vertical-align: top;\n",
       "    }\n",
       "</style>\n",
       "<table border=\"1\" class=\"dataframe\">\n",
       "  <thead>\n",
       "    <tr style=\"text-align: right;\">\n",
       "      <th></th>\n",
       "      <th>pwr</th>\n",
       "    </tr>\n",
       "  </thead>\n",
       "  <tbody>\n",
       "    <tr>\n",
       "      <th>count</th>\n",
       "      <td>53.000000</td>\n",
       "    </tr>\n",
       "    <tr>\n",
       "      <th>mean</th>\n",
       "      <td>181.547334</td>\n",
       "    </tr>\n",
       "    <tr>\n",
       "      <th>std</th>\n",
       "      <td>43.166008</td>\n",
       "    </tr>\n",
       "    <tr>\n",
       "      <th>min</th>\n",
       "      <td>102.681604</td>\n",
       "    </tr>\n",
       "    <tr>\n",
       "      <th>25%</th>\n",
       "      <td>152.194252</td>\n",
       "    </tr>\n",
       "    <tr>\n",
       "      <th>50%</th>\n",
       "      <td>187.857245</td>\n",
       "    </tr>\n",
       "    <tr>\n",
       "      <th>75%</th>\n",
       "      <td>215.339885</td>\n",
       "    </tr>\n",
       "    <tr>\n",
       "      <th>max</th>\n",
       "      <td>255.381555</td>\n",
       "    </tr>\n",
       "  </tbody>\n",
       "</table>\n",
       "</div>"
      ],
      "text/plain": [
       "              pwr\n",
       "count   53.000000\n",
       "mean   181.547334\n",
       "std     43.166008\n",
       "min    102.681604\n",
       "25%    152.194252\n",
       "50%    187.857245\n",
       "75%    215.339885\n",
       "max    255.381555"
      ]
     },
     "execution_count": 68,
     "metadata": {},
     "output_type": "execute_result"
    }
   ],
   "source": [
    "df_lm_y2.describe()"
   ]
  },
  {
   "cell_type": "code",
   "execution_count": 69,
   "metadata": {
    "collapsed": true
   },
   "outputs": [],
   "source": [
    "df_lm_x3 = df_lm_x2[['termino_cda','termino_roz','termino_cte']]\n",
    "df_lm_y3 = df_lm_y2[['pwr']]"
   ]
  },
  {
   "cell_type": "code",
   "execution_count": 70,
   "metadata": {},
   "outputs": [
    {
     "data": {
      "image/png": "[encoded data removed]",
      "text/plain": [
       "<matplotlib.figure.Figure at 0x2107e239f60>"
      ]
     },
     "metadata": {},
     "output_type": "display_data"
    }
   ],
   "source": [
    "plt.hist(df_lm_y3['pwr'])\n",
    "plt.show()"
   ]
  },
  {
   "cell_type": "code",
   "execution_count": 71,
   "metadata": {},
   "outputs": [
    {
     "data": {
      "text/plain": [
       "True"
      ]
     },
     "execution_count": 71,
     "metadata": {},
     "output_type": "execute_result"
    }
   ],
   "source": [
    "len(df_lm_x3)==len(df_lm_y3)"
   ]
  },
  {
   "cell_type": "code",
   "execution_count": 72,
   "metadata": {},
   "outputs": [
    {
     "data": {
      "text/plain": [
       "16"
      ]
     },
     "execution_count": 72,
     "metadata": {},
     "output_type": "execute_result"
    }
   ],
   "source": [
    "train2 = round(len(df_lm_x3)*0.7)\n",
    "train2\n",
    "test2 = len(df_lm_x3)-train2\n",
    "test2"
   ]
  },
  {
   "cell_type": "code",
   "execution_count": 73,
   "metadata": {
    "collapsed": true
   },
   "outputs": [],
   "source": [
    "X_train3 = df_lm_x3[:train2]\n",
    "X_test3 = df_lm_x3[test2:]"
   ]
  },
  {
   "cell_type": "code",
   "execution_count": 74,
   "metadata": {
    "collapsed": true
   },
   "outputs": [],
   "source": [
    "Y_train3 = df_lm_y3[:train2]\n",
    "Y_test3 = df_lm_y3[test2:]"
   ]
  },
  {
   "cell_type": "code",
   "execution_count": 75,
   "metadata": {},
   "outputs": [
    {
     "data": {
      "text/plain": [
       "LinearRegression(copy_X=True, fit_intercept=True, n_jobs=1, normalize=False)"
      ]
     },
     "execution_count": 75,
     "metadata": {},
     "output_type": "execute_result"
    }
   ],
   "source": [
    "# Create linear regression object\n",
    "regr3 = linear_model.LinearRegression()\n",
    "\n",
    "# Train the model using the training sets\n",
    "regr3.fit(X_train3, Y_train3)"
   ]
  },
  {
   "cell_type": "code",
   "execution_count": null,
   "metadata": {
    "collapsed": true
   },
   "outputs": [],
   "source": []
  },
  {
   "cell_type": "code",
   "execution_count": 76,
   "metadata": {
    "collapsed": true
   },
   "outputs": [],
   "source": [
    "# Make predictions using the testing set\n",
    "Y_pred3 = regr3.predict(X_test3)"
   ]
  },
  {
   "cell_type": "code",
   "execution_count": 77,
   "metadata": {},
   "outputs": [
    {
     "name": "stdout",
     "output_type": "stream",
     "text": [
      "Coefficients: \n",
      " [[ 0.00108979 -0.02114762  0.00907436]]\n",
      "Mean squared error: 1076.69\n",
      "Variance score: 0.36\n"
     ]
    }
   ],
   "source": [
    "# The coefficients\n",
    "print('Coefficients: \\n', regr3.coef_)\n",
    "# The mean squared error\n",
    "print(\"Mean squared error: %.2f\"\n",
    "      % mean_squared_error(Y_test3, Y_pred3))\n",
    "# Explained variance score: 1 is perfect prediction\n",
    "print('Variance score: %.2f' % r2_score(Y_test3, Y_pred3))\n",
    "\n"
   ]
  },
  {
   "cell_type": "code",
   "execution_count": 78,
   "metadata": {
    "collapsed": true
   },
   "outputs": [],
   "source": [
    "results = pd.DataFrame(X_test3)"
   ]
  },
  {
   "cell_type": "code",
   "execution_count": 79,
   "metadata": {
    "collapsed": true
   },
   "outputs": [],
   "source": [
    " results['Y_test'] = Y_test3"
   ]
  },
  {
   "cell_type": "code",
   "execution_count": 80,
   "metadata": {
    "collapsed": true
   },
   "outputs": [],
   "source": [
    " results['Y_pred'] = Y_pred3"
   ]
  },
  {
   "cell_type": "code",
   "execution_count": 81,
   "metadata": {
    "collapsed": true
   },
   "outputs": [],
   "source": [
    "results['dif'] = results['Y_test']-results['Y_pred']"
   ]
  },
  {
   "cell_type": "code",
   "execution_count": 82,
   "metadata": {},
   "outputs": [
    {
     "data": {
      "text/plain": [
       "(array([  2.,   2.,   7.,   3.,  10.,   8.,   2.,   2.,   0.,   1.]),\n",
       " array([-60.70628261, -45.10408355, -29.50188448, -13.89968541,\n",
       "          1.70251366,  17.30471273,  32.9069118 ,  48.50911087,\n",
       "         64.11130993,  79.713509  ,  95.31570807]),\n",
       " <a list of 10 Patch objects>)"
      ]
     },
     "execution_count": 82,
     "metadata": {},
     "output_type": "execute_result"
    },
    {
     "data": {
      "image/png": "[encoded data removed]",
      "text/plain": [
       "<matplotlib.figure.Figure at 0x2107e73c208>"
      ]
     },
     "metadata": {},
     "output_type": "display_data"
    }
   ],
   "source": [
    "plt.hist(results['dif'])"
   ]
  },
  {
   "cell_type": "code",
   "execution_count": null,
   "metadata": {
    "collapsed": true
   },
   "outputs": [],
   "source": []
  }
 ],
 "metadata": {
  "kernelspec": {
   "display_name": "Python 3",
   "language": "python",
   "name": "python3"
  },
  "language_info": {
   "codemirror_mode": {
    "name": "ipython",
    "version": 3
   },
   "file_extension": ".py",
   "mimetype": "text/x-python",
   "name": "python",
   "nbconvert_exporter": "python",
   "pygments_lexer": "ipython3",
   "version": "3.6.1"
  }
 },
 "nbformat": 4,
 "nbformat_minor": 2
}
