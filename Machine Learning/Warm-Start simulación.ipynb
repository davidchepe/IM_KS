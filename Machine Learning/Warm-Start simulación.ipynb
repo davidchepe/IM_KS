{
 "cells": [
  {
   "cell_type": "markdown",
   "metadata": {},
   "source": [
    "## Notebook con pruebas de cara a la simulación. Teniendo en cuenta la cantidad de tramos y posibles combinaciones de potencias, es necesario tener un punto de partida adecuado para la simulación\n",
    "No tendría sentido probar en bajadas pronunciadas con potencias muy altas, debido a que normalmente se usan para descansar, beber, etc y que al haber curvas, es posible que no puedan desarrollarse velocidades muy altas\n",
    "Por otro lado, en las subidas pronunciadas, la lógica hace pensar que si los watios no son 'gastados' contra el viento, sea lógico aumentar el nivel de esfuerzo\n",
    "Hay que recordar que el objetivo de esta simulación es proveer a un ciclista de un plan de competición"
   ]
  },
  {
   "cell_type": "markdown",
   "metadata": {},
   "source": [
    "### Importamos librerías"
   ]
  },
  {
   "cell_type": "code",
   "execution_count": 1,
   "metadata": {},
   "outputs": [
    {
     "data": {
      "text/html": [
       "<script>requirejs.config({paths: { 'plotly': ['https://cdn.plot.ly/plotly-latest.min']},});if(!window.Plotly) {{require(['plotly'],function(plotly) {window.Plotly=plotly;});}}</script>"
      ],
      "text/vnd.plotly.v1+html": [
       "<script>requirejs.config({paths: { 'plotly': ['https://cdn.plot.ly/plotly-latest.min']},});if(!window.Plotly) {{require(['plotly'],function(plotly) {window.Plotly=plotly;});}}</script>"
      ]
     },
     "metadata": {},
     "output_type": "display_data"
    }
   ],
   "source": [
    "import os\n",
    "import pandas as pd\n",
    "import matplotlib.pylab as plt\n",
    "%matplotlib inline\n",
    "plt.style.use('seaborn')\n",
    "import numpy as np\n",
    "import plotly.graph_objs as go\n",
    "import ipywidgets as widgets\n",
    "import plotly as py\n",
    "import math as mt\n",
    "py.offline.init_notebook_mode(connected=True)"
   ]
  },
  {
   "cell_type": "markdown",
   "metadata": {},
   "source": [
    "### Cargamos los datos"
   ]
  },
  {
   "cell_type": "code",
   "execution_count": 2,
   "metadata": {
    "collapsed": true
   },
   "outputs": [],
   "source": [
    "path = '../Entrenamientos/Procesado_Tramos.xlsx'"
   ]
  },
  {
   "cell_type": "code",
   "execution_count": 3,
   "metadata": {
    "collapsed": true
   },
   "outputs": [],
   "source": [
    "df = pd.read_excel(path)"
   ]
  },
  {
   "cell_type": "code",
   "execution_count": 4,
   "metadata": {},
   "outputs": [
    {
     "data": {
      "text/html": [
       "<div>\n",
       "<style>\n",
       "    .dataframe thead tr:only-child th {\n",
       "        text-align: right;\n",
       "    }\n",
       "\n",
       "    .dataframe thead th {\n",
       "        text-align: left;\n",
       "    }\n",
       "\n",
       "    .dataframe tbody tr th {\n",
       "        vertical-align: top;\n",
       "    }\n",
       "</style>\n",
       "<table border=\"1\" class=\"dataframe\">\n",
       "  <thead>\n",
       "    <tr style=\"text-align: right;\">\n",
       "      <th></th>\n",
       "      <th>tramo</th>\n",
       "      <th>tramo_inicial</th>\n",
       "      <th>tramo_final</th>\n",
       "      <th>pwr</th>\n",
       "      <th>time_seg</th>\n",
       "      <th>dist</th>\n",
       "      <th>spd</th>\n",
       "      <th>viento_aparente</th>\n",
       "      <th>porc</th>\n",
       "      <th>dist_acum</th>\n",
       "    </tr>\n",
       "  </thead>\n",
       "  <tbody>\n",
       "    <tr>\n",
       "      <th>count</th>\n",
       "      <td>1566.000000</td>\n",
       "      <td>1566.000000</td>\n",
       "      <td>1566.000000</td>\n",
       "      <td>1564.000000</td>\n",
       "      <td>1566.000000</td>\n",
       "      <td>1566.000000</td>\n",
       "      <td>1566.000000</td>\n",
       "      <td>1563.000000</td>\n",
       "      <td>1566.000000</td>\n",
       "      <td>1566.000000</td>\n",
       "    </tr>\n",
       "    <tr>\n",
       "      <th>mean</th>\n",
       "      <td>88.273946</td>\n",
       "      <td>3193.413155</td>\n",
       "      <td>3237.544700</td>\n",
       "      <td>172.841148</td>\n",
       "      <td>77.945083</td>\n",
       "      <td>604.974227</td>\n",
       "      <td>inf</td>\n",
       "      <td>-0.523086</td>\n",
       "      <td>NaN</td>\n",
       "      <td>43956.065230</td>\n",
       "    </tr>\n",
       "    <tr>\n",
       "      <th>std</th>\n",
       "      <td>74.367035</td>\n",
       "      <td>2006.879552</td>\n",
       "      <td>2007.195839</td>\n",
       "      <td>58.752558</td>\n",
       "      <td>163.853506</td>\n",
       "      <td>990.936845</td>\n",
       "      <td>NaN</td>\n",
       "      <td>15.893856</td>\n",
       "      <td>NaN</td>\n",
       "      <td>27597.295988</td>\n",
       "    </tr>\n",
       "    <tr>\n",
       "      <th>min</th>\n",
       "      <td>0.000000</td>\n",
       "      <td>0.000000</td>\n",
       "      <td>5.000000</td>\n",
       "      <td>0.000000</td>\n",
       "      <td>-19.000000</td>\n",
       "      <td>0.000000</td>\n",
       "      <td>-5.142857</td>\n",
       "      <td>-30.119336</td>\n",
       "      <td>-inf</td>\n",
       "      <td>63.000000</td>\n",
       "    </tr>\n",
       "    <tr>\n",
       "      <th>25%</th>\n",
       "      <td>35.000000</td>\n",
       "      <td>1533.000000</td>\n",
       "      <td>1561.250000</td>\n",
       "      <td>138.296295</td>\n",
       "      <td>6.000000</td>\n",
       "      <td>50.337673</td>\n",
       "      <td>25.886720</td>\n",
       "      <td>-11.651183</td>\n",
       "      <td>-0.673262</td>\n",
       "      <td>20811.460000</td>\n",
       "    </tr>\n",
       "    <tr>\n",
       "      <th>50%</th>\n",
       "      <td>71.000000</td>\n",
       "      <td>3030.000000</td>\n",
       "      <td>3163.000000</td>\n",
       "      <td>180.189194</td>\n",
       "      <td>39.000000</td>\n",
       "      <td>328.367595</td>\n",
       "      <td>31.469712</td>\n",
       "      <td>-0.671048</td>\n",
       "      <td>-0.001459</td>\n",
       "      <td>42480.000000</td>\n",
       "    </tr>\n",
       "    <tr>\n",
       "      <th>75%</th>\n",
       "      <td>116.000000</td>\n",
       "      <td>4783.000000</td>\n",
       "      <td>4819.000000</td>\n",
       "      <td>215.477559</td>\n",
       "      <td>78.000000</td>\n",
       "      <td>682.200031</td>\n",
       "      <td>37.867565</td>\n",
       "      <td>11.295255</td>\n",
       "      <td>0.582053</td>\n",
       "      <td>65076.261277</td>\n",
       "    </tr>\n",
       "    <tr>\n",
       "      <th>max</th>\n",
       "      <td>345.000000</td>\n",
       "      <td>7796.000000</td>\n",
       "      <td>7830.000000</td>\n",
       "      <td>394.699287</td>\n",
       "      <td>2747.000000</td>\n",
       "      <td>10273.070042</td>\n",
       "      <td>inf</td>\n",
       "      <td>29.972648</td>\n",
       "      <td>inf</td>\n",
       "      <td>107610.184614</td>\n",
       "    </tr>\n",
       "  </tbody>\n",
       "</table>\n",
       "</div>"
      ],
      "text/plain": [
       "             tramo  tramo_inicial  tramo_final          pwr     time_seg  \\\n",
       "count  1566.000000    1566.000000  1566.000000  1564.000000  1566.000000   \n",
       "mean     88.273946    3193.413155  3237.544700   172.841148    77.945083   \n",
       "std      74.367035    2006.879552  2007.195839    58.752558   163.853506   \n",
       "min       0.000000       0.000000     5.000000     0.000000   -19.000000   \n",
       "25%      35.000000    1533.000000  1561.250000   138.296295     6.000000   \n",
       "50%      71.000000    3030.000000  3163.000000   180.189194    39.000000   \n",
       "75%     116.000000    4783.000000  4819.000000   215.477559    78.000000   \n",
       "max     345.000000    7796.000000  7830.000000   394.699287  2747.000000   \n",
       "\n",
       "               dist          spd  viento_aparente         porc      dist_acum  \n",
       "count   1566.000000  1566.000000      1563.000000  1566.000000    1566.000000  \n",
       "mean     604.974227          inf        -0.523086          NaN   43956.065230  \n",
       "std      990.936845          NaN        15.893856          NaN   27597.295988  \n",
       "min        0.000000    -5.142857       -30.119336         -inf      63.000000  \n",
       "25%       50.337673    25.886720       -11.651183    -0.673262   20811.460000  \n",
       "50%      328.367595    31.469712        -0.671048    -0.001459   42480.000000  \n",
       "75%      682.200031    37.867565        11.295255     0.582053   65076.261277  \n",
       "max    10273.070042          inf        29.972648          inf  107610.184614  "
      ]
     },
     "execution_count": 4,
     "metadata": {},
     "output_type": "execute_result"
    }
   ],
   "source": [
    "df.describe()"
   ]
  },
  {
   "cell_type": "markdown",
   "metadata": {},
   "source": [
    "### Filtramos outliers"
   ]
  },
  {
   "cell_type": "code",
   "execution_count": 5,
   "metadata": {
    "collapsed": true,
    "scrolled": true
   },
   "outputs": [],
   "source": [
    "df = df[df[\"viento_aparente\"]!=-np.inf]\n",
    "df = df[df[\"porc\"]!=np.inf]\n",
    "df[\"puntos_en_tramo\"]= df[\"tramo_final\"]-df[\"tramo_inicial\"]\n",
    "df = df[df[\"puntos_en_tramo\"]>10]\n",
    "df = df[df[\"dist\"]>400]"
   ]
  },
  {
   "cell_type": "code",
   "execution_count": 6,
   "metadata": {},
   "outputs": [
    {
     "data": {
      "text/html": [
       "<div>\n",
       "<style>\n",
       "    .dataframe thead tr:only-child th {\n",
       "        text-align: right;\n",
       "    }\n",
       "\n",
       "    .dataframe thead th {\n",
       "        text-align: left;\n",
       "    }\n",
       "\n",
       "    .dataframe tbody tr th {\n",
       "        vertical-align: top;\n",
       "    }\n",
       "</style>\n",
       "<table border=\"1\" class=\"dataframe\">\n",
       "  <thead>\n",
       "    <tr style=\"text-align: right;\">\n",
       "      <th></th>\n",
       "      <th>tramo</th>\n",
       "      <th>tramo_inicial</th>\n",
       "      <th>tramo_final</th>\n",
       "      <th>pwr</th>\n",
       "      <th>time_seg</th>\n",
       "      <th>dist</th>\n",
       "      <th>spd</th>\n",
       "      <th>viento_aparente</th>\n",
       "      <th>porc</th>\n",
       "      <th>dist_acum</th>\n",
       "      <th>puntos_en_tramo</th>\n",
       "    </tr>\n",
       "  </thead>\n",
       "  <tbody>\n",
       "    <tr>\n",
       "      <th>count</th>\n",
       "      <td>704.000000</td>\n",
       "      <td>704.000000</td>\n",
       "      <td>704.000000</td>\n",
       "      <td>704.000000</td>\n",
       "      <td>704.000000</td>\n",
       "      <td>704.000000</td>\n",
       "      <td>704.000000</td>\n",
       "      <td>704.000000</td>\n",
       "      <td>704.000000</td>\n",
       "      <td>704.000000</td>\n",
       "      <td>704.000000</td>\n",
       "    </tr>\n",
       "    <tr>\n",
       "      <th>mean</th>\n",
       "      <td>75.742898</td>\n",
       "      <td>3236.553977</td>\n",
       "      <td>3324.062500</td>\n",
       "      <td>170.397681</td>\n",
       "      <td>155.754261</td>\n",
       "      <td>1197.764171</td>\n",
       "      <td>31.884690</td>\n",
       "      <td>0.206131</td>\n",
       "      <td>-0.013950</td>\n",
       "      <td>45182.282085</td>\n",
       "      <td>87.508523</td>\n",
       "    </tr>\n",
       "    <tr>\n",
       "      <th>std</th>\n",
       "      <td>62.024779</td>\n",
       "      <td>2032.023813</td>\n",
       "      <td>2030.134928</td>\n",
       "      <td>61.189771</td>\n",
       "      <td>220.168319</td>\n",
       "      <td>1236.629743</td>\n",
       "      <td>8.927396</td>\n",
       "      <td>12.940261</td>\n",
       "      <td>2.313670</td>\n",
       "      <td>27986.826277</td>\n",
       "      <td>91.780336</td>\n",
       "    </tr>\n",
       "    <tr>\n",
       "      <th>min</th>\n",
       "      <td>0.000000</td>\n",
       "      <td>0.000000</td>\n",
       "      <td>65.000000</td>\n",
       "      <td>1.742131</td>\n",
       "      <td>34.000000</td>\n",
       "      <td>400.613923</td>\n",
       "      <td>11.618577</td>\n",
       "      <td>-29.536164</td>\n",
       "      <td>-6.677410</td>\n",
       "      <td>624.000000</td>\n",
       "      <td>23.000000</td>\n",
       "    </tr>\n",
       "    <tr>\n",
       "      <th>25%</th>\n",
       "      <td>29.000000</td>\n",
       "      <td>1518.000000</td>\n",
       "      <td>1589.750000</td>\n",
       "      <td>126.828829</td>\n",
       "      <td>60.000000</td>\n",
       "      <td>529.620097</td>\n",
       "      <td>24.830482</td>\n",
       "      <td>-8.474684</td>\n",
       "      <td>-1.760643</td>\n",
       "      <td>21362.893919</td>\n",
       "      <td>37.000000</td>\n",
       "    </tr>\n",
       "    <tr>\n",
       "      <th>50%</th>\n",
       "      <td>65.000000</td>\n",
       "      <td>3036.500000</td>\n",
       "      <td>3205.000000</td>\n",
       "      <td>181.767777</td>\n",
       "      <td>86.000000</td>\n",
       "      <td>741.350014</td>\n",
       "      <td>31.938754</td>\n",
       "      <td>0.320381</td>\n",
       "      <td>-0.367563</td>\n",
       "      <td>44029.333291</td>\n",
       "      <td>54.000000</td>\n",
       "    </tr>\n",
       "    <tr>\n",
       "      <th>75%</th>\n",
       "      <td>105.000000</td>\n",
       "      <td>4792.000000</td>\n",
       "      <td>4843.500000</td>\n",
       "      <td>221.011141</td>\n",
       "      <td>160.000000</td>\n",
       "      <td>1220.595748</td>\n",
       "      <td>38.095553</td>\n",
       "      <td>8.653271</td>\n",
       "      <td>1.735269</td>\n",
       "      <td>66243.249904</td>\n",
       "      <td>91.000000</td>\n",
       "    </tr>\n",
       "    <tr>\n",
       "      <th>max</th>\n",
       "      <td>345.000000</td>\n",
       "      <td>7796.000000</td>\n",
       "      <td>7830.000000</td>\n",
       "      <td>278.991626</td>\n",
       "      <td>2747.000000</td>\n",
       "      <td>10273.070042</td>\n",
       "      <td>69.830249</td>\n",
       "      <td>29.517057</td>\n",
       "      <td>7.137195</td>\n",
       "      <td>107610.184614</td>\n",
       "      <td>796.000000</td>\n",
       "    </tr>\n",
       "  </tbody>\n",
       "</table>\n",
       "</div>"
      ],
      "text/plain": [
       "            tramo  tramo_inicial  tramo_final         pwr     time_seg  \\\n",
       "count  704.000000     704.000000   704.000000  704.000000   704.000000   \n",
       "mean    75.742898    3236.553977  3324.062500  170.397681   155.754261   \n",
       "std     62.024779    2032.023813  2030.134928   61.189771   220.168319   \n",
       "min      0.000000       0.000000    65.000000    1.742131    34.000000   \n",
       "25%     29.000000    1518.000000  1589.750000  126.828829    60.000000   \n",
       "50%     65.000000    3036.500000  3205.000000  181.767777    86.000000   \n",
       "75%    105.000000    4792.000000  4843.500000  221.011141   160.000000   \n",
       "max    345.000000    7796.000000  7830.000000  278.991626  2747.000000   \n",
       "\n",
       "               dist         spd  viento_aparente        porc      dist_acum  \\\n",
       "count    704.000000  704.000000       704.000000  704.000000     704.000000   \n",
       "mean    1197.764171   31.884690         0.206131   -0.013950   45182.282085   \n",
       "std     1236.629743    8.927396        12.940261    2.313670   27986.826277   \n",
       "min      400.613923   11.618577       -29.536164   -6.677410     624.000000   \n",
       "25%      529.620097   24.830482        -8.474684   -1.760643   21362.893919   \n",
       "50%      741.350014   31.938754         0.320381   -0.367563   44029.333291   \n",
       "75%     1220.595748   38.095553         8.653271    1.735269   66243.249904   \n",
       "max    10273.070042   69.830249        29.517057    7.137195  107610.184614   \n",
       "\n",
       "       puntos_en_tramo  \n",
       "count       704.000000  \n",
       "mean         87.508523  \n",
       "std          91.780336  \n",
       "min          23.000000  \n",
       "25%          37.000000  \n",
       "50%          54.000000  \n",
       "75%          91.000000  \n",
       "max         796.000000  "
      ]
     },
     "execution_count": 6,
     "metadata": {},
     "output_type": "execute_result"
    }
   ],
   "source": [
    "df.describe()"
   ]
  },
  {
   "cell_type": "code",
   "execution_count": 7,
   "metadata": {},
   "outputs": [
    {
     "data": {
      "text/html": [
       "<div>\n",
       "<style>\n",
       "    .dataframe thead tr:only-child th {\n",
       "        text-align: right;\n",
       "    }\n",
       "\n",
       "    .dataframe thead th {\n",
       "        text-align: left;\n",
       "    }\n",
       "\n",
       "    .dataframe tbody tr th {\n",
       "        vertical-align: top;\n",
       "    }\n",
       "</style>\n",
       "<table border=\"1\" class=\"dataframe\">\n",
       "  <thead>\n",
       "    <tr style=\"text-align: right;\">\n",
       "      <th></th>\n",
       "      <th>tramo</th>\n",
       "      <th>tramo_inicial</th>\n",
       "      <th>tramo_final</th>\n",
       "      <th>pwr</th>\n",
       "      <th>time_seg</th>\n",
       "      <th>dist</th>\n",
       "      <th>spd</th>\n",
       "      <th>viento_aparente</th>\n",
       "      <th>porc</th>\n",
       "      <th>dist_acum</th>\n",
       "      <th>prueba</th>\n",
       "      <th>puntos_en_tramo</th>\n",
       "    </tr>\n",
       "  </thead>\n",
       "  <tbody>\n",
       "    <tr>\n",
       "      <th>8</th>\n",
       "      <td>8</td>\n",
       "      <td>136</td>\n",
       "      <td>164</td>\n",
       "      <td>73.327512</td>\n",
       "      <td>49</td>\n",
       "      <td>412.000000</td>\n",
       "      <td>30.269388</td>\n",
       "      <td>6.109815</td>\n",
       "      <td>-1.811555</td>\n",
       "      <td>1413.000000</td>\n",
       "      <td>20180225_LEVS_195_90_R_E.gpx</td>\n",
       "      <td>28</td>\n",
       "    </tr>\n",
       "    <tr>\n",
       "      <th>13</th>\n",
       "      <td>13</td>\n",
       "      <td>190</td>\n",
       "      <td>222</td>\n",
       "      <td>206.796051</td>\n",
       "      <td>64</td>\n",
       "      <td>454.289186</td>\n",
       "      <td>25.553767</td>\n",
       "      <td>6.258684</td>\n",
       "      <td>1.412053</td>\n",
       "      <td>2271.000000</td>\n",
       "      <td>20180225_LEVS_195_90_R_E.gpx</td>\n",
       "      <td>32</td>\n",
       "    </tr>\n",
       "    <tr>\n",
       "      <th>14</th>\n",
       "      <td>14</td>\n",
       "      <td>222</td>\n",
       "      <td>281</td>\n",
       "      <td>127.358925</td>\n",
       "      <td>74</td>\n",
       "      <td>774.757500</td>\n",
       "      <td>37.690905</td>\n",
       "      <td>8.309926</td>\n",
       "      <td>-1.323913</td>\n",
       "      <td>3049.515185</td>\n",
       "      <td>20180225_LEVS_195_90_R_E.gpx</td>\n",
       "      <td>59</td>\n",
       "    </tr>\n",
       "    <tr>\n",
       "      <th>15</th>\n",
       "      <td>15</td>\n",
       "      <td>281</td>\n",
       "      <td>394</td>\n",
       "      <td>227.806936</td>\n",
       "      <td>226</td>\n",
       "      <td>1931.242500</td>\n",
       "      <td>30.763155</td>\n",
       "      <td>6.478255</td>\n",
       "      <td>1.227197</td>\n",
       "      <td>4979.000000</td>\n",
       "      <td>20180225_LEVS_195_90_R_E.gpx</td>\n",
       "      <td>113</td>\n",
       "    </tr>\n",
       "    <tr>\n",
       "      <th>17</th>\n",
       "      <td>17</td>\n",
       "      <td>414</td>\n",
       "      <td>700</td>\n",
       "      <td>229.792174</td>\n",
       "      <td>594</td>\n",
       "      <td>3826.821790</td>\n",
       "      <td>23.192859</td>\n",
       "      <td>3.383788</td>\n",
       "      <td>2.599847</td>\n",
       "      <td>9105.681852</td>\n",
       "      <td>20180225_LEVS_195_90_R_E.gpx</td>\n",
       "      <td>286</td>\n",
       "    </tr>\n",
       "  </tbody>\n",
       "</table>\n",
       "</div>"
      ],
      "text/plain": [
       "    tramo  tramo_inicial  tramo_final         pwr  time_seg         dist  \\\n",
       "8       8            136          164   73.327512        49   412.000000   \n",
       "13     13            190          222  206.796051        64   454.289186   \n",
       "14     14            222          281  127.358925        74   774.757500   \n",
       "15     15            281          394  227.806936       226  1931.242500   \n",
       "17     17            414          700  229.792174       594  3826.821790   \n",
       "\n",
       "          spd  viento_aparente      porc    dist_acum  \\\n",
       "8   30.269388         6.109815 -1.811555  1413.000000   \n",
       "13  25.553767         6.258684  1.412053  2271.000000   \n",
       "14  37.690905         8.309926 -1.323913  3049.515185   \n",
       "15  30.763155         6.478255  1.227197  4979.000000   \n",
       "17  23.192859         3.383788  2.599847  9105.681852   \n",
       "\n",
       "                          prueba  puntos_en_tramo  \n",
       "8   20180225_LEVS_195_90_R_E.gpx               28  \n",
       "13  20180225_LEVS_195_90_R_E.gpx               32  \n",
       "14  20180225_LEVS_195_90_R_E.gpx               59  \n",
       "15  20180225_LEVS_195_90_R_E.gpx              113  \n",
       "17  20180225_LEVS_195_90_R_E.gpx              286  "
      ]
     },
     "execution_count": 7,
     "metadata": {},
     "output_type": "execute_result"
    }
   ],
   "source": [
    "df.head()"
   ]
  },
  {
   "cell_type": "markdown",
   "metadata": {},
   "source": [
    "## Análisis Gráfico"
   ]
  },
  {
   "cell_type": "code",
   "execution_count": 8,
   "metadata": {},
   "outputs": [
    {
     "data": {
      "application/vnd.jupyter.widget-view+json": {
       "model_id": "17a5f03b2f454448b52226f4a46fc6c6"
      }
     },
     "metadata": {},
     "output_type": "display_data"
    },
    {
     "data": {
      "text/plain": [
       "<function __main__.show_graph>"
      ]
     },
     "execution_count": 8,
     "metadata": {},
     "output_type": "execute_result"
    }
   ],
   "source": [
    "def show_graph(cda,por,wind):\n",
    "\n",
    "    V = np.arange(0,60,0.5)\n",
    "\n",
    "    ro = 1.2\n",
    "    #cda = 0.3\n",
    "    cr = 0.0033\n",
    "    m = 90\n",
    "    g = 9.81\n",
    "    s = mt.sin(mt.atan(por/100))\n",
    "\n",
    "    Pa = ro/2*cda*((V/3.6)+(wind/3.6))**2*(V/3.6)\n",
    "    Pr = (cr)*m*g*(V/3.6)\n",
    "    Pg = (s)*m*g*(V/3.6)\n",
    "    Pt = Pa + Pr + Pg\n",
    "\n",
    "    trace0 = go.Scatter(\n",
    "        x=V,\n",
    "        y=Pa,\n",
    "        mode='lines',\n",
    "        name='Pot_aerodinamica'\n",
    "    )\n",
    "\n",
    "    trace1 = go.Scatter(\n",
    "        x=V,\n",
    "        y=Pr,\n",
    "        mode='lines',\n",
    "        name='Pot_rozamiento'\n",
    "    )\n",
    "\n",
    "    trace2 = go.Scatter(\n",
    "        x=V,\n",
    "        y=Pg,\n",
    "        mode='lines',\n",
    "        name='Pot_pendinte'\n",
    "    )\n",
    "    \n",
    "    trace3 = go.Scatter(\n",
    "        \n",
    "        x=V,\n",
    "        y=Pt,\n",
    "        mode='lines',\n",
    "        name='Pot_total'\n",
    "    )\n",
    "    \n",
    "    layout = go.Layout(title='Simulador de potencia')\n",
    "    \n",
    "    data = [trace0, trace1, trace2, trace3]\n",
    "\n",
    "    fig = dict(data=data, layout=layout)\n",
    "\n",
    "    py.offline.iplot(fig)\n",
    "widgets.interact(show_graph, cda=(0.1,0.5,0.05), por=(-10,10,0.5), wind=(-15,15,1))"
   ]
  },
  {
   "cell_type": "markdown",
   "metadata": {},
   "source": [
    "Usamos Seaborn"
   ]
  },
  {
   "cell_type": "code",
   "execution_count": 9,
   "metadata": {
    "collapsed": true
   },
   "outputs": [],
   "source": [
    "import seaborn as sns"
   ]
  },
  {
   "cell_type": "code",
   "execution_count": 10,
   "metadata": {},
   "outputs": [
    {
     "data": {
      "text/plain": [
       "<matplotlib.axes._subplots.AxesSubplot at 0x18def46d3c8>"
      ]
     },
     "execution_count": 10,
     "metadata": {},
     "output_type": "execute_result"
    },
    {
     "data": {
      "image/png": "[encoded data removed]",
      "text/plain": [
       "<matplotlib.figure.Figure at 0x18def465b00>"
      ]
     },
     "metadata": {},
     "output_type": "display_data"
    }
   ],
   "source": [
    "sns.regplot(x = 'porc', y = 'pwr', data=pd.DataFrame(df[['porc','pwr']]),order=1)\n",
    "sns.regplot(x = 'porc', y = 'pwr', data=pd.DataFrame(df[['porc','pwr']]),order=2)\n",
    "sns.regplot(x = 'porc', y = 'pwr', data=pd.DataFrame(df[['porc','pwr']]),order=3)\n",
    "#sns.regplot(x = 'porc', y = 'pwr', data=pd.DataFrame(df[['porc','pwr']]),robust=True)"
   ]
  },
  {
   "cell_type": "code",
   "execution_count": 11,
   "metadata": {},
   "outputs": [
    {
     "data": {
      "text/plain": [
       "<matplotlib.axes._subplots.AxesSubplot at 0x18def8bf320>"
      ]
     },
     "execution_count": 11,
     "metadata": {},
     "output_type": "execute_result"
    },
    {
     "data": {
      "image/png": "[encoded data removed]",
      "text/plain": [
       "<matplotlib.figure.Figure at 0x18def83b1d0>"
      ]
     },
     "metadata": {},
     "output_type": "display_data"
    }
   ],
   "source": [
    "df['log']=df['porc']+10 #para trasladar el eje x y que no de error el log\n",
    "sns.regplot(x = 'log', y = 'pwr', data=pd.DataFrame(df[['log','pwr']]),logx=True)"
   ]
  },
  {
   "cell_type": "markdown",
   "metadata": {},
   "source": [
    "Teniendo en cuenta los gráficos anteriores, se podría modelar la potencia en función del porcentaje como una sigmoide\n",
    "Esto es debido a que en la simulación se va a considerar una potencia mínima y una máxima que no deben ser sobrepasadas\n",
    "Por otro lado, el crecimiento de la potencia se parece a la función polinómica de grado 3"
   ]
  },
  {
   "cell_type": "code",
   "execution_count": 12,
   "metadata": {},
   "outputs": [
    {
     "data": {
      "application/vnd.plotly.v1+json": {
       "data": [
        {
         "mode": "lines",
         "name": "Potencia",
         "type": "scatter",
         "x": [
          -10,
          -9.5,
          -9,
          -8.5,
          -8,
          -7.5,
          -7,
          -6.5,
          -6,
          -5.5,
          -5,
          -4.5,
          -4,
          -3.5,
          -3,
          -2.5,
          -2,
          -1.5,
          -1,
          -0.5,
          0,
          0.5,
          1,
          1.5,
          2,
          2.5,
          3,
          3.5,
          4,
          4.5,
          5,
          5.5,
          6,
          6.5,
          7,
          7.5,
          8,
          8.5,
          9,
          9.5
         ],
         "y": [
          53.324177239433006,
          54.25226893211559,
          55.43377078738777,
          56.934292222003606,
          58.834211007024024,
          61.23063451151737,
          64.23874596824696,
          67.99186341332461,
          72.63925037181454,
          78.34044281387033,
          85.25473033060254,
          93.52467771912956,
          103.25348945960039,
          114.47783605304481,
          127.1403864909431,
          141.0689922057524,
          155.97077880854272,
          171.44765557017965,
          187.03430953059848,
          202.25217121014202,
          216.66666666666666,
          229.9337336616663,
          241.82586559527536,
          252.23538433072144,
          261.15939912575914,
          268.67437176890945,
          274.90810882913706,
          280.0147177246714,
          284.1552654167406,
          287.48465097114797,
          290.1438943801345,
          292.25652911515385,
          293.9277755801842,
          295.24540190831635,
          296.28147198039744,
          297.09444778725424,
          297.73132128892155,
          298.22959747920993,
          298.6190459396576,
          298.92319618879395
         ]
        }
       ],
       "layout": {
        "title": "Sigmoide de potencia"
       }
      },
      "text/html": [
       "<div id=\"bff5071b-aa28-4a37-9bbe-1df5ec0a3579\" style=\"height: 525px; width: 100%;\" class=\"plotly-graph-div\"></div><script type=\"text/javascript\">require([\"plotly\"], function(Plotly) { window.PLOTLYENV=window.PLOTLYENV || {};window.PLOTLYENV.BASE_URL=\"https://plot.ly\";Plotly.newPlot(\"bff5071b-aa28-4a37-9bbe-1df5ec0a3579\", [{\"type\": \"scatter\", \"x\": [-10.0, -9.5, -9.0, -8.5, -8.0, -7.5, -7.0, -6.5, -6.0, -5.5, -5.0, -4.5, -4.0, -3.5, -3.0, -2.5, -2.0, -1.5, -1.0, -0.5, 0.0, 0.5, 1.0, 1.5, 2.0, 2.5, 3.0, 3.5, 4.0, 4.5, 5.0, 5.5, 6.0, 6.5, 7.0, 7.5, 8.0, 8.5, 9.0, 9.5], \"y\": [53.324177239433006, 54.25226893211559, 55.43377078738777, 56.934292222003606, 58.834211007024024, 61.23063451151737, 64.23874596824696, 67.99186341332461, 72.63925037181454, 78.34044281387033, 85.25473033060254, 93.52467771912956, 103.25348945960039, 114.47783605304481, 127.1403864909431, 141.0689922057524, 155.97077880854272, 171.44765557017965, 187.03430953059848, 202.25217121014202, 216.66666666666666, 229.9337336616663, 241.82586559527536, 252.23538433072144, 261.15939912575914, 268.67437176890945, 274.90810882913706, 280.0147177246714, 284.1552654167406, 287.48465097114797, 290.1438943801345, 292.25652911515385, 293.9277755801842, 295.24540190831635, 296.28147198039744, 297.09444778725424, 297.73132128892155, 298.22959747920993, 298.6190459396576, 298.92319618879395], \"mode\": \"lines\", \"name\": \"Potencia\"}], {\"title\": \"Sigmoide de potencia\"}, {\"showLink\": true, \"linkText\": \"Export to plot.ly\"})});</script>"
      ],
      "text/vnd.plotly.v1+html": [
       "<div id=\"bff5071b-aa28-4a37-9bbe-1df5ec0a3579\" style=\"height: 525px; width: 100%;\" class=\"plotly-graph-div\"></div><script type=\"text/javascript\">require([\"plotly\"], function(Plotly) { window.PLOTLYENV=window.PLOTLYENV || {};window.PLOTLYENV.BASE_URL=\"https://plot.ly\";Plotly.newPlot(\"bff5071b-aa28-4a37-9bbe-1df5ec0a3579\", [{\"type\": \"scatter\", \"x\": [-10.0, -9.5, -9.0, -8.5, -8.0, -7.5, -7.0, -6.5, -6.0, -5.5, -5.0, -4.5, -4.0, -3.5, -3.0, -2.5, -2.0, -1.5, -1.0, -0.5, 0.0, 0.5, 1.0, 1.5, 2.0, 2.5, 3.0, 3.5, 4.0, 4.5, 5.0, 5.5, 6.0, 6.5, 7.0, 7.5, 8.0, 8.5, 9.0, 9.5], \"y\": [53.324177239433006, 54.25226893211559, 55.43377078738777, 56.934292222003606, 58.834211007024024, 61.23063451151737, 64.23874596824696, 67.99186341332461, 72.63925037181454, 78.34044281387033, 85.25473033060254, 93.52467771912956, 103.25348945960039, 114.47783605304481, 127.1403864909431, 141.0689922057524, 155.97077880854272, 171.44765557017965, 187.03430953059848, 202.25217121014202, 216.66666666666666, 229.9337336616663, 241.82586559527536, 252.23538433072144, 261.15939912575914, 268.67437176890945, 274.90810882913706, 280.0147177246714, 284.1552654167406, 287.48465097114797, 290.1438943801345, 292.25652911515385, 293.9277755801842, 295.24540190831635, 296.28147198039744, 297.09444778725424, 297.73132128892155, 298.22959747920993, 298.6190459396576, 298.92319618879395], \"mode\": \"lines\", \"name\": \"Potencia\"}], {\"title\": \"Sigmoide de potencia\"}, {\"showLink\": true, \"linkText\": \"Export to plot.ly\"})});</script>"
      ]
     },
     "metadata": {},
     "output_type": "display_data"
    }
   ],
   "source": [
    "pot_min = 50\n",
    "pot_max = 300\n",
    "ff_1 = 0.5\n",
    "ff_2 = 0.5\n",
    "porc = np.arange(-10,10,0.5)\n",
    "potencia = pot_min+(pot_max-pot_min)/(1+ff_1*np.e**(ff_2*porc*-1))\n",
    "\n",
    "\n",
    "trace = go.Scatter(        \n",
    "        x=porc,\n",
    "        y=potencia,\n",
    "        mode='lines',\n",
    "        name='Potencia')\n",
    "    \n",
    "layout = go.Layout(title='Sigmoide de potencia')\n",
    "\n",
    "data = [trace]\n",
    "\n",
    "fig = dict(data=data, layout=layout)\n",
    "\n",
    "py.offline.iplot(fig)"
   ]
  },
  {
   "cell_type": "code",
   "execution_count": null,
   "metadata": {},
   "outputs": [],
   "source": [
    "sns.regplot(x = 'spd', y = 'pwr', data=pd.DataFrame(df[['spd','pwr']]),order=1)\n",
    "sns.regplot(x = 'spd', y = 'pwr', data=pd.DataFrame(df[['spd','pwr']]),order=2)\n",
    "sns.regplot(x = 'spd', y = 'pwr', data=pd.DataFrame(df[['spd','pwr']]),order=3)"
   ]
  },
  {
   "cell_type": "code",
   "execution_count": null,
   "metadata": {
    "collapsed": true
   },
   "outputs": [],
   "source": [
    "sns.regplot(x = 'viento_aparente', y = 'pwr', data=pd.DataFrame(df[['viento_aparente','pwr']]),order=1)\n",
    "sns.regplot(x = 'viento_aparente', y = 'pwr', data=pd.DataFrame(df[['viento_aparente','pwr']]),order=2)\n",
    "sns.regplot(x = 'viento_aparente', y = 'pwr', data=pd.DataFrame(df[['viento_aparente','pwr']]),order=3)\n",
    "sns.regplot(x = 'viento_aparente', y = 'pwr', data=pd.DataFrame(df[['viento_aparente','pwr']]),robust=True)"
   ]
  },
  {
   "cell_type": "markdown",
   "metadata": {},
   "source": [
    "Con Matplotlib"
   ]
  },
  {
   "cell_type": "code",
   "execution_count": null,
   "metadata": {},
   "outputs": [],
   "source": [
    "plt.subplot(1,3,1)\n",
    "plt.scatter(df['porc'],df['pwr'])\n",
    "\n",
    "plt.subplot(1,3,2)\n",
    "plt.scatter(df['spd'],df['pwr'])\n",
    "\n",
    "plt.subplot(1,3,3)\n",
    "plt.scatter(df['viento_aparente'],df['pwr'])"
   ]
  },
  {
   "cell_type": "code",
   "execution_count": null,
   "metadata": {
    "collapsed": true
   },
   "outputs": [],
   "source": [
    "from sklearn import datasets, linear_model\n",
    "from sklearn import metrics\n",
    "from sklearn.model_selection import train_test_split"
   ]
  },
  {
   "cell_type": "code",
   "execution_count": null,
   "metadata": {
    "scrolled": true
   },
   "outputs": [],
   "source": [
    "df_lm = df[['pwr','porc']]\n",
    "df_lm"
   ]
  },
  {
   "cell_type": "code",
   "execution_count": null,
   "metadata": {},
   "outputs": [],
   "source": [
    "plt.scatter(df_lm['porc'],df_lm['pwr'])"
   ]
  },
  {
   "cell_type": "code",
   "execution_count": null,
   "metadata": {
    "collapsed": true
   },
   "outputs": [],
   "source": [
    "df_lm_x = df_lm[['porc']]\n",
    "df_lm_y = df_lm[['pwr']]"
   ]
  },
  {
   "cell_type": "code",
   "execution_count": null,
   "metadata": {
    "collapsed": true
   },
   "outputs": [],
   "source": [
    "X_train, X_test, Y_train, Y_test = train_test_split(df_lm_x, df_lm_y, test_size=0.30, random_state=42)"
   ]
  },
  {
   "cell_type": "code",
   "execution_count": null,
   "metadata": {},
   "outputs": [],
   "source": [
    "X_train"
   ]
  },
  {
   "cell_type": "markdown",
   "metadata": {},
   "source": [
    "#### Robust Scaler"
   ]
  },
  {
   "cell_type": "markdown",
   "metadata": {
    "collapsed": true
   },
   "source": [
    "from sklearn.preprocessing import RobustScaler"
   ]
  },
  {
   "cell_type": "markdown",
   "metadata": {
    "collapsed": true
   },
   "source": [
    "model_rs = RobustScaler()"
   ]
  },
  {
   "cell_type": "markdown",
   "metadata": {
    "collapsed": true
   },
   "source": [
    "X_train_rs = model_rs.fit_transform(X_train)"
   ]
  },
  {
   "cell_type": "markdown",
   "metadata": {
    "collapsed": true
   },
   "source": [
    "X_test_rs = model_rs.transform(X_test)"
   ]
  },
  {
   "cell_type": "markdown",
   "metadata": {},
   "source": [
    "### Modelo Lineal"
   ]
  },
  {
   "cell_type": "code",
   "execution_count": null,
   "metadata": {
    "collapsed": true
   },
   "outputs": [],
   "source": [
    "from sklearn import linear_model\n",
    "regr = linear_model.LinearRegression(fit_intercept=True)\n",
    "regr.fit(X_train,Y_train)\n",
    "\n",
    "Y_pred = regr.predict(X_test)"
   ]
  },
  {
   "cell_type": "code",
   "execution_count": null,
   "metadata": {},
   "outputs": [],
   "source": [
    "print(metrics.mean_squared_error(Y_test,Y_pred))\n",
    "print(metrics.explained_variance_score(Y_test, Y_pred))"
   ]
  },
  {
   "cell_type": "code",
   "execution_count": null,
   "metadata": {},
   "outputs": [],
   "source": [
    "regr.coef_"
   ]
  },
  {
   "cell_type": "code",
   "execution_count": null,
   "metadata": {},
   "outputs": [],
   "source": [
    "regr.intercept_"
   ]
  },
  {
   "cell_type": "code",
   "execution_count": null,
   "metadata": {
    "scrolled": true
   },
   "outputs": [],
   "source": [
    "X_test"
   ]
  },
  {
   "cell_type": "code",
   "execution_count": null,
   "metadata": {},
   "outputs": [],
   "source": [
    "X_test['Y_poly'] = X_test['porc'].apply(lambda x: x*regr.coef_ + regr.intercept_)"
   ]
  },
  {
   "cell_type": "code",
   "execution_count": null,
   "metadata": {},
   "outputs": [],
   "source": [
    "X_test['Y_pred'] = Y_pred"
   ]
  },
  {
   "cell_type": "code",
   "execution_count": null,
   "metadata": {
    "scrolled": true
   },
   "outputs": [],
   "source": [
    "X_test"
   ]
  },
  {
   "cell_type": "code",
   "execution_count": null,
   "metadata": {},
   "outputs": [],
   "source": [
    "from sklearn.externals import joblib\n",
    "joblib.dump(regr, \"regr_porc_pwr.model\")"
   ]
  },
  {
   "cell_type": "code",
   "execution_count": null,
   "metadata": {
    "collapsed": true
   },
   "outputs": [],
   "source": []
  }
 ],
 "metadata": {
  "kernelspec": {
   "display_name": "Python 3",
   "language": "python",
   "name": "python3"
  },
  "language_info": {
   "codemirror_mode": {
    "name": "ipython",
    "version": 3
   },
   "file_extension": ".py",
   "mimetype": "text/x-python",
   "name": "python",
   "nbconvert_exporter": "python",
   "pygments_lexer": "ipython3",
   "version": "3.6.1"
  }
 },
 "nbformat": 4,
 "nbformat_minor": 2
}
