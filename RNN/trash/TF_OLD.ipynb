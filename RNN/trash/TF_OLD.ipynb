{
 "cells": [
  {
   "cell_type": "code",
<<<<<<< HEAD
   "execution_count": 1,
=======
<<<<<<< HEAD
   "execution_count": 1,
=======
   "execution_count": 24,
>>>>>>> d6223ed5eae16d6d7417ce1d7841c326abc5216c
>>>>>>> d563fd07b4c9c94d37c6a88c52c8d73d86ef344b
   "metadata": {},
   "outputs": [
    {
     "name": "stderr",
     "output_type": "stream",
     "text": [
<<<<<<< HEAD
      "C:\\Users\\eduardo.hernanz\\AppData\\Local\\Continuum\\Anaconda3\\lib\\site-packages\\h5py\\__init__.py:36: FutureWarning: Conversion of the second argument of issubdtype from `float` to `np.floating` is deprecated. In future, it will be treated as `np.float64 == np.dtype(float).type`.\n",
      "  from ._conv import register_converters as _register_converters\n",
      "Using TensorFlow backend.\n"
     ]
=======
      "Using TensorFlow backend.\n"
     ]
    },
    {
     "ename": "ModuleNotFoundError",
     "evalue": "No module named 'tensorflow'",
     "output_type": "error",
     "traceback": [
      "\u001b[1;31m---------------------------------------------------------------------------\u001b[0m",
      "\u001b[1;31mModuleNotFoundError\u001b[0m                       Traceback (most recent call last)",
      "\u001b[1;32m<ipython-input-1-76de6ed156e0>\u001b[0m in \u001b[0;36m<module>\u001b[1;34m()\u001b[0m\n\u001b[0;32m      1\u001b[0m \u001b[1;31m# example of training a final classification model\u001b[0m\u001b[1;33m\u001b[0m\u001b[1;33m\u001b[0m\u001b[0m\n\u001b[1;32m----> 2\u001b[1;33m \u001b[1;32mfrom\u001b[0m \u001b[0mkeras\u001b[0m\u001b[1;33m.\u001b[0m\u001b[0mmodels\u001b[0m \u001b[1;32mimport\u001b[0m \u001b[0mSequential\u001b[0m\u001b[1;33m\u001b[0m\u001b[0m\n\u001b[0m\u001b[0;32m      3\u001b[0m \u001b[1;32mfrom\u001b[0m \u001b[0mkeras\u001b[0m\u001b[1;33m.\u001b[0m\u001b[0mlayers\u001b[0m \u001b[1;32mimport\u001b[0m \u001b[0mDense\u001b[0m\u001b[1;33m\u001b[0m\u001b[0m\n\u001b[0;32m      4\u001b[0m \u001b[1;32mfrom\u001b[0m \u001b[0msklearn\u001b[0m\u001b[1;33m.\u001b[0m\u001b[0mdatasets\u001b[0m\u001b[1;33m.\u001b[0m\u001b[0msamples_generator\u001b[0m \u001b[1;32mimport\u001b[0m \u001b[0mmake_blobs\u001b[0m\u001b[1;33m\u001b[0m\u001b[0m\n\u001b[0;32m      5\u001b[0m \u001b[1;33m\u001b[0m\u001b[0m\n",
      "\u001b[1;32mC:\\Users\\David\\Anaconda3\\lib\\site-packages\\keras\\__init__.py\u001b[0m in \u001b[0;36m<module>\u001b[1;34m()\u001b[0m\n\u001b[0;32m      1\u001b[0m \u001b[1;32mfrom\u001b[0m \u001b[0m__future__\u001b[0m \u001b[1;32mimport\u001b[0m \u001b[0mabsolute_import\u001b[0m\u001b[1;33m\u001b[0m\u001b[0m\n\u001b[0;32m      2\u001b[0m \u001b[1;33m\u001b[0m\u001b[0m\n\u001b[1;32m----> 3\u001b[1;33m \u001b[1;32mfrom\u001b[0m \u001b[1;33m.\u001b[0m \u001b[1;32mimport\u001b[0m \u001b[0mutils\u001b[0m\u001b[1;33m\u001b[0m\u001b[0m\n\u001b[0m\u001b[0;32m      4\u001b[0m \u001b[1;32mfrom\u001b[0m \u001b[1;33m.\u001b[0m \u001b[1;32mimport\u001b[0m \u001b[0mactivations\u001b[0m\u001b[1;33m\u001b[0m\u001b[0m\n\u001b[0;32m      5\u001b[0m \u001b[1;32mfrom\u001b[0m \u001b[1;33m.\u001b[0m \u001b[1;32mimport\u001b[0m \u001b[0mapplications\u001b[0m\u001b[1;33m\u001b[0m\u001b[0m\n",
      "\u001b[1;32mC:\\Users\\David\\Anaconda3\\lib\\site-packages\\keras\\utils\\__init__.py\u001b[0m in \u001b[0;36m<module>\u001b[1;34m()\u001b[0m\n\u001b[0;32m      4\u001b[0m \u001b[1;32mfrom\u001b[0m \u001b[1;33m.\u001b[0m \u001b[1;32mimport\u001b[0m \u001b[0mdata_utils\u001b[0m\u001b[1;33m\u001b[0m\u001b[0m\n\u001b[0;32m      5\u001b[0m \u001b[1;32mfrom\u001b[0m \u001b[1;33m.\u001b[0m \u001b[1;32mimport\u001b[0m \u001b[0mio_utils\u001b[0m\u001b[1;33m\u001b[0m\u001b[0m\n\u001b[1;32m----> 6\u001b[1;33m \u001b[1;32mfrom\u001b[0m \u001b[1;33m.\u001b[0m \u001b[1;32mimport\u001b[0m \u001b[0mconv_utils\u001b[0m\u001b[1;33m\u001b[0m\u001b[0m\n\u001b[0m\u001b[0;32m      7\u001b[0m \u001b[1;33m\u001b[0m\u001b[0m\n\u001b[0;32m      8\u001b[0m \u001b[1;31m# Globally-importable utils.\u001b[0m\u001b[1;33m\u001b[0m\u001b[1;33m\u001b[0m\u001b[0m\n",
      "\u001b[1;32mC:\\Users\\David\\Anaconda3\\lib\\site-packages\\keras\\utils\\conv_utils.py\u001b[0m in \u001b[0;36m<module>\u001b[1;34m()\u001b[0m\n\u001b[0;32m      7\u001b[0m \u001b[1;32mfrom\u001b[0m \u001b[0msix\u001b[0m\u001b[1;33m.\u001b[0m\u001b[0mmoves\u001b[0m \u001b[1;32mimport\u001b[0m \u001b[0mrange\u001b[0m\u001b[1;33m\u001b[0m\u001b[0m\n\u001b[0;32m      8\u001b[0m \u001b[1;32mimport\u001b[0m \u001b[0mnumpy\u001b[0m \u001b[1;32mas\u001b[0m \u001b[0mnp\u001b[0m\u001b[1;33m\u001b[0m\u001b[0m\n\u001b[1;32m----> 9\u001b[1;33m \u001b[1;32mfrom\u001b[0m \u001b[1;33m.\u001b[0m\u001b[1;33m.\u001b[0m \u001b[1;32mimport\u001b[0m \u001b[0mbackend\u001b[0m \u001b[1;32mas\u001b[0m \u001b[0mK\u001b[0m\u001b[1;33m\u001b[0m\u001b[0m\n\u001b[0m\u001b[0;32m     10\u001b[0m \u001b[1;33m\u001b[0m\u001b[0m\n\u001b[0;32m     11\u001b[0m \u001b[1;33m\u001b[0m\u001b[0m\n",
      "\u001b[1;32mC:\\Users\\David\\Anaconda3\\lib\\site-packages\\keras\\backend\\__init__.py\u001b[0m in \u001b[0;36m<module>\u001b[1;34m()\u001b[0m\n\u001b[0;32m     82\u001b[0m \u001b[1;32melif\u001b[0m \u001b[0m_BACKEND\u001b[0m \u001b[1;33m==\u001b[0m \u001b[1;34m'tensorflow'\u001b[0m\u001b[1;33m:\u001b[0m\u001b[1;33m\u001b[0m\u001b[0m\n\u001b[0;32m     83\u001b[0m     \u001b[0msys\u001b[0m\u001b[1;33m.\u001b[0m\u001b[0mstderr\u001b[0m\u001b[1;33m.\u001b[0m\u001b[0mwrite\u001b[0m\u001b[1;33m(\u001b[0m\u001b[1;34m'Using TensorFlow backend.\\n'\u001b[0m\u001b[1;33m)\u001b[0m\u001b[1;33m\u001b[0m\u001b[0m\n\u001b[1;32m---> 84\u001b[1;33m     \u001b[1;32mfrom\u001b[0m \u001b[1;33m.\u001b[0m\u001b[0mtensorflow_backend\u001b[0m \u001b[1;32mimport\u001b[0m \u001b[1;33m*\u001b[0m\u001b[1;33m\u001b[0m\u001b[0m\n\u001b[0m\u001b[0;32m     85\u001b[0m \u001b[1;32melse\u001b[0m\u001b[1;33m:\u001b[0m\u001b[1;33m\u001b[0m\u001b[0m\n\u001b[0;32m     86\u001b[0m     \u001b[1;32mraise\u001b[0m \u001b[0mValueError\u001b[0m\u001b[1;33m(\u001b[0m\u001b[1;34m'Unknown backend: '\u001b[0m \u001b[1;33m+\u001b[0m \u001b[0mstr\u001b[0m\u001b[1;33m(\u001b[0m\u001b[0m_BACKEND\u001b[0m\u001b[1;33m)\u001b[0m\u001b[1;33m)\u001b[0m\u001b[1;33m\u001b[0m\u001b[0m\n",
      "\u001b[1;32mC:\\Users\\David\\Anaconda3\\lib\\site-packages\\keras\\backend\\tensorflow_backend.py\u001b[0m in \u001b[0;36m<module>\u001b[1;34m()\u001b[0m\n\u001b[0;32m      3\u001b[0m \u001b[1;32mfrom\u001b[0m \u001b[0m__future__\u001b[0m \u001b[1;32mimport\u001b[0m \u001b[0mprint_function\u001b[0m\u001b[1;33m\u001b[0m\u001b[0m\n\u001b[0;32m      4\u001b[0m \u001b[1;33m\u001b[0m\u001b[0m\n\u001b[1;32m----> 5\u001b[1;33m \u001b[1;32mimport\u001b[0m \u001b[0mtensorflow\u001b[0m \u001b[1;32mas\u001b[0m \u001b[0mtf\u001b[0m\u001b[1;33m\u001b[0m\u001b[0m\n\u001b[0m\u001b[0;32m      6\u001b[0m \u001b[1;32mfrom\u001b[0m \u001b[0mtensorflow\u001b[0m\u001b[1;33m.\u001b[0m\u001b[0mpython\u001b[0m\u001b[1;33m.\u001b[0m\u001b[0mtraining\u001b[0m \u001b[1;32mimport\u001b[0m \u001b[0mmoving_averages\u001b[0m\u001b[1;33m\u001b[0m\u001b[0m\n\u001b[0;32m      7\u001b[0m \u001b[1;32mfrom\u001b[0m \u001b[0mtensorflow\u001b[0m\u001b[1;33m.\u001b[0m\u001b[0mpython\u001b[0m\u001b[1;33m.\u001b[0m\u001b[0mops\u001b[0m \u001b[1;32mimport\u001b[0m \u001b[0mtensor_array_ops\u001b[0m\u001b[1;33m\u001b[0m\u001b[0m\n",
      "\u001b[1;31mModuleNotFoundError\u001b[0m: No module named 'tensorflow'"
     ]
>>>>>>> d563fd07b4c9c94d37c6a88c52c8d73d86ef344b
    }
   ],
   "source": [
    "# example of training a final classification model\n",
    "from keras.models import Sequential\n",
    "from keras.layers import Dense\n",
    "from sklearn.datasets.samples_generator import make_blobs\n",
    "\n",
    "from sklearn.preprocessing import MinMaxScaler\n",
    "from sklearn.preprocessing import StandardScaler\n",
    "from sklearn.preprocessing import RobustScaler\n",
    "\n",
    "from sklearn.model_selection import KFold\n",
    "from sklearn.model_selection import cross_val_score\n",
    "from sklearn.model_selection import train_test_split\n",
    "\n",
    "import pickle\n",
    "\n",
    "import numpy as np\n",
    "import pandas as pd"
   ]
  },
  {
   "cell_type": "code",
<<<<<<< HEAD
   "execution_count": 2,
=======
<<<<<<< HEAD
   "execution_count": 2,
   "metadata": {
    "collapsed": true
   },
=======
   "execution_count": 25,
>>>>>>> d563fd07b4c9c94d37c6a88c52c8d73d86ef344b
   "metadata": {},
>>>>>>> d6223ed5eae16d6d7417ce1d7841c326abc5216c
   "outputs": [],
   "source": [
    "path = '../Entrenamientos/Procesado_Tramos.xlsx'\n",
    "df = pd.read_excel(path)\n",
    "df = df[df[\"porc\"]!=np.inf]\n",
    "df[\"puntos_en_tramo\"]= df[\"tramo_final\"]-df[\"tramo_inicial\"]\n",
    "df = df[df[\"puntos_en_tramo\"]>9]\n",
    "\n",
    "df2 = df[[\"pwr\",\"porc\",\"viento_aparente\",\"spd\"]]\n",
    "\n",
    "dataset = df2.values"
   ]
  },
  {
   "cell_type": "code",
<<<<<<< HEAD
   "execution_count": 3,
=======
<<<<<<< HEAD
   "execution_count": 3,
   "metadata": {
    "collapsed": true
   },
=======
   "execution_count": 26,
>>>>>>> d563fd07b4c9c94d37c6a88c52c8d73d86ef344b
   "metadata": {},
>>>>>>> d6223ed5eae16d6d7417ce1d7841c326abc5216c
   "outputs": [],
   "source": [
    "# generate 2d classification dataset\n",
    "X = dataset[:,0:3]\n",
    "Y = dataset[:,3]"
   ]
  },
  {
   "cell_type": "code",
<<<<<<< HEAD
   "execution_count": 4,
=======
<<<<<<< HEAD
   "execution_count": 4,
   "metadata": {
    "collapsed": true
   },
=======
   "execution_count": 27,
>>>>>>> d563fd07b4c9c94d37c6a88c52c8d73d86ef344b
   "metadata": {},
>>>>>>> d6223ed5eae16d6d7417ce1d7841c326abc5216c
   "outputs": [],
   "source": [
    "X_train, X_test, Y_train, Y_test = train_test_split(X, Y, test_size=0.30, random_state=42)"
   ]
  },
  {
   "cell_type": "code",
<<<<<<< HEAD
   "execution_count": 5,
=======
<<<<<<< HEAD
   "execution_count": 5,
   "metadata": {
    "collapsed": true
   },
=======
   "execution_count": 28,
>>>>>>> d563fd07b4c9c94d37c6a88c52c8d73d86ef344b
   "metadata": {},
>>>>>>> d6223ed5eae16d6d7417ce1d7841c326abc5216c
   "outputs": [],
   "source": [
    "#standarScaler\n",
    "\n",
    "#scalarX, scalarY = MinMaxScaler(), MinMaxScaler()\n",
    "#scalarX, scalarY = StandardScaler(), StandardScaler()\n",
    "scalarX = RobustScaler()\n",
    "\n",
    "scalarX.fit(X_train)\n",
    "#scalarY.fit(Y.reshape(len(Y),1))\n",
    "X_scalar = scalarX.transform(X_train)"
   ]
  },
  {
   "cell_type": "code",
   "execution_count": 6,
   "metadata": {
    "scrolled": true
   },
   "outputs": [
    {
     "data": {
      "text/plain": [
       "<keras.callbacks.History at 0x2003161ff28>"
      ]
     },
     "execution_count": 6,
     "metadata": {},
     "output_type": "execute_result"
    }
   ],
   "source": [
    "#Probar por diferentes funciones de activacion y con regularizacion\n",
    "\n",
    "# define and fit the final model\n",
    "model = Sequential()\n",
    "model.add(Dense(4, input_dim=3, activation='relu'))\n",
    "\n",
    "model.add(Dense(60, activation='relu'))\n",
    "\n",
    "model.add(Dense(1, activation='linear'))\n",
    "model.compile(loss='mse', optimizer='adam')\n",
    "model.fit(X_scalar, Y_train, epochs=1000, verbose=0)"
   ]
  },
  {
   "cell_type": "code",
   "execution_count": 7,
   "metadata": {},
   "outputs": [],
   "source": [
    "Xnew = scalarX.transform(X_test)\n",
    "\n",
    "\n",
    "# make a prediction\n",
    "ynew = model.predict(Xnew)\n",
    "# show the inputs and predicted outputs\n",
    "#for i in range(len(Xnew)):\n",
    "#        print(\"X=%s, Predicted=%s\" % (Xnew[i], ynew[i]))\n"
   ]
  },
  {
   "cell_type": "code",
   "execution_count": 8,
   "metadata": {},
   "outputs": [
    {
     "data": {
      "text/html": [
       "<div>\n",
       "<style scoped>\n",
       "    .dataframe tbody tr th:only-of-type {\n",
       "        vertical-align: middle;\n",
       "    }\n",
       "\n",
       "    .dataframe tbody tr th {\n",
       "        vertical-align: top;\n",
       "    }\n",
       "\n",
       "    .dataframe thead th {\n",
       "        text-align: right;\n",
       "    }\n",
       "</style>\n",
       "<table border=\"1\" class=\"dataframe\">\n",
       "  <thead>\n",
       "    <tr style=\"text-align: right;\">\n",
       "      <th></th>\n",
       "      <th>pwr</th>\n",
       "      <th>porc</th>\n",
       "      <th>viento_aparente</th>\n",
       "      <th>spd</th>\n",
       "      <th>y_pred</th>\n",
       "      <th>diff</th>\n",
       "    </tr>\n",
       "  </thead>\n",
       "  <tbody>\n",
       "    <tr>\n",
       "      <th>0</th>\n",
       "      <td>123.212955</td>\n",
       "      <td>-3.276340</td>\n",
       "      <td>9.441216</td>\n",
       "      <td>46.958144</td>\n",
       "      <td>44.309322</td>\n",
       "      <td>2.648822</td>\n",
       "    </tr>\n",
       "    <tr>\n",
       "      <th>1</th>\n",
       "      <td>175.647415</td>\n",
       "      <td>-0.176732</td>\n",
       "      <td>12.344353</td>\n",
       "      <td>29.340000</td>\n",
       "      <td>35.174522</td>\n",
       "      <td>-5.834522</td>\n",
       "    </tr>\n",
       "    <tr>\n",
       "      <th>2</th>\n",
       "      <td>250.563280</td>\n",
       "      <td>3.182560</td>\n",
       "      <td>14.426188</td>\n",
       "      <td>22.531272</td>\n",
       "      <td>22.894600</td>\n",
       "      <td>-0.363328</td>\n",
       "    </tr>\n",
       "    <tr>\n",
       "      <th>3</th>\n",
       "      <td>158.678133</td>\n",
       "      <td>-0.319607</td>\n",
       "      <td>27.585842</td>\n",
       "      <td>42.441487</td>\n",
       "      <td>37.766361</td>\n",
       "      <td>4.675126</td>\n",
       "    </tr>\n",
       "    <tr>\n",
       "      <th>4</th>\n",
       "      <td>192.291888</td>\n",
       "      <td>-1.855114</td>\n",
       "      <td>12.731511</td>\n",
       "      <td>44.639300</td>\n",
       "      <td>42.898540</td>\n",
       "      <td>1.740759</td>\n",
       "    </tr>\n",
       "  </tbody>\n",
       "</table>\n",
       "</div>"
      ],
      "text/plain": [
       "          pwr      porc  viento_aparente        spd     y_pred      diff\n",
       "0  123.212955 -3.276340         9.441216  46.958144  44.309322  2.648822\n",
       "1  175.647415 -0.176732        12.344353  29.340000  35.174522 -5.834522\n",
       "2  250.563280  3.182560        14.426188  22.531272  22.894600 -0.363328\n",
       "3  158.678133 -0.319607        27.585842  42.441487  37.766361  4.675126\n",
       "4  192.291888 -1.855114        12.731511  44.639300  42.898540  1.740759"
      ]
     },
     "execution_count": 8,
     "metadata": {},
     "output_type": "execute_result"
    }
   ],
   "source": [
    "test_val = pd.DataFrame(X_test)\n",
    "test_val.columns = ([\"pwr\",\"porc\",\"viento_aparente\"])\n",
    "test_val[\"spd\"] = Y_test\n",
    "test_val[\"y_pred\"] = ynew\n",
    "test_val[\"diff\"] = test_val[\"spd\"]-test_val[\"y_pred\"]\n",
    "test_val.head()"
   ]
  },
  {
   "cell_type": "code",
   "execution_count": 9,
   "metadata": {
    "scrolled": true
   },
   "outputs": [
    {
     "name": "stdout",
     "output_type": "stream",
     "text": [
      "Predicciones:\n",
      "31.698055267333984\n",
      "52.844246\n",
      "15.70142\n",
      "Diferencias:\n",
      "0.11680865494288184\n",
      "17.56388863871927\n",
      "-30.89576904721135\n"
     ]
    }
   ],
   "source": [
    "print(\"Predicciones:\")\n",
    "print(test_val[\"y_pred\"].mean())\n",
    "print(test_val[\"y_pred\"].max())\n",
    "print(test_val[\"y_pred\"].min())\n",
    "\n",
    "print(\"Diferencias:\")\n",
    "print(test_val[\"diff\"].mean())\n",
    "print(test_val[\"diff\"].max())\n",
    "print(test_val[\"diff\"].min())"
   ]
  },
  {
   "cell_type": "code",
   "execution_count": 10,
   "metadata": {
    "scrolled": true
   },
   "outputs": [
    {
     "data": {
      "text/html": [
       "<div>\n",
       "<style scoped>\n",
       "    .dataframe tbody tr th:only-of-type {\n",
       "        vertical-align: middle;\n",
       "    }\n",
       "\n",
       "    .dataframe tbody tr th {\n",
       "        vertical-align: top;\n",
       "    }\n",
       "\n",
       "    .dataframe thead th {\n",
       "        text-align: right;\n",
       "    }\n",
       "</style>\n",
       "<table border=\"1\" class=\"dataframe\">\n",
       "  <thead>\n",
       "    <tr style=\"text-align: right;\">\n",
       "      <th></th>\n",
       "      <th>pwr</th>\n",
       "      <th>porc</th>\n",
       "      <th>viento_aparente</th>\n",
       "      <th>spd</th>\n",
       "      <th>y_pred</th>\n",
       "      <th>diff</th>\n",
       "    </tr>\n",
       "  </thead>\n",
       "  <tbody>\n",
       "    <tr>\n",
       "      <th>17</th>\n",
       "      <td>43.281740</td>\n",
       "      <td>-4.173012</td>\n",
       "      <td>14.445208</td>\n",
       "      <td>61.576779</td>\n",
       "      <td>44.012890</td>\n",
       "      <td>17.563889</td>\n",
       "    </tr>\n",
       "    <tr>\n",
       "      <th>19</th>\n",
       "      <td>273.818741</td>\n",
       "      <td>0.380592</td>\n",
       "      <td>-26.653750</td>\n",
       "      <td>14.918925</td>\n",
       "      <td>28.923300</td>\n",
       "      <td>-14.004375</td>\n",
       "    </tr>\n",
       "    <tr>\n",
       "      <th>36</th>\n",
       "      <td>122.686452</td>\n",
       "      <td>-0.670212</td>\n",
       "      <td>14.831182</td>\n",
       "      <td>2.375887</td>\n",
       "      <td>33.271656</td>\n",
       "      <td>-30.895769</td>\n",
       "    </tr>\n",
       "    <tr>\n",
       "      <th>40</th>\n",
       "      <td>172.756128</td>\n",
       "      <td>-1.364789</td>\n",
       "      <td>14.295410</td>\n",
       "      <td>48.304318</td>\n",
       "      <td>39.716469</td>\n",
       "      <td>8.587850</td>\n",
       "    </tr>\n",
       "    <tr>\n",
       "      <th>59</th>\n",
       "      <td>220.011123</td>\n",
       "      <td>-1.406858</td>\n",
       "      <td>4.903130</td>\n",
       "      <td>24.042467</td>\n",
       "      <td>40.733551</td>\n",
       "      <td>-16.691084</td>\n",
       "    </tr>\n",
       "    <tr>\n",
       "      <th>75</th>\n",
       "      <td>29.602529</td>\n",
       "      <td>-6.597866</td>\n",
       "      <td>14.398382</td>\n",
       "      <td>69.830249</td>\n",
       "      <td>52.844246</td>\n",
       "      <td>16.986003</td>\n",
       "    </tr>\n",
       "    <tr>\n",
       "      <th>86</th>\n",
       "      <td>52.584995</td>\n",
       "      <td>-2.298785</td>\n",
       "      <td>5.659875</td>\n",
       "      <td>20.482496</td>\n",
       "      <td>34.817154</td>\n",
       "      <td>-14.334658</td>\n",
       "    </tr>\n",
       "    <tr>\n",
       "      <th>95</th>\n",
       "      <td>157.716371</td>\n",
       "      <td>0.371855</td>\n",
       "      <td>-10.881710</td>\n",
       "      <td>35.510085</td>\n",
       "      <td>26.838627</td>\n",
       "      <td>8.671458</td>\n",
       "    </tr>\n",
       "    <tr>\n",
       "      <th>102</th>\n",
       "      <td>152.194473</td>\n",
       "      <td>-3.029458</td>\n",
       "      <td>-4.324675</td>\n",
       "      <td>22.892224</td>\n",
       "      <td>41.684357</td>\n",
       "      <td>-18.792133</td>\n",
       "    </tr>\n",
       "    <tr>\n",
       "      <th>105</th>\n",
       "      <td>223.945818</td>\n",
       "      <td>1.835691</td>\n",
       "      <td>20.569671</td>\n",
       "      <td>18.824834</td>\n",
       "      <td>29.747837</td>\n",
       "      <td>-10.923003</td>\n",
       "    </tr>\n",
       "    <tr>\n",
       "      <th>110</th>\n",
       "      <td>38.010882</td>\n",
       "      <td>-1.649214</td>\n",
       "      <td>11.187904</td>\n",
       "      <td>14.647389</td>\n",
       "      <td>32.387779</td>\n",
       "      <td>-17.740390</td>\n",
       "    </tr>\n",
       "    <tr>\n",
       "      <th>126</th>\n",
       "      <td>26.601503</td>\n",
       "      <td>-4.233544</td>\n",
       "      <td>-8.616799</td>\n",
       "      <td>49.372714</td>\n",
       "      <td>39.942574</td>\n",
       "      <td>9.430141</td>\n",
       "    </tr>\n",
       "    <tr>\n",
       "      <th>141</th>\n",
       "      <td>71.198038</td>\n",
       "      <td>-3.671176</td>\n",
       "      <td>7.382884</td>\n",
       "      <td>52.835354</td>\n",
       "      <td>42.592045</td>\n",
       "      <td>10.243309</td>\n",
       "    </tr>\n",
       "    <tr>\n",
       "      <th>207</th>\n",
       "      <td>128.945703</td>\n",
       "      <td>-1.417610</td>\n",
       "      <td>23.975451</td>\n",
       "      <td>46.706414</td>\n",
       "      <td>38.380394</td>\n",
       "      <td>8.326020</td>\n",
       "    </tr>\n",
       "    <tr>\n",
       "      <th>218</th>\n",
       "      <td>142.531789</td>\n",
       "      <td>2.376304</td>\n",
       "      <td>-0.515299</td>\n",
       "      <td>28.955195</td>\n",
       "      <td>16.763561</td>\n",
       "      <td>12.191634</td>\n",
       "    </tr>\n",
       "  </tbody>\n",
       "</table>\n",
       "</div>"
      ],
      "text/plain": [
       "            pwr      porc  viento_aparente        spd     y_pred       diff\n",
       "17    43.281740 -4.173012        14.445208  61.576779  44.012890  17.563889\n",
       "19   273.818741  0.380592       -26.653750  14.918925  28.923300 -14.004375\n",
       "36   122.686452 -0.670212        14.831182   2.375887  33.271656 -30.895769\n",
       "40   172.756128 -1.364789        14.295410  48.304318  39.716469   8.587850\n",
       "59   220.011123 -1.406858         4.903130  24.042467  40.733551 -16.691084\n",
       "75    29.602529 -6.597866        14.398382  69.830249  52.844246  16.986003\n",
       "86    52.584995 -2.298785         5.659875  20.482496  34.817154 -14.334658\n",
       "95   157.716371  0.371855       -10.881710  35.510085  26.838627   8.671458\n",
       "102  152.194473 -3.029458        -4.324675  22.892224  41.684357 -18.792133\n",
       "105  223.945818  1.835691        20.569671  18.824834  29.747837 -10.923003\n",
       "110   38.010882 -1.649214        11.187904  14.647389  32.387779 -17.740390\n",
       "126   26.601503 -4.233544        -8.616799  49.372714  39.942574   9.430141\n",
       "141   71.198038 -3.671176         7.382884  52.835354  42.592045  10.243309\n",
       "207  128.945703 -1.417610        23.975451  46.706414  38.380394   8.326020\n",
       "218  142.531789  2.376304        -0.515299  28.955195  16.763561  12.191634"
      ]
     },
     "execution_count": 10,
     "metadata": {},
     "output_type": "execute_result"
    }
   ],
   "source": [
    "test_val[(test_val[\"diff\"]>8) | (test_val[\"diff\"]<-10)]"
   ]
  },
  {
   "cell_type": "code",
   "execution_count": 11,
   "metadata": {},
   "outputs": [
    {
     "data": {
      "text/plain": [
       "232"
      ]
     },
     "execution_count": 11,
     "metadata": {},
     "output_type": "execute_result"
    }
   ],
   "source": [
    "len(test_val)"
   ]
  },
  {
   "cell_type": "code",
<<<<<<< HEAD
   "execution_count": 12,
=======
<<<<<<< HEAD
   "execution_count": 23,
   "metadata": {
    "collapsed": true
   },
=======
   "execution_count": 35,
>>>>>>> d563fd07b4c9c94d37c6a88c52c8d73d86ef344b
   "metadata": {},
>>>>>>> d6223ed5eae16d6d7417ce1d7841c326abc5216c
   "outputs": [],
   "source": [
    "pickle.dump(scalarX, open(\"Scaler.model\", 'wb'))\n",
    "\n",
    "\n",
    "model.save(\"TF_Tramos_2.model\")\n",
    "#Para cargar el modelo\n",
    "#https://keras.io/getting-started/faq/#how-can-i-save-a-keras-model"
   ]
  },
  {
   "cell_type": "code",
   "execution_count": null,
   "metadata": {},
   "outputs": [],
   "source": []
  }
 ],
 "metadata": {
  "kernelspec": {
   "display_name": "Python 3",
   "language": "python",
   "name": "python3"
  },
  "language_info": {
   "codemirror_mode": {
    "name": "ipython",
    "version": 3
   },
   "file_extension": ".py",
   "mimetype": "text/x-python",
   "name": "python",
   "nbconvert_exporter": "python",
   "pygments_lexer": "ipython3",
   "version": "3.6.1"
  }
 },
 "nbformat": 4,
 "nbformat_minor": 2
}
