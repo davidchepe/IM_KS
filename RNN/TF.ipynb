{
 "cells": [
  {
   "cell_type": "code",
   "execution_count": 14,
   "metadata": {},
   "outputs": [],
   "source": [
    "# example of training a final classification model\n",
    "from keras.models import Sequential\n",
    "from keras.layers import Dense\n",
    "from sklearn.datasets.samples_generator import make_blobs\n",
    "\n",
    "from sklearn.preprocessing import MinMaxScaler\n",
    "from sklearn.preprocessing import StandardScaler\n",
    "from sklearn.preprocessing import RobustScaler\n",
    "\n",
    "from sklearn.model_selection import KFold\n",
    "from sklearn.model_selection import cross_val_score\n",
    "from sklearn.model_selection import train_test_split\n",
    "\n",
    "import pickle\n",
    "\n",
    "import numpy as np\n",
    "import pandas as pd"
   ]
  },
  {
   "cell_type": "code",
   "execution_count": 2,
   "metadata": {},
   "outputs": [],
   "source": [
    "path = '../Entrenamientos/Procesado_Tramos.xlsx'\n",
    "df = pd.read_excel(path)\n",
    "df = df[df[\"porc\"]!=np.inf]\n",
    "df[\"puntos_en_tramo\"]= df[\"tramo_final\"]-df[\"tramo_inicial\"]\n",
    "df = df[df[\"puntos_en_tramo\"]>9]\n",
    "\n",
    "df2 = df[[\"pwr\",\"porc\",\"viento_aparente\",\"spd\"]]\n",
    "\n",
    "dataset = df2.values"
   ]
  },
  {
   "cell_type": "code",
   "execution_count": 3,
   "metadata": {},
   "outputs": [],
   "source": [
    "# generate 2d classification dataset\n",
    "X = dataset[:,0:3]\n",
    "Y = dataset[:,3]"
   ]
  },
  {
   "cell_type": "code",
   "execution_count": 4,
   "metadata": {},
   "outputs": [],
   "source": [
    "X_train, X_test, Y_train, Y_test = train_test_split(X, Y, test_size=0.30, random_state=42)"
   ]
  },
  {
   "cell_type": "code",
   "execution_count": 5,
   "metadata": {},
   "outputs": [],
   "source": [
    "#standarScaler\n",
    "\n",
    "#scalarX, scalarY = MinMaxScaler(), MinMaxScaler()\n",
    "#scalarX, scalarY = StandardScaler(), StandardScaler()\n",
    "scalarX, scalarY = RobustScaler(), RobustScaler()\n",
    "\n",
    "scalarX.fit(X)\n",
    "#scalarY.fit(Y.reshape(len(Y),1))\n",
    "X = scalarX.transform(X)"
   ]
  },
  {
   "cell_type": "code",
   "execution_count": 6,
   "metadata": {
    "scrolled": true
   },
   "outputs": [
    {
     "data": {
      "text/plain": [
       "<keras.callbacks.History at 0x1ee208c5208>"
      ]
     },
     "execution_count": 6,
     "metadata": {},
     "output_type": "execute_result"
    }
   ],
   "source": [
    "#Probar por diferentes funciones de activacion y con regularizacion\n",
    "\n",
    "# define and fit the final model\n",
    "model = Sequential()\n",
    "model.add(Dense(4, input_dim=3, activation='relu'))\n",
    "\n",
    "model.add(Dense(60, activation='relu'))\n",
    "\n",
    "model.add(Dense(1, activation='linear'))\n",
    "model.compile(loss='mse', optimizer='adam')\n",
    "model.fit(X, Y, epochs=1000, verbose=0)"
   ]
  },
  {
   "cell_type": "code",
   "execution_count": 7,
   "metadata": {},
   "outputs": [
    {
     "name": "stdout",
     "output_type": "stream",
     "text": [
      "X=[-0.30660975 -1.00795275  0.01751247], Predicted=[46.596592]\n",
      "X=[0.09026737 0.39460717 0.12175835], Predicted=[26.343288]\n",
      "X=[ 0.85388585  0.65633681 -0.02679492], Predicted=[25.379795]\n",
      "X=[ 0.56968894  0.32276831 -0.50364034], Predicted=[28.239838]\n",
      "X=[0.4338394  0.35518791 0.55186448], Predicted=[30.526205]\n",
      "X=[-0.07442161 -0.08541085  1.53711416], Predicted=[33.70247]\n",
      "X=[-0.22714284 -0.1213728   0.43658106], Predicted=[34.41341]\n",
      "X=[ 0.61379527  0.55302236 -1.12726495], Predicted=[28.393986]\n",
      "X=[-0.47421712 -1.00428001  0.481916  ], Predicted=[46.81461]\n",
      "X=[-0.02334338 -0.13279544  0.43534838], Predicted=[35.649094]\n",
      "X=[ 0.41908224 -0.31466816  0.38679217], Predicted=[40.707645]\n",
      "X=[-1.32059448 -1.76724194 -0.30372868], Predicted=[48.018646]\n",
      "X=[-0.71269817 -0.58478372 -0.53044285], Predicted=[35.272682]\n",
      "X=[0.26215717 0.35668735 0.44173137], Predicted=[29.162987]\n",
      "X=[ 0.66934475  0.95696698 -0.02209967], Predicted=[20.429722]\n",
      "X=[-0.08920702 -0.15722822 -0.51039003], Predicted=[31.776154]\n",
      "X=[ 0.76076661  1.14121671 -0.32387645], Predicted=[19.459991]\n",
      "X=[-0.45552277 -0.04212121  0.53402967], Predicted=[30.192863]\n",
      "X=[-0.16387072  0.19275148 -0.62327933], Predicted=[25.894943]\n",
      "X=[-0.74551037 -0.54157424  0.0011266 ], Predicted=[35.931225]\n",
      "X=[ 0.65392222  0.9525321  -0.3961965 ], Predicted=[20.62555]\n",
      "X=[ 0.78642517  0.81038162 -0.03667937], Predicted=[23.058567]\n",
      "X=[ 0.89356572  0.21807196 -1.21240484], Predicted=[35.12563]\n",
      "X=[0.44042036 1.7613404  0.43092223], Predicted=[12.733324]\n",
      "X=[-0.00305429  0.39206447  1.18354284], Predicted=[25.918869]\n",
      "X=[-0.16543529 -0.29379276 -0.6460504 ], Predicted=[33.40588]\n",
      "X=[0.69575566 0.74683137 0.6863815 ], Predicted=[26.03712]\n",
      "X=[-0.31065301  0.03795492  0.6144133 ], Predicted=[30.551603]\n",
      "X=[-0.42693766 -0.1574646  -0.4542552 ], Predicted=[30.322727]\n",
      "X=[ 0.38384914  0.42967851 -0.46092097], Predicted=[25.249609]\n",
      "X=[0.64404669 0.75665131 1.41788577], Predicted=[26.435997]\n",
      "X=[ 0.01608387  0.86149949 -0.33592249], Predicted=[16.314074]\n",
      "X=[0.34737487 0.47037242 1.53854111], Predicted=[28.255152]\n",
      "X=[0.75375731 1.24397824 0.55831918], Predicted=[19.25512]\n",
      "X=[0.48759777 1.64222189 1.13320957], Predicted=[15.066055]\n",
      "X=[0.14659377 0.12733361 0.94049675], Predicted=[34.344913]\n",
      "X=[ 0.37816885  0.49908807 -1.26923214], Predicted=[27.284264]\n",
      "X=[-0.38009516 -0.20394118  0.17630666], Predicted=[33.887817]\n",
      "X=[ 0.06398044 -0.02998216  1.36519094], Predicted=[35.2186]\n",
      "X=[-1.17226988 -1.42447334  1.08946629], Predicted=[47.486076]\n",
      "X=[-1.38253537 -1.43233069  0.18861694], Predicted=[44.214825]\n",
      "X=[-0.14994527 -0.44910895 -0.54261095], Predicted=[36.13406]\n",
      "X=[0.56252676 0.16680662 1.49311753], Predicted=[37.76512]\n",
      "X=[ 0.61288834  1.14969593 -0.33376667], Predicted=[17.88581]\n",
      "X=[-0.63203488 -0.34304607 -1.27571043], Predicted=[33.35429]\n",
      "X=[0.74448068 1.51021436 0.07232577], Predicted=[15.198612]\n",
      "X=[-0.4226174  -0.59319455  0.22584002], Predicted=[39.93014]\n",
      "X=[-0.70645829 -0.19829008 -0.16370646], Predicted=[30.285309]\n",
      "X=[-0.34138419 -0.44134761 -0.60154373], Predicted=[34.796974]\n",
      "X=[0.55776159 0.3515443  0.05160951], Predicted=[29.076103]\n",
      "X=[ 0.24381072 -0.13695766 -0.39554418], Predicted=[33.58967]\n",
      "X=[ 0.13055539  0.28331494 -0.46407241], Predicted=[25.8572]\n",
      "X=[-0.84358931 -0.17953176  0.45010534], Predicted=[27.107395]\n",
      "X=[0.7062956  0.4697091  0.32623982], Predicted=[29.076046]\n",
      "X=[0.46020551 0.66148922 1.46023294], Predicted=[25.884132]\n",
      "X=[0.37594309 1.93203222 0.41787935], Predicted=[12.276138]\n",
      "X=[0.6424672  2.1227238  0.23404865], Predicted=[11.706385]\n",
      "X=[ 0.05989862  0.72144017 -0.49365992], Predicted=[18.803173]\n",
      "X=[-0.74706036  0.74601454  0.        ], Predicted=[14.821535]\n",
      "X=[ 0.67824321  0.22990491 -0.54861536], Predicted=[30.522226]\n",
      "X=[-0.45113801 -0.02205395 -0.23090903], Predicted=[28.902122]\n",
      "X=[0.38123819 0.5336149  0.58865024], Predicted=[27.492086]\n",
      "X=[0.74967143 0.50791312 0.11623963], Predicted=[27.735348]\n",
      "X=[-0.77127588 -0.49044222 -0.4089842 ], Predicted=[33.77856]\n",
      "X=[-1.13239169 -0.82170138  1.18594764], Predicted=[35.93788]\n"
     ]
    }
   ],
   "source": [
    "Xnew = scalarX.transform(X_test)\n",
    "\n",
    "\n",
    "# make a prediction\n",
    "ynew = model.predict(Xnew)\n",
    "# show the inputs and predicted outputs\n",
    "for i in range(len(Xnew)):\n",
    "        print(\"X=%s, Predicted=%s\" % (Xnew[i], ynew[i]))\n"
   ]
  },
  {
   "cell_type": "code",
   "execution_count": 8,
   "metadata": {},
   "outputs": [
    {
     "data": {
      "text/html": [
       "<div>\n",
       "<style scoped>\n",
       "    .dataframe tbody tr th:only-of-type {\n",
       "        vertical-align: middle;\n",
       "    }\n",
       "\n",
       "    .dataframe tbody tr th {\n",
       "        vertical-align: top;\n",
       "    }\n",
       "\n",
       "    .dataframe thead th {\n",
       "        text-align: right;\n",
       "    }\n",
       "</style>\n",
       "<table border=\"1\" class=\"dataframe\">\n",
       "  <thead>\n",
       "    <tr style=\"text-align: right;\">\n",
       "      <th></th>\n",
       "      <th>pwr</th>\n",
       "      <th>porc</th>\n",
       "      <th>viento_aparente</th>\n",
       "      <th>spd</th>\n",
       "      <th>y_pred</th>\n",
       "      <th>diff</th>\n",
       "    </tr>\n",
       "  </thead>\n",
       "  <tbody>\n",
       "    <tr>\n",
       "      <th>0</th>\n",
       "      <td>142.463180</td>\n",
       "      <td>-3.837103</td>\n",
       "      <td>-0.867769</td>\n",
       "      <td>42.144151</td>\n",
       "      <td>46.596592</td>\n",
       "      <td>-4.452441</td>\n",
       "    </tr>\n",
       "    <tr>\n",
       "      <th>1</th>\n",
       "      <td>184.873741</td>\n",
       "      <td>1.079441</td>\n",
       "      <td>0.761328</td>\n",
       "      <td>26.432877</td>\n",
       "      <td>26.343288</td>\n",
       "      <td>0.089588</td>\n",
       "    </tr>\n",
       "    <tr>\n",
       "      <th>2</th>\n",
       "      <td>266.474534</td>\n",
       "      <td>1.996910</td>\n",
       "      <td>-1.560181</td>\n",
       "      <td>28.776319</td>\n",
       "      <td>25.379795</td>\n",
       "      <td>3.396524</td>\n",
       "    </tr>\n",
       "    <tr>\n",
       "      <th>3</th>\n",
       "      <td>236.105059</td>\n",
       "      <td>0.827617</td>\n",
       "      <td>-9.012058</td>\n",
       "      <td>31.143334</td>\n",
       "      <td>28.239838</td>\n",
       "      <td>2.903496</td>\n",
       "    </tr>\n",
       "    <tr>\n",
       "      <th>4</th>\n",
       "      <td>221.588084</td>\n",
       "      <td>0.941261</td>\n",
       "      <td>7.482789</td>\n",
       "      <td>26.676923</td>\n",
       "      <td>30.526205</td>\n",
       "      <td>-3.849282</td>\n",
       "    </tr>\n",
       "  </tbody>\n",
       "</table>\n",
       "</div>"
      ],
      "text/plain": [
       "          pwr      porc  viento_aparente        spd     y_pred      diff\n",
       "0  142.463180 -3.837103        -0.867769  42.144151  46.596592 -4.452441\n",
       "1  184.873741  1.079441         0.761328  26.432877  26.343288  0.089588\n",
       "2  266.474534  1.996910        -1.560181  28.776319  25.379795  3.396524\n",
       "3  236.105059  0.827617        -9.012058  31.143334  28.239838  2.903496\n",
       "4  221.588084  0.941261         7.482789  26.676923  30.526205 -3.849282"
      ]
     },
     "execution_count": 8,
     "metadata": {},
     "output_type": "execute_result"
    }
   ],
   "source": [
    "test_val = pd.DataFrame(X_test)\n",
    "test_val.columns = ([\"pwr\",\"porc\",\"viento_aparente\"])\n",
    "test_val[\"spd\"] = Y_test\n",
    "test_val[\"y_pred\"] = ynew\n",
    "test_val[\"diff\"] = test_val[\"spd\"]-test_val[\"y_pred\"]\n",
    "test_val.head()"
   ]
  },
  {
   "cell_type": "code",
   "execution_count": 9,
   "metadata": {
    "scrolled": true
   },
   "outputs": [
    {
     "name": "stdout",
     "output_type": "stream",
     "text": [
      "Predicciones:\n",
      "29.255605697631836\n",
      "48.018646\n",
      "11.706385\n",
      "Diferencias:\n",
      "0.025786558614786268\n",
      "9.61514143493816\n",
      "-16.665178560875145\n"
     ]
    }
   ],
   "source": [
    "print(\"Predicciones:\")\n",
    "print(test_val[\"y_pred\"].mean())\n",
    "print(test_val[\"y_pred\"].max())\n",
    "print(test_val[\"y_pred\"].min())\n",
    "\n",
    "print(\"Diferencias:\")\n",
    "print(test_val[\"diff\"].mean())\n",
    "print(test_val[\"diff\"].max())\n",
    "print(test_val[\"diff\"].min())"
   ]
  },
  {
   "cell_type": "code",
   "execution_count": 10,
   "metadata": {},
   "outputs": [
    {
     "data": {
      "text/html": [
       "<div>\n",
       "<style scoped>\n",
       "    .dataframe tbody tr th:only-of-type {\n",
       "        vertical-align: middle;\n",
       "    }\n",
       "\n",
       "    .dataframe tbody tr th {\n",
       "        vertical-align: top;\n",
       "    }\n",
       "\n",
       "    .dataframe thead th {\n",
       "        text-align: right;\n",
       "    }\n",
       "</style>\n",
       "<table border=\"1\" class=\"dataframe\">\n",
       "  <thead>\n",
       "    <tr style=\"text-align: right;\">\n",
       "      <th></th>\n",
       "      <th>pwr</th>\n",
       "      <th>porc</th>\n",
       "      <th>viento_aparente</th>\n",
       "      <th>spd</th>\n",
       "      <th>y_pred</th>\n",
       "      <th>diff</th>\n",
       "    </tr>\n",
       "  </thead>\n",
       "  <tbody>\n",
       "    <tr>\n",
       "      <th>10</th>\n",
       "      <td>220.011123</td>\n",
       "      <td>-1.406858</td>\n",
       "      <td>4.903130</td>\n",
       "      <td>24.042467</td>\n",
       "      <td>40.707645</td>\n",
       "      <td>-16.665179</td>\n",
       "    </tr>\n",
       "    <tr>\n",
       "      <th>11</th>\n",
       "      <td>34.108079</td>\n",
       "      <td>-6.498721</td>\n",
       "      <td>-5.887949</td>\n",
       "      <td>35.093972</td>\n",
       "      <td>48.018646</td>\n",
       "      <td>-12.924674</td>\n",
       "    </tr>\n",
       "    <tr>\n",
       "      <th>18</th>\n",
       "      <td>157.716371</td>\n",
       "      <td>0.371855</td>\n",
       "      <td>-10.881710</td>\n",
       "      <td>35.510085</td>\n",
       "      <td>25.894943</td>\n",
       "      <td>9.615141</td>\n",
       "    </tr>\n",
       "    <tr>\n",
       "      <th>58</th>\n",
       "      <td>95.396327</td>\n",
       "      <td>2.311267</td>\n",
       "      <td>-1.141445</td>\n",
       "      <td>1.718992</td>\n",
       "      <td>14.821535</td>\n",
       "      <td>-13.102544</td>\n",
       "    </tr>\n",
       "  </tbody>\n",
       "</table>\n",
       "</div>"
      ],
      "text/plain": [
       "           pwr      porc  viento_aparente        spd     y_pred       diff\n",
       "10  220.011123 -1.406858         4.903130  24.042467  40.707645 -16.665179\n",
       "11   34.108079 -6.498721        -5.887949  35.093972  48.018646 -12.924674\n",
       "18  157.716371  0.371855       -10.881710  35.510085  25.894943   9.615141\n",
       "58   95.396327  2.311267        -1.141445   1.718992  14.821535 -13.102544"
      ]
     },
     "execution_count": 10,
     "metadata": {},
     "output_type": "execute_result"
    }
   ],
   "source": [
    "test_val[(test_val[\"diff\"]>8) | (test_val[\"diff\"]<-10)]"
   ]
  },
  {
   "cell_type": "code",
   "execution_count": 11,
   "metadata": {},
   "outputs": [
    {
     "data": {
      "text/plain": [
       "65"
      ]
     },
     "execution_count": 11,
     "metadata": {},
     "output_type": "execute_result"
    }
   ],
   "source": [
    "len(test_val)"
   ]
  },
  {
   "cell_type": "code",
   "execution_count": 23,
   "metadata": {},
   "outputs": [],
   "source": [
    "pickle.dump(scalarX, open(\"Scaler.model\", 'wb'))\n",
    "\n",
    "\n",
    "model.save(\"TF_Tramos_2.model\")\n",
    "#Para cargar el modelo\n",
    "#https://keras.io/getting-started/faq/#how-can-i-save-a-keras-model"
   ]
  }
 ],
 "metadata": {
  "kernelspec": {
   "display_name": "Python 3",
   "language": "python",
   "name": "python3"
  },
  "language_info": {
   "codemirror_mode": {
    "name": "ipython",
    "version": 3
   },
   "file_extension": ".py",
   "mimetype": "text/x-python",
   "name": "python",
   "nbconvert_exporter": "python",
   "pygments_lexer": "ipython3",
   "version": "3.6.5"
  }
 },
 "nbformat": 4,
 "nbformat_minor": 2
}
