{
 "cells": [
  {
   "cell_type": "markdown",
   "metadata": {},
   "source": [
    "### BLOQUE DE IMPORT DE PAQUETES"
   ]
  },
  {
   "cell_type": "markdown",
   "metadata": {},
   "source": [
    "### Paquetes necesarios\n",
    "#### pip install tensorflow\n",
    "#### pip install keras"
   ]
  },
  {
   "cell_type": "code",
   "execution_count": 1,
   "metadata": {},
   "outputs": [
    {
     "name": "stderr",
     "output_type": "stream",
     "text": [
      "C:\\Users\\eduardo.hernanz\\AppData\\Local\\Continuum\\Anaconda3\\lib\\site-packages\\h5py\\__init__.py:36: FutureWarning: Conversion of the second argument of issubdtype from `float` to `np.floating` is deprecated. In future, it will be treated as `np.float64 == np.dtype(float).type`.\n",
      "  from ._conv import register_converters as _register_converters\n",
      "Using TensorFlow backend.\n"
     ]
    }
   ],
   "source": [
    "from keras.models import Sequential\n",
    "from keras.layers import Dense\n",
    "\n",
    "from sklearn.preprocessing import RobustScaler\n",
    "\n",
    "import pickle\n",
    "\n",
    "import datetime\n",
    "\n",
    "import numpy as np\n",
    "import pandas as pd\n",
    "\n",
    "import matplotlib.pylab as plt\n",
    "%matplotlib inline\n",
    "plt.style.use('seaborn')"
   ]
  },
  {
   "cell_type": "markdown",
   "metadata": {},
   "source": [
    "### Filtramos datos: \n",
    "Pendientes <> inf\n",
    "\n",
    "Como usamos entrenamientos amateurs y las mediciones están hechas con relojes (que tienen cierto grado de imprecisión), filtramos para tener datos más estables y que el modelo generalice mejor\n",
    "\n",
    "Tramos cortos: > que 10 puntos\n",
    "\n",
    "Velocidades bajas: > 5 km/h\n",
    "\n"
   ]
  },
  {
   "cell_type": "code",
   "execution_count": 2,
   "metadata": {},
   "outputs": [],
   "source": [
    "#Cargamos el fichero que contiene todas las pruebas procesadas\n",
    "path = '../Entrenamientos/Procesado_Tramos.xlsx'\n",
    "df = pd.read_excel(path)\n",
    "df = df[df[\"porc\"]!=np.inf]\n",
    "df[\"puntos_en_tramo\"]= df[\"tramo_final\"]-df[\"tramo_inicial\"]\n",
    "df = df[df[\"puntos_en_tramo\"]>10]\n",
    "df = df[df[\"spd\"]>5]\n",
    "\n",
    "#Ya tenemos el dataframe filtrado"
   ]
  },
  {
   "cell_type": "markdown",
   "metadata": {},
   "source": [
    "### Para hacer train-test tradicional\n",
    "\n",
    "Lo mantenemos en el código porque puede ser usado para validar el modelo de forma generalizada. En primer lugar tomábamos datos de todos los entrenamientos y validábamos también con datos procedentes de cualquier entrenamiento"
   ]
  },
  {
   "cell_type": "markdown",
   "metadata": {},
   "source": [
    "df2 = df[[\"pwr\",\"porc\",\"viento_aparente\",\"spd\"]]\n",
    "dataset = df2.values\n",
    "\n",
    "X = dataset[:,0:3]\n",
    "Y = dataset[:,3]\n",
    "\n",
    "X_train, X_test, Y_train, Y_test = train_test_split(X, Y, test_size=0.30, random_state=42)"
   ]
  },
  {
   "cell_type": "markdown",
   "metadata": {},
   "source": [
    "### Separación de datos en Train y Test\n",
    "\n",
    "Hemos hecho diferentes pruebas, incluso entrenando la red con 1 sólo entrenamiento y los resultados son satisfactorios. La diferencia entre las velocidades reales y las predichas son del mismo orden que si entrenamos con mayor cantidad de puntos. El histograma de diferencias sigue una distribución normal"
   ]
  },
  {
   "cell_type": "markdown",
   "metadata": {},
   "source": [
    "#Para entrenar con una prueba y predecir otra:\n",
    "\n",
    "entreno = '20180527_LEVS_195_90_C_E.gpx'\n",
    "prueba = '20180429_LEMG_195_90_R_C.gpx'\n",
    "\n",
    "df_train = df[df['prueba']==entreno]\n",
    "df_test = df[df['prueba']==prueba]"
   ]
  },
  {
   "cell_type": "code",
   "execution_count": 3,
   "metadata": {},
   "outputs": [],
   "source": [
    "#Para entrenar con varias pruebas y predecir otra:\n",
    "\n",
    "prueba = '20180429_LEMG_195_90_R_C.gpx'\n",
    "\n",
    "df_train = df[df['prueba']!=prueba]\n",
    "df_test = df[df['prueba']==prueba]"
   ]
  },
  {
   "cell_type": "markdown",
   "metadata": {},
   "source": [
    "#### Comprobamos que se ha hecho correctamente el split entre Test y Train"
   ]
  },
  {
   "cell_type": "code",
   "execution_count": 4,
   "metadata": {},
   "outputs": [
    {
     "data": {
      "text/plain": [
       "array(['20180225_LEVS_195_90_R_E.gpx', '20180316_LEVS_195_90_R_E.gpx',\n",
       "       '20180318_LEVS_195_90_R_E.gpx', '20180322_LEVS_195_90_R_E.gpx',\n",
       "       '20180329_LEVD_195_90_R_E.gpx', '20180406_LEVS_195_90_R_E.gpx',\n",
       "       '20180415_LEVS_195_90_R_E.gpx', '20180422_LEVS_195_90_R_E.gpx',\n",
       "       '20180526_LEVS_195_90_C_E.gpx', '20180527_LEVS_195_90_C_E.gpx'],\n",
       "      dtype=object)"
      ]
     },
     "execution_count": 4,
     "metadata": {},
     "output_type": "execute_result"
    }
   ],
   "source": [
    "df_train.prueba.unique()"
   ]
  },
  {
   "cell_type": "code",
   "execution_count": 5,
   "metadata": {},
   "outputs": [
    {
     "data": {
      "text/plain": [
       "array(['20180429_LEMG_195_90_R_C.gpx'], dtype=object)"
      ]
     },
     "execution_count": 5,
     "metadata": {},
     "output_type": "execute_result"
    }
   ],
   "source": [
    "df_test.prueba.unique()"
   ]
  },
  {
   "cell_type": "code",
   "execution_count": 6,
   "metadata": {},
   "outputs": [],
   "source": [
    "X_train = df_train[[\"pwr\",\"porc\",\"viento_aparente\"]] \n",
    "X_test = df_test[[\"pwr\",\"porc\",\"viento_aparente\"]]\n",
    "Y_train = df_train[[\"spd\"]]\n",
    "Y_test = df_test[[\"spd\"]]"
   ]
  },
  {
   "cell_type": "markdown",
   "metadata": {},
   "source": [
    "### Preprocesado: Escalado para evitar atípicos"
   ]
  },
  {
   "cell_type": "code",
   "execution_count": 7,
   "metadata": {},
   "outputs": [],
   "source": [
    "scalarX = RobustScaler()\n",
    "\n",
    "X_train_rs = scalarX.fit_transform(X_train)\n",
    "X_test_rs = scalarX.transform(X_test)"
   ]
  },
  {
   "cell_type": "markdown",
   "metadata": {},
   "source": [
    "### Modelado de la Red: Inicialización y Definición"
   ]
  },
  {
   "cell_type": "code",
   "execution_count": 8,
   "metadata": {},
   "outputs": [
    {
     "name": "stdout",
     "output_type": "stream",
     "text": [
      "_________________________________________________________________\n",
      "Layer (type)                 Output Shape              Param #   \n",
      "=================================================================\n",
      "dense_1 (Dense)              (None, 4)                 16        \n",
      "_________________________________________________________________\n",
      "dense_2 (Dense)              (None, 60)                300       \n",
      "_________________________________________________________________\n",
      "dense_3 (Dense)              (None, 20)                1220      \n",
      "_________________________________________________________________\n",
      "dense_4 (Dense)              (None, 1)                 21        \n",
      "=================================================================\n",
      "Total params: 1,557\n",
      "Trainable params: 1,557\n",
      "Non-trainable params: 0\n",
      "_________________________________________________________________\n"
     ]
    }
   ],
   "source": [
    "#Probar por diferentes funciones de activacion y con regularizacion\n",
    "\n",
    "# define and fit the final model\n",
    "#model.reset_states()\n",
    "model = Sequential()\n",
    "\n",
    "model.add(Dense(4, input_dim=3, activation='relu'))\n",
    "model.add(Dense(60, activation='relu'))\n",
    "model.add(Dense(20, activation='relu'))\n",
    "model.add(Dense(1, activation='linear'))\n",
    "\n",
    "model.compile(loss='mse', optimizer='adam', metrics=['mse', 'mae', 'mape'])\n",
    "\n",
    "model.summary()"
   ]
  },
  {
   "cell_type": "markdown",
   "metadata": {},
   "source": [
    "### Entrenamiento del Modelo"
   ]
  },
  {
   "cell_type": "code",
   "execution_count": 9,
   "metadata": {
    "scrolled": true
   },
   "outputs": [
    {
     "name": "stdout",
     "output_type": "stream",
     "text": [
      "Train on 919 samples, validate on 79 samples\n",
      "Epoch 1/50\n",
      " - 0s - loss: 962.1019 - mean_squared_error: 962.1019 - mean_absolute_error: 29.8258 - mean_absolute_percentage_error: 93.5940 - val_loss: 942.9526 - val_mean_squared_error: 942.9526 - val_mean_absolute_error: 27.7604 - val_mean_absolute_percentage_error: 77.5484\n",
      "Epoch 2/50\n",
      " - 0s - loss: 355.9297 - mean_squared_error: 355.9297 - mean_absolute_error: 15.9639 - mean_absolute_percentage_error: 49.9262 - val_loss: 271.6789 - val_mean_squared_error: 271.6789 - val_mean_absolute_error: 13.6977 - val_mean_absolute_percentage_error: 45.5298\n",
      "Epoch 3/50\n",
      " - 0s - loss: 110.5296 - mean_squared_error: 110.5296 - mean_absolute_error: 8.5799 - mean_absolute_percentage_error: 30.1271 - val_loss: 161.5757 - val_mean_squared_error: 161.5757 - val_mean_absolute_error: 10.6761 - val_mean_absolute_percentage_error: 35.4485\n",
      "Epoch 4/50\n",
      " - 0s - loss: 81.6977 - mean_squared_error: 81.6977 - mean_absolute_error: 7.3316 - mean_absolute_percentage_error: 26.0502 - val_loss: 120.5295 - val_mean_squared_error: 120.5295 - val_mean_absolute_error: 9.2069 - val_mean_absolute_percentage_error: 30.6524\n",
      "Epoch 5/50\n",
      " - 0s - loss: 64.9452 - mean_squared_error: 64.9452 - mean_absolute_error: 6.4687 - mean_absolute_percentage_error: 22.9807 - val_loss: 98.8486 - val_mean_squared_error: 98.8486 - val_mean_absolute_error: 8.3727 - val_mean_absolute_percentage_error: 27.1776\n",
      "Epoch 6/50\n",
      " - 0s - loss: 51.3057 - mean_squared_error: 51.3057 - mean_absolute_error: 5.7499 - mean_absolute_percentage_error: 20.4126 - val_loss: 72.7733 - val_mean_squared_error: 72.7733 - val_mean_absolute_error: 7.0308 - val_mean_absolute_percentage_error: 23.5828\n",
      "Epoch 7/50\n",
      " - 0s - loss: 40.2101 - mean_squared_error: 40.2101 - mean_absolute_error: 5.0542 - mean_absolute_percentage_error: 18.0164 - val_loss: 54.7159 - val_mean_squared_error: 54.7159 - val_mean_absolute_error: 6.0815 - val_mean_absolute_percentage_error: 19.9099\n",
      "Epoch 8/50\n",
      " - 0s - loss: 31.4600 - mean_squared_error: 31.4600 - mean_absolute_error: 4.4020 - mean_absolute_percentage_error: 15.5959 - val_loss: 42.1477 - val_mean_squared_error: 42.1477 - val_mean_absolute_error: 5.2797 - val_mean_absolute_percentage_error: 16.9115\n",
      "Epoch 9/50\n",
      " - 0s - loss: 25.8475 - mean_squared_error: 25.8475 - mean_absolute_error: 3.9522 - mean_absolute_percentage_error: 13.7693 - val_loss: 32.2679 - val_mean_squared_error: 32.2679 - val_mean_absolute_error: 4.4972 - val_mean_absolute_percentage_error: 14.7063\n",
      "Epoch 10/50\n",
      " - 0s - loss: 22.6751 - mean_squared_error: 22.6751 - mean_absolute_error: 3.6388 - mean_absolute_percentage_error: 12.5518 - val_loss: 29.2299 - val_mean_squared_error: 29.2299 - val_mean_absolute_error: 4.2564 - val_mean_absolute_percentage_error: 13.7049\n",
      "Epoch 11/50\n",
      " - 0s - loss: 21.5095 - mean_squared_error: 21.5095 - mean_absolute_error: 3.5041 - mean_absolute_percentage_error: 12.1170 - val_loss: 25.6858 - val_mean_squared_error: 25.6858 - val_mean_absolute_error: 3.9777 - val_mean_absolute_percentage_error: 12.3139\n",
      "Epoch 12/50\n",
      " - 0s - loss: 20.7928 - mean_squared_error: 20.7928 - mean_absolute_error: 3.4169 - mean_absolute_percentage_error: 11.6519 - val_loss: 23.5581 - val_mean_squared_error: 23.5581 - val_mean_absolute_error: 3.8154 - val_mean_absolute_percentage_error: 12.1973\n",
      "Epoch 13/50\n",
      " - 0s - loss: 20.1961 - mean_squared_error: 20.1961 - mean_absolute_error: 3.3679 - mean_absolute_percentage_error: 11.4590 - val_loss: 23.8961 - val_mean_squared_error: 23.8961 - val_mean_absolute_error: 3.8457 - val_mean_absolute_percentage_error: 12.3275\n",
      "Epoch 14/50\n",
      " - 0s - loss: 19.8993 - mean_squared_error: 19.8993 - mean_absolute_error: 3.3470 - mean_absolute_percentage_error: 11.4514 - val_loss: 23.5392 - val_mean_squared_error: 23.5392 - val_mean_absolute_error: 3.7072 - val_mean_absolute_percentage_error: 11.1224\n",
      "Epoch 15/50\n",
      " - 0s - loss: 19.6926 - mean_squared_error: 19.6926 - mean_absolute_error: 3.3027 - mean_absolute_percentage_error: 11.2610 - val_loss: 21.8411 - val_mean_squared_error: 21.8411 - val_mean_absolute_error: 3.6336 - val_mean_absolute_percentage_error: 11.0245\n",
      "Epoch 16/50\n",
      " - 0s - loss: 19.0580 - mean_squared_error: 19.0580 - mean_absolute_error: 3.2546 - mean_absolute_percentage_error: 11.0332 - val_loss: 21.7246 - val_mean_squared_error: 21.7246 - val_mean_absolute_error: 3.5850 - val_mean_absolute_percentage_error: 10.7030\n",
      "Epoch 17/50\n",
      " - 0s - loss: 19.2076 - mean_squared_error: 19.2076 - mean_absolute_error: 3.2662 - mean_absolute_percentage_error: 11.1104 - val_loss: 20.7725 - val_mean_squared_error: 20.7725 - val_mean_absolute_error: 3.6420 - val_mean_absolute_percentage_error: 11.4350\n",
      "Epoch 18/50\n",
      " - 0s - loss: 18.8721 - mean_squared_error: 18.8721 - mean_absolute_error: 3.2312 - mean_absolute_percentage_error: 10.9896 - val_loss: 20.4491 - val_mean_squared_error: 20.4491 - val_mean_absolute_error: 3.5343 - val_mean_absolute_percentage_error: 10.6528\n",
      "Epoch 19/50\n",
      " - 0s - loss: 18.5079 - mean_squared_error: 18.5079 - mean_absolute_error: 3.1776 - mean_absolute_percentage_error: 10.8155 - val_loss: 20.8502 - val_mean_squared_error: 20.8502 - val_mean_absolute_error: 3.5298 - val_mean_absolute_percentage_error: 10.5053\n",
      "Epoch 20/50\n",
      " - 0s - loss: 18.2517 - mean_squared_error: 18.2517 - mean_absolute_error: 3.1917 - mean_absolute_percentage_error: 10.8394 - val_loss: 22.9497 - val_mean_squared_error: 22.9497 - val_mean_absolute_error: 3.5872 - val_mean_absolute_percentage_error: 10.3275\n",
      "Epoch 21/50\n",
      " - 0s - loss: 18.0378 - mean_squared_error: 18.0378 - mean_absolute_error: 3.1637 - mean_absolute_percentage_error: 10.7604 - val_loss: 20.5634 - val_mean_squared_error: 20.5634 - val_mean_absolute_error: 3.4933 - val_mean_absolute_percentage_error: 10.3368\n",
      "Epoch 22/50\n",
      " - 0s - loss: 18.0044 - mean_squared_error: 18.0044 - mean_absolute_error: 3.1516 - mean_absolute_percentage_error: 10.7206 - val_loss: 19.7532 - val_mean_squared_error: 19.7532 - val_mean_absolute_error: 3.3797 - val_mean_absolute_percentage_error: 9.8392\n",
      "Epoch 23/50\n",
      " - 0s - loss: 17.8136 - mean_squared_error: 17.8136 - mean_absolute_error: 3.1333 - mean_absolute_percentage_error: 10.6287 - val_loss: 22.0241 - val_mean_squared_error: 22.0241 - val_mean_absolute_error: 3.4403 - val_mean_absolute_percentage_error: 9.6306\n",
      "Epoch 24/50\n",
      " - 0s - loss: 17.7541 - mean_squared_error: 17.7541 - mean_absolute_error: 3.1215 - mean_absolute_percentage_error: 10.5497 - val_loss: 19.4461 - val_mean_squared_error: 19.4461 - val_mean_absolute_error: 3.4876 - val_mean_absolute_percentage_error: 10.6720\n",
      "Epoch 25/50\n",
      " - 0s - loss: 17.6442 - mean_squared_error: 17.6442 - mean_absolute_error: 3.1402 - mean_absolute_percentage_error: 10.6738 - val_loss: 19.5293 - val_mean_squared_error: 19.5293 - val_mean_absolute_error: 3.4970 - val_mean_absolute_percentage_error: 10.7637\n",
      "Epoch 26/50\n",
      " - 0s - loss: 17.8637 - mean_squared_error: 17.8637 - mean_absolute_error: 3.1492 - mean_absolute_percentage_error: 10.6998 - val_loss: 20.4855 - val_mean_squared_error: 20.4855 - val_mean_absolute_error: 3.4090 - val_mean_absolute_percentage_error: 9.8651\n",
      "Epoch 27/50\n",
      " - 0s - loss: 17.6769 - mean_squared_error: 17.6769 - mean_absolute_error: 3.1283 - mean_absolute_percentage_error: 10.6749 - val_loss: 22.9265 - val_mean_squared_error: 22.9265 - val_mean_absolute_error: 3.4417 - val_mean_absolute_percentage_error: 9.4621\n",
      "Epoch 28/50\n",
      " - 0s - loss: 17.6223 - mean_squared_error: 17.6223 - mean_absolute_error: 3.1087 - mean_absolute_percentage_error: 10.5524 - val_loss: 21.1601 - val_mean_squared_error: 21.1601 - val_mean_absolute_error: 3.4004 - val_mean_absolute_percentage_error: 9.6408\n",
      "Epoch 29/50\n",
      " - 0s - loss: 17.6947 - mean_squared_error: 17.6947 - mean_absolute_error: 3.1024 - mean_absolute_percentage_error: 10.5188 - val_loss: 20.5542 - val_mean_squared_error: 20.5542 - val_mean_absolute_error: 3.4425 - val_mean_absolute_percentage_error: 10.1214\n",
      "Epoch 30/50\n",
      " - 0s - loss: 17.9088 - mean_squared_error: 17.9088 - mean_absolute_error: 3.1596 - mean_absolute_percentage_error: 10.7429 - val_loss: 20.0327 - val_mean_squared_error: 20.0327 - val_mean_absolute_error: 3.4090 - val_mean_absolute_percentage_error: 10.0471\n",
      "Epoch 31/50\n",
      " - 0s - loss: 17.4023 - mean_squared_error: 17.4023 - mean_absolute_error: 3.0981 - mean_absolute_percentage_error: 10.5318 - val_loss: 20.0967 - val_mean_squared_error: 20.0967 - val_mean_absolute_error: 3.4287 - val_mean_absolute_percentage_error: 10.1504\n"
     ]
    },
    {
     "name": "stdout",
     "output_type": "stream",
     "text": [
      "Epoch 32/50\n",
      " - 0s - loss: 17.3523 - mean_squared_error: 17.3523 - mean_absolute_error: 3.1060 - mean_absolute_percentage_error: 10.5490 - val_loss: 18.6933 - val_mean_squared_error: 18.6933 - val_mean_absolute_error: 3.4108 - val_mean_absolute_percentage_error: 10.4796\n",
      "Epoch 33/50\n",
      " - 0s - loss: 17.4344 - mean_squared_error: 17.4344 - mean_absolute_error: 3.1236 - mean_absolute_percentage_error: 10.6205 - val_loss: 19.9940 - val_mean_squared_error: 19.9940 - val_mean_absolute_error: 3.5555 - val_mean_absolute_percentage_error: 11.0934\n",
      "Epoch 34/50\n",
      " - 0s - loss: 17.4367 - mean_squared_error: 17.4367 - mean_absolute_error: 3.0983 - mean_absolute_percentage_error: 10.5376 - val_loss: 20.5651 - val_mean_squared_error: 20.5651 - val_mean_absolute_error: 3.3226 - val_mean_absolute_percentage_error: 9.3618\n",
      "Epoch 35/50\n",
      " - 0s - loss: 17.0327 - mean_squared_error: 17.0327 - mean_absolute_error: 3.0716 - mean_absolute_percentage_error: 10.4012 - val_loss: 18.8060 - val_mean_squared_error: 18.8060 - val_mean_absolute_error: 3.3348 - val_mean_absolute_percentage_error: 9.9146\n",
      "Epoch 36/50\n",
      " - 0s - loss: 17.5176 - mean_squared_error: 17.5176 - mean_absolute_error: 3.0971 - mean_absolute_percentage_error: 10.5092 - val_loss: 21.1337 - val_mean_squared_error: 21.1337 - val_mean_absolute_error: 3.3859 - val_mean_absolute_percentage_error: 9.6320\n",
      "Epoch 37/50\n",
      " - 0s - loss: 17.1612 - mean_squared_error: 17.1612 - mean_absolute_error: 3.0859 - mean_absolute_percentage_error: 10.4967 - val_loss: 19.9229 - val_mean_squared_error: 19.9229 - val_mean_absolute_error: 3.2878 - val_mean_absolute_percentage_error: 9.3642\n",
      "Epoch 38/50\n",
      " - 0s - loss: 17.1210 - mean_squared_error: 17.1210 - mean_absolute_error: 3.0766 - mean_absolute_percentage_error: 10.4615 - val_loss: 24.8461 - val_mean_squared_error: 24.8461 - val_mean_absolute_error: 3.5267 - val_mean_absolute_percentage_error: 9.5625\n",
      "Epoch 39/50\n",
      " - 0s - loss: 17.1922 - mean_squared_error: 17.1922 - mean_absolute_error: 3.0910 - mean_absolute_percentage_error: 10.4832 - val_loss: 20.9014 - val_mean_squared_error: 20.9014 - val_mean_absolute_error: 3.4409 - val_mean_absolute_percentage_error: 10.1388\n",
      "Epoch 40/50\n",
      " - 0s - loss: 17.0437 - mean_squared_error: 17.0437 - mean_absolute_error: 3.0654 - mean_absolute_percentage_error: 10.4342 - val_loss: 18.9564 - val_mean_squared_error: 18.9564 - val_mean_absolute_error: 3.2778 - val_mean_absolute_percentage_error: 9.5529\n",
      "Epoch 41/50\n",
      " - 0s - loss: 16.9701 - mean_squared_error: 16.9701 - mean_absolute_error: 3.0766 - mean_absolute_percentage_error: 10.4876 - val_loss: 19.0302 - val_mean_squared_error: 19.0302 - val_mean_absolute_error: 3.3580 - val_mean_absolute_percentage_error: 10.0379\n",
      "Epoch 42/50\n",
      " - 0s - loss: 17.0219 - mean_squared_error: 17.0219 - mean_absolute_error: 3.0594 - mean_absolute_percentage_error: 10.3566 - val_loss: 19.4340 - val_mean_squared_error: 19.4340 - val_mean_absolute_error: 3.3407 - val_mean_absolute_percentage_error: 9.8419\n",
      "Epoch 43/50\n",
      " - 0s - loss: 16.9938 - mean_squared_error: 16.9938 - mean_absolute_error: 3.0592 - mean_absolute_percentage_error: 10.4109 - val_loss: 21.3010 - val_mean_squared_error: 21.3010 - val_mean_absolute_error: 3.3525 - val_mean_absolute_percentage_error: 9.4548\n",
      "Epoch 44/50\n",
      " - 0s - loss: 17.1599 - mean_squared_error: 17.1599 - mean_absolute_error: 3.0872 - mean_absolute_percentage_error: 10.4684 - val_loss: 19.7475 - val_mean_squared_error: 19.7475 - val_mean_absolute_error: 3.5336 - val_mean_absolute_percentage_error: 11.0488\n",
      "Epoch 45/50\n",
      " - 0s - loss: 17.1758 - mean_squared_error: 17.1758 - mean_absolute_error: 3.0737 - mean_absolute_percentage_error: 10.4758 - val_loss: 19.9190 - val_mean_squared_error: 19.9190 - val_mean_absolute_error: 3.2352 - val_mean_absolute_percentage_error: 9.1572\n",
      "Epoch 46/50\n",
      " - 0s - loss: 16.9806 - mean_squared_error: 16.9806 - mean_absolute_error: 3.0849 - mean_absolute_percentage_error: 10.4179 - val_loss: 20.6284 - val_mean_squared_error: 20.6284 - val_mean_absolute_error: 3.4179 - val_mean_absolute_percentage_error: 10.1172\n",
      "Epoch 47/50\n",
      " - 0s - loss: 16.9573 - mean_squared_error: 16.9573 - mean_absolute_error: 3.0830 - mean_absolute_percentage_error: 10.5067 - val_loss: 20.0751 - val_mean_squared_error: 20.0751 - val_mean_absolute_error: 3.2629 - val_mean_absolute_percentage_error: 9.2503\n",
      "Epoch 48/50\n",
      " - 0s - loss: 16.9280 - mean_squared_error: 16.9280 - mean_absolute_error: 3.0585 - mean_absolute_percentage_error: 10.3750 - val_loss: 19.1613 - val_mean_squared_error: 19.1613 - val_mean_absolute_error: 3.2718 - val_mean_absolute_percentage_error: 9.5120\n",
      "Epoch 49/50\n",
      " - 0s - loss: 17.2425 - mean_squared_error: 17.2425 - mean_absolute_error: 3.0906 - mean_absolute_percentage_error: 10.5067 - val_loss: 20.9603 - val_mean_squared_error: 20.9603 - val_mean_absolute_error: 3.3672 - val_mean_absolute_percentage_error: 9.7231\n",
      "Epoch 50/50\n",
      " - 0s - loss: 16.7843 - mean_squared_error: 16.7843 - mean_absolute_error: 3.0619 - mean_absolute_percentage_error: 10.4082 - val_loss: 20.3742 - val_mean_squared_error: 20.3742 - val_mean_absolute_error: 3.2347 - val_mean_absolute_percentage_error: 9.0728\n"
     ]
    }
   ],
   "source": [
    "#Cuando se entrena con una sola prueba en TRAIN es necesario definir el número de épocas al menos en 500,\n",
    "#Si se dispone de 5 pruebas o más, con menos de 50 época tenemos resultados satisfactorios a prtir de la época 15-20\n",
    "history = model.fit(X_train_rs, Y_train, batch_size=10, validation_data=(X_test_rs,Y_test), epochs=50, verbose=2)"
   ]
  },
  {
   "cell_type": "code",
   "execution_count": 10,
   "metadata": {},
   "outputs": [
    {
     "name": "stdout",
     "output_type": "stream",
     "text": [
      "dict_keys(['val_loss', 'val_mean_squared_error', 'val_mean_absolute_error', 'val_mean_absolute_percentage_error', 'loss', 'mean_squared_error', 'mean_absolute_error', 'mean_absolute_percentage_error'])\n"
     ]
    }
   ],
   "source": [
    "# Listado de métricas almacenadas durante el entrenamiento\n",
    "print(history.history.keys())"
   ]
  },
  {
   "cell_type": "markdown",
   "metadata": {},
   "source": [
    "### Mostramos como evoluciona el entrenamiento a lo largo de las épocas"
   ]
  },
  {
   "cell_type": "code",
   "execution_count": 11,
   "metadata": {},
   "outputs": [
    {
     "data": {
      "image/png": "[encoded data removed]",
      "text/plain": [
       "<matplotlib.figure.Figure at 0x1759805c278>"
      ]
     },
     "metadata": {},
     "output_type": "display_data"
    }
   ],
   "source": [
    "fig, ((ax1, ax2), (ax3, ax4)) = plt.subplots(2, 2, sharex=False, sharey=False, figsize=(15,15))\n",
    "\n",
    "\n",
    "# Resumen de 'mean_squared_error'\n",
    "ax1.plot(history.history['mean_squared_error'])\n",
    "ax1.plot(history.history['val_mean_squared_error'])\n",
    "ax1.set_title('Precision del Modelo')\n",
    "ax1.set_ylabel('MSE')\n",
    "ax1.set_xlabel('epoch')\n",
    "ax1.legend(['train', 'test'], loc='upper left')\n",
    "#plt.show()\n",
    "\n",
    "# Resumen de 'mean_absolute_error'\n",
    "ax2.plot(history.history['mean_absolute_error'])\n",
    "ax2.plot(history.history['val_mean_absolute_error'])\n",
    "ax2.set_title('Precision del Modelo')\n",
    "ax2.set_ylabel('MAE')\n",
    "ax2.set_xlabel('epoch')\n",
    "ax2.legend(['train', 'test'], loc='upper left')\n",
    "#plt.show()\n",
    "\n",
    "# Resumen de 'mean_absolute_percentage_error'\n",
    "ax3.plot(history.history['mean_absolute_percentage_error'])\n",
    "ax3.plot(history.history['val_mean_absolute_percentage_error'])\n",
    "ax3.set_title('Precision del Modelo')\n",
    "ax3.set_ylabel('MAPE')\n",
    "ax3.set_xlabel('epoch')\n",
    "ax3.legend(['train', 'test'], loc='upper left')\n",
    "#plt.show()\n",
    "\n",
    "# Resumen de la funcion de perdida definida\n",
    "ax4.plot(history.history['loss'])\n",
    "ax4.plot(history.history['val_loss'])\n",
    "ax4.set_title('Perdidas del modelo')\n",
    "ax4.set_ylabel('Perdidas')\n",
    "ax4.set_xlabel('epoch')\n",
    "ax4.legend(['train', 'test'], loc='upper left')\n",
    "fig.tight_layout()\n",
    "\n",
    "plt.show()"
   ]
  },
  {
   "cell_type": "markdown",
   "metadata": {},
   "source": [
    "### Predicción"
   ]
  },
  {
   "cell_type": "code",
   "execution_count": 13,
   "metadata": {
    "scrolled": true
   },
   "outputs": [
    {
     "name": "stdout",
     "output_type": "stream",
     "text": [
      "X=[ 0.25714489 -0.0769386   0.82277664], Predicted=[38.31255]\n",
      "X=[0.64781872 0.28254402 0.80350986], Predicted=[35.641327]\n",
      "X=[ 0.22555235 -0.01484517  0.80201047], Predicted=[37.144535]\n",
      "X=[0.541515   0.42746421 0.80212652], Predicted=[33.05392]\n",
      "X=[-0.05691165 -0.40249868  0.79537379], Predicted=[40.14489]\n",
      "X=[0.68282941 0.36252936 0.79183148], Predicted=[34.661488]\n",
      "X=[0.85434302 1.4321235  0.80055773], Predicted=[21.306345]\n",
      "X=[ 0.06343911 -0.08945163  0.81152478], Predicted=[37.007908]\n",
      "X=[0.70225643 0.49921879 0.57486762], Predicted=[31.829062]\n",
      "X=[0.90940836 2.0733809  0.59375538], Predicted=[14.671442]\n",
      "X=[-0.81875801 -1.36924939 -0.11980379], Predicted=[44.78259]\n",
      "X=[0.68697232 0.37119447 0.07247586], Predicted=[32.306953]\n",
      "X=[-0.27600338 -1.02348971  0.047886  ], Predicted=[43.79708]\n",
      "X=[0.56170838 0.89255926 0.32440441], Predicted=[25.385382]\n",
      "X=[ 0.95394534  2.82419947 -0.04674106], Predicted=[13.25713]\n",
      "X=[-0.30308715 -1.00733963  0.32555289], Predicted=[44.298683]\n",
      "X=[0.62316582 1.30999833 0.62828233], Predicted=[20.972881]\n",
      "X=[-1.497219   -1.54707418  0.79603744], Predicted=[45.446426]\n",
      "X=[0.81331962 0.63893484 0.78436578], Predicted=[31.574488]\n",
      "X=[-0.01769899 -0.45299024  0.78757083], Predicted=[41.043427]\n",
      "X=[0.60809815 0.80422566 0.78019682], Predicted=[28.149841]\n",
      "X=[-0.31082822 -1.04284922  0.78658079], Predicted=[44.590057]\n",
      "X=[0.66976118 1.42225475 0.77837093], Predicted=[20.248823]\n",
      "X=[-0.12791473 -0.46336538  0.78325546], Predicted=[40.35639]\n",
      "X=[0.54009085 0.43403198 0.78294759], Predicted=[32.81691]\n",
      "X=[-0.30007174 -0.63271106  0.78789912], Predicted=[41.35999]\n",
      "X=[0.26774753 1.07433568 0.77320684], Predicted=[22.523766]\n",
      "X=[ 0.05457116 -0.15964422  0.5251873 ], Predicted=[36.54289]\n",
      "X=[0.67731734 0.86532286 0.67006694], Predicted=[27.194231]\n",
      "X=[-0.09039638 -0.45959731  0.69877537], Predicted=[40.068485]\n",
      "X=[0.95556639 1.06204059 0.65515308], Predicted=[26.153744]\n",
      "X=[ 0.32191992 -0.78911282 -0.78164698], Predicted=[40.762756]\n",
      "X=[ 0.80530945  0.49847463 -0.80238616], Predicted=[28.237333]\n",
      "X=[-0.09894907 -0.778237   -0.73367339], Predicted=[38.91352]\n",
      "X=[ 0.40769266  0.27810827 -0.67663287], Predicted=[29.231459]\n",
      "X=[-0.06973197 -0.39313287  0.32975912], Predicted=[38.409904]\n",
      "X=[-1.65353304 -2.49179778  0.79339086], Predicted=[55.20025]\n",
      "X=[0.87141306 1.3186575  0.79496247], Predicted=[22.88353]\n",
      "X=[ 0.14774218 -1.1884474   0.80084317], Predicted=[43.05714]\n",
      "X=[0.66261931 0.96490075 0.79062506], Predicted=[26.366888]\n",
      "X=[ 0.11250305 -0.45057483  0.78455167], Predicted=[41.05256]\n",
      "X=[0.59728836 0.41917666 0.78362936], Predicted=[33.346767]\n",
      "X=[-1.08396528 -1.50626771  0.78182863], Predicted=[47.403862]\n",
      "X=[ 0.20553859 -0.64402087  0.69917895], Predicted=[41.05764]\n",
      "X=[ 0.92608463  0.95346905 -0.82033581], Predicted=[23.81729]\n",
      "X=[ 0.7866591   1.24536221 -0.82238651], Predicted=[20.213211]\n",
      "X=[-0.10963826 -0.32915493 -0.82473689], Predicted=[33.000793]\n",
      "X=[ 0.63856044  0.6401814  -0.82563652], Predicted=[25.638147]\n",
      "X=[-0.27093136 -0.71587519 -0.83421128], Predicted=[36.807877]\n",
      "X=[ 0.75220024  1.15304462 -0.84052324], Predicted=[20.912197]\n",
      "X=[-0.10749512 -0.89693812 -0.83596024], Predicted=[39.72112]\n",
      "X=[ 0.91065751  2.54491364 -0.83424505], Predicted=[15.846662]\n",
      "X=[ 0.0396598  -0.37028958 -0.83149996], Predicted=[34.29012]\n",
      "X=[ 0.58860198  0.68957945 -0.82874937], Predicted=[24.895067]\n",
      "X=[ 0.02220778 -0.22404461 -0.82352406], Predicted=[32.442783]\n",
      "X=[ 0.45676546  0.32684975 -0.82402142], Predicted=[28.181734]\n",
      "X=[-0.86301229 -1.10984536 -0.81929964], Predicted=[38.341187]\n",
      "X=[ 0.65794891  1.24312161 -0.82835811], Predicted=[19.618078]\n",
      "X=[ 0.63129284  1.19389368 -0.82623578], Predicted=[20.001245]\n",
      "X=[ 0.16181332 -0.60352911 -0.82197363], Predicted=[37.840294]\n",
      "X=[ 0.48275746  0.76985219 -0.82868133], Predicted=[23.590261]\n",
      "X=[ 0.08244736 -0.51371751 -0.82740876], Predicted=[36.30813]\n",
      "X=[ 0.70863904  1.72419926 -0.83708647], Predicted=[16.734869]\n",
      "X=[-0.9892227  -1.3405193  -0.56626452], Predicted=[41.703125]\n",
      "X=[ 0.68653788  1.24533792 -0.37019547], Predicted=[21.239298]\n",
      "X=[ 0.57827734  1.20074969 -0.33943222], Predicted=[21.20607]\n",
      "X=[ 0.01615304 -0.66014425 -0.43471296], Predicted=[39.50364]\n",
      "X=[ 0.70105953  0.39352209 -0.85141683], Predicted=[28.62017]\n",
      "X=[-1.56023236 -1.96476597 -0.36053207], Predicted=[46.9781]\n",
      "X=[ 0.37644824 -0.27276755 -0.71443206], Predicted=[35.585114]\n",
      "X=[ 0.50857533  0.39746562 -0.84835827], Predicted=[27.543112]\n",
      "X=[-0.368137   -1.47219988 -0.8199142 ], Predicted=[44.520233]\n",
      "X=[ 1.21179156  0.27045902 -0.82309777], Predicted=[32.988934]\n",
      "X=[ 0.69506988 -0.19702855 -0.8342677 ], Predicted=[35.700718]\n",
      "X=[ 0.76129912  0.55919655 -0.83705394], Predicted=[27.154581]\n",
      "X=[ 0.67535005 -0.17616563 -0.8434035 ], Predicted=[35.292892]\n",
      "X=[ 0.470176   -0.34826866 -0.84269661], Predicted=[36.303886]\n",
      "X=[ 0.38124415 -0.12638081 -0.84450912], Predicted=[33.104942]\n",
      "X=[-1.72907234  0.1105797   0.0900384 ], Predicted=[23.616743]\n"
     ]
    }
   ],
   "source": [
    "Y_pred = model.predict(X_test_rs)\n",
    "\n",
    "# mostramos las predicciones para cada tramo\n",
    "for i in range(len(X_test_rs)):\n",
    "        print(\"X=%s, Predicted=%s\" % (X_test_rs[i], Y_pred[i]))\n"
   ]
  },
  {
   "cell_type": "code",
   "execution_count": 14,
   "metadata": {},
   "outputs": [
    {
     "data": {
      "text/html": [
       "<div>\n",
       "<style scoped>\n",
       "    .dataframe tbody tr th:only-of-type {\n",
       "        vertical-align: middle;\n",
       "    }\n",
       "\n",
       "    .dataframe tbody tr th {\n",
       "        vertical-align: top;\n",
       "    }\n",
       "\n",
       "    .dataframe thead th {\n",
       "        text-align: right;\n",
       "    }\n",
       "</style>\n",
       "<table border=\"1\" class=\"dataframe\">\n",
       "  <thead>\n",
       "    <tr style=\"text-align: right;\">\n",
       "      <th></th>\n",
       "      <th>pwr</th>\n",
       "      <th>porc</th>\n",
       "      <th>viento_aparente</th>\n",
       "      <th>spd</th>\n",
       "      <th>Y_pred</th>\n",
       "      <th>diff</th>\n",
       "    </tr>\n",
       "  </thead>\n",
       "  <tbody>\n",
       "    <tr>\n",
       "      <th>0</th>\n",
       "      <td>196.808012</td>\n",
       "      <td>-0.399565</td>\n",
       "      <td>14.918299</td>\n",
       "      <td>39.688230</td>\n",
       "      <td>38.312550</td>\n",
       "      <td>1.375680</td>\n",
       "    </tr>\n",
       "    <tr>\n",
       "      <th>1</th>\n",
       "      <td>230.996299</td>\n",
       "      <td>0.523132</td>\n",
       "      <td>14.577416</td>\n",
       "      <td>32.568368</td>\n",
       "      <td>35.641327</td>\n",
       "      <td>-3.072959</td>\n",
       "    </tr>\n",
       "    <tr>\n",
       "      <th>2</th>\n",
       "      <td>194.043315</td>\n",
       "      <td>-0.240187</td>\n",
       "      <td>14.550887</td>\n",
       "      <td>36.984000</td>\n",
       "      <td>37.144535</td>\n",
       "      <td>-0.160535</td>\n",
       "    </tr>\n",
       "    <tr>\n",
       "      <th>3</th>\n",
       "      <td>221.693546</td>\n",
       "      <td>0.895103</td>\n",
       "      <td>14.552940</td>\n",
       "      <td>31.571813</td>\n",
       "      <td>33.053921</td>\n",
       "      <td>-1.482107</td>\n",
       "    </tr>\n",
       "    <tr>\n",
       "      <th>4</th>\n",
       "      <td>169.324586</td>\n",
       "      <td>-1.235191</td>\n",
       "      <td>14.433466</td>\n",
       "      <td>41.239149</td>\n",
       "      <td>40.144890</td>\n",
       "      <td>1.094259</td>\n",
       "    </tr>\n",
       "  </tbody>\n",
       "</table>\n",
       "</div>"
      ],
      "text/plain": [
       "          pwr      porc  viento_aparente        spd     Y_pred      diff\n",
       "0  196.808012 -0.399565        14.918299  39.688230  38.312550  1.375680\n",
       "1  230.996299  0.523132        14.577416  32.568368  35.641327 -3.072959\n",
       "2  194.043315 -0.240187        14.550887  36.984000  37.144535 -0.160535\n",
       "3  221.693546  0.895103        14.552940  31.571813  33.053921 -1.482107\n",
       "4  169.324586 -1.235191        14.433466  41.239149  40.144890  1.094259"
      ]
     },
     "execution_count": 14,
     "metadata": {},
     "output_type": "execute_result"
    }
   ],
   "source": [
    "#Creamos el dataframe de validación\n",
    "test_val = pd.DataFrame(X_test)\n",
    "test_val.columns = ([\"pwr\",\"porc\",\"viento_aparente\"])\n",
    "test_val[\"spd\"] = Y_test\n",
    "test_val[\"Y_pred\"] = Y_pred\n",
    "test_val[\"diff\"] = test_val[\"spd\"]-test_val[\"Y_pred\"]\n",
    "test_val.head()"
   ]
  },
  {
   "cell_type": "code",
   "execution_count": 21,
   "metadata": {},
   "outputs": [
    {
     "data": {
      "text/plain": [
       "(array([ 1.,  1.,  3.,  6.,  8., 10., 17.,  7.,  2.,  6.,  5.,  5.,  1.,\n",
       "         2.,  3.,  0.,  0.,  0.,  1.,  1.]),\n",
       " array([-7.87267098, -6.67251982, -5.47236867, -4.27221751, -3.07206636,\n",
       "        -1.87191521, -0.67176405,  0.5283871 ,  1.72853826,  2.92868941,\n",
       "         4.12884057,  5.32899172,  6.52914287,  7.72929403,  8.92944518,\n",
       "        10.12959634, 11.32974749, 12.52989865, 13.7300498 , 14.93020095,\n",
       "        16.13035211]),\n",
       " <a list of 20 Patch objects>)"
      ]
     },
     "execution_count": 21,
     "metadata": {},
     "output_type": "execute_result"
    },
    {
     "data": {
      "image/png": "[encoded data removed]",
      "text/plain": [
       "<matplotlib.figure.Figure at 0x17591eaaa20>"
      ]
     },
     "metadata": {},
     "output_type": "display_data"
    }
   ],
   "source": [
    "#Ploteamos las diferencias entre las velocidades reales y las predichas por el modelo\n",
    "plt.hist(test_val['diff'], bins=20)"
   ]
  },
  {
   "cell_type": "code",
   "execution_count": 16,
   "metadata": {
    "scrolled": true
   },
   "outputs": [
    {
     "name": "stdout",
     "output_type": "stream",
     "text": [
      "Predicciones:\n",
      "32.5548095703125\n",
      "55.20025\n",
      "13.25713\n",
      "Diferencias:\n",
      "1.1438524718962113\n",
      "16.130352109178254\n",
      "-7.872670976505724\n"
     ]
    }
   ],
   "source": [
    "#Mostramos los valores significativos de las predicciones y la diferencia con los reales\n",
    "\n",
    "print(\"Predicciones:\")\n",
    "print(test_val[\"Y_pred\"].mean())\n",
    "print(test_val[\"Y_pred\"].max())\n",
    "print(test_val[\"Y_pred\"].min())\n",
    "\n",
    "print(\"Diferencias:\")\n",
    "print(test_val[\"diff\"].mean())\n",
    "print(test_val[\"diff\"].max())\n",
    "print(test_val[\"diff\"].min())"
   ]
  },
  {
   "cell_type": "markdown",
   "metadata": {},
   "source": [
    "#### Comprobaciones finales del resultado"
   ]
  },
  {
   "cell_type": "code",
   "execution_count": 18,
   "metadata": {},
   "outputs": [],
   "source": [
    "#Añadimos al df de validación los datos de origen (distancia y tiempo)\n",
    "#Y cálculamos el tiempo según la predicción de la velocidad obtenida\n",
    "\n",
    "test_val['dist'] = df_test['dist']\n",
    "test_val['time_seg'] = df_test['time_seg']\n",
    "test_val['time_seg_pred'] = test_val['dist']/(test_val['Y_pred']/3.6)"
   ]
  },
  {
   "cell_type": "code",
   "execution_count": 19,
   "metadata": {},
   "outputs": [
    {
     "name": "stdout",
     "output_type": "stream",
     "text": [
      "Tiempo Real: 3:08:13\n",
      "Tiempo Predicho: 3:09:04.991803\n"
     ]
    }
   ],
   "source": [
    "tiempo_real = test_val['time_seg'].sum()\n",
    "tiempo_pred = test_val['time_seg_pred'].sum()\n",
    "print('Tiempo Real: %s' %str(datetime.timedelta(seconds=int(tiempo_real))))\n",
    "print('Tiempo Predicho: %s' %str(datetime.timedelta(seconds=tiempo_pred)))"
   ]
  },
  {
   "cell_type": "markdown",
   "metadata": {
    "collapsed": true
   },
   "source": [
    "#### Mostramos los datos con mayor diferencia para analizar\n",
    "\n",
    "\n",
    "Analizando los datos, puede observarse que la mayoría de estos datos provienen de cambios de pendiente bruscos\n",
    "\n",
    "Por ejemplo. Si acabamos de coronar un puerto, normalmente los primeros metros se usan para descansar y la velocidad es menor de lo esperado\n",
    "\n",
    "Otro ejemplo. En una zona de toboganes, podemos afrontar una pendiente con una alta velocidad y 'falsear' el resultado\n",
    "\n",
    "Por otro lado, vemos que 5 de los 7 registros, son pendientes de bajada. El trazado de curvas también puede afectar\n",
    "\n",
    "La predicción está hecha sobre una competición real (Ironman 70.3 Marbella) y se aprecia como la velocidad bajando en competición es mayor que en entrenamientos, debido al tráfico cerrado y la actitud del competidor\n",
    "\n",
    "Una posible mejora sería añadir como input de la red la velocidad incial del tramo"
   ]
  },
  {
   "cell_type": "code",
   "execution_count": 23,
   "metadata": {},
   "outputs": [
    {
     "data": {
      "text/html": [
       "<div>\n",
       "<style scoped>\n",
       "    .dataframe tbody tr th:only-of-type {\n",
       "        vertical-align: middle;\n",
       "    }\n",
       "\n",
       "    .dataframe tbody tr th {\n",
       "        vertical-align: top;\n",
       "    }\n",
       "\n",
       "    .dataframe thead th {\n",
       "        text-align: right;\n",
       "    }\n",
       "</style>\n",
       "<table border=\"1\" class=\"dataframe\">\n",
       "  <thead>\n",
       "    <tr style=\"text-align: right;\">\n",
       "      <th></th>\n",
       "      <th>pwr</th>\n",
       "      <th>porc</th>\n",
       "      <th>viento_aparente</th>\n",
       "      <th>spd</th>\n",
       "      <th>Y_pred</th>\n",
       "      <th>diff</th>\n",
       "      <th>dist</th>\n",
       "      <th>time_seg</th>\n",
       "      <th>time_seg_pred</th>\n",
       "    </tr>\n",
       "  </thead>\n",
       "  <tbody>\n",
       "    <tr>\n",
       "      <th>22</th>\n",
       "      <td>43.281740</td>\n",
       "      <td>-4.173012</td>\n",
       "      <td>14.445208</td>\n",
       "      <td>61.576779</td>\n",
       "      <td>45.446426</td>\n",
       "      <td>16.130352</td>\n",
       "      <td>3249.885532</td>\n",
       "      <td>190</td>\n",
       "      <td>257.436920</td>\n",
       "    </tr>\n",
       "    <tr>\n",
       "      <th>25</th>\n",
       "      <td>245.479461</td>\n",
       "      <td>1.437892</td>\n",
       "      <td>14.238703</td>\n",
       "      <td>40.524726</td>\n",
       "      <td>31.574488</td>\n",
       "      <td>8.950239</td>\n",
       "      <td>630.384632</td>\n",
       "      <td>56</td>\n",
       "      <td>71.873999</td>\n",
       "    </tr>\n",
       "    <tr>\n",
       "      <th>41</th>\n",
       "      <td>209.982609</td>\n",
       "      <td>0.511746</td>\n",
       "      <td>-11.610435</td>\n",
       "      <td>38.214585</td>\n",
       "      <td>29.231459</td>\n",
       "      <td>8.983127</td>\n",
       "      <td>329.070042</td>\n",
       "      <td>31</td>\n",
       "      <td>40.526615</td>\n",
       "    </tr>\n",
       "    <tr>\n",
       "      <th>46</th>\n",
       "      <td>29.602529</td>\n",
       "      <td>-6.597866</td>\n",
       "      <td>14.398382</td>\n",
       "      <td>69.830249</td>\n",
       "      <td>55.200249</td>\n",
       "      <td>14.630000</td>\n",
       "      <td>2754.415368</td>\n",
       "      <td>142</td>\n",
       "      <td>179.634973</td>\n",
       "    </tr>\n",
       "    <tr>\n",
       "      <th>56</th>\n",
       "      <td>79.446017</td>\n",
       "      <td>-4.068272</td>\n",
       "      <td>14.193814</td>\n",
       "      <td>55.784874</td>\n",
       "      <td>47.403862</td>\n",
       "      <td>8.381012</td>\n",
       "      <td>1580.571429</td>\n",
       "      <td>102</td>\n",
       "      <td>120.033616</td>\n",
       "    </tr>\n",
       "    <tr>\n",
       "      <th>76</th>\n",
       "      <td>98.781851</td>\n",
       "      <td>-3.050762</td>\n",
       "      <td>-14.134608</td>\n",
       "      <td>47.753510</td>\n",
       "      <td>38.341187</td>\n",
       "      <td>9.412323</td>\n",
       "      <td>848.951282</td>\n",
       "      <td>64</td>\n",
       "      <td>79.711269</td>\n",
       "    </tr>\n",
       "    <tr>\n",
       "      <th>92</th>\n",
       "      <td>37.767373</td>\n",
       "      <td>-5.245116</td>\n",
       "      <td>-6.017731</td>\n",
       "      <td>55.405954</td>\n",
       "      <td>46.978100</td>\n",
       "      <td>8.427855</td>\n",
       "      <td>8788.000000</td>\n",
       "      <td>571</td>\n",
       "      <td>673.437167</td>\n",
       "    </tr>\n",
       "  </tbody>\n",
       "</table>\n",
       "</div>"
      ],
      "text/plain": [
       "           pwr      porc  viento_aparente        spd     Y_pred       diff  \\\n",
       "22   43.281740 -4.173012        14.445208  61.576779  45.446426  16.130352   \n",
       "25  245.479461  1.437892        14.238703  40.524726  31.574488   8.950239   \n",
       "41  209.982609  0.511746       -11.610435  38.214585  29.231459   8.983127   \n",
       "46   29.602529 -6.597866        14.398382  69.830249  55.200249  14.630000   \n",
       "56   79.446017 -4.068272        14.193814  55.784874  47.403862   8.381012   \n",
       "76   98.781851 -3.050762       -14.134608  47.753510  38.341187   9.412323   \n",
       "92   37.767373 -5.245116        -6.017731  55.405954  46.978100   8.427855   \n",
       "\n",
       "           dist  time_seg  time_seg_pred  \n",
       "22  3249.885532       190     257.436920  \n",
       "25   630.384632        56      71.873999  \n",
       "41   329.070042        31      40.526615  \n",
       "46  2754.415368       142     179.634973  \n",
       "56  1580.571429       102     120.033616  \n",
       "76   848.951282        64      79.711269  \n",
       "92  8788.000000       571     673.437167  "
      ]
     },
     "execution_count": 23,
     "metadata": {},
     "output_type": "execute_result"
    }
   ],
   "source": [
    "#Analizamos las mayores diferencias según el histograma anterior\n",
    "test_val[(test_val[\"diff\"]>8) | (test_val[\"diff\"]<-10)]\n"
   ]
  },
  {
   "cell_type": "markdown",
   "metadata": {
    "collapsed": true
   },
   "source": [
    "### Exportamos el Modelo para ser usado en el Simulador"
   ]
  },
  {
   "cell_type": "code",
   "execution_count": 24,
   "metadata": {},
   "outputs": [],
   "source": [
    "pickle.dump(scalarX, open(\"Scaler.model\", 'wb'))\n",
    "\n",
    "\n",
    "model.save(\"TF_Tramos_2.model\")\n",
    "#Para cargar el modelo\n",
    "#https://keras.io/getting-started/faq/#how-can-i-save-a-keras-model"
   ]
  },
  {
   "cell_type": "code",
   "execution_count": null,
   "metadata": {},
   "outputs": [],
   "source": []
  }
 ],
 "metadata": {
  "kernelspec": {
   "display_name": "Python 3",
   "language": "python",
   "name": "python3"
  },
  "language_info": {
   "codemirror_mode": {
    "name": "ipython",
    "version": 3
   },
   "file_extension": ".py",
   "mimetype": "text/x-python",
   "name": "python",
   "nbconvert_exporter": "python",
   "pygments_lexer": "ipython3",
   "version": "3.6.5"
  }
 },
 "nbformat": 4,
 "nbformat_minor": 2
}
