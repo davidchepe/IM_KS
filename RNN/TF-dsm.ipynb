{
 "cells": [
  {
   "cell_type": "markdown",
   "metadata": {},
   "source": [
    "### BLOQUE DE IMPORT DE PAQUETES"
   ]
  },
  {
   "cell_type": "markdown",
   "metadata": {},
   "source": [
    "#### Añadir los install"
   ]
  },
  {
   "cell_type": "code",
   "execution_count": 1,
   "metadata": {},
   "outputs": [
    {
     "name": "stderr",
     "output_type": "stream",
     "text": [
      "Using TensorFlow backend.\n"
     ]
    }
   ],
   "source": [
    "from keras.models import Sequential\n",
    "from keras.layers import Dense\n",
    "#from sklearn.datasets.samples_generator import make_blobs\n",
    "\n",
    "from sklearn.preprocessing import RobustScaler\n",
    "\n",
    "#from sklearn.model_selection import KFold\n",
    "#from sklearn.model_selection import cross_val_score\n",
    "\n",
    "import pickle\n",
    "\n",
    "import datetime\n",
    "\n",
    "import numpy as np\n",
    "import pandas as pd\n",
    "\n",
    "import matplotlib.pylab as plt\n",
    "%matplotlib inline\n",
    "plt.style.use('seaborn')"
   ]
  },
  {
   "cell_type": "markdown",
   "metadata": {},
   "source": [
    "### Filtramos datos: \n",
    "Pendientes <> inf\n",
    "\n",
    "Tramos cortos\n",
    "\n",
    "Velocidades bajas\n",
    "\n",
    "Como usamos entrenamientos amateurs y las mediciones están hechas con relojes (que tienen cierto grado de imprecisión), filtramos para tener datos más estables y que el modelo generalice mejor"
   ]
  },
  {
   "cell_type": "code",
   "execution_count": 2,
   "metadata": {
    "collapsed": true
   },
   "outputs": [],
   "source": [
    "path = '../Entrenamientos/Procesado_Tramos.xlsx'\n",
    "df = pd.read_excel(path)\n",
    "df = df[df[\"porc\"]!=np.inf]\n",
    "df[\"puntos_en_tramo\"]= df[\"tramo_final\"]-df[\"tramo_inicial\"]\n",
    "df = df[df[\"puntos_en_tramo\"]>9]\n",
    "df = df[df[\"spd\"]>5]\n",
    "\n",
    "#Ya tenemos el dataframe filtrado"
   ]
  },
  {
   "cell_type": "markdown",
   "metadata": {},
   "source": [
    "### Para hacer train-test tradicional\n",
    "\n",
    "Lo mantenemos en el código porque puede ser usado para validar el modelo de forma generalizada. En primer lugar tomábamos datos de todos los entrenamientos y validábamos también con datos procedentes de cualquier entrenamiento"
   ]
  },
  {
   "cell_type": "markdown",
   "metadata": {},
   "source": [
    "df2 = df[[\"pwr\",\"porc\",\"viento_aparente\",\"spd\"]]\n",
    "dataset = df2.values\n",
    "\n",
    "X = dataset[:,0:3]\n",
    "Y = dataset[:,3]\n",
    "\n",
    "X_train, X_test, Y_train, Y_test = train_test_split(X, Y, test_size=0.30, random_state=42)"
   ]
  },
  {
   "cell_type": "markdown",
   "metadata": {},
   "source": [
    "### Separación de datos en Train y Test\n",
    "\n",
    "Hemos hecho diferentes pruebas, incluso entrenando la red con 1 sólo entrenamiento y los resultados son satisfactorios. La diferencia entre las velocidades reales y las predichas son del mismo orden que si entrenamos con mayor cantidad de puntos. El histograma de diferencias sigue una distribución normal"
   ]
  },
  {
   "cell_type": "code",
   "execution_count": 3,
   "metadata": {
    "collapsed": true
   },
   "outputs": [],
   "source": [
    "#Para entrenar con una prueba y predecir otra:\n",
    "\n",
    "entreno = '20180527_LEVS_195_90_C_E.gpx'\n",
    "prueba = '20180429_LEMG_195_90_R_C.gpx'\n",
    "\n",
    "df_train = df[df['prueba']==entreno]\n",
    "df_test = df[df['prueba']==prueba]"
   ]
  },
  {
   "cell_type": "markdown",
   "metadata": {
    "collapsed": true
   },
   "source": [
    "#Para entrenar con varias pruebas y predecir otra:\n",
    "\n",
    "prueba = '20180429_LEMG_195_90_R_C.gpx'\n",
    "\n",
    "df_train = df[df['prueba']!=prueba]\n",
    "df_test = df[df['prueba']==prueba]"
   ]
  },
  {
   "cell_type": "markdown",
   "metadata": {},
   "source": [
    "#### Comprobamos que se ha hecho correctamente el split entre Test y Train"
   ]
  },
  {
   "cell_type": "code",
   "execution_count": 4,
   "metadata": {},
   "outputs": [
    {
     "data": {
      "text/plain": [
       "array(['20180527_LEVS_195_90_C_E.gpx'], dtype=object)"
      ]
     },
     "execution_count": 4,
     "metadata": {},
     "output_type": "execute_result"
    }
   ],
   "source": [
    "df_train.prueba.unique()"
   ]
  },
  {
   "cell_type": "code",
   "execution_count": 5,
   "metadata": {},
   "outputs": [
    {
     "data": {
      "text/plain": [
       "array(['20180429_LEMG_195_90_R_C.gpx'], dtype=object)"
      ]
     },
     "execution_count": 5,
     "metadata": {},
     "output_type": "execute_result"
    }
   ],
   "source": [
    "df_test.prueba.unique()"
   ]
  },
  {
   "cell_type": "code",
   "execution_count": 6,
   "metadata": {
    "collapsed": true
   },
   "outputs": [],
   "source": [
    "X_train = df_train[[\"pwr\",\"porc\",\"viento_aparente\"]] \n",
    "X_test = df_test[[\"pwr\",\"porc\",\"viento_aparente\"]]\n",
    "Y_train = df_train[[\"spd\"]]\n",
    "Y_test = df_test[[\"spd\"]]"
   ]
  },
  {
   "cell_type": "markdown",
   "metadata": {},
   "source": [
    "### Preprocesado: Escalado para evitar atípicos"
   ]
  },
  {
   "cell_type": "code",
   "execution_count": 7,
   "metadata": {
    "collapsed": true
   },
   "outputs": [],
   "source": [
    "scalarX = RobustScaler()\n",
    "\n",
    "X_train_rs = scalarX.fit_transform(X_train)\n",
    "X_test_rs = scalarX.transform(X_test)"
   ]
  },
  {
   "cell_type": "markdown",
   "metadata": {},
   "source": [
    "### Modelado de la Red: Inicialización y Definición"
   ]
  },
  {
   "cell_type": "code",
   "execution_count": 8,
   "metadata": {},
   "outputs": [
    {
     "name": "stdout",
     "output_type": "stream",
     "text": [
      "_________________________________________________________________\n",
      "Layer (type)                 Output Shape              Param #   \n",
      "=================================================================\n",
      "dense_1 (Dense)              (None, 4)                 16        \n",
      "_________________________________________________________________\n",
      "dense_2 (Dense)              (None, 60)                300       \n",
      "_________________________________________________________________\n",
      "dense_3 (Dense)              (None, 1)                 61        \n",
      "=================================================================\n",
      "Total params: 377\n",
      "Trainable params: 377\n",
      "Non-trainable params: 0\n",
      "_________________________________________________________________\n"
     ]
    }
   ],
   "source": [
    "#Probar por diferentes funciones de activacion y con regularizacion\n",
    "\n",
    "# define and fit the final model\n",
    "model = Sequential()\n",
    "model.add(Dense(4, input_dim=3, activation='relu'))\n",
    "\n",
    "model.add(Dense(60, activation='relu'))\n",
    "\n",
    "model.add(Dense(1, activation='linear'))\n",
    "model.compile(loss='mse', optimizer='adam')\n",
    "\n",
    "model.summary()"
   ]
  },
  {
   "cell_type": "markdown",
   "metadata": {},
   "source": [
    "### Entrenamiento del Modelo"
   ]
  },
  {
   "cell_type": "code",
   "execution_count": 9,
   "metadata": {
    "scrolled": true
   },
   "outputs": [
    {
     "data": {
      "text/plain": [
       "<keras.callbacks.History at 0x2348c778d68>"
      ]
     },
     "execution_count": 9,
     "metadata": {},
     "output_type": "execute_result"
    }
   ],
   "source": [
    "model.fit(X_train_rs, Y_train, epochs=1000, verbose=0)"
   ]
  },
  {
   "cell_type": "markdown",
   "metadata": {},
   "source": [
    "### Predicción"
   ]
  },
  {
   "cell_type": "code",
   "execution_count": 10,
   "metadata": {
    "scrolled": true
   },
   "outputs": [
    {
     "name": "stdout",
     "output_type": "stream",
     "text": [
      "X=[ 0.14841222 -0.00978376  0.74454267], Predicted=[ 39.19157028]\n",
      "X=[ 0.67870035  0.42920462  0.72532964], Predicted=[ 38.9119873]\n",
      "X=[ 0.10552951  0.0660427   0.72383443], Predicted=[ 38.19433975]\n",
      "X=[ 0.53440708  0.60617639  0.72395016], Predicted=[ 36.60814667]\n",
      "X=[-0.27787808 -0.40734705  0.71721627], Predicted=[ 40.73063278]\n",
      "X=[ 0.72622273  0.52688008  0.71368385], Predicted=[ 38.36362839]\n",
      "X=[ 0.95902982  1.83303334  0.72238575], Predicted=[ 24.0255146]\n",
      "X=[-0.1145178  -0.02506426  0.73332219], Predicted=[ 37.73138809]\n",
      "X=[ 0.75259235  0.69380073  0.49732534], Predicted=[ 35.01395798]\n",
      "X=[ 1.03377375  2.61611584  0.5161604 ], Predicted=[ 24.91234398]\n",
      "X=[-1.31198392 -1.58791129 -0.19540786], Predicted=[ 49.38991547]\n",
      "X=[ 0.7318462   0.53746164 -0.00366469], Predicted=[ 33.42244339]\n",
      "X=[-0.57526617 -1.16568092 -0.02818594], Predicted=[ 45.30125427]\n",
      "X=[ 0.56181694  1.17413521  0.24756095], Predicted=[ 23.20754814]\n",
      "X=[ 1.09422682  3.53299083 -0.12254899], Predicted=[ 24.95469093]\n",
      "X=[-0.61202881 -1.14595897  0.24870623], Predicted=[ 45.5329628]\n",
      "X=[ 0.6452373   1.68389809  0.55059102], Predicted=[ 22.46668625]\n",
      "X=[-2.23290512 -1.80506509  0.71787807], Predicted=[ 48.22636032]\n",
      "X=[ 0.90334597  0.86441739  0.70623897], Predicted=[ 34.80354691]\n",
      "X=[-0.22465206 -0.46900569  0.70943508], Predicted=[ 41.61034775]\n",
      "X=[ 0.62478492  1.06626511  0.70208164], Predicted=[ 29.77807617]\n",
      "X=[-0.6225363  -1.18932211  0.7084478 ], Predicted=[ 46.85214996]\n",
      "X=[ 0.70848434  1.82098196  0.70026085], Predicted=[ 23.60089302]\n",
      "X=[-0.37425538 -0.48167546  0.70513175], Predicted=[ 40.96601868]\n",
      "X=[ 0.53247399  0.61419673  0.70482474], Predicted=[ 36.41099167]\n",
      "X=[-0.60793579 -0.68847485  0.70976246], Predicted=[ 41.87316513]\n",
      "X=[ 0.1628039   1.3961146   0.69511117], Predicted=[ 25.25792122]\n",
      "X=[-0.12655488 -0.11078116  0.44778363], Predicted=[ 37.96728134]\n",
      "X=[ 0.71874083  1.14087501  0.59225904], Predicted=[ 27.90532303]\n",
      "X=[-0.32332917 -0.47707403  0.62088737], Predicted=[ 41.0115242]\n",
      "X=[ 1.09642717  1.38110024  0.57738679], Predicted=[ 25.50861931]\n",
      "X=[ 0.23633576 -0.87946755 -0.85540444], Predicted=[ 44.67934799]\n",
      "X=[ 0.89247321  0.69289199 -0.87608575], Predicted=[ 33.54837418]\n",
      "X=[-0.33493833 -0.86618635 -0.80756469], Predicted=[ 43.03890991]\n",
      "X=[ 0.35276093  0.42378782 -0.75068332], Predicted=[ 33.07870865]\n",
      "X=[-0.29527996 -0.39590983  0.25290072], Predicted=[ 39.60026932]\n",
      "X=[-2.4450808  -2.95873054  0.71523888], Predicted=[ 63.37036514]\n",
      "X=[ 0.98220015  1.69447239  0.7168061 ], Predicted=[ 24.66466522]\n",
      "X=[ -8.75270792e-05  -1.36712183e+00   7.22670387e-01], Predicted=[ 51.86347198]\n",
      "X=[ 0.6987902   1.26247626  0.71248079], Predicted=[ 26.81991196]\n",
      "X=[-0.04791999 -0.46605606  0.70642435], Predicted=[ 42.47689056]\n",
      "X=[ 0.61011205  0.59605591  0.70550461], Predicted=[ 37.04227829]\n",
      "X=[-1.67196776 -1.75523356  0.7037089 ], Predicted=[ 48.53515244]\n",
      "X=[ 0.07836346 -0.70228602  0.62128983], Predicted=[ 45.34056473]\n",
      "X=[ 1.05640958  1.24851624 -0.89398532], Predicted=[ 28.05800819]\n",
      "X=[ 0.86715784  1.60496659 -0.89603029], Predicted=[ 22.78283501]\n",
      "X=[-0.34944749 -0.31778207 -0.89837411], Predicted=[ 36.03263855]\n",
      "X=[ 0.66613346  0.86593964 -0.89927124], Predicted=[ 30.27067757]\n",
      "X=[-0.56838157 -0.79003216 -0.90782208], Predicted=[ 41.87483215]\n",
      "X=[ 0.82038448  1.49223138 -0.91411642], Predicted=[ 23.88644218]\n",
      "X=[-0.34653846 -1.01114027 -0.90956615], Predicted=[ 45.24512863]\n",
      "X=[ 1.03546931  3.19193614 -0.90785575], Predicted=[ 21.94518852]\n",
      "X=[-0.14679508 -0.36801436 -0.90511832], Predicted=[ 37.57369614]\n",
      "X=[ 0.59832144  0.92626292 -0.9023754 ], Predicted=[ 29.17723656]\n",
      "X=[-0.1704839  -0.1894248  -0.89716467], Predicted=[ 36.17072296]\n",
      "X=[ 0.41937078  0.48330931 -0.89766064], Predicted=[ 33.23106766]\n",
      "X=[-1.37205326 -1.2711356  -0.89295204], Predicted=[ 46.91727829]\n",
      "X=[ 0.69245075  1.60223044 -0.90198523], Predicted=[ 21.81125259]\n",
      "X=[ 0.65626865  1.5421149  -0.89986882], Predicted=[ 22.29676437]\n",
      "X=[ 0.01901219 -0.65283881 -0.89561857], Predicted=[ 41.13290787]\n",
      "X=[ 0.45465149  1.02428936 -0.90230755], Predicted=[ 27.18831444]\n",
      "X=[-0.08871661 -0.54316383 -0.90103853], Predicted=[ 39.44268799]\n",
      "X=[ 0.76125591  2.18970668 -0.91068924], Predicted=[ 20.18545341]\n",
      "X=[-1.54336722 -1.55282705 -0.64062291], Predicted=[ 49.73810959]\n",
      "X=[ 0.7312565   1.60493692 -0.44510092], Predicted=[ 20.56160545]\n",
      "X=[ 0.58430711  1.55048725 -0.4144235 ], Predicted=[ 20.24217796]\n",
      "X=[-0.17870241 -0.72197536 -0.5094384 ], Predicted=[ 41.85916519]\n",
      "X=[ 0.75096773  0.5647274  -0.92497962], Predicted=[ 34.33761215]\n",
      "X=[-2.31843743 -2.31513659 -0.43546448], Predicted=[ 58.08921051]\n",
      "X=[ 0.31035075 -0.24892364 -0.78837705], Predicted=[ 39.3404808]\n",
      "X=[ 0.48969583  0.5695431  -0.92192959], Predicted=[ 32.74544144]\n",
      "X=[-0.70032539 -1.71363104 -0.89356488], Predicted=[ 54.04013824]\n",
      "X=[ 1.44421901  0.4144468  -0.89673957], Predicted=[ 39.91285706]\n",
      "X=[ 0.74283755 -0.15643366 -0.90787834], Predicted=[ 41.27331161]\n",
      "X=[ 0.83273501  0.7670436  -0.9106568 ], Predicted=[ 32.439785]\n",
      "X=[ 0.71607049 -0.13095655 -0.91698865], Predicted=[ 40.94976425]\n",
      "X=[ 0.43757381 -0.34112312 -0.91628373], Predicted=[ 40.9715004]\n",
      "X=[ 0.31686057 -0.07016096 -0.91809118], Predicted=[ 38.274189]\n",
      "X=[ 0.9241166   0.16073726 -0.93779388], Predicted=[ 39.70764542]\n",
      "X=[-2.54761542  0.21920743  0.01384885], Predicted=[ 22.18444061]\n"
     ]
    }
   ],
   "source": [
    "# make a prediction\n",
    "Y_pred = model.predict(X_test_rs)\n",
    "\n",
    "# show the inputs and predicted outputs\n",
    "for i in range(len(X_test_rs)):\n",
    "        print(\"X=%s, Predicted=%s\" % (X_test_rs[i], Y_pred[i]))\n"
   ]
  },
  {
   "cell_type": "code",
   "execution_count": 12,
   "metadata": {},
   "outputs": [
    {
     "data": {
      "text/html": [
       "<div>\n",
       "<style>\n",
       "    .dataframe thead tr:only-child th {\n",
       "        text-align: right;\n",
       "    }\n",
       "\n",
       "    .dataframe thead th {\n",
       "        text-align: left;\n",
       "    }\n",
       "\n",
       "    .dataframe tbody tr th {\n",
       "        vertical-align: top;\n",
       "    }\n",
       "</style>\n",
       "<table border=\"1\" class=\"dataframe\">\n",
       "  <thead>\n",
       "    <tr style=\"text-align: right;\">\n",
       "      <th></th>\n",
       "      <th>pwr</th>\n",
       "      <th>porc</th>\n",
       "      <th>viento_aparente</th>\n",
       "      <th>spd</th>\n",
       "      <th>Y_pred</th>\n",
       "      <th>diff</th>\n",
       "    </tr>\n",
       "  </thead>\n",
       "  <tbody>\n",
       "    <tr>\n",
       "      <th>0</th>\n",
       "      <td>196.808012</td>\n",
       "      <td>-0.399565</td>\n",
       "      <td>14.918299</td>\n",
       "      <td>39.688230</td>\n",
       "      <td>39.191570</td>\n",
       "      <td>0.496659</td>\n",
       "    </tr>\n",
       "    <tr>\n",
       "      <th>1</th>\n",
       "      <td>230.996299</td>\n",
       "      <td>0.523132</td>\n",
       "      <td>14.577416</td>\n",
       "      <td>32.568368</td>\n",
       "      <td>38.911987</td>\n",
       "      <td>-6.343619</td>\n",
       "    </tr>\n",
       "    <tr>\n",
       "      <th>2</th>\n",
       "      <td>194.043315</td>\n",
       "      <td>-0.240187</td>\n",
       "      <td>14.550887</td>\n",
       "      <td>36.984000</td>\n",
       "      <td>38.194340</td>\n",
       "      <td>-1.210340</td>\n",
       "    </tr>\n",
       "    <tr>\n",
       "      <th>3</th>\n",
       "      <td>221.693546</td>\n",
       "      <td>0.895103</td>\n",
       "      <td>14.552940</td>\n",
       "      <td>31.571813</td>\n",
       "      <td>36.608147</td>\n",
       "      <td>-5.036333</td>\n",
       "    </tr>\n",
       "    <tr>\n",
       "      <th>4</th>\n",
       "      <td>169.324586</td>\n",
       "      <td>-1.235191</td>\n",
       "      <td>14.433466</td>\n",
       "      <td>41.239149</td>\n",
       "      <td>40.730633</td>\n",
       "      <td>0.508516</td>\n",
       "    </tr>\n",
       "  </tbody>\n",
       "</table>\n",
       "</div>"
      ],
      "text/plain": [
       "          pwr      porc  viento_aparente        spd     Y_pred      diff\n",
       "0  196.808012 -0.399565        14.918299  39.688230  39.191570  0.496659\n",
       "1  230.996299  0.523132        14.577416  32.568368  38.911987 -6.343619\n",
       "2  194.043315 -0.240187        14.550887  36.984000  38.194340 -1.210340\n",
       "3  221.693546  0.895103        14.552940  31.571813  36.608147 -5.036333\n",
       "4  169.324586 -1.235191        14.433466  41.239149  40.730633  0.508516"
      ]
     },
     "execution_count": 12,
     "metadata": {},
     "output_type": "execute_result"
    }
   ],
   "source": [
    "#Creamos el dataframe de validación\n",
    "test_val = pd.DataFrame(X_test)\n",
    "test_val.columns = ([\"pwr\",\"porc\",\"viento_aparente\"])\n",
    "test_val[\"spd\"] = Y_test\n",
    "test_val[\"Y_pred\"] = Y_pred\n",
    "test_val[\"diff\"] = test_val[\"spd\"]-test_val[\"Y_pred\"]\n",
    "test_val.head()"
   ]
  },
  {
   "cell_type": "code",
   "execution_count": 13,
   "metadata": {},
   "outputs": [
    {
     "data": {
      "text/plain": [
       "(array([  6.,   8.,  13.,  15.,  17.,  11.,   5.,   4.,   0.,   1.]),\n",
       " array([-12.34764542,  -9.77783906,  -7.2080327 ,  -4.63822634,\n",
       "         -2.06841998,   0.50138638,   3.07119274,   5.6409991 ,\n",
       "          8.21080546,  10.78061182,  13.35041818]),\n",
       " <a list of 10 Patch objects>)"
      ]
     },
     "execution_count": 13,
     "metadata": {},
     "output_type": "execute_result"
    },
    {
     "data": {
      "image/png": "[encoded data removed]",
      "text/plain": [
       "<matplotlib.figure.Figure at 0x2348dea7710>"
      ]
     },
     "metadata": {},
     "output_type": "display_data"
    }
   ],
   "source": [
    "#Ploteamos las diferencias entre las velocidades reales y las predichas por el modelo\n",
    "plt.hist(test_val['diff'])"
   ]
  },
  {
   "cell_type": "code",
   "execution_count": 15,
   "metadata": {
    "scrolled": true
   },
   "outputs": [
    {
     "name": "stdout",
     "output_type": "stream",
     "text": [
      "Predicciones:\n",
      "36.07100296020508\n",
      "63.3704\n",
      "20.1855\n",
      "Diferencias:\n",
      "-2.4515812626348454\n",
      "13.3504181797\n",
      "-12.3476454163\n"
     ]
    }
   ],
   "source": [
    "#Mostramos los valores significativos de las predicciones y la diferencia con los reales\n",
    "\n",
    "print(\"Predicciones:\")\n",
    "print(test_val[\"Y_pred\"].mean())\n",
    "print(test_val[\"Y_pred\"].max())\n",
    "print(test_val[\"Y_pred\"].min())\n",
    "\n",
    "print(\"Diferencias:\")\n",
    "print(test_val[\"diff\"].mean())\n",
    "print(test_val[\"diff\"].max())\n",
    "print(test_val[\"diff\"].min())"
   ]
  },
  {
   "cell_type": "markdown",
   "metadata": {},
   "source": [
    "#### Comprobaciones finales del resultado"
   ]
  },
  {
   "cell_type": "code",
   "execution_count": 17,
   "metadata": {
    "collapsed": true
   },
   "outputs": [],
   "source": [
    "test_val['dist'] = df_test['dist']\n",
    "test_val['time_seg'] = df_test['time_seg']\n",
    "test_val['time_seg_pred'] = test_val['dist']/(test_val['Y_pred']/3.6)"
   ]
  },
  {
   "cell_type": "code",
   "execution_count": 18,
   "metadata": {},
   "outputs": [
    {
     "name": "stdout",
     "output_type": "stream",
     "text": [
      "Tiempo Real: 3:08:33\n",
      "Tiempo Predicho: 2:38:39.882438\n"
     ]
    }
   ],
   "source": [
    "tiempo_real = test_val['time_seg'].sum()\n",
    "tiempo_pred = test_val['time_seg_pred'].sum()\n",
    "print('Tiempo Real: %s' %str(datetime.timedelta(seconds=int(tiempo_real))))\n",
    "print('Tiempo Predicho: %s' %str(datetime.timedelta(seconds=tiempo_pred)))"
   ]
  },
  {
   "cell_type": "markdown",
   "metadata": {
    "collapsed": true
   },
   "source": [
    "#### Mostramos los datos con mayor diferencia para analizar"
   ]
  },
  {
   "cell_type": "code",
   "execution_count": 21,
   "metadata": {},
   "outputs": [
    {
     "data": {
      "text/html": [
       "<div>\n",
       "<style>\n",
       "    .dataframe thead tr:only-child th {\n",
       "        text-align: right;\n",
       "    }\n",
       "\n",
       "    .dataframe thead th {\n",
       "        text-align: left;\n",
       "    }\n",
       "\n",
       "    .dataframe tbody tr th {\n",
       "        vertical-align: top;\n",
       "    }\n",
       "</style>\n",
       "<table border=\"1\" class=\"dataframe\">\n",
       "  <thead>\n",
       "    <tr style=\"text-align: right;\">\n",
       "      <th></th>\n",
       "      <th>pwr</th>\n",
       "      <th>porc</th>\n",
       "      <th>viento_aparente</th>\n",
       "      <th>spd</th>\n",
       "      <th>Y_pred</th>\n",
       "      <th>diff</th>\n",
       "      <th>dist</th>\n",
       "      <th>time_seg</th>\n",
       "      <th>time_seg_pred</th>\n",
       "    </tr>\n",
       "  </thead>\n",
       "  <tbody>\n",
       "    <tr>\n",
       "      <th>19</th>\n",
       "      <td>257.785769</td>\n",
       "      <td>7.046886</td>\n",
       "      <td>-0.465893</td>\n",
       "      <td>12.922105</td>\n",
       "      <td>24.954691</td>\n",
       "      <td>-12.032586</td>\n",
       "      <td>3069.000000</td>\n",
       "      <td>855</td>\n",
       "      <td>442.738406</td>\n",
       "    </tr>\n",
       "    <tr>\n",
       "      <th>22</th>\n",
       "      <td>43.281740</td>\n",
       "      <td>-4.173012</td>\n",
       "      <td>14.445208</td>\n",
       "      <td>61.576779</td>\n",
       "      <td>48.226360</td>\n",
       "      <td>13.350418</td>\n",
       "      <td>3249.885532</td>\n",
       "      <td>190</td>\n",
       "      <td>242.597357</td>\n",
       "    </tr>\n",
       "    <tr>\n",
       "      <th>102</th>\n",
       "      <td>142.088920</td>\n",
       "      <td>-3.980829</td>\n",
       "      <td>-14.145482</td>\n",
       "      <td>43.944252</td>\n",
       "      <td>54.040138</td>\n",
       "      <td>-10.095886</td>\n",
       "      <td>1184.053457</td>\n",
       "      <td>97</td>\n",
       "      <td>78.878262</td>\n",
       "    </tr>\n",
       "    <tr>\n",
       "      <th>120</th>\n",
       "      <td>246.818567</td>\n",
       "      <td>-0.041152</td>\n",
       "      <td>-14.930205</td>\n",
       "      <td>27.360000</td>\n",
       "      <td>39.707645</td>\n",
       "      <td>-12.347645</td>\n",
       "      <td>152.000000</td>\n",
       "      <td>20</td>\n",
       "      <td>13.780721</td>\n",
       "    </tr>\n",
       "  </tbody>\n",
       "</table>\n",
       "</div>"
      ],
      "text/plain": [
       "            pwr      porc  viento_aparente        spd     Y_pred       diff  \\\n",
       "19   257.785769  7.046886        -0.465893  12.922105  24.954691 -12.032586   \n",
       "22    43.281740 -4.173012        14.445208  61.576779  48.226360  13.350418   \n",
       "102  142.088920 -3.980829       -14.145482  43.944252  54.040138 -10.095886   \n",
       "120  246.818567 -0.041152       -14.930205  27.360000  39.707645 -12.347645   \n",
       "\n",
       "            dist  time_seg  time_seg_pred  \n",
       "19   3069.000000       855     442.738406  \n",
       "22   3249.885532       190     242.597357  \n",
       "102  1184.053457        97      78.878262  \n",
       "120   152.000000        20      13.780721  "
      ]
     },
     "execution_count": 21,
     "metadata": {},
     "output_type": "execute_result"
    }
   ],
   "source": [
    "test_val[(test_val[\"diff\"]>8) | (test_val[\"diff\"]<-10)]"
   ]
  },
  {
   "cell_type": "markdown",
   "metadata": {
    "collapsed": true
   },
   "source": [
    "### Exportamos el Modelo para ser usado en el Simulador"
   ]
  },
  {
   "cell_type": "code",
   "execution_count": 22,
   "metadata": {
    "collapsed": true
   },
   "outputs": [],
   "source": [
    "pickle.dump(scalarX, open(\"Scaler.model\", 'wb'))\n",
    "\n",
    "\n",
    "model.save(\"TF_Tramos_2.model\")\n",
    "#Para cargar el modelo\n",
    "#https://keras.io/getting-started/faq/#how-can-i-save-a-keras-model"
   ]
  }
 ],
 "metadata": {
  "kernelspec": {
   "display_name": "Python 3",
   "language": "python",
   "name": "python3"
  },
  "language_info": {
   "codemirror_mode": {
    "name": "ipython",
    "version": 3
   },
   "file_extension": ".py",
   "mimetype": "text/x-python",
   "name": "python",
   "nbconvert_exporter": "python",
   "pygments_lexer": "ipython3",
   "version": "3.6.1"
  }
 },
 "nbformat": 4,
 "nbformat_minor": 2
}
